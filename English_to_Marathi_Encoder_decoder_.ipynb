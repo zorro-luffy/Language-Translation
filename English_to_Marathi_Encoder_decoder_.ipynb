{
  "cells": [
    {
      "cell_type": "code",
      "execution_count": null,
      "metadata": {
        "id": "tErRGCja_f6J"
      },
      "outputs": [],
      "source": [
        "import pandas as pd\n",
        "import numpy as np\n",
        "import string\n",
        "from string import digits\n",
        "import matplotlib.pyplot as plt\n",
        "%matplotlib inline\n",
        "import re\n",
        "from sklearn.utils import shuffle\n",
        "from sklearn.model_selection import train_test_split\n",
        "from keras.layers import Input, LSTM, Embedding, Dense, Bidirectional\n",
        "from keras.models import Model\n",
        "import nltk"
      ]
    },
    {
      "cell_type": "code",
      "execution_count": null,
      "metadata": {
        "colab": {
          "base_uri": "https://localhost:8080/"
        },
        "id": "ColWDbaZM6eP",
        "outputId": "9b236759-f7cf-4389-af30-4013357ce3bf"
      },
      "outputs": [
        {
          "name": "stdout",
          "output_type": "stream",
          "text": [
            "Mounted at /content/gdrive\n"
          ]
        }
      ],
      "source": [
        "from google.colab import drive\n",
        "drive.mount('/content/gdrive')"
      ]
    },
    {
      "cell_type": "code",
      "execution_count": null,
      "metadata": {
        "id": "_tr2rjlh_f6N"
      },
      "outputs": [],
      "source": [
        "lines= pd.read_table('/content/gdrive/MyDrive/Deep Learning All Batches/UNITWISE NOTES/Unit4-5 SEQUENTIAL MODEL/LSTM Lab /mar.txt', names=['eng', 'mar', 'noise'])"
      ]
    },
    {
      "cell_type": "code",
      "execution_count": null,
      "metadata": {
        "colab": {
          "base_uri": "https://localhost:8080/"
        },
        "id": "3t71eskV_f6R",
        "outputId": "b3aa07c5-d6be-4b56-e677-4c73f00d9575"
      },
      "outputs": [
        {
          "data": {
            "text/plain": [
              "(46995, 3)"
            ]
          },
          "execution_count": 6,
          "metadata": {},
          "output_type": "execute_result"
        }
      ],
      "source": [
        "lines.shape"
      ]
    },
    {
      "cell_type": "markdown",
      "metadata": {
        "id": "hE4CdDmkglPk"
      },
      "source": [
        "**Clean the source and target sentences.**"
      ]
    },
    {
      "cell_type": "code",
      "execution_count": null,
      "metadata": {
        "id": "oKl11KFp_f6V"
      },
      "outputs": [],
      "source": [
        "# Lowercase all characters\n",
        "lines.eng=lines.eng.apply(lambda x: x.lower())\n",
        "lines.mar=lines.mar.apply(lambda x: x.lower())"
      ]
    },
    {
      "cell_type": "code",
      "execution_count": null,
      "metadata": {
        "id": "6WWks43a_f6Y"
      },
      "outputs": [],
      "source": [
        "# Remove quotes\n",
        "lines.eng=lines.eng.apply(lambda x: re.sub(\"'\", '', x))\n",
        "lines.mar=lines.mar.apply(lambda x: re.sub(\"'\", '', x))"
      ]
    },
    {
      "cell_type": "code",
      "execution_count": null,
      "metadata": {
        "id": "upRsMklk_f6a"
      },
      "outputs": [],
      "source": [
        "exclude = set(string.punctuation) # Set of all special characters\n",
        "# Remove all the special characters\n",
        "lines.eng=lines.eng.apply(lambda x: ''.join(ch for ch in x if ch not in exclude))\n",
        "lines.mar=lines.mar.apply(lambda x: ''.join(ch for ch in x if ch not in exclude))"
      ]
    },
    {
      "cell_type": "code",
      "execution_count": null,
      "metadata": {
        "id": "HZG8pnJT_f6d"
      },
      "outputs": [],
      "source": [
        "# Remove all numbers from text\n",
        "remove_digits = str.maketrans('', '', digits)\n",
        "lines.eng=lines.eng.apply(lambda x: x.translate(remove_digits))\n",
        "lines.mar = lines.mar.apply(lambda x: re.sub(\"[२३०८१५७९४६]\", \"\", x))"
      ]
    },
    {
      "cell_type": "code",
      "execution_count": null,
      "metadata": {
        "id": "vOpKIYI0_f6g"
      },
      "outputs": [],
      "source": [
        "# Remove extra spaces\n",
        "lines.eng=lines.eng.apply(lambda x: x.strip())\n",
        "lines.mar=lines.mar.apply(lambda x: x.strip())\n",
        "lines.eng=lines.eng.apply(lambda x: re.sub(\" +\", \" \", x))\n",
        "lines.mar=lines.mar.apply(lambda x: re.sub(\" +\", \" \", x))"
      ]
    },
    {
      "cell_type": "code",
      "execution_count": null,
      "metadata": {
        "id": "0EI-l78d_f6i"
      },
      "outputs": [],
      "source": [
        "# Add start and end tokens to target sequences\n",
        "lines.mar = lines.mar.apply(lambda x : 'START_ '+ x + ' _END')"
      ]
    },
    {
      "cell_type": "code",
      "execution_count": null,
      "metadata": {
        "colab": {
          "base_uri": "https://localhost:8080/",
          "height": 206
        },
        "id": "yA1xkh3Y_f6k",
        "outputId": "7ff2279d-8682-4693-a0c2-03b3b6f4e6e8"
      },
      "outputs": [
        {
          "data": {
            "text/html": [
              "\n",
              "  <div id=\"df-63340230-ccc0-45ea-beee-3ede3a2d8ad9\" class=\"colab-df-container\">\n",
              "    <div>\n",
              "<style scoped>\n",
              "    .dataframe tbody tr th:only-of-type {\n",
              "        vertical-align: middle;\n",
              "    }\n",
              "\n",
              "    .dataframe tbody tr th {\n",
              "        vertical-align: top;\n",
              "    }\n",
              "\n",
              "    .dataframe thead th {\n",
              "        text-align: right;\n",
              "    }\n",
              "</style>\n",
              "<table border=\"1\" class=\"dataframe\">\n",
              "  <thead>\n",
              "    <tr style=\"text-align: right;\">\n",
              "      <th></th>\n",
              "      <th>eng</th>\n",
              "      <th>mar</th>\n",
              "      <th>noise</th>\n",
              "    </tr>\n",
              "  </thead>\n",
              "  <tbody>\n",
              "    <tr>\n",
              "      <th>9727</th>\n",
              "      <td>wheres my brandy</td>\n",
              "      <td>START_ माझी ब्रँडी कुठेय _END</td>\n",
              "      <td>CC-BY 2.0 (France) Attribution: tatoeba.org #2...</td>\n",
              "    </tr>\n",
              "    <tr>\n",
              "      <th>10319</th>\n",
              "      <td>he raised his hand</td>\n",
              "      <td>START_ त्याने त्याचा हात वर केला _END</td>\n",
              "      <td>CC-BY 2.0 (France) Attribution: tatoeba.org #3...</td>\n",
              "    </tr>\n",
              "    <tr>\n",
              "      <th>444</th>\n",
              "      <td>stay calm</td>\n",
              "      <td>START_ शांत राहा _END</td>\n",
              "      <td>CC-BY 2.0 (France) Attribution: tatoeba.org #7...</td>\n",
              "    </tr>\n",
              "    <tr>\n",
              "      <th>15821</th>\n",
              "      <td>its almost midnight</td>\n",
              "      <td>START_ जवळजवळ मध्यरात्र झाली आहे _END</td>\n",
              "      <td>CC-BY 2.0 (France) Attribution: tatoeba.org #3...</td>\n",
              "    </tr>\n",
              "    <tr>\n",
              "      <th>30484</th>\n",
              "      <td>i dont read the newspapers</td>\n",
              "      <td>START_ मी वृत्तपत्र वाचत नाही _END</td>\n",
              "      <td>CC-BY 2.0 (France) Attribution: tatoeba.org #9...</td>\n",
              "    </tr>\n",
              "  </tbody>\n",
              "</table>\n",
              "</div>\n",
              "    <div class=\"colab-df-buttons\">\n",
              "\n",
              "  <div class=\"colab-df-container\">\n",
              "    <button class=\"colab-df-convert\" onclick=\"convertToInteractive('df-63340230-ccc0-45ea-beee-3ede3a2d8ad9')\"\n",
              "            title=\"Convert this dataframe to an interactive table.\"\n",
              "            style=\"display:none;\">\n",
              "\n",
              "  <svg xmlns=\"http://www.w3.org/2000/svg\" height=\"24px\" viewBox=\"0 -960 960 960\">\n",
              "    <path d=\"M120-120v-720h720v720H120Zm60-500h600v-160H180v160Zm220 220h160v-160H400v160Zm0 220h160v-160H400v160ZM180-400h160v-160H180v160Zm440 0h160v-160H620v160ZM180-180h160v-160H180v160Zm440 0h160v-160H620v160Z\"/>\n",
              "  </svg>\n",
              "    </button>\n",
              "\n",
              "  <style>\n",
              "    .colab-df-container {\n",
              "      display:flex;\n",
              "      gap: 12px;\n",
              "    }\n",
              "\n",
              "    .colab-df-convert {\n",
              "      background-color: #E8F0FE;\n",
              "      border: none;\n",
              "      border-radius: 50%;\n",
              "      cursor: pointer;\n",
              "      display: none;\n",
              "      fill: #1967D2;\n",
              "      height: 32px;\n",
              "      padding: 0 0 0 0;\n",
              "      width: 32px;\n",
              "    }\n",
              "\n",
              "    .colab-df-convert:hover {\n",
              "      background-color: #E2EBFA;\n",
              "      box-shadow: 0px 1px 2px rgba(60, 64, 67, 0.3), 0px 1px 3px 1px rgba(60, 64, 67, 0.15);\n",
              "      fill: #174EA6;\n",
              "    }\n",
              "\n",
              "    .colab-df-buttons div {\n",
              "      margin-bottom: 4px;\n",
              "    }\n",
              "\n",
              "    [theme=dark] .colab-df-convert {\n",
              "      background-color: #3B4455;\n",
              "      fill: #D2E3FC;\n",
              "    }\n",
              "\n",
              "    [theme=dark] .colab-df-convert:hover {\n",
              "      background-color: #434B5C;\n",
              "      box-shadow: 0px 1px 3px 1px rgba(0, 0, 0, 0.15);\n",
              "      filter: drop-shadow(0px 1px 2px rgba(0, 0, 0, 0.3));\n",
              "      fill: #FFFFFF;\n",
              "    }\n",
              "  </style>\n",
              "\n",
              "    <script>\n",
              "      const buttonEl =\n",
              "        document.querySelector('#df-63340230-ccc0-45ea-beee-3ede3a2d8ad9 button.colab-df-convert');\n",
              "      buttonEl.style.display =\n",
              "        google.colab.kernel.accessAllowed ? 'block' : 'none';\n",
              "\n",
              "      async function convertToInteractive(key) {\n",
              "        const element = document.querySelector('#df-63340230-ccc0-45ea-beee-3ede3a2d8ad9');\n",
              "        const dataTable =\n",
              "          await google.colab.kernel.invokeFunction('convertToInteractive',\n",
              "                                                    [key], {});\n",
              "        if (!dataTable) return;\n",
              "\n",
              "        const docLinkHtml = 'Like what you see? Visit the ' +\n",
              "          '<a target=\"_blank\" href=https://colab.research.google.com/notebooks/data_table.ipynb>data table notebook</a>'\n",
              "          + ' to learn more about interactive tables.';\n",
              "        element.innerHTML = '';\n",
              "        dataTable['output_type'] = 'display_data';\n",
              "        await google.colab.output.renderOutput(dataTable, element);\n",
              "        const docLink = document.createElement('div');\n",
              "        docLink.innerHTML = docLinkHtml;\n",
              "        element.appendChild(docLink);\n",
              "      }\n",
              "    </script>\n",
              "  </div>\n",
              "\n",
              "\n",
              "<div id=\"df-088b98cc-1928-4150-994c-a463af6a4247\">\n",
              "  <button class=\"colab-df-quickchart\" onclick=\"quickchart('df-088b98cc-1928-4150-994c-a463af6a4247')\"\n",
              "            title=\"Suggest charts.\"\n",
              "            style=\"display:none;\">\n",
              "\n",
              "<svg xmlns=\"http://www.w3.org/2000/svg\" height=\"24px\"viewBox=\"0 0 24 24\"\n",
              "     width=\"24px\">\n",
              "    <g>\n",
              "        <path d=\"M19 3H5c-1.1 0-2 .9-2 2v14c0 1.1.9 2 2 2h14c1.1 0 2-.9 2-2V5c0-1.1-.9-2-2-2zM9 17H7v-7h2v7zm4 0h-2V7h2v10zm4 0h-2v-4h2v4z\"/>\n",
              "    </g>\n",
              "</svg>\n",
              "  </button>\n",
              "\n",
              "<style>\n",
              "  .colab-df-quickchart {\n",
              "      --bg-color: #E8F0FE;\n",
              "      --fill-color: #1967D2;\n",
              "      --hover-bg-color: #E2EBFA;\n",
              "      --hover-fill-color: #174EA6;\n",
              "      --disabled-fill-color: #AAA;\n",
              "      --disabled-bg-color: #DDD;\n",
              "  }\n",
              "\n",
              "  [theme=dark] .colab-df-quickchart {\n",
              "      --bg-color: #3B4455;\n",
              "      --fill-color: #D2E3FC;\n",
              "      --hover-bg-color: #434B5C;\n",
              "      --hover-fill-color: #FFFFFF;\n",
              "      --disabled-bg-color: #3B4455;\n",
              "      --disabled-fill-color: #666;\n",
              "  }\n",
              "\n",
              "  .colab-df-quickchart {\n",
              "    background-color: var(--bg-color);\n",
              "    border: none;\n",
              "    border-radius: 50%;\n",
              "    cursor: pointer;\n",
              "    display: none;\n",
              "    fill: var(--fill-color);\n",
              "    height: 32px;\n",
              "    padding: 0;\n",
              "    width: 32px;\n",
              "  }\n",
              "\n",
              "  .colab-df-quickchart:hover {\n",
              "    background-color: var(--hover-bg-color);\n",
              "    box-shadow: 0 1px 2px rgba(60, 64, 67, 0.3), 0 1px 3px 1px rgba(60, 64, 67, 0.15);\n",
              "    fill: var(--button-hover-fill-color);\n",
              "  }\n",
              "\n",
              "  .colab-df-quickchart-complete:disabled,\n",
              "  .colab-df-quickchart-complete:disabled:hover {\n",
              "    background-color: var(--disabled-bg-color);\n",
              "    fill: var(--disabled-fill-color);\n",
              "    box-shadow: none;\n",
              "  }\n",
              "\n",
              "  .colab-df-spinner {\n",
              "    border: 2px solid var(--fill-color);\n",
              "    border-color: transparent;\n",
              "    border-bottom-color: var(--fill-color);\n",
              "    animation:\n",
              "      spin 1s steps(1) infinite;\n",
              "  }\n",
              "\n",
              "  @keyframes spin {\n",
              "    0% {\n",
              "      border-color: transparent;\n",
              "      border-bottom-color: var(--fill-color);\n",
              "      border-left-color: var(--fill-color);\n",
              "    }\n",
              "    20% {\n",
              "      border-color: transparent;\n",
              "      border-left-color: var(--fill-color);\n",
              "      border-top-color: var(--fill-color);\n",
              "    }\n",
              "    30% {\n",
              "      border-color: transparent;\n",
              "      border-left-color: var(--fill-color);\n",
              "      border-top-color: var(--fill-color);\n",
              "      border-right-color: var(--fill-color);\n",
              "    }\n",
              "    40% {\n",
              "      border-color: transparent;\n",
              "      border-right-color: var(--fill-color);\n",
              "      border-top-color: var(--fill-color);\n",
              "    }\n",
              "    60% {\n",
              "      border-color: transparent;\n",
              "      border-right-color: var(--fill-color);\n",
              "    }\n",
              "    80% {\n",
              "      border-color: transparent;\n",
              "      border-right-color: var(--fill-color);\n",
              "      border-bottom-color: var(--fill-color);\n",
              "    }\n",
              "    90% {\n",
              "      border-color: transparent;\n",
              "      border-bottom-color: var(--fill-color);\n",
              "    }\n",
              "  }\n",
              "</style>\n",
              "\n",
              "  <script>\n",
              "    async function quickchart(key) {\n",
              "      const quickchartButtonEl =\n",
              "        document.querySelector('#' + key + ' button');\n",
              "      quickchartButtonEl.disabled = true;  // To prevent multiple clicks.\n",
              "      quickchartButtonEl.classList.add('colab-df-spinner');\n",
              "      try {\n",
              "        const charts = await google.colab.kernel.invokeFunction(\n",
              "            'suggestCharts', [key], {});\n",
              "      } catch (error) {\n",
              "        console.error('Error during call to suggestCharts:', error);\n",
              "      }\n",
              "      quickchartButtonEl.classList.remove('colab-df-spinner');\n",
              "      quickchartButtonEl.classList.add('colab-df-quickchart-complete');\n",
              "    }\n",
              "    (() => {\n",
              "      let quickchartButtonEl =\n",
              "        document.querySelector('#df-088b98cc-1928-4150-994c-a463af6a4247 button');\n",
              "      quickchartButtonEl.style.display =\n",
              "        google.colab.kernel.accessAllowed ? 'block' : 'none';\n",
              "    })();\n",
              "  </script>\n",
              "</div>\n",
              "    </div>\n",
              "  </div>\n"
            ],
            "text/plain": [
              "                              eng                                    mar  \\\n",
              "9727             wheres my brandy          START_ माझी ब्रँडी कुठेय _END   \n",
              "10319          he raised his hand  START_ त्याने त्याचा हात वर केला _END   \n",
              "444                     stay calm                  START_ शांत राहा _END   \n",
              "15821         its almost midnight  START_ जवळजवळ मध्यरात्र झाली आहे _END   \n",
              "30484  i dont read the newspapers     START_ मी वृत्तपत्र वाचत नाही _END   \n",
              "\n",
              "                                                   noise  \n",
              "9727   CC-BY 2.0 (France) Attribution: tatoeba.org #2...  \n",
              "10319  CC-BY 2.0 (France) Attribution: tatoeba.org #3...  \n",
              "444    CC-BY 2.0 (France) Attribution: tatoeba.org #7...  \n",
              "15821  CC-BY 2.0 (France) Attribution: tatoeba.org #3...  \n",
              "30484  CC-BY 2.0 (France) Attribution: tatoeba.org #9...  "
            ]
          },
          "execution_count": 19,
          "metadata": {},
          "output_type": "execute_result"
        }
      ],
      "source": [
        "lines.sample(5)"
      ]
    },
    {
      "cell_type": "markdown",
      "metadata": {
        "id": "8KVYveKqgzWt"
      },
      "source": [
        "Create a set of unique words both for source and target language from the dataset and sort them alphabetically"
      ]
    },
    {
      "cell_type": "code",
      "execution_count": null,
      "metadata": {
        "id": "AI64ueK6_f6n"
      },
      "outputs": [],
      "source": [
        "# Vocabulary of English\n",
        "all_eng_words=set()\n",
        "for eng in lines.eng:\n",
        "    for word in eng.split():\n",
        "        if word not in all_eng_words:\n",
        "            all_eng_words.add(word)\n",
        "\n",
        "# Vocabulary of Marathi\n",
        "all_marathi_words=set()\n",
        "for mar in lines.mar:\n",
        "    for word in mar.split():\n",
        "        if word not in all_marathi_words:\n",
        "            all_marathi_words.add(word)"
      ]
    },
    {
      "cell_type": "code",
      "execution_count": null,
      "metadata": {
        "colab": {
          "base_uri": "https://localhost:8080/"
        },
        "id": "M9_Mvd8p_f6q",
        "outputId": "8269a2df-9147-46db-fe9e-1fed5b38ea9b"
      },
      "outputs": [
        {
          "data": {
            "text/plain": [
              "34"
            ]
          },
          "execution_count": 21,
          "metadata": {},
          "output_type": "execute_result"
        }
      ],
      "source": [
        "# Max Length of source sequence\n",
        "lenght_list=[]\n",
        "for l in lines.eng:\n",
        "    lenght_list.append(len(l.split(' ')))\n",
        "max_length_src = np.max(lenght_list)\n",
        "max_length_src"
      ]
    },
    {
      "cell_type": "code",
      "execution_count": null,
      "metadata": {
        "colab": {
          "base_uri": "https://localhost:8080/"
        },
        "id": "MgBkPTCw_f6t",
        "outputId": "f8f46052-4f65-415e-b925-b10e3975a732"
      },
      "outputs": [
        {
          "data": {
            "text/plain": [
              "37"
            ]
          },
          "execution_count": 22,
          "metadata": {},
          "output_type": "execute_result"
        }
      ],
      "source": [
        "# Max Length of target sequence\n",
        "lenght_list=[]\n",
        "for l in lines.mar:\n",
        "    lenght_list.append(len(l.split(' ')))\n",
        "max_length_tar = np.max(lenght_list)\n",
        "max_length_tar"
      ]
    },
    {
      "cell_type": "code",
      "execution_count": null,
      "metadata": {
        "colab": {
          "base_uri": "https://localhost:8080/"
        },
        "id": "sJ5E4Up2_f6w",
        "outputId": "8fb42692-2975-4266-ce45-e6e73110b776"
      },
      "outputs": [
        {
          "data": {
            "text/plain": [
              "(5839, 14393)"
            ]
          },
          "execution_count": 23,
          "metadata": {},
          "output_type": "execute_result"
        }
      ],
      "source": [
        "input_words = sorted(list(all_eng_words))\n",
        "target_words = sorted(list(all_marathi_words))\n",
        "num_encoder_tokens = len(all_eng_words)+1\n",
        "num_decoder_tokens = len(all_marathi_words)+1\n",
        "num_encoder_tokens, num_decoder_tokens"
      ]
    },
    {
      "cell_type": "code",
      "execution_count": null,
      "metadata": {
        "colab": {
          "base_uri": "https://localhost:8080/"
        },
        "id": "hRtFISHQ_f6y",
        "outputId": "01589fd5-3e45-4718-eac8-12e3c899785f"
      },
      "outputs": [
        {
          "data": {
            "text/plain": [
              "14394"
            ]
          },
          "execution_count": 24,
          "metadata": {},
          "output_type": "execute_result"
        }
      ],
      "source": [
        "num_decoder_tokens += 1 # For zero padding\n",
        "num_decoder_tokens"
      ]
    },
    {
      "cell_type": "markdown",
      "metadata": {
        "id": "dXzwwgTchUKG"
      },
      "source": [
        "Create a word to index dictionary and an index to word dictionary for all unique source and target words in the dataset.\n",
        "Size of the word to vector will be based on the length of the source and target vocabulary"
      ]
    },
    {
      "cell_type": "code",
      "execution_count": null,
      "metadata": {
        "colab": {
          "base_uri": "https://localhost:8080/"
        },
        "id": "0OXh0TMt_f60",
        "outputId": "5f9acc54-19c0-4022-88ab-0be42434f41c"
      },
      "outputs": [
        {
          "name": "stdout",
          "output_type": "stream",
          "text": [
            "{'a': 1, 'abbreviation': 2, 'ability': 3, 'able': 4, 'about': 5, 'above': 6, 'abroad': 7, 'absent': 8, 'absolute': 9, 'absolutely': 10, 'absorb': 11, 'accent': 12, 'accept': 13, 'acceptable': 14, 'accepted': 15, 'access': 16, 'accessible': 17, 'accident': 18, 'accidentally': 19, 'accomplices': 20, 'according': 21, 'accordion': 22, 'account': 23, 'accusations': 24, 'accused': 25, 'accusing': 26, 'accustomed': 27, 'ace': 28, 'aces': 29, 'acetone': 30, 'ache': 31, 'aches': 32, 'achille': 33, 'achilles': 34, 'aching': 35, 'acid': 36, 'acknowledged': 37, 'acquired': 38, 'acres': 39, 'across': 40, 'act': 41, 'acted': 42, 'acting': 43, 'action': 44, 'activist': 45, 'actor': 46, 'actors': 47, 'actress': 48, 'acts': 49, 'actual': 50, 'actually': 51, 'add': 52, 'added': 53, 'addict': 54, 'addicted': 55, 'addition': 56, 'additional': 57, 'addon': 58, 'address': 59, 'adds': 60, 'administrative': 61, 'admire': 62, 'admit': 63, 'admitted': 64, 'adopt': 65, 'adopted': 66, 'adultery': 67, 'advance': 68, 'advantage': 69, 'adverb': 70, 'advice': 71, 'advised': 72, 'adviser': 73, 'advisers': 74, 'advisor': 75, 'affair': 76, 'affairs': 77, 'afford': 78, 'afghanistan': 79, 'afraid': 80, 'africa': 81, 'african': 82, 'africans': 83, 'after': 84, 'afternoon': 85, 'afterwards': 86, 'again': 87, 'against': 88, 'age': 89, 'agency': 90, 'ages': 91, 'aggressive': 92, 'ago': 93, 'agree': 94, 'agreed': 95, 'agreement': 96, 'agrees': 97, 'agriculture': 98, 'ah': 99, 'ahead': 100, 'aid': 101, 'aimed': 102, 'air': 103, 'airbag': 104, 'airplane': 105, 'airplanes': 106, 'airport': 107, 'alarm': 108, 'albany': 109, 'album': 110, 'alcohol': 111, 'alert': 112, 'alexander': 113, 'alfred': 114, 'algeria': 115, 'algerians': 116, 'ali': 117, 'alice': 118, 'aliens': 119, 'alike': 120, 'alive': 121, 'all': 122, 'allergic': 123, 'allied': 124, 'allies': 125, 'alligator': 126, 'allow': 127, 'allowed': 128, 'almonds': 129, 'almost': 130, 'alone': 131, 'along': 132, 'aloud': 133, 'alphabet': 134, 'alps': 135, 'already': 136, 'alright': 137, 'also': 138, 'alternative': 139, 'although': 140, 'always': 141, 'am': 142, 'amazon': 143, 'amazoncom': 144, 'ambassador': 145, 'ambulance': 146, 'amendment': 147, 'america': 148, 'american': 149, 'americans': 150, 'americas': 151, 'amiens': 152, 'ammunition': 153, 'among': 154, 'amounted': 155, 'amsterdam': 156, 'amused': 157, 'amusing': 158, 'an': 159, 'anaconda': 160, 'analyst': 161, 'ancestors': 162, 'anchorage': 163, 'ancient': 164, 'and': 165, 'anderson': 166, 'andes': 167, 'andorra': 168, 'android': 169, 'andy': 170, 'angel': 171, 'angeles': 172, 'anger': 173, 'angle': 174, 'angles': 175, 'angola': 176, 'angrily': 177, 'angry': 178, 'animal': 179, 'animals': 180, 'ankara': 181, 'ankle': 182, 'announced': 183, 'announcement': 184, 'another': 185, 'answer': 186, 'answered': 187, 'answering': 188, 'answers': 189, 'anthem': 190, 'antivirus': 191, 'ants': 192, 'any': 193, 'anybody': 194, 'anybodys': 195, 'anymore': 196, 'anyone': 197, 'anyones': 198, 'anything': 199, 'anytime': 200, 'anyway': 201, 'anywhere': 202, 'apartment': 203, 'apologize': 204, 'apologized': 205, 'apology': 206, 'app': 207, 'apparent': 208, 'appetite': 209, 'applauded': 210, 'apple': 211, 'apples': 212, 'applesauce': 213, 'application': 214, 'applied': 215, 'applies': 216, 'appointed': 217, 'appointment': 218, 'appoints': 219, 'approved': 220, 'approximately': 221, 'april': 222, 'apron': 223, 'aquarium': 224, 'arab': 225, 'arabia': 226, 'arabic': 227, 'arabs': 228, 'archer': 229, 'architecture': 230, 'arctic': 231, 'are': 232, 'area': 233, 'areas': 234, 'arent': 235, 'argue': 236, 'argued': 237, 'argues': 238, 'arguing': 239, 'arguments': 240, 'arizona': 241, 'arm': 242, 'armenia': 243, 'armenian': 244, 'arms': 245, 'armstrong': 246, 'army': 247, 'arose': 248, 'around': 249, 'arrange': 250, 'arranged': 251, 'arrest': 252, 'arrested': 253, 'arrive': 254, 'arrived': 255, 'arrives': 256, 'arrow': 257, 'art': 258, 'arthropods': 259, 'article': 260, 'articles': 261, 'artificial': 262, 'artillery': 263, 'artist': 264, 'artistic': 265, 'artists': 266, 'as': 267, 'asahi': 268, 'ashamed': 269, 'ashtrays': 270, 'asia': 271, 'asian': 272, 'asianamerican': 273, 'asians': 274, 'aside': 275, 'ask': 276, 'asked': 277, 'asking': 278, 'asks': 279, 'asleep': 280, 'assaulted': 281, 'assembled': 282, 'assertive': 283, 'assistant': 284, 'associate': 285, 'assume': 286, 'assuming': 287, 'assure': 288, 'astrology': 289, 'astronaut': 290, 'astronauts': 291, 'astronomy': 292, 'at': 293, 'ate': 294, 'atheist': 295, 'athens': 296, 'atlantic': 297, 'atlantis': 298, 'atm': 299, 'atmosphere': 300, 'atomic': 301, 'atone': 302, 'attached': 303, 'attaching': 304, 'attack': 305, 'attacked': 306, 'attacker': 307, 'attempted': 308, 'attend': 309, 'attended': 310, 'attention': 311, 'attitude': 312, 'attorney': 313, 'attractive': 314, 'auckland': 315, 'audience': 316, 'audio': 317, 'audiobook': 318, 'audition': 319, 'august': 320, 'aunt': 321, 'australia': 322, 'australian': 323, 'australias': 324, 'austria': 325, 'author': 326, 'authority': 327, 'authors': 328, 'autistic': 329, 'autobiography': 330, 'automatically': 331, 'autumn': 332, 'available': 333, 'avoid': 334, 'avoidable': 335, 'avoided': 336, 'avoiding': 337, 'avoids': 338, 'aw': 339, 'awake': 340, 'award': 341, 'awarded': 342, 'aware': 343, 'away': 344, 'axe': 345, 'b': 346, 'babbling': 347, 'babies': 348, 'baby': 349, 'babys': 350, 'bachelor': 351, 'back': 352, 'backed': 353, 'backlit': 354, 'backpack': 355, 'backward': 356, 'backwards': 357, 'bacon': 358, 'bacteria': 359, 'bad': 360, 'bag': 361, 'bagel': 362, 'baghdad': 363, 'bags': 364, 'baikal': 365, 'baked': 366, 'bakery': 367, 'baking': 368, 'bald': 369, 'baldheaded': 370, 'balkan': 371, 'ball': 372, 'ballerina': 373, 'ballet': 374, 'balloon': 375, 'ballpoint': 376, 'balls': 377, 'baloney': 378, 'baltic': 379, 'baltimore': 380, 'ban': 381, 'banana': 382, 'bananas': 383, 'band': 384, 'bandage': 385, 'bandwidth': 386, 'banged': 387, 'bangkok': 388, 'bangladesh': 389, 'bank': 390, 'banks': 391, 'banned': 392, 'bar': 393, 'barbecue': 394, 'barbecued': 395, 'barbeque': 396, 'barcelona': 397, 'barely': 398, 'bark': 399, 'barked': 400, 'barking': 401, 'barks': 402, 'bars': 403, 'bartender': 404, 'bartolomeo': 405, 'baseball': 406, 'based': 407, 'basement': 408, 'basho': 409, 'basket': 410, 'basketball': 411, 'basque': 412, 'bass': 413, 'bassoon': 414, 'bath': 415, 'bathing': 416, 'bathrobe': 417, 'bathroom': 418, 'bathrooms': 419, 'batman': 420, 'batter': 421, 'batteries': 422, 'battery': 423, 'battle': 424, 'battlefield': 425, 'battles': 426, 'be': 427, 'beach': 428, 'beak': 429, 'beaks': 430, 'bear': 431, 'beard': 432, 'bears': 433, 'beat': 434, 'beaten': 435, 'beating': 436, 'beatnik': 437, 'beats': 438, 'beautiful': 439, 'beauty': 440, 'became': 441, 'because': 442, 'become': 443, 'becomes': 444, 'becoming': 445, 'bed': 446, 'bedroom': 447, 'bedrooms': 448, 'beef': 449, 'been': 450, 'beer': 451, 'beers': 452, 'bees': 453, 'beethoven': 454, 'before': 455, 'beg': 456, 'began': 457, 'beggar': 458, 'beggars': 459, 'begin': 460, 'beginning': 461, 'beginnings': 462, 'begins': 463, 'begun': 464, 'behalf': 465, 'behave': 466, 'behavior': 467, 'behind': 468, 'beijing': 469, 'being': 470, 'belgium': 471, 'belgrade': 472, 'belief': 473, 'believe': 474, 'believed': 475, 'believes': 476, 'bell': 477, 'belleau': 478, 'belong': 479, 'belonged': 480, 'belongs': 481, 'below': 482, 'belt': 483, 'bench': 484, 'bend': 485, 'bending': 486, 'bends': 487, 'benjamin': 488, 'bent': 489, 'bergen': 490, 'berlin': 491, 'bern': 492, 'beside': 493, 'besides': 494, 'besieged': 495, 'best': 496, 'bet': 497, 'bethlehem': 498, 'betrayed': 499, 'better': 500, 'between': 501, 'beverage': 502, 'beware': 503, 'bible': 504, 'bicycle': 505, 'bicycles': 506, 'big': 507, 'bigger': 508, 'biggest': 509, 'bike': 510, 'bilingual': 511, 'bill': 512, 'billiards': 513, 'billion': 514, 'billionaire': 515, 'billions': 516, 'bills': 517, 'biochemist': 518, 'biographies': 519, 'biology': 520, 'bird': 521, 'birds': 522, 'birth': 523, 'birthday': 524, 'birthdays': 525, 'birthplace': 526, 'bishara': 527, 'bit': 528, 'bite': 529, 'bites': 530, 'biting': 531, 'bitten': 532, 'bitter': 533, 'biwa': 534, 'blabbermouth': 535, 'black': 536, 'blackberries': 537, 'blackboard': 538, 'blacklisted': 539, 'blackmailed': 540, 'blackmailing': 541, 'blacks': 542, 'blame': 543, 'blamed': 544, 'blank': 545, 'blanket': 546, 'blankets': 547, 'blasco': 548, 'blast': 549, 'bleach': 550, 'bled': 551, 'bleed': 552, 'bleeding': 553, 'bless': 554, 'blew': 555, 'blind': 556, 'blindfolded': 557, 'blog': 558, 'bloggers': 559, 'blondes': 560, 'blondie': 561, 'blood': 562, 'bloodshed': 563, 'bloom': 564, 'blooming': 565, 'blouse': 566, 'blow': 567, 'blowing': 568, 'blowtorch': 569, 'blt': 570, 'blue': 571, 'bluegrass': 572, 'boarding': 573, 'boat': 574, 'boats': 575, 'body': 576, 'bodyguard': 577, 'bodyguards': 578, 'boil': 579, 'boiled': 580, 'boiling': 581, 'bomb': 582, 'bombs': 583, 'bonaparte': 584, 'bond': 585, 'bones': 586, 'bongos': 587, 'book': 588, 'booklet': 589, 'bookmarked': 590, 'books': 591, 'bookshop': 592, 'bookstore': 593, 'boot': 594, 'booted': 595, 'boots': 596, 'border': 597, 'bored': 598, 'bores': 599, 'boring': 600, 'born': 601, 'borrowed': 602, 'boss': 603, 'boston': 604, 'botanist': 605, 'botany': 606, 'both': 607, 'bother': 608, 'bothered': 609, 'bothering': 610, 'bothers': 611, 'bottle': 612, 'bottles': 613, 'bottom': 614, 'bought': 615, 'bounced': 616, 'bow': 617, 'bowl': 618, 'bowler': 619, 'box': 620, 'boxer': 621, 'boy': 622, 'boyfriend': 623, 'boyfriends': 624, 'boys': 625, 'bra': 626, 'brad': 627, 'braided': 628, 'branches': 629, 'brand': 630, 'brandy': 631, 'brasilia': 632, 'brave': 633, 'brazil': 634, 'brazilian': 635, 'bread': 636, 'break': 637, 'breakfast': 638, 'breaking': 639, 'breaks': 640, 'breast': 641, 'breath': 642, 'breathe': 643, 'breathed': 644, 'breathing': 645, 'breeds': 646, 'bribery': 647, 'bribes': 648, 'brick': 649, 'bride': 650, 'bridge': 651, 'bridges': 652, 'brief': 653, 'briefcase': 654, 'bright': 655, 'brightest': 656, 'bring': 657, 'bringing': 658, 'brings': 659, 'britain': 660, 'british': 661, 'broccoli': 662, 'broke': 663, 'broken': 664, 'broom': 665, 'brother': 666, 'brothers': 667, 'brought': 668, 'brown': 669, 'brownies': 670, 'browser': 671, 'browsers': 672, 'bruises': 673, 'brunch': 674, 'brunettes': 675, 'brush': 676, 'brushing': 677, 'brussels': 678, 'bucharest': 679, 'bucket': 680, 'buckingham': 681, 'budapest': 682, 'buddhism': 683, 'buddhist': 684, 'bug': 685, 'bugs': 686, 'build': 687, 'building': 688, 'buildings': 689, 'built': 690, 'bulb': 691, 'bull': 692, 'bullet': 693, 'bulletproof': 694, 'bullets': 695, 'bullfighter': 696, 'bullfighting': 697, 'burger': 698, 'burgers': 699, 'burj': 700, 'burn': 701, 'burned': 702, 'burning': 703, 'burns': 704, 'burp': 705, 'burped': 706, 'burr': 707, 'burrs': 708, 'burst': 709, 'bury': 710, 'bus': 711, 'buses': 712, 'business': 713, 'businessman': 714, 'busy': 715, 'but': 716, 'butter': 717, 'buttered': 718, 'butterflies': 719, 'butterfly': 720, 'button': 721, 'buttoned': 722, 'buttons': 723, 'buy': 724, 'buying': 725, 'buys': 726, 'buzzer': 727, 'by': 728, 'bygones': 729, 'c': 730, 'cab': 731, 'cabbage': 732, 'cabin': 733, 'cabinet': 734, 'cabins': 735, 'cable': 736, 'cabot': 737, 'cache': 738, 'cadillac': 739, 'caesar': 740, 'cafe': 741, 'cafeteria': 742, 'caffeine': 743, 'cage': 744, 'caged': 745, 'cages': 746, 'cake': 747, 'cakes': 748, 'calais': 749, 'calculation': 750, 'calculator': 751, 'calcutta': 752, 'calendar': 753, 'california': 754, 'call': 755, 'called': 756, 'calling': 757, 'calls': 758, 'calm': 759, 'calmed': 760, 'calmly': 761, 'calories': 762, 'calvin': 763, 'cambridge': 764, 'came': 765, 'camel': 766, 'camels': 767, 'camera': 768, 'cameraman': 769, 'cameras': 770, 'camomile': 771, 'camp': 772, 'campaign': 773, 'camper': 774, 'camping': 775, 'campus': 776, 'can': 777, 'canada': 778, 'canadian': 779, 'canadians': 780, 'canary': 781, 'cancel': 782, 'canceled': 783, 'cancelled': 784, 'cancer': 785, 'candidate': 786, 'candle': 787, 'candlelight': 788, 'candles': 789, 'candy': 790, 'cane': 791, 'cannot': 792, 'canoe': 793, 'cans': 794, 'cant': 795, 'cap': 796, 'capacity': 797, 'capital': 798, 'capitals': 799, 'capri': 800, 'captain': 801, 'captured': 802, 'car': 803, 'card': 804, 'cardiff': 805, 'cardiologist': 806, 'cards': 807, 'care': 808, 'cared': 809, 'careful': 810, 'carefully': 811, 'caribbean': 812, 'carpet': 813, 'carried': 814, 'carrots': 815, 'carry': 816, 'cars': 817, 'cartoon': 818, 'cartoonist': 819, 'cartoons': 820, 'case': 821, 'cash': 822, 'casillas': 823, 'casinos': 824, 'cassette': 825, 'cassino': 826, 'castle': 827, 'castles': 828, 'castro': 829, 'cat': 830, 'catalonia': 831, 'catch': 832, 'catching': 833, 'cathedral': 834, 'catholic': 835, 'catholics': 836, 'cats': 837, 'cattle': 838, 'caught': 839, 'cause': 840, 'caused': 841, 'causes': 842, 'causing': 843, 'cavalry': 844, 'cave': 845, 'caviar': 846, 'cd': 847, 'cds': 848, 'ceasefire': 849, 'ceiling': 850, 'celebrate': 851, 'celebrated': 852, 'celebrating': 853, 'cell': 854, 'cello': 855, 'cellphone': 856, 'cellphones': 857, 'celtic': 858, 'cement': 859, 'census': 860, 'center': 861, 'centers': 862, 'centimeters': 863, 'central': 864, 'cents': 865, 'century': 866, 'ceo': 867, 'ceremony': 868, 'certain': 869, 'certainly': 870, 'chain': 871, 'chair': 872, 'chairman': 873, 'chairs': 874, 'challenging': 875, 'champagne': 876, 'champion': 877, 'chance': 878, 'chancellorsville': 879, 'change': 880, 'changed': 881, 'changes': 882, 'changing': 883, 'channel': 884, 'characters': 885, 'charge': 886, 'charged': 887, 'charger': 888, 'charges': 889, 'chariot': 890, 'charlemagne': 891, 'charles': 892, 'chased': 893, 'chases': 894, 'chasing': 895, 'chat': 896, 'chatted': 897, 'chattering': 898, 'chatting': 899, 'chaucer': 900, 'chauffeur': 901, 'cheap': 902, 'cheaper': 903, 'cheaply': 904, 'cheat': 905, 'cheated': 906, 'check': 907, 'checked': 908, 'checking': 909, 'checks': 910, 'cheek': 911, 'cheese': 912, 'cheeseburger': 913, 'cheeseburgers': 914, 'cheesecake': 915, 'chemical': 916, 'cherries': 917, 'cherry': 918, 'chess': 919, 'chest': 920, 'chew': 921, 'chewed': 922, 'chicago': 923, 'chicken': 924, 'chickens': 925, 'chihuahua': 926, 'child': 927, 'childhood': 928, 'children': 929, 'childrens': 930, 'chimney': 931, 'chimpanzees': 932, 'china': 933, 'chinese': 934, 'chips': 935, 'chocolate': 936, 'chocolates': 937, 'choice': 938, 'choices': 939, 'choose': 940, 'choosing': 941, 'chopins': 942, 'chopper': 943, 'chopping': 944, 'chops': 945, 'chopsticks': 946, 'chose': 947, 'chosen': 948, 'christ': 949, 'christian': 950, 'christianity': 951, 'christians': 952, 'christmas': 953, 'chrysanthemums': 954, 'chucks': 955, 'church': 956, 'churches': 957, 'churchill': 958, 'cia': 959, 'cigarette': 960, 'cigarettes': 961, 'cigars': 962, 'cinderella': 963, 'cinnamon': 964, 'circus': 965, 'cities': 966, 'citizen': 967, 'citizens': 968, 'city': 969, 'citys': 970, 'civil': 971, 'civilization': 972, 'civilizations': 973, 'claimed': 974, 'claims': 975, 'clap': 976, 'clapped': 977, 'clapping': 978, 'claps': 979, 'clarinet': 980, 'clarinetist': 981, 'class': 982, 'classes': 983, 'classical': 984, 'classmate': 985, 'classmates': 986, 'classroom': 987, 'clatsop': 988, 'claustrophobic': 989, 'clean': 990, 'cleaned': 991, 'cleaning': 992, 'clear': 993, 'cleared': 994, 'clearing': 995, 'clearly': 996, 'cleopatras': 997, 'clever': 998, 'click': 999, 'climate': 1000, 'climb': 1001, 'climbed': 1002, 'climbing': 1003, 'cling': 1004, 'clinic': 1005, 'clip': 1006, 'clock': 1007, 'clocks': 1008, 'close': 1009, 'closed': 1010, 'closely': 1011, 'closer': 1012, 'closes': 1013, 'closest': 1014, 'closet': 1015, 'closing': 1016, 'cloth': 1017, 'clothes': 1018, 'clothing': 1019, 'cloud': 1020, 'clouds': 1021, 'clown': 1022, 'club': 1023, 'clubs': 1024, 'clue': 1025, 'cnn': 1026, 'coach': 1027, 'coal': 1028, 'coasters': 1029, 'coat': 1030, 'cocaine': 1031, 'cockroach': 1032, 'cockroaches': 1033, 'cocktail': 1034, 'cocktails': 1035, 'cocoa': 1036, 'coconut': 1037, 'code': 1038, 'coffee': 1039, 'coffees': 1040, 'coin': 1041, 'coincidence': 1042, 'coincidences': 1043, 'coins': 1044, 'coke': 1045, 'cold': 1046, 'colder': 1047, 'coldest': 1048, 'collapsed': 1049, 'collars': 1050, 'collect': 1051, 'collected': 1052, 'college': 1053, 'colombian': 1054, 'colonies': 1055, 'colonists': 1056, 'colony': 1057, 'color': 1058, 'colorado': 1059, 'colorblind': 1060, 'colorful': 1061, 'colors': 1062, 'columbus': 1063, 'coma': 1064, 'comb': 1065, 'come': 1066, 'comedian': 1067, 'comes': 1068, 'comet': 1069, 'comic': 1070, 'comics': 1071, 'coming': 1072, 'commander': 1073, 'comment': 1074, 'commented': 1075, 'commerce': 1076, 'commercial': 1077, 'commit': 1078, 'committed': 1079, 'common': 1080, 'communicate': 1081, 'communism': 1082, 'communist': 1083, 'communists': 1084, 'community': 1085, 'companies': 1086, 'company': 1087, 'compare': 1088, 'compared': 1089, 'comparison': 1090, 'compass': 1091, 'competition': 1092, 'complain': 1093, 'complained': 1094, 'complaining': 1095, 'complains': 1096, 'complete': 1097, 'completed': 1098, 'completely': 1099, 'complicated': 1100, 'components': 1101, 'compose': 1102, 'compressed': 1103, 'computed': 1104, 'computer': 1105, 'computers': 1106, 'computing': 1107, 'concept': 1108, 'concerned': 1109, 'concert': 1110, 'concluded': 1111, 'concludes': 1112, 'condemn': 1113, 'condition': 1114, 'conditioned': 1115, 'conditioner': 1116, 'conduct': 1117, 'conducted': 1118, 'conference': 1119, 'confess': 1120, 'confessed': 1121, 'confession': 1122, 'confidential': 1123, 'confirm': 1124, 'confirmed': 1125, 'confiscated': 1126, 'confuse': 1127, 'confused': 1128, 'congas': 1129, 'congo': 1130, 'congratulated': 1131, 'congratulations': 1132, 'congress': 1133, 'connections': 1134, 'connects': 1135, 'conquer': 1136, 'conquered': 1137, 'conqueror': 1138, 'consciousness': 1139, 'conservative': 1140, 'consider': 1141, 'considered': 1142, 'considering': 1143, 'consists': 1144, 'constantinople': 1145, 'constantly': 1146, 'constitution': 1147, 'constructing': 1148, 'consultant': 1149, 'contact': 1150, 'contacted': 1151, 'contain': 1152, 'contained': 1153, 'contains': 1154, 'contemplating': 1155, 'content': 1156, 'contest': 1157, 'contestants': 1158, 'context': 1159, 'continent': 1160, 'continued': 1161, 'continuously': 1162, 'contract': 1163, 'contributed': 1164, 'contributing': 1165, 'control': 1166, 'controlled': 1167, 'controversy': 1168, 'conversation': 1169, 'convinced': 1170, 'cook': 1171, 'cooked': 1172, 'cooker': 1173, 'cookie': 1174, 'cookies': 1175, 'cooking': 1176, 'cooks': 1177, 'cool': 1178, 'cooled': 1179, 'cooler': 1180, 'coolidge': 1181, 'cools': 1182, 'cooperation': 1183, 'copenhagen': 1184, 'copies': 1185, 'copper': 1186, 'cops': 1187, 'copy': 1188, 'corn': 1189, 'corner': 1190, 'corporation': 1191, 'corps': 1192, 'correct': 1193, 'corrected': 1194, 'correctly': 1195, 'corrupt': 1196, 'corruption': 1197, 'corsica': 1198, 'cost': 1199, 'costs': 1200, 'cottage': 1201, 'cotton': 1202, 'couch': 1203, 'cough': 1204, 'coughing': 1205, 'could': 1206, 'couldnt': 1207, 'couldve': 1208, 'count': 1209, 'counted': 1210, 'counting': 1211, 'countries': 1212, 'country': 1213, 'countrys': 1214, 'counts': 1215, 'couple': 1216, 'coupon': 1217, 'courage': 1218, 'courageous': 1219, 'course': 1220, 'courses': 1221, 'court': 1222, 'courts': 1223, 'cousin': 1224, 'cover': 1225, 'covered': 1226, 'cow': 1227, 'coward': 1228, 'cowards': 1229, 'cowboy': 1230, 'cows': 1231, 'crab': 1232, 'crack': 1233, 'crackers': 1234, 'cradle': 1235, 'crane': 1236, 'crash': 1237, 'crashed': 1238, 'crashes': 1239, 'crawl': 1240, 'crawling': 1241, 'crazy': 1242, 'cream': 1243, 'create': 1244, 'created': 1245, 'creative': 1246, 'creator': 1247, 'creature': 1248, 'credit': 1249, 'cricket': 1250, 'cried': 1251, 'cries': 1252, 'crime': 1253, 'crimes': 1254, 'criminal': 1255, 'criminals': 1256, 'crisis': 1257, 'crispiness': 1258, 'cristofori': 1259, 'criticized': 1260, 'crocodiles': 1261, 'crop': 1262, 'cross': 1263, 'crossed': 1264, 'crosses': 1265, 'crossing': 1266, 'crosslegged': 1267, 'crow': 1268, 'crowd': 1269, 'crowded': 1270, 'crowds': 1271, 'crown': 1272, 'crowned': 1273, 'crows': 1274, 'crucial': 1275, 'cruel': 1276, 'cruise': 1277, 'crushed': 1278, 'cry': 1279, 'crybaby': 1280, 'crying': 1281, 'crystalline': 1282, 'ct': 1283, 'cuba': 1284, 'cubed': 1285, 'cucumber': 1286, 'cucumbers': 1287, 'cultivated': 1288, 'cultural': 1289, 'culture': 1290, 'cultured': 1291, 'cultures': 1292, 'cup': 1293, 'cupboard': 1294, 'cupcake': 1295, 'cupcakes': 1296, 'cups': 1297, 'cure': 1298, 'curfew': 1299, 'curious': 1300, 'current': 1301, 'currently': 1302, 'curry': 1303, 'curse': 1304, 'cursing': 1305, 'cursor': 1306, 'curtain': 1307, 'curve': 1308, 'custom': 1309, 'customer': 1310, 'customers': 1311, 'customs': 1312, 'cut': 1313, 'cute': 1314, 'cuts': 1315, 'cutting': 1316, 'cyborg': 1317, 'cycle': 1318, 'cycling': 1319, 'cynical': 1320, 'czech': 1321, 'czolgosz': 1322, 'dad': 1323, 'daddy': 1324, 'dads': 1325, 'daffodil': 1326, 'daikon': 1327, 'daily': 1328, 'dalton': 1329, 'dam': 1330, 'damaged': 1331, 'damascus': 1332, 'dame': 1333, 'damp': 1334, 'dance': 1335, 'danced': 1336, 'dancer': 1337, 'dances': 1338, 'dancing': 1339, 'danes': 1340, 'danger': 1341, 'dangerous': 1342, 'daniel': 1343, 'daniels': 1344, 'danube': 1345, 'danzig': 1346, 'dare': 1347, 'dark': 1348, 'dart': 1349, 'darts': 1350, 'darwin': 1351, 'data': 1352, 'date': 1353, 'dated': 1354, 'dating': 1355, 'daughter': 1356, 'daughters': 1357, 'dawn': 1358, 'day': 1359, 'days': 1360, 'dead': 1361, 'deaf': 1362, 'deal': 1363, 'deals': 1364, 'dealt': 1365, 'death': 1366, 'debit': 1367, 'debts': 1368, 'decaffeinated': 1369, 'deceive': 1370, 'deceiving': 1371, 'december': 1372, 'decent': 1373, 'decide': 1374, 'decided': 1375, 'decision': 1376, 'decisions': 1377, 'declared': 1378, 'declined': 1379, 'decorate': 1380, 'decorated': 1381, 'decorating': 1382, 'decreased': 1383, 'deep': 1384, 'deepest': 1385, 'deer': 1386, 'defeat': 1387, 'defeated': 1388, 'defend': 1389, 'defendant': 1390, 'defended': 1391, 'defends': 1392, 'definitely': 1393, 'defragmented': 1394, 'degree': 1395, 'delete': 1396, 'deleted': 1397, 'delhi': 1398, 'deliberately': 1399, 'delicate': 1400, 'delicious': 1401, 'delighted': 1402, 'deliver': 1403, 'delivered': 1404, 'demand': 1405, 'demanded': 1406, 'demands': 1407, 'democracy': 1408, 'democratic': 1409, 'democrats': 1410, 'demolished': 1411, 'demonstrations': 1412, 'denied': 1413, 'denmark': 1414, 'dentist': 1415, 'dentists': 1416, 'deny': 1417, 'denying': 1418, 'depend': 1419, 'dependent': 1420, 'depends': 1421, 'deposits': 1422, 'depp': 1423, 'deprived': 1424, 'describe': 1425, 'desert': 1426, 'deserts': 1427, 'deserve': 1428, 'design': 1429, 'designer': 1430, 'designers': 1431, 'desire': 1432, 'desk': 1433, 'desktop': 1434, 'destiny': 1435, 'destroy': 1436, 'destroyed': 1437, 'destroys': 1438, 'detained': 1439, 'detective': 1440, 'devastated': 1441, 'developed': 1442, 'developer': 1443, 'developing': 1444, 'development': 1445, 'develops': 1446, 'device': 1447, 'devonshire': 1448, 'dewey': 1449, 'dialect': 1450, 'dialup': 1451, 'diamond': 1452, 'diamonds': 1453, 'diapers': 1454, 'diary': 1455, 'dictator': 1456, 'dictatorship': 1457, 'dictionaries': 1458, 'dictionary': 1459, 'did': 1460, 'didnt': 1461, 'die': 1462, 'died': 1463, 'dies': 1464, 'diet': 1465, 'dieting': 1466, 'difference': 1467, 'differences': 1468, 'different': 1469, 'differently': 1470, 'differs': 1471, 'difficult': 1472, 'difficulty': 1473, 'digging': 1474, 'digitalis': 1475, 'dine': 1476, 'diner': 1477, 'dinner': 1478, 'dinners': 1479, 'dinnertime': 1480, 'dinosaurs': 1481, 'diploma': 1482, 'diplomatic': 1483, 'direction': 1484, 'director': 1485, 'directory': 1486, 'dirt': 1487, 'dirty': 1488, 'disagree': 1489, 'disappeared': 1490, 'disappearing': 1491, 'disappointed': 1492, 'disciples': 1493, 'disco': 1494, 'discount': 1495, 'discovered': 1496, 'discovering': 1497, 'discovery': 1498, 'discriminate': 1499, 'discs': 1500, 'discuss': 1501, 'discussed': 1502, 'discussion': 1503, 'disease': 1504, 'disgusts': 1505, 'dish': 1506, 'dishes': 1507, 'dishonest': 1508, 'dishwasher': 1509, 'disk': 1510, 'dislike': 1511, 'dislikes': 1512, 'disneyland': 1513, 'dissolves': 1514, 'distance': 1515, 'distributed': 1516, 'distribution': 1517, 'districts': 1518, 'disturbing': 1519, 'divided': 1520, 'divorce': 1521, 'divorced': 1522, 'dixieland': 1523, 'dizzy': 1524, 'dj': 1525, 'do': 1526, 'doctor': 1527, 'doctors': 1528, 'document': 1529, 'documentaries': 1530, 'documents': 1531, 'does': 1532, 'doesnt': 1533, 'dog': 1534, 'dogs': 1535, 'doing': 1536, 'doll': 1537, 'dollar': 1538, 'dollars': 1539, 'dolls': 1540, 'dolphin': 1541, 'dominos': 1542, 'donate': 1543, 'donated': 1544, 'donating': 1545, 'done': 1546, 'donetsk': 1547, 'dont': 1548, 'donut': 1549, 'donuts': 1550, 'door': 1551, 'doorbell': 1552, 'doordie': 1553, 'doors': 1554, 'double': 1555, 'doubleclick': 1556, 'doubt': 1557, 'doubts': 1558, 'down': 1559, 'download': 1560, 'downloaded': 1561, 'downloading': 1562, 'downloads': 1563, 'downright': 1564, 'downstairs': 1565, 'dozen': 1566, 'dr': 1567, 'dragon': 1568, 'dragons': 1569, 'drama': 1570, 'drank': 1571, 'draw': 1572, 'drawer': 1573, 'drawers': 1574, 'drawing': 1575, 'dream': 1576, 'dreamed': 1577, 'dreaming': 1578, 'dreams': 1579, 'drenched': 1580, 'dress': 1581, 'dressed': 1582, 'dresses': 1583, 'dressing': 1584, 'drew': 1585, 'dried': 1586, 'drink': 1587, 'drinker': 1588, 'drinking': 1589, 'drinks': 1590, 'drive': 1591, 'driven': 1592, 'driver': 1593, 'drivers': 1594, 'drives': 1595, 'driving': 1596, 'drone': 1597, 'drop': 1598, 'dropped': 1599, 'dropping': 1600, 'drops': 1601, 'drove': 1602, 'drown': 1603, 'drowned': 1604, 'drowning': 1605, 'drug': 1606, 'drugs': 1607, 'drugstore': 1608, 'drummer': 1609, 'drums': 1610, 'drunk': 1611, 'drunkard': 1612, 'dry': 1613, 'dublin': 1614, 'duck': 1615, 'ducks': 1616, 'dude': 1617, 'due': 1618, 'dug': 1619, 'dull': 1620, 'dumbo': 1621, 'dumplings': 1622, 'duquesne': 1623, 'during': 1624, 'dust': 1625, 'dusty': 1626, 'dutch': 1627, 'duty': 1628, 'dwight': 1629, 'dye': 1630, 'dyed': 1631, 'dying': 1632, 'dynamite': 1633, 'dynasty': 1634, 'each': 1635, 'eagerly': 1636, 'eagle': 1637, 'ear': 1638, 'earache': 1639, 'earl': 1640, 'earlier': 1641, 'earliest': 1642, 'early': 1643, 'earn': 1644, 'earned': 1645, 'earning': 1646, 'earns': 1647, 'earphones': 1648, 'earrings': 1649, 'ears': 1650, 'earth': 1651, 'earthquake': 1652, 'earthquakes': 1653, 'ease': 1654, 'eased': 1655, 'easier': 1656, 'easiest': 1657, 'easily': 1658, 'east': 1659, 'easter': 1660, 'eastern': 1661, 'eastward': 1662, 'easy': 1663, 'eat': 1664, 'eaten': 1665, 'eating': 1666, 'eats': 1667, 'eclipse': 1668, 'economic': 1669, 'economical': 1670, 'economically': 1671, 'economics': 1672, 'economist': 1673, 'economy': 1674, 'edible': 1675, 'edit': 1676, 'editing': 1677, 'edition': 1678, 'editor': 1679, 'educated': 1680, 'education': 1681, 'effective': 1682, 'effort': 1683, 'egg': 1684, 'eggs': 1685, 'ego': 1686, 'egypt': 1687, 'eiffel': 1688, 'eight': 1689, 'eighteen': 1690, 'eighteenth': 1691, 'eighth': 1692, 'eighty': 1693, 'einstein': 1694, 'eisenhower': 1695, 'either': 1696, 'elbow': 1697, 'elderly': 1698, 'elected': 1699, 'election': 1700, 'electric': 1701, 'electrical': 1702, 'electrician': 1703, 'electricity': 1704, 'electronic': 1705, 'electronics': 1706, 'elementary': 1707, 'elephant': 1708, 'elephants': 1709, 'elevator': 1710, 'elevators': 1711, 'eleven': 1712, 'eleventh': 1713, 'elf': 1714, 'elizabeth': 1715, 'elk': 1716, 'else': 1717, 'elses': 1718, 'elsewhere': 1719, 'email': 1720, 'embarrassed': 1721, 'embassy': 1722, 'embraced': 1723, 'emergency': 1724, 'emperor': 1725, 'empire': 1726, 'employ': 1727, 'employees': 1728, 'emptied': 1729, 'empty': 1730, 'encouraged': 1731, 'encrypted': 1732, 'end': 1733, 'ended': 1734, 'ends': 1735, 'enemies': 1736, 'enemy': 1737, 'enemys': 1738, 'energy': 1739, 'engaged': 1740, 'engine': 1741, 'engineer': 1742, 'engineering': 1743, 'england': 1744, 'english': 1745, 'englishman': 1746, 'enjoyed': 1747, 'enjoys': 1748, 'enormous': 1749, 'enough': 1750, 'enter': 1751, 'entered': 1752, 'entering': 1753, 'enters': 1754, 'entertaining': 1755, 'entertainment': 1756, 'entire': 1757, 'entirely': 1758, 'entrepreneur': 1759, 'envelope': 1760, 'environment': 1761, 'episode': 1762, 'equal': 1763, 'equally': 1764, 'erase': 1765, 'erased': 1766, 'errands': 1767, 'error': 1768, 'errors': 1769, 'escape': 1770, 'escaped': 1771, 'especially': 1772, 'esperanto': 1773, 'espresso': 1774, 'essay': 1775, 'essential': 1776, 'establish': 1777, 'established': 1778, 'estrogen': 1779, 'et': 1780, 'ethiopian': 1781, 'europe': 1782, 'european': 1783, 'europeans': 1784, 'europes': 1785, 'euros': 1786, 'even': 1787, 'evening': 1788, 'events': 1789, 'eventually': 1790, 'ever': 1791, 'every': 1792, 'everybody': 1793, 'everybodys': 1794, 'everyone': 1795, 'everyones': 1796, 'everything': 1797, 'everythings': 1798, 'everywhere': 1799, 'evidence': 1800, 'evil': 1801, 'exact': 1802, 'exactly': 1803, 'exaggerate': 1804, 'exam': 1805, 'examination': 1806, 'examine': 1807, 'examined': 1808, 'examining': 1809, 'example': 1810, 'exams': 1811, 'excellent': 1812, 'except': 1813, 'exchange': 1814, 'excited': 1815, 'exercise': 1816, 'exercised': 1817, 'exercises': 1818, 'exercising': 1819, 'exgirlfriend': 1820, 'exhale': 1821, 'exhaled': 1822, 'exhausted': 1823, 'exist': 1824, 'existed': 1825, 'existence': 1826, 'exists': 1827, 'exmarine': 1828, 'expect': 1829, 'expected': 1830, 'expecting': 1831, 'expects': 1832, 'expensive': 1833, 'experience': 1834, 'experienced': 1835, 'experiencing': 1836, 'experiment': 1837, 'experimented': 1838, 'experimenting': 1839, 'expert': 1840, 'expired': 1841, 'explain': 1842, 'explained': 1843, 'exploded': 1844, 'explored': 1845, 'explosion': 1846, 'explosions': 1847, 'export': 1848, 'express': 1849, 'expressed': 1850, 'expression': 1851, 'extension': 1852, 'external': 1853, 'extinguished': 1854, 'extremely': 1855, 'eye': 1856, 'eyes': 1857, 'face': 1858, 'facebook': 1859, 'faces': 1860, 'facing': 1861, 'fact': 1862, 'factories': 1863, 'factory': 1864, 'fahrenheit': 1865, 'fail': 1866, 'failed': 1867, 'fails': 1868, 'failure': 1869, 'faint': 1870, 'fainted': 1871, 'fairly': 1872, 'faith': 1873, 'fake': 1874, 'fall': 1875, 'fallen': 1876, 'falling': 1877, 'falls': 1878, 'false': 1879, 'families': 1880, 'family': 1881, 'familys': 1882, 'famous': 1883, 'fan': 1884, 'fanning': 1885, 'fans': 1886, 'fantasy': 1887, 'faq': 1888, 'far': 1889, 'fare': 1890, 'fares': 1891, 'farm': 1892, 'farmer': 1893, 'farmers': 1894, 'farms': 1895, 'fars': 1896, 'farted': 1897, 'fascist': 1898, 'fashion': 1899, 'fashionable': 1900, 'fast': 1901, 'fastball': 1902, 'faster': 1903, 'fastfood': 1904, 'fasting': 1905, 'fat': 1906, 'fate': 1907, 'father': 1908, 'fathers': 1909, 'fatimas': 1910, 'fatter': 1911, 'faucet': 1912, 'fault': 1913, 'favor': 1914, 'favorite': 1915, 'favorites': 1916, 'favourite': 1917, 'fax': 1918, 'fear': 1919, 'feared': 1920, 'feather': 1921, 'feathers': 1922, 'february': 1923, 'fed': 1924, 'feed': 1925, 'feeding': 1926, 'feeds': 1927, 'feel': 1928, 'feeling': 1929, 'feelings': 1930, 'feels': 1931, 'feet': 1932, 'fell': 1933, 'felt': 1934, 'fence': 1935, 'ferry': 1936, 'festival': 1937, 'fetch': 1938, 'fever': 1939, 'few': 1940, 'fewer': 1941, 'fiction': 1942, 'fidel': 1943, 'field': 1944, 'fierce': 1945, 'fifteen': 1946, 'fifteenth': 1947, 'fifth': 1948, 'fifty': 1949, 'fiftyfive': 1950, 'fight': 1951, 'fighter': 1952, 'fighters': 1953, 'fighting': 1954, 'figure': 1955, 'figured': 1956, 'file': 1957, 'files': 1958, 'fill': 1959, 'filled': 1960, 'film': 1961, 'final': 1962, 'finally': 1963, 'financial': 1964, 'find': 1965, 'finding': 1966, 'finds': 1967, 'fine': 1968, 'finger': 1969, 'fingernail': 1970, 'fingers': 1971, 'finish': 1972, 'finished': 1973, 'finishing': 1974, 'finland': 1975, 'finnish': 1976, 'fire': 1977, 'fired': 1978, 'firefox': 1979, 'fires': 1980, 'firewall': 1981, 'first': 1982, 'fish': 1983, 'fishing': 1984, 'fistbump': 1985, 'fit': 1986, 'five': 1987, 'fiveminute': 1988, 'fivepound': 1989, 'fivethirty': 1990, 'fix': 1991, 'fixed': 1992, 'fixing': 1993, 'flag': 1994, 'flash': 1995, 'flashlight': 1996, 'flat': 1997, 'flavor': 1998, 'flew': 1999, 'flexible': 2000, 'flies': 2001, 'flight': 2002, 'flights': 2003, 'flirting': 2004, 'flirts': 2005, 'float': 2006, 'floats': 2007, 'flood': 2008, 'floor': 2009, 'floors': 2010, 'florence': 2011, 'florida': 2012, 'flour': 2013, 'flower': 2014, 'flowers': 2015, 'flown': 2016, 'flows': 2017, 'flu': 2018, 'fly': 2019, 'flying': 2020, 'focus': 2021, 'fog': 2022, 'fold': 2023, 'folded': 2024, 'folder': 2025, 'folk': 2026, 'folks': 2027, 'follow': 2028, 'followed': 2029, 'following': 2030, 'follows': 2031, 'fond': 2032, 'font': 2033, 'food': 2034, 'foods': 2035, 'fool': 2036, 'fooled': 2037, 'foolish': 2038, 'fools': 2039, 'foot': 2040, 'football': 2041, 'footpath': 2042, 'footprint': 2043, 'footprints': 2044, 'for': 2045, 'forced': 2046, 'forces': 2047, 'forcing': 2048, 'ford': 2049, 'forehead': 2050, 'foreign': 2051, 'foreigner': 2052, 'foreigners': 2053, 'foreignmade': 2054, 'forest': 2055, 'forever': 2056, 'forgave': 2057, 'forget': 2058, 'forgetful': 2059, 'forgetting': 2060, 'forgive': 2061, 'forgiven': 2062, 'forgiveness': 2063, 'forgives': 2064, 'forgot': 2065, 'forgotten': 2066, 'fork': 2067, 'forklift': 2068, 'forks': 2069, 'form': 2070, 'formal': 2071, 'formed': 2072, 'former': 2073, 'forms': 2074, 'formula': 2075, 'fort': 2076, 'forth': 2077, 'fortran': 2078, 'forts': 2079, 'fortunate': 2080, 'fortune': 2081, 'forty': 2082, 'fortyeight': 2083, 'fortyfive': 2084, 'forward': 2085, 'forwarded': 2086, 'foster': 2087, 'fought': 2088, 'found': 2089, 'founded': 2090, 'fountain': 2091, 'four': 2092, 'fourroom': 2093, 'fourteen': 2094, 'fourth': 2095, 'fox': 2096, 'foxes': 2097, 'france': 2098, 'francisco': 2099, 'francos': 2100, 'frank': 2101, 'franklin': 2102, 'free': 2103, 'freed': 2104, 'freedom': 2105, 'french': 2106, 'frenchmen': 2107, 'frenchspeaking': 2108, 'fresh': 2109, 'freshwater': 2110, 'friday': 2111, 'fridge': 2112, 'fried': 2113, 'friend': 2114, 'friends': 2115, 'friendship': 2116, 'fries': 2117, 'frightened': 2118, 'frightening': 2119, 'frog': 2120, 'frogs': 2121, 'from': 2122, 'front': 2123, 'frozen': 2124, 'fruit': 2125, 'fruits': 2126, 'fry': 2127, 'fuel': 2128, 'fuels': 2129, 'fuji': 2130, 'full': 2131, 'fun': 2132, 'fundraiser': 2133, 'funny': 2134, 'furniture': 2135, 'further': 2136, 'future': 2137, 'gabriel': 2138, 'gain': 2139, 'gained': 2140, 'galaxies': 2141, 'gallons': 2142, 'gamble': 2143, 'gambler': 2144, 'gambling': 2145, 'gamblings': 2146, 'game': 2147, 'games': 2148, 'garage': 2149, 'garbage': 2150, 'garden': 2151, 'garlic': 2152, 'gas': 2153, 'gasoline': 2154, 'gate': 2155, 'gates': 2156, 'gather': 2157, 'gathered': 2158, 'gathering': 2159, 'gatsby': 2160, 'gaul': 2161, 'gave': 2162, 'general': 2163, 'generally': 2164, 'generate': 2165, 'generates': 2166, 'geneva': 2167, 'genie': 2168, 'genius': 2169, 'gentleman': 2170, 'gentlemen': 2171, 'gently': 2172, 'geography': 2173, 'george': 2174, 'georgess': 2175, 'german': 2176, 'germanic': 2177, 'germans': 2178, 'germany': 2179, 'germanys': 2180, 'get': 2181, 'gets': 2182, 'getting': 2183, 'ghost': 2184, 'ghosts': 2185, 'gi': 2186, 'giant': 2187, 'giants': 2188, 'gibraltar': 2189, 'gif': 2190, 'gift': 2191, 'gifts': 2192, 'giraffes': 2193, 'girl': 2194, 'girlfriend': 2195, 'girlfriends': 2196, 'girls': 2197, 'give': 2198, 'given': 2199, 'gives': 2200, 'giving': 2201, 'glass': 2202, 'glasses': 2203, 'glitters': 2204, 'global': 2205, 'gmt': 2206, 'go': 2207, 'goal': 2208, 'goalkeeper': 2209, 'goat': 2210, 'goats': 2211, 'god': 2212, 'gods': 2213, 'goes': 2214, 'goggles': 2215, 'going': 2216, 'gold': 2217, 'golden': 2218, 'goldfish': 2219, 'golds': 2220, 'golf': 2221, 'golfer': 2222, 'golfers': 2223, 'gondolier': 2224, 'gone': 2225, 'gonna': 2226, 'good': 2227, 'goodnatured': 2228, 'goods': 2229, 'google': 2230, 'googled': 2231, 'gorilla': 2232, 'got': 2233, 'gotten': 2234, 'governed': 2235, 'government': 2236, 'governor': 2237, 'gown': 2238, 'grab': 2239, 'grabbed': 2240, 'grade': 2241, 'grades': 2242, 'graduate': 2243, 'graduated': 2244, 'graham': 2245, 'grain': 2246, 'grammar': 2247, 'gramophone': 2248, 'grams': 2249, 'grandchildren': 2250, 'granddaughters': 2251, 'grande': 2252, 'grandfather': 2253, 'grandfathers': 2254, 'grandma': 2255, 'grandmother': 2256, 'grandmothers': 2257, 'grandpa': 2258, 'grandparents': 2259, 'grant': 2260, 'granted': 2261, 'grapes': 2262, 'graphic': 2263, 'grass': 2264, 'grated': 2265, 'grave': 2266, 'gravity': 2267, 'gravy': 2268, 'grazing': 2269, 'great': 2270, 'greater': 2271, 'greatest': 2272, 'greece': 2273, 'greedy': 2274, 'greek': 2275, 'greeks': 2276, 'green': 2277, 'greenhouse': 2278, 'greenland': 2279, 'grenade': 2280, 'grew': 2281, 'grey': 2282, 'grinned': 2283, 'groaned': 2284, 'ground': 2285, 'group': 2286, 'grow': 2287, 'growing': 2288, 'grown': 2289, 'grownups': 2290, 'grows': 2291, 'grumbled': 2292, 'guacamole': 2293, 'guarantee': 2294, 'guard': 2295, 'guarded': 2296, 'guarding': 2297, 'guelderish': 2298, 'guess': 2299, 'guest': 2300, 'guests': 2301, 'guide': 2302, 'guillotine': 2303, 'guilty': 2304, 'guinea': 2305, 'guitar': 2306, 'guitarist': 2307, 'guitars': 2308, 'gulf': 2309, 'gummy': 2310, 'gun': 2311, 'gunman': 2312, 'guns': 2313, 'gunshots': 2314, 'gutenberg': 2315, 'guy': 2316, 'guys': 2317, 'gym': 2318, 'habit': 2319, 'hack': 2320, 'hacked': 2321, 'hacksaw': 2322, 'had': 2323, 'hadnt': 2324, 'haggis': 2325, 'hair': 2326, 'hairs': 2327, 'hairstyle': 2328, 'hakodate': 2329, 'half': 2330, 'halfasleep': 2331, 'halfeaten': 2332, 'hall': 2333, 'halloween': 2334, 'halloweens': 2335, 'ham': 2336, 'hamburger': 2337, 'hamburgers': 2338, 'hamilton': 2339, 'hamlet': 2340, 'hammer': 2341, 'hand': 2342, 'handed': 2343, 'handful': 2344, 'handkerchief': 2345, 'handkerchiefs': 2346, 'handle': 2347, 'hands': 2348, 'handsome': 2349, 'handwriting': 2350, 'handy': 2351, 'hang': 2352, 'hanged': 2353, 'hanger': 2354, 'happen': 2355, 'happened': 2356, 'happening': 2357, 'happens': 2358, 'happier': 2359, 'happiest': 2360, 'happiness': 2361, 'happy': 2362, 'harassing': 2363, 'harassment': 2364, 'harbor': 2365, 'hard': 2366, 'harder': 2367, 'hardware': 2368, 'hardworking': 2369, 'harp': 2370, 'harpers': 2371, 'harpsichord': 2372, 'harvard': 2373, 'harvey': 2374, 'has': 2375, 'hasnt': 2376, 'hastily': 2377, 'hasty': 2378, 'hat': 2379, 'hate': 2380, 'hated': 2381, 'hates': 2382, 'hats': 2383, 'havana': 2384, 'have': 2385, 'havent': 2386, 'having': 2387, 'hawaii': 2388, 'hawaiian': 2389, 'hayes': 2390, 'haystack': 2391, 'he': 2392, 'head': 2393, 'headache': 2394, 'headaches': 2395, 'headed': 2396, 'headlights': 2397, 'headphones': 2398, 'headquarters': 2399, 'headset': 2400, 'healing': 2401, 'heals': 2402, 'health': 2403, 'healthy': 2404, 'hear': 2405, 'heard': 2406, 'hearing': 2407, 'heart': 2408, 'hearts': 2409, 'heat': 2410, 'heated': 2411, 'heating': 2412, 'heaven': 2413, 'heavier': 2414, 'heavily': 2415, 'heavy': 2416, 'hebrew': 2417, 'hed': 2418, 'hedge': 2419, 'heels': 2420, 'height': 2421, 'held': 2422, 'helicopter': 2423, 'hell': 2424, 'hello': 2425, 'helmet': 2426, 'help': 2427, 'helped': 2428, 'helping': 2429, 'helps': 2430, 'helsinki': 2431, 'hemisphere': 2432, 'hemoglobin': 2433, 'hen': 2434, 'henry': 2435, 'hens': 2436, 'her': 2437, 'herbal': 2438, 'herbert': 2439, 'here': 2440, 'heres': 2441, 'hero': 2442, 'heroes': 2443, 'heroin': 2444, 'heroine': 2445, 'hers': 2446, 'herself': 2447, 'hes': 2448, 'hesitated': 2449, 'hey': 2450, 'hi': 2451, 'hid': 2452, 'hide': 2453, 'hideous': 2454, 'hideyo': 2455, 'hiding': 2456, 'high': 2457, 'higher': 2458, 'highest': 2459, 'highly': 2460, 'highway': 2461, 'highways': 2462, 'hill': 2463, 'hillbilly': 2464, 'hilton': 2465, 'him': 2466, 'himalayas': 2467, 'himself': 2468, 'hindered': 2469, 'hindus': 2470, 'hippy': 2471, 'hipster': 2472, 'hiroshima': 2473, 'his': 2474, 'historians': 2475, 'historically': 2476, 'history': 2477, 'hit': 2478, 'hitler': 2479, 'hits': 2480, 'hitting': 2481, 'hobo': 2482, 'hockey': 2483, 'hokkaido': 2484, 'hold': 2485, 'holding': 2486, 'hole': 2487, 'holes': 2488, 'holiday': 2489, 'holidays': 2490, 'holland': 2491, 'holy': 2492, 'home': 2493, 'homeless': 2494, 'homemade': 2495, 'homes': 2496, 'homestead': 2497, 'homework': 2498, 'honest': 2499, 'honesty': 2500, 'honey': 2501, 'hong': 2502, 'honk': 2503, 'honked': 2504, 'honshu': 2505, 'hood': 2506, 'hoop': 2507, 'hoover': 2508, 'hope': 2509, 'hormone': 2510, 'horn': 2511, 'horrible': 2512, 'horse': 2513, 'horseradish': 2514, 'horses': 2515, 'hose': 2516, 'hospital': 2517, 'hospitals': 2518, 'hot': 2519, 'hotdogs': 2520, 'hotel': 2521, 'hotels': 2522, 'hour': 2523, 'hours': 2524, 'house': 2525, 'houses': 2526, 'how': 2527, 'however': 2528, 'hows': 2529, 'hug': 2530, 'huge': 2531, 'hugged': 2532, 'huh': 2533, 'hula': 2534, 'human': 2535, 'humans': 2536, 'hummingbird': 2537, 'humor': 2538, 'hundred': 2539, 'hundreds': 2540, 'hung': 2541, 'hungarian': 2542, 'hungary': 2543, 'hunger': 2544, 'hungry': 2545, 'hunt': 2546, 'hunted': 2547, 'hunter': 2548, 'hunters': 2549, 'hunting': 2550, 'hurry': 2551, 'hurrying': 2552, 'hurt': 2553, 'hurts': 2554, 'husband': 2555, 'hut': 2556, 'hybrid': 2557, 'hydroponics': 2558, 'h₂o': 2559, 'i': 2560, 'iaido': 2561, 'ice': 2562, 'iceland': 2563, 'icon': 2564, 'icy': 2565, 'id': 2566, 'idaho': 2567, 'idea': 2568, 'ideas': 2569, 'idiot': 2570, 'idiots': 2571, 'ids': 2572, 'if': 2573, 'ignore': 2574, 'ignored': 2575, 'ignores': 2576, 'ignoring': 2577, 'ii': 2578, 'iker': 2579, 'ill': 2580, 'illegal': 2581, 'illinois': 2582, 'illiterate': 2583, 'illness': 2584, 'im': 2585, 'imaginary': 2586, 'imagination': 2587, 'imagine': 2588, 'imagined': 2589, 'imaging': 2590, 'imitate': 2591, 'imitating': 2592, 'immediately': 2593, 'immense': 2594, 'immortal': 2595, 'import': 2596, 'importance': 2597, 'important': 2598, 'imported': 2599, 'imports': 2600, 'impossible': 2601, 'impress': 2602, 'improve': 2603, 'improved': 2604, 'improvements': 2605, 'improving': 2606, 'in': 2607, 'inca': 2608, 'inch': 2609, 'inches': 2610, 'incident': 2611, 'incidents': 2612, 'include': 2613, 'includes': 2614, 'including': 2615, 'income': 2616, 'incomplete': 2617, 'incorrectly': 2618, 'increase': 2619, 'increased': 2620, 'increasing': 2621, 'independence': 2622, 'independent': 2623, 'india': 2624, 'indian': 2625, 'indians': 2626, 'indoeuropean': 2627, 'indonesia': 2628, 'indonesian': 2629, 'industrial': 2630, 'industrialized': 2631, 'industry': 2632, 'infinite': 2633, 'inflation': 2634, 'influence': 2635, 'influenced': 2636, 'influential': 2637, 'info': 2638, 'inform': 2639, 'information': 2640, 'informed': 2641, 'ingredient': 2642, 'inhabitants': 2643, 'inhale': 2644, 'inhaled': 2645, 'inherently': 2646, 'initials': 2647, 'injured': 2648, 'ink': 2649, 'innocent': 2650, 'insane': 2651, 'insanity': 2652, 'insect': 2653, 'insects': 2654, 'inside': 2655, 'insisted': 2656, 'inspect': 2657, 'inspector': 2658, 'inspiration': 2659, 'inspired': 2660, 'install': 2661, 'installed': 2662, 'installing': 2663, 'instant': 2664, 'instead': 2665, 'insult': 2666, 'insulted': 2667, 'insulting': 2668, 'insurance': 2669, 'intelligent': 2670, 'intend': 2671, 'intention': 2672, 'interest': 2673, 'interested': 2674, 'interesting': 2675, 'intermission': 2676, 'intern': 2677, 'international': 2678, 'internet': 2679, 'interpreted': 2680, 'interpreter': 2681, 'interview': 2682, 'interviewed': 2683, 'into': 2684, 'introduced': 2685, 'invade': 2686, 'invaded': 2687, 'invasion': 2688, 'invent': 2689, 'invented': 2690, 'invention': 2691, 'inventions': 2692, 'inventor': 2693, 'investigation': 2694, 'invisible': 2695, 'invitation': 2696, 'invite': 2697, 'invited': 2698, 'invites': 2699, 'involved': 2700, 'ináñez': 2701, 'iowa': 2702, 'ipad': 2703, 'iphone': 2704, 'ipod': 2705, 'iran': 2706, 'iraq': 2707, 'iraqs': 2708, 'ireland': 2709, 'irish': 2710, 'iron': 2711, 'ironed': 2712, 'ironing': 2713, 'irons': 2714, 'irresponsible': 2715, 'irritated': 2716, 'irs': 2717, 'is': 2718, 'isaac': 2719, 'isabella': 2720, 'islam': 2721, 'islamabad': 2722, 'islamic': 2723, 'island': 2724, 'islands': 2725, 'isnt': 2726, 'isolated': 2727, 'isopropyl': 2728, 'israel': 2729, 'issue': 2730, 'issues': 2731, 'istanbul': 2732, 'it': 2733, 'italian': 2734, 'italianamericans': 2735, 'italy': 2736, 'itch': 2737, 'itches': 2738, 'itll': 2739, 'its': 2740, 'itself': 2741, 'ive': 2742, 'jack': 2743, 'jacket': 2744, 'jackets': 2745, 'jackson': 2746, 'jacksons': 2747, 'jail': 2748, 'jam': 2749, 'james': 2750, 'january': 2751, 'japan': 2752, 'japanese': 2753, 'japaneseamerican': 2754, 'japaneseenglish': 2755, 'japans': 2756, 'javascript': 2757, 'jazz': 2758, 'jealous': 2759, 'jeans': 2760, 'jefferson': 2761, 'jelly': 2762, 'jesus': 2763, 'jew': 2764, 'jewelry': 2765, 'jewels': 2766, 'job': 2767, 'jobs': 2768, 'jog': 2769, 'john': 2770, 'johnny': 2771, 'johns': 2772, 'join': 2773, 'joined': 2774, 'joke': 2775, 'jokes': 2776, 'joking': 2777, 'journalist': 2778, 'joy': 2779, 'judaism': 2780, 'judge': 2781, 'juice': 2782, 'julius': 2783, 'july': 2784, 'jumbo': 2785, 'jump': 2786, 'jumped': 2787, 'jumping': 2788, 'june': 2789, 'jungle': 2790, 'junk': 2791, 'jupiter': 2792, 'just': 2793, 'justice': 2794, 'kabuki': 2795, 'kabul': 2796, 'kagoshima': 2797, 'kalmius': 2798, 'kangaroo': 2799, 'kanji': 2800, 'karaoke': 2801, 'karate': 2802, 'keep': 2803, 'keeps': 2804, 'kelantan': 2805, 'kendo': 2806, 'kenya': 2807, 'kept': 2808, 'kerosene': 2809, 'ketchup': 2810, 'kettle': 2811, 'key': 2812, 'keyboard': 2813, 'keys': 2814, 'khalifa': 2815, 'khan': 2816, 'kick': 2817, 'kicked': 2818, 'kicking': 2819, 'kicks': 2820, 'kid': 2821, 'kidding': 2822, 'kidnap': 2823, 'kidnapped': 2824, 'kidney': 2825, 'kids': 2826, 'kill': 2827, 'killed': 2828, 'killer': 2829, 'killers': 2830, 'killing': 2831, 'kilo': 2832, 'kilogram': 2833, 'kilograms': 2834, 'kilometer': 2835, 'kilometers': 2836, 'kilos': 2837, 'kilt': 2838, 'kimono': 2839, 'kimonos': 2840, 'kind': 2841, 'kinds': 2842, 'king': 2843, 'kingdom': 2844, 'kings': 2845, 'kinshasa': 2846, 'kiss': 2847, 'kissed': 2848, 'kisses': 2849, 'kissing': 2850, 'kissinger': 2851, 'kitchen': 2852, 'kite': 2853, 'kites': 2854, 'kitten': 2855, 'kitty': 2856, 'klan': 2857, 'knee': 2858, 'knees': 2859, 'knelt': 2860, 'knew': 2861, 'knife': 2862, 'knits': 2863, 'knives': 2864, 'knocking': 2865, 'know': 2866, 'knowing': 2867, 'knowledge': 2868, 'known': 2869, 'knows': 2870, 'koala': 2871, 'koalas': 2872, 'kong': 2873, 'korea': 2874, 'korean': 2875, 'kosher': 2876, 'koto': 2877, 'kublai': 2878, 'kyiv': 2879, 'kyoto': 2880, 'kyowa': 2881, 'kyushu': 2882, 'lab': 2883, 'laboratory': 2884, 'laced': 2885, 'lacked': 2886, 'lacrosse': 2887, 'lad': 2888, 'ladder': 2889, 'lady': 2890, 'laid': 2891, 'lake': 2892, 'land': 2893, 'landed': 2894, 'landline': 2895, 'landlord': 2896, 'lanes': 2897, 'language': 2898, 'languages': 2899, 'lanka': 2900, 'lantern': 2901, 'lap': 2902, 'laptop': 2903, 'large': 2904, 'larger': 2905, 'largest': 2906, 'last': 2907, 'lasted': 2908, 'lasts': 2909, 'late': 2910, 'later': 2911, 'latest': 2912, 'latin': 2913, 'laugh': 2914, 'laughed': 2915, 'laughing': 2916, 'laughs': 2917, 'laughter': 2918, 'launched': 2919, 'law': 2920, 'laws': 2921, 'lawyer': 2922, 'lawyers': 2923, 'lay': 2924, 'lays': 2925, 'lazy': 2926, 'lead': 2927, 'leader': 2928, 'leaders': 2929, 'leaf': 2930, 'leap': 2931, 'learn': 2932, 'learned': 2933, 'learning': 2934, 'least': 2935, 'leather': 2936, 'leave': 2937, 'leaves': 2938, 'leaving': 2939, 'led': 2940, 'lee': 2941, 'left': 2942, 'leftover': 2943, 'leg': 2944, 'legal': 2945, 'legs': 2946, 'lemon': 2947, 'lemonade': 2948, 'lemons': 2949, 'length': 2950, 'leon': 2951, 'leopards': 2952, 'less': 2953, 'lesson': 2954, 'let': 2955, 'lets': 2956, 'letter': 2957, 'letters': 2958, 'letting': 2959, 'lettuce': 2960, 'liar': 2961, 'liars': 2962, 'liberty': 2963, 'library': 2964, 'libya': 2965, 'license': 2966, 'licked': 2967, 'licking': 2968, 'lid': 2969, 'lie': 2970, 'lied': 2971, 'lies': 2972, 'lieutenant': 2973, 'life': 2974, 'lifeboats': 2975, 'lifejacket': 2976, 'lifes': 2977, 'lift': 2978, 'lifted': 2979, 'lifter': 2980, 'lifting': 2981, 'light': 2982, 'lightbulb': 2983, 'lighter': 2984, 'lightning': 2985, 'lights': 2986, 'like': 2987, 'liked': 2988, 'likely': 2989, 'likes': 2990, 'liking': 2991, 'lilienthal': 2992, 'liliuokalani': 2993, 'limited': 2994, 'limits': 2995, 'limo': 2996, 'limped': 2997, 'lincoln': 2998, 'line': 2999, 'lines': 3000, 'link': 3001, 'linux': 3002, 'lion': 3003, 'lions': 3004, 'lips': 3005, 'lipstick': 3006, 'liquor': 3007, 'lisa': 3008, 'list': 3009, 'listen': 3010, 'listened': 3011, 'listening': 3012, 'listens': 3013, 'lit': 3014, 'liter': 3015, 'literature': 3016, 'little': 3017, 'live': 3018, 'lived': 3019, 'lives': 3020, 'living': 3021, 'llama': 3022, 'loan': 3023, 'loaned': 3024, 'lobby': 3025, 'local': 3026, 'located': 3027, 'lock': 3028, 'locked': 3029, 'locker': 3030, 'locks': 3031, 'log': 3032, 'logic': 3033, 'lollipop': 3034, 'london': 3035, 'lonely': 3036, 'lonesome': 3037, 'long': 3038, 'longer': 3039, 'longest': 3040, 'look': 3041, 'looked': 3042, 'looker': 3043, 'looking': 3044, 'looks': 3045, 'loose': 3046, 'los': 3047, 'lose': 3048, 'loses': 3049, 'losing': 3050, 'loss': 3051, 'lost': 3052, 'lot': 3053, 'lots': 3054, 'lottery': 3055, 'loud': 3056, 'louder': 3057, 'loudly': 3058, 'louis': 3059, 'love': 3060, 'loved': 3061, 'loves': 3062, 'loving': 3063, 'low': 3064, 'lower': 3065, 'lowered': 3066, 'loyal': 3067, 'luck': 3068, 'luckily': 3069, 'lucky': 3070, 'lukewarm': 3071, 'lunar': 3072, 'lunatic': 3073, 'lunch': 3074, 'luxembourg': 3075, 'lying': 3076, 'lyrics': 3077, 'macaroni': 3078, 'machine': 3079, 'machines': 3080, 'mad': 3081, 'made': 3082, 'madman': 3083, 'madrid': 3084, 'magazine': 3085, 'magazines': 3086, 'magic': 3087, 'magician': 3088, 'magnetic': 3089, 'magnetism': 3090, 'mahal': 3091, 'maharashtra': 3092, 'mahjong': 3093, 'mail': 3094, 'main': 3095, 'maintenance': 3096, 'major': 3097, 'majority': 3098, 'make': 3099, 'makes': 3100, 'makeup': 3101, 'making': 3102, 'malaysia': 3103, 'mall': 3104, 'mama': 3105, 'mammal': 3106, 'mammals': 3107, 'man': 3108, 'manage': 3109, 'managed': 3110, 'management': 3111, 'manager': 3112, 'managers': 3113, 'manages': 3114, 'mandolin': 3115, 'mango': 3116, 'mangoes': 3117, 'manicurist': 3118, 'manila': 3119, 'mankind': 3120, 'mans': 3121, 'manual': 3122, 'manufactures': 3123, 'many': 3124, 'maori': 3125, 'map': 3126, 'marathon': 3127, 'march': 3128, 'marconi': 3129, 'margarine': 3130, 'marilyn': 3131, 'marine': 3132, 'mark': 3133, 'market': 3134, 'marmalade': 3135, 'marriage': 3136, 'married': 3137, 'marry': 3138, 'mars': 3139, 'marshmallows': 3140, 'mary': 3141, 'marys': 3142, 'masculine': 3143, 'mashed': 3144, 'mask': 3145, 'masks': 3146, 'massachusetts': 3147, 'match': 3148, 'materialistic': 3149, 'math': 3150, 'mathematics': 3151, 'matsue': 3152, 'matsuyama': 3153, 'matter': 3154, 'matters': 3155, 'mattress': 3156, 'may': 3157, 'maybe': 3158, 'mayor': 3159, 'mba': 3160, 'mckinley': 3161, 'me': 3162, 'meal': 3163, 'meals': 3164, 'mean': 3165, 'meaning': 3166, 'meaningless': 3167, 'means': 3168, 'meant': 3169, 'meantime': 3170, 'measure': 3171, 'measured': 3172, 'meat': 3173, 'mecca': 3174, 'mechanic': 3175, 'mechanical': 3176, 'media': 3177, 'medication': 3178, 'medicine': 3179, 'medieval': 3180, 'medina': 3181, 'mediterranean': 3182, 'meet': 3183, 'meeting': 3184, 'meetings': 3185, 'meets': 3186, 'meganebashi': 3187, 'meguro': 3188, 'meiji': 3189, 'melted': 3190, 'melting': 3191, 'melts': 3192, 'member': 3193, 'members': 3194, 'membership': 3195, 'memo': 3196, 'memories': 3197, 'memorize': 3198, 'memory': 3199, 'men': 3200, 'mentally': 3201, 'mention': 3202, 'menu': 3203, 'merchant': 3204, 'mercury': 3205, 'merged': 3206, 'merry': 3207, 'mesopotamia': 3208, 'mess': 3209, 'message': 3210, 'messages': 3211, 'messenger': 3212, 'met': 3213, 'metal': 3214, 'metals': 3215, 'meter': 3216, 'meters': 3217, 'method': 3218, 'mexican': 3219, 'mexico': 3220, 'mice': 3221, 'michigan': 3222, 'microbiologist': 3223, 'microchips': 3224, 'microphone': 3225, 'microscopic': 3226, 'microwave': 3227, 'middle': 3228, 'midnight': 3229, 'might': 3230, 'mike': 3231, 'milder': 3232, 'mile': 3233, 'miles': 3234, 'military': 3235, 'milk': 3236, 'milkman': 3237, 'miller': 3238, 'million': 3239, 'millions': 3240, 'minachan': 3241, 'mince': 3242, 'mind': 3243, 'mine': 3244, 'miners': 3245, 'minifridge': 3246, 'minimized': 3247, 'minimum': 3248, 'miniskirt': 3249, 'miniskirts': 3250, 'minister': 3251, 'minnesotas': 3252, 'minor': 3253, 'minute': 3254, 'minutes': 3255, 'miracle': 3256, 'miracles': 3257, 'mirror': 3258, 'miso': 3259, 'miss': 3260, 'missed': 3261, 'misses': 3262, 'missing': 3263, 'mississippi': 3264, 'mistake': 3265, 'mistaken': 3266, 'mistakenly': 3267, 'mistakes': 3268, 'mitt': 3269, 'mix': 3270, 'mixing': 3271, 'moaned': 3272, 'mobile': 3273, 'mode': 3274, 'model': 3275, 'modern': 3276, 'molecule': 3277, 'mom': 3278, 'moment': 3279, 'mommy': 3280, 'moms': 3281, 'mona': 3282, 'monarchy': 3283, 'monday': 3284, 'mondays': 3285, 'money': 3286, 'mongolia': 3287, 'monica': 3288, 'monkey': 3289, 'monkeys': 3290, 'monopoly': 3291, 'monotheistic': 3292, 'monroe': 3293, 'monroes': 3294, 'monsoon': 3295, 'monster': 3296, 'monsters': 3297, 'montcalm': 3298, 'monte': 3299, 'month': 3300, 'months': 3301, 'mood': 3302, 'moon': 3303, 'moons': 3304, 'morality': 3305, 'more': 3306, 'mormons': 3307, 'morning': 3308, 'mornings': 3309, 'morocco': 3310, 'moron': 3311, 'morphine': 3312, 'mosque': 3313, 'mosques': 3314, 'mosquito': 3315, 'mosquitoes': 3316, 'most': 3317, 'mostused': 3318, 'mother': 3319, 'motherinlaw': 3320, 'mothers': 3321, 'motor': 3322, 'motorcycle': 3323, 'motorcycles': 3324, 'moultrie': 3325, 'mountain': 3326, 'mountainous': 3327, 'mountains': 3328, 'mouse': 3329, 'mouth': 3330, 'move': 3331, 'moved': 3332, 'movie': 3333, 'movies': 3334, 'moving': 3335, 'mp': 3336, 'mri': 3337, 'mt': 3338, 'much': 3339, 'mud': 3340, 'muffins': 3341, 'mug': 3342, 'muhammad': 3343, 'mumbai': 3344, 'mumps': 3345, 'murder': 3346, 'murdered': 3347, 'murderer': 3348, 'murderers': 3349, 'muscle': 3350, 'muscles': 3351, 'museum': 3352, 'museums': 3353, 'mushroom': 3354, 'music': 3355, 'musician': 3356, 'musicians': 3357, 'muslim': 3358, 'muslims': 3359, 'must': 3360, 'mustache': 3361, 'mustve': 3362, 'my': 3363, 'myself': 3364, 'mysteries': 3365, 'myths': 3366, 'nagasaki': 3367, 'nagoya': 3368, 'nail': 3369, 'nails': 3370, 'nakameguro': 3371, 'naked': 3372, 'name': 3373, 'named': 3374, 'names': 3375, 'nap': 3376, 'naples': 3377, 'napoleon': 3378, 'napoleons': 3379, 'napping': 3380, 'nara': 3381, 'narrow': 3382, 'narrowminded': 3383, 'nasa': 3384, 'nathanael': 3385, 'nation': 3386, 'national': 3387, 'nations': 3388, 'native': 3389, 'natto': 3390, 'natural': 3391, 'nature': 3392, 'naughty': 3393, 'navy': 3394, 'near': 3395, 'nearby': 3396, 'nearest': 3397, 'nearly': 3398, 'necessary': 3399, 'necessity': 3400, 'neck': 3401, 'necklace': 3402, 'necks': 3403, 'need': 3404, 'needed': 3405, 'needing': 3406, 'needle': 3407, 'needs': 3408, 'negative': 3409, 'negotiate': 3410, 'negotiations': 3411, 'negro': 3412, 'neighbor': 3413, 'neighbors': 3414, 'neil': 3415, 'neither': 3416, 'nephew': 3417, 'nephews': 3418, 'neruda': 3419, 'nervous': 3420, 'nests': 3421, 'net': 3422, 'netherlands': 3423, 'nevada': 3424, 'never': 3425, 'new': 3426, 'news': 3427, 'newspaper': 3428, 'newspapers': 3429, 'newton': 3430, 'next': 3431, 'nicaragua': 3432, 'nice': 3433, 'nicer': 3434, 'niece': 3435, 'nigeria': 3436, 'night': 3437, 'nightclub': 3438, 'nightclubs': 3439, 'nightlight': 3440, 'nights': 3441, 'nile': 3442, 'nine': 3443, 'ninetyfive': 3444, 'ninetyfour': 3445, 'ninetytwo': 3446, 'ninja': 3447, 'ninjas': 3448, 'ninth': 3449, 'nitroglycerin': 3450, 'no': 3451, 'nobel': 3452, 'nobody': 3453, 'nobodys': 3454, 'noguchi': 3455, 'noh': 3456, 'noise': 3457, 'noises': 3458, 'noisy': 3459, 'none': 3460, 'nonsense': 3461, 'noodles': 3462, 'noon': 3463, 'nor': 3464, 'normal': 3465, 'north': 3466, 'northern': 3467, 'norway': 3468, 'nose': 3469, 'noses': 3470, 'not': 3471, 'note': 3472, 'notebook': 3473, 'notebooks': 3474, 'nothing': 3475, 'nothingll': 3476, 'nothings': 3477, 'notice': 3478, 'notified': 3479, 'notify': 3480, 'notre': 3481, 'novel': 3482, 'novelist': 3483, 'novels': 3484, 'november': 3485, 'now': 3486, 'nowadays': 3487, 'nowhere': 3488, 'nows': 3489, 'ntt': 3490, 'nuclear': 3491, 'nude': 3492, 'nuggets': 3493, 'number': 3494, 'numbers': 3495, 'numerals': 3496, 'nun': 3497, 'nurse': 3498, 'nursery': 3499, 'nuts': 3500, 'o': 3501, 'oatmeal': 3502, 'obey': 3503, 'obeyed': 3504, 'objected': 3505, 'objection': 3506, 'oboe': 3507, 'obscene': 3508, 'observe': 3509, 'obviously': 3510, 'occasionally': 3511, 'occupied': 3512, 'occur': 3513, 'occurred': 3514, 'ocean': 3515, 'oceans': 3516, 'oclock': 3517, 'october': 3518, 'octopus': 3519, 'odd': 3520, 'of': 3521, 'off': 3522, 'offer': 3523, 'office': 3524, 'officer': 3525, 'officers': 3526, 'official': 3527, 'offline': 3528, 'often': 3529, 'oh': 3530, 'ohio': 3531, 'oil': 3532, 'oiled': 3533, 'ok': 3534, 'okay': 3535, 'okinawa': 3536, 'okra': 3537, 'old': 3538, 'older': 3539, 'oldest': 3540, 'oldies': 3541, 'olympic': 3542, 'omelet': 3543, 'omelette': 3544, 'omitted': 3545, 'on': 3546, 'once': 3547, 'one': 3548, 'ones': 3549, 'oneself': 3550, 'onigiris': 3551, 'onion': 3552, 'onions': 3553, 'online': 3554, 'only': 3555, 'onto': 3556, 'oolong': 3557, 'open': 3558, 'opened': 3559, 'opening': 3560, 'openly': 3561, 'openminded': 3562, 'opens': 3563, 'opera': 3564, 'operate': 3565, 'operation': 3566, 'ophthalmologist': 3567, 'opinion': 3568, 'opponent': 3569, 'opportunities': 3570, 'opportunity': 3571, 'oppose': 3572, 'opposed': 3573, 'opposite': 3574, 'oprah': 3575, 'optimist': 3576, 'option': 3577, 'options': 3578, 'or': 3579, 'orange': 3580, 'oranges': 3581, 'order': 3582, 'ordered': 3583, 'ordering': 3584, 'orders': 3585, 'ordinary': 3586, 'organ': 3587, 'organic': 3588, 'organisms': 3589, 'organist': 3590, 'organize': 3591, 'originally': 3592, 'originated': 3593, 'orleans': 3594, 'orphan': 3595, 'orphans': 3596, 'osaka': 3597, 'oscars': 3598, 'oslo': 3599, 'ostriches': 3600, 'oswald': 3601, 'other': 3602, 'others': 3603, 'ottawa': 3604, 'otto': 3605, 'ottoman': 3606, 'ought': 3607, 'ounces': 3608, 'our': 3609, 'ours': 3610, 'ourselves': 3611, 'oust': 3612, 'out': 3613, 'outdoor': 3614, 'outdoors': 3615, 'outside': 3616, 'oven': 3617, 'over': 3618, 'overcooked': 3619, 'overdosed': 3620, 'overflowed': 3621, 'overnight': 3622, 'overseas': 3623, 'owe': 3624, 'owls': 3625, 'own': 3626, 'owned': 3627, 'owner': 3628, 'owns': 3629, 'oxford': 3630, 'oxygen': 3631, 'oysters': 3632, 'ozaki': 3633, 'pablo': 3634, 'pacific': 3635, 'pack': 3636, 'packed': 3637, 'packing': 3638, 'packs': 3639, 'pad': 3640, 'page': 3641, 'pages': 3642, 'paid': 3643, 'pain': 3644, 'painful': 3645, 'paint': 3646, 'painted': 3647, 'painters': 3648, 'painting': 3649, 'pair': 3650, 'pajamas': 3651, 'pakistan': 3652, 'palace': 3653, 'palms': 3654, 'panama': 3655, 'pancakes': 3656, 'pandas': 3657, 'paper': 3658, 'papers': 3659, 'paprika': 3660, 'parachute': 3661, 'paraguay': 3662, 'paramedic': 3663, 'parcel': 3664, 'parent': 3665, 'parents': 3666, 'paris': 3667, 'park': 3668, 'parked': 3669, 'parks': 3670, 'parliament': 3671, 'parrot': 3672, 'parrots': 3673, 'part': 3674, 'participants': 3675, 'participate': 3676, 'particularly': 3677, 'partied': 3678, 'parts': 3679, 'party': 3680, 'partys': 3681, 'pass': 3682, 'passage': 3683, 'passed': 3684, 'passengers': 3685, 'passport': 3686, 'password': 3687, 'past': 3688, 'pasta': 3689, 'pastor': 3690, 'path': 3691, 'patience': 3692, 'patient': 3693, 'patients': 3694, 'patriot': 3695, 'patriotism': 3696, 'paul': 3697, 'pause': 3698, 'pawned': 3699, 'pay': 3700, 'paying': 3701, 'pays': 3702, 'pbs': 3703, 'peace': 3704, 'peaceful': 3705, 'peanut': 3706, 'peanuts': 3707, 'pearl': 3708, 'pearls': 3709, 'peas': 3710, 'pebble': 3711, 'pediatrician': 3712, 'peeked': 3713, 'peel': 3714, 'peeled': 3715, 'peeling': 3716, 'pelican': 3717, 'pelicans': 3718, 'pen': 3719, 'pencil': 3720, 'pencils': 3721, 'penguins': 3722, 'peninsula': 3723, 'pens': 3724, 'people': 3725, 'peoples': 3726, 'pepper': 3727, 'pepperoni': 3728, 'pepsi': 3729, 'per': 3730, 'percent': 3731, 'perfect': 3732, 'perfecting': 3733, 'perhaps': 3734, 'period': 3735, 'perl': 3736, 'permission': 3737, 'permitted': 3738, 'persian': 3739, 'person': 3740, 'personal': 3741, 'perspiration': 3742, 'perth': 3743, 'peru': 3744, 'pesos': 3745, 'pestering': 3746, 'pet': 3747, 'petroleum': 3748, 'pharmacy': 3749, 'philip': 3750, 'philippine': 3751, 'philosophy': 3752, 'phoenix': 3753, 'phone': 3754, 'phoned': 3755, 'phones': 3756, 'photo': 3757, 'photogenic': 3758, 'photograph': 3759, 'photographer': 3760, 'photographs': 3761, 'photography': 3762, 'photos': 3763, 'physicist': 3764, 'physics': 3765, 'pianist': 3766, 'piano': 3767, 'picasso': 3768, 'piccolo': 3769, 'pick': 3770, 'picked': 3771, 'picking': 3772, 'pickpockets': 3773, 'picnic': 3774, 'picnics': 3775, 'picture': 3776, 'pictures': 3777, 'picturesque': 3778, 'pie': 3779, 'piece': 3780, 'pieces': 3781, 'pierce': 3782, 'pierced': 3783, 'pies': 3784, 'pig': 3785, 'pigeon': 3786, 'pigeons': 3787, 'pigs': 3788, 'pill': 3789, 'pillow': 3790, 'pillows': 3791, 'pills': 3792, 'pilot': 3793, 'pilots': 3794, 'pin': 3795, 'pineapple': 3796, 'pink': 3797, 'pint': 3798, 'pirate': 3799, 'pistachio': 3800, 'pistol': 3801, 'pitcher': 3802, 'pitt': 3803, 'pity': 3804, 'pizza': 3805, 'pizzas': 3806, 'place': 3807, 'placebo': 3808, 'places': 3809, 'plain': 3810, 'plainlooking': 3811, 'plainly': 3812, 'plains': 3813, 'plan': 3814, 'plane': 3815, 'planes': 3816, 'planet': 3817, 'planned': 3818, 'planning': 3819, 'plans': 3820, 'plant': 3821, 'planted': 3822, 'planting': 3823, 'plants': 3824, 'plastic': 3825, 'plate': 3826, 'plates': 3827, 'platform': 3828, 'play': 3829, 'played': 3830, 'player': 3831, 'players': 3832, 'playing': 3833, 'plays': 3834, 'playstation': 3835, 'please': 3836, 'plenty': 3837, 'plumber': 3838, 'plumbers': 3839, 'pm': 3840, 'pocket': 3841, 'pockets': 3842, 'podcast': 3843, 'podcasts': 3844, 'poem': 3845, 'poems': 3846, 'poet': 3847, 'poetry': 3848, 'poets': 3849, 'point': 3850, 'pointed': 3851, 'points': 3852, 'poison': 3853, 'poisonous': 3854, 'poker': 3855, 'pokes': 3856, 'poland': 3857, 'pole': 3858, 'police': 3859, 'policeman': 3860, 'policemen': 3861, 'policy': 3862, 'polish': 3863, 'polished': 3864, 'political': 3865, 'politician': 3866, 'politicians': 3867, 'politics': 3868, 'polk': 3869, 'pollute': 3870, 'polluted': 3871, 'polluting': 3872, 'pollution': 3873, 'pomegranate': 3874, 'pony': 3875, 'pool': 3876, 'pools': 3877, 'poor': 3878, 'poorest': 3879, 'pop': 3880, 'popcorn': 3881, 'pope': 3882, 'popular': 3883, 'popularity': 3884, 'population': 3885, 'porcupine': 3886, 'pork': 3887, 'portugal': 3888, 'portuguese': 3889, 'position': 3890, 'positive': 3891, 'possibility': 3892, 'possible': 3893, 'possibly': 3894, 'post': 3895, 'postcard': 3896, 'posted': 3897, 'posters': 3898, 'pot': 3899, 'potato': 3900, 'potatoes': 3901, 'pound': 3902, 'pounds': 3903, 'pour': 3904, 'poured': 3905, 'poverty': 3906, 'power': 3907, 'powerful': 3908, 'poyang': 3909, 'practicing': 3910, 'prague': 3911, 'praise': 3912, 'pray': 3913, 'prayed': 3914, 'prayers': 3915, 'praying': 3916, 'precious': 3917, 'prefectures': 3918, 'prefer': 3919, 'prefers': 3920, 'pregnant': 3921, 'prepare': 3922, 'prepared': 3923, 'prepares': 3924, 'preparing': 3925, 'present': 3926, 'presenting': 3927, 'presents': 3928, 'preserved': 3929, 'president': 3930, 'presidents': 3931, 'press': 3932, 'pressed': 3933, 'pretended': 3934, 'pretty': 3935, 'prevail': 3936, 'previously': 3937, 'price': 3938, 'prices': 3939, 'priest': 3940, 'primarily': 3941, 'prime': 3942, 'prince': 3943, 'princess': 3944, 'print': 3945, 'printer': 3946, 'printing': 3947, 'prison': 3948, 'prisoner': 3949, 'prisoners': 3950, 'private': 3951, 'prize': 3952, 'pro': 3953, 'probably': 3954, 'problem': 3955, 'problems': 3956, 'process': 3957, 'processor': 3958, 'produce': 3959, 'produced': 3960, 'produces': 3961, 'production': 3962, 'professional': 3963, 'professor': 3964, 'profile': 3965, 'program': 3966, 'programed': 3967, 'programmer': 3968, 'programmers': 3969, 'programming': 3970, 'programs': 3971, 'progress': 3972, 'prohibited': 3973, 'project': 3974, 'promise': 3975, 'promised': 3976, 'promoted': 3977, 'promotion': 3978, 'pronounce': 3979, 'pronounced': 3980, 'pronounces': 3981, 'pronunciation': 3982, 'proof': 3983, 'property': 3984, 'prophecy': 3985, 'prophet': 3986, 'propose': 3987, 'proposed': 3988, 'protect': 3989, 'protection': 3990, 'protest': 3991, 'protested': 3992, 'proud': 3993, 'prove': 3994, 'proved': 3995, 'proven': 3996, 'proverbs': 3997, 'proves': 3998, 'provide': 3999, 'provided': 4000, 'provinces': 4001, 'provoke': 4002, 'prussian': 4003, 'psychiatrist': 4004, 'psychology': 4005, 'pub': 4006, 'public': 4007, 'publish': 4008, 'published': 4009, 'publishing': 4010, 'pudding': 4011, 'puffs': 4012, 'pull': 4013, 'pulled': 4014, 'pulling': 4015, 'pump': 4016, 'punished': 4017, 'punishing': 4018, 'punishment': 4019, 'punk': 4020, 'puppy': 4021, 'purchased': 4022, 'pure': 4023, 'purple': 4024, 'purpose': 4025, 'purse': 4026, 'pursued': 4027, 'push': 4028, 'pushed': 4029, 'pushing': 4030, 'pushups': 4031, 'put': 4032, 'puts': 4033, 'putt': 4034, 'putting': 4035, 'puzzle': 4036, 'puzzles': 4037, 'pyramid': 4038, 'python': 4039, 'qr': 4040, 'quadcore': 4041, 'quantity': 4042, 'quarrel': 4043, 'quarreled': 4044, 'quarreling': 4045, 'quarter': 4046, 'queen': 4047, 'queens': 4048, 'question': 4049, 'questioned': 4050, 'questions': 4051, 'quick': 4052, 'quickly': 4053, 'quiet': 4054, 'quietly': 4055, 'quit': 4056, 'quite': 4057, 'quitting': 4058, 'quran': 4059, 'rabat': 4060, 'rabbi': 4061, 'rabbit': 4062, 'rabbits': 4063, 'raccoon': 4064, 'race': 4065, 'races': 4066, 'racket': 4067, 'rackets': 4068, 'radar': 4069, 'radio': 4070, 'radios': 4071, 'radium': 4072, 'rain': 4073, 'raincoat': 4074, 'rained': 4075, 'raining': 4076, 'rains': 4077, 'rainy': 4078, 'raise': 4079, 'raised': 4080, 'ram': 4081, 'ramadan': 4082, 'ramen': 4083, 'ran': 4084, 'rang': 4085, 'rap': 4086, 'rapidly': 4087, 'rapper': 4088, 'rare': 4089, 'rarely': 4090, 'rat': 4091, 'rate': 4092, 'rather': 4093, 'rats': 4094, 'raven': 4095, 'raw': 4096, 'razor': 4097, 'reach': 4098, 'reached': 4099, 'read': 4100, 'readily': 4101, 'reading': 4102, 'reads': 4103, 'ready': 4104, 'real': 4105, 'reality': 4106, 'realize': 4107, 'realized': 4108, 'realizes': 4109, 'really': 4110, 'reap': 4111, 'reason': 4112, 'reasons': 4113, 'rebel': 4114, 'rebellion': 4115, 'rebels': 4116, 'receipt': 4117, 'receive': 4118, 'received': 4119, 'recent': 4120, 'recently': 4121, 'rechargeable': 4122, 'recipe': 4123, 'recognised': 4124, 'recognition': 4125, 'recognize': 4126, 'recognized': 4127, 'reconsider': 4128, 'record': 4129, 'recorded': 4130, 'recorder': 4131, 'records': 4132, 'recovered': 4133, 'recycle': 4134, 'red': 4135, 'redneck': 4136, 'referred': 4137, 'refrigerator': 4138, 'refrigerators': 4139, 'refugees': 4140, 'refuse': 4141, 'refused': 4142, 'regained': 4143, 'regarded': 4144, 'reggae': 4145, 'register': 4146, 'registered': 4147, 'regret': 4148, 'regular': 4149, 'reigned': 4150, 'reinstall': 4151, 'rejected': 4152, 'related': 4153, 'relations': 4154, 'relationships': 4155, 'relative': 4156, 'relatives': 4157, 'relativity': 4158, 'relax': 4159, 'release': 4160, 'released': 4161, 'religion': 4162, 'religions': 4163, 'religious': 4164, 'reloaded': 4165, 'remain': 4166, 'remained': 4167, 'remaining': 4168, 'remains': 4169, 'remarkable': 4170, 'remarried': 4171, 'remember': 4172, 'remembered': 4173, 'remembers': 4174, 'remind': 4175, 'reminded': 4176, 'reminds': 4177, 'remington': 4178, 'remote': 4179, 'removal': 4180, 'remove': 4181, 'removed': 4182, 'rent': 4183, 'rented': 4184, 'repainted': 4185, 'repair': 4186, 'repaired': 4187, 'repairing': 4188, 'repeated': 4189, 'replace': 4190, 'replied': 4191, 'reply': 4192, 'report': 4193, 'reporter': 4194, 'representative': 4195, 'republic': 4196, 'republican': 4197, 'republicans': 4198, 'requires': 4199, 'rescue': 4200, 'rescued': 4201, 'research': 4202, 'resemble': 4203, 'resembles': 4204, 'reservation': 4205, 'reserved': 4206, 'residents': 4207, 'resign': 4208, 'resigned': 4209, 'resigning': 4210, 'resonance': 4211, 'resources': 4212, 'respect': 4213, 'respected': 4214, 'respects': 4215, 'respond': 4216, 'responsibility': 4217, 'responsible': 4218, 'rest': 4219, 'restaurant': 4220, 'restaurants': 4221, 'rested': 4222, 'resting': 4223, 'restroom': 4224, 'result': 4225, 'retired': 4226, 'retirement': 4227, 'retreated': 4228, 'return': 4229, 'returned': 4230, 'retweeted': 4231, 'revolution': 4232, 'revolve': 4233, 'revolver': 4234, 'reward': 4235, 'rewarded': 4236, 'rhetorical': 4237, 'rhinewestphalia': 4238, 'rice': 4239, 'rich': 4240, 'richer': 4241, 'riches': 4242, 'richest': 4243, 'rid': 4244, 'riddle': 4245, 'riddles': 4246, 'ride': 4247, 'rides': 4248, 'ridge': 4249, 'riding': 4250, 'rifle': 4251, 'right': 4252, 'rights': 4253, 'ring': 4254, 'ringing': 4255, 'rings': 4256, 'rio': 4257, 'ripe': 4258, 'ripped': 4259, 'rises': 4260, 'rising': 4261, 'risk': 4262, 'risks': 4263, 'risotto': 4264, 'river': 4265, 'rivers': 4266, 'road': 4267, 'roads': 4268, 'roast': 4269, 'robbed': 4270, 'robot': 4271, 'robots': 4272, 'rock': 4273, 'rockefeller': 4274, 'rocket': 4275, 'rockets': 4276, 'rocks': 4277, 'rode': 4278, 'roger': 4279, 'role': 4280, 'roll': 4281, 'roller': 4282, 'rollerskate': 4283, 'rolls': 4284, 'roman': 4285, 'romania': 4286, 'romanias': 4287, 'romans': 4288, 'rome': 4289, 'roof': 4290, 'room': 4291, 'roommate': 4292, 'rooms': 4293, 'roosevelt': 4294, 'roosters': 4295, 'root': 4296, 'rooting': 4297, 'rope': 4298, 'rose': 4299, 'roses': 4300, 'rotten': 4301, 'rotting': 4302, 'rough': 4303, 'round': 4304, 'royal': 4305, 'royce': 4306, 'rub': 4307, 'rubbed': 4308, 'rubber': 4309, 'rubicon': 4310, 'ruby': 4311, 'rude': 4312, 'rugby': 4313, 'rugs': 4314, 'ruin': 4315, 'ruined': 4316, 'rule': 4317, 'ruled': 4318, 'ruler': 4319, 'rules': 4320, 'rumor': 4321, 'rumors': 4322, 'run': 4323, 'running': 4324, 'runs': 4325, 'rural': 4326, 'rush': 4327, 'russia': 4328, 'russian': 4329, 'russians': 4330, 'rusty': 4331, 's': 4332, 'sacramento': 4333, 'sacred': 4334, 'sacrificed': 4335, 'sad': 4336, 'saddle': 4337, 'saddles': 4338, 'safe': 4339, 'saga': 4340, 'sahara': 4341, 'said': 4342, 'sailors': 4343, 'saint': 4344, 'saints': 4345, 'saitama': 4346, 'sake': 4347, 'salad': 4348, 'salary': 4349, 'sale': 4350, 'salesman': 4351, 'salmon': 4352, 'salon': 4353, 'salt': 4354, 'salty': 4355, 'salvation': 4356, 'same': 4357, 'samesex': 4358, 'samosa': 4359, 'samurai': 4360, 'samurais': 4361, 'san': 4362, 'sand': 4363, 'sandwich': 4364, 'sandwiches': 4365, 'sang': 4366, 'sangria': 4367, 'sank': 4368, 'sat': 4369, 'satellite': 4370, 'satellites': 4371, 'satisfied': 4372, 'saturday': 4373, 'saturdays': 4374, 'saturn': 4375, 'sauce': 4376, 'saudi': 4377, 'sauerkraut': 4378, 'sauna': 4379, 'save': 4380, 'saved': 4381, 'saver': 4382, 'saves': 4383, 'saving': 4384, 'saw': 4385, 'saxophonist': 4386, 'say': 4387, 'saying': 4388, 'says': 4389, 'scanned': 4390, 'scare': 4391, 'scared': 4392, 'scheduled': 4393, 'schizophrenic': 4394, 'schnapps': 4395, 'scholar': 4396, 'school': 4397, 'schools': 4398, 'science': 4399, 'scientific': 4400, 'scientist': 4401, 'scientists': 4402, 'scissors': 4403, 'scones': 4404, 'scooter': 4405, 'score': 4406, 'scores': 4407, 'scorpions': 4408, 'scotland': 4409, 'scottish': 4410, 'scratch': 4411, 'scream': 4412, 'screamed': 4413, 'screaming': 4414, 'screen': 4415, 'screw': 4416, 'screwdriver': 4417, 'scriptwriter': 4418, 'scrub': 4419, 'scrubbed': 4420, 'sea': 4421, 'seacoast': 4422, 'search': 4423, 'searched': 4424, 'searching': 4425, 'season': 4426, 'seasons': 4427, 'seat': 4428, 'seated': 4429, 'seats': 4430, 'sec': 4431, 'second': 4432, 'secondhand': 4433, 'seconds': 4434, 'secret': 4435, 'secretaries': 4436, 'secretary': 4437, 'security': 4438, 'sedative': 4439, 'see': 4440, 'seeds': 4441, 'seeing': 4442, 'seek': 4443, 'seem': 4444, 'seemed': 4445, 'seems': 4446, 'seen': 4447, 'sees': 4448, 'seine': 4449, 'seized': 4450, 'seldom': 4451, 'selfish': 4452, 'sell': 4453, 'selling': 4454, 'sells': 4455, 'seminar': 4456, 'senate': 4457, 'send': 4458, 'sending': 4459, 'sends': 4460, 'sense': 4461, 'sensei': 4462, 'sent': 4463, 'sentence': 4464, 'sentenced': 4465, 'sentences': 4466, 'seoul': 4467, 'separate': 4468, 'september': 4469, 'serbia': 4470, 'serbias': 4471, 'series': 4472, 'serious': 4473, 'seriously': 4474, 'servant': 4475, 'serve': 4476, 'served': 4477, 'server': 4478, 'serves': 4479, 'service': 4480, 'set': 4481, 'sets': 4482, 'setting': 4483, 'settled': 4484, 'settlers': 4485, 'seven': 4486, 'seventeen': 4487, 'seventh': 4488, 'seventy': 4489, 'sevenyearold': 4490, 'several': 4491, 'severely': 4492, 'sewing': 4493, 'sexual': 4494, 'sexy': 4495, 'shade': 4496, 'shadow': 4497, 'shadows': 4498, 'shag': 4499, 'shaken': 4500, 'shakespeare': 4501, 'shakespeares': 4502, 'shaking': 4503, 'shakyamuni': 4504, 'shall': 4505, 'shame': 4506, 'shameless': 4507, 'shampoo': 4508, 'shanghai': 4509, 'shape': 4510, 'shaped': 4511, 'shark': 4512, 'sharp': 4513, 'shave': 4514, 'shaved': 4515, 'shaver': 4516, 'shaves': 4517, 'shaving': 4518, 'she': 4519, 'sheep': 4520, 'shelf': 4521, 'shell': 4522, 'shepard': 4523, 'sheriff': 4524, 'shes': 4525, 'shibuya': 4526, 'shichigosan': 4527, 'shift': 4528, 'shiitake': 4529, 'shikoku': 4530, 'shillings': 4531, 'shinano': 4532, 'shine': 4533, 'shining': 4534, 'shinjuku': 4535, 'shinkansen': 4536, 'shiny': 4537, 'ship': 4538, 'ships': 4539, 'shirt': 4540, 'shirts': 4541, 'shock': 4542, 'shocked': 4543, 'shoe': 4544, 'shoes': 4545, 'shone': 4546, 'shook': 4547, 'shoot': 4548, 'shooting': 4549, 'shop': 4550, 'shopping': 4551, 'shops': 4552, 'short': 4553, 'shortcut': 4554, 'shorter': 4555, 'shortly': 4556, 'shot': 4557, 'should': 4558, 'shoulder': 4559, 'shoulders': 4560, 'shouldnt': 4561, 'shouldve': 4562, 'shout': 4563, 'shouted': 4564, 'shouting': 4565, 'shouts': 4566, 'show': 4567, 'showed': 4568, 'shower': 4569, 'showing': 4570, 'shown': 4571, 'shrimp': 4572, 'shrine': 4573, 'shuffled': 4574, 'shut': 4575, 'shy': 4576, 'sick': 4577, 'side': 4578, 'sides': 4579, 'sight': 4580, 'sign': 4581, 'signature': 4582, 'signed': 4583, 'signing': 4584, 'silence': 4585, 'silent': 4586, 'silky': 4587, 'silly': 4588, 'silver': 4589, 'similar': 4590, 'simple': 4591, 'simply': 4592, 'sin': 4593, 'sinatra': 4594, 'since': 4595, 'sinful': 4596, 'sing': 4597, 'singapore': 4598, 'singer': 4599, 'singers': 4600, 'singing': 4601, 'single': 4602, 'sings': 4603, 'sink': 4604, 'sinking': 4605, 'sinks': 4606, 'sinned': 4607, 'sinners': 4608, 'sir': 4609, 'sirhan': 4610, 'sister': 4611, 'sisterinlaw': 4612, 'sisters': 4613, 'sit': 4614, 'sitar': 4615, 'site': 4616, 'sits': 4617, 'sitting': 4618, 'situated': 4619, 'situation': 4620, 'six': 4621, 'sixteen': 4622, 'sixth': 4623, 'sixty': 4624, 'sixtyfour': 4625, 'size': 4626, 'skate': 4627, 'skates': 4628, 'skating': 4629, 'ski': 4630, 'skiing': 4631, 'skin': 4632, 'skinny': 4633, 'skipped': 4634, 'skirt': 4635, 'skirts': 4636, 'skis': 4637, 'skull': 4638, 'sky': 4639, 'skyscraper': 4640, 'slammed': 4641, 'slave': 4642, 'slavery': 4643, 'slaves': 4644, 'sleep': 4645, 'sleeping': 4646, 'sleeps': 4647, 'sleepy': 4648, 'slept': 4649, 'slice': 4650, 'sliced': 4651, 'slicing': 4652, 'slightly': 4653, 'slipped': 4654, 'slippers': 4655, 'slow': 4656, 'slowly': 4657, 'slums': 4658, 'small': 4659, 'smaller': 4660, 'smallest': 4661, 'smart': 4662, 'smarter': 4663, 'smartphone': 4664, 'smashed': 4665, 'smell': 4666, 'smelled': 4667, 'smells': 4668, 'smith': 4669, 'smoke': 4670, 'smokes': 4671, 'smoking': 4672, 'smooth': 4673, 'smoothly': 4674, 'snake': 4675, 'snakes': 4676, 'sneeze': 4677, 'sneezed': 4678, 'sneezing': 4679, 'snore': 4680, 'snores': 4681, 'snoring': 4682, 'snow': 4683, 'snowball': 4684, 'snowballs': 4685, 'snowboarding': 4686, 'snowed': 4687, 'snowing': 4688, 'snows': 4689, 'so': 4690, 'soap': 4691, 'soccer': 4692, 'social': 4693, 'socialist': 4694, 'society': 4695, 'sociologist': 4696, 'sock': 4697, 'socks': 4698, 'soda': 4699, 'sofa': 4700, 'soft': 4701, 'software': 4702, 'soil': 4703, 'solar': 4704, 'sold': 4705, 'soldier': 4706, 'soldiers': 4707, 'solitaire': 4708, 'solo': 4709, 'solution': 4710, 'solve': 4711, 'solved': 4712, 'sombrero': 4713, 'some': 4714, 'somebody': 4715, 'someday': 4716, 'somehow': 4717, 'someone': 4718, 'someones': 4719, 'someplace': 4720, 'something': 4721, 'somethings': 4722, 'sometimes': 4723, 'somewhat': 4724, 'somewhere': 4725, 'son': 4726, 'sonata': 4727, 'sone': 4728, 'song': 4729, 'songs': 4730, 'sonnets': 4731, 'sons': 4732, 'soon': 4733, 'sooner': 4734, 'soprano': 4735, 'sorry': 4736, 'sort': 4737, 'sorts': 4738, 'soul': 4739, 'sound': 4740, 'sounded': 4741, 'sounds': 4742, 'soup': 4743, 'soups': 4744, 'sour': 4745, 'source': 4746, 'south': 4747, 'southern': 4748, 'soviet': 4749, 'sow': 4750, 'sox': 4751, 'space': 4752, 'spaceship': 4753, 'spacesuits': 4754, 'spades': 4755, 'spaghetti': 4756, 'spain': 4757, 'spains': 4758, 'spanish': 4759, 'spare': 4760, 'speak': 4761, 'speaker': 4762, 'speakers': 4763, 'speaking': 4764, 'speaks': 4765, 'spear': 4766, 'spears': 4767, 'special': 4768, 'speech': 4769, 'speeches': 4770, 'speed': 4771, 'spelled': 4772, 'spellings': 4773, 'spend': 4774, 'spending': 4775, 'spends': 4776, 'spent': 4777, 'sphinx': 4778, 'spicy': 4779, 'spies': 4780, 'spilled': 4781, 'spilling': 4782, 'spinach': 4783, 'spirits': 4784, 'spit': 4785, 'split': 4786, 'spoil': 4787, 'spoiled': 4788, 'spoke': 4789, 'spoken': 4790, 'spoon': 4791, 'spoonful': 4792, 'spoonfuls': 4793, 'spoons': 4794, 'sport': 4795, 'sports': 4796, 'spot': 4797, 'spotless': 4798, 'spread': 4799, 'spring': 4800, 'springtime': 4801, 'sputnik': 4802, 'spy': 4803, 'square': 4804, 'squash': 4805, 'squeezed': 4806, 'squid': 4807, 'sri': 4808, 'st': 4809, 'stabbed': 4810, 'stadium': 4811, 'stain': 4812, 'stained': 4813, 'stairs': 4814, 'stalin': 4815, 'stalling': 4816, 'stamps': 4817, 'stand': 4818, 'standing': 4819, 'stands': 4820, 'stapler': 4821, 'star': 4822, 'stared': 4823, 'staring': 4824, 'stark': 4825, 'stars': 4826, 'start': 4827, 'started': 4828, 'starting': 4829, 'starts': 4830, 'startup': 4831, 'starve': 4832, 'state': 4833, 'states': 4834, 'statess': 4835, 'station': 4836, 'statue': 4837, 'statues': 4838, 'stay': 4839, 'stayed': 4840, 'staying': 4841, 'stays': 4842, 'steak': 4843, 'steaks': 4844, 'steal': 4845, 'stealing': 4846, 'steals': 4847, 'steel': 4848, 'stenography': 4849, 'step': 4850, 'stepped': 4851, 'steroids': 4852, 'stick': 4853, 'sticks': 4854, 'sticky': 4855, 'still': 4856, 'stirred': 4857, 'stock': 4858, 'stockholm': 4859, 'stole': 4860, 'stolen': 4861, 'stomach': 4862, 'stomachache': 4863, 'stone': 4864, 'stones': 4865, 'stood': 4866, 'stool': 4867, 'stop': 4868, 'stopped': 4869, 'stops': 4870, 'store': 4871, 'stores': 4872, 'stories': 4873, 'storm': 4874, 'story': 4875, 'stove': 4876, 'straight': 4877, 'strainer': 4878, 'strange': 4879, 'stranger': 4880, 'strangers': 4881, 'strawberries': 4882, 'strawberry': 4883, 'street': 4884, 'streets': 4885, 'strength': 4886, 'strengthen': 4887, 'stretch': 4888, 'stretched': 4889, 'strict': 4890, 'strike': 4891, 'stripes': 4892, 'stripped': 4893, 'strong': 4894, 'stronger': 4895, 'strongest': 4896, 'struck': 4897, 'structure': 4898, 'struggled': 4899, 'stuck': 4900, 'student': 4901, 'students': 4902, 'studied': 4903, 'studies': 4904, 'study': 4905, 'studying': 4906, 'stuff': 4907, 'stuffed': 4908, 'stupid': 4909, 'stupidity': 4910, 'subject': 4911, 'subjects': 4912, 'submit': 4913, 'subway': 4914, 'succeed': 4915, 'succeeded': 4916, 'succeeds': 4917, 'success': 4918, 'successful': 4919, 'such': 4920, 'sudden': 4921, 'suddenly': 4922, 'sugar': 4923, 'sugary': 4924, 'suggest': 4925, 'suicide': 4926, 'suit': 4927, 'suitcase': 4928, 'suitcases': 4929, 'sukiyaki': 4930, 'sum': 4931, 'sumatra': 4932, 'summer': 4933, 'summers': 4934, 'sumo': 4935, 'sumter': 4936, 'sun': 4937, 'sunday': 4938, 'sundays': 4939, 'sunflower': 4940, 'sung': 4941, 'sunlight': 4942, 'sunrise': 4943, 'sunscreen': 4944, 'sunshine': 4945, 'superhero': 4946, 'superman': 4947, 'supermarket': 4948, 'supermodel': 4949, 'superpowers': 4950, 'supervisor': 4951, 'supplied': 4952, 'supplies': 4953, 'supply': 4954, 'support': 4955, 'supported': 4956, 'supporters': 4957, 'suppose': 4958, 'supposed': 4959, 'supreme': 4960, 'sure': 4961, 'surfing': 4962, 'surgeon': 4963, 'surgery': 4964, 'surprise': 4965, 'surprised': 4966, 'surprising': 4967, 'surrounded': 4968, 'survive': 4969, 'survived': 4970, 'sushi': 4971, 'suspect': 4972, 'suspected': 4973, 'suspicious': 4974, 'swallow': 4975, 'swallowed': 4976, 'swam': 4977, 'swear': 4978, 'swearing': 4979, 'swears': 4980, 'sweat': 4981, 'sweater': 4982, 'sweden': 4983, 'swedish': 4984, 'sweet': 4985, 'sweetest': 4986, 'swelling': 4987, 'swim': 4988, 'swimming': 4989, 'swims': 4990, 'swimsuit': 4991, 'swing': 4992, 'swiss': 4993, 'switch': 4994, 'switched': 4995, 'switzerland': 4996, 'swollen': 4997, 'sword': 4998, 'sydney': 4999, 'symptoms': 5000, 'synonymous': 5001, 'syria': 5002, 'syrias': 5003, 'syrup': 5004, 'system': 5005, 'systems': 5006, 'table': 5007, 'tables': 5008, 'tacos': 5009, 'tadpoles': 5010, 'tag': 5011, 'tagalog': 5012, 'tail': 5013, 'tailor': 5014, 'taj': 5015, 'take': 5016, 'taken': 5017, 'takes': 5018, 'taking': 5019, 'talk': 5020, 'talked': 5021, 'talking': 5022, 'talks': 5023, 'tall': 5024, 'taller': 5025, 'tallest': 5026, 'tamed': 5027, 'tandoori': 5028, 'tango': 5029, 'tank': 5030, 'tanker': 5031, 'tap': 5032, 'tape': 5033, 'task': 5034, 'taste': 5035, 'tasted': 5036, 'tastes': 5037, 'tasty': 5038, 'tatami': 5039, 'tatoeba': 5040, 'tattoo': 5041, 'tattooed': 5042, 'taught': 5043, 'tax': 5044, 'taxes': 5045, 'taxi': 5046, 'taxis': 5047, 'taylor': 5048, 'tea': 5049, 'teach': 5050, 'teacher': 5051, 'teachers': 5052, 'teaches': 5053, 'teaching': 5054, 'team': 5055, 'teams': 5056, 'tear': 5057, 'tearing': 5058, 'tears': 5059, 'teased': 5060, 'teasing': 5061, 'teaspoon': 5062, 'technicians': 5063, 'technology': 5064, 'teeth': 5065, 'teetotaller': 5066, 'telegram': 5067, 'telephone': 5068, 'telescope': 5069, 'television': 5070, 'televisions': 5071, 'tell': 5072, 'telling': 5073, 'tells': 5074, 'template': 5075, 'temple': 5076, 'temples': 5077, 'temporary': 5078, 'tempura': 5079, 'ten': 5080, 'tender': 5081, 'tennessee': 5082, 'tennis': 5083, 'tent': 5084, 'tenth': 5085, 'tenthirty': 5086, 'tenyearold': 5087, 'teresa': 5088, 'termites': 5089, 'terrible': 5090, 'terribly': 5091, 'terrific': 5092, 'territories': 5093, 'territory': 5094, 'terror': 5095, 'terrorism': 5096, 'terrorist': 5097, 'terrorists': 5098, 'terrorized': 5099, 'test': 5100, 'testament': 5101, 'tested': 5102, 'testing': 5103, 'tests': 5104, 'tetris': 5105, 'texans': 5106, 'texas': 5107, 'text': 5108, 'textbook': 5109, 'textbooks': 5110, 'texting': 5111, 'texts': 5112, 'th': 5113, 'thai': 5114, 'thailand': 5115, 'thailands': 5116, 'thames': 5117, 'than': 5118, 'thank': 5119, 'thanked': 5120, 'thanks': 5121, 'thanksgiving': 5122, 'that': 5123, 'thatll': 5124, 'thats': 5125, 'the': 5126, 'theater': 5127, 'their': 5128, 'theirs': 5129, 'them': 5130, 'themselves': 5131, 'then': 5132, 'theory': 5133, 'there': 5134, 'therell': 5135, 'theres': 5136, 'these': 5137, 'they': 5138, 'theyd': 5139, 'theyll': 5140, 'theyre': 5141, 'theyve': 5142, 'thick': 5143, 'thief': 5144, 'thieves': 5145, 'thin': 5146, 'thing': 5147, 'things': 5148, 'think': 5149, 'thinking': 5150, 'thinks': 5151, 'third': 5152, 'thirsty': 5153, 'thirteen': 5154, 'thirteenth': 5155, 'thirteenyearold': 5156, 'thirty': 5157, 'thirtyfour': 5158, 'thirtyyearold': 5159, 'this': 5160, 'thisll': 5161, 'thomas': 5162, 'thorns': 5163, 'thoroughly': 5164, 'those': 5165, 'though': 5166, 'thought': 5167, 'thoughts': 5168, 'thousand': 5169, 'thousands': 5170, 'thread': 5171, 'threaten': 5172, 'threatened': 5173, 'three': 5174, 'threeandahalfmillion': 5175, 'threebedroom': 5176, 'threemonthold': 5177, 'threeroom': 5178, 'threeyear': 5179, 'threeyearold': 5180, 'threw': 5181, 'throat': 5182, 'throats': 5183, 'through': 5184, 'throughout': 5185, 'throw': 5186, 'throwing': 5187, 'thrown': 5188, 'throws': 5189, 'thumb': 5190, 'thumper': 5191, 'thunder': 5192, 'thundered': 5193, 'thursday': 5194, 'ticket': 5195, 'tickets': 5196, 'ticking': 5197, 'tickle': 5198, 'tie': 5199, 'tied': 5200, 'ties': 5201, 'tiger': 5202, 'tigers': 5203, 'tightly': 5204, 'till': 5205, 'time': 5206, 'timer': 5207, 'times': 5208, 'timetable': 5209, 'tiny': 5210, 'tip': 5211, 'tire': 5212, 'tired': 5213, 'tires': 5214, 'title': 5215, 'tiên': 5216, 'to': 5217, 'toast': 5218, 'toaster': 5219, 'today': 5220, 'todays': 5221, 'toes': 5222, 'tofu': 5223, 'together': 5224, 'toilet': 5225, 'tokyo': 5226, 'told': 5227, 'tolerate': 5228, 'tom': 5229, 'tomato': 5230, 'tomatoes': 5231, 'tomll': 5232, 'tommy': 5233, 'tomography': 5234, 'tomorrow': 5235, 'tomorrows': 5236, 'toms': 5237, 'tongue': 5238, 'tonight': 5239, 'tonsillitis': 5240, 'too': 5241, 'took': 5242, 'tooth': 5243, 'toothache': 5244, 'toothbrush': 5245, 'toothpaste': 5246, 'top': 5247, 'topic': 5248, 'tops': 5249, 'tore': 5250, 'tories': 5251, 'torn': 5252, 'toronto': 5253, 'tortellini': 5254, 'tossed': 5255, 'total': 5256, 'totally': 5257, 'tottori': 5258, 'touch': 5259, 'touchdown': 5260, 'touched': 5261, 'toudaiji': 5262, 'tough': 5263, 'tougher': 5264, 'tour': 5265, 'tourist': 5266, 'tourists': 5267, 'towada': 5268, 'toward': 5269, 'towards': 5270, 'towel': 5271, 'toweldried': 5272, 'towels': 5273, 'tower': 5274, 'town': 5275, 'towns': 5276, 'toy': 5277, 'toys': 5278, 'traces': 5279, 'tracking': 5280, 'tractor': 5281, 'trade': 5282, 'trades': 5283, 'tradition': 5284, 'traditional': 5285, 'traditionally': 5286, 'traditions': 5287, 'traffic': 5288, 'trailer': 5289, 'train': 5290, 'trains': 5291, 'traitors': 5292, 'transfer': 5293, 'transferred': 5294, 'translate': 5295, 'translated': 5296, 'translator': 5297, 'transported': 5298, 'transports': 5299, 'trapped': 5300, 'trash': 5301, 'travel': 5302, 'traveled': 5303, 'traveling': 5304, 'tray': 5305, 'treasure': 5306, 'treat': 5307, 'treated': 5308, 'treatment': 5309, 'treaty': 5310, 'tree': 5311, 'trees': 5312, 'trembled': 5313, 'trenton': 5314, 'trial': 5315, 'triangle': 5316, 'triathlon': 5317, 'tribe': 5318, 'tribes': 5319, 'trick': 5320, 'tricked': 5321, 'tricycle': 5322, 'tried': 5323, 'tries': 5324, 'trip': 5325, 'tripled': 5326, 'tripoli': 5327, 'triumphs': 5328, 'trombone': 5329, 'troops': 5330, 'trouble': 5331, 'troubled': 5332, 'trousers': 5333, 'trout': 5334, 'truck': 5335, 'trucks': 5336, 'true': 5337, 'truly': 5338, 'truman': 5339, 'trumpet': 5340, 'trunk': 5341, 'trunks': 5342, 'trust': 5343, 'trusted': 5344, 'trusts': 5345, 'truth': 5346, 'try': 5347, 'trying': 5348, 'tshirt': 5349, 'tube': 5350, 'tuesday': 5351, 'tulips': 5352, 'tuna': 5353, 'tuned': 5354, 'tuning': 5355, 'tunnel': 5356, 'turban': 5357, 'turkey': 5358, 'turkeys': 5359, 'turkic': 5360, 'turks': 5361, 'turn': 5362, 'turned': 5363, 'turning': 5364, 'turns': 5365, 'turtle': 5366, 'turtles': 5367, 'tuxedo': 5368, 'tv': 5369, 'twain': 5370, 'twelve': 5371, 'twentieth': 5372, 'twenty': 5373, 'twentydollar': 5374, 'twentyfive': 5375, 'twentyseven': 5376, 'twentytwo': 5377, 'twice': 5378, 'twin': 5379, 'twins': 5380, 'twisted': 5381, 'twisting': 5382, 'twitter': 5383, 'two': 5384, 'tworoom': 5385, 'twostory': 5386, 'type': 5387, 'typed': 5388, 'types': 5389, 'typewriter': 5390, 'typhoon': 5391, 'typical': 5392, 'tyson': 5393, 'ubuntu': 5394, 'ufo': 5395, 'ugly': 5396, 'uk': 5397, 'ukraine': 5398, 'ulaanbaatar': 5399, 'ultimate': 5400, 'ulysses': 5401, 'umbrella': 5402, 'umbrellas': 5403, 'unable': 5404, 'unarmed': 5405, 'unbalanced': 5406, 'unbearable': 5407, 'unbelievable': 5408, 'unbiased': 5409, 'uncle': 5410, 'uncles': 5411, 'uncomfortable': 5412, 'unconscious': 5413, 'unconstitutional': 5414, 'uncorrupted': 5415, 'undefeated': 5416, 'under': 5417, 'undercooked': 5418, 'underestimate': 5419, 'underestimated': 5420, 'underlined': 5421, 'underneath': 5422, 'underpants': 5423, 'understand': 5424, 'understands': 5425, 'understood': 5426, 'undress': 5427, 'undressed': 5428, 'undressing': 5429, 'unemployed': 5430, 'unemployment': 5431, 'unexpected': 5432, 'unfortunately': 5433, 'unhappy': 5434, 'uniform': 5435, 'unimaginable': 5436, 'union': 5437, 'unique': 5438, 'united': 5439, 'unity': 5440, 'universal': 5441, 'universe': 5442, 'universities': 5443, 'university': 5444, 'unknown': 5445, 'unless': 5446, 'unlikely': 5447, 'unmarried': 5448, 'unnatural': 5449, 'unrelated': 5450, 'until': 5451, 'unusual': 5452, 'unwilling': 5453, 'up': 5454, 'update': 5455, 'upload': 5456, 'uploaded': 5457, 'uploading': 5458, 'upon': 5459, 'upside': 5460, 'upstairs': 5461, 'urban': 5462, 'urgent': 5463, 'urgently': 5464, 'urls': 5465, 'us': 5466, 'usa': 5467, 'usb': 5468, 'use': 5469, 'used': 5470, 'useful': 5471, 'useless': 5472, 'user': 5473, 'uses': 5474, 'using': 5475, 'usual': 5476, 'usually': 5477, 'utah': 5478, 'uturn': 5479, 'uyghur': 5480, 'vacant': 5481, 'vacation': 5482, 'valentines': 5483, 'valid': 5484, 'valley': 5485, 'valuable': 5486, 'value': 5487, 'vampire': 5488, 'vampires': 5489, 'van': 5490, 'vanilla': 5491, 'vanished': 5492, 'varies': 5493, 'various': 5494, 'vcr': 5495, 'vegan': 5496, 'vegetable': 5497, 'vegetables': 5498, 'vegetarian': 5499, 'vegetarians': 5500, 'veggie': 5501, 'vehicle': 5502, 'vein': 5503, 'venice': 5504, 'verdun': 5505, 'verse': 5506, 'version': 5507, 'very': 5508, 'vessels': 5509, 'vibrating': 5510, 'vices': 5511, 'vicksburg': 5512, 'victims': 5513, 'victories': 5514, 'victory': 5515, 'video': 5516, 'videogame': 5517, 'videos': 5518, 'vienna': 5519, 'vietnam': 5520, 'vietnamese': 5521, 'view': 5522, 'villa': 5523, 'village': 5524, 'villagers': 5525, 'villages': 5526, 'viola': 5527, 'violence': 5528, 'violent': 5529, 'violet': 5530, 'violin': 5531, 'virginia': 5532, 'virus': 5533, 'visa': 5534, 'visit': 5535, 'visited': 5536, 'visiting': 5537, 'visits': 5538, 'vitamin': 5539, 'vladivostok': 5540, 'vodka': 5541, 'voice': 5542, 'voices': 5543, 'volcanoes': 5544, 'volleyball': 5545, 'volume': 5546, 'vomited': 5547, 'vote': 5548, 'voted': 5549, 'voters': 5550, 'votes': 5551, 'voyage': 5552, 'wait': 5553, 'waited': 5554, 'waiter': 5555, 'waiting': 5556, 'waitress': 5557, 'waits': 5558, 'wake': 5559, 'wakes': 5560, 'wales': 5561, 'walk': 5562, 'walked': 5563, 'walkietalkie': 5564, 'walking': 5565, 'walks': 5566, 'wall': 5567, 'wallet': 5568, 'walls': 5569, 'walt': 5570, 'wandering': 5571, 'wanna': 5572, 'want': 5573, 'wanted': 5574, 'wants': 5575, 'war': 5576, 'warcraft': 5577, 'warhol': 5578, 'warm': 5579, 'warmed': 5580, 'warn': 5581, 'warned': 5582, 'warning': 5583, 'wars': 5584, 'warsaw': 5585, 'was': 5586, 'wash': 5587, 'washed': 5588, 'washes': 5589, 'washing': 5590, 'washington': 5591, 'washingtons': 5592, 'wasnt': 5593, 'waste': 5594, 'wasting': 5595, 'watch': 5596, 'watched': 5597, 'watches': 5598, 'watching': 5599, 'water': 5600, 'watered': 5601, 'waterfall': 5602, 'watering': 5603, 'watermelon': 5604, 'waters': 5605, 'waved': 5606, 'waves': 5607, 'waxing': 5608, 'way': 5609, 'ways': 5610, 'we': 5611, 'weak': 5612, 'weaker': 5613, 'wealth': 5614, 'wealthy': 5615, 'weapon': 5616, 'weapons': 5617, 'wear': 5618, 'wearing': 5619, 'wears': 5620, 'weather': 5621, 'web': 5622, 'webcam': 5623, 'website': 5624, 'wed': 5625, 'wedding': 5626, 'wednesday': 5627, 'week': 5628, 'weeks': 5629, 'weigh': 5630, 'weighs': 5631, 'weight': 5632, 'weird': 5633, 'welcome': 5634, 'welcomed': 5635, 'well': 5636, 'wellington': 5637, 'went': 5638, 'wept': 5639, 'were': 5640, 'werent': 5641, 'west': 5642, 'western': 5643, 'wet': 5644, 'weve': 5645, 'we’ve': 5646, 'whale': 5647, 'whales': 5648, 'what': 5649, 'whatd': 5650, 'whatever': 5651, 'whatll': 5652, 'whatre': 5653, 'whats': 5654, 'whatve': 5655, 'wheat': 5656, 'wheels': 5657, 'when': 5658, 'whenever': 5659, 'whens': 5660, 'where': 5661, 'whereas': 5662, 'wherere': 5663, 'wheres': 5664, 'wherever': 5665, 'whether': 5666, 'which': 5667, 'whichever': 5668, 'while': 5669, 'whipped': 5670, 'whiskey': 5671, 'whispering': 5672, 'whistle': 5673, 'whistled': 5674, 'whistling': 5675, 'white': 5676, 'whiter': 5677, 'whitman': 5678, 'who': 5679, 'whoever': 5680, 'whole': 5681, 'wholl': 5682, 'whos': 5683, 'whose': 5684, 'why': 5685, 'whyd': 5686, 'whys': 5687, 'wide': 5688, 'widely': 5689, 'wife': 5690, 'wifes': 5691, 'wig': 5692, 'wikipedia': 5693, 'wild': 5694, 'will': 5695, 'william': 5696, 'willing': 5697, 'wilson': 5698, 'win': 5699, 'wind': 5700, 'window': 5701, 'windows': 5702, 'windshield': 5703, 'windsurfing': 5704, 'windy': 5705, 'wine': 5706, 'winfrey': 5707, 'wings': 5708, 'winner': 5709, 'winning': 5710, 'wins': 5711, 'winston': 5712, 'winter': 5713, 'wipe': 5714, 'wiped': 5715, 'wipers': 5716, 'wiping': 5717, 'wire': 5718, 'wisdom': 5719, 'wise': 5720, 'wish': 5721, 'witch': 5722, 'with': 5723, 'withdraw': 5724, 'withdrew': 5725, 'within': 5726, 'without': 5727, 'witness': 5728, 'wizard': 5729, 'woke': 5730, 'woken': 5731, 'wolf': 5732, 'wolves': 5733, 'woman': 5734, 'womans': 5735, 'women': 5736, 'won': 5737, 'wonder': 5738, 'wondered': 5739, 'wont': 5740, 'wonton': 5741, 'wood': 5742, 'wooden': 5743, 'woods': 5744, 'word': 5745, 'words': 5746, 'wore': 5747, 'work': 5748, 'worked': 5749, 'worker': 5750, 'workers': 5751, 'working': 5752, 'works': 5753, 'world': 5754, 'worldfamous': 5755, 'worlds': 5756, 'worldwide': 5757, 'worried': 5758, 'worry': 5759, 'worrying': 5760, 'worse': 5761, 'worship': 5762, 'worships': 5763, 'worth': 5764, 'worthy': 5765, 'would': 5766, 'wouldnt': 5767, 'wouldve': 5768, 'wound': 5769, 'wounded': 5770, 'wounds': 5771, 'wow': 5772, 'wrapped': 5773, 'wrestle': 5774, 'wrestlers': 5775, 'write': 5776, 'writer': 5777, 'writers': 5778, 'writes': 5779, 'writing': 5780, 'written': 5781, 'wrong': 5782, 'wrote': 5783, 'wyoming': 5784, 'xeroxed': 5785, 'xfiles': 5786, 'yaesu': 5787, 'yakitori': 5788, 'yawned': 5789, 'yeah': 5790, 'year': 5791, 'yearold': 5792, 'years': 5793, 'yeast': 5794, 'yell': 5795, 'yelled': 5796, 'yelling': 5797, 'yellow': 5798, 'yellowstone': 5799, 'yells': 5800, 'yemen': 5801, 'yen': 5802, 'yep': 5803, 'yerevan': 5804, 'yes': 5805, 'yesterday': 5806, 'yesterdays': 5807, 'yet': 5808, 'ymca': 5809, 'yoga': 5810, 'yogurt': 5811, 'york': 5812, 'you': 5813, 'youd': 5814, 'youll': 5815, 'young': 5816, 'younger': 5817, 'youngest': 5818, 'your': 5819, 'youre': 5820, 'yours': 5821, 'yourself': 5822, 'yourselves': 5823, 'youth': 5824, 'youtube': 5825, 'youve': 5826, 'yuan': 5827, 'zamenhof': 5828, 'zappa': 5829, 'zealand': 5830, 'zimbabwe': 5831, 'zinc': 5832, 'zipper': 5833, 'zoo': 5834, 'zoom': 5835, 'zugspitze': 5836, 'zulu': 5837, '€': 5838}\n",
            "{'10': 1, '100': 2, '300': 3, 'START_': 4, '_END': 5, 'a': 6, 'b': 7, 'h₂o': 8, 'ntt': 9, 'uk': 10, 'अ': 11, 'अँकरेजमार्गे': 12, 'अँजिलीस': 13, 'अँटीव्हायरस': 14, 'अँड': 15, 'अँडी': 16, 'अँडीजमधल्या': 17, 'अँब्युलन्स': 18, 'अंक': 19, 'अंकांनी': 20, 'अंकारा': 21, 'अंकारात': 22, 'अंग': 23, 'अंगठ्या': 24, 'अंगरक्षकांची': 25, 'अंगाला': 26, 'अंगोला': 27, 'अंघोळ': 28, 'अंठ्यांपेक्षा': 29, 'अंड': 30, 'अंडरवेअर': 31, 'अंडी': 32, 'अंडींचा': 33, 'अंडीसुद्धा': 34, 'अंड्यांवर': 35, 'अंड्यांसहित': 36, 'अंत': 37, 'अंतर': 38, 'अंतराळयात्री': 39, 'अंतराळयान': 40, 'अंतराळयानाचं': 41, 'अंतराळयानातून': 42, 'अंतराळवीर': 43, 'अंतराळात': 44, 'अंतरित': 45, 'अंतिम': 46, 'अंदाज': 47, 'अंदाजे': 48, 'अंधार': 49, 'अंधाराची': 50, 'अंधारात': 51, 'अंमलात': 52, 'अंशांकित': 53, 'अकरा': 54, 'अकरावीत': 55, 'अकल्पनीय': 56, 'अकाउंट': 57, 'अकाउंटमध्ये': 58, 'अकॉर्डियन': 59, 'अक्कलदाढ': 60, 'अक्वॅरियममध्ये': 61, 'अक्षर': 62, 'अक्षरं': 63, 'अक्षरांनी': 64, 'अक्षरांमध्ये': 65, 'अक्षरे': 66, 'अखाद्य': 67, 'अखिलेउस': 68, 'अख्खं': 69, 'अख्खा': 70, 'अख्खी': 71, 'अख्ख्या': 72, 'अगं': 73, 'अगदी': 74, 'अगोदर': 75, 'अगोदरच': 76, 'अचानक': 77, 'अचानकच': 78, 'अचूक': 79, 'अच्छा': 80, 'अजिबात': 81, 'अजिबातच': 82, 'अजीबात': 83, 'अजुनपर्यंत': 84, 'अजुनही': 85, 'अजून': 86, 'अजूनच': 87, 'अजूनपर्यंत': 88, 'अजूनही': 89, 'अज्ञात': 90, 'अट': 91, 'अटक': 92, 'अटलांटिक': 93, 'अटॅच': 94, 'अट्लँटिस': 95, 'अठरा': 96, 'अठराच्या': 97, 'अठरावा': 98, 'अठ्ठेचाळीस': 99, 'अडकलं': 100, 'अडकला': 101, 'अडकलाय': 102, 'अडकली': 103, 'अडकले': 104, 'अडकलेयत': 105, 'अडकलेला': 106, 'अडकलेले': 107, 'अडकलेलो': 108, 'अडकलो': 109, 'अडकलोय': 110, 'अडकल्या': 111, 'अडकून': 112, 'अडचण': 113, 'अडचणी': 114, 'अडथळा': 115, 'अडवणार': 116, 'अडीच': 117, 'अडीचला': 118, 'अणु': 119, 'अणुऊर्जेचा': 120, 'अणू': 121, 'अणूऊर्जेचा': 122, 'अण्वस्त्र': 123, 'अता': 124, 'अतिरेकी': 125, 'अतिरेक्यांना': 126, 'अतिरेक्यांनी': 127, 'अतिशय': 128, 'अतिशयोक्ती': 129, 'अती': 130, 'अत्ता': 131, 'अत्ताच': 132, 'अत्ताच्या': 133, 'अत्यंत': 134, 'अत्यावश्यक': 135, 'अथेन्समध्ये': 136, 'अदीप्त': 137, 'अदृश्य': 138, 'अदृष्य': 139, 'अद्ययावत': 140, 'अद्वितीय': 141, 'अधिक': 142, 'अधिकच': 143, 'अधिकाधिक': 144, 'अधिकार': 145, 'अधिकाराला': 146, 'अधिकारी': 147, 'अधिनियमाला': 148, 'अधिवर्षात': 149, 'अधून': 150, 'अधूनमधून': 151, 'अधोरेखित': 152, 'अध्यक्ष': 153, 'अध्यक्षाने': 154, 'अननस': 155, 'अननससारखी': 156, 'अनन्य': 157, 'अनपेक्षित': 158, 'अनाथ': 159, 'अनुज्ञप्तीपत्र': 160, 'अनुपस्थित': 161, 'अनुभव': 162, 'अनुभवत': 163, 'अनुभवता': 164, 'अनुभवदेखील': 165, 'अनुभवसुद्धा': 166, 'अनुभवाने': 167, 'अनुभवाबद्दल': 168, 'अनुभवी': 169, 'अनुवाद': 170, 'अनुवादक': 171, 'अनुवादकाराची': 172, 'अनुसार': 173, 'अनेक': 174, 'अनेकदा': 175, 'अनेकांकडे': 176, 'अनैसर्गिक': 177, 'अनोळखी': 178, 'अन्न': 179, 'अन्नाशिवाय': 180, 'अन्वेषण': 181, 'अपघात': 182, 'अपघाताचा': 183, 'अपघातात': 184, 'अपघातानंतर': 185, 'अपघाताबद्दल': 186, 'अपघातामुळे': 187, 'अपघातासाठी': 188, 'अपडेट': 189, 'अपमान': 190, 'अपयशाचा': 191, 'अपयशी': 192, 'अपराजित': 193, 'अपलोड': 194, 'अपहरण': 195, 'अपूर्ण': 196, 'अपेक्षा': 197, 'अपेक्षित': 198, 'अपेक्षेपेक्षा': 199, 'अपॉइंटमेंट': 200, 'अपॉइन्टमेन्ट': 201, 'अप्रामाणिक': 202, 'अफगाणिस्तानची': 203, 'अफगाणिस्तानातून': 204, 'अफवा': 205, 'अफवेवर': 206, 'अफेअर': 207, 'अब्ज': 208, 'अभिनंदन': 209, 'अभिनय': 210, 'अभिनेता': 211, 'अभिनेते': 212, 'अभिनेत्या': 213, 'अभिनेत्री': 214, 'अभिमान': 215, 'अभिवचन': 216, 'अभिषिक्त': 217, 'अभ्यास': 218, 'अभ्रष्ट': 219, 'अमर': 220, 'अमूल्य': 221, 'अमेरिकन': 222, 'अमेरिकनांकडे': 223, 'अमेरिकनांना': 224, 'अमेरिकनांसाठी': 225, 'अमेरिकनांसारखेच': 226, 'अमेरिका': 227, 'अमेरिकेचं': 228, 'अमेरिकेचा': 229, 'अमेरिकेची': 230, 'अमेरिकेचे': 231, 'अमेरिकेच्या': 232, 'अमेरिकेत': 233, 'अमेरिकेतील': 234, 'अमेरिकेतून': 235, 'अमेरिकेने': 236, 'अमेरिकेपासून': 237, 'अमेरिकेपेक्षा': 238, 'अमेरिकेला': 239, 'अमेरिकेहून': 240, 'अमेरीकी': 241, 'अयशस्वी': 242, 'अरब': 243, 'अरबपती': 244, 'अरबी': 245, 'अरुंद': 246, 'अरे': 247, 'अरेंज्ड': 248, 'अरेबियामध्ये': 249, 'अर्जंट': 250, 'अर्जाच्या': 251, 'अर्थ': 252, 'अर्थव्यवस्था': 253, 'अर्थव्यवस्थेचे': 254, 'अर्थव्यवस्थेत': 255, 'अर्थव्यवस्थेबाबत': 256, 'अर्थशास्त्रज्ञ': 257, 'अर्थशास्त्राचा': 258, 'अर्थहीन': 259, 'अर्थी': 260, 'अर्ध': 261, 'अर्धं': 262, 'अर्धवट': 263, 'अर्धा': 264, 'अर्धी': 265, 'अर्धे': 266, 'अर्ध्या': 267, 'अर्ध्यापेक्षा': 268, 'अर्ल': 269, 'अलार्म': 270, 'अलिकडच्या': 271, 'अलिकडेच': 272, 'अली': 273, 'अलीकडेच': 274, 'अल्कोहोलचा': 275, 'अल्कोहोलने': 276, 'अल्कोहोलसुद्धा': 277, 'अल्जीरिया': 278, 'अल्जीरियाला': 279, 'अल्जेरियन': 280, 'अल्प': 281, 'अल्पवयीन': 282, 'अल्बम': 283, 'अल्बममध्ये': 284, 'अवकाश': 285, 'अवकाशयात्री': 286, 'अवकाशाकडे': 287, 'अवकाशात': 288, 'अवकाशातून': 289, 'अवघडला': 290, 'अवलंबून': 291, 'अवस्था': 292, 'अवस्थेत': 293, 'अविभाज्य': 294, 'अविवाहित': 295, 'अशक्य': 296, 'अशक्यच': 297, 'अशा': 298, 'अशी': 299, 'अशीच': 300, 'अश्या': 301, 'अश्रू': 302, 'अश्लील': 303, 'असं': 304, 'असंख्य': 305, 'असंच': 306, 'असंबंधित': 307, 'असंभवनीय': 308, 'असंभाव्य': 309, 'असच': 310, 'असणं': 311, 'असणार': 312, 'असणार्\\u200dया': 313, 'असणे': 314, 'असण्याचा': 315, 'असण्यात': 316, 'असण्याने': 317, 'असण्यापेक्षा': 318, 'असत': 319, 'असतं': 320, 'असतंस': 321, 'असता': 322, 'असतात': 323, 'असतातच': 324, 'असताना': 325, 'असतानाही': 326, 'असतास': 327, 'असती': 328, 'असतील': 329, 'असतीस': 330, 'असते': 331, 'असतेस': 332, 'असतो': 333, 'असतोस': 334, 'असत्या': 335, 'असफल': 336, 'असलं': 337, 'असला': 338, 'असलात': 339, 'असली': 340, 'असले': 341, 'असलेलं': 342, 'असलेला': 343, 'असलेली': 344, 'असलेले': 345, 'असलेल्या': 346, 'असल्या': 347, 'असल्याचं': 348, 'असल्याचा': 349, 'असल्याची': 350, 'असल्यापासून': 351, 'असल्याप्रमाणे': 352, 'असल्याबरोबर': 353, 'असल्याबरोबरच': 354, 'असल्यामुळे': 355, 'असल्याशिवाय': 356, 'असल्यास': 357, 'असल्यासारखं': 358, 'असल्यासारखा': 359, 'असल्यासार्खं': 360, 'असशील': 361, 'असहनीय': 362, 'असहमत': 363, 'असा': 364, 'असाच': 365, 'असायचं': 366, 'असायचा': 367, 'असायची': 368, 'असायचे': 369, 'असायचो': 370, 'असायला': 371, 'असायलाच': 372, 'असाल': 373, 'असावं': 374, 'असावा': 375, 'असावास': 376, 'असावी': 377, 'असावेत': 378, 'असाव्यात': 379, 'असिस्टंट': 380, 'असू': 381, 'असूच': 382, 'असून': 383, 'असूनसुद्धा': 384, 'असूनही': 385, 'असे': 386, 'असेच': 387, 'असेन': 388, 'असेपर्यंत': 389, 'असेल': 390, 'असेलच': 391, 'अस्तित्व': 392, 'अस्तित्वात': 393, 'अस्तित्वातच': 394, 'अस्थायी': 395, 'अस्वच्छ': 396, 'अस्वल': 397, 'अस्वलं': 398, 'अस्वलांची': 399, 'अस्वलांशी': 400, 'अस्वलाला': 401, 'अस्वस्थ': 402, 'अहवाल': 403, 'अ\\u200dँडोरा': 404, 'अ\\u200dॅंडरसन': 405, 'अ\\u200dॅक्ट': 406, 'अ\\u200dॅक्टींग': 407, 'अ\\u200dॅक्शन': 408, 'अ\\u200dॅक्सेंटची': 409, 'अ\\u200dॅटिट्यूड': 410, 'अ\\u200dॅट्लांटिस': 411, 'अ\\u200dॅड': 412, 'अ\\u200dॅडऑन': 413, 'अ\\u200dॅडमिशन': 414, 'अ\\u200dॅड्रेस': 415, 'अ\\u200dॅण्ड': 416, 'अ\\u200dॅनाकाँडाने': 417, 'अ\\u200dॅन्ड्रॉइड': 418, 'अ\\u200dॅप': 419, 'अ\\u200dॅपल': 420, 'अ\\u200dॅप्पलसॉस': 421, 'अ\\u200dॅमस्टरडॅममधील': 422, 'अ\\u200dॅमेझॉन': 423, 'अ\\u200dॅम्स्टरडॅम': 424, 'अ\\u200dॅरिझोनाची': 425, 'अ\\u200dॅलफ्रेड': 426, 'अ\\u200dॅलर्जी': 427, 'अ\\u200dॅलाइड': 428, 'अ\\u200dॅलिस': 429, 'अ\\u200dॅलिसने': 430, 'अ\\u200dॅलिसशी': 431, 'अ\\u200dॅलिससोबत': 432, 'अ\\u200dॅलेक्झँडर': 433, 'अ\\u200dॅल्प्स': 434, 'अ\\u200dॅल्प्सपेक्षा': 435, 'अ\\u200dॅशट्रे': 436, 'अ\\u200dॅसीटोन': 437, 'आंगठी': 438, 'आंघोळ': 439, 'आंतरराष्ट्रीय': 440, 'आंतर्राष्ट्रीय': 441, 'आंधळं': 442, 'आंधळा': 443, 'आंधळी': 444, 'आंधळे': 445, 'आंधळ्या': 446, 'आंबट': 447, 'आंबा': 448, 'आंबे': 449, 'आइनस्टाइन': 450, 'आइसलँड': 451, 'आइसलँडमध्ये': 452, 'आइसेनहोवर': 453, 'आई': 454, 'आईंचं': 455, 'आईंच्या': 456, 'आईंना': 457, 'आईइतकी': 458, 'आईकडून': 459, 'आईचं': 460, 'आईचा': 461, 'आईची': 462, 'आईच्या': 463, 'आईने': 464, 'आईपेक्षा': 465, 'आईबरोबर': 466, 'आईबाबा': 467, 'आईबाबांना': 468, 'आईबाबांनी': 469, 'आईबाबांबरोबर': 470, 'आईबाबांशी': 471, 'आईला': 472, 'आईवडिलांची': 473, 'आईवडिलांच्या': 474, 'आईवडिलांना': 475, 'आईवडिलांबरोबर': 476, 'आईवडिलांवर': 477, 'आईवडिलांशी': 478, 'आईवडिलांसोबत': 479, 'आईवडील': 480, 'आईवडीलसुद्धा': 481, 'आईवर': 482, 'आईशप्पथ': 483, 'आईशी': 484, 'आईसक्रिम': 485, 'आईसाठी': 486, 'आईसारखं': 487, 'आईसारखा': 488, 'आईसारखी': 489, 'आईसारखीच': 490, 'आईसारखे': 491, 'आईसारखेच': 492, 'आईसोबत': 493, 'आईस्क्रिम': 494, 'आईस्क्रीम': 495, 'आउट': 496, 'आकर्षक': 497, 'आकार': 498, 'आकाराचं': 499, 'आकाराचा': 500, 'आकाराचे': 501, 'आकाराच्या': 502, 'आकाश': 503, 'आकाशगंगा': 504, 'आकाशाकडे': 505, 'आकाशात': 506, 'आकाशातून': 507, 'आक्रमक': 508, 'आक्रमण': 509, 'आक्रमणात': 510, 'आक्रमणाला': 511, 'आक्षेप': 512, 'आखात': 513, 'आखाती': 514, 'आग': 515, 'आगदीत': 516, 'आगीचं': 517, 'आगीचा': 518, 'आगीजवळ': 519, 'आगीत': 520, 'आगीने': 521, 'आगीपाशी': 522, 'आगीपासून': 523, 'आगीबद्दल': 524, 'आगीबरोबर': 525, 'आगीभोवती': 526, 'आगीला': 527, 'आगीशिवाय': 528, 'आग्रह': 529, 'आज': 530, 'आजकाल': 531, 'आजकालचे': 532, 'आजच': 533, 'आजचं': 534, 'आजचा': 535, 'आजची': 536, 'आजचे': 537, 'आजच्या': 538, 'आजपर्यंत': 539, 'आजपेक्षा': 540, 'आजबाबत': 541, 'आजसाठी': 542, 'आजार': 543, 'आजाराचा': 544, 'आजारामुळे': 545, 'आजारी': 546, 'आजी': 547, 'आजीआजोबा': 548, 'आजीआजोबांशी': 549, 'आजीच्या': 550, 'आजीने': 551, 'आजीबद्दल': 552, 'आजीबरोबर': 553, 'आजीला': 554, 'आजुबाजुला': 555, 'आजून': 556, 'आजूबाजूला': 557, 'आजोबा': 558, 'आजोबांचं': 559, 'आजोबांची': 560, 'आजोबांच्या': 561, 'आजोबांना': 562, 'आजोबांनी': 563, 'आजोबांसोबत': 564, 'आज्जीची': 565, 'आज्ञा': 566, 'आटपेल': 567, 'आठ': 568, 'आठला': 569, 'आठवडा': 570, 'आठवडाभर': 571, 'आठवडे': 572, 'आठवड्यांचे': 573, 'आठवड्यांपासून': 574, 'आठवड्यांपूर्वी': 575, 'आठवड्यांमध्ये': 576, 'आठवड्याचा': 577, 'आठवड्याच्या': 578, 'आठवड्यात': 579, 'आठवड्यातच': 580, 'आठवड्यातला': 581, 'आठवड्यातून': 582, 'आठवड्यानंतर': 583, 'आठवड्यापूर्वी': 584, 'आठवड्याला': 585, 'आठवण': 586, 'आठवणार': 587, 'आठवणी': 588, 'आठवणीने': 589, 'आठवत': 590, 'आठवतं': 591, 'आठवतंय': 592, 'आठवतही': 593, 'आठवता': 594, 'आठवतात': 595, 'आठवते': 596, 'आठवतेस': 597, 'आठवतो': 598, 'आठवतोस': 599, 'आठवलं': 600, 'आठवला': 601, 'आठवली': 602, 'आठवले': 603, 'आठवल्यासारखं': 604, 'आठवायचं': 605, 'आठवायचा': 606, 'आठवायला': 607, 'आठवीत': 608, 'आठवून': 609, 'आठवेल': 610, 'आठव्या': 611, 'आडनाव': 612, 'आडवे': 613, 'आढळली': 614, 'आढळून': 615, 'आण': 616, 'आणखी': 617, 'आणखीन': 618, 'आणखीनच': 619, 'आणण्याचं': 620, 'आणण्याचा': 621, 'आणण्यात': 622, 'आणण्यासाठी': 623, 'आणत': 624, 'आणतात': 625, 'आणते': 626, 'आणतो': 627, 'आणलं': 628, 'आणलंत': 629, 'आणलंस': 630, 'आणला': 631, 'आणलात': 632, 'आणलास': 633, 'आणली': 634, 'आणलीत': 635, 'आणलीस': 636, 'आणले': 637, 'आणलेला': 638, 'आणल्या': 639, 'आणा': 640, 'आणायची': 641, 'आणायला': 642, 'आणि': 643, 'आणीन': 644, 'आणीबाणी': 645, 'आणू': 646, 'आणून': 647, 'आणेन': 648, 'आणेल': 649, 'आत': 650, 'आतच': 651, 'आतमधून': 652, 'आतमध्ये': 653, 'आता': 654, 'आताच': 655, 'आताच्या': 656, 'आतातरी': 657, 'आतापर्यंत': 658, 'आतापासून': 659, 'आता।': 660, 'आतून': 661, 'आतेबहीण': 662, 'आतेभाऊ': 663, 'आत्ता': 664, 'आत्ताच': 665, 'आत्ताच्या': 666, 'आत्तापर्यंत': 667, 'आत्तापासून': 668, 'आत्तासाठी': 669, 'आत्मचरित्र': 670, 'आत्महत्या': 671, 'आत्मा': 672, 'आत्म्यांशी': 673, 'आत्या': 674, 'आत्याने': 675, 'आत्याबरोबर': 676, 'आत्याला': 677, 'आत्यासारखी': 678, 'आदर': 679, 'आदल्या': 680, 'आदेश': 681, 'आद्याक्षरांचा': 682, 'आधाराने': 683, 'आधिच': 684, 'आधी': 685, 'आधीच': 686, 'आधीपासूनच': 687, 'आधीही': 688, 'आधुनिक': 689, 'आनंद': 690, 'आनंदी': 691, 'आपटलं': 692, 'आपटला': 693, 'आपटली': 694, 'आपटून': 695, 'आपण': 696, 'आपणच': 697, 'आपणसुद्धा': 698, 'आपणही': 699, 'आपलं': 700, 'आपलंच': 701, 'आपला': 702, 'आपली': 703, 'आपलीच': 704, 'आपले': 705, 'आपल्या': 706, 'आपल्याकडे': 707, 'आपल्यात': 708, 'आपल्यातला': 709, 'आपल्यातलाच': 710, 'आपल्यातल्या': 711, 'आपल्यापासून': 712, 'आपल्यापेक्षा': 713, 'आपल्याबद्दल': 714, 'आपल्याबरोबर': 715, 'आपल्यामागे': 716, 'आपल्याला': 717, 'आपल्यावर': 718, 'आपल्याशी': 719, 'आपल्यासाठी': 720, 'आपल्यासारखा': 721, 'आपल्यासोबत': 722, 'आपापलं': 723, 'आपापला': 724, 'आपापली': 725, 'आपापल्या': 726, 'आपोआप': 727, 'आफ्रिकन': 728, 'आफ्रिकनअमेरिकन': 729, 'आफ्रिका': 730, 'आफ्रिकेचा': 731, 'आफ्रिकेची': 732, 'आफ्रिकेत': 733, 'आफ्रिकेतली': 734, 'आफ्रिकेतील': 735, 'आफ्रिकेला': 736, 'आफ्रिकेसाठी': 737, 'आभार': 738, 'आभिमान': 739, 'आमंत्रण': 740, 'आमंत्रित': 741, 'आमचं': 742, 'आमचा': 743, 'आमची': 744, 'आमचीच': 745, 'आमचे': 746, 'आमच्या': 747, 'आमच्याकडे': 748, 'आमच्यात': 749, 'आमच्यातला': 750, 'आमच्यातल्या': 751, 'आमच्यापासून': 752, 'आमच्यापेक्षा': 753, 'आमच्याबद्दल': 754, 'आमच्याबरोबर': 755, 'आमच्यामागे': 756, 'आमच्यावर': 757, 'आमच्याशी': 758, 'आमच्यासह': 759, 'आमच्यासाठी': 760, 'आमच्यासारखा': 761, 'आमच्यासोबत': 762, 'आमलेट': 763, 'आमलेटदेखील': 764, 'आमलेटही': 765, 'आमियां': 766, 'आम्हा': 767, 'आम्हाला': 768, 'आम्ही': 769, 'आम्हीच': 770, 'आम्हीसुद्धा': 771, 'आम्हीही': 772, 'आय': 773, 'आयआरएससाठी': 774, 'आयकनला': 775, 'आयकनवर': 776, 'आयकर': 777, 'आयझॅक': 778, 'आयझेनहॉवर': 779, 'आयझेनहॉवरने': 780, 'आयडिया': 781, 'आयडी': 782, 'आयपॅड': 783, 'आयपॅडवर': 784, 'आयपॉडपासून': 785, 'आयफेल': 786, 'आयफोन': 787, 'आयफोनने': 788, 'आयरिश': 789, 'आयर्लंडची': 790, 'आयलंड्जवर': 791, 'आयसोप्रोपाइल': 792, 'आयात': 793, 'आयुर्विमा': 794, 'आयुष्य': 795, 'आयुष्यभर': 796, 'आयुष्याचा': 797, 'आयुष्याचाच': 798, 'आयुष्याची': 799, 'आयुष्याच्या': 800, 'आयुष्यात': 801, 'आयुष्यातला': 802, 'आयुष्यातली': 803, 'आयुष्यातून': 804, 'आयुष्याने': 805, 'आयोजित': 806, 'आयोवाची': 807, 'आयोवामधील': 808, 'आय्डॅहो': 809, 'आय्पॅड': 810, 'आरंभ': 811, 'आरक्षण': 812, 'आरक्षित': 813, 'आरडाओरड': 814, 'आरशात': 815, 'आरशाशी': 816, 'आरश्यात': 817, 'आरश्यासमोर': 818, 'आरसा': 819, 'आराम': 820, 'आरामाची': 821, 'आरामात': 822, 'आरोग्य': 823, 'आरोग्याची': 824, 'आरोग्यापेक्षा': 825, 'आरोग्यासाठी': 826, 'आरोप': 827, 'आरोपांना': 828, 'आर्क्टिक': 829, 'आर्थिक': 830, 'आर्थिकदृष्ट्या': 831, 'आर्मस्ट्राँग': 832, 'आर्मीला': 833, 'आर्मेनियन': 834, 'आर्मेनिया': 835, 'आर्मेनियाची': 836, 'आलं': 837, 'आलंय': 838, 'आला': 839, 'आलाच': 840, 'आलात': 841, 'आलाय': 842, 'आलायस': 843, 'आलास': 844, 'आली': 845, 'आलीच': 846, 'आलीयस': 847, 'आलीस': 848, 'आले': 849, 'आलेच': 850, 'आलेय': 851, 'आलेलं': 852, 'आलेला': 853, 'आलेली': 854, 'आलेले': 855, 'आलेलो': 856, 'आलेल्या': 857, 'आलो': 858, 'आलोय': 859, 'आल्बममधलं': 860, 'आल्मवर्षेबद्दल': 861, 'आल्या': 862, 'आल्याबरोबर': 863, 'आल्यावर': 864, 'आल्यासारखी': 865, 'आळखता': 866, 'आळशी': 867, 'आळस': 868, 'आवड': 869, 'आवडंत': 870, 'आवडणार': 871, 'आवडत': 872, 'आवडतं': 873, 'आवडतसुद्धा': 874, 'आवडतही': 875, 'आवडता': 876, 'आवडतात': 877, 'आवडती': 878, 'आवडतील': 879, 'आवडते': 880, 'आवडतेस': 881, 'आवडतो': 882, 'आवडतोस': 883, 'आवडत्या': 884, 'आवडलं': 885, 'आवडला': 886, 'आवडली': 887, 'आवडले': 888, 'आवडल्या': 889, 'आवडायचं': 890, 'आवडायचा': 891, 'आवडायचास': 892, 'आवडायची': 893, 'आवडायचीस': 894, 'आवडायचे': 895, 'आवडायचो': 896, 'आवडीचं': 897, 'आवडीचा': 898, 'आवडीची': 899, 'आवडीचे': 900, 'आवडीच्या': 901, 'आवडेल': 902, 'आवर': 903, 'आवश्यकता': 904, 'आवाज': 905, 'आवाजात': 906, 'आवाजाने': 907, 'आविष्कार': 908, 'आविष्कारांमधील': 909, 'आवृत्ती': 910, 'आवेदन': 911, 'आव्हान': 912, 'आशय': 913, 'आशा': 914, 'आशावादी': 915, 'आशिया': 916, 'आशियाई': 917, 'आशियाईअमेरिकन': 918, 'आशियाच्या': 919, 'आशियात': 920, 'आशियातील': 921, 'आशियामध्ये': 922, 'आशिलचा': 923, 'आशीर्वाद': 924, 'आश्चर्य': 925, 'आश्चर्यकारक': 926, 'आश्चर्यच': 927, 'आश्चर्यचकित': 928, 'आश्चर्यजनक': 929, 'आश्चर्याची': 930, 'आश्रू': 931, 'आश्वासन': 932, 'आसन': 933, 'आसने': 934, 'आसाही': 935, 'आह': 936, 'आहात': 937, 'आहायोमध्ये': 938, 'आहार': 939, 'आहे': 940, 'आहेच': 941, 'आहेत': 942, 'आहेस': 943, 'आहोत': 944, 'आहोतच': 945, 'आापल्या': 946, 'इंका': 947, 'इंग्रज': 948, 'इंग्रजांना': 949, 'इंग्रजांनी': 950, 'इंग्रजी': 951, 'इंग्रजीचं': 952, 'इंग्रजीचा': 953, 'इंग्रजीच्या': 954, 'इंग्रजीत': 955, 'इंग्रजीनंतर': 956, 'इंग्रजीपेक्षा': 957, 'इंग्रजीमध्ये': 958, 'इंग्रजीला': 959, 'इंग्रजीसुद्धा': 960, 'इंग्रजीही': 961, 'इंग्लंड': 962, 'इंग्लंडचा': 963, 'इंग्लंडची': 964, 'इंग्लंडच्या': 965, 'इंग्लंडने': 966, 'इंग्लंडपेक्षा': 967, 'इंग्लंडमधील': 968, 'इंग्लंडमध्ये': 969, 'इंग्लंडमध्येच': 970, 'इंग्लंडला': 971, 'इंग्लंडवर': 972, 'इंग्लिश': 973, 'इंच': 974, 'इंचांनी': 975, 'इंजिन': 976, 'इंजिनियर': 977, 'इंजिनीअर': 978, 'इंजिनीअरिंग': 979, 'इंजीनमध्ये': 980, 'इंजीनला': 981, 'इंटरनेट': 982, 'इंटरनेटचा': 983, 'इंटरनेटवर': 984, 'इंटरव्हलच्या': 985, 'इंटरव्ह्यू': 986, 'इंडियन्स': 987, 'इंडोनेशियन': 988, 'इंडोनेशियाबद्दल': 989, 'इंडोयुरोपीय': 990, 'इंधन': 991, 'इंधने': 992, 'इआइदो': 993, 'इकडे': 994, 'इकडेतिकडे': 995, 'इकेर': 996, 'इग्लिश': 997, 'इच्छा': 998, 'इच्छित': 999, 'इच्छिता': 1000, 'इच्छितात': 1001, 'इच्छिते': 1002, 'इच्छितो': 1003, 'इच्छीते': 1004, 'इच्छीतो': 1005, 'इजिप्त': 1006, 'इजिप्तचा': 1007, 'इजिप्तवर': 1008, 'इटली': 1009, 'इटलीचा': 1010, 'इटलीची': 1011, 'इटलीत': 1012, 'इटलीपासून': 1013, 'इटलीमधील': 1014, 'इटलीमध्ये': 1015, 'इटलीला': 1016, 'इटालियन': 1017, 'इटालियनअमेरिकनांना': 1018, 'इटालियनमध्ये': 1019, 'इतकं': 1020, 'इतकंच': 1021, 'इतकच': 1022, 'इतका': 1023, 'इतकी': 1024, 'इतके': 1025, 'इतकेच': 1026, 'इतक्या': 1027, 'इतक्यात': 1028, 'इतपत': 1029, 'इतर': 1030, 'इतरांची': 1031, 'इतरांना': 1032, 'इतरांप्रमाणेच': 1033, 'इतिहास': 1034, 'इतिहासकार': 1035, 'इतिहाससुद्धा': 1036, 'इतिहासाचं': 1037, 'इतिहासाचा': 1038, 'इतिहासाची': 1039, 'इतिहासाच्या': 1040, 'इतिहासात': 1041, 'इतिहासातला': 1042, 'इतिहासाने': 1043, 'इतिहासापेक्षा': 1044, 'इतिहासाबद्दल': 1045, 'इते': 1046, 'इथं': 1047, 'इथपर्यंत': 1048, 'इथलं': 1049, 'इथली': 1050, 'इथल्या': 1051, 'इथियोपियन': 1052, 'इथून': 1053, 'इथे': 1054, 'इथेच': 1055, 'इथेही': 1056, 'इन': 1057, 'इनान्येज': 1058, 'इन्का': 1059, 'इन्टर्न': 1060, 'इन्स्टंट': 1061, 'इन्स्टॉल': 1062, 'इन्स्पेक्टरला': 1063, 'इमरजन्सी': 1064, 'इमानदार': 1065, 'इमारत': 1066, 'इमारती': 1067, 'इमारतींना': 1068, 'इमारतीत': 1069, 'इमारतीवर': 1070, 'इमारतीसमोर': 1071, 'इमेजिंग': 1072, 'इम्पोर्ट': 1073, 'इम्पोर्टेड': 1074, 'इम्प्रेस': 1075, 'इराक': 1076, 'इराकची': 1077, 'इराण': 1078, 'इराणचा': 1079, 'इराणमधला': 1080, 'इराणी': 1081, 'इलिनॉइ': 1082, 'इलेक्ट्रिक': 1083, 'इलेक्ट्रिकल': 1084, 'इलेक्ट्रिशियन': 1085, 'इलेक्ट्रॉनिक': 1086, 'इलेक्ट्रॉनिक्सच्या': 1087, 'इशारा': 1088, 'इसवी': 1089, 'इसाबेलाकडून': 1090, 'इस्ट्रोजेन': 1091, 'इस्तंबूलमध्ये': 1092, 'इस्त्री': 1093, 'इस्त्र्या': 1094, 'इस्पिकचा': 1095, 'इस्रायल': 1096, 'इस्रायलने': 1097, 'इस्लाम': 1098, 'इस्लामाबाद': 1099, 'इस्लामी': 1100, 'ईगो': 1101, 'ईटी': 1102, 'ईमेल': 1103, 'ईमेलने': 1104, 'ईश्वर': 1105, 'ईश्वराचा': 1106, 'ईश्वराची': 1107, 'ईश्वराने': 1108, 'ईश्वरानेच': 1109, 'ईश्वराला': 1110, 'ईस्टरच्या': 1111, 'उंच': 1112, 'उंचावर': 1113, 'उंची': 1114, 'उंट': 1115, 'उंदरं': 1116, 'उंदरांना': 1117, 'उंदरांनी': 1118, 'उंदराचं': 1119, 'उंदराला': 1120, 'उंदीर': 1121, 'उइघुर': 1122, 'उकडलेली': 1123, 'उकळणारं': 1124, 'उकळतंय': 1125, 'उकळली': 1126, 'उकळले': 1127, 'उकळायला': 1128, 'उकळून': 1129, 'उगत': 1130, 'उगतात': 1131, 'उगम': 1132, 'उगवत': 1133, 'उगवतात': 1134, 'उगवते': 1135, 'उगवतो': 1136, 'उगवला': 1137, 'उगवली': 1138, 'उगवले': 1139, 'उगेल': 1140, 'उघड': 1141, 'उघडं': 1142, 'उघडंच': 1143, 'उघडणार': 1144, 'उघडण्याची': 1145, 'उघडण्यात': 1146, 'उघडत': 1147, 'उघडतं': 1148, 'उघडता': 1149, 'उघडतात': 1150, 'उघडताहेत': 1151, 'उघडते': 1152, 'उघडतेय': 1153, 'उघडतो': 1154, 'उघडतोय': 1155, 'उघडलं': 1156, 'उघडला': 1157, 'उघडली': 1158, 'उघडले': 1159, 'उघडल्या': 1160, 'उघडशील': 1161, 'उघडा': 1162, 'उघडायचं': 1163, 'उघडायचा': 1164, 'उघडायला': 1165, 'उघडाल': 1166, 'उघडाव्या': 1167, 'उघडी': 1168, 'उघडीच': 1169, 'उघडू': 1170, 'उघडून': 1171, 'उघडे': 1172, 'उघड्या': 1173, 'उघड्याच': 1174, 'उचल': 1175, 'उचलत': 1176, 'उचलता': 1177, 'उचलताना': 1178, 'उचलला': 1179, 'उचलली': 1180, 'उचलल्या': 1181, 'उचला': 1182, 'उचलायला': 1183, 'उचलू': 1184, 'उचलून': 1185, 'उच्चार': 1186, 'उच्चारताही': 1187, 'उच्चारही': 1188, 'उच्चारात': 1189, 'उच्चारायला': 1190, 'उजळ': 1191, 'उजवा': 1192, 'उजवीकडून': 1193, 'उजवीकडे': 1194, 'उजव्या': 1195, 'उज्ज्वल': 1196, 'उठणार': 1197, 'उठत': 1198, 'उठता': 1199, 'उठतात': 1200, 'उठते': 1201, 'उठतेस': 1202, 'उठतो': 1203, 'उठतोस': 1204, 'उठला': 1205, 'उठलात': 1206, 'उठलास': 1207, 'उठली': 1208, 'उठलीस': 1209, 'उठले': 1210, 'उठलेलास': 1211, 'उठलो': 1212, 'उठल्या': 1213, 'उठव': 1214, 'उठवलं': 1215, 'उठवले': 1216, 'उठवशील': 1217, 'उठवा': 1218, 'उठवाल': 1219, 'उठवू': 1220, 'उठायचा': 1221, 'उठायची': 1222, 'उठायच्या': 1223, 'उठाव': 1224, 'उठावल्या': 1225, 'उठून': 1226, 'उठेन': 1227, 'उठेल': 1228, 'उडत': 1229, 'उडता': 1230, 'उडतात': 1231, 'उडताना': 1232, 'उडतो': 1233, 'उडतोय': 1234, 'उडवणं': 1235, 'उडवत': 1236, 'उडवतात': 1237, 'उडवते': 1238, 'उडवतो': 1239, 'उडवलं': 1240, 'उडवली': 1241, 'उडवले': 1242, 'उडवायची': 1243, 'उडवू': 1244, 'उडायला': 1245, 'उडालं': 1246, 'उडाली': 1247, 'उडी': 1248, 'उडू': 1249, 'उडून': 1250, 'उतर': 1251, 'उतरणारा': 1252, 'उतरते': 1253, 'उतरतो': 1254, 'उतरलं': 1255, 'उतरला': 1256, 'उतरली': 1257, 'उतरले': 1258, 'उतरल्या': 1259, 'उतरवलं': 1260, 'उतरायचं': 1261, 'उतरून': 1262, 'उतरेन': 1263, 'उतारा': 1264, 'उत्कृष्ट': 1265, 'उत्तम': 1266, 'उत्तर': 1267, 'उत्तरं': 1268, 'उत्तरगर्भ': 1269, 'उत्तरभागात': 1270, 'उत्तरला': 1271, 'उत्तराची': 1272, 'उत्तरे': 1273, 'उत्तरेकडे': 1274, 'उत्तरेच्या': 1275, 'उत्तरेपासून': 1276, 'उत्तरेला': 1277, 'उत्तेजित': 1278, 'उत्पन्न': 1279, 'उत्पादन': 1280, 'उत्पादनात': 1281, 'उत्सव': 1282, 'उत्सवात': 1283, 'उत्साहित': 1284, 'उत्सुक': 1285, 'उत्सुकतेने': 1286, 'उथळ': 1287, 'उदास': 1288, 'उदाहरण': 1289, 'उदाहरणार्थ': 1290, 'उद्देश': 1291, 'उद्धट': 1292, 'उद्धटपणे': 1293, 'उद्या': 1294, 'उद्याचं': 1295, 'उद्याचा': 1296, 'उद्याची': 1297, 'उद्याचे': 1298, 'उद्याच्या': 1299, 'उद्यान': 1300, 'उद्यानदेखील': 1301, 'उद्यानही': 1302, 'उद्यानांमध्ये': 1303, 'उद्यानात': 1304, 'उद्यानाला': 1305, 'उद्याने': 1306, 'उद्यापर्यंत': 1307, 'उद्यापासून': 1308, 'उद्याला': 1309, 'उद्योग': 1310, 'उद्योगात': 1311, 'उद्योजक': 1312, 'उधारीवर': 1313, 'उध्वस्त': 1314, 'उनके': 1315, 'उन्हात': 1316, 'उन्हाळा': 1317, 'उन्हाळ्याचा': 1318, 'उन्हाळ्याची': 1319, 'उन्हाळ्याच्या': 1320, 'उन्हाळ्यात': 1321, 'उन्हाळ्यातला': 1322, 'उन्हें': 1323, 'उन्होंने': 1324, 'उपग्रह': 1325, 'उपग्रहांना': 1326, 'उपचाराची': 1327, 'उपयोग': 1328, 'उपयोगी': 1329, 'उपलब्ध': 1330, 'उपलब्धता': 1331, 'उपस्थित': 1332, 'उपाय': 1333, 'उपाशी': 1334, 'उपास': 1335, 'उबुंटु': 1336, 'उभं': 1337, 'उभा': 1338, 'उभाच': 1339, 'उभी': 1340, 'उभीच': 1341, 'उभे': 1342, 'उभ्या': 1343, 'उमेदवार': 1344, 'उरतील': 1345, 'उरलं': 1346, 'उरलंच': 1347, 'उरलंय': 1348, 'उरला': 1349, 'उरली': 1350, 'उरले': 1351, 'उरलेलं': 1352, 'उरलेला': 1353, 'उरलेली': 1354, 'उरल्या': 1355, 'उर्जेचा': 1356, 'उलट': 1357, 'उलटं': 1358, 'उलटच': 1359, 'उलटी': 1360, 'उलानबातर': 1361, 'उल्टं': 1362, 'उल्लेख': 1363, 'उल्लेखनीय': 1364, 'उशिर': 1365, 'उशिरा': 1366, 'उशिरापर्यंत': 1367, 'उशी': 1368, 'उशीत': 1369, 'उशीर': 1370, 'उशीरा': 1371, 'उशीरापर्यंत': 1372, 'उश्या': 1373, 'उष्णता': 1374, 'ऊठ': 1375, 'ऊठला': 1376, 'ऊठलो': 1377, 'ऊठा': 1378, 'ऊन': 1379, 'ऊभी': 1380, 'ऊभे': 1381, 'ऊलाँग': 1382, 'ऊस': 1383, 'ऋतू': 1384, 'ऋतूत': 1385, 'ऋतूला': 1386, 'ए': 1387, 'एंगेज्ड': 1388, 'एअर': 1389, 'एअरकंडिशनर': 1390, 'एअरपोर्टला': 1391, 'एअरबॅग': 1392, 'एक': 1393, 'एकएक': 1394, 'एकच': 1395, 'एकटं': 1396, 'एकटक': 1397, 'एकटा': 1398, 'एकटाच': 1399, 'एकटी': 1400, 'एकटीच': 1401, 'एकटीने': 1402, 'एकटे': 1403, 'एकटेच': 1404, 'एकटेपणा': 1405, 'एकट्या': 1406, 'एकट्याच': 1407, 'एकट्याने': 1408, 'एकट्यानेच': 1409, 'एकतर': 1410, 'एकता': 1411, 'एकत्र': 1412, 'एकत्रित': 1413, 'एकदम': 1414, 'एकदमच': 1415, 'एकदा': 1416, 'एकदाच': 1417, 'एकदातरी': 1418, 'एकदाही': 1419, 'एकदुसर्\\u200dयाच्या': 1420, 'एकदुसर्\\u200dयाला': 1421, 'एकदुसर्\\u200dयाशी': 1422, 'एकदोन': 1423, 'एकदोनदा': 1424, 'एकपासून': 1425, 'एकमत': 1426, 'एकमात्र': 1427, 'एकमेकांकडे': 1428, 'एकमेकांचं': 1429, 'एकमेकांची': 1430, 'एकमेकांचे': 1431, 'एकमेकांच्या': 1432, 'एकमेकांना': 1433, 'एकमेकांबद्दल': 1434, 'एकमेकांबरोबर': 1435, 'एकमेकांवर': 1436, 'एकमेकांशी': 1437, 'एकमेकांसोबत': 1438, 'एकमेकींना': 1439, 'एकमेात्र': 1440, 'एकर': 1441, 'एकसमान': 1442, 'एकसारखाच': 1443, 'एकसारखी': 1444, 'एकसारखे': 1445, 'एकसारखेच': 1446, 'एकसारख्याच': 1447, 'एकसुद्धा': 1448, 'एकही': 1449, 'एका': 1450, 'एकाच': 1451, 'एकाचं': 1452, 'एकाचा': 1453, 'एकाची': 1454, 'एकानंतर': 1455, 'एकानेच': 1456, 'एकापेक्षा': 1457, 'एकाला': 1458, 'एकासारखेच': 1459, 'एकाही': 1460, 'एकुलती': 1461, 'एकूण': 1462, 'एके': 1463, 'एकेकाळी': 1464, 'एकेश्वरवादी': 1465, 'एक्का': 1466, 'एक्के': 1467, 'एक्सगर्लफ्रेंड': 1468, 'एक्सप्रेस': 1469, 'एक्सफाइल्सचा': 1470, 'एक्स्टर्नल': 1471, 'एक्स्टेन्शन': 1472, 'एक्स्पायर': 1473, 'एखादं': 1474, 'एखादा': 1475, 'एखादी': 1476, 'एखादे': 1477, 'एखाद्या': 1478, 'एजन्सीमध्ये': 1479, 'एटीएम': 1480, 'एडिटर': 1481, 'एडिटिंग': 1482, 'एथन्स': 1483, 'एनव्हलप': 1484, 'एन्क्रिप्टेड': 1485, 'एपिसोड': 1486, 'एप्रनने': 1487, 'एप्रिल': 1488, 'एप्रिलच्या': 1489, 'एप्रिलमध्ये': 1490, 'एप्रिलला': 1491, 'एफएक्यू': 1492, 'एमआरआय': 1493, 'एमपीथ्री': 1494, 'एमबीए': 1495, 'एम्पायर': 1496, 'एम्पीथ्री': 1497, 'एलिझाबेथ': 1498, 'एल्क': 1499, 'एल्फ': 1500, 'एवढं': 1501, 'एवढंच': 1502, 'एवढच': 1503, 'एवढा': 1504, 'एवढी': 1505, 'एवढीच': 1506, 'एवढे': 1507, 'एवढ्या': 1508, 'एवढ्याचीच': 1509, 'एशियनअमेरिकन': 1510, 'एसएमएस': 1511, 'एस्पेरांतोचा': 1512, 'एस्पेरांतोचे': 1513, 'एस्पेरांतोमध्ये': 1514, 'एस्प्रेसो': 1515, 'ऐंशी': 1516, 'ऐक': 1517, 'ऐकणार': 1518, 'ऐकण्यात': 1519, 'ऐकण्यालायक': 1520, 'ऐकण्यास': 1521, 'ऐकत': 1522, 'ऐकतंय': 1523, 'ऐकतच': 1524, 'ऐकतसुद्धा': 1525, 'ऐकता': 1526, 'ऐकतात': 1527, 'ऐकताना': 1528, 'ऐकताय': 1529, 'ऐकतायत': 1530, 'ऐकताहेत': 1531, 'ऐकते': 1532, 'ऐकतेय': 1533, 'ऐकतेयस': 1534, 'ऐकतेस': 1535, 'ऐकतो': 1536, 'ऐकतोय': 1537, 'ऐकतोयस': 1538, 'ऐकतोस': 1539, 'ऐकलं': 1540, 'ऐकलंत': 1541, 'ऐकलंय': 1542, 'ऐकलंस': 1543, 'ऐकलंही': 1544, 'ऐकला': 1545, 'ऐकली': 1546, 'ऐकलीत': 1547, 'ऐकलीस': 1548, 'ऐकले': 1549, 'ऐकल्याने': 1550, 'ऐकल्यावर': 1551, 'ऐकशील': 1552, 'ऐका': 1553, 'ऐकायचं': 1554, 'ऐकायचा': 1555, 'ऐकायची': 1556, 'ऐकायला': 1557, 'ऐकाल': 1558, 'ऐकुया': 1559, 'ऐकू': 1560, 'ऐकून': 1561, 'ऐकूया': 1562, 'ऐकेन': 1563, 'ऐतिहासिकदृष्ट्या': 1564, 'ऐवजी': 1565, 'ऑइल': 1566, 'ऑइलची': 1567, 'ऑकलँड': 1568, 'ऑक्टोपस': 1569, 'ऑक्टोबर': 1570, 'ऑक्टोबरच्या': 1571, 'ऑक्टोबरपर्यंत': 1572, 'ऑक्टोबरमध्ये': 1573, 'ऑक्टोबरला': 1574, 'ऑक्सफोर्ड': 1575, 'ऑगस्ट': 1576, 'ऑगस्टपर्यंत': 1577, 'ऑगस्टमध्ये': 1578, 'ऑगस्टला': 1579, 'ऑटिस्टिक': 1580, 'ऑट्टो': 1581, 'ऑडिओ': 1582, 'ऑडियो': 1583, 'ऑडियोबुक': 1584, 'ऑडिशन': 1585, 'ऑन': 1586, 'ऑनड्यूटी': 1587, 'ऑनलाइन': 1588, 'ऑनलाईन': 1589, 'ऑपरेशन': 1590, 'ऑपरेशनबद्दल': 1591, 'ऑपेरा': 1592, 'ऑपेराचा': 1593, 'ऑफ': 1594, 'ऑफलाइन': 1595, 'ऑफिस': 1596, 'ऑफिसची': 1597, 'ऑफिसच्या': 1598, 'ऑफिसपेक्षा': 1599, 'ऑफिसमधला': 1600, 'ऑफिसमधून': 1601, 'ऑफिसमध्ये': 1602, 'ऑफिसमध्येच': 1603, 'ऑफिसर': 1604, 'ऑफिसरच्या': 1605, 'ऑफिसला': 1606, 'ऑफिसात': 1607, 'ऑम्लेट': 1608, 'ऑयस्टर': 1609, 'ऑरगॅनिक': 1610, 'ऑर्गन': 1611, 'ऑर्गनिस्ट': 1612, 'ऑर्लीन्सची': 1613, 'ऑलिंपिक': 1614, 'ऑलिम्पिक': 1615, 'ऑल्बनीपासून': 1616, 'ऑसवल्ड': 1617, 'ऑस्कर्स': 1618, 'ऑस्ट्रियाचेसुद्धा': 1619, 'ऑस्ट्रेलियन': 1620, 'ऑस्ट्रेलिया': 1621, 'ऑस्ट्रेलियाचं': 1622, 'ऑस्ट्रेलियाचा': 1623, 'ऑस्ट्रेलियाची': 1624, 'ऑस्ट्रेलियाचे': 1625, 'ऑस्ट्रेलियाच्या': 1626, 'ऑस्ट्रेलियात': 1627, 'ऑस्ट्रेलियातच': 1628, 'ऑस्ट्रेलियातला': 1629, 'ऑस्ट्रेलियातसुद्धा': 1630, 'ऑस्ट्रेलियातील': 1631, 'ऑस्ट्रेलियापासून': 1632, 'ऑस्ट्रेलियापेक्षा': 1633, 'ऑस्ट्रेलियाबद्दल': 1634, 'ऑस्ट्रेलियाबद्दलचं': 1635, 'ऑस्ट्रेलियामधील': 1636, 'ऑस्ट्रेलियामध्ये': 1637, 'ऑस्ट्रेलियाला': 1638, 'ऑस्ट्रेलियाविषयी': 1639, 'ऑस्ट्रेलियाहून': 1640, 'ऑस्लो': 1641, 'ओ': 1642, 'ओंडक्यांचे': 1643, 'ओकिनावामध्ये': 1644, 'ओके': 1645, 'ओझाकीइतका': 1646, 'ओटमील': 1647, 'ओटावा': 1648, 'ओठ': 1649, 'ओढता': 1650, 'ओढतात': 1651, 'ओढते': 1652, 'ओढतेस': 1653, 'ओढतो': 1654, 'ओढतोस': 1655, 'ओढायचा': 1656, 'ओत': 1657, 'ओतलं': 1658, 'ओतला': 1659, 'ओतली': 1660, 'ओतलेली': 1661, 'ओता': 1662, 'ओतून': 1663, 'ओनिगिरि': 1664, 'ओप्राह': 1665, 'ओबो': 1666, 'ओरडणं': 1667, 'ओरडण्याचा': 1668, 'ओरडत': 1669, 'ओरडताहेत': 1670, 'ओरडतो': 1671, 'ओरडतोय': 1672, 'ओरडलं': 1673, 'ओरडला': 1674, 'ओरडलाही': 1675, 'ओरडले': 1676, 'ओरडलो': 1677, 'ओरडल्या': 1678, 'ओरडायची': 1679, 'ओरडायचे': 1680, 'ओरडायला': 1681, 'ओरडू': 1682, 'ओरडून': 1683, 'ओलं': 1684, 'ओलसर': 1685, 'ओला': 1686, 'ओलांडताना': 1687, 'ओलांडला': 1688, 'ओलांडली': 1689, 'ओलांडू': 1690, 'ओली': 1691, 'ओले': 1692, 'ओल्डीज': 1693, 'ओळ': 1694, 'ओळख': 1695, 'ओळखत': 1696, 'ओळखतही': 1697, 'ओळखता': 1698, 'ओळखतात': 1699, 'ओळखते': 1700, 'ओळखतेस': 1701, 'ओळखतो': 1702, 'ओळखतोच': 1703, 'ओळखतोस': 1704, 'ओळखलं': 1705, 'ओळखलंच': 1706, 'ओळखलंत': 1707, 'ओळखलंस': 1708, 'ओळखला': 1709, 'ओळखायचे': 1710, 'ओळखायचो': 1711, 'ओळखीचा': 1712, 'ओळखीची': 1713, 'ओळखीचे': 1714, 'ओळखीच्या': 1715, 'ओळखीतला': 1716, 'ओळखीतल्या': 1717, 'ओळखू': 1718, 'ओळखून': 1719, 'ओळी': 1720, 'ओव्हन': 1721, 'ओव्हनचा': 1722, 'ओव्हनमधून': 1723, 'ओव्हनमध्ये': 1724, 'ओव्हर्डोझ': 1725, 'ओसाका': 1726, 'ओसाकाजवळ': 1727, 'ओसाकामध्ये': 1728, 'ओसाकाला': 1729, 'ओस्मानी': 1730, 'ओहायेमध्ये': 1731, 'ओहायोमध्ये': 1732, 'औंस': 1733, 'औद्यागिक': 1734, 'औद्योगिक': 1735, 'औद्योगिकरण': 1736, 'औपचारिक': 1737, 'औषद': 1738, 'औषध': 1739, 'औषधं': 1740, 'औषधविक्रेत्याकडे': 1741, 'औषधविक्रेत्याच्या': 1742, 'औषधांची': 1743, 'औषधांपासून': 1744, 'औषधांमध्ये': 1745, 'औषधांविरुद्ध': 1746, 'औषधाची': 1747, 'औषधाने': 1748, 'औषधालयात': 1749, 'कँडी': 1750, 'कँपरला': 1751, 'कँपसवर': 1752, 'कँपिंग': 1753, 'कँसरमुळे': 1754, 'कंगव्याने': 1755, 'कंटाळला': 1756, 'कंटाळलेला': 1757, 'कंटाळलेले': 1758, 'कंटाळवाणं': 1759, 'कंटाळवाणा': 1760, 'कंटाळा': 1761, 'कंट्री': 1762, 'कंट्रोल': 1763, 'कंडिशनर': 1764, 'कंदील': 1765, 'कंपनी': 1766, 'कंपनीचा': 1767, 'कंपनीची': 1768, 'कंपनीच्या': 1769, 'कंपनीत': 1770, 'कंपनीने': 1771, 'कंपनीला': 1772, 'कंपनीसाठी': 1773, 'कंपन्या': 1774, 'कंप्युटर': 1775, 'कंप्युटरची': 1776, 'कंप्यूटर': 1777, 'कंप्यूटरच': 1778, 'कचरा': 1779, 'कचरापेटीच्या': 1780, 'कचर्\\u200dयात': 1781, 'कचेरीत': 1782, 'कच्चं': 1783, 'कच्चा': 1784, 'कच्चे': 1785, 'कच्च्या': 1786, 'कठीण': 1787, 'कठोर': 1788, 'कडक': 1789, 'कडवट': 1790, 'कडू': 1791, 'कडेला': 1792, 'कण्हला': 1793, 'कथा': 1794, 'कथीड्रल': 1795, 'कदाचित': 1796, 'कधी': 1797, 'कधीकधी': 1798, 'कधीच': 1799, 'कधीतरी': 1800, 'कधीनाकधी': 1801, 'कधीपर्यंत': 1802, 'कधीपासून': 1803, 'कधीही': 1804, 'कनेरी': 1805, 'कन्ट्री': 1806, 'कन्सल्टंट': 1807, 'कप': 1808, 'कपं': 1809, 'कपकेक': 1810, 'कपकेकवर': 1811, 'कपडा': 1812, 'कपडे': 1813, 'कपडेच': 1814, 'कपड्यांचं': 1815, 'कपड्यांची': 1816, 'कपड्यांच्या': 1817, 'कपड्यांमध्ये': 1818, 'कपड्यांवर': 1819, 'कपड्याने': 1820, 'कपमधून': 1821, 'कपमध्ये': 1822, 'कपांपेक्षा': 1823, 'कपांमध्ये': 1824, 'कपाटातून': 1825, 'कपात': 1826, 'कपाळावरचा': 1827, 'कबर': 1828, 'कबरेवर': 1829, 'कबुतर': 1830, 'कबुतरांचा': 1831, 'कबुतरांची': 1832, 'कबुली': 1833, 'कबुलीवर': 1834, 'कबूल': 1835, 'कमवण्यासाठी': 1836, 'कमवत': 1837, 'कमवतात': 1838, 'कमवते': 1839, 'कमवतेय': 1840, 'कमवतो': 1841, 'कमवतोय': 1842, 'कमवला': 1843, 'कमवले': 1844, 'कमवायचे': 1845, 'कमांडर': 1846, 'कमाई': 1847, 'कमाल': 1848, 'कमावणं': 1849, 'कमावते': 1850, 'कमावतो': 1851, 'कमावले': 1852, 'कमी': 1853, 'कमीच': 1854, 'कमीतकमी': 1855, 'कमेंट': 1856, 'कम्प्युटर': 1857, 'कम्प्युटरची': 1858, 'कम्प्युटरमध्ये': 1859, 'कम्प्युटरला': 1860, 'कम्प्यूटर': 1861, 'कम्प्यूटरमधून': 1862, 'कम्प्यूटरमध्ये': 1863, 'कम्प्यूटरवर': 1864, 'कम्प्यूटरशिवाय': 1865, 'कम्प्यूटरसमोर': 1866, 'कम्प्यूटिंग': 1867, 'कम्प्यूटेड': 1868, 'कर': 1869, 'करणं': 1870, 'करणंही': 1871, 'करणार': 1872, 'करणारच': 1873, 'करणारा': 1874, 'करणारी': 1875, 'करणार्\\u200dया': 1876, 'करणे': 1877, 'करण्याअगोदर': 1878, 'करण्याआधी': 1879, 'करण्याइतपत': 1880, 'करण्याऐवजी': 1881, 'करण्याकरिता': 1882, 'करण्याचं': 1883, 'करण्याचा': 1884, 'करण्याची': 1885, 'करण्याचे': 1886, 'करण्याच्या': 1887, 'करण्यात': 1888, 'करण्यापुरते': 1889, 'करण्यापेक्षा': 1890, 'करण्याशिवाय': 1891, 'करण्यास': 1892, 'करण्यासाठी': 1893, 'करण्यासारखं': 1894, 'करण्यासारखी': 1895, 'करत': 1896, 'करतं': 1897, 'करतंय': 1898, 'करतच': 1899, 'करता': 1900, 'करतात': 1901, 'करताना': 1902, 'करताय': 1903, 'करताहात': 1904, 'करताहेत': 1905, 'करतील': 1906, 'करते': 1907, 'करतेय': 1908, 'करतेयस': 1909, 'करतेस': 1910, 'करतो': 1911, 'करतोय': 1912, 'करतोयस': 1913, 'करतोस': 1914, 'करप्ट': 1915, 'करमणूक': 1916, 'करवादला': 1917, 'करवून': 1918, 'करशील': 1919, 'करा': 1920, 'कराटे': 1921, 'कराटेच्या': 1922, 'कराटेमध्ये': 1923, 'करायचं': 1924, 'करायचंच': 1925, 'करायचंय': 1926, 'करायचस': 1927, 'करायचा': 1928, 'करायचाय': 1929, 'करायची': 1930, 'करायचे': 1931, 'करायचो': 1932, 'करायच्या': 1933, 'करायला': 1934, 'करायलाच': 1935, 'करायलासुद्धा': 1936, 'करायलाही': 1937, 'करार': 1938, 'कराराने': 1939, 'कराराला': 1940, 'करारावर': 1941, 'कराल': 1942, 'करावं': 1943, 'करावंसं': 1944, 'करावा': 1945, 'करावासा': 1946, 'करावी': 1947, 'करावीच': 1948, 'करावीशी': 1949, 'करावे': 1950, 'कराव्या': 1951, 'करी': 1952, 'करुया': 1953, 'करू': 1954, 'करूच': 1955, 'करूतं': 1956, 'करून': 1957, 'करूनकरून': 1958, 'करूनही': 1959, 'करूया': 1960, 'करूस': 1961, 'करे': 1962, 'करेन': 1963, 'करेपर्यंत': 1964, 'करेल': 1965, 'करो': 1966, 'करोड': 1967, 'कर्क': 1968, 'कर्कगोग': 1969, 'कर्करोग': 1970, 'कर्करोगाबद्दल': 1971, 'कर्करोगामुळे': 1972, 'कर्करोगाला': 1973, 'कर्ज': 1974, 'कर्जाची': 1975, 'कर्जावर': 1976, 'कर्जे': 1977, 'कर्णधार': 1978, 'कर्तव्य': 1979, 'कर्फ्यू': 1980, 'कर्मचारी': 1981, 'कर्मचार्\\u200dयांकडे': 1982, 'कर्मचार्\\u200dयांची': 1983, 'कर्व्ह': 1984, 'कर्सर': 1985, 'कलकत्ता': 1986, 'कलकत्त्याला': 1987, 'कला': 1988, 'कलाकार': 1989, 'कलाकारांना': 1990, 'कलाकारांमधील': 1991, 'कलात्मक': 1992, 'कलासंग्रहालयाला': 1993, 'कलिंगड': 1994, 'कलेचा': 1995, 'कलेच्या': 1996, 'कल्पना': 1997, 'कल्पनाशक्ती': 1998, 'कल्पनाही': 1999, 'कल्पनेचा': 2000, 'कळणार': 2001, 'कळणारदेखील': 2002, 'कळणारसुद्धा': 2003, 'कळत': 2004, 'कळतं': 2005, 'कळतंय': 2006, 'कळतच': 2007, 'कळता': 2008, 'कळते': 2009, 'कळतो': 2010, 'कळलं': 2011, 'कळला': 2012, 'कळली': 2013, 'कळव': 2014, 'कळवण्यात': 2015, 'कळवलं': 2016, 'कळवा': 2017, 'कळवायचं': 2018, 'कळवू': 2019, 'कळवेन': 2020, 'कळवेल': 2021, 'कळू': 2022, 'कळून': 2023, 'कळेपर्यंत': 2024, 'कळेल': 2025, 'कवटी': 2026, 'कवयित्री': 2027, 'कविता': 2028, 'कवितेचं': 2029, 'कवितेचा': 2030, 'कवितेची': 2031, 'कवी': 2032, 'कवींमधला': 2033, 'कवींवर': 2034, 'कवीने': 2035, 'कव्हरवर': 2036, 'कशा': 2037, 'कशाकरता': 2038, 'कशाकरिता': 2039, 'कशाचं': 2040, 'कशाचा': 2041, 'कशाचाही': 2042, 'कशाची': 2043, 'कशाचीच': 2044, 'कशाचीतरी': 2045, 'कशाचीही': 2046, 'कशाने': 2047, 'कशाबद्दल': 2048, 'कशाबद्दलही': 2049, 'कशामुळे': 2050, 'कशाला': 2051, 'कशालाही': 2052, 'कशावर': 2053, 'कशावरही': 2054, 'कशावरून': 2055, 'कशाविषयी': 2056, 'कशासाठी': 2057, 'कशी': 2058, 'कशे': 2059, 'कश्या': 2060, 'कश्याचा': 2061, 'कश्याचीच': 2062, 'कश्याचीही': 2063, 'कश्याने': 2064, 'कश्यावर': 2065, 'कष्टाळू': 2066, 'कसं': 2067, 'कसंतरी': 2068, 'कसंतरीच': 2069, 'कसतरीच': 2070, 'कसलं': 2071, 'कसला': 2072, 'कसलातरी': 2073, 'कसलाही': 2074, 'कसली': 2075, 'कसलीही': 2076, 'कसल्या': 2077, 'कसल्यातरी': 2078, 'कसल्याही': 2079, 'कसा': 2080, 'कसे': 2081, 'का': 2082, 'काँगापेक्षा': 2083, 'काँगोच्या': 2084, 'काँग्रेसने': 2085, 'काँट्रॅक्ट': 2086, 'काँट्रॅक्टवर': 2087, 'काँप्रेस': 2088, 'कांगारू': 2089, 'कांदे': 2090, 'कांद्यांचा': 2091, 'कांद्यांची': 2092, 'कांद्यांशिवाय': 2093, 'कांद्याचं': 2094, 'काउबॉय': 2095, 'काकडी': 2096, 'काकड्या': 2097, 'काका': 2098, 'काकांचं': 2099, 'काकांची': 2100, 'काकांच्या': 2101, 'काकांना': 2102, 'काकांनी': 2103, 'काकांने': 2104, 'काकांसोबत': 2105, 'काकाने': 2106, 'काकी': 2107, 'काकीने': 2108, 'काकीबरोबर': 2109, 'काकीला': 2110, 'काकीसारखी': 2111, 'कागद': 2112, 'कागदाचं': 2113, 'कागदाचा': 2114, 'कागदाची': 2115, 'कागदाच्या': 2116, 'कागदाला': 2117, 'कागदावर': 2118, 'कागदी': 2119, 'कागोशिमाला': 2120, 'काच': 2121, 'काचेच्या': 2122, 'काचेत': 2123, 'काचेवर': 2124, 'काटा': 2125, 'काटे': 2126, 'काट्यांचा': 2127, 'काठी': 2128, 'काठीच्या': 2129, 'काठीने': 2130, 'काठीशिवाय': 2131, 'काढ': 2132, 'काढणं': 2133, 'काढणार': 2134, 'काढण्याचा': 2135, 'काढत': 2136, 'काढता': 2137, 'काढतात': 2138, 'काढतील': 2139, 'काढते': 2140, 'काढतेयस': 2141, 'काढतेस': 2142, 'काढतो': 2143, 'काढतोय': 2144, 'काढतोयस': 2145, 'काढतोस': 2146, 'काढलं': 2147, 'काढलंत': 2148, 'काढलंस': 2149, 'काढला': 2150, 'काढली': 2151, 'काढलीत': 2152, 'काढलीस': 2153, 'काढले': 2154, 'काढलेत': 2155, 'काढलेला': 2156, 'काढलेस': 2157, 'काढल्या': 2158, 'काढल्यानंतर': 2159, 'काढा': 2160, 'काढायचं': 2161, 'काढायचा': 2162, 'काढायचाय': 2163, 'काढायची': 2164, 'काढायला': 2165, 'काढावा': 2166, 'काढू': 2167, 'काढून': 2168, 'काढूया': 2169, 'काढेन': 2170, 'काढेल': 2171, 'कात': 2172, 'कातर': 2173, 'कातो': 2174, 'कादंबरी': 2175, 'कादंबरीकार': 2176, 'कादंबरीकारसुद्धा': 2177, 'कादंबरीचं': 2178, 'कादंबरीचा': 2179, 'कादंबरीच्या': 2180, 'कादंबरीने': 2181, 'कादंबर्\\u200dया': 2182, 'कादंबर्\\u200dयादेखील': 2183, 'कादंबर्\\u200dयासुद्धा': 2184, 'कान': 2185, 'कानातले': 2186, 'कानातून': 2187, 'कान्जी': 2188, 'कान्जींचा': 2189, 'कान्जीचा': 2190, 'कान्जीसुद्धा': 2191, 'काप': 2192, 'कापड': 2193, 'कापत': 2194, 'कापतं': 2195, 'कापताहेत': 2196, 'कापते': 2197, 'कापतो': 2198, 'कापतोय': 2199, 'कापरी': 2200, 'कापलं': 2201, 'कापला': 2202, 'कापली': 2203, 'कापले': 2204, 'कापलेल्या': 2205, 'कापसाचा': 2206, 'कापा': 2207, 'कापायचं': 2208, 'कापायला': 2209, 'कापू': 2210, 'कापून': 2211, 'काबुकी': 2212, 'काबूल': 2213, 'काम': 2214, 'कामं': 2215, 'कामगार': 2216, 'कामगारांची': 2217, 'कामगारांना': 2218, 'कामा': 2219, 'कामाचं': 2220, 'कामाचा': 2221, 'कामाची': 2222, 'कामाचे': 2223, 'कामाच्या': 2224, 'कामात': 2225, 'कामानंतर': 2226, 'कामाने': 2227, 'कामाबद्दल': 2228, 'कामाला': 2229, 'कामावर': 2230, 'कामाविषयी': 2231, 'काय': 2232, 'कायकाय': 2233, 'कायदा': 2234, 'कायदे': 2235, 'कायदेशीर': 2236, 'कायद्याचा': 2237, 'कायद्याची': 2238, 'कायद्याच्या': 2239, 'कायद्याबाबत': 2240, 'कायद्याला': 2241, 'कायद्याविषयी': 2242, 'कायम': 2243, 'कायमचा': 2244, 'कायमची': 2245, 'कार': 2246, 'कारखाना': 2247, 'कारखाने': 2248, 'कारखान्यात': 2249, 'कारखान्याला': 2250, 'कारण': 2251, 'कारणांसाठी': 2252, 'काराओकेचा': 2253, 'कारागृहात': 2254, 'कार्टून': 2255, 'कार्ड': 2256, 'कार्डबरोबर': 2257, 'कार्डाने': 2258, 'कार्डिफमध्ये': 2259, 'कार्डियोलॉजिस्ट': 2260, 'कार्पेट': 2261, 'कार्यकर्ता': 2262, 'कार्यक्रम': 2263, 'कार्यक्रमांचा': 2264, 'कार्यालय': 2265, 'काल': 2266, 'कालच': 2267, 'कालचं': 2268, 'कालचा': 2269, 'कालचे': 2270, 'कालच्या': 2271, 'कालच्यापेक्षा': 2272, 'कालबाह्य': 2273, 'कालवं': 2274, 'काल्पनिक': 2275, 'काळ': 2276, 'काळं': 2277, 'काळजी': 2278, 'काळा': 2279, 'काळात': 2280, 'काळापासून': 2281, 'काळी': 2282, 'काळीमीरी': 2283, 'काळे': 2284, 'काळोख': 2285, 'काळोखात': 2286, 'काळ्या': 2287, 'कावळा': 2288, 'कावळे': 2289, 'कावळ्याने': 2290, 'काव्य': 2291, 'काव्याचे': 2292, 'काव्येचा': 2293, 'कासव': 2294, 'कासवांना': 2295, 'कासिल्लास': 2296, 'कास्त्रोचं': 2297, 'कास्सिनोला': 2298, 'काही': 2299, 'काहींनी': 2300, 'काहींसाठी': 2301, 'काहीच': 2302, 'काहीतरी': 2303, 'काहीना': 2304, 'काहीनाकाही': 2305, 'काहीही': 2306, 'किंग्डमचा': 2307, 'किंचाळ': 2308, 'किंचाळणं': 2309, 'किंचाळणार': 2310, 'किंचाळण्याचा': 2311, 'किंचाळण्यास': 2312, 'किंचाळत': 2313, 'किंचाळतंय': 2314, 'किंचाळता': 2315, 'किंचाळताना': 2316, 'किंचाळताहेत': 2317, 'किंचाळतेय': 2318, 'किंचाळतोय': 2319, 'किंचाळला': 2320, 'किंचाळली': 2321, 'किंचाळले': 2322, 'किंचाळलो': 2323, 'किंचाळल्या': 2324, 'किंचाळू': 2325, 'किंचाळेन': 2326, 'किंचाळेल': 2327, 'किंमत': 2328, 'किंमती': 2329, 'किंमतीत': 2330, 'किंवा': 2331, 'किचन': 2332, 'किचनमधला': 2333, 'किचनमध्ये': 2334, 'किटलीतलं': 2335, 'किडनी': 2336, 'किडा': 2337, 'किडे': 2338, 'किड्नॅप': 2339, 'किड्यांच्या': 2340, 'कितवा': 2341, 'कितवीत': 2342, 'किती': 2343, 'कितीचं': 2344, 'कितीला': 2345, 'कितीही': 2346, 'कित्येक': 2347, 'किनार्\\u200dयाजवळ': 2348, 'किन्शासा': 2349, 'किमती': 2350, 'किमतीचा': 2351, 'किमतीत': 2352, 'किमान': 2353, 'किमोनो': 2354, 'किमोनोत': 2355, 'किलवरचा': 2356, 'किलो': 2357, 'किलोग्राम': 2358, 'किलोग्रामपेक्षा': 2359, 'किलोच्या': 2360, 'किलोपेक्षा': 2361, 'किलोमीटर': 2362, 'किलोमीटरमध्ये': 2363, 'किल्ट': 2364, 'किल्ला': 2365, 'किल्ली': 2366, 'किल्ले': 2367, 'किल्ल्या': 2368, 'किल्ल्यांची': 2369, 'किल्ल्यात': 2370, 'किल्ल्यासाठी': 2371, 'किळस': 2372, 'किस': 2373, 'किसलेलं': 2374, 'किसही': 2375, 'किसिंजर': 2376, 'किसून': 2377, 'की': 2378, 'कीटक': 2379, 'कीडे': 2380, 'कीबोर्ड': 2381, 'कीबोर्डची': 2382, 'कुंपणावरून': 2383, 'कुंपणेवरून': 2384, 'कुकर': 2385, 'कुकी': 2386, 'कुकीला': 2387, 'कुजबुजत': 2388, 'कुजबुजताना': 2389, 'कुटुंब': 2390, 'कुटुंबच': 2391, 'कुटुंबांचे': 2392, 'कुटुंबाचं': 2393, 'कुटुंबाचा': 2394, 'कुटुंबाची': 2395, 'कुटुंबात': 2396, 'कुटुंबातला': 2397, 'कुटुंबातली': 2398, 'कुटुंबातले': 2399, 'कुटुंबाबद्दल': 2400, 'कुटुंबाबरोबर': 2401, 'कुटुंबामधील': 2402, 'कुटुंबाला': 2403, 'कुटुंबासह': 2404, 'कुटुंबासहित': 2405, 'कुटुंबासाठी': 2406, 'कुटुंबासोबत': 2407, 'कुटुंबीय': 2408, 'कुठचा': 2409, 'कुठची': 2410, 'कुठचे': 2411, 'कुठून': 2412, 'कुठे': 2413, 'कुठेकुठे': 2414, 'कुठेच': 2415, 'कुठेतरी': 2416, 'कुठेय': 2417, 'कुठेयत': 2418, 'कुठेही': 2419, 'कुणीतरी': 2420, 'कुत्रा': 2421, 'कुत्री': 2422, 'कुत्रीचं': 2423, 'कुत्रीची': 2424, 'कुत्रीला': 2425, 'कुत्रे': 2426, 'कुत्र्यांची': 2427, 'कुत्र्यांना': 2428, 'कुत्र्यांपेक्षा': 2429, 'कुत्र्याचं': 2430, 'कुत्र्याची': 2431, 'कुत्र्याच्या': 2432, 'कुत्र्यात': 2433, 'कुत्र्याने': 2434, 'कुत्र्याबरोबर': 2435, 'कुत्र्याला': 2436, 'कुत्र्यावर': 2437, 'कुत्र्याशिवाय': 2438, 'कुत्र्याशी': 2439, 'कुत्र्यासाठी': 2440, 'कुबलाई': 2441, 'कुरकुरला': 2442, 'कुरकुरीतपणा': 2443, 'कुराण': 2444, 'कुरूप': 2445, 'कुर्\\u200dहाड': 2446, 'कुलूप': 2447, 'कुस्ती': 2448, 'कुस्तीगीर': 2449, 'कूकी': 2450, 'कूपन': 2451, 'कूल': 2452, 'कूलिज': 2453, 'कृत्रिम': 2454, 'कृपया': 2455, 'कृपा': 2456, 'कृषिशास्त्राचा': 2457, 'कृषीच्या': 2458, 'कृष्णवर्णीय': 2459, 'कॅटलोनियाची': 2460, 'कॅडिलॅक': 2461, 'कॅथलिक': 2462, 'कॅन': 2463, 'कॅनडा': 2464, 'कॅनडाइतका': 2465, 'कॅनडाचं': 2466, 'कॅनडाची': 2467, 'कॅनडात': 2468, 'कॅनडापासून': 2469, 'कॅनडापेक्षा': 2470, 'कॅनडामध्ये': 2471, 'कॅनडाला': 2472, 'कॅनडासुद्धा': 2473, 'कॅनला': 2474, 'कॅनेडियन': 2475, 'कॅनेडियनच': 2476, 'कॅनेडियनशी': 2477, 'कॅनो': 2478, 'कॅन्टीन': 2479, 'कॅन्टीनमध्ये': 2480, 'कॅन्डी': 2481, 'कॅन्सर': 2482, 'कॅन्सरला': 2483, 'कॅन्सल': 2484, 'कॅपिटल': 2485, 'कॅप्टन': 2486, 'कॅप्टनची': 2487, 'कॅफीनचं': 2488, 'कॅफीनची': 2489, 'कॅबटने': 2490, 'कॅबिनेटचा': 2491, 'कॅमेरा': 2492, 'कॅमेराचा': 2493, 'कॅमेरामन': 2494, 'कॅमेराला': 2495, 'कॅमेरे': 2496, 'कॅमेर्\\u200dयाकडे': 2497, 'कॅमेर्\\u200dयात': 2498, 'कॅमोमाईल': 2499, 'कॅम्पस': 2500, 'कॅम्पसच्या': 2501, 'कॅम्पसबाहेर': 2502, 'कॅम्पसमध्येच': 2503, 'कॅरिबियन': 2504, 'कॅलक्युलेटर': 2505, 'कॅलक्युलेटरची': 2506, 'कॅलरी': 2507, 'कॅलिफॉर्नियाची': 2508, 'कॅलिफॉर्नियापासून': 2509, 'कॅलिफोर्नियामध्ये': 2510, 'कॅले': 2511, 'कॅलेंडर': 2512, 'कॅलोरी': 2513, 'कॅल्क्युलेटर': 2514, 'कॅल्क्युलेटरमध्ये': 2515, 'कॅल्मिअस': 2516, 'कॅल्व्हिन': 2517, 'कॅव्हिआर': 2518, 'कॅश': 2519, 'कॅसेट': 2520, 'केंदोमधील': 2521, 'केंद्र': 2522, 'केंद्रात': 2523, 'केंद्रित': 2524, 'केंब्रिज': 2525, 'केक': 2526, 'केकचे': 2527, 'केकवर': 2528, 'केकसुद्धा': 2529, 'केचप': 2530, 'केनिया': 2531, 'केबलची': 2532, 'केबिन': 2533, 'केबिनमध्ये': 2534, 'केमिस्टकडे': 2535, 'केमिस्टच्या': 2536, 'केरोसिन': 2537, 'केलं': 2538, 'केलंच': 2539, 'केलंत': 2540, 'केलंय': 2541, 'केलंस': 2542, 'केलत': 2543, 'केला': 2544, 'केलाच': 2545, 'केलात': 2546, 'केलान्तान': 2547, 'केलाय': 2548, 'केलास': 2549, 'केली': 2550, 'केलीच': 2551, 'केलीत': 2552, 'केलीस': 2553, 'केले': 2554, 'केलेलं': 2555, 'केलेला': 2556, 'केलेली': 2557, 'केलेले': 2558, 'केलेल्या': 2559, 'केल्टिक': 2560, 'केल्या': 2561, 'केल्यानंतर': 2562, 'केल्याने': 2563, 'केल्याबरोबर': 2564, 'केल्याशिवाय': 2565, 'केळं': 2566, 'केळी': 2567, 'केळींचा': 2568, 'केळ्याच्या': 2569, 'केवळ': 2570, 'केव्हा': 2571, 'केव्हाच': 2572, 'केस': 2573, 'केसं': 2574, 'केसांचे': 2575, 'केसांच्या': 2576, 'केसांना': 2577, 'केसांमध्ये': 2578, 'कैदी': 2579, 'कैदीला': 2580, 'कैद्यांना': 2581, 'कैद्याने': 2582, 'कैद्याला': 2583, 'कॉंग्रेसकडे': 2584, 'कॉकटेल': 2585, 'कॉक्टेलांबद्दल': 2586, 'कॉनसर्टला': 2587, 'कॉन्ट्रॅक्ट': 2588, 'कॉन्फरन्स': 2589, 'कॉन्सर्ट': 2590, 'कॉन्सर्टबद्दल': 2591, 'कॉन्स्टँटिनोपल': 2592, 'कॉपी': 2593, 'कॉफी': 2594, 'कॉफीच': 2595, 'कॉफीचा': 2596, 'कॉफीची': 2597, 'कॉफीचे': 2598, 'कॉफीत': 2599, 'कॉफीपेक्षा': 2600, 'कॉफीमध्ये': 2601, 'कॉफीला': 2602, 'कॉफीसारखा': 2603, 'कॉम': 2604, 'कॉमिक': 2605, 'कॉमिक्स': 2606, 'कॉमेंट': 2607, 'कॉम्प्युटरवर': 2608, 'कॉम्प्यूटर': 2609, 'कॉम्प्यूटरसंबंधित': 2610, 'कॉरमध्ये': 2611, 'कॉर्सिकामध्ये': 2612, 'कॉल': 2613, 'कॉलेज': 2614, 'कॉलेजने': 2615, 'कॉलेजमध्ये': 2616, 'कॉलेजला': 2617, 'कॉलेजात': 2618, 'कोंबडी': 2619, 'कोंबडीचं': 2620, 'कोंबडीचा': 2621, 'कोंबडीचे': 2622, 'कोंबडीने': 2623, 'कोंबडीपेक्षा': 2624, 'कोंबडीला': 2625, 'कोंबडीसारखी': 2626, 'कोंबडे': 2627, 'कोंबड्या': 2628, 'कोंबड्यांना': 2629, 'कोआला': 2630, 'कोक': 2631, 'कोकेन': 2632, 'कोकेनचं': 2633, 'कोको': 2634, 'कोच': 2635, 'कोट': 2636, 'कोटची': 2637, 'कोटवरचं': 2638, 'कोटी': 2639, 'कोड': 2640, 'कोडं': 2641, 'कोडी': 2642, 'कोण': 2643, 'कोणकोण': 2644, 'कोणकोणत्या': 2645, 'कोणतं': 2646, 'कोणतंय': 2647, 'कोणतंही': 2648, 'कोणता': 2649, 'कोणताच': 2650, 'कोणतातरी': 2651, 'कोणताही': 2652, 'कोणती': 2653, 'कोणतीही': 2654, 'कोणते': 2655, 'कोणतेही': 2656, 'कोणत्या': 2657, 'कोणत्याच': 2658, 'कोणत्यातरी': 2659, 'कोणत्याही': 2660, 'कोणाकडून': 2661, 'कोणाकडूनही': 2662, 'कोणाकडे': 2663, 'कोणाचं': 2664, 'कोणाचंच': 2665, 'कोणाचंही': 2666, 'कोणाचा': 2667, 'कोणाचाच': 2668, 'कोणाचाही': 2669, 'कोणाची': 2670, 'कोणाचीच': 2671, 'कोणाचीही': 2672, 'कोणाचे': 2673, 'कोणाच्या': 2674, 'कोणाच्याही': 2675, 'कोणाबद्दल': 2676, 'कोणाबरोबर': 2677, 'कोणाला': 2678, 'कोणालाच': 2679, 'कोणालातरी': 2680, 'कोणालाही': 2681, 'कोणावर': 2682, 'कोणावरच': 2683, 'कोणावरही': 2684, 'कोणाशी': 2685, 'कोणाशीच': 2686, 'कोणाशीही': 2687, 'कोणास': 2688, 'कोणासाठी': 2689, 'कोणासाठीही': 2690, 'कोणासारखा': 2691, 'कोणासारखे': 2692, 'कोणासोबत': 2693, 'कोणी': 2694, 'कोणीच': 2695, 'कोणीतरी': 2696, 'कोणीही': 2697, 'कोतो': 2698, 'कोन': 2699, 'कोपर': 2700, 'कोपर्\\u200dयात': 2701, 'कोपर्\\u200dयावर': 2702, 'कोपेनहागेन': 2703, 'कोबी': 2704, 'कोमट': 2705, 'कोमात': 2706, 'कोरड्या': 2707, 'कोरा': 2708, 'कोरियन': 2709, 'कोरिया': 2710, 'कोरियाची': 2711, 'कोरियात': 2712, 'कोरियाने': 2713, 'कोरियामध्ये': 2714, 'कोरियावर': 2715, 'कोर्स': 2716, 'कोर्सचा': 2717, 'कोलंबसचं': 2718, 'कोलंबसने': 2719, 'कोलंबसला': 2720, 'कोलंबियन': 2721, 'कोलोरॅडोमध्ये': 2722, 'कोल्ड्रिंक': 2723, 'कोल्हे': 2724, 'कोल्ह्याने': 2725, 'कोल्ह्यामागे': 2726, 'कोल्ह्याला': 2727, 'कोळंबी': 2728, 'कोळश्यात': 2729, 'कोळश्यासारखा': 2730, 'कोळसा': 2731, 'कोवळं': 2732, 'कोशर': 2733, 'कोशिंबीर': 2734, 'कोशिंबीरसुद्धा': 2735, 'कोसळली': 2736, 'कोस्टर': 2737, 'कौतुक': 2738, 'क्यिव': 2739, 'क्यीव': 2740, 'क्युबामध्ये': 2741, 'क्युबावर': 2742, 'क्युशुमध्ये': 2743, 'क्यूआर': 2744, 'क्यूशू': 2745, 'क्योतो': 2746, 'क्योतोमध्ये': 2747, 'क्योवा': 2748, 'क्र': 2749, 'क्रमांक': 2750, 'क्रमांकाची': 2751, 'क्रमांकावर': 2752, 'क्रांती': 2753, 'क्रांतीच्या': 2754, 'क्रांतीत': 2755, 'क्रांतीनंतर': 2756, 'क्रिकेट': 2757, 'क्रियाविशेषण': 2758, 'क्रिश्चन': 2759, 'क्रिसमस': 2760, 'क्रिस्तोफोरी': 2761, 'क्रीम': 2762, 'क्रूझ': 2763, 'क्रूर': 2764, 'क्रॅकरचा': 2765, 'क्रॅश': 2766, 'क्रॅशच': 2767, 'क्रेडिट': 2768, 'क्लब': 2769, 'क्लबचा': 2770, 'क्लबमधली': 2771, 'क्लाउड': 2772, 'क्लारिनेट': 2773, 'क्लासमध्ये': 2774, 'क्लासला': 2775, 'क्लासिकल': 2776, 'क्लिओपात्राचं': 2777, 'क्लिक': 2778, 'क्लिनीक': 2779, 'क्लियर': 2780, 'क्लॅट्सॉप': 2781, 'क्लॅन': 2782, 'क्लॅरिनेट': 2783, 'क्लॅरिनेटिस्ट': 2784, 'क्लॉस्ट्रोफोबिक': 2785, 'क्वचितच': 2786, 'क्वाडकोर': 2787, 'क्षण': 2788, 'क्षणभर': 2789, 'क्षणही': 2790, 'क्षणासाठी': 2791, 'क्षणासाठीही': 2792, 'क्षणी': 2793, 'क्षमता': 2794, 'क्षेत्र': 2795, 'क्षेत्रांमध्ये': 2796, 'क्षेत्रात': 2797, 'खंड': 2798, 'खंबीर': 2799, 'खगोलशास्त्र': 2800, 'खजिना': 2801, 'खजिन्याचा': 2802, 'खजिन्याच्या': 2803, 'खजूर': 2804, 'खटला': 2805, 'खड्डा': 2806, 'खड्डे': 2807, 'खड्ड्यात': 2808, 'खरं': 2809, 'खरंखरं': 2810, 'खरंच': 2811, 'खरंतर': 2812, 'खरंय': 2813, 'खरंही': 2814, 'खरखरीत': 2815, 'खरच': 2816, 'खरा': 2817, 'खराब': 2818, 'खरी': 2819, 'खरीखुरी': 2820, 'खरीदायचं': 2821, 'खरीदू': 2822, 'खरीदून': 2823, 'खरीही': 2824, 'खरे': 2825, 'खरेदी': 2826, 'खरेदीविक्री': 2827, 'खरोखर': 2828, 'खरोखरच': 2829, 'खरोखरचं': 2830, 'खर्च': 2831, 'खर्\\u200dया': 2832, 'खलीफा': 2833, 'खळखळाट': 2834, 'खळतेस': 2835, 'खळतोस': 2836, 'खा': 2837, 'खांदे': 2838, 'खांद्यापर्यंत': 2839, 'खांद्याला': 2840, 'खांद्यावर': 2841, 'खाईन': 2842, 'खाईल': 2843, 'खाऊ': 2844, 'खाऊन': 2845, 'खाऊया': 2846, 'खाज': 2847, 'खाजगी': 2848, 'खाजवलीत': 2849, 'खाजवलीस': 2850, 'खाजवेन': 2851, 'खाण': 2852, 'खाणं': 2853, 'खाणाखुणा': 2854, 'खाणार': 2855, 'खाणारे': 2856, 'खाण्याअगोदर': 2857, 'खाण्याचं': 2858, 'खाण्यातून': 2859, 'खाण्यायोग्य': 2860, 'खाण्यासाठी': 2861, 'खात': 2862, 'खातंय': 2863, 'खातखात': 2864, 'खातखातच': 2865, 'खातच': 2866, 'खातरी': 2867, 'खाता': 2868, 'खाताखाता': 2869, 'खातात': 2870, 'खातातच': 2871, 'खाताना': 2872, 'खाताहेत': 2873, 'खातील': 2874, 'खाते': 2875, 'खातेय': 2876, 'खातेस': 2877, 'खातो': 2878, 'खातोय': 2879, 'खातोस': 2880, 'खात्यात': 2881, 'खात्री': 2882, 'खाद्य': 2883, 'खाद्यपदार्थ': 2884, 'खानने': 2885, 'खायचं': 2886, 'खायचा': 2887, 'खायची': 2888, 'खायचे': 2889, 'खायचो': 2890, 'खायच्या': 2891, 'खायला': 2892, 'खारट': 2893, 'खालच्या': 2894, 'खालपर्यंत': 2895, 'खालली': 2896, 'खाला': 2897, 'खाली': 2898, 'खालील': 2899, 'खाल्लं': 2900, 'खाल्लंत': 2901, 'खाल्लंस': 2902, 'खाल्ला': 2903, 'खाल्लात': 2904, 'खाल्लास': 2905, 'खाल्ली': 2906, 'खाल्ले': 2907, 'खाल्लेत': 2908, 'खाल्लेलं': 2909, 'खाल्लेला': 2910, 'खाल्लेस': 2911, 'खाल्ल्यानंतर': 2912, 'खावंसं': 2913, 'खाशील': 2914, 'खास': 2915, 'खासकरून': 2916, 'खिडकी': 2917, 'खिडकीत': 2918, 'खिडकीतून': 2919, 'खिडकीपाशी': 2920, 'खिडकीबाहेर': 2921, 'खिडकीवर': 2922, 'खिडक्या': 2923, 'खिल्ली': 2924, 'खिळा': 2925, 'खिळ्यासारखं': 2926, 'खिश्यांमध्ये': 2927, 'खिश्यात': 2928, 'खिश्यातून': 2929, 'खिसे': 2930, 'खिसेकापूंशी': 2931, 'खुनी': 2932, 'खुनीच्या': 2933, 'खुनेबद्दल': 2934, 'खुर्ची': 2935, 'खुर्चीखाली': 2936, 'खुर्चीची': 2937, 'खुर्चीच्या': 2938, 'खुर्चीत': 2939, 'खुर्चीवर': 2940, 'खुर्चीवरून': 2941, 'खुर्च्या': 2942, 'खुश': 2943, 'खूण': 2944, 'खून': 2945, 'खूनीचा': 2946, 'खूप': 2947, 'खूपच': 2948, 'खूपदा': 2949, 'खूश': 2950, 'खूष': 2951, 'खेकडा': 2952, 'खेकड्याला': 2953, 'खेचला': 2954, 'खेचले': 2955, 'खेचू': 2956, 'खेचून': 2957, 'खेडेगाव': 2958, 'खेलणं': 2959, 'खेळ': 2960, 'खेळणं': 2961, 'खेळणार': 2962, 'खेळणी': 2963, 'खेळणींने': 2964, 'खेळणे': 2965, 'खेळण्यांची': 2966, 'खेळण्यांनी': 2967, 'खेळण्यांबरोबर': 2968, 'खेळण्यात': 2969, 'खेळण्यातला': 2970, 'खेळण्यातली': 2971, 'खेळण्याशिवाय': 2972, 'खेळण्यास': 2973, 'खेळण्यासाठी': 2974, 'खेळत': 2975, 'खेळतं': 2976, 'खेळता': 2977, 'खेळतात': 2978, 'खेळताना': 2979, 'खेळतायत': 2980, 'खेळताहेत': 2981, 'खेळते': 2982, 'खेळतेय': 2983, 'खेळतेस': 2984, 'खेळतो': 2985, 'खेळतोय': 2986, 'खेळतोस': 2987, 'खेळला': 2988, 'खेळलात': 2989, 'खेळलास': 2990, 'खेळलीस': 2991, 'खेळले': 2992, 'खेळलो': 2993, 'खेळा': 2994, 'खेळांमध्ये': 2995, 'खेळाचे': 2996, 'खेळाडू': 2997, 'खेळाडूला': 2998, 'खेळात': 2999, 'खेळायचं': 3000, 'खेळायचंय': 3001, 'खेळायचा': 3002, 'खेळायची': 3003, 'खेळायचे': 3004, 'खेळायचो': 3005, 'खेळायच्या': 3006, 'खेळायला': 3007, 'खेळावसं': 3008, 'खेळासारखं': 3009, 'खेळी': 3010, 'खेळुया': 3011, 'खेळू': 3012, 'खेळून': 3013, 'खेळूया': 3014, 'खेळेन': 3015, 'खेळेल': 3016, 'खोकताना': 3017, 'खोकला': 3018, 'खोका': 3019, 'खोकू': 3020, 'खोक्यात': 3021, 'खोखो': 3022, 'खोगिरे': 3023, 'खोगीर': 3024, 'खोटं': 3025, 'खोटा': 3026, 'खोटारडा': 3027, 'खोटारडी': 3028, 'खोटारडे': 3029, 'खोटेपणाचा': 3030, 'खोट्या': 3031, 'खोडली': 3032, 'खोडून': 3033, 'खोदत': 3034, 'खोदतायत': 3035, 'खोदला': 3036, 'खोदली': 3037, 'खोल': 3038, 'खोलवर': 3039, 'खोली': 3040, 'खोलींचं': 3041, 'खोलींचा': 3042, 'खोलीचा': 3043, 'खोलीची': 3044, 'खोलीचे': 3045, 'खोलीच्या': 3046, 'खोलीत': 3047, 'खोलीतला': 3048, 'खोलीतील': 3049, 'खोलीतून': 3050, 'खोलीपर्यंत': 3051, 'खोलीमधल्या': 3052, 'खोलीमध्ये': 3053, 'खोलीला': 3054, 'खोल्या': 3055, 'खोल्यांचं': 3056, 'ख्रिश्चन': 3057, 'ख्रिस्त': 3058, 'ख्रिस्ताचा': 3059, 'ख्रिस्ती': 3060, 'ख्रिस्तीधर्म': 3061, 'गंजलेली': 3062, 'गंजीत': 3063, 'गंभीर': 3064, 'गंभीरपणे': 3065, 'गगनचुंबी': 3066, 'गजबजलेलं': 3067, 'गजर': 3068, 'गट': 3069, 'गटात': 3070, 'गटातील': 3071, 'गड': 3072, 'गडची': 3073, 'गडबड': 3074, 'गडबडीची': 3075, 'गडबडीत': 3076, 'गडांवर': 3077, 'गडामध्ये': 3078, 'गणवेशात': 3079, 'गणित': 3080, 'गणिताचा': 3081, 'गणिताची': 3082, 'गणितात': 3083, 'गणितापेक्षा': 3084, 'गणिताबरोबरच': 3085, 'गती': 3086, 'गतीने': 3087, 'गतीपेक्षा': 3088, 'गद्दार': 3089, 'गद्दारी': 3090, 'गप्प': 3091, 'गप्पा': 3092, 'गमतीचं': 3093, 'गमतीदार': 3094, 'गमवायची': 3095, 'गमवायला': 3096, 'गमवू': 3097, 'गमवून': 3098, 'गमावलं': 3099, 'गमावली': 3100, 'गमावले': 3101, 'गमावल्यानंतर': 3102, 'गमावून': 3103, 'गमी': 3104, 'गरज': 3105, 'गरजच': 3106, 'गरजेचं': 3107, 'गरजेपेक्षा': 3108, 'गरम': 3109, 'गरमी': 3110, 'गरमीत': 3111, 'गराडा': 3112, 'गरिबांची': 3113, 'गरिबांमध्ये': 3114, 'गरिबांवर': 3115, 'गरिबांविषयी': 3116, 'गरीब': 3117, 'गरुड': 3118, 'गरोदर': 3119, 'गर्दी': 3120, 'गर्दीत': 3121, 'गर्दीतसुद्धा': 3122, 'गर्दीला': 3123, 'गर्भगृह': 3124, 'गर्लफ्रेंड': 3125, 'गर्लफ्रेंडचं': 3126, 'गर्लफ्रेंडची': 3127, 'गर्लफ्रेंडना': 3128, 'गर्लफ्रेंडने': 3129, 'गर्लफ्रेंडपासून': 3130, 'गर्लफ्रेंडबद्दल': 3131, 'गर्लफ्रेंडबरोबर': 3132, 'गर्लफ्रेंडला': 3133, 'गर्लफ्रेंडसाठी': 3134, 'गल्ल्या': 3135, 'गळपट्ट्यांची': 3136, 'गळे': 3137, 'गवत': 3138, 'गवताच्या': 3139, 'गवतावर': 3140, 'गव्हापासून': 3141, 'गहाण': 3142, 'गहू': 3143, 'गाई': 3144, 'गाईंची': 3145, 'गाईंना': 3146, 'गाईन': 3147, 'गाईल': 3148, 'गाईला': 3149, 'गाऊ': 3150, 'गाऊन': 3151, 'गाऊया': 3152, 'गाजर': 3153, 'गाजरं': 3154, 'गाजरांपेक्षा': 3155, 'गाजरांमध्ये': 3156, 'गाजराची': 3157, 'गाडला': 3158, 'गाडायला': 3159, 'गाडी': 3160, 'गाडीचं': 3161, 'गाडीचा': 3162, 'गाडीची': 3163, 'गाडीचे': 3164, 'गाडीच्या': 3165, 'गाडीत': 3166, 'गाडीतला': 3167, 'गाडीतून': 3168, 'गाडीने': 3169, 'गाडीपेक्षा': 3170, 'गाडीमध्ये': 3171, 'गाडीमागे': 3172, 'गाडीला': 3173, 'गाडीसाठी': 3174, 'गाड्या': 3175, 'गाड्यांची': 3176, 'गाड्यांना': 3177, 'गाड्यांनी': 3178, 'गाड्यांशी': 3179, 'गाढ': 3180, 'गाणं': 3181, 'गाणार': 3182, 'गाणी': 3183, 'गाणीही': 3184, 'गाण्याचं': 3185, 'गाण्यात': 3186, 'गाण्यावर': 3187, 'गात': 3188, 'गातं': 3189, 'गाता': 3190, 'गातात': 3191, 'गाताना': 3192, 'गाताहेत': 3193, 'गातेस': 3194, 'गातो': 3195, 'गातोस': 3196, 'गादीखाली': 3197, 'गाना': 3198, 'गाय': 3199, 'गायक': 3200, 'गायकांमधील': 3201, 'गायकांमध्ये': 3202, 'गायकाचा': 3203, 'गायचं': 3204, 'गायचंय': 3205, 'गायचा': 3206, 'गायची': 3207, 'गायब': 3208, 'गायलं': 3209, 'गायला': 3210, 'गायली': 3211, 'गायले': 3212, 'गायलेलं': 3213, 'गायलो': 3214, 'गायल्या': 3215, 'गायिका': 3216, 'गायिकेचा': 3217, 'गायिकेसारखी': 3218, 'गायी': 3219, 'गार': 3220, 'गार्डनमध्ये': 3221, 'गाल': 3222, 'गालगुंडाने': 3223, 'गालात': 3224, 'गालातल्या': 3225, 'गालावर': 3226, 'गाळणीत': 3227, 'गाव': 3228, 'गावकरांना': 3229, 'गावकरी': 3230, 'गावभर': 3231, 'गावांमध्ये': 3232, 'गावाचा': 3233, 'गावाची': 3234, 'गावाच्या': 3235, 'गावात': 3236, 'गावातली': 3237, 'गावातल्या': 3238, 'गावातील': 3239, 'गावातून': 3240, 'गावाला': 3241, 'गावी': 3242, 'गाशील': 3243, 'गिटार': 3244, 'गिटारला': 3245, 'गिटारवादक': 3246, 'गिटारसुद्धा': 3247, 'गिटारिस्ट': 3248, 'गिनी': 3249, 'गिर्\\u200dहाईक': 3250, 'गिर्\\u200dहाईकच': 3251, 'गिळ': 3252, 'गिळण्याअगोदर': 3253, 'गिळलं': 3254, 'गिळला': 3255, 'गिळा': 3256, 'गीत': 3257, 'गुंडाळून': 3258, 'गुंतागुंतीची': 3259, 'गुटेनबर्गने': 3260, 'गुडघा': 3261, 'गुडघे': 3262, 'गुढग्यांवर': 3263, 'गुढघ्यांपर्यंत': 3264, 'गुण': 3265, 'गुणगुणा': 3266, 'गुणिले': 3267, 'गुदगुली': 3268, 'गुन्हा': 3269, 'गुन्हे': 3270, 'गुन्हेगार': 3271, 'गुन्हेगारांना': 3272, 'गुन्हेगारासारखं': 3273, 'गुन्हेगारी': 3274, 'गुन्हेगारीचा': 3275, 'गुन्हेगारीच्या': 3276, 'गुपित': 3277, 'गुप्तहेर': 3278, 'गुरुकडे': 3279, 'गुरुत्वच': 3280, 'गुरुवार': 3281, 'गुरूवार': 3282, 'गुलाब': 3283, 'गुलाबांचा': 3284, 'गुलाबांपेक्षा': 3285, 'गुलाबाचं': 3286, 'गुलाबाला': 3287, 'गुलाबी': 3288, 'गुलाम': 3289, 'गुलामगिरी': 3290, 'गुलामगिरीची': 3291, 'गुलामगिरीवर': 3292, 'गुलामांना': 3293, 'गुलामांसारखं': 3294, 'गुलामासारखं': 3295, 'गुहेत': 3296, 'गूगल': 3297, 'गूगलचा': 3298, 'गृहपाठ': 3299, 'गृहीत': 3300, 'गॅट्स्बी': 3301, 'गॅरेज': 3302, 'गॅरेजची': 3303, 'गॅरेजमधलं': 3304, 'गॅरेजमध्ये': 3305, 'गॅलन': 3306, 'गॅस': 3307, 'गॅसचा': 3308, 'गॅसची': 3309, 'गेट': 3310, 'गेब्रिएल': 3311, 'गेम': 3312, 'गेम्स': 3313, 'गेलं': 3314, 'गेलंय': 3315, 'गेलय': 3316, 'गेला': 3317, 'गेलात': 3318, 'गेलाय': 3319, 'गेलास': 3320, 'गेली': 3321, 'गेलीस': 3322, 'गेले': 3323, 'गेलेय': 3324, 'गेलेयत': 3325, 'गेलेलं': 3326, 'गेलेला': 3327, 'गेलेलाच': 3328, 'गेलेलास': 3329, 'गेलेली': 3330, 'गेलेलीस': 3331, 'गेलेले': 3332, 'गेलेलो': 3333, 'गेलेल्या': 3334, 'गेलो': 3335, 'गेलोय': 3336, 'गेल्डरिश': 3337, 'गेल्या': 3338, 'गेल्यापर्यंत': 3339, 'गेल्याबरोबरच': 3340, 'गेल्यावर': 3341, 'गेस्टरूमला': 3342, 'गेेले': 3343, 'गैरकायदेशीर': 3344, 'गैरजबाबदार': 3345, 'गैरफायदा': 3346, 'गैरहजर': 3347, 'गॉगल': 3348, 'गॉल': 3349, 'गॉलपासून': 3350, 'गोंधळ': 3351, 'गोंधळला': 3352, 'गोंधळले': 3353, 'गोंधळलेला': 3354, 'गोंधळलेली': 3355, 'गोंधळलेले': 3356, 'गोंधळलेलो': 3357, 'गोंधळलो': 3358, 'गोंधळात': 3359, 'गोंधळासाठी': 3360, 'गोजिरवाणं': 3361, 'गोड': 3362, 'गोड्या': 3363, 'गोन्डोलाचालक': 3364, 'गोपनीय': 3365, 'गोमांस': 3366, 'गोमांसाच्या': 3367, 'गोरिला': 3368, 'गोल': 3369, 'गोलंदाज': 3370, 'गोलकीपर': 3371, 'गोलाकार': 3372, 'गोलार्धात': 3373, 'गोल्डन': 3374, 'गोल्डफिश': 3375, 'गोल्डफिशला': 3376, 'गोल्फ': 3377, 'गोल्फचा': 3378, 'गोल्फपटू': 3379, 'गोल्फमध्ये': 3380, 'गोल्फर': 3381, 'गोल्फरांमधील': 3382, 'गोळा': 3383, 'गोळी': 3384, 'गोळीबार': 3385, 'गोळे': 3386, 'गोळ्या': 3387, 'गोष्ट': 3388, 'गोष्टी': 3389, 'गोष्टींचं': 3390, 'गोष्टींचा': 3391, 'गोष्टींची': 3392, 'गोष्टींबद्दल': 3393, 'गोष्टींबाबत': 3394, 'गोष्टींवर': 3395, 'गोष्टीचा': 3396, 'गोष्टीची': 3397, 'गोष्टीला': 3398, 'गोष्टीवर': 3399, 'गोष्टीशी': 3400, 'गोष्टीसाठी': 3401, 'ग्रँट': 3402, 'ग्रँटने': 3403, 'ग्रंथालय': 3404, 'ग्रंथालयाची': 3405, 'ग्रंथालयात': 3406, 'ग्रह': 3407, 'ग्रहापासून': 3408, 'ग्रहाला': 3409, 'ग्रहावर': 3410, 'ग्रांडे': 3411, 'ग्राफिक': 3412, 'ग्राम': 3413, 'ग्रामीण': 3414, 'ग्रामोफोन': 3415, 'ग्राहक': 3416, 'ग्राहकांची': 3417, 'ग्राहकांनी': 3418, 'ग्राहकांमधला': 3419, 'ग्राहकांशी': 3420, 'ग्राहकाशी': 3421, 'ग्राहम': 3422, 'ग्रीक': 3423, 'ग्रीकपासून': 3424, 'ग्रीन': 3425, 'ग्रीनलँड': 3426, 'ग्रीनहाउसमध्ये': 3427, 'ग्रीस': 3428, 'ग्रीसपेक्षा': 3429, 'ग्रीसमधील': 3430, 'ग्रीसमध्ये': 3431, 'ग्रीसला': 3432, 'ग्रॅज्युएशन': 3433, 'ग्रॅज्यूएट': 3434, 'ग्रे': 3435, 'ग्रेट': 3436, 'ग्रेड': 3437, 'ग्रेनेड': 3438, 'ग्लास': 3439, 'ग्लासं': 3440, 'ग्लासमध्ये': 3441, 'ग्लासात': 3442, 'ग्वाकामोले': 3443, 'ग्विलोटीनचा': 3444, 'घंटा': 3445, 'घंटी': 3446, 'घटक': 3447, 'घटना': 3448, 'घटनाबाह्य': 3449, 'घटनेने': 3450, 'घटनेला': 3451, 'घटस्फोट': 3452, 'घटस्फोटाच्या': 3453, 'घटस्फोटित': 3454, 'घट्ट': 3455, 'घडणार': 3456, 'घडण्याची': 3457, 'घडण्यात': 3458, 'घडत': 3459, 'घडतं': 3460, 'घडतंय': 3461, 'घडतच': 3462, 'घडतात': 3463, 'घडताना': 3464, 'घडलं': 3465, 'घडला': 3466, 'घडली': 3467, 'घडलेली': 3468, 'घडल्या': 3469, 'घडव': 3470, 'घडवत': 3471, 'घडवा': 3472, 'घडवू': 3473, 'घडायचं': 3474, 'घडायला': 3475, 'घडी': 3476, 'घडू': 3477, 'घडूच': 3478, 'घडेल': 3479, 'घडेलच': 3480, 'घड्याळ': 3481, 'घड्याळं': 3482, 'घड्याळाकडे': 3483, 'घड्याळाची': 3484, 'घड्याळापेक्षा': 3485, 'घड्याळाप्रमाणे': 3486, 'घड्याळाला': 3487, 'घन': 3488, 'घर': 3489, 'घरं': 3490, 'घरघर': 3491, 'घरच': 3492, 'घरचा': 3493, 'घरटी': 3494, 'घरभर': 3495, 'घरमालक': 3496, 'घरांची': 3497, 'घरांना': 3498, 'घराचं': 3499, 'घराचा': 3500, 'घराची': 3501, 'घराच्या': 3502, 'घराजवळ': 3503, 'घराजवळच्या': 3504, 'घरात': 3505, 'घरातच': 3506, 'घरातला': 3507, 'घरातल्या': 3508, 'घरातून': 3509, 'घरापर्यंत': 3510, 'घरापर्यंतचं': 3511, 'घरापासून': 3512, 'घराबाहेर': 3513, 'घराबाहेरची': 3514, 'घराभोवती': 3515, 'घरामागे': 3516, 'घराला': 3517, 'घरावर': 3518, 'घरासमोर': 3519, 'घरासमोरची': 3520, 'घरासमोरच्या': 3521, 'घरी': 3522, 'घरीच': 3523, 'घरे': 3524, 'घसरला': 3525, 'घसरले': 3526, 'घसरलो': 3527, 'घसरून': 3528, 'घसा': 3529, 'घाई': 3530, 'घाईघाईत': 3531, 'घाईत': 3532, 'घाईतच': 3533, 'घाईने': 3534, 'घाणेरडा': 3535, 'घाणेरडी': 3536, 'घाणेरडे': 3537, 'घाणेरड्या': 3538, 'घातलं': 3539, 'घातलंत': 3540, 'घातलंस': 3541, 'घातला': 3542, 'घातलाय': 3543, 'घातली': 3544, 'घातलीत': 3545, 'घातलीये': 3546, 'घातलीस': 3547, 'घातले': 3548, 'घातलेलं': 3549, 'घातलेला': 3550, 'घातलेली': 3551, 'घातलेले': 3552, 'घातलेल्या': 3553, 'घातलेस': 3554, 'घातल्या': 3555, 'घाबरणार': 3556, 'घाबरत': 3557, 'घाबरता': 3558, 'घाबरतात': 3559, 'घाबरते': 3560, 'घाबरतेस': 3561, 'घाबरतो': 3562, 'घाबरतोस': 3563, 'घाबरलं': 3564, 'घाबरला': 3565, 'घाबरलाय': 3566, 'घाबरली': 3567, 'घाबरले': 3568, 'घाबरलेय': 3569, 'घाबरलेला': 3570, 'घाबरलेली': 3571, 'घाबरलेले': 3572, 'घाबरलेलो': 3573, 'घाबरलेल्या': 3574, 'घाबरलो': 3575, 'घाबरलोय': 3576, 'घाबरवत': 3577, 'घाबरवलं': 3578, 'घाबरवलंत': 3579, 'घाबरवलंस': 3580, 'घाबरवायचं': 3581, 'घाबरवायचा': 3582, 'घाबरवू': 3583, 'घाबरायचं': 3584, 'घाबरायचा': 3585, 'घाबरू': 3586, 'घाम': 3587, 'घामाघूम': 3588, 'घामाने': 3589, 'घाल': 3590, 'घालणार': 3591, 'घालणारे': 3592, 'घालणार्\\u200dया': 3593, 'घालत': 3594, 'घालता': 3595, 'घालतात': 3596, 'घालते': 3597, 'घालतेय': 3598, 'घालतेस': 3599, 'घालतो': 3600, 'घालतोय': 3601, 'घालतोस': 3602, 'घालव': 3603, 'घालवत': 3604, 'घालवता': 3605, 'घालवतील': 3606, 'घालवतेस': 3607, 'घालवतो': 3608, 'घालवतोयस': 3609, 'घालवतोस': 3610, 'घालवलं': 3611, 'घालवला': 3612, 'घालवली': 3613, 'घालवले': 3614, 'घालवा': 3615, 'घालवायचं': 3616, 'घालवायचा': 3617, 'घालवायला': 3618, 'घालवाल': 3619, 'घालवू': 3620, 'घालवूया': 3621, 'घालवेल': 3622, 'घालशील': 3623, 'घाला': 3624, 'घालायचं': 3625, 'घालायची': 3626, 'घालायला': 3627, 'घालाल': 3628, 'घाली': 3629, 'घालू': 3630, 'घालून': 3631, 'घालेन': 3632, 'घालेल': 3633, 'घास': 3634, 'घासतात': 3635, 'घासते': 3636, 'घासतेय': 3637, 'घासतो': 3638, 'घासतोय': 3639, 'घासले': 3640, 'घासा': 3641, 'घासायचे': 3642, 'घासायला': 3643, 'घासावे': 3644, 'घुबडांकडे': 3645, 'घुबडांचे': 3646, 'घुसला': 3647, 'घुसलो': 3648, 'घे': 3649, 'घेईन': 3650, 'घेईनच': 3651, 'घेईल': 3652, 'घेऊ': 3653, 'घेऊन': 3654, 'घेऊया': 3655, 'घेणं': 3656, 'घेणंदेणं': 3657, 'घेणार': 3658, 'घेणे': 3659, 'घेण्याअगोदर': 3660, 'घेण्याइतपत': 3661, 'घेण्याचा': 3662, 'घेण्याची': 3663, 'घेण्यात': 3664, 'घेण्यापूर्वी': 3665, 'घेण्यास': 3666, 'घेण्यासाठी': 3667, 'घेण्यासारखं': 3668, 'घेत': 3669, 'घेतलं': 3670, 'घेतलंत': 3671, 'घेतलंय': 3672, 'घेतलंस': 3673, 'घेतलयस': 3674, 'घेतला': 3675, 'घेतलात': 3676, 'घेतलास': 3677, 'घेतली': 3678, 'घेतलीत': 3679, 'घेतलीस': 3680, 'घेतले': 3681, 'घेतलेत': 3682, 'घेतलेलं': 3683, 'घेतलेला': 3684, 'घेतलेल्या': 3685, 'घेतलेस': 3686, 'घेतल्या': 3687, 'घेतल्यावर': 3688, 'घेतल्यास': 3689, 'घेता': 3690, 'घेतात': 3691, 'घेताना': 3692, 'घेताहेत': 3693, 'घेतिल': 3694, 'घेतील': 3695, 'घेते': 3696, 'घेतेय': 3697, 'घेतेस': 3698, 'घेतो': 3699, 'घेतोच': 3700, 'घेतोय': 3701, 'घेतोस': 3702, 'घेरलेलं': 3703, 'घेशील': 3704, 'घोटा': 3705, 'घोडदळ': 3706, 'घोडा': 3707, 'घोडे': 3708, 'घोड्यांची': 3709, 'घोड्याकडे': 3710, 'घोड्याचं': 3711, 'घोड्याचे': 3712, 'घोड्याने': 3713, 'घोड्याला': 3714, 'घोड्यावर': 3715, 'घोड्यासारखा': 3716, 'घोरत': 3717, 'घोरतो': 3718, 'घोरायला': 3719, 'घोषणा': 3720, 'घोषित': 3721, 'घ्या': 3722, 'घ्यायचं': 3723, 'घ्यायचंय': 3724, 'घ्यायचा': 3725, 'घ्यायची': 3726, 'घ्यायचे': 3727, 'घ्यायच्या': 3728, 'घ्यायला': 3729, 'घ्यायलाच': 3730, 'घ्याल': 3731, 'घ्यावसं': 3732, 'घ्यावी': 3733, 'घ्यावीशी': 3734, 'चंद्र': 3735, 'चंद्रग्रहण': 3736, 'चंद्राकडे': 3737, 'चंद्राचा': 3738, 'चंद्राची': 3739, 'चंद्रापासून': 3740, 'चंद्रापेक्षा': 3741, 'चंद्राला': 3742, 'चंद्रावर': 3743, 'चकाकते': 3744, 'चकाचक': 3745, 'चकित': 3746, 'चकीत': 3747, 'चक्क': 3748, 'चक्कर': 3749, 'चक्स': 3750, 'चटकन': 3751, 'चटणी': 3752, 'चडू': 3753, 'चडेल': 3754, 'चढ': 3755, 'चढणं': 3756, 'चढणार': 3757, 'चढत': 3758, 'चढतात': 3759, 'चढताना': 3760, 'चढला': 3761, 'चढली': 3762, 'चढले': 3763, 'चढलो': 3764, 'चढवता': 3765, 'चढवला': 3766, 'चढवू': 3767, 'चढा': 3768, 'चढायचा': 3769, 'चढायला': 3770, 'चढू': 3771, 'चमकत': 3772, 'चमकतोय': 3773, 'चमकदार': 3774, 'चमचा': 3775, 'चमचाभर': 3776, 'चमचे': 3777, 'चमच्यांची': 3778, 'चमच्याची': 3779, 'चमच्याने': 3780, 'चमत्कार': 3781, 'चमत्कारच': 3782, 'चमत्कारांवर': 3783, 'चमत्काराची': 3784, 'चरत': 3785, 'चर्च': 3786, 'चर्चचा': 3787, 'चर्चमध्ये': 3788, 'चर्चला': 3789, 'चर्चा': 3790, 'चर्चांचे': 3791, 'चर्चिल': 3792, 'चर्चिलने': 3793, 'चर्चेत': 3794, 'चल': 3795, 'चलनवाढ': 3796, 'चला': 3797, 'चव': 3798, 'चवसुद्धा': 3799, 'चवही': 3800, 'चविष्ट': 3801, 'चवीप्रमाणे': 3802, 'चवीला': 3803, 'चश्मा': 3804, 'चश्म्याशिवाय': 3805, 'चष्मा': 3806, 'चष्मे': 3807, 'चष्म्याचा': 3808, 'चष्म्यावर': 3809, 'चष्म्यासारखा': 3810, 'चहा': 3811, 'चहाकॉफी': 3812, 'चहाचा': 3813, 'चहाची': 3814, 'चहात': 3815, 'चहापेक्षा': 3816, 'चहाबरोबर': 3817, 'चहाला': 3818, 'चहासाठी': 3819, 'चहासारखी': 3820, 'च़ालत': 3821, 'चा': 3822, 'चांगलं': 3823, 'चांगलंच': 3824, 'चांगलंय': 3825, 'चांगला': 3826, 'चांगली': 3827, 'चांगलीच': 3828, 'चांगले': 3829, 'चांगल्या': 3830, 'चांगल्यातलं': 3831, 'चांगल्यापणे': 3832, 'चांदी': 3833, 'चांदीच्या': 3834, 'चांदीपेक्षा': 3835, 'चांसेलर्सविलची': 3836, 'चाकं': 3837, 'चाकांना': 3838, 'चाकांमध्ये': 3839, 'चाकू': 3840, 'चाकूने': 3841, 'चाटत': 3842, 'चाटला': 3843, 'चादर': 3844, 'चादरी': 3845, 'चादरीखाली': 3846, 'चादरीत': 3847, 'चान्स': 3848, 'चामडीचं': 3849, 'चायनीज': 3850, 'चार': 3851, 'चारचार': 3852, 'चारपर्यंत': 3853, 'चारपाच': 3854, 'चारशे': 3855, 'चार्ज': 3856, 'चार्जर': 3857, 'चार्ल्स': 3858, 'चाल': 3859, 'चालक': 3860, 'चालणार': 3861, 'चालणारा': 3862, 'चालणे': 3863, 'चालत': 3864, 'चालतं': 3865, 'चालतंय': 3866, 'चालतचालत': 3867, 'चालता': 3868, 'चालताचालता': 3869, 'चालतात': 3870, 'चालताना': 3871, 'चालतील': 3872, 'चालते': 3873, 'चालतेय': 3874, 'चालतो': 3875, 'चालतोय': 3876, 'चालत्या': 3877, 'चाललं': 3878, 'चाललंय': 3879, 'चालला': 3880, 'चाललाय': 3881, 'चाललायस': 3882, 'चालली': 3883, 'चाललीये': 3884, 'चालले': 3885, 'चाललेय': 3886, 'चाललेलं': 3887, 'चाललो': 3888, 'चाललोय': 3889, 'चालल्या': 3890, 'चालव': 3891, 'चालवणार': 3892, 'चालवणे': 3893, 'चालवण्याआधी': 3894, 'चालवण्याची': 3895, 'चालवत': 3896, 'चालवता': 3897, 'चालवतात': 3898, 'चालवताना': 3899, 'चालवते': 3900, 'चालवतो': 3901, 'चालवतोय': 3902, 'चालवला': 3903, 'चालवली': 3904, 'चालवल्या': 3905, 'चालवा': 3906, 'चालवायचा': 3907, 'चालवायची': 3908, 'चालवायला': 3909, 'चालवू': 3910, 'चालवून': 3911, 'चालवेन': 3912, 'चाला': 3913, 'चालायचं': 3914, 'चालायचा': 3915, 'चालायला': 3916, 'चालायलाच': 3917, 'चालू': 3918, 'चालूच': 3919, 'चालून': 3920, 'चालेन': 3921, 'चालेल': 3922, 'चाल्लं': 3923, 'चाल्लंय': 3924, 'चाळणार': 3925, 'चाळण्यासारखं': 3926, 'चाळी': 3927, 'चाळीस': 3928, 'चावणार': 3929, 'चावत': 3930, 'चावतात': 3931, 'चावतो': 3932, 'चावतोय': 3933, 'चावलं': 3934, 'चावला': 3935, 'चावली': 3936, 'चावी': 3937, 'चावीने': 3938, 'चावू': 3939, 'चाव्या': 3940, 'चिंता': 3941, 'चिंतित': 3942, 'चिंपांझी': 3943, 'चिकट': 3944, 'चिकटतात': 3945, 'चिकन': 3946, 'चिकनचे': 3947, 'चिखलात': 3948, 'चिडला': 3949, 'चिडली': 3950, 'चिडले': 3951, 'चिडल्या': 3952, 'चिडवणं': 3953, 'चिडवलं': 3954, 'चित्र': 3955, 'चित्रं': 3956, 'चित्रकथा': 3957, 'चित्रकार': 3958, 'चित्रपट': 3959, 'चित्रपटगृहात': 3960, 'चित्रपटगृहाबाहेर': 3961, 'चित्रपटांमध्ये': 3962, 'चित्रपटाचं': 3963, 'चित्रपटाची': 3964, 'चित्रपटातला': 3965, 'चित्रपटातली': 3966, 'चित्रपटाला': 3967, 'चित्ररमणीय': 3968, 'चित्राकडे': 3969, 'चित्राची': 3970, 'चित्रात': 3971, 'चित्राने': 3972, 'चित्राविषयी': 3973, 'चिनी': 3974, 'चिनीचाही': 3975, 'चिमुकलं': 3976, 'चिमुकला': 3977, 'चिमुकल्या': 3978, 'चिवावा': 3979, 'ची': 3980, 'चीज': 3981, 'चीजकेक': 3982, 'चीजपेक्षा': 3983, 'चीजबर्गर': 3984, 'चीझ': 3985, 'चीझकेक': 3986, 'चीझबर्गरसुद्धा': 3987, 'चीन': 3988, 'चीनचा': 3989, 'चीनची': 3990, 'चीनच्या': 3991, 'चीनपासून': 3992, 'चीनबद्दल': 3993, 'चीनमधली': 3994, 'चीनमध्ये': 3995, 'चीनमध्येसुद्धा': 3996, 'चीनला': 3997, 'चीनवर': 3998, 'चीनविषयी': 3999, 'चीनशी': 4000, 'चीनी': 4001, 'चीर': 4002, 'चुंबकत्व': 4003, 'चुकलं': 4004, 'चुकलंय': 4005, 'चुकला': 4006, 'चुकलात': 4007, 'चुकलास': 4008, 'चुकलीस': 4009, 'चुकले': 4010, 'चुकलेला': 4011, 'चुकलेले': 4012, 'चुकलेलो': 4013, 'चुकलो': 4014, 'चुका': 4015, 'चुकीचं': 4016, 'चुकीचा': 4017, 'चुकीची': 4018, 'चुकीचे': 4019, 'चुकीच्या': 4020, 'चुकीला': 4021, 'चुकून': 4022, 'चुप': 4023, 'चुपचाप': 4024, 'चुलत': 4025, 'चुलीवर': 4026, 'चूक': 4027, 'चूकच': 4028, 'चूकले': 4029, 'चूकलो': 4030, 'चूल': 4031, 'चॅनल': 4032, 'चॅम्पियन': 4033, 'चे': 4034, 'चेंगरून': 4035, 'चेंडू': 4036, 'चेंडूला': 4037, 'चेंडूसारखी': 4038, 'चेक': 4039, 'चेटकीण': 4040, 'चेतावणी': 4041, 'चेन': 4042, 'चेनला': 4043, 'चेरी': 4044, 'चेरीचं': 4045, 'चेलो': 4046, 'चेहरा': 4047, 'चेहरे': 4048, 'चेहर्\\u200dयाकडे': 4049, 'चेहर्\\u200dयाला': 4050, 'चेहर्\\u200dयावर': 4051, 'चेहर्\\u200dयावरचं': 4052, 'चेहऱ्यासारखा': 4053, 'चॉकलेट': 4054, 'चॉकलेटपेक्षा': 4055, 'चॉकलेटही': 4056, 'चॉपर': 4057, 'चॉपस्टिक्सने': 4058, 'चॉप्स': 4059, 'चॉप्स्टिक्सबरोबर': 4060, 'चॉवगॉश': 4061, 'चॉसर': 4062, 'चोकलेटं': 4063, 'चोची': 4064, 'चोचीत': 4065, 'चोर': 4066, 'चोरणं': 4067, 'चोरत': 4068, 'चोरतात': 4069, 'चोरताना': 4070, 'चोरलं': 4071, 'चोरलंत': 4072, 'चोरलंस': 4073, 'चोरला': 4074, 'चोरली': 4075, 'चोरले': 4076, 'चोरलेले': 4077, 'चोराचा': 4078, 'चोराच्या': 4079, 'चोराने': 4080, 'चोरायची': 4081, 'चोरायला': 4082, 'चोराला': 4083, 'चोरी': 4084, 'चोरीला': 4085, 'चोळतात': 4086, 'चोळले': 4087, 'चोळू': 4088, 'चोवीस': 4089, 'चौक': 4090, 'चौकशी': 4091, 'चौकात': 4092, 'चौकाला': 4093, 'चौकोन': 4094, 'चौकोनाला': 4095, 'चौतीस': 4096, 'चौथा': 4097, 'चौथ्या': 4098, 'चौदाव्या': 4099, 'चौपाटीला': 4100, 'चौरस': 4101, 'चौर्\\u200dयाण्णव': 4102, 'चौसष्ट': 4103, 'च्या': 4104, 'छत': 4105, 'छताकडे': 4106, 'छताखाली': 4107, 'छताला': 4108, 'छतावर': 4109, 'छतावरील': 4110, 'छतावरून': 4111, 'छत्री': 4112, 'छत्र्या': 4113, 'छळ': 4114, 'छाटा': 4115, 'छाटो': 4116, 'छातीत': 4117, 'छातीवर': 4118, 'छान': 4119, 'छानशा': 4120, 'छापण्यात': 4121, 'छापलं': 4122, 'छापली': 4123, 'छापायची': 4124, 'छापू': 4125, 'छायाचित्रकार': 4126, 'छायाचित्राची': 4127, 'छायाचित्रे': 4128, 'छेटे': 4129, 'छोटं': 4130, 'छोटा': 4131, 'छोटासा': 4132, 'छोटी': 4133, 'छोटीशी': 4134, 'छोटे': 4135, 'छोट्या': 4136, 'छोट्यांना': 4137, 'छोट्याछोट्या': 4138, 'छोट्याशा': 4139, 'छोट्याश्या': 4140, 'जंगलाचा': 4141, 'जंगलात': 4142, 'जंबो': 4143, 'जखम': 4144, 'जखमा': 4145, 'जखमांना': 4146, 'जखमी': 4147, 'जखमेतून': 4148, 'जग': 4149, 'जगणं': 4150, 'जगणे': 4151, 'जगण्याचा': 4152, 'जगण्याची': 4153, 'जगण्यात': 4154, 'जगण्यापेक्षा': 4155, 'जगण्यालायक': 4156, 'जगण्यासाठी': 4157, 'जगत': 4158, 'जगतात': 4159, 'जगतो': 4160, 'जगप्रसिद्ध': 4161, 'जगभर': 4162, 'जगभरात': 4163, 'जगभरातल्या': 4164, 'जगभरातून': 4165, 'जगाचं': 4166, 'जगाचा': 4167, 'जगाची': 4168, 'जगाच्या': 4169, 'जगात': 4170, 'जगातलं': 4171, 'जगातला': 4172, 'जगातली': 4173, 'जगातले': 4174, 'जगातल्या': 4175, 'जगातील': 4176, 'जगायचं': 4177, 'जगायला': 4178, 'जगाला': 4179, 'जगावर': 4180, 'जगू': 4181, 'जगूच': 4182, 'जगेल': 4183, 'जड': 4184, 'जण': 4185, 'जणं': 4186, 'जणांना': 4187, 'जणांनी': 4188, 'जणांसाठी': 4189, 'जनगणना': 4190, 'जनतेकडून': 4191, 'जनतेला': 4192, 'जननी': 4193, 'जनावर': 4194, 'जनावरं': 4195, 'जनावरांवर': 4196, 'जन्म': 4197, 'जन्मजात': 4198, 'जन्मठेपेची': 4199, 'जन्मतारीख': 4200, 'जन्मदिनांक': 4201, 'जन्मभाषकासारखं': 4202, 'जन्मला': 4203, 'जन्मली': 4204, 'जन्मले': 4205, 'जन्मलेला': 4206, 'जन्मलेली': 4207, 'जन्मलेले': 4208, 'जन्मलेलो': 4209, 'जन्मलो': 4210, 'जन्मस्थान': 4211, 'जन्माची': 4212, 'जन्मापासूनच': 4213, 'जन्माला': 4214, 'जपान': 4215, 'जपानचं': 4216, 'जपानचा': 4217, 'जपानची': 4218, 'जपानचे': 4219, 'जपानच्या': 4220, 'जपानने': 4221, 'जपानपेक्षा': 4222, 'जपानबद्दल': 4223, 'जपानबाबत': 4224, 'जपानमधली': 4225, 'जपानमधील': 4226, 'जपानमध्ये': 4227, 'जपानमध्येही': 4228, 'जपानमार्गे': 4229, 'जपानला': 4230, 'जपानी': 4231, 'जपानीअमेरिकन': 4232, 'जपानीइंग्रजी': 4233, 'जपानीचा': 4234, 'जपानीत': 4235, 'जपानीतून': 4236, 'जपानीपासून': 4237, 'जपानीपेक्षा': 4238, 'जपानीमध्ये': 4239, 'जपान्यांनी': 4240, 'जपून': 4241, 'जप्त': 4242, 'जबरदस्ती': 4243, 'जबरदस्तीने': 4244, 'जबाबदार': 4245, 'जबाबदारी': 4246, 'जमणार': 4247, 'जमत': 4248, 'जमतं': 4249, 'जमलं': 4250, 'जमला': 4251, 'जमली': 4252, 'जमले': 4253, 'जमलेली': 4254, 'जमलेल्या': 4255, 'जमवलं': 4256, 'जमवायला': 4257, 'जमवीन': 4258, 'जमवू': 4259, 'जमा': 4260, 'जमातींकडे': 4261, 'जमिनीची': 4262, 'जमिनीत': 4263, 'जमिनीवर': 4264, 'जमिनीवरून': 4265, 'जमीन': 4266, 'जमीनीवर': 4267, 'जमू': 4268, 'जमून': 4269, 'जमेल': 4270, 'जर': 4271, 'जरा': 4272, 'जराशी': 4273, 'जराश्या': 4274, 'जरासं': 4275, 'जरासा': 4276, 'जरासाच': 4277, 'जरासे': 4278, 'जर्मन': 4279, 'जर्मनचा': 4280, 'जर्मनपेक्षा': 4281, 'जर्मनमध्ये': 4282, 'जर्मनांची': 4283, 'जर्मनी': 4284, 'जर्मनीचा': 4285, 'जर्मनीची': 4286, 'जर्मनीच्या': 4287, 'जर्मनीत': 4288, 'जर्मनीतच': 4289, 'जर्मनीने': 4290, 'जर्मनीपासून': 4291, 'जर्मनीमधील': 4292, 'जर्मनीमध्ये': 4293, 'जर्मनीला': 4294, 'जर्मेनिक': 4295, 'जलतरणिकेत': 4296, 'जलदगतीने': 4297, 'जलयात्रेशी': 4298, 'जळण्याचा': 4299, 'जळत': 4300, 'जळतं': 4301, 'जळतंय': 4302, 'जळताहेत': 4303, 'जळते': 4304, 'जळतो': 4305, 'जळलं': 4306, 'जळला': 4307, 'जळली': 4308, 'जळून': 4309, 'जळेल': 4310, 'जवळ': 4311, 'जवळच': 4312, 'जवळचं': 4313, 'जवळचा': 4314, 'जवळची': 4315, 'जवळचे': 4316, 'जवळच्या': 4317, 'जवळजवळ': 4318, 'जवळपास': 4319, 'जवळपासच': 4320, 'जवळपासच्या': 4321, 'जवळून': 4322, 'जशी': 4323, 'जश्या': 4324, 'जसं': 4325, 'जसा': 4326, 'जसे': 4327, 'जहाज': 4328, 'जहाजं': 4329, 'जहाजंच': 4330, 'जहाजांमधून': 4331, 'जहाजाचा': 4332, 'जहाजात': 4333, 'जहाजाला': 4334, 'जहाजावर': 4335, 'ज़ायला': 4336, 'जा': 4337, 'जांभळं': 4338, 'जांभळा': 4339, 'जाईन': 4340, 'जाईल': 4341, 'जाईलच': 4342, 'जाईल।': 4343, 'जाउया': 4344, 'जाऊ': 4345, 'जाऊन': 4346, 'जाऊया': 4347, 'जाग': 4348, 'जागं': 4349, 'जागतिक': 4350, 'जागलो': 4351, 'जागवलं': 4352, 'जागा': 4353, 'जागी': 4354, 'जागून': 4355, 'जागृत': 4356, 'जागे': 4357, 'जागेचं': 4358, 'जागेची': 4359, 'जागेत': 4360, 'जागेपासून': 4361, 'जागेवर': 4362, 'जाग्या': 4363, 'जाडं': 4364, 'जाडा': 4365, 'जाडाच': 4366, 'जाडी': 4367, 'जाडे': 4368, 'जाड्या': 4369, 'जाणणे': 4370, 'जाणते': 4371, 'जाणवत': 4372, 'जाणवतेय': 4373, 'जाणवतोय': 4374, 'जाणवलं': 4375, 'जाणवला': 4376, 'जाणवायचा': 4377, 'जाणार': 4378, 'जाणारच': 4379, 'जाणारा': 4380, 'जाणारी': 4381, 'जाणारे': 4382, 'जाणार्\\u200dया': 4383, 'जाणीव': 4384, 'जाणीवच': 4385, 'जाणून': 4386, 'जाणे': 4387, 'जाण्याअगोदर': 4388, 'जाण्याआधी': 4389, 'जाण्याइतपत': 4390, 'जाण्याचं': 4391, 'जाण्याचा': 4392, 'जाण्याची': 4393, 'जाण्यापूर्वी': 4394, 'जाण्यापेक्षा': 4395, 'जाण्याशिवाय': 4396, 'जाण्यासारखं': 4397, 'जात': 4398, 'जातं': 4399, 'जातंय': 4400, 'जातय': 4401, 'जाता': 4402, 'जातात': 4403, 'जाताना': 4404, 'जाताय': 4405, 'जाताहेत': 4406, 'जातीकडे': 4407, 'जातील': 4408, 'जाते': 4409, 'जातेच': 4410, 'जातेय': 4411, 'जातेयस': 4412, 'जातेस': 4413, 'जातो': 4414, 'जातोच': 4415, 'जातोय': 4416, 'जातोयस': 4417, 'जातोस': 4418, 'जादू': 4419, 'जादूगार': 4420, 'जादूत': 4421, 'जादूवर': 4422, 'जानेवारी': 4423, 'जानेवारीपासून': 4424, 'जानेवारीला': 4425, 'जापा': 4426, 'जापान': 4427, 'जापानचे': 4428, 'जापानी': 4429, 'जामेनहोफ': 4430, 'जायंट्स': 4431, 'जायंट्सचे': 4432, 'जायचं': 4433, 'जायचंच': 4434, 'जायचंय': 4435, 'जायचंही': 4436, 'जायचा': 4437, 'जायचाच': 4438, 'जायची': 4439, 'जायचे': 4440, 'जायचो': 4441, 'जायच्या': 4442, 'जायन्ट्स': 4443, 'जायला': 4444, 'जायलाच': 4445, 'जारकर्म': 4446, 'जाल': 4447, 'जाळ': 4448, 'जाळता': 4449, 'जाळतात': 4450, 'जाळतील': 4451, 'जाळते': 4452, 'जाळलं': 4453, 'जाळला': 4454, 'जाळले': 4455, 'जाळून': 4456, 'जावं': 4457, 'जावसं': 4458, 'जाव्हास्क्रिप्ट': 4459, 'जाव्हास्क्रिप्टमध्ये': 4460, 'जाशील': 4461, 'जास्त': 4462, 'जास्तच': 4463, 'जास्तीतजास्त': 4464, 'जाहिरात': 4465, 'जाहीर': 4466, 'जाहीरपणे': 4467, 'जिंकणं': 4468, 'जिंकणार': 4469, 'जिंकणे': 4470, 'जिंकण्याची': 4471, 'जिंकण्यात': 4472, 'जिंकण्यासाठी': 4473, 'जिंकत': 4474, 'जिंकतं': 4475, 'जिंकतंय': 4476, 'जिंकतच': 4477, 'जिंकतात': 4478, 'जिंकताना': 4479, 'जिंकतील': 4480, 'जिंकते': 4481, 'जिंकतो': 4482, 'जिंकतोय': 4483, 'जिंकलं': 4484, 'जिंकला': 4485, 'जिंकलात': 4486, 'जिंकलास': 4487, 'जिंकली': 4488, 'जिंकलीस': 4489, 'जिंकले': 4490, 'जिंकलेय': 4491, 'जिंकलेली': 4492, 'जिंकलो': 4493, 'जिंकलोय': 4494, 'जिंकल्या': 4495, 'जिंकवून': 4496, 'जिंकशील': 4497, 'जिंकायचं': 4498, 'जिंकायचंच': 4499, 'जिंकायचंय': 4500, 'जिंकायचा': 4501, 'जिंकायची': 4502, 'जिंकायचे': 4503, 'जिंकायला': 4504, 'जिंकायलाच': 4505, 'जिंकाल': 4506, 'जिंकू': 4507, 'जिंकून': 4508, 'जिंकेल': 4509, 'जिंबाब्वे': 4510, 'जिचा': 4511, 'जिचे': 4512, 'जिज्ञासू': 4513, 'जितकं': 4514, 'जितका': 4515, 'जितकी': 4516, 'जितके': 4517, 'जितक्या': 4518, 'जिथे': 4519, 'जिथेजिथे': 4520, 'जिथेही': 4521, 'जिनी': 4522, 'जिने': 4523, 'जिप': 4524, 'जिब्राल्टर': 4525, 'जिममध्ये': 4526, 'जिमला': 4527, 'जिम्मेदार': 4528, 'जिराफ': 4529, 'जिला': 4530, 'जिल्ह्यांमध्ये': 4531, 'जिवंत': 4532, 'जिवाची': 4533, 'जी': 4534, 'जीआयएफ': 4535, 'जीआयशी': 4536, 'जीएमटीपर्यंत': 4537, 'जीनियस': 4538, 'जीन्स': 4539, 'जीभ': 4540, 'जीव': 4541, 'जीवन': 4542, 'जीवनकथा': 4543, 'जीवनच': 4544, 'जीवनाची': 4545, 'जीवनाबद्दल': 4546, 'जीवनासाठी': 4547, 'जीवशास्त्राचे': 4548, 'जीवाणू': 4549, 'जीवाणूंमुळे': 4550, 'जुगार': 4551, 'जुगारगृहांमध्ये': 4552, 'जुगाराची': 4553, 'जुगारी': 4554, 'जुनं': 4555, 'जुना': 4556, 'जुनी': 4557, 'जुने': 4558, 'जुन्या': 4559, 'जुपिटरकडे': 4560, 'जुलियन': 4561, 'जुलै': 4562, 'जुलैपर्यंत': 4563, 'जुलैला': 4564, 'जुळत': 4565, 'जुळा': 4566, 'जुळी': 4567, 'जुळे': 4568, 'जुळ्या': 4569, 'जून': 4570, 'जूनच्या': 4571, 'जूनमध्ये': 4572, 'जूम': 4573, 'जॅक': 4574, 'जॅकसन': 4575, 'जॅकेट': 4576, 'जॅकेटच्या': 4577, 'जॅक्सन': 4578, 'जॅक्सनचं': 4579, 'जॅक्सनचा': 4580, 'जॅक्सनची': 4581, 'जॅक्सनच्या': 4582, 'जॅक्सनने': 4583, 'जॅक्सनला': 4584, 'जॅक्सनांकडे': 4585, 'जॅक्सनांना': 4586, 'जॅज': 4587, 'जॅझ': 4588, 'जॅझचं': 4589, 'जॅम': 4590, 'जॅममध्ये': 4591, 'जे': 4592, 'जेंटलमेन': 4593, 'जेऊ': 4594, 'जेथे': 4595, 'जेनीव्हा': 4596, 'जेफर्सनने': 4597, 'जेम्स': 4598, 'जेलमध्ये': 4599, 'जेलला': 4600, 'जेली': 4601, 'जेव': 4602, 'जेवढं': 4603, 'जेवढा': 4604, 'जेवढ्या': 4605, 'जेवण': 4606, 'जेवणाअगोदर': 4607, 'जेवणाआधी': 4608, 'जेवणाचे': 4609, 'जेवणात': 4610, 'जेवणानंतर': 4611, 'जेवणाबरोबर': 4612, 'जेवणार': 4613, 'जेवणासाठी': 4614, 'जेवत': 4615, 'जेवतात': 4616, 'जेवताना': 4617, 'जेवते': 4618, 'जेवतेय': 4619, 'जेवतो': 4620, 'जेवतोय': 4621, 'जेवला': 4622, 'जेवलात': 4623, 'जेवलास': 4624, 'जेवलीस': 4625, 'जेवले': 4626, 'जेवलो': 4627, 'जेवल्या': 4628, 'जेवल्यानंतर': 4629, 'जेवल्याबरोबरच': 4630, 'जेवशील': 4631, 'जेवा': 4632, 'जेवायचं': 4633, 'जेवायची': 4634, 'जेवायचे': 4635, 'जेवायचो': 4636, 'जेवायला': 4637, 'जेवाल': 4638, 'जेवावंसं': 4639, 'जेवू': 4640, 'जेवून': 4641, 'जेवूया': 4642, 'जेवेल': 4643, 'जेव्हा': 4644, 'जेव्हाजेव्हा': 4645, 'जेव्हाही': 4646, 'जेशूच्या': 4647, 'जॉगिंग': 4648, 'जॉन': 4649, 'जॉनचं': 4650, 'जॉनचा': 4651, 'जॉनच्या': 4652, 'जॉनने': 4653, 'जॉनपेक्षा': 4654, 'जॉनबद्दल': 4655, 'जॉनबरोबर': 4656, 'जॉनबाबत': 4657, 'जॉनला': 4658, 'जॉनवर': 4659, 'जॉनशी': 4660, 'जॉनसारखा': 4661, 'जॉनी': 4662, 'जॉर्ज': 4663, 'जॉर्जला': 4664, 'जॉर्जेस': 4665, 'जो': 4666, 'जोक': 4667, 'जोकने': 4668, 'जोकर': 4669, 'जोकवर': 4670, 'जोखीम': 4671, 'जोडतो': 4672, 'जोडपं': 4673, 'जोडलं': 4674, 'जोडली': 4675, 'जोडे': 4676, 'जोतेयस': 4677, 'जोतोयस': 4678, 'जोरजोरात': 4679, 'जोरजोराने': 4680, 'जोरदार': 4681, 'जोरात': 4682, 'ज्ञान': 4683, 'ज्ञानाबरोबरच': 4684, 'ज्ञानासोबतच': 4685, 'ज्या': 4686, 'ज्यांची': 4687, 'ज्यांना': 4688, 'ज्यांनाही': 4689, 'ज्यांनी': 4690, 'ज्याचं': 4691, 'ज्याची': 4692, 'ज्याचे': 4693, 'ज्याच्या': 4694, 'ज्याच्याकडे': 4695, 'ज्यात': 4696, 'ज्यातून': 4697, 'ज्याने': 4698, 'ज्यामुळे': 4699, 'ज्याला': 4700, 'ज्यासाठी': 4701, 'ज्योतिषशास्त्रात': 4702, 'ज्वालामुखी': 4703, 'झकास': 4704, 'झगडायला': 4705, 'झटकन': 4706, 'झटपट': 4707, 'झ़ालं': 4708, 'झ़ाला': 4709, 'झाकण': 4710, 'झाकले': 4711, 'झाड': 4712, 'झाडं': 4713, 'झाडली': 4714, 'झाडांची': 4715, 'झाडांमध्ये': 4716, 'झाडांवर': 4717, 'झाडांवरची': 4718, 'झाडांवरून': 4719, 'झाडाखाली': 4720, 'झाडात': 4721, 'झाडापाठी': 4722, 'झाडापासून': 4723, 'झाडामागे': 4724, 'झाडाला': 4725, 'झाडावर': 4726, 'झाडावरच्या': 4727, 'झाडावरती': 4728, 'झाडावरून': 4729, 'झाडू': 4730, 'झालं': 4731, 'झालंच': 4732, 'झालंय': 4733, 'झालय': 4734, 'झाला': 4735, 'झालाच': 4736, 'झालात': 4737, 'झालाय': 4738, 'झालायत': 4739, 'झालायस': 4740, 'झालास': 4741, 'झाली': 4742, 'झालीच': 4743, 'झालीय': 4744, 'झालीये': 4745, 'झालीस': 4746, 'झाले': 4747, 'झालेत': 4748, 'झालेलं': 4749, 'झालेला': 4750, 'झालेली': 4751, 'झालेले': 4752, 'झालेल्या': 4753, 'झालो': 4754, 'झालोच': 4755, 'झाल्या': 4756, 'झाल्यानंतर': 4757, 'झाल्याबरोबरच': 4758, 'झाल्यावर': 4759, 'झिंक': 4760, 'झुगस्पित्झ': 4761, 'झुरळ': 4762, 'झुरळं': 4763, 'झुरळांच्या': 4764, 'झुलू': 4765, 'झेंडा': 4766, 'झेंड्याचे': 4767, 'झेंड्यात': 4768, 'झेंड्याला': 4769, 'झेंड्यावर': 4770, 'झेरॉक्स': 4771, 'झोप': 4772, 'झोपडी': 4773, 'झोपणार': 4774, 'झोपणारच': 4775, 'झोपण्याची': 4776, 'झोपण्यापूर्वी': 4777, 'झोपत': 4778, 'झोपता': 4779, 'झोपतात': 4780, 'झोपताना': 4781, 'झोपतील': 4782, 'झोपते': 4783, 'झोपतेय': 4784, 'झोपतो': 4785, 'झोपतोय': 4786, 'झोपलं': 4787, 'झोपलंय': 4788, 'झोपला': 4789, 'झोपलात': 4790, 'झोपलाय': 4791, 'झोपलास': 4792, 'झोपली': 4793, 'झोपलीस': 4794, 'झोपले': 4795, 'झोपलेलं': 4796, 'झोपलेला': 4797, 'झोपलेलात': 4798, 'झोपलेलास': 4799, 'झोपलेली': 4800, 'झोपलेलीस': 4801, 'झोपलेले': 4802, 'झोपलेलो': 4803, 'झोपलेल्या': 4804, 'झोपलो': 4805, 'झोपल्या': 4806, 'झोपव': 4807, 'झोपवण्यात': 4808, 'झोपवा': 4809, 'झोपशील': 4810, 'झोपा': 4811, 'झोपायचं': 4812, 'झोपायचंय': 4813, 'झोपायचा': 4814, 'झोपायची': 4815, 'झोपायचो': 4816, 'झोपायच्या': 4817, 'झोपायला': 4818, 'झोपावं': 4819, 'झोपू': 4820, 'झोपून': 4821, 'झोपूया': 4822, 'झोपेची': 4823, 'झोपेत': 4824, 'झोपेतच': 4825, 'झोपेन': 4826, 'झोपेवर': 4827, 'झोपेशी': 4828, 'टँक': 4829, 'टँगो': 4830, 'टक': 4831, 'टकलू': 4832, 'टक्कल': 4833, 'टक्के': 4834, 'टक्क्यांनी': 4835, 'टक्सीडो': 4836, 'टक्सीडोवर': 4837, 'टगालोग': 4838, 'टचडाउनने': 4839, 'टणटणीत': 4840, 'टर्किक': 4841, 'टर्की': 4842, 'टर्कीची': 4843, 'टाइप': 4844, 'टाइम': 4845, 'टाइमपास': 4846, 'टाइमर': 4847, 'टाइम्स': 4848, 'टाईप': 4849, 'टाईपरायटर': 4850, 'टाईम्स': 4851, 'टाक': 4852, 'टाकणार': 4853, 'टाकणार्\\u200dया': 4854, 'टाकण्याऐवजी': 4855, 'टाकण्याचा': 4856, 'टाकण्याची': 4857, 'टाकण्यात': 4858, 'टाकण्यासाठी': 4859, 'टाकत': 4860, 'टाकतील': 4861, 'टाकतेय': 4862, 'टाकतो': 4863, 'टाकतोय': 4864, 'टाकलं': 4865, 'टाकलंस': 4866, 'टाकला': 4867, 'टाकलात': 4868, 'टाकलास': 4869, 'टाकली': 4870, 'टाकले': 4871, 'टाकलेलं': 4872, 'टाकल्या': 4873, 'टाकशील': 4874, 'टाका': 4875, 'टाकायचं': 4876, 'टाकायचा': 4877, 'टाकायला': 4878, 'टाकी': 4879, 'टाकीत': 4880, 'टाकीतल्या': 4881, 'टाकू': 4882, 'टाकून': 4883, 'टाकूया': 4884, 'टाकेन': 4885, 'टाकेल': 4886, 'टाको': 4887, 'टाचणी': 4888, 'टाय': 4889, 'टायची': 4890, 'टायर': 4891, 'टायरमध्ये': 4892, 'टायर्सची': 4893, 'टायसन': 4894, 'टाळ': 4895, 'टाळणं': 4896, 'टाळत': 4897, 'टाळता': 4898, 'टाळतात': 4899, 'टाळते': 4900, 'टाळतेय': 4901, 'टाळतो': 4902, 'टाळतोय': 4903, 'टाळलं': 4904, 'टाळला': 4905, 'टाळली': 4906, 'टाळल्या': 4907, 'टाळा': 4908, 'टाळायचं': 4909, 'टाळायचा': 4910, 'टाळायची': 4911, 'टाळायच्या': 4912, 'टाळायला': 4913, 'टाळी': 4914, 'टाळू': 4915, 'टाळेन': 4916, 'टाळ्या': 4917, 'टिकटिकीचा': 4918, 'टिकतं': 4919, 'टिकला': 4920, 'टिकली': 4921, 'टिकीट': 4922, 'टिकून': 4923, 'टिप': 4924, 'टिप्पणी': 4925, 'टी': 4926, 'टीका': 4927, 'टीम': 4928, 'टीमचा': 4929, 'टीममध्ये': 4930, 'टीव्ही': 4931, 'टीव्हीचा': 4932, 'टीव्हीची': 4933, 'टीव्हीवर': 4934, 'टीव्हीवरील': 4935, 'टीव्हीशिवाय': 4936, 'टीशर्ट': 4937, 'टुथब्रश': 4938, 'टुना': 4939, 'टुलिप': 4940, 'टूथपेस्ट': 4941, 'टूरच्या': 4942, 'टॅक्सी': 4943, 'टॅक्सीचालकावर': 4944, 'टॅक्सीची': 4945, 'टॅक्सीचे': 4946, 'टॅक्सीत': 4947, 'टॅक्सीतून': 4948, 'टॅक्सीने': 4949, 'टॅक्सीमधून': 4950, 'टॅक्स्या': 4951, 'टॅटू': 4952, 'टेकडीच्या': 4953, 'टेकडीवर': 4954, 'टेकडीवरची': 4955, 'टेकडीवरून': 4956, 'टेकले': 4957, 'टेक्निशियन': 4958, 'टेक्सन्स': 4959, 'टेक्ससचा': 4960, 'टेक्ससच्या': 4961, 'टेक्ससमधील': 4962, 'टेक्ससला': 4963, 'टेक्स्ट': 4964, 'टेट्रिस': 4965, 'टेनसी': 4966, 'टेनसीची': 4967, 'टेनिस': 4968, 'टेनिसची': 4969, 'टेनिसपेक्षा': 4970, 'टेनीस': 4971, 'टेनीसचा': 4972, 'टेप': 4973, 'टेपची': 4974, 'टेबल': 4975, 'टेबलच्या': 4976, 'टेबलवर': 4977, 'टेबलाखाली': 4978, 'टेबलाच्या': 4979, 'टेबलापाशी': 4980, 'टेबलाभोवती': 4981, 'टेबलावर': 4982, 'टेबलावरचं': 4983, 'टेबलावरचा': 4984, 'टेबलावरची': 4985, 'टेबलावरच्या': 4986, 'टेबलावरती': 4987, 'टेबलावरील': 4988, 'टेबलावरून': 4989, 'टेम्स': 4990, 'टेय्लर': 4991, 'टेरीसा': 4992, 'टेरेसवर': 4993, 'टेरेसवरून': 4994, 'टेरेसाला': 4995, 'टेलने': 4996, 'टेलिग्राम': 4997, 'टेलिफोन': 4998, 'टेलिफोनचा': 4999, 'टेस्ट': 5000, 'टेस्टमध्ये': 5001, 'टॉचं': 5002, 'टॉन': 5003, 'टॉन्सिलायटिस': 5004, 'टॉम': 5005, 'टॉमइतका': 5006, 'टॉमइतकी': 5007, 'टॉमएवढा': 5008, 'टॉमएवढी': 5009, 'टॉमकडून': 5010, 'टॉमकडे': 5011, 'टॉमच': 5012, 'टॉमचं': 5013, 'टॉमचंही': 5014, 'टॉमचा': 5015, 'टॉमची': 5016, 'टॉमचे': 5017, 'टॉमच्या': 5018, 'टॉमडे': 5019, 'टॉमदेखील': 5020, 'टॉमना': 5021, 'टॉमनी': 5022, 'टॉमने': 5023, 'टॉमनेच': 5024, 'टॉमनेदेखील': 5025, 'टॉमनेसुद्धा': 5026, 'टॉमपासून': 5027, 'टॉमपेक्षा': 5028, 'टॉमबद्दल': 5029, 'टॉमबरोबर': 5030, 'टॉममुळे': 5031, 'टॉमला': 5032, 'टॉमलाच': 5033, 'टॉमलासुद्धा': 5034, 'टॉमलाही': 5035, 'टॉमवर': 5036, 'टॉमवरती': 5037, 'टॉमशिवाय': 5038, 'टॉमशिवायच्या': 5039, 'टॉमशी': 5040, 'टॉमस': 5041, 'टॉमसहित': 5042, 'टॉमसा': 5043, 'टॉमसाठी': 5044, 'टॉमसारखं': 5045, 'टॉमसारखा': 5046, 'टॉमसारखी': 5047, 'टॉमसारखे': 5048, 'टॉमसारख्या': 5049, 'टॉमसुद्धा': 5050, 'टॉमसोडून': 5051, 'टॉमसोबत': 5052, 'टॉमही': 5053, 'टॉमी': 5054, 'टॉमीच': 5055, 'टॉमीला': 5056, 'टॉमेने': 5057, 'टॉयलेट': 5058, 'टॉयलेटमध्ये': 5059, 'टॉरोंटोला': 5060, 'टॉर्च': 5061, 'टॉला': 5062, 'टॉवर': 5063, 'टॉवेल': 5064, 'टॉवेलची': 5065, 'टॉवेलने': 5066, 'टोकाकडे': 5067, 'टोकाला': 5068, 'टोकावर': 5069, 'टोकियो': 5070, 'टोकियोइतकं': 5071, 'टोकियोत': 5072, 'टोकियोला': 5073, 'टोक्यो': 5074, 'टोक्योची': 5075, 'टोक्योत': 5076, 'टोक्योपासून': 5077, 'टोक्योपेक्षा': 5078, 'टोक्योमध्ये': 5079, 'टोचली': 5080, 'टोचून': 5081, 'टोपली': 5082, 'टोपलीत': 5083, 'टोपलीतली': 5084, 'टोपी': 5085, 'टोपीची': 5086, 'टोपीशिवाय': 5087, 'टोप्या': 5088, 'टोफू': 5089, 'टोमॅटो': 5090, 'टोमॅटोची': 5091, 'टोमोग्राफी': 5092, 'टोरी': 5093, 'टोरीज': 5094, 'टोर्टेल्लिनी': 5095, 'टोळीची': 5096, 'टोळ्यांकडे': 5097, 'टोस्ट': 5098, 'टोस्टर': 5099, 'टोस्टरमध्ये': 5100, 'टोस्टवर': 5101, 'ट्यून': 5102, 'ट्यूब': 5103, 'ट्रंपेट': 5104, 'ट्रक': 5105, 'ट्रकमध्ये': 5106, 'ट्रकला': 5107, 'ट्रकांमुळे': 5108, 'ट्रकात': 5109, 'ट्रम्पेट': 5110, 'ट्राँबोन': 5111, 'ट्राउट': 5112, 'ट्रायअॅथलॉन': 5113, 'ट्रायसिकल': 5114, 'ट्रिप': 5115, 'ट्रुमन': 5116, 'ट्रॅकिंग': 5117, 'ट्रॅक्टर': 5118, 'ट्रॅफिक': 5119, 'ट्रॅफिकमध्ये': 5120, 'ट्रॅव्हल': 5121, 'ट्रे': 5122, 'ट्रेंटन': 5123, 'ट्रेड': 5124, 'ट्रेन': 5125, 'ट्रेनने': 5126, 'ट्रेनमध्ये': 5127, 'ट्रेनला': 5128, 'ट्रेनवर': 5129, 'ट्रेलर': 5130, 'ट्रॉम्बोन': 5131, 'ट्वाय्न': 5132, 'ट्विटर': 5133, 'ट्विटरवर': 5134, 'ठरतं': 5135, 'ठरलं': 5136, 'ठरला': 5137, 'ठरली': 5138, 'ठरले': 5139, 'ठरव': 5140, 'ठरवण्यात': 5141, 'ठरवता': 5142, 'ठरवतील': 5143, 'ठरवलं': 5144, 'ठरवलंत': 5145, 'ठरवलंय': 5146, 'ठरवलंस': 5147, 'ठरवला': 5148, 'ठरवलेलं': 5149, 'ठरवा': 5150, 'ठरवायचं': 5151, 'ठरवायची': 5152, 'ठरवायला': 5153, 'ठरवावं': 5154, 'ठरवेन': 5155, 'ठरवेल': 5156, 'ठराल': 5157, 'ठरेल': 5158, 'ठसा': 5159, 'ठसे': 5160, 'ठाऊक': 5161, 'ठाणे': 5162, 'ठाण्यात': 5163, 'ठार': 5164, 'ठिकाण': 5165, 'ठिकाणी': 5166, 'ठीक': 5167, 'ठीकठाक': 5168, 'ठीकपणे': 5169, 'ठेव': 5170, 'ठेवणं': 5171, 'ठेवणार': 5172, 'ठेवण्यात': 5173, 'ठेवत': 5174, 'ठेवतं': 5175, 'ठेवतंय': 5176, 'ठेवता': 5177, 'ठेवतात': 5178, 'ठेवताना': 5179, 'ठेवतील': 5180, 'ठेवते': 5181, 'ठेवतेस': 5182, 'ठेवतो': 5183, 'ठेवतोय': 5184, 'ठेवतोस': 5185, 'ठेवलं': 5186, 'ठेवलंत': 5187, 'ठेवलंय': 5188, 'ठेवलंस': 5189, 'ठेवला': 5190, 'ठेवलात': 5191, 'ठेवलास': 5192, 'ठेवली': 5193, 'ठेवलीत': 5194, 'ठेवलीस': 5195, 'ठेवले': 5196, 'ठेवल्या': 5197, 'ठेवा': 5198, 'ठेवायचं': 5199, 'ठेवायचा': 5200, 'ठेवायला': 5201, 'ठेवावे': 5202, 'ठेवू': 5203, 'ठेवून': 5204, 'ठेवूनच': 5205, 'ठेवूया': 5206, 'ठेवेन': 5207, 'ठेवेल': 5208, 'ठोकला': 5209, 'ठोकली': 5210, 'ठोकले': 5211, 'ठोकलो': 5212, 'ठोकू': 5213, 'ठोकूया': 5214, 'ठोठावण्याचा': 5215, 'डंपलिंग्ज': 5216, 'डंबो': 5217, 'डक': 5218, 'डच': 5219, 'डचची': 5220, 'डझन': 5221, 'डझनच्या': 5222, 'डझनभर': 5223, 'डझनाच्या': 5224, 'डबलक्लिक': 5225, 'डब्लिन': 5226, 'डाउनलोड': 5227, 'डाऊन': 5228, 'डाकघर': 5229, 'डाग': 5230, 'डान्स': 5231, 'डान्सर': 5232, 'डायट': 5233, 'डायटवर': 5234, 'डायनर': 5235, 'डायनामाइटचा': 5236, 'डायनोसॉर': 5237, 'डायपर': 5238, 'डायरी': 5239, 'डायरीच्या': 5240, 'डायरीत': 5241, 'डायलअप': 5242, 'डार्क': 5243, 'डार्ट': 5244, 'डार्ट्स': 5245, 'डार्विनने': 5246, 'डाळिंबाचा': 5247, 'डावा': 5248, 'डावीकडचा': 5249, 'डावीकडची': 5250, 'डावीकडे': 5251, 'डाव्या': 5252, 'डास': 5253, 'डासांना': 5254, 'डिकीत': 5255, 'डिकॅफिनेटेड': 5256, 'डिक्सीलँड': 5257, 'डिग्री': 5258, 'डिजाइनचा': 5259, 'डिजाईनचा': 5260, 'डिजिटालिस': 5261, 'डिज्नीलँडला': 5262, 'डिज्नीलॅंडची': 5263, 'डिझनीलँड': 5264, 'डिझाइन': 5265, 'डिझाइनर': 5266, 'डिझाईन': 5267, 'डिझाईनचा': 5268, 'डिझ्नीलँडला': 5269, 'डिटेक्टिव्ह': 5270, 'डिप्लोमा': 5271, 'डिरेक्टरी': 5272, 'डिलिव्हर': 5273, 'डिलीट': 5274, 'डिश': 5275, 'डिशमध्ये': 5276, 'डिशवॉशर': 5277, 'डिसेंबर': 5278, 'डिसेंबरमध्ये': 5279, 'डिस्क': 5280, 'डिस्काउंट': 5281, 'डिस्को': 5282, 'डिस्टर्ब': 5283, 'डिस्ट्रिब्यूशन': 5284, 'डीजे': 5285, 'डीफ्रॅगमेंट': 5286, 'डुकरं': 5287, 'डुकराचे': 5288, 'डुकरासारखा': 5289, 'डुकाराचं': 5290, 'डुकाराचे': 5291, 'डुक्कर': 5292, 'डुपकी': 5293, 'डूकेनची': 5294, 'डॅनझिग': 5295, 'डॅनिएल': 5296, 'डॅनिएल्स': 5297, 'डॅन्यूबमध्ये': 5298, 'डॅफोडिल': 5299, 'डॅल्टनने': 5300, 'डे': 5301, 'डेंटिस्ट': 5302, 'डेंटिस्टकडे': 5303, 'डेट': 5304, 'डेटा': 5305, 'डेटिंग': 5306, 'डेनमार्कच्या': 5307, 'डेनांनी': 5308, 'डेन्मार्क': 5309, 'डेन्मार्कची': 5310, 'डेपचा': 5311, 'डेबिट': 5312, 'डेमोक्रॅट': 5313, 'डेमोक्रॅटिक': 5314, 'डेला': 5315, 'डेव्हनशरमध्ये': 5316, 'डेव्हलपर': 5317, 'डेस्क': 5318, 'डेस्कच्या': 5319, 'डेस्कटॉपपेक्षा': 5320, 'डेस्कमध्ये': 5321, 'डेस्कवर': 5322, 'डेस्कवरील': 5323, 'डेस्खमध्ये': 5324, 'डॉ': 5325, 'डॉक्टर': 5326, 'डॉक्टरकडे': 5327, 'डॉक्टरच': 5328, 'डॉक्टरने': 5329, 'डॉक्टरला': 5330, 'डॉक्टरशी': 5331, 'डॉक्टरांना': 5332, 'डॉक्टरांनी': 5333, 'डॉक्टराकडे': 5334, 'डॉक्युमेंट': 5335, 'डॉक्युमेन्टरी': 5336, 'डॉट': 5337, 'डॉमिनोज': 5338, 'डॉलर': 5339, 'डॉलरचा': 5340, 'डॉलरची': 5341, 'डॉलरचे': 5342, 'डॉलरपेक्षा': 5343, 'डॉलरमध्ये': 5344, 'डॉलरला': 5345, 'डॉलर्सची': 5346, 'डॉल्फिन': 5347, 'डॉल्फिनला': 5348, 'डॉसर': 5349, 'डोंगर': 5350, 'डोंगरा': 5351, 'डोंगरांनी': 5352, 'डोंगरांपेक्षा': 5353, 'डोंगरांमध्ये': 5354, 'डोंगराची': 5355, 'डोंगराच्या': 5356, 'डोंगराला': 5357, 'डोंगराळ': 5358, 'डोंगरावर': 5359, 'डोंगरी': 5360, 'डोंग्रांमध्ये': 5361, 'डोंबकावळा': 5362, 'डोकं': 5363, 'डोकंबिकं': 5364, 'डोकावून': 5365, 'डोकेदुखीसाठी': 5366, 'डोकोदुखी': 5367, 'डोक्याच्या': 5368, 'डोक्याला': 5369, 'डोक्यावर': 5370, 'डोक्यावरच्या': 5371, 'डोनट': 5372, 'डोनेट्स्क': 5373, 'डोन्ट': 5374, 'डोळा': 5375, 'डोळे': 5376, 'डोळ्यांत': 5377, 'डोळ्यांतील': 5378, 'डोळ्यांतून': 5379, 'डोळ्यांनी': 5380, 'डोळ्यांमध्ये': 5381, 'डोळ्यांवर': 5382, 'डोळ्यांसाठी': 5383, 'डोळ्याच्या': 5384, 'डोळ्यात': 5385, 'डोळ्यातून': 5386, 'डोळ्याला': 5387, 'ड्युवी': 5388, 'ड्यूटी': 5389, 'ड्यूटीवर': 5390, 'ड्यूवी': 5391, 'ड्रमर': 5392, 'ड्रम्सही': 5393, 'ड्राइव्ह': 5394, 'ड्राइव्हवर': 5395, 'ड्राईव्हिंग': 5396, 'ड्रायव्हर': 5397, 'ड्रायव्हरची': 5398, 'ड्रायव्हरशी': 5399, 'ड्रिंक': 5400, 'ड्रॅगन': 5401, 'ड्रॅगनचा': 5402, 'ड्रॅगनफ्रूट': 5403, 'ड्रॅगनला': 5404, 'ड्रॅगन्स': 5405, 'ड्रेस': 5406, 'ड्रेसचा': 5407, 'ड्रेसपेक्षा': 5408, 'ड्रेसमध्ये': 5409, 'ड्रेसिंग': 5410, 'ड्रॉवर': 5411, 'ड्रॉवरमध्ये': 5412, 'ड्रोन': 5413, 'ड्वाइट': 5414, 'ढकलत': 5415, 'ढकललं': 5416, 'ढकलायचा': 5417, 'ढकलून': 5418, 'ढग': 5419, 'ढगांमागे': 5420, 'ढगाला': 5421, 'ढवळलं': 5422, 'ढवळला': 5423, 'ढवळली': 5424, 'ढेकर': 5425, 'ढोंग': 5426, 'तंत्रज्ञ': 5427, 'तंत्रज्ञान': 5428, 'तंत्रज्ञानाच्या': 5429, 'तंत्रज्ञानात': 5430, 'तंत्रज्ञानाने': 5431, 'तंदुरी': 5432, 'तंबू': 5433, 'तक्रार': 5434, 'तक्रारच': 5435, 'तज्ञ': 5436, 'तत्त्वज्ञान': 5437, 'तपकिरी': 5438, 'तपास': 5439, 'तपासणी': 5440, 'तपासत': 5441, 'तपासलं': 5442, 'तपासले': 5443, 'तपासा': 5444, 'तपासायला': 5445, 'तपासून': 5446, 'तब्येत': 5447, 'तब्येतीची': 5448, 'तब्येतीबद्दल': 5449, 'तमची': 5450, 'तयार': 5451, 'तयारी': 5452, 'तर': 5453, 'तरंगत': 5454, 'तरंगतं': 5455, 'तरंगेल': 5456, 'तरच': 5457, 'तरणतलाव': 5458, 'तरणतलावात': 5459, 'तरी': 5460, 'तरीच': 5461, 'तरीसुद्धा': 5462, 'तरीही': 5463, 'तरुण': 5464, 'तरुणपणी': 5465, 'तरुणपणेतच': 5466, 'तरुणांकडे': 5467, 'तरुणांची': 5468, 'तरुणांना': 5469, 'तरुणांनी': 5470, 'तरुणांसाठीची': 5471, 'तरूण': 5472, 'तरून': 5473, 'तर्कशास्त्र': 5474, 'तर्कांनी': 5475, 'तर्फे': 5476, 'तलवार': 5477, 'तलवारीचा': 5478, 'तलवारीने': 5479, 'तलवारीनेच': 5480, 'तलवारीवरचं': 5481, 'तलाव': 5482, 'तलावाकडे': 5483, 'तलावाच्या': 5484, 'तलावाजवळ': 5485, 'तलावात': 5486, 'तलावातलं': 5487, 'तलावापाशी': 5488, 'तलावापेक्षा': 5489, 'तलावाभोवती': 5490, 'तलावावर': 5491, 'तलाशी': 5492, 'तळघरात': 5493, 'तळमजल्यावर': 5494, 'तळले': 5495, 'तळलेलं': 5496, 'तळलेली': 5497, 'तळलेले': 5498, 'तळहात': 5499, 'तळून': 5500, 'तवा': 5501, 'तशी': 5502, 'तशीच': 5503, 'तश्या': 5504, 'तश्याच': 5505, 'तसं': 5506, 'तसंच': 5507, 'तसंच्या': 5508, 'तसंही': 5509, 'तसलं': 5510, 'तसलंच': 5511, 'तसला': 5512, 'तसली': 5513, 'तसले': 5514, 'तसल्या': 5515, 'तसा': 5516, 'तसाच': 5517, 'तसाचे': 5518, 'तसाही': 5519, 'तसे': 5520, 'तसेच': 5521, 'तहान': 5522, 'तहोनलेली': 5523, 'तहोनलेलो': 5524, 'तांदळाचा': 5525, 'तांदळापासून': 5526, 'तांदुळाचा': 5527, 'तांदूळ': 5528, 'तांबवू': 5529, 'तांबे': 5530, 'ताई': 5531, 'ताईकडे': 5532, 'ताईचं': 5533, 'ताईचा': 5534, 'ताईची': 5535, 'ताईने': 5536, 'ताईबरोबर': 5537, 'ताईला': 5538, 'ताईशी': 5539, 'ताईसोबत': 5540, 'ताकद': 5541, 'ताकदवान': 5542, 'ताज': 5543, 'ताजा': 5544, 'ताजी': 5545, 'ताजे': 5546, 'ताज्या': 5547, 'ताट': 5548, 'ताटाकडे': 5549, 'ताटात': 5550, 'ताटातली': 5551, 'ताटावरचं': 5552, 'तातडीने': 5553, 'तातामी': 5554, 'तातामीवर': 5555, 'तातोएबाचा': 5556, 'तात्पुरतं': 5557, 'ताप': 5558, 'तापला': 5559, 'ताबडतोब': 5560, 'ताबा': 5561, 'ताब्यात': 5562, 'तार': 5563, 'तारखेला': 5564, 'तारा': 5565, 'तारामंडळी': 5566, 'तारीख': 5567, 'तारुण्याचा': 5568, 'तारुण्यातच': 5569, 'तारे': 5570, 'तास': 5571, 'तासंतास': 5572, 'तासभर': 5573, 'तासांच्या': 5574, 'तासांत': 5575, 'तासांनंतर': 5576, 'तासांपासून': 5577, 'तासांपूर्वी': 5578, 'तासांपूर्वीच': 5579, 'तासांपेक्षा': 5580, 'तासांमध्ये': 5581, 'तासांसाठी': 5582, 'तासाचे': 5583, 'तासाच्या': 5584, 'तासात': 5585, 'तासानंतर': 5586, 'तासापूर्वी': 5587, 'तासापूर्वीच': 5588, 'तासापेक्षा': 5589, 'तासाभरात': 5590, 'तासासाठी': 5591, 'तिएन': 5592, 'तिकडच्या': 5593, 'तिकडे': 5594, 'तिकिटं': 5595, 'तिकिटांचे': 5596, 'तिकिटाचे': 5597, 'तिकीट': 5598, 'तिकीटं': 5599, 'तिकीटाची': 5600, 'तिकीटाचे': 5601, 'तिखट': 5602, 'तिघांना': 5603, 'तिघांनीही': 5604, 'तिघेही': 5605, 'तिचं': 5606, 'तिचंही': 5607, 'तिचा': 5608, 'तिची': 5609, 'तिचे': 5610, 'तिच्या': 5611, 'तिच्याकडून': 5612, 'तिच्याकडे': 5613, 'तिच्यापासून': 5614, 'तिच्यापेक्षा': 5615, 'तिच्याबद्दल': 5616, 'तिच्याबरोबर': 5617, 'तिच्यावर': 5618, 'तिच्याशी': 5619, 'तिच्यासाठी': 5620, 'तिच्यासारखं': 5621, 'तिच्यासोबत': 5622, 'तितकं': 5623, 'तितकंच': 5624, 'तितका': 5625, 'तितकी': 5626, 'तितकीच': 5627, 'तितके': 5628, 'तितकेच': 5629, 'तितक्या': 5630, 'तितक्याच': 5631, 'तिथपर्यंत': 5632, 'तिथल्या': 5633, 'तिथून': 5634, 'तिथे': 5635, 'तिथेच': 5636, 'तिथेतिथे': 5637, 'तिनं': 5638, 'तिने': 5639, 'तिनेच': 5640, 'तिनेही': 5641, 'तिन्ही': 5642, 'तिप्पटपेक्षा': 5643, 'तिरंदाजाने': 5644, 'तिरस्कार': 5645, 'तिला': 5646, 'तिसरं': 5647, 'तिसरा': 5648, 'तिसरीपासून': 5649, 'तिसरे': 5650, 'तिसर्\\u200dया': 5651, 'तिसर्\\u200dयांदा': 5652, 'ती': 5653, 'तीच': 5654, 'तीन': 5655, 'तीनच': 5656, 'तीनचा': 5657, 'तीनचार': 5658, 'तीनतीन': 5659, 'तीनदा': 5660, 'तीनपट': 5661, 'तीनपर्यंत': 5662, 'तीनशे': 5663, 'तीनसे': 5664, 'तीस': 5665, 'तीसपर्यंत': 5666, 'तीसपेक्षा': 5667, 'तीसुद्धा': 5668, 'तीही': 5669, 'तुकडा': 5670, 'तुकडे': 5671, 'तुकड्यावर': 5672, 'तुझं': 5673, 'तुझंच': 5674, 'तुझंय': 5675, 'तुझा': 5676, 'तुझाच': 5677, 'तुझावर': 5678, 'तुझी': 5679, 'तुझीच': 5680, 'तुझे': 5681, 'तुझ्यएवढा': 5682, 'तुझ्यवर': 5683, 'तुझ्या': 5684, 'तुझ्याइतकं': 5685, 'तुझ्याइतका': 5686, 'तुझ्याइतकी': 5687, 'तुझ्याइतक्या': 5688, 'तुझ्याएवढ्याच': 5689, 'तुझ्याकडून': 5690, 'तुझ्याकडे': 5691, 'तुझ्याकूडून': 5692, 'तुझ्याच': 5693, 'तुझ्याजवळ': 5694, 'तुझ्यात': 5695, 'तुझ्यापासून': 5696, 'तुझ्यापेक्षा': 5697, 'तुझ्यापेक्षाही': 5698, 'तुझ्याबद्दल': 5699, 'तुझ्याबरोबर': 5700, 'तुझ्याबरोबरच': 5701, 'तुझ्याभोवती': 5702, 'तुझ्यामागे': 5703, 'तुझ्यामुळे': 5704, 'तुझ्यामुळेच': 5705, 'तुझ्यावर': 5706, 'तुझ्याशिवाय': 5707, 'तुझ्याशी': 5708, 'तुझ्यासठी': 5709, 'तुझ्यासमोर': 5710, 'तुझ्यासाठी': 5711, 'तुझ्यासारखं': 5712, 'तुझ्यासारखा': 5713, 'तुझ्यासारखाच': 5714, 'तुझ्यासारखी': 5715, 'तुझ्यासारखे': 5716, 'तुझ्यासारख्या': 5717, 'तुझ्यासोबत': 5718, 'तुटण्यापेक्षा': 5719, 'तुटलं': 5720, 'तुटला': 5721, 'तुटली': 5722, 'तुटलेलं': 5723, 'तुटलेला': 5724, 'तुटलेली': 5725, 'तुटलेल्या': 5726, 'तुटल्यावर': 5727, 'तुटून': 5728, 'तुटेल': 5729, 'तुफान': 5730, 'तुमचं': 5731, 'तुमचंच': 5732, 'तुमचा': 5733, 'तुमचाच': 5734, 'तुमची': 5735, 'तुमचीच': 5736, 'तुमचे': 5737, 'तुमच्या': 5738, 'तुमच्याइतकं': 5739, 'तुमच्याइतका': 5740, 'तुमच्याइतकाच': 5741, 'तुमच्याइतकी': 5742, 'तुमच्याइतक्या': 5743, 'तुमच्याकडून': 5744, 'तुमच्याकडे': 5745, 'तुमच्याच': 5746, 'तुमच्याजवळ': 5747, 'तुमच्यात': 5748, 'तुमच्यापासून': 5749, 'तुमच्यापेक्षा': 5750, 'तुमच्यापेक्षाही': 5751, 'तुमच्याबद्दल': 5752, 'तुमच्याबरोबर': 5753, 'तुमच्याबरोबरच': 5754, 'तुमच्यामुळे': 5755, 'तुमच्यावर': 5756, 'तुमच्याशिवाय': 5757, 'तुमच्याशी': 5758, 'तुमच्यासमोर': 5759, 'तुमच्यासाठी': 5760, 'तुमच्यासारखं': 5761, 'तुमच्यासारखा': 5762, 'तुमच्यासारखाच': 5763, 'तुमच्यासारखी': 5764, 'तुमच्यासारख्या': 5765, 'तुमच्यासोबत': 5766, 'तुमला': 5767, 'तुम्हा': 5768, 'तुम्हाला': 5769, 'तुम्हालादेखील': 5770, 'तुम्हालासुद्धा': 5771, 'तुम्ही': 5772, 'तुम्हीच': 5773, 'तुम्हीसुद्धा': 5774, 'तुम्हीही': 5775, 'तुरुंग': 5776, 'तुरुंगवासाची': 5777, 'तुरुंगात': 5778, 'तुरुंगातून': 5779, 'तुरूंगाच्या': 5780, 'तुर्कस्तान': 5781, 'तुर्कस्तानची': 5782, 'तुर्कस्तानमध्ये': 5783, 'तुर्कांनी': 5784, 'तुलना': 5785, 'तुलनेत': 5786, 'तुला': 5787, 'तुलादेखील': 5788, 'तुलासुद्धा': 5789, 'तु्': 5790, 'तु्म्ही': 5791, 'तू': 5792, 'तूच': 5793, 'तूदेखील': 5794, 'तूपण': 5795, 'तूम्ही': 5796, 'तूसुद्धा': 5797, 'तूही': 5798, 'ते': 5799, 'तेच': 5800, 'तेम्पुरा': 5801, 'तेरा': 5802, 'तेराव्या': 5803, 'तेल': 5804, 'तेलवाहू': 5805, 'तेलाचं': 5806, 'तेलाचा': 5807, 'तेलाची': 5808, 'तेलात': 5809, 'तेलापेक्षा': 5810, 'तेलासाठी': 5811, 'तेवढं': 5812, 'तेवढंच': 5813, 'तेवढच': 5814, 'तेवढा': 5815, 'तेवढाच': 5816, 'तेवढी': 5817, 'तेवढ्या': 5818, 'तेवढ्याचीच': 5819, 'तेव्हा': 5820, 'तेव्हाच': 5821, 'तेव्हातेव्हा': 5822, 'तेव्हापासून': 5823, 'तेही': 5824, 'तो': 5825, 'तोंड': 5826, 'तोंडात': 5827, 'तोंडातून': 5828, 'तोउदाइजि': 5829, 'तोक्यो': 5830, 'तोच': 5831, 'तोडण्यासाठीच': 5832, 'तोडता': 5833, 'तोडलं': 5834, 'तोडलंत': 5835, 'तोडलंस': 5836, 'तोडला': 5837, 'तोडली': 5838, 'तोडले': 5839, 'तोडल्या': 5840, 'तोडल्याशिवाय': 5841, 'तोडायलाच': 5842, 'तोडू': 5843, 'तोडून': 5844, 'तोत्तोरीकडे': 5845, 'तोत्तोरीला': 5846, 'तोपर्यंत': 5847, 'तोफखाना': 5848, 'तोवर': 5849, 'तोवादा': 5850, 'त्या': 5851, 'त्यांचं': 5852, 'त्यांचा': 5853, 'त्यांची': 5854, 'त्यांचे': 5855, 'त्यांच्या': 5856, 'त्यांच्याकडून': 5857, 'त्यांच्याकडे': 5858, 'त्यांच्यात': 5859, 'त्यांच्यातलं': 5860, 'त्यांच्यातला': 5861, 'त्यांच्यातली': 5862, 'त्यांच्यातले': 5863, 'त्यांच्यातल्या': 5864, 'त्यांच्यातून': 5865, 'त्यांच्यापेक्षा': 5866, 'त्यांच्याबद्दल': 5867, 'त्यांच्याबरोबर': 5868, 'त्यांच्याभोवतीच्या': 5869, 'त्यांच्यामधून': 5870, 'त्यांच्यावर': 5871, 'त्यांच्याशी': 5872, 'त्यांच्यासाठी': 5873, 'त्यांच्यासारखं': 5874, 'त्यांच्यासारखा': 5875, 'त्यांच्यासोबत': 5876, 'त्यांतली': 5877, 'त्यांतून': 5878, 'त्यांनंतर': 5879, 'त्यांना': 5880, 'त्यांनाच': 5881, 'त्यांनी': 5882, 'त्यांनीच': 5883, 'त्यांने': 5884, 'त्याआधी': 5885, 'त्याकाळी': 5886, 'त्याच': 5887, 'त्याचं': 5888, 'त्याच़े': 5889, 'त्याचा': 5890, 'त्याचाच': 5891, 'त्याची': 5892, 'त्याचीच': 5893, 'त्याचे': 5894, 'त्याच्या': 5895, 'त्याच्याइतका': 5896, 'त्याच्याइतकी': 5897, 'त्याच्याकडून': 5898, 'त्याच्याकडे': 5899, 'त्याच्याजवळ': 5900, 'त्याच्यात': 5901, 'त्याच्यापेक्षा': 5902, 'त्याच्याबद्दल': 5903, 'त्याच्याबरोबर': 5904, 'त्याच्याभोवती': 5905, 'त्याच्याभोवतीच्या': 5906, 'त्याच्यामागे': 5907, 'त्याच्यावर': 5908, 'त्याच्याशिवाय': 5909, 'त्याच्याशी': 5910, 'त्याच्यासाठी': 5911, 'त्याच्यासारखा': 5912, 'त्याच्यासारखी': 5913, 'त्याच्यासारखे': 5914, 'त्याच्यासोबत': 5915, 'त्यात': 5916, 'त्यातलं': 5917, 'त्यातला': 5918, 'त्यातले': 5919, 'त्यातून': 5920, 'त्यानं': 5921, 'त्यानंतर': 5922, 'त्यानी': 5923, 'त्याने': 5924, 'त्यापुढे': 5925, 'त्यापेक्षा': 5926, 'त्याबद्दल': 5927, 'त्याबाबत': 5928, 'त्याबाबतीत': 5929, 'त्यामुळे': 5930, 'त्याला': 5931, 'त्यालाच': 5932, 'त्यावर': 5933, 'त्याविरुद्ध': 5934, 'त्याविषयी': 5935, 'त्यावेळी': 5936, 'त्यासाठी': 5937, 'त्याही': 5938, 'त्रस्त': 5939, 'त्रास': 5940, 'त्रिकोण': 5941, 'त्रिकोणाचा': 5942, 'त्रिपोली': 5943, 'त्रुटी': 5944, 'त्वचा': 5945, 'त्वचेची': 5946, 'त्वरित': 5947, 'थँक्सगिव्हिंग': 5948, 'थँक्सगिव्हिंगला': 5949, 'थंड': 5950, 'थंडगार': 5951, 'थंडी': 5952, 'थंपर': 5953, 'थकला': 5954, 'थकलाय': 5955, 'थकलायत': 5956, 'थकलायस': 5957, 'थकली': 5958, 'थकलीयस': 5959, 'थकले': 5960, 'थकलेय': 5961, 'थकलेयत': 5962, 'थकलेला': 5963, 'थकलेली': 5964, 'थकलेले': 5965, 'थकलेलो': 5966, 'थकलो': 5967, 'थकलोय': 5968, 'थकल्यावर': 5969, 'थकल्यासारखं': 5970, 'थकून': 5971, 'थरथरत': 5972, 'थरथरतोय': 5973, 'थरथरली': 5974, 'थांब': 5975, 'थांबणार': 5976, 'थांबण्यात': 5977, 'थांबत': 5978, 'थांबता': 5979, 'थांबते': 5980, 'थांबतो': 5981, 'थांबलं': 5982, 'थांबलंय': 5983, 'थांबला': 5984, 'थांबली': 5985, 'थांबले': 5986, 'थांबलेला': 5987, 'थांबलेली': 5988, 'थांबलेले': 5989, 'थांबलो': 5990, 'थांबलोय': 5991, 'थांबल्या': 5992, 'थांबल्यावर': 5993, 'थांबव': 5994, 'थांबवणार': 5995, 'थांबवतच': 5996, 'थांबवलं': 5997, 'थांबवलंत': 5998, 'थांबवलंस': 5999, 'थांबवला': 6000, 'थांबवली': 6001, 'थांबवा': 6002, 'थांबवायचा': 6003, 'थांबवायला': 6004, 'थांबवू': 6005, 'थांबवून': 6006, 'थांबवेन': 6007, 'थांबशील': 6008, 'थांबा': 6009, 'थांबायचं': 6010, 'थांबायला': 6011, 'थांबाल': 6012, 'थांबावं': 6013, 'थांबू': 6014, 'थांबून': 6015, 'थांबूया': 6016, 'थांबेन': 6017, 'थांबेल': 6018, 'थांबेलयत': 6019, 'थाई': 6020, 'थायलंड': 6021, 'थायलंडची': 6022, 'थायलंडमध्ये': 6023, 'था।': 6024, 'थिएटरमध्ये': 6025, 'थिएटरला': 6026, 'थुकते': 6027, 'थुकतो': 6028, 'थेंब': 6029, 'थोडं': 6030, 'थोडंसं': 6031, 'थोडक्यात': 6032, 'थोडा': 6033, 'थोडासा': 6034, 'थोडाही': 6035, 'थोडी': 6036, 'थोडीच': 6037, 'थोडीथोडी': 6038, 'थोडीशी': 6039, 'थोडीशीच': 6040, 'थोडे': 6041, 'थोडेच': 6042, 'थोडेसे': 6043, 'थोड्या': 6044, 'थोड्याच': 6045, 'थोबाड': 6046, 'द': 6047, 'दंड': 6048, 'दंतचिकित्सकाकडे': 6049, 'दंतवैद्य': 6050, 'दंतवैद्याकडे': 6051, 'दक्षिण': 6052, 'दक्षिणी': 6053, 'दक्षिणेकडची': 6054, 'दक्षिणेकडे': 6055, 'दक्षिणेचा': 6056, 'दक्षिणेने': 6057, 'दक्षिणेपासून': 6058, 'दखणार': 6059, 'दगड': 6060, 'दगडं': 6061, 'दगडफेक': 6062, 'दगडाच्या': 6063, 'दत्तक': 6064, 'दमदार': 6065, 'दमले': 6066, 'दमलेले': 6067, 'दमलेलो': 6068, 'दमास्कस': 6069, 'दमून': 6070, 'दया': 6071, 'दयाळू': 6072, 'दर': 6073, 'दररोज': 6074, 'दररोजच': 6075, 'दरवाजा': 6076, 'दरवाजे': 6077, 'दरवाज्याचा': 6078, 'दरवाज्याची': 6079, 'दरवाज्यापाशी': 6080, 'दरवाज्यापासून': 6081, 'दरवाज्याबाहेर': 6082, 'दरवेळी': 6083, 'दरात': 6084, 'दरोडा': 6085, 'दर्गा': 6086, 'दर्शन': 6087, 'दशकाची': 6088, 'दशकात': 6089, 'दशकापर्यंत': 6090, 'दशलक्ष': 6091, 'दस्तऐवज': 6092, 'दस्ताऐवज': 6093, 'दस्ताऐवजांवर': 6094, 'दस्ताऐवजाचा': 6095, 'दस्ताऐवजावर': 6096, 'दहशत': 6097, 'दहशतवाद': 6098, 'दहशतवादी': 6099, 'दहशतवाद्यांना': 6100, 'दहशतवाद्यांनी': 6101, 'दहशतवाद्यांबरोबर': 6102, 'दहा': 6103, 'दहातून': 6104, 'दहापट': 6105, 'दहापर्यंत': 6106, 'दहाला': 6107, 'दहावीत': 6108, 'दहाव्या': 6109, 'दहीची': 6110, 'दांडी': 6111, 'दाइकोन': 6112, 'दाखव': 6113, 'दाखवणार': 6114, 'दाखवत': 6115, 'दाखवते': 6116, 'दाखवतो': 6117, 'दाखवलं': 6118, 'दाखवलंत': 6119, 'दाखवलंस': 6120, 'दाखवला': 6121, 'दाखवली': 6122, 'दाखवले': 6123, 'दाखवशील': 6124, 'दाखवा': 6125, 'दाखवायचं': 6126, 'दाखवाल': 6127, 'दाखवू': 6128, 'दाखवून': 6129, 'दाखवेन': 6130, 'दागिने': 6131, 'दागिन्यांचं': 6132, 'दाढी': 6133, 'दाढीमिशी': 6134, 'दाढीला': 6135, 'दाढीवाला': 6136, 'दात': 6137, 'दातांचा': 6138, 'दाताच्या': 6139, 'दादा': 6140, 'दादाची': 6141, 'दादाने': 6142, 'दादाला': 6143, 'दादासारखा': 6144, 'दाब': 6145, 'दाबलं': 6146, 'दाबला': 6147, 'दाबल्याने': 6148, 'दाबल्यावर': 6149, 'दाबा': 6150, 'दाबू': 6151, 'दाबून': 6152, 'दाम': 6153, 'दार': 6154, 'दारं': 6155, 'दारही': 6156, 'दारांवरचे': 6157, 'दाराकडे': 6158, 'दाराच्या': 6159, 'दाराजवळ': 6160, 'दाराजवळची': 6161, 'दारातल्या': 6162, 'दारापाशी': 6163, 'दाराबाहेर': 6164, 'दारामागे': 6165, 'दाराला': 6166, 'दारिद्र्य': 6167, 'दारिद्र्याने': 6168, 'दारू': 6169, 'दारूसुद्धा': 6170, 'दारे': 6171, 'दालचिनी': 6172, 'दावा': 6173, 'दिग्दर्शक': 6174, 'दिनांक': 6175, 'दिलं': 6176, 'दिलंच': 6177, 'दिलंत': 6178, 'दिलंस': 6179, 'दिला': 6180, 'दिली': 6181, 'दिलीत': 6182, 'दिलीस': 6183, 'दिले': 6184, 'दिलेत': 6185, 'दिलेलं': 6186, 'दिलेली': 6187, 'दिलेले': 6188, 'दिलेल्या': 6189, 'दिलेस': 6190, 'दिल्या': 6191, 'दिल्यानंतर': 6192, 'दिल्ली': 6193, 'दिल्लीत': 6194, 'दिवशी': 6195, 'दिवस': 6196, 'दिवसभर': 6197, 'दिवसभरात': 6198, 'दिवसरात्र': 6199, 'दिवसही': 6200, 'दिवसा': 6201, 'दिवसांची': 6202, 'दिवसांत': 6203, 'दिवसांनंतर': 6204, 'दिवसांनी': 6205, 'दिवसांपासून': 6206, 'दिवसांपूर्वी': 6207, 'दिवसांपूर्वीच': 6208, 'दिवसांमध्ये': 6209, 'दिवसांसाठी': 6210, 'दिवसाचे': 6211, 'दिवसात': 6212, 'दिवसातून': 6213, 'दिवसानुदिवस': 6214, 'दिवसाने': 6215, 'दिवसाला': 6216, 'दिवसेंदिवस': 6217, 'दिवा': 6218, 'दिवासांची': 6219, 'दिवे': 6220, 'दिशा': 6221, 'दिशेने': 6222, 'दिसणार': 6223, 'दिसणारा': 6224, 'दिसणार्\\u200dया': 6225, 'दिसत': 6226, 'दिसतं': 6227, 'दिसतंय': 6228, 'दिसतच': 6229, 'दिसता': 6230, 'दिसतात': 6231, 'दिसताहेत': 6232, 'दिसते': 6233, 'दिसतेच': 6234, 'दिसतेय': 6235, 'दिसतेयस': 6236, 'दिसतेस': 6237, 'दिसतो': 6238, 'दिसतोच': 6239, 'दिसतोय': 6240, 'दिसतोयस': 6241, 'दिसतोस': 6242, 'दिसलं': 6243, 'दिसला': 6244, 'दिसली': 6245, 'दिसले': 6246, 'दिसल्या': 6247, 'दिसशील': 6248, 'दिसायचं': 6249, 'दिसायचंय': 6250, 'दिसायचा': 6251, 'दिसायच्या': 6252, 'दिसायला': 6253, 'दिसाल': 6254, 'दिसू': 6255, 'दिसून': 6256, 'दिसेनासा': 6257, 'दिसेल': 6258, 'दीड': 6259, 'दीडशे': 6260, 'दीर्घ': 6261, 'दुःखद': 6262, 'दुःखदायी': 6263, 'दुःखी': 6264, 'दुकान': 6265, 'दुकानं': 6266, 'दुकानाचं': 6267, 'दुकानाच्या': 6268, 'दुकानात': 6269, 'दुकानातला': 6270, 'दुकानातून': 6271, 'दुखणं': 6272, 'दुखण्याने': 6273, 'दुखत': 6274, 'दुखतं': 6275, 'दुखतंय': 6276, 'दुखतायत': 6277, 'दुखतायेत': 6278, 'दुखताहेत': 6279, 'दुखते': 6280, 'दुखतेय': 6281, 'दुखतोय': 6282, 'दुखलं': 6283, 'दुखवायच्या': 6284, 'दुखायला': 6285, 'दुखावल्या': 6286, 'दुखू': 6287, 'दुखेल': 6288, 'दुधाचं': 6289, 'दुधाची': 6290, 'दुधाचे': 6291, 'दुधाच्या': 6292, 'दुधापासून': 6293, 'दुधाला': 6294, 'दुपार': 6295, 'दुपारचे': 6296, 'दुपारच्या': 6297, 'दुपारपर्यंत': 6298, 'दुपारभर': 6299, 'दुपारी': 6300, 'दुप्पट': 6301, 'दुबळी': 6302, 'दुभती': 6303, 'दुरुस्त': 6304, 'दुरुस्तीने': 6305, 'दुरून': 6306, 'दुर्गुण': 6307, 'दुर्घटना': 6308, 'दुर्दैवाने': 6309, 'दुर्बळ': 6310, 'दुर्बीण': 6311, 'दुर्मिळ': 6312, 'दुर्लक्ष': 6313, 'दुष्ट': 6314, 'दुष्टता': 6315, 'दुसरं': 6316, 'दुसरा': 6317, 'दुसरी': 6318, 'दुसरीकडे': 6319, 'दुसरीकडेच': 6320, 'दुसरे': 6321, 'दुसर्\\u200dया': 6322, 'दुसर्\\u200dयांची': 6323, 'दुसर्\\u200dयांदा': 6324, 'दुसर्\\u200dयांना': 6325, 'दुसर्\\u200dयांमध्ये': 6326, 'दुसर्\\u200dयाच': 6327, 'दुसर्\\u200dयाचा': 6328, 'दुसऱ्यांसाठी': 6329, 'दूत': 6330, 'दूतच': 6331, 'दूतावास': 6332, 'दूध': 6333, 'दूधवाला': 6334, 'दूर': 6335, 'दूरदर्शन': 6336, 'दूरध्वनी': 6337, 'दूरध्वनीचा': 6338, 'दूरवर': 6339, 'दूसरे': 6340, 'दृश्य': 6341, 'दृष्टीबाहेर': 6342, 'दे': 6343, 'देईन': 6344, 'देईल': 6345, 'देऊ': 6346, 'देऊन': 6347, 'देऊया': 6348, 'देऊळ': 6349, 'देखणा': 6350, 'देखणी': 6351, 'देखणे': 6352, 'देखण्या': 6353, 'देखरेखीकरिता': 6354, 'देखील': 6355, 'देणं': 6356, 'देणार': 6357, 'देणे': 6358, 'देण्याअगोदर': 6359, 'देण्याची': 6360, 'देण्यात': 6361, 'देण्याशी': 6362, 'देण्यासाठी': 6363, 'देत': 6364, 'देतं': 6365, 'देतंय': 6366, 'देतच': 6367, 'देता': 6368, 'देतात': 6369, 'देतील': 6370, 'देते': 6371, 'देतेय': 6372, 'देतेस': 6373, 'देतो': 6374, 'देतोय': 6375, 'देतोस': 6376, 'देव': 6377, 'देवदूत': 6378, 'देवमासा': 6379, 'देवमासे': 6380, 'देवळं': 6381, 'देवळात': 6382, 'देवळातसुद्धा': 6383, 'देवा': 6384, 'देवांची': 6385, 'देवांना': 6386, 'देवाकडून': 6387, 'देवाचा': 6388, 'देवाचे': 6389, 'देवाच्या': 6390, 'देवात': 6391, 'देवाने': 6392, 'देवाला': 6393, 'देवालाच': 6394, 'देवावर': 6395, 'देवाशप्पथ': 6396, 'देवासमोर': 6397, 'देवासाठी': 6398, 'देश': 6399, 'देशद्रोही': 6400, 'देशप्रेम': 6401, 'देशभक्त': 6402, 'देशभर': 6403, 'देशभरात': 6404, 'देशभरातल्या': 6405, 'देशांच्या': 6406, 'देशांत': 6407, 'देशांना': 6408, 'देशांनी': 6409, 'देशांबरोबर': 6410, 'देशांमधील': 6411, 'देशांमध्ये': 6412, 'देशांवर': 6413, 'देशाकडे': 6414, 'देशाचं': 6415, 'देशाचा': 6416, 'देशाची': 6417, 'देशाचे': 6418, 'देशात': 6419, 'देशातले': 6420, 'देशातल्या': 6421, 'देशाला': 6422, 'देशावर': 6423, 'देशाशी': 6424, 'देशासाठी': 6425, 'देशील': 6426, 'दैनंदिन': 6427, 'दैनिक': 6428, 'दैन्यावस्थेत': 6429, 'दोघं': 6430, 'दोघंही': 6431, 'दोघही': 6432, 'दोघांकडे': 6433, 'दोघांचं': 6434, 'दोघांचा': 6435, 'दोघांचाही': 6436, 'दोघांची': 6437, 'दोघांचे': 6438, 'दोघांना': 6439, 'दोघांनाही': 6440, 'दोघांनी': 6441, 'दोघांमधला': 6442, 'दोघांमधून': 6443, 'दोघांमध्ये': 6444, 'दोघी': 6445, 'दोघींची': 6446, 'दोघींना': 6447, 'दोघींनी': 6448, 'दोघीही': 6449, 'दोघे': 6450, 'दोघेही': 6451, 'दोन': 6452, 'दोनच': 6453, 'दोनतीन': 6454, 'दोनदा': 6455, 'दोनदाच': 6456, 'दोनदोन': 6457, 'दोनमजली': 6458, 'दोनशे': 6459, 'दोन्ही': 6460, 'दोन्हीही': 6461, 'दोरा': 6462, 'दोष': 6463, 'दोषी': 6464, 'द्या': 6465, 'द्यायचं': 6466, 'द्यायचा': 6467, 'द्यायची': 6468, 'द्यायचे': 6469, 'द्यायच्या': 6470, 'द्यायला': 6471, 'द्याल': 6472, 'द्यावं': 6473, 'द्यावा': 6474, 'द्यावे': 6475, 'द्राक्ष': 6476, 'द्वार': 6477, 'द्वाराजवळ': 6478, 'द्विभाषिक': 6479, 'द्वीप': 6480, 'द्वीपकल्प': 6481, 'द्वीपाची': 6482, 'धंदा': 6483, 'धकललं': 6484, 'धक्का': 6485, 'धडा': 6486, 'धड्याची': 6487, 'धड्यापासून': 6488, 'धनदौलतीपेक्षा': 6489, 'धनवान': 6490, 'धनसंपत्ती': 6491, 'धनी': 6492, 'धन्यवाद': 6493, 'धबधबा': 6494, 'धबधब्याजवळ': 6495, 'धमकावलं': 6496, 'धमकावू': 6497, 'धमकी': 6498, 'धमाल': 6499, 'धर': 6500, 'धरण': 6501, 'धरणारी': 6502, 'धरता': 6503, 'धरलं': 6504, 'धरला': 6505, 'धरली': 6506, 'धरले': 6507, 'धरलेली': 6508, 'धरल्या': 6509, 'धरा': 6510, 'धरून': 6511, 'धरूनच': 6512, 'धर्म': 6513, 'धर्मांच्या': 6514, 'धर्मात': 6515, 'धर्माबद्दल': 6516, 'धर्मावर': 6517, 'धर्माविरुद्ध': 6518, 'धागा': 6519, 'धाडस': 6520, 'धाडसी': 6521, 'धातु': 6522, 'धातू': 6523, 'धान्य': 6524, 'धारदार': 6525, 'धारधार': 6526, 'धार्मिक': 6527, 'धाव': 6528, 'धावणं': 6529, 'धावणार्\\u200dयाला': 6530, 'धावत': 6531, 'धावतधावत': 6532, 'धावतपळत': 6533, 'धावता': 6534, 'धावतात': 6535, 'धावताना': 6536, 'धावते': 6537, 'धावतो': 6538, 'धावलं': 6539, 'धावला': 6540, 'धावली': 6541, 'धावले': 6542, 'धावलो': 6543, 'धावल्या': 6544, 'धावा': 6545, 'धावायचं': 6546, 'धावायला': 6547, 'धावू': 6548, 'धीराचा': 6549, 'धुऊन': 6550, 'धुडकावला': 6551, 'धुणार': 6552, 'धुतलं': 6553, 'धुतला': 6554, 'धुतली': 6555, 'धुतले': 6556, 'धुतलेली': 6557, 'धुतलेस': 6558, 'धुताहेत': 6559, 'धुते': 6560, 'धुतेय': 6561, 'धुतो': 6562, 'धुतोय': 6563, 'धुम्रपान': 6564, 'धुम्रपानाच्या': 6565, 'धुराचा': 6566, 'धुराडे': 6567, 'धुळीची': 6568, 'धुवत': 6569, 'धुवा': 6570, 'धुवायचे': 6571, 'धुवाल': 6572, 'धुवू': 6573, 'धुवून': 6574, 'धुवेन': 6575, 'धुशील': 6576, 'धू': 6577, 'धूमकेतू': 6578, 'धूम्रपान': 6579, 'धूर': 6580, 'धूळ': 6581, 'धैर्य': 6582, 'धैर्याची': 6583, 'धोका': 6584, 'धोकादायक': 6585, 'धोकादायकच': 6586, 'धोक्याची': 6587, 'धोक्याच्या': 6588, 'धोक्यात': 6589, 'धोधो': 6590, 'धोरणाचे': 6591, 'धोरणाविषयी': 6592, 'ध्रुवावर': 6593, 'न': 6594, 'नं': 6595, 'नंतर': 6596, 'नंतरच्या': 6597, 'नंबर': 6598, 'नंबरची': 6599, 'नंबरवर': 6600, 'नऊ': 6601, 'नऊपासून': 6602, 'नऊला': 6603, 'नका': 6604, 'नकार': 6605, 'नकाशा': 6606, 'नकाशाची': 6607, 'नको': 6608, 'नकोय': 6609, 'नकोस': 6610, 'नक्कल': 6611, 'नक्की': 6612, 'नक्कीच': 6613, 'नख': 6614, 'नखं': 6615, 'नगर': 6616, 'नगरांमध्ये': 6617, 'नगराच्या': 6618, 'नगरात': 6619, 'नगरातला': 6620, 'नगेट्स': 6621, 'नग्न': 6622, 'नजर': 6623, 'नटी': 6624, 'नताळ': 6625, 'नथानाएलने': 6626, 'नदी': 6627, 'नदीकडे': 6628, 'नदीचं': 6629, 'नदीची': 6630, 'नदीच्या': 6631, 'नदीजवळ': 6632, 'नदीत': 6633, 'नदीतील': 6634, 'नदीपाशी': 6635, 'नदीला': 6636, 'नदीवर': 6637, 'नदीवरून': 6638, 'नद्या': 6639, 'नन': 6640, 'नमुनेदार': 6641, 'नम्रतेने': 6642, 'नये': 6643, 'नरकात': 6644, 'नरम': 6645, 'नर्व्हस': 6646, 'नर्स': 6647, 'नर्सची': 6648, 'नर्सरी': 6649, 'नर्सला': 6650, 'नर्सशी': 6651, 'नळ': 6652, 'नवरा': 6653, 'नवरी': 6654, 'नवहता': 6655, 'नवी': 6656, 'नवीन': 6657, 'नवीनच': 6658, 'नव्यासारखी': 6659, 'नव्हतं': 6660, 'नव्हता': 6661, 'नव्हतास': 6662, 'नव्हती': 6663, 'नव्हतीस': 6664, 'नव्हते': 6665, 'नव्हतो': 6666, 'नव्हत्या': 6667, 'नव्हे': 6668, 'नशीब': 6669, 'नशीबवान': 6670, 'नशीबाचा': 6671, 'नशीबात': 6672, 'नशीबावर': 6673, 'नष्ट': 6674, 'नसणार': 6675, 'नसणारं': 6676, 'नसणारा': 6677, 'नसणार्\\u200dया': 6678, 'नसण्यापेक्षा': 6679, 'नसत': 6680, 'नसतं': 6681, 'नसता': 6682, 'नसतात': 6683, 'नसती': 6684, 'नसते': 6685, 'नसतेस': 6686, 'नसतो': 6687, 'नसतोस': 6688, 'नसलं': 6689, 'नसला': 6690, 'नसलेला': 6691, 'नसलेली': 6692, 'नसल्या': 6693, 'नसल्यामुळे': 6694, 'नसशील': 6695, 'नसायचा': 6696, 'नसायला': 6697, 'नसाल': 6698, 'नसू': 6699, 'नसून': 6700, 'नसेन': 6701, 'नसेल': 6702, 'नहाी': 6703, 'नहाीये': 6704, 'नहीं': 6705, 'ना': 6706, 'नाइटक्लब': 6707, 'नाइटक्लबमधून': 6708, 'नाईटलाईट': 6709, 'नाईल': 6710, 'नाईलतकी': 6711, 'नाईलशी': 6712, 'नाक': 6713, 'नाकांनी': 6714, 'नाकाच्या': 6715, 'नाकातून': 6716, 'नाकामेगुरोच्या': 6717, 'नाकारण्यात': 6718, 'नाकारलं': 6719, 'नाकारला': 6720, 'नाकारले': 6721, 'नाकारल्या': 6722, 'नाकारू': 6723, 'नाखूष': 6724, 'नागडं': 6725, 'नागडा': 6726, 'नागडी': 6727, 'नागडे': 6728, 'नागड्या': 6729, 'नागरिक': 6730, 'नागासाकीमध्ये': 6731, 'नागोया': 6732, 'नागोयापासून': 6733, 'नाच': 6734, 'नाचणार': 6735, 'नाचण्यास': 6736, 'नाचत': 6737, 'नाचता': 6738, 'नाचताना': 6739, 'नाचताहेत': 6740, 'नाचतेय': 6741, 'नाचतो': 6742, 'नाचतोय': 6743, 'नाचला': 6744, 'नाचली': 6745, 'नाचले': 6746, 'नाचलो': 6747, 'नाचल्या': 6748, 'नाचा': 6749, 'नाचायचं': 6750, 'नाचायला': 6751, 'नाचायलागायला': 6752, 'नाचावंसं': 6753, 'नाचावेसे': 6754, 'नाचू': 6755, 'नाचूया': 6756, 'नाचेल': 6757, 'नाजूक': 6758, 'नाटक': 6759, 'नाटकात': 6760, 'नाटकाला': 6761, 'नाट्यगृहात': 6762, 'नाट्याचा': 6763, 'नाड्या': 6764, 'नाणं': 6765, 'नाणी': 6766, 'नातवंडांना': 6767, 'नाताळ': 6768, 'नाताळचा': 6769, 'नाताळच्या': 6770, 'नाताळाची': 6771, 'नाताळाला': 6772, 'नातींना': 6773, 'नातेवाईक': 6774, 'नातेवाईकांबरोबर': 6775, 'नातेसंबंधी': 6776, 'नात्तो': 6777, 'नात्यातला': 6778, 'नात्यातली': 6779, 'नात्यातले': 6780, 'नापास': 6781, 'नापोली': 6782, 'नायक': 6783, 'नायकाची': 6784, 'नायजेरिया': 6785, 'नायिका': 6786, 'नायिकेने': 6787, 'नाय्ट्रोग्लिसरीन': 6788, 'नारळ': 6789, 'नारामध्ये': 6790, 'नाराला': 6791, 'नाव': 6792, 'नावं': 6793, 'नावडण्यासाठी': 6794, 'नावदेखील': 6795, 'नावसुद्धा': 6796, 'नावही': 6797, 'नावांची': 6798, 'नावाचं': 6799, 'नावाचा': 6800, 'नावाची': 6801, 'नावाचे': 6802, 'नावाच्या': 6803, 'नावात': 6804, 'नावाने': 6805, 'नाविक': 6806, 'नाश': 6807, 'नाश्ता': 6808, 'नाश्त्याआगोदर': 6809, 'नाश्त्याआधी': 6810, 'नाश्त्याची': 6811, 'नाश्त्यानंतर': 6812, 'नाश्त्याला': 6813, 'नाश्त्यासाठी': 6814, 'नाष्टा': 6815, 'नासासाठी': 6816, 'नास्तिक': 6817, 'नाहिये': 6818, 'नाहियेत': 6819, 'नाही': 6820, 'नाहीए': 6821, 'नाहीत': 6822, 'नाहीतर': 6823, 'नाहीये': 6824, 'नाहीयेत': 6825, 'नाहीयेस': 6826, 'नाहीस': 6827, 'नाहीसा': 6828, 'निंदा': 6829, 'निःशंकपणे': 6830, 'निःशस्त्र': 6831, 'निकाराग्वामध्ये': 6832, 'निकाल': 6833, 'निगमासाठी': 6834, 'निगेटिव्ह': 6835, 'निग्रो': 6836, 'निघ': 6837, 'निघणार': 6838, 'निघणारच': 6839, 'निघण्याचं': 6840, 'निघण्याची': 6841, 'निघत': 6842, 'निघतच': 6843, 'निघतात': 6844, 'निघताना': 6845, 'निघताहेत': 6846, 'निघते': 6847, 'निघतेय': 6848, 'निघतेयस': 6849, 'निघतो': 6850, 'निघतोय': 6851, 'निघतोयस': 6852, 'निघशील': 6853, 'निघा': 6854, 'निघायचं': 6855, 'निघायचा': 6856, 'निघायची': 6857, 'निघायला': 6858, 'निघाल': 6859, 'निघालं': 6860, 'निघाला': 6861, 'निघालाय': 6862, 'निघाली': 6863, 'निघाले': 6864, 'निघालेयत': 6865, 'निघालेला': 6866, 'निघालो': 6867, 'निघाल्या': 6868, 'निघाल्यानंतर': 6869, 'निघू': 6870, 'निघून': 6871, 'निघूया': 6872, 'निघेन': 6873, 'निघेल': 6874, 'निधन': 6875, 'निन्जा': 6876, 'निबंध': 6877, 'निमित्ताने': 6878, 'नियंत्रण': 6879, 'नियंत्रित': 6880, 'नियम': 6881, 'नियमांची': 6882, 'नियमांप्रमाणे': 6883, 'नियुक्त': 6884, 'नियोजित': 6885, 'निरक्षर': 6886, 'निराश': 6887, 'निरीश्वरवादी': 6888, 'निरोगी': 6889, 'निरोप': 6890, 'निर्णय': 6891, 'निर्णायक': 6892, 'निर्देशिका': 6893, 'निर्दोष': 6894, 'निर्माण': 6895, 'निर्माते': 6896, 'निर्मित': 6897, 'निर्मिती': 6898, 'निर्यात': 6899, 'निर्लज्ज': 6900, 'निर्वासितांना': 6901, 'निर्व्यसनी': 6902, 'निळं': 6903, 'निळा': 6904, 'निळी': 6905, 'निळे': 6906, 'निळ्या': 6907, 'निवड': 6908, 'निवडणुकीचं': 6909, 'निवडणुकीचा': 6910, 'निवडणुकीत': 6911, 'निवडणूक': 6912, 'निवडण्यात': 6913, 'निवडताना': 6914, 'निवडतील': 6915, 'निवडलं': 6916, 'निवडलंत': 6917, 'निवडलंस': 6918, 'निवडलीत': 6919, 'निवडलीस': 6920, 'निवडले': 6921, 'निवडलेल्यांमधील': 6922, 'निवडा': 6923, 'निवडून': 6924, 'निवडेन': 6925, 'निवडेल': 6926, 'निवृत्त': 6927, 'निश्चलपणे': 6928, 'निश्चित': 6929, 'निश्चितच': 6930, 'निषेध': 6931, 'निष्पाप': 6932, 'निष्फळ': 6933, 'नी': 6934, 'नीघ': 6935, 'नीट': 6936, 'नीटसा': 6937, 'नीतिमत्ता': 6938, 'नीती': 6939, 'नील': 6940, 'नीही': 6941, 'नुकतेच': 6942, 'नुकत्याच': 6943, 'नुक्ताच': 6944, 'नुक्तीच': 6945, 'नुसता': 6946, 'नूडल्स': 6947, 'ने': 6948, 'नेईन': 6949, 'नेऊ': 6950, 'नेऊया': 6951, 'नेणार': 6952, 'नेण्यात': 6953, 'नेत': 6954, 'नेता': 6955, 'नेतेय': 6956, 'नेतोय': 6957, 'नेत्यांनी': 6958, 'नेत्याकडे': 6959, 'नेत्रतज्ञ': 6960, 'नेदरलँड्सची': 6961, 'नेपोलियन': 6962, 'नेपोलियनचा': 6963, 'नेम': 6964, 'नेमकं': 6965, 'नेमका': 6966, 'नेमकी': 6967, 'नेरुदा': 6968, 'नेल': 6969, 'नेलं': 6970, 'नेली': 6971, 'नेव्हाडामध्ये': 6972, 'नेशील': 6973, 'नेसलेला': 6974, 'नेसलेले': 6975, 'नेहमी': 6976, 'नेहमीच': 6977, 'नेहमीचंच': 6978, 'नेहमीच्या': 6979, 'नेहमीच्याच': 6980, 'नेहमीप्रमाणे': 6981, 'नेहमीसारखाच': 6982, 'नैसर्गिक': 6983, 'नैसर्गिकच': 6984, 'नॉनवेज': 6985, 'नॉर्वे': 6986, 'नॉर्वेची': 6987, 'नॉर्वेमधील': 6988, 'नो': 6989, 'नोंदणी': 6990, 'नोंदवहीत': 6991, 'नोकर': 6992, 'नोकरी': 6993, 'नोकरीची': 6994, 'नोकरीच्या': 6995, 'नोकरीण': 6996, 'नोकरीतून': 6997, 'नोकरीबद्दल': 6998, 'नोकरीला': 6999, 'नोकरीवरून': 7000, 'नोकरीसाठी': 7001, 'नोकरीही': 7002, 'नोकरीहून': 7003, 'नोकर्\\u200dया': 7004, 'नोगुची': 7005, 'नोचतेय': 7006, 'नोट': 7007, 'नोटांचा': 7008, 'नोत्र': 7009, 'नोबेल': 7010, 'नोव्हेंबर': 7011, 'नोव्हेंबरच्या': 7012, 'नोव्हेंबरला': 7013, 'नौका': 7014, 'नौदलात': 7015, 'नौसेना': 7016, 'न्या': 7017, 'न्याय': 7018, 'न्यायचं': 7019, 'न्यायची': 7020, 'न्यायचो': 7021, 'न्यायला': 7022, 'न्यायाधीश': 7023, 'न्यायालय': 7024, 'न्यायालयाचे': 7025, 'न्याल': 7026, 'न्यू': 7027, 'न्यूझीलंडची': 7028, 'न्यूझीलंडमधील': 7029, 'न्यूझीलंडमध्ये': 7030, 'न्यूटन': 7031, 'न्यूयॉर्क': 7032, 'न्यूयॉर्कचे': 7033, 'न्यूयॉर्कमध्ये': 7034, 'न्यूयॉर्कला': 7035, 'पँट': 7036, 'पंक': 7037, 'पंक्चर': 7038, 'पंख': 7039, 'पंखा': 7040, 'पंचावन': 7041, 'पंचेचाळीस': 7042, 'पंच्याण्णव': 7043, 'पंतप्रधान': 7044, 'पंतप्रधानांनी': 7045, 'पंतप्रधानाने': 7046, 'पंधरा': 7047, 'पंधरावा': 7048, 'पंप': 7049, 'पकड': 7050, 'पकडणार': 7051, 'पकडण्याच्या': 7052, 'पकडण्यात': 7053, 'पकडता': 7054, 'पकडतात': 7055, 'पकडते': 7056, 'पकडतो': 7057, 'पकडलं': 7058, 'पकडला': 7059, 'पकडलास': 7060, 'पकडली': 7061, 'पकडलीत': 7062, 'पकडलीस': 7063, 'पकडले': 7064, 'पकड़': 7065, 'पकडा': 7066, 'पकडापकडीसारखे': 7067, 'पकडायचा': 7068, 'पकडायची': 7069, 'पकडायचे': 7070, 'पकडायला': 7071, 'पकडायलाच': 7072, 'पकडू': 7073, 'पकडून': 7074, 'पकडूया': 7075, 'पकडेन': 7076, 'पकडेल': 7077, 'पक्ष': 7078, 'पक्षांना': 7079, 'पक्षाचा': 7080, 'पक्षाची': 7081, 'पक्षाच्या': 7082, 'पक्षाला': 7083, 'पक्षी': 7084, 'पक्षीच': 7085, 'पक्ष्यांना': 7086, 'पक्ष्यांसाठी': 7087, 'पक्ष्याचं': 7088, 'पगडीत': 7089, 'पगार': 7090, 'पट': 7091, 'पटकथा': 7092, 'पटत': 7093, 'पटलं': 7094, 'पटीने': 7095, 'पटेल': 7096, 'पट्टी': 7097, 'पट्ट्या': 7098, 'पड': 7099, 'पडणार': 7100, 'पडण्याचा': 7101, 'पडण्यापेक्षा': 7102, 'पडत': 7103, 'पडतंय': 7104, 'पडतात': 7105, 'पडताना': 7106, 'पडताहेत': 7107, 'पडतील': 7108, 'पडते': 7109, 'पडतेय': 7110, 'पडतो': 7111, 'पडतोय': 7112, 'पडद्याकडे': 7113, 'पडद्यातून': 7114, 'पडलं': 7115, 'पडलंय': 7116, 'पडला': 7117, 'पडली': 7118, 'पडले': 7119, 'पडलेलं': 7120, 'पडलेला': 7121, 'पडलेली': 7122, 'पडलेले': 7123, 'पडलो': 7124, 'पडल्या': 7125, 'पडल्यावर': 7126, 'पडशील': 7127, 'पडा': 7128, 'पडायचं': 7129, 'पडायचा': 7130, 'पडायला': 7131, 'पडाल': 7132, 'पडावंसं': 7133, 'पडू': 7134, 'पडून': 7135, 'पडेल': 7136, 'पण': 7137, 'पतंग': 7138, 'पतंगांचा': 7139, 'पती': 7140, 'पतींना': 7141, 'पतीसमोर': 7142, 'पत्ता': 7143, 'पत्ताच': 7144, 'पत्ते': 7145, 'पत्त्यांकडे': 7146, 'पत्नी': 7147, 'पत्नींना': 7148, 'पत्नीने': 7149, 'पत्नीला': 7150, 'पत्नीसाठी': 7151, 'पत्र': 7152, 'पत्रं': 7153, 'पत्रकार': 7154, 'पत्रही': 7155, 'पत्राचं': 7156, 'पत्राचा': 7157, 'पत्राची': 7158, 'पत्रे': 7159, 'पद': 7160, 'पदवीधर': 7161, 'पदार्थ': 7162, 'पदावर': 7163, 'पदोन्नती': 7164, 'पद्धत': 7165, 'पद्धती': 7166, 'पद्धतीचा': 7167, 'पद्धतीने': 7168, 'पनीर': 7169, 'पनीरची': 7170, 'पन्नास': 7171, 'पन्नासच्या': 7172, 'पन्नासपेक्षा': 7173, 'पफ': 7174, 'पब': 7175, 'पबला': 7176, 'परंपरा': 7177, 'परंपरेने': 7178, 'परका': 7179, 'परकाच': 7180, 'परकी': 7181, 'परकीच': 7182, 'परके': 7183, 'परक्यांशी': 7184, 'परग्रहवासी': 7185, 'परग्रहवासींसारखे': 7186, 'परत': 7187, 'परतणार': 7188, 'परततील': 7189, 'परततोय': 7190, 'परतपरत': 7191, 'परतला': 7192, 'परतलात': 7193, 'परतलास': 7194, 'परतली': 7195, 'परतलीस': 7196, 'परतले': 7197, 'परतलो': 7198, 'परतल्या': 7199, 'परतल्यावर': 7200, 'परतशील': 7201, 'परतायचं': 7202, 'परतायची': 7203, 'परतायला': 7204, 'परताल': 7205, 'परतून': 7206, 'परतेन': 7207, 'परतेल': 7208, 'परदेशात': 7209, 'परदेशी': 7210, 'परदेशीयांवर': 7211, 'परभाषा': 7212, 'परमेश्वर': 7213, 'परमेश्वराचे': 7214, 'परमेश्वरावर': 7215, 'परराष्ट्रमंत्र्यांशी': 7216, 'परराष्ट्रीय': 7217, 'परवडणार': 7218, 'परवडणारं': 7219, 'परवडत': 7220, 'परवडतं': 7221, 'परवडते': 7222, 'परवडेल': 7223, 'परवा': 7224, 'परवाचा': 7225, 'परवानगी': 7226, 'परवानगीची': 7227, 'परवाना': 7228, 'परवापर्यंत': 7229, 'पराग्वे': 7230, 'पराजय': 7231, 'परिचारिका': 7232, 'परिणामकारक': 7233, 'परिपूर्ण': 7234, 'परिवहन': 7235, 'परिषद': 7236, 'परिषदेसाठी': 7237, 'परिस्थिती': 7238, 'परिस्थितीत': 7239, 'परिस्थितीला': 7240, 'परीक्षा': 7241, 'परीक्षेची': 7242, 'परीक्षेत': 7243, 'परीक्षेसाठी': 7244, 'पर्थमध्ये': 7245, 'पर्यंत': 7246, 'पर्यटक': 7247, 'पर्यन्त': 7248, 'पर्यवेक्षक': 7249, 'पर्याय': 7250, 'पर्यावरण': 7251, 'पर्यावरणाचा': 7252, 'पर्यावरणाला': 7253, 'पर्ल': 7254, 'पर्लमध्ये': 7255, 'पर्वत': 7256, 'पर्वतापेक्षा': 7257, 'पर्वतावर': 7258, 'पर्स': 7259, 'पर्समधून': 7260, 'पर्समध्ये': 7261, 'पलीकडचे': 7262, 'पलीकडच्या': 7263, 'पलीकडून': 7264, 'पलीकडे': 7265, 'पळ': 7266, 'पळण्यात': 7267, 'पळत': 7268, 'पळता': 7269, 'पळतात': 7270, 'पळताना': 7271, 'पळते': 7272, 'पळतो': 7273, 'पळवून': 7274, 'पळा': 7275, 'पळायचं': 7276, 'पळायचा': 7277, 'पळायला': 7278, 'पळालं': 7279, 'पळाला': 7280, 'पळालात': 7281, 'पळालास': 7282, 'पळाली': 7283, 'पळालीस': 7284, 'पळाले': 7285, 'पळाल्या': 7286, 'पळू': 7287, 'पळून': 7288, 'पवित्र': 7289, 'पश्चात्ताप': 7290, 'पश्चिम': 7291, 'पश्चिमात्य': 7292, 'पश्चिमेकडे': 7293, 'पश्चिमेत': 7294, 'पश्चिमेतल्या': 7295, 'पश्चिमेला': 7296, 'पसंद': 7297, 'पसरतो': 7298, 'पसरली': 7299, 'पसरले': 7300, 'पसरवणं': 7301, 'पसरवल्या': 7302, 'पसारा': 7303, 'पसार्\\u200dयासाठी': 7304, 'पहा': 7305, 'पहाटे': 7306, 'पहायचा': 7307, 'पहायला': 7308, 'पहालंय': 7309, 'पहावा': 7310, 'पहिलं': 7311, 'पहिला': 7312, 'पहिलाच': 7313, 'पहिली': 7314, 'पहिलीच': 7315, 'पहिले': 7316, 'पहिल्या': 7317, 'पहिल्यांदा': 7318, 'पहिल्यांदाच': 7319, 'पहिल्यापासून': 7320, 'पांघरुणाच्या': 7321, 'पांडा': 7322, 'पांढरं': 7323, 'पांढरा': 7324, 'पांढरी': 7325, 'पांढरे': 7326, 'पांढर्\\u200dया': 7327, 'पाइन्टच्या': 7328, 'पाइन्टप्रमाणे': 7329, 'पाउंड': 7330, 'पाउंडच्या': 7331, 'पाउंडपेक्षा': 7332, 'पाउंडाच्या': 7333, 'पाऊल': 7334, 'पाऊस': 7335, 'पाककृती': 7336, 'पाककृतींमध्ये': 7337, 'पाकिटमारांनी': 7338, 'पाकिटात': 7339, 'पाकिस्तान': 7340, 'पाकिस्तानची': 7341, 'पाकीट': 7342, 'पाच': 7343, 'पाचपर्यंत': 7344, 'पाचपाऊंडची': 7345, 'पाचपेक्षा': 7346, 'पाचला': 7347, 'पाचव्या': 7348, 'पाचशे': 7349, 'पाचही': 7350, 'पाठ': 7351, 'पाठचा': 7352, 'पाठलाग': 7353, 'पाठव': 7354, 'पाठवण्यात': 7355, 'पाठवत': 7356, 'पाठवताहेत': 7357, 'पाठवते': 7358, 'पाठवतो': 7359, 'पाठवलं': 7360, 'पाठवलंस': 7361, 'पाठवला': 7362, 'पाठवलात': 7363, 'पाठवलास': 7364, 'पाठवली': 7365, 'पाठवले': 7366, 'पाठवलेत': 7367, 'पाठवलेला': 7368, 'पाठवलेली': 7369, 'पाठवलेस': 7370, 'पाठवल्या': 7371, 'पाठवा': 7372, 'पाठवायची': 7373, 'पाठवायला': 7374, 'पाठवू': 7375, 'पाठवेन': 7376, 'पाठिंबा': 7377, 'पाठी': 7378, 'पाठीत': 7379, 'पाठीमागे': 7380, 'पाठीशी': 7381, 'पाठोपाठ': 7382, 'पाठ्यपुस्तक': 7383, 'पाठ्यपुस्तकात': 7384, 'पाठ्यपुस्तके': 7385, 'पाडला': 7386, 'पाडवण्यात': 7387, 'पाडवलं': 7388, 'पाडवली': 7389, 'पाडवायचं': 7390, 'पाडवू': 7391, 'पाणकोळी': 7392, 'पाणकोळ्यांकडे': 7393, 'पाणी': 7394, 'पाण्याचं': 7395, 'पाण्याचा': 7396, 'पाण्याची': 7397, 'पाण्यात': 7398, 'पाण्यातला': 7399, 'पाण्याने': 7400, 'पाण्यापेक्षाही': 7401, 'पाण्याबरोबर': 7402, 'पाण्याला': 7403, 'पाण्यावर': 7404, 'पाण्याशिवाय': 7405, 'पातळ': 7406, 'पात्र': 7407, 'पादलं': 7408, 'पाद्री': 7409, 'पान': 7410, 'पानं': 7411, 'पानांचा': 7412, 'पानांचे': 7413, 'पानामाला': 7414, 'पानावर': 7415, 'पानासारखा': 7416, 'पाने': 7417, 'पाप': 7418, 'पापी': 7419, 'पापींबरोबर': 7420, 'पाप्रिका': 7421, 'पाबलो': 7422, 'पाय': 7423, 'पायचे': 7424, 'पायजमा': 7425, 'पायथॉन': 7426, 'पायदळाचा': 7427, 'पायदळात': 7428, 'पायमोज्यात': 7429, 'पायरेट': 7430, 'पायर्\\u200dया': 7431, 'पायर्\\u200dयांवर': 7432, 'पायलट': 7433, 'पायांची': 7434, 'पायांचे': 7435, 'पायांना': 7436, 'पायांपेक्षा': 7437, 'पायांवर': 7438, 'पायाचा': 7439, 'पायात': 7440, 'पायातसुद्धा': 7441, 'पायातही': 7442, 'पायातून': 7443, 'पायाला': 7444, 'पायावर': 7445, 'पार': 7446, 'पारंपारिक': 7447, 'पारपत्र': 7448, 'पारा': 7449, 'पारित': 7450, 'पारितोषिक': 7451, 'पार्क': 7452, 'पार्टी': 7453, 'पार्टीची': 7454, 'पार्टीत': 7455, 'पार्टीला': 7456, 'पार्टीसाठी': 7457, 'पार्सलवरचा': 7458, 'पालक': 7459, 'पालकांनी': 7460, 'पालकांशी': 7461, 'पालकाची': 7462, 'पाळ': 7463, 'पाळणं': 7464, 'पाळणा': 7465, 'पाळणार्\\u200dया': 7466, 'पाळण्यात': 7467, 'पाळण्याशिवाय': 7468, 'पाळत': 7469, 'पाळतात': 7470, 'पाळते': 7471, 'पाळतो': 7472, 'पाळला': 7473, 'पाळली': 7474, 'पाळले': 7475, 'पाळलेले': 7476, 'पाळल्या': 7477, 'पाळा': 7478, 'पाळायचा': 7479, 'पाळायची': 7480, 'पाळी': 7481, 'पाळीव': 7482, 'पाळू': 7483, 'पाव': 7484, 'पावणे': 7485, 'पावणेतीन': 7486, 'पावती': 7487, 'पावसाचा': 7488, 'पावसाची': 7489, 'पावसाचे': 7490, 'पावसात': 7491, 'पावसाळा': 7492, 'पावसासारखं': 7493, 'पावाचा': 7494, 'पावापेक्षा': 7495, 'पाश्चात्य': 7496, 'पास': 7497, 'पासपोर्ट': 7498, 'पासपोर्टचं': 7499, 'पासपोर्टशिवाय': 7500, 'पासवर्ड': 7501, 'पासून': 7502, 'पास्ता': 7503, 'पास्तावर': 7504, 'पाहणार': 7505, 'पाहण्यासाठी': 7506, 'पाहत': 7507, 'पाहता': 7508, 'पाहताच': 7509, 'पाहतात': 7510, 'पाहते': 7511, 'पाहतेय': 7512, 'पाहतो': 7513, 'पाहतोय': 7514, 'पाहलो': 7515, 'पाहा': 7516, 'पाहायचं': 7517, 'पाहायचा': 7518, 'पाहायला': 7519, 'पाहिजे': 7520, 'पाहिजेत': 7521, 'पाहिजेस': 7522, 'पाहिलं': 7523, 'पाहिलंत': 7524, 'पाहिलंय': 7525, 'पाहिलंस': 7526, 'पाहिलंही': 7527, 'पाहिला': 7528, 'पाहिलात': 7529, 'पाहिलाय': 7530, 'पाहिलास': 7531, 'पाहिली': 7532, 'पाहिले': 7533, 'पाहिलेत': 7534, 'पाहिलेलं': 7535, 'पाहिलेला': 7536, 'पाहिलेली': 7537, 'पाहिलेस': 7538, 'पाहिल्या': 7539, 'पाहिल्यावर': 7540, 'पाहिेजे': 7541, 'पाहीजेत': 7542, 'पाहुणा': 7543, 'पाहुणे': 7544, 'पाहुण्या': 7545, 'पाहुण्यांच्या': 7546, 'पाहुण्यांना': 7547, 'पाहू': 7548, 'पाहून': 7549, 'पाहूया': 7550, 'पिंजरा': 7551, 'पिंजरे': 7552, 'पिंजर्\\u200dयात': 7553, 'पिंजर्\\u200dयातला': 7554, 'पिआनो': 7555, 'पिऊ': 7556, 'पिऊन': 7557, 'पिऊनपिऊन': 7558, 'पिऊया': 7559, 'पिकअप': 7560, 'पिकतील': 7561, 'पिकनिक': 7562, 'पिकनिकला': 7563, 'पिकलं': 7564, 'पिकली': 7565, 'पिकलेली': 7566, 'पिकासो': 7567, 'पिकासोने': 7568, 'पिकासोसारखं': 7569, 'पिकासोसारखे': 7570, 'पिकोलो': 7571, 'पिक्चर': 7572, 'पिक्चरचं': 7573, 'पिक्चरमधला': 7574, 'पिक्चरमधली': 7575, 'पिक्चरला': 7576, 'पिग्जची': 7577, 'पिचर': 7578, 'पिजा': 7579, 'पिजासुद्धा': 7580, 'पिज्जा': 7581, 'पिझा': 7582, 'पिझावर': 7583, 'पिझ्झा': 7584, 'पिझ्झाचा': 7585, 'पिझ्झाची': 7586, 'पिझ्झाचे': 7587, 'पिट': 7588, 'पिठाचा': 7589, 'पिठाची': 7590, 'पिठाने': 7591, 'पिणं': 7592, 'पिणार': 7593, 'पिणारा': 7594, 'पित': 7595, 'पितं': 7596, 'पिता': 7597, 'पितात': 7598, 'पिते': 7599, 'पितेय': 7600, 'पितेस': 7601, 'पितो': 7602, 'पितोय': 7603, 'पितोस': 7604, 'पियानिस्ट': 7605, 'पियानो': 7606, 'पियानोचा': 7607, 'पिरॅमिडच्या': 7608, 'पिल्लं': 7609, 'पिल्लाला': 7610, 'पिल्लू': 7611, 'पिल्ल्याचं': 7612, 'पिळला': 7613, 'पिवळं': 7614, 'पिवळा': 7615, 'पिवळी': 7616, 'पिवळे': 7617, 'पिवळ्या': 7618, 'पिशवी': 7619, 'पिशवीत': 7620, 'पिशवीतली': 7621, 'पिशवीतून': 7622, 'पिशव्या': 7623, 'पिसं': 7624, 'पिसले': 7625, 'पिसाचे': 7626, 'पिसे': 7627, 'पिस्ता': 7628, 'पिस्तुलीत': 7629, 'पिस्तूल': 7630, 'पी': 7631, 'पीअर्स': 7632, 'पीठ': 7633, 'पीत': 7634, 'पीतपीत': 7635, 'पीतो': 7636, 'पीनट': 7637, 'पीबीएस': 7638, 'पीस': 7639, 'पुट': 7640, 'पुडिंग': 7641, 'पुढचं': 7642, 'पुढचा': 7643, 'पुढची': 7644, 'पुढच्या': 7645, 'पुढे': 7646, 'पुढेमागे': 7647, 'पुतणी': 7648, 'पुतळा': 7649, 'पुतळे': 7650, 'पुतळ्याचं': 7651, 'पुत्र': 7652, 'पुनरुच्चार': 7653, 'पुनर्विचार': 7654, 'पुनर्विवाह': 7655, 'पुन्हा': 7656, 'पुन्हापुन्हा': 7657, 'पुरत': 7658, 'पुरतील': 7659, 'पुरले': 7660, 'पुरवतात': 7661, 'पुरवतो': 7662, 'पुरवलं': 7663, 'पुरवेल': 7664, 'पुरस्कार': 7665, 'पुराण': 7666, 'पुराणमतवादी': 7667, 'पुरामुळे': 7668, 'पुरावा': 7669, 'पुरावे': 7670, 'पुरुष': 7671, 'पुरुषांना': 7672, 'पुरुषांनी': 7673, 'पुरुषांपेक्षा': 7674, 'पुरे': 7675, 'पुरेल': 7676, 'पुरेशी': 7677, 'पुरेश्या': 7678, 'पुरेसं': 7679, 'पुरेसा': 7680, 'पुरेसे': 7681, 'पुरोहित': 7682, 'पुलं': 7683, 'पुलाखाली': 7684, 'पुलाचं': 7685, 'पुलाच्या': 7686, 'पुलामुळे': 7687, 'पुलावरून': 7688, 'पुशअप': 7689, 'पुष्कळ': 7690, 'पुष्कळदा': 7691, 'पुष्टी': 7692, 'पुस': 7693, 'पुसतो': 7694, 'पुसतोय': 7695, 'पुसलं': 7696, 'पुसला': 7697, 'पुसले': 7698, 'पुसा': 7699, 'पुसून': 7700, 'पुस्तक': 7701, 'पुस्तकं': 7702, 'पुस्तकसुद्धा': 7703, 'पुस्तकांचं': 7704, 'पुस्तकांचा': 7705, 'पुस्तकांची': 7706, 'पुस्तकांच्या': 7707, 'पुस्तकांनी': 7708, 'पुस्तकांवर': 7709, 'पुस्तकांशिवाय': 7710, 'पुस्तकाएवढं': 7711, 'पुस्तकाचं': 7712, 'पुस्तकाचा': 7713, 'पुस्तकाची': 7714, 'पुस्तकाचे': 7715, 'पुस्तकाच्या': 7716, 'पुस्तकात': 7717, 'पुस्तकातील': 7718, 'पुस्तकाने': 7719, 'पुस्तकापेक्षा': 7720, 'पुस्तकाबद्दल': 7721, 'पुस्तकाबरोबर': 7722, 'पुस्तकाला': 7723, 'पुस्तकाविषयी': 7724, 'पुस्तिका': 7725, 'पूजा': 7726, 'पूरण': 7727, 'पूर्ण': 7728, 'पूर्णपणे': 7729, 'पूर्व': 7730, 'पूर्वग्रहरहित': 7731, 'पूर्वज': 7732, 'पूर्वी': 7733, 'पूर्वीपासूनचा': 7734, 'पूर्वेकडून': 7735, 'पूर्वेकडे': 7736, 'पूर्वेला': 7737, 'पूल': 7738, 'पूलमध्ये': 7739, 'पृथ्वी': 7740, 'पृथ्वीभोवती': 7741, 'पृथ्वीवर': 7742, 'पृथ्वीवरील': 7743, 'पॅक': 7744, 'पॅकिंग': 7745, 'पॅकिंगला': 7746, 'पॅडची': 7747, 'पॅनकेक': 7748, 'पॅनकेकवर': 7749, 'पॅनकेक्सची': 7750, 'पॅरामेडिक': 7751, 'पॅराशूट': 7752, 'पॅरिस': 7753, 'पॅरिसमधून': 7754, 'पॅरिसमध्ये': 7755, 'पॅरिसला': 7756, 'पॅलेसमध्ये': 7757, 'पेंग्विन': 7758, 'पेक्षा': 7759, 'पेटवला': 7760, 'पेटवली': 7761, 'पेटवल्या': 7762, 'पेटवू': 7763, 'पेटी': 7764, 'पेट्या': 7765, 'पेट्रोल': 7766, 'पेट्रोलचा': 7767, 'पेट्रोलची': 7768, 'पेट्रोलच्या': 7769, 'पेट्रोलियम': 7770, 'पेन': 7771, 'पेनं': 7772, 'पेनने': 7773, 'पेनाने': 7774, 'पेन्सिल': 7775, 'पेन्सिली': 7776, 'पेन्सिलीची': 7777, 'पेन्सिलीने': 7778, 'पेपर': 7779, 'पेपरमध्ये': 7780, 'पेपरात': 7781, 'पेपरोनी': 7782, 'पेप्सी': 7783, 'पेय': 7784, 'पेरावे': 7785, 'पेरूमध्ये': 7786, 'पेल्यात': 7787, 'पेसो': 7788, 'पैगंबर': 7789, 'पैज': 7790, 'पैशांपेक्षा': 7791, 'पैशाचं': 7792, 'पैशाने': 7793, 'पैशे': 7794, 'पैश्यांची': 7795, 'पैश्यांसाठी': 7796, 'पैश्याची': 7797, 'पैश्याच्या': 7798, 'पैश्यासाठी': 7799, 'पैसा': 7800, 'पैसाच': 7801, 'पैसे': 7802, 'पैसेदेखील': 7803, 'पॉझ': 7804, 'पॉटमध्ये': 7805, 'पॉडकास्ट': 7806, 'पॉप': 7807, 'पॉपकॉर्न': 7808, 'पॉपकॉर्नचा': 7809, 'पॉप्युलर': 7810, 'पॉल': 7811, 'पॉलिश': 7812, 'पोकर': 7813, 'पोचले': 7814, 'पोचलो': 7815, 'पोचल्याबरोबर': 7816, 'पोट': 7817, 'पोटात': 7818, 'पोटावर': 7819, 'पोटेटोझ': 7820, 'पोनी': 7821, 'पोप': 7822, 'पोपट': 7823, 'पोपटांना': 7824, 'पोपने': 7825, 'पोयांग': 7826, 'पोर': 7827, 'पोरं': 7828, 'पोरगा': 7829, 'पोरगी': 7830, 'पोरांना': 7831, 'पोराने': 7832, 'पोरे': 7833, 'पोर्क': 7834, 'पोर्तुगलची': 7835, 'पोर्तुगाल': 7836, 'पोर्तुगालची': 7837, 'पोर्तुगीज': 7838, 'पोल': 7839, 'पोलंडची': 7840, 'पोलंडमध्ये': 7841, 'पोलंडवर': 7842, 'पोलाद': 7843, 'पोलिश': 7844, 'पोलिशमध्ये': 7845, 'पोलिसांची': 7846, 'पोलिसांना': 7847, 'पोलिसांनी': 7848, 'पोलिसांपासून': 7849, 'पोलिसांवर': 7850, 'पोलिसांशी': 7851, 'पोलीस': 7852, 'पोलीसचा': 7853, 'पोलीसांना': 7854, 'पोल्क': 7855, 'पोस्ट': 7856, 'पोस्टकार्ड': 7857, 'पोस्टर': 7858, 'पोस्टाने': 7859, 'पोस्टिंग': 7860, 'पोहचेन': 7861, 'पोहणं': 7862, 'पोहणारा': 7863, 'पोहणे': 7864, 'पोहण्याने': 7865, 'पोहत': 7866, 'पोहता': 7867, 'पोहतात': 7868, 'पोहताना': 7869, 'पोहतायत': 7870, 'पोहते': 7871, 'पोहतेस': 7872, 'पोहतो': 7873, 'पोहतोय': 7874, 'पोहतोस': 7875, 'पोहले': 7876, 'पोहलो': 7877, 'पोहशील': 7878, 'पोहायचा': 7879, 'पोहायचे': 7880, 'पोहायचो': 7881, 'पोहायला': 7882, 'पोहायलादेखील': 7883, 'पोहाल': 7884, 'पोहू': 7885, 'पोहूया': 7886, 'पोहेल': 7887, 'पोहोच': 7888, 'पोहोचणार': 7889, 'पोहोचण्याची': 7890, 'पोहोचत': 7891, 'पोहोचतं': 7892, 'पोहोचता': 7893, 'पोहोचताच': 7894, 'पोहोचतील': 7895, 'पोहोचते': 7896, 'पोहोचतेस': 7897, 'पोहोचतो': 7898, 'पोहोचलं': 7899, 'पोहोचला': 7900, 'पोहोचलाच': 7901, 'पोहोचलात': 7902, 'पोहोचलाय': 7903, 'पोहोचलास': 7904, 'पोहोचली': 7905, 'पोहोचलीच': 7906, 'पोहोचलीस': 7907, 'पोहोचले': 7908, 'पोहोचलो': 7909, 'पोहोचल्या': 7910, 'पोहोचल्याबरोबर': 7911, 'पोहोचल्याबरोबरच': 7912, 'पोहोचल्यावर': 7913, 'पोहोचवणं': 7914, 'पोहोचवणार': 7915, 'पोहोचशील': 7916, 'पोहोचा': 7917, 'पोहोचायचं': 7918, 'पोहोचायचा': 7919, 'पोहोचायला': 7920, 'पोहोचाल': 7921, 'पोहोचू': 7922, 'पोहोचेन': 7923, 'पोहोचेपर्यंत': 7924, 'पोहोचेल': 7925, 'पौरुषी': 7926, 'पौर्वात्य': 7927, 'प्या': 7928, 'प्यायचं': 7929, 'प्यायचंय': 7930, 'प्यायचा': 7931, 'प्यायची': 7932, 'प्यायला': 7933, 'प्यायलात': 7934, 'प्यायलास': 7935, 'प्यायली': 7936, 'प्यायलीस': 7937, 'प्यायले': 7938, 'प्यायलेली': 7939, 'प्यायलेलो': 7940, 'प्यायलो': 7941, 'प्यायल्याशिवाय': 7942, 'प्यावं': 7943, 'प्यावंसं': 7944, 'प्येय': 7945, 'प्रकल्प': 7946, 'प्रकल्पात': 7947, 'प्रकार': 7948, 'प्रकारचं': 7949, 'प्रकारचा': 7950, 'प्रकारची': 7951, 'प्रकारचे': 7952, 'प्रकारच्या': 7953, 'प्रकाराचे': 7954, 'प्रकाराने': 7955, 'प्रकारे': 7956, 'प्रकारेही': 7957, 'प्रकाश': 7958, 'प्रकाशचित्रण': 7959, 'प्रकाशन': 7960, 'प्रकाशहीन': 7961, 'प्रकाशित': 7962, 'प्रक्रिया': 7963, 'प्रगती': 7964, 'प्रचंड': 7965, 'प्रजासत्ताक': 7966, 'प्रजासत्ताकमध्ये': 7967, 'प्रजासत्ताकाची': 7968, 'प्रत': 7969, 'प्रतिकार': 7970, 'प्रतिद्वंद्वी': 7971, 'प्रतिनिधी': 7972, 'प्रतिबंधित': 7973, 'प्रतिभा': 7974, 'प्रतिवादी': 7975, 'प्रतिष्ठापित': 7976, 'प्रतिस्पर्धा': 7977, 'प्रतिस्पर्धी': 7978, 'प्रतीक्षा': 7979, 'प्रत्यक्ष': 7980, 'प्रत्यक्षात': 7981, 'प्रत्युत्तर': 7982, 'प्रत्येक': 7983, 'प्रत्येकाचं': 7984, 'प्रत्येकाला': 7985, 'प्रथम': 7986, 'प्रथा': 7987, 'प्रदर्शने': 7988, 'प्रदान': 7989, 'प्रदूषण': 7990, 'प्रदूषित': 7991, 'प्रदेश': 7992, 'प्रपोज': 7993, 'प्रबल': 7994, 'प्रभाव': 7995, 'प्रभावी': 7996, 'प्रमाणात': 7997, 'प्रमाणावर': 7998, 'प्रमुख': 7999, 'प्रमोशन': 8000, 'प्रयत्न': 8001, 'प्रयत्नसुद्धा': 8002, 'प्रयत्नही': 8003, 'प्रयत्नात': 8004, 'प्रयास': 8005, 'प्रयोग': 8006, 'प्रयोगशाळेत': 8007, 'प्रयोगात': 8008, 'प्रयोगाने': 8009, 'प्रवाश्यांना': 8010, 'प्रवास': 8011, 'प्रवासाची': 8012, 'प्रविष्ट': 8013, 'प्रवृति': 8014, 'प्रवृती': 8015, 'प्रवेश': 8016, 'प्रशांत': 8017, 'प्रशासकीय': 8018, 'प्रशियन': 8019, 'प्रश्न': 8020, 'प्रश्नच': 8021, 'प्रश्नांचं': 8022, 'प्रश्नांची': 8023, 'प्रश्नांपासून': 8024, 'प्रश्नाचं': 8025, 'प्रश्नाने': 8026, 'प्रश्नाला': 8027, 'प्रश्नावर': 8028, 'प्रसंग': 8029, 'प्रसिद्ध': 8030, 'प्रस्ताव': 8031, 'प्रस्तुत': 8032, 'प्रांत': 8033, 'प्राग': 8034, 'प्राचीन': 8035, 'प्राणवायूशिवाय': 8036, 'प्राणी': 8037, 'प्राणीसंग्रहालयात': 8038, 'प्राण्यांना': 8039, 'प्राण्यांमधून': 8040, 'प्राण्यांविषयी': 8041, 'प्राण्याला': 8042, 'प्राथमिक': 8043, 'प्राथमिकतः': 8044, 'प्राध्यापक': 8045, 'प्राप्त': 8046, 'प्रामाणिक': 8047, 'प्रामाणिकतेवर': 8048, 'प्रायश्चित्त': 8049, 'प्रार्थना': 8050, 'प्रिंटर': 8051, 'प्रिंटरमध्ये': 8052, 'प्रिफेक्चर': 8053, 'प्रेकारचा': 8054, 'प्रेक्षक': 8055, 'प्रेक्षकांची': 8056, 'प्रेक्षकांमध्ये': 8057, 'प्रेम': 8058, 'प्रेमपत्र': 8059, 'प्रेमप्रकरण': 8060, 'प्रेमळ': 8061, 'प्रेमही': 8062, 'प्रेमाइतकं': 8063, 'प्रेमाचंच': 8064, 'प्रेमाचा': 8065, 'प्रेमाची': 8066, 'प्रेमाच्या': 8067, 'प्रेमात': 8068, 'प्रेमाशिवाय': 8069, 'प्रेरणा': 8070, 'प्रॉब्लेम': 8071, 'प्रो': 8072, 'प्रोग्राम': 8073, 'प्रोग्रामर': 8074, 'प्रोग्रामिंग': 8075, 'प्रोच्छ': 8076, 'प्रोत्साहित': 8077, 'प्रोफाइल': 8078, 'प्रोफेसर': 8079, 'प्रोसेसर': 8080, 'प्लंबर': 8081, 'प्लासीबो': 8082, 'प्लास्टिकची': 8083, 'प्लास्टिकच्या': 8084, 'प्लीज': 8085, 'प्लॅट्फॉर्मवरून': 8086, 'प्लॅन': 8087, 'प्लेटकडे': 8088, 'प्लेटमधून': 8089, 'प्लेन्सच्या': 8090, 'प्लेयर': 8091, 'प्लेयरमध्ये': 8092, 'प्लेस्टेशन': 8093, 'फँटसी': 8094, 'फंडरेजर': 8095, 'फक्त': 8096, 'फटका': 8097, 'फडताळात': 8098, 'फणी': 8099, 'फणीने': 8100, 'फरक': 8101, 'फर्निचर': 8102, 'फळ': 8103, 'फळं': 8104, 'फळंभाज्या': 8105, 'फळांच्या': 8106, 'फळांमध्ये': 8107, 'फळांशिवाय': 8108, 'फळाचा': 8109, 'फळ्यावर': 8110, 'फसलाय': 8111, 'फसलायस': 8112, 'फसलेय': 8113, 'फसलेयत': 8114, 'फसलो': 8115, 'फसलोय': 8116, 'फसवलं': 8117, 'फसवलंत': 8118, 'फसवलंस': 8119, 'फसवायचा': 8120, 'फसवू': 8121, 'फांद्या': 8122, 'फाइल': 8123, 'फाईल': 8124, 'फाऊन्टन': 8125, 'फाटक': 8126, 'फाटकाबाहेर': 8127, 'फाटलेला': 8128, 'फाडणे': 8129, 'फाडताना': 8130, 'फाडलं': 8131, 'फाडली': 8132, 'फाडून': 8133, 'फातिमाचे': 8134, 'फातिमाच्या': 8135, 'फायटर': 8136, 'फायदा': 8137, 'फायनल': 8138, 'फायर': 8139, 'फायरफॉक्स': 8140, 'फायरवॉल': 8141, 'फायली': 8142, 'फायलींची': 8143, 'फायलीत': 8144, 'फार': 8145, 'फारच': 8146, 'फारशी': 8147, 'फारश्या': 8148, 'फारसं': 8149, 'फारसा': 8150, 'फारसीचा': 8151, 'फारसे': 8152, 'फार्मसीचं': 8153, 'फार्मसीत': 8154, 'फाशी': 8155, 'फासावर': 8156, 'फास्टफूड': 8157, 'फास्टबॉल': 8158, 'फिकीर': 8159, 'फिजिक्समध्ये': 8160, 'फिजिसिस्ट': 8161, 'फिदेल': 8162, 'फिनलँडची': 8163, 'फिनलंडवर': 8164, 'फिनिश': 8165, 'फिरत': 8166, 'फिरतंय': 8167, 'फिरतो': 8168, 'फिरलंय': 8169, 'फिरली': 8170, 'फिरव': 8171, 'फिरवतं': 8172, 'फिरवलं': 8173, 'फिरवली': 8174, 'फिरवा': 8175, 'फिरायला': 8176, 'फिरू': 8177, 'फिलिप': 8178, 'फिलिपीन': 8179, 'फिल्म': 8180, 'फिश': 8181, 'फिशअँडचिप्स': 8182, 'फिस्टबंप': 8183, 'फीनिक्स': 8184, 'फुंकून': 8185, 'फुकटमध्ये': 8186, 'फुकटात': 8187, 'फुगवटा': 8188, 'फुगा': 8189, 'फुजी': 8190, 'फुटकं': 8191, 'फुटपाथवर': 8192, 'फुटबॉल': 8193, 'फुटबॉलचं': 8194, 'फुटबॉलबद्दल': 8195, 'फुटबॉलमध्ये': 8196, 'फुटला': 8197, 'फुटेल': 8198, 'फुलं': 8199, 'फुलतात': 8200, 'फुलपाखरू': 8201, 'फुलपाखरूपेक्षा': 8202, 'फुलांचा': 8203, 'फुलांची': 8204, 'फुलांना': 8205, 'फुलांनी': 8206, 'फुलाचा': 8207, 'फुलातून': 8208, 'फुलाला': 8209, 'फुलू': 8210, 'फुले': 8211, 'फूट': 8212, 'फूल': 8213, 'फॅक्टरी': 8214, 'फॅक्टरीत': 8215, 'फॅक्टरीमध्ये': 8216, 'फॅक्टर्\\u200dया': 8217, 'फॅक्स': 8218, 'फॅन': 8219, 'फॅनकथा': 8220, 'फॅनफिक्शन': 8221, 'फॅनसमोर': 8222, 'फॅरेनहाइट': 8223, 'फॅशन': 8224, 'फॅशनेबल': 8225, 'फॅशिस्ट': 8226, 'फेक': 8227, 'फेकत': 8228, 'फेकता': 8229, 'फेकलं': 8230, 'फेकला': 8231, 'फेकली': 8232, 'फेकले': 8233, 'फेका': 8234, 'फेकू': 8235, 'फेकून': 8236, 'फेकूनच': 8237, 'फेट्यात': 8238, 'फेब्रुवारी': 8239, 'फेब्रुवारीमध्ये': 8240, 'फेरीच्या': 8241, 'फेल': 8242, 'फेसबुक': 8243, 'फेसबुकवर': 8244, 'फेसबूकवर': 8245, 'फॉग': 8246, 'फॉन्ट': 8247, 'फॉर्म': 8248, 'फॉर्मवर': 8249, 'फॉर्वर्ड': 8250, 'फॉर्वर्डने': 8251, 'फॉल': 8252, 'फॉलो': 8253, 'फॉस्टरने': 8254, 'फोटेजेनिक': 8255, 'फोटो': 8256, 'फोटोग्राफर': 8257, 'फोटोची': 8258, 'फोटोजेनिक': 8259, 'फोटोत': 8260, 'फोटोमधल्या': 8261, 'फोडली': 8262, 'फोन': 8263, 'फोनच': 8264, 'फोनचा': 8265, 'फोनची': 8266, 'फोनने': 8267, 'फोनमध्ये': 8268, 'फोनवर': 8269, 'फोनवरती': 8270, 'फोरट्रॅन': 8271, 'फोर्कलिफ्ट': 8272, 'फोर्ट': 8273, 'फोर्ड': 8274, 'फोल्डर': 8275, 'फोल्डरमध्ये': 8276, 'फौजदार': 8277, 'फ्रँक': 8278, 'फ्रँक्लिनने': 8279, 'फ्रांकोच्या': 8280, 'फ्रांस': 8281, 'फ्रांसच्या': 8282, 'फ्रांसपासून': 8283, 'फ्रांसमधील': 8284, 'फ्रांसिसको': 8285, 'फ्राईज': 8286, 'फ्राईजसुद्धा': 8287, 'फ्राईझ': 8288, 'फ्राईड': 8289, 'फ्रान्स': 8290, 'फ्रान्सइतका': 8291, 'फ्रान्सचा': 8292, 'फ्रान्सची': 8293, 'फ्रान्सपासून': 8294, 'फ्रान्समध्ये': 8295, 'फ्रान्समध्येच': 8296, 'फ्रान्सला': 8297, 'फ्रान्सवर': 8298, 'फ्रान्सिस्कोमध्ये': 8299, 'फ्रिज': 8300, 'फ्रिजकडे': 8301, 'फ्रिजमध्ये': 8302, 'फ्रिझमध्ये': 8303, 'फ्रेंच': 8304, 'फ्रेंचइतकी': 8305, 'फ्रेंचच': 8306, 'फ्रेंचचा': 8307, 'फ्रेंचची': 8308, 'फ्रेंचच्या': 8309, 'फ्रेंचदेखील': 8310, 'फ्रेंचपासून': 8311, 'फ्रेंचबरोबरच': 8312, 'फ्रेंचमधील': 8313, 'फ्रेंचमधून': 8314, 'फ्रेंचमध्ये': 8315, 'फ्रेंचसुद्धा': 8316, 'फ्रेंचांच्या': 8317, 'फ्रेंचांना': 8318, 'फ्लर्ट': 8319, 'फ्लाइट': 8320, 'फ्लाइटवर': 8321, 'फ्लाईट': 8322, 'फ्लू': 8323, 'फ्लॅट': 8324, 'फ्लॅटची': 8325, 'फ्लॅटमधून': 8326, 'फ्लॅटमध्ये': 8327, 'फ्लॅश': 8328, 'फ्लेव्हर': 8329, 'फ्लोरिडावर': 8330, 'फ्लोरेंस': 8331, 'बँँडमध्ये': 8332, 'बँक': 8333, 'बँका': 8334, 'बँकांनी': 8335, 'बँकांपेक्षा': 8336, 'बँकेत': 8337, 'बँकेतून': 8338, 'बँकेने': 8339, 'बँकेला': 8340, 'बँकेवर': 8341, 'बँगकॉक': 8342, 'बँड': 8343, 'बँडचा': 8344, 'बँडची': 8345, 'बँडमध्ये': 8346, 'बँडविड्थ': 8347, 'बँडसोबत': 8348, 'बँडेज': 8349, 'बंडखोरांनी': 8350, 'बंद': 8351, 'बंदच': 8352, 'बंदी': 8353, 'बंदुका': 8354, 'बंदुकीचा': 8355, 'बंदुकीची': 8356, 'बंदुकीच्या': 8357, 'बंदुकीने': 8358, 'बंदुकीला': 8359, 'बंदुकीशी': 8360, 'बंदूक': 8361, 'बंदूकधारी': 8362, 'बंदोबस्त': 8363, 'बंधू': 8364, 'बकरा': 8365, 'बकरे': 8366, 'बकर्\\u200dया': 8367, 'बकिंगहॅम': 8368, 'बक्षीस': 8369, 'बक्षीसेला': 8370, 'बग': 8371, 'बगदाद': 8372, 'बगळा': 8373, 'बघ': 8374, 'बघणं': 8375, 'बघणार': 8376, 'बघण्याऐवजी': 8377, 'बघण्यात': 8378, 'बघण्यापेक्षा': 8379, 'बघण्यालायक': 8380, 'बघण्यासारखं': 8381, 'बघण्यासारखा': 8382, 'बघत': 8383, 'बघतंय': 8384, 'बघतय': 8385, 'बघतलं': 8386, 'बघता': 8387, 'बघताच': 8388, 'बघतात': 8389, 'बघताय': 8390, 'बघताहेत': 8391, 'बघते': 8392, 'बघतेय': 8393, 'बघतेयस': 8394, 'बघतेस': 8395, 'बघतो': 8396, 'बघतोय': 8397, 'बघतोयस': 8398, 'बघतोस': 8399, 'बघशील': 8400, 'बघा': 8401, 'बघायचं': 8402, 'बघायचंय': 8403, 'बघायचा': 8404, 'बघायचाय': 8405, 'बघायची': 8406, 'बघायचीय': 8407, 'बघायचे': 8408, 'बघायचो': 8409, 'बघायला': 8410, 'बघाल': 8411, 'बघावं': 8412, 'बघाविशी': 8413, 'बघावी': 8414, 'बघितलं': 8415, 'बघितलंत': 8416, 'बघितलंय': 8417, 'बघितलंस': 8418, 'बघितलंसुद्धा': 8419, 'बघितला': 8420, 'बघितलात': 8421, 'बघितलास': 8422, 'बघितली': 8423, 'बघितले': 8424, 'बघितलेत': 8425, 'बघितलेलं': 8426, 'बघितलेस': 8427, 'बघितल्या': 8428, 'बघितल्याबरोबरच': 8429, 'बघुया': 8430, 'बघू': 8431, 'बघून': 8432, 'बघूया': 8433, 'बघेन': 8434, 'बघेल': 8435, 'बझर': 8436, 'बटण': 8437, 'बटणं': 8438, 'बटणवर': 8439, 'बटर': 8440, 'बटरमध्ये': 8441, 'बटवा': 8442, 'बटाटा': 8443, 'बटाटे': 8444, 'बटाट्यांपेक्षा': 8445, 'बटाट्यांसाठी': 8446, 'बटाट्याचं': 8447, 'बडबड': 8448, 'बडबडत': 8449, 'बडबडतो': 8450, 'बडबड्या': 8451, 'बदक': 8452, 'बदकांना': 8453, 'बदकाला': 8454, 'बदकासारखं': 8455, 'बदके': 8456, 'बदल': 8457, 'बदलणं': 8458, 'बदलणार': 8459, 'बदलण्यात': 8460, 'बदलत': 8461, 'बदलतं': 8462, 'बदलतंय': 8463, 'बदलतात': 8464, 'बदलते': 8465, 'बदलतो': 8466, 'बदललं': 8467, 'बदलला': 8468, 'बदललात': 8469, 'बदललास': 8470, 'बदलली': 8471, 'बदलले': 8472, 'बदलल्या': 8473, 'बदला': 8474, 'बदलायचं': 8475, 'बदलायचा': 8476, 'बदलायची': 8477, 'बदलायला': 8478, 'बदली': 8479, 'बदलू': 8480, 'बदलून': 8481, 'बदलूया': 8482, 'बदलेन': 8483, 'बदलेल': 8484, 'बदल्यात': 8485, 'बदाम': 8486, 'बदामचा': 8487, 'बधितलं': 8488, 'बनणार': 8489, 'बनण्याचा': 8490, 'बनण्याची': 8491, 'बनत': 8492, 'बनतं': 8493, 'बनते': 8494, 'बनतो': 8495, 'बनतोय': 8496, 'बनलं': 8497, 'बनला': 8498, 'बनली': 8499, 'बनले': 8500, 'बनलेलं': 8501, 'बनलेला': 8502, 'बनलेली': 8503, 'बनलेल्या': 8504, 'बनलो': 8505, 'बनल्या': 8506, 'बनव': 8507, 'बनवणं': 8508, 'बनवण्याअगोदर': 8509, 'बनवण्यात': 8510, 'बनवत': 8511, 'बनवता': 8512, 'बनवतात': 8513, 'बनवते': 8514, 'बनवतेय': 8515, 'बनवतेस': 8516, 'बनवतो': 8517, 'बनवतोय': 8518, 'बनवतोस': 8519, 'बनवलं': 8520, 'बनवलंत': 8521, 'बनवलंय': 8522, 'बनवलंस': 8523, 'बनवलत': 8524, 'बनवला': 8525, 'बनवली': 8526, 'बनवलीत': 8527, 'बनवलीस': 8528, 'बनवले': 8529, 'बनवलेलं': 8530, 'बनवलेला': 8531, 'बनवलेली': 8532, 'बनवलेल्या': 8533, 'बनवल्या': 8534, 'बनवशील': 8535, 'बनवा': 8536, 'बनवायचं': 8537, 'बनवायचा': 8538, 'बनवायचे': 8539, 'बनवायला': 8540, 'बनवाल': 8541, 'बनवून': 8542, 'बनवूया': 8543, 'बनवेन': 8544, 'बनवेल': 8545, 'बनशील': 8546, 'बनायचं': 8547, 'बनायचंय': 8548, 'बनायचा': 8549, 'बनायची': 8550, 'बनायला': 8551, 'बनावटीची': 8552, 'बनू': 8553, 'बनेल': 8554, 'बरं': 8555, 'बरंय': 8556, 'बरज': 8557, 'बरा': 8558, 'बरी': 8559, 'बरे': 8560, 'बरेचदा': 8561, 'बरेसे': 8562, 'बरोबर': 8563, 'बरोबरच': 8564, 'बरोबरची': 8565, 'बरोब्बर': 8566, 'बर्गर': 8567, 'बर्गरवर्गर': 8568, 'बर्थडे': 8569, 'बर्न': 8570, 'बर्फ': 8571, 'बर्फाइतकं': 8572, 'बर्फाइतकी': 8573, 'बर्फाचा': 8574, 'बर्फाचे': 8575, 'बर्फात': 8576, 'बर्फाने': 8577, 'बर्फापेक्षा': 8578, 'बर्फाबरोबर': 8579, 'बर्फामुळे': 8580, 'बर्फावर': 8581, 'बर्फासारखं': 8582, 'बर्फासारखा': 8583, 'बर्फासारखी': 8584, 'बर्फासारखे': 8585, 'बर्रची': 8586, 'बर्रने': 8587, 'बर्लिन': 8588, 'बर्लिनची': 8589, 'बर्\\u200dया': 8590, 'बर्\\u200dयापैकी': 8591, 'बर्\\u200dयापैकीच': 8592, 'बलवान': 8593, 'बल्ब': 8594, 'बल्बचा': 8595, 'बळकावला': 8596, 'बळी': 8597, 'बशीत': 8598, 'बश्या': 8599, 'बस': 8600, 'बसचं': 8601, 'बसचालकाने': 8602, 'बसची': 8603, 'बसचे': 8604, 'बसच्या': 8605, 'बसणार': 8606, 'बसण्यात': 8607, 'बसण्यापेक्षा': 8608, 'बसत': 8609, 'बसतात': 8610, 'बसताना': 8611, 'बसते': 8612, 'बसतो': 8613, 'बसने': 8614, 'बसमधून': 8615, 'बसमध्ये': 8616, 'बसलं': 8617, 'बसला': 8618, 'बसलाय': 8619, 'बसली': 8620, 'बसले': 8621, 'बसलेय': 8622, 'बसलेला': 8623, 'बसलेली': 8624, 'बसलेले': 8625, 'बसलो': 8626, 'बसलोय': 8627, 'बसल्या': 8628, 'बसवण्यात': 8629, 'बसवर': 8630, 'बसवली': 8631, 'बसवल्या': 8632, 'बसवायची': 8633, 'बसवू': 8634, 'बसवून': 8635, 'बसशील': 8636, 'बससाठी': 8637, 'बसस्टॉपच्या': 8638, 'बसा': 8639, 'बसायचं': 8640, 'बसायला': 8641, 'बसावंसं': 8642, 'बसू': 8643, 'बसून': 8644, 'बसूनच': 8645, 'बसूया': 8646, 'बसेन': 8647, 'बसेल': 8648, 'बहिणी': 8649, 'बहिणींना': 8650, 'बहिणीइतका': 8651, 'बहिणीइतकी': 8652, 'बहिणीइतके': 8653, 'बहिणीकडे': 8654, 'बहिणीचं': 8655, 'बहिणीचा': 8656, 'बहिणीची': 8657, 'बहिणीने': 8658, 'बहिणीनेच': 8659, 'बहिणीपेक्षा': 8660, 'बहिणीबरोबर': 8661, 'बहिणीला': 8662, 'बहिणीलासुद्धा': 8663, 'बहिणीशी': 8664, 'बहिणीसाठी': 8665, 'बहिणीसारखा': 8666, 'बहिणीसारखी': 8667, 'बहिणीसारखे': 8668, 'बहिणीसारख्या': 8669, 'बहिरा': 8670, 'बहिरी': 8671, 'बहीण': 8672, 'बहीणभाऊ': 8673, 'बहीणीएवढ्या': 8674, 'बहीणीकडे': 8675, 'बहुतंतु': 8676, 'बहुतांश': 8677, 'बहुतेक': 8678, 'बहुधा': 8679, 'बहुसंख्य': 8680, 'बाँगो': 8681, 'बाँब': 8682, 'बाँबबद्दल': 8683, 'बांग्लादेश': 8684, 'बांधकाम': 8685, 'बांधण्यात': 8686, 'बांधताहेत': 8687, 'बांधतील': 8688, 'बांधतोय': 8689, 'बांधलं': 8690, 'बांधला': 8691, 'बांधली': 8692, 'बांधले': 8693, 'बांधलेलं': 8694, 'बांधलेला': 8695, 'बांधलेले': 8696, 'बांधल्या': 8697, 'बांधायचं': 8698, 'बांधायला': 8699, 'बांधून': 8700, 'बांधूया': 8701, 'बाइक': 8702, 'बाइकवरून': 8703, 'बाइकाल': 8704, 'बाई': 8705, 'बाईक': 8706, 'बाईकचा': 8707, 'बाईकडे': 8708, 'बाईकला': 8709, 'बाईकवर': 8710, 'बाईचा': 8711, 'बाईबरोबर': 8712, 'बाईला': 8713, 'बाईशी': 8714, 'बाउन्स': 8715, 'बाउल': 8716, 'बाउलमधून': 8717, 'बाकावर': 8718, 'बाकी': 8719, 'बाकीचं': 8720, 'बाकीची': 8721, 'बाकीचे': 8722, 'बाकीच्या': 8723, 'बाकीच्यांच्या': 8724, 'बाकीच्यांना': 8725, 'बाकीच्यांनी': 8726, 'बाकीच्यांपेक्षा': 8727, 'बाकीच्यांशी': 8728, 'बाग': 8729, 'बागेकडे': 8730, 'बागेचा': 8731, 'बागेच्या': 8732, 'बागेत': 8733, 'बागेतलं': 8734, 'बागेतले': 8735, 'बागेतल्या': 8736, 'बागेतील': 8737, 'बाजार': 8738, 'बाजारात': 8739, 'बाजारातून': 8740, 'बाजू': 8741, 'बाजूंमध्ये': 8742, 'बाजूचं': 8743, 'बाजूचा': 8744, 'बाजूची': 8745, 'बाजूच्या': 8746, 'बाजूने': 8747, 'बाजूबाजूला': 8748, 'बाजूला': 8749, 'बाजूलाच': 8750, 'बाजूवा': 8751, 'बाटली': 8752, 'बाटलीत': 8753, 'बाटलीने': 8754, 'बाटल्या': 8755, 'बाण': 8756, 'बातमी': 8757, 'बातमीनुसार': 8758, 'बातमीने': 8759, 'बातम्या': 8760, 'बातम्यांची': 8761, 'बातम्यांनी': 8762, 'बातम्यांमध्ये': 8763, 'बाथरुम': 8764, 'बाथरूम': 8765, 'बाथरूमच्या': 8766, 'बाथरूममधले': 8767, 'बाथरूममध्ये': 8768, 'बाथरूमला': 8769, 'बाथरोब': 8770, 'बादली': 8771, 'बादलीत': 8772, 'बाप': 8773, 'बापाला': 8774, 'बापासारखाच': 8775, 'बाब': 8776, 'बाबतीत': 8777, 'बाबा': 8778, 'बाबांकडे': 8779, 'बाबांचं': 8780, 'बाबांचा': 8781, 'बाबांची': 8782, 'बाबांचे': 8783, 'बाबांच्या': 8784, 'बाबांना': 8785, 'बाबांनी': 8786, 'बाबांपेक्षा': 8787, 'बाबांबरोबर': 8788, 'बाबांसारखं': 8789, 'बाबांसारखा': 8790, 'बाबांसारखाच': 8791, 'बाबांसारखी': 8792, 'बाबांसोबत': 8793, 'बायका': 8794, 'बायकांची': 8795, 'बायकांना': 8796, 'बायको': 8797, 'बायकोच': 8798, 'बायकोचं': 8799, 'बायकोचा': 8800, 'बायकोची': 8801, 'बायकोचे': 8802, 'बायकोने': 8803, 'बायकोबरोबर': 8804, 'बायकोमुलं': 8805, 'बायकोला': 8806, 'बायकोवर': 8807, 'बायकोशी': 8808, 'बायकोसाठी': 8809, 'बायकोसुद्धा': 8810, 'बायबल': 8811, 'बायबलचा': 8812, 'बायबलमध्ये': 8813, 'बायोकेमिस्ट': 8814, 'बार': 8815, 'बारकाईने': 8816, 'बारचं': 8817, 'बारमध्ये': 8818, 'बारा': 8819, 'बारीक': 8820, 'बारीकच': 8821, 'बार्टेंडर': 8822, 'बार्टेंडरकडून': 8823, 'बार्टेन्डर': 8824, 'बार्तोलोमेओ': 8825, 'बार्बेक्यू': 8826, 'बार्स': 8827, 'बार्सेलोना': 8828, 'बालकाच्या': 8829, 'बालरोगतज्ञ': 8830, 'बाल्कन': 8831, 'बाळ': 8832, 'बाळं': 8833, 'बाळाचं': 8834, 'बाळाची': 8835, 'बाळाचे': 8836, 'बाळाने': 8837, 'बाळाप्रमाणे': 8838, 'बाळाबरोबर': 8839, 'बाळाला': 8840, 'बाळासारखा': 8841, 'बावली': 8842, 'बावलीचे': 8843, 'बावळट': 8844, 'बावळत': 8845, 'बावीस': 8846, 'बाशो': 8847, 'बास्क': 8848, 'बास्केटबॉल': 8849, 'बाहुली': 8850, 'बाहुलीची': 8851, 'बाहुलीबरोबर': 8852, 'बाहुलीला': 8853, 'बाहुल्या': 8854, 'बाहुल्यांबरोबर': 8855, 'बाहेर': 8856, 'बाहेरगावी': 8857, 'बाहेरच': 8858, 'बाहेरचं': 8859, 'बाहेरून': 8860, 'बिअर': 8861, 'बिग': 8862, 'बिघडत': 8863, 'बिघडलं': 8864, 'बिघडला': 8865, 'बिघडली': 8866, 'बिघडलेलं': 8867, 'बिघडलेला': 8868, 'बिघडलेल्या': 8869, 'बिघडवलं': 8870, 'बिघडवला': 8871, 'बिघडवली': 8872, 'बिघडवून': 8873, 'बिघडून': 8874, 'बिचारी': 8875, 'बिझी': 8876, 'बिनसाखरेचा': 8877, 'बिनसाखरेची': 8878, 'बिबट्यात': 8879, 'बियर': 8880, 'बियरच्या': 8881, 'बियरपासून': 8882, 'बियरसाठी': 8883, 'बिया': 8884, 'बिल': 8885, 'बिलं': 8886, 'बिलचं': 8887, 'बिलिअर्ड्ज': 8888, 'बिल्डिंग': 8889, 'बिल्डिंगची': 8890, 'बिल्डिंगच्या': 8891, 'बिल्डिंगमध्ये': 8892, 'बिल्डिंगसमोर': 8893, 'बिल्डिंमध्येच': 8894, 'बिवा': 8895, 'बिशारा': 8896, 'बिस्कीट': 8897, 'बी': 8898, 'बीअर': 8899, 'बीअरची': 8900, 'बीअरच्या': 8901, 'बीअरला': 8902, 'बीएलटी': 8903, 'बीच': 8904, 'बीजिंग': 8905, 'बीजिंगमध्ये': 8906, 'बीट्निक': 8907, 'बीफ': 8908, 'बीमध्ये': 8909, 'बीयर': 8910, 'बुक': 8911, 'बुकमार्क': 8912, 'बुखारेस्ट': 8913, 'बुटं': 8914, 'बुटका': 8915, 'बुटकी': 8916, 'बुटांची': 8917, 'बुटांच्या': 8918, 'बुटात': 8919, 'बुडणार': 8920, 'बुडत': 8921, 'बुडतं': 8922, 'बुडला': 8923, 'बुडले': 8924, 'बुडलेच': 8925, 'बुडलोच': 8926, 'बुडल्या': 8927, 'बुडवलं': 8928, 'बुडवली': 8929, 'बुडवलेलच': 8930, 'बुडू': 8931, 'बुडून': 8932, 'बुडॉपेश्ट': 8933, 'बुद्धिबळ': 8934, 'बुद्धिबळही': 8935, 'बुद्धिबळाच्या': 8936, 'बुद्धिबळात': 8937, 'बुद्धिमान': 8938, 'बुद्धी': 8939, 'बुद्धीची': 8940, 'बुद्धीबळ': 8941, 'बुध': 8942, 'बुधवार': 8943, 'बुधवारपर्यंत': 8944, 'बुधवारी': 8945, 'बुर्ज': 8946, 'बुलफाइटरपेक्षा': 8947, 'बुलफाइटिंग': 8948, 'बुलेटप्रूफ': 8949, 'बूट': 8950, 'बूटांचं': 8951, 'बूट्स': 8952, 'बॅंकेत': 8953, 'बॅंकेसाठी': 8954, 'बॅकअप': 8955, 'बॅकलिट': 8956, 'बॅक्टेरियामुळे': 8957, 'बॅग': 8958, 'बॅगा': 8959, 'बॅगेची': 8960, 'बॅगेत': 8961, 'बॅगेतली': 8962, 'बॅगेतून': 8963, 'बॅचलर': 8964, 'बॅटमॅनसारखे': 8965, 'बॅटर': 8966, 'बॅटरी': 8967, 'बॅटरीवर': 8968, 'बॅटर्\\u200dयांची': 8969, 'बॅन्ड': 8970, 'बॅर्गन': 8971, 'बॅले': 8972, 'बॅलेरिना': 8973, 'बॅल्टिक': 8974, 'बॅल्टिमोरमध्ये': 8975, 'बेअर': 8976, 'बेईमान': 8977, 'बेक': 8978, 'बेकन': 8979, 'बेकनचा': 8980, 'बेकरी': 8981, 'बेकरीत': 8982, 'बेकरीला': 8983, 'बेकायदेशीर': 8984, 'बेकार': 8985, 'बेकिंग': 8986, 'बेगल': 8987, 'बेघर': 8988, 'बेजबाबदार': 8989, 'बेट': 8990, 'बेटं': 8991, 'बेटहोफन': 8992, 'बेटांचे': 8993, 'बेटांमधून': 8994, 'बेटावर': 8995, 'बेड': 8996, 'बेडकं': 8997, 'बेडकाला': 8998, 'बेडकावर': 8999, 'बेडखाली': 9000, 'बेडच्या': 9001, 'बेडमध्ये': 9002, 'बेडरूम': 9003, 'बेडरूमचं': 9004, 'बेडरूमचा': 9005, 'बेडरूमच्या': 9006, 'बेडरूममध्ये': 9007, 'बेडवर': 9008, 'बेडूक': 9009, 'बेथलेहेममध्ये': 9010, 'बेन्जमिन': 9011, 'बेरीज': 9012, 'बेरोजगार': 9013, 'बेरोजगारीचा': 9014, 'बेल': 9015, 'बेलग्रेड': 9016, 'बेलने': 9017, 'बेलो': 9018, 'बेल्जियम': 9019, 'बेल्जियमची': 9020, 'बेल्जियमपासून': 9021, 'बेल्जियममध्ये': 9022, 'बेल्ट': 9023, 'बेवडा': 9024, 'बेशुद्ध': 9025, 'बेशुद्धंय': 9026, 'बेस': 9027, 'बेसबॉल': 9028, 'बेसबॉलची': 9029, 'बेसबॉलपेक्षा': 9030, 'बेसबॉलबद्दल': 9031, 'बेसबॉलमध्या': 9032, 'बेसबॉलमध्ये': 9033, 'बेसबॉस': 9034, 'बेसमेंटमध्ये': 9035, 'बेसिनमध्ये': 9036, 'बैल': 9037, 'बॉक्स': 9038, 'बॉक्समध्ये': 9039, 'बॉक्सर': 9040, 'बॉटल': 9041, 'बॉडिगार्डांची': 9042, 'बॉडीगार्ड': 9043, 'बॉडीगार्डची': 9044, 'बॉनेटवर': 9045, 'बॉन्ड': 9046, 'बॉयफ्रेंड': 9047, 'बॉयफ्रेंडचं': 9048, 'बॉयफ्रेंडची': 9049, 'बॉयफ्रेंडबरोबर': 9050, 'बॉयफ्रेंडसाठी': 9051, 'बॉयफ्रेंडही': 9052, 'बॉल': 9053, 'बॉलपेनने': 9054, 'बॉलला': 9055, 'बॉस': 9056, 'बॉस्टन': 9057, 'बॉस्टनचा': 9058, 'बॉस्टनची': 9059, 'बॉस्टनचे': 9060, 'बॉस्टनच्या': 9061, 'बॉस्टनजवळ': 9062, 'बॉस्टनपासून': 9063, 'बॉस्टनबद्दल': 9064, 'बॉस्टनबाबत': 9065, 'बॉस्टनमधलं': 9066, 'बॉस्टनमधल्या': 9067, 'बॉस्टनमधील': 9068, 'बॉस्टनमधून': 9069, 'बॉस्टनमध्ये': 9070, 'बॉस्टनमध्येच': 9071, 'बॉस्टनला': 9072, 'बॉस्टनवरून': 9073, 'बॉस्टनविषयी': 9074, 'बॉस्टनसारख्या': 9075, 'बॉस्टनहून': 9076, 'बो': 9077, 'बोके': 9078, 'बोक्याचं': 9079, 'बोगद्यातून': 9080, 'बोगेतल्या': 9081, 'बोजूलाच': 9082, 'बोट': 9083, 'बोटं': 9084, 'बोटची': 9085, 'बोटांनी': 9086, 'बोटांनीच': 9087, 'बोटाला': 9088, 'बोटी': 9089, 'बोटीचं': 9090, 'बोटीने': 9091, 'बोनापार्ट': 9092, 'बोनापार्टचा': 9093, 'बोर्डिंग': 9094, 'बोल': 9095, 'बोलणं': 9096, 'बोलणार': 9097, 'बोलणारा': 9098, 'बोलणारी': 9099, 'बोलणारे': 9100, 'बोलणार्\\u200dया': 9101, 'बोलणी': 9102, 'बोलणे': 9103, 'बोलण्याअगोदर': 9104, 'बोलण्याआधी': 9105, 'बोलण्याचं': 9106, 'बोलण्याची': 9107, 'बोलण्यात': 9108, 'बोलण्यापेक्षा': 9109, 'बोलण्यार्\\u200dयांपैकी': 9110, 'बोलत': 9111, 'बोलतं': 9112, 'बोलतंय': 9113, 'बोलतच': 9114, 'बोलतही': 9115, 'बोलता': 9116, 'बोलताच': 9117, 'बोलतात': 9118, 'बोलताना': 9119, 'बोलताहेत': 9120, 'बोलते': 9121, 'बोलतेय': 9122, 'बोलतेयस': 9123, 'बोलतेस': 9124, 'बोलतो': 9125, 'बोलतोय': 9126, 'बोलतोयस': 9127, 'बोलतोस': 9128, 'बोललं': 9129, 'बोलला': 9130, 'बोललात': 9131, 'बोललास': 9132, 'बोलली': 9133, 'बोललीस': 9134, 'बोलले': 9135, 'बोललेलं': 9136, 'बोललेल्याचं': 9137, 'बोललो': 9138, 'बोललोच': 9139, 'बोलल्या': 9140, 'बोलव': 9141, 'बोलवत': 9142, 'बोलवतंय': 9143, 'बोलवते': 9144, 'बोलवतेय': 9145, 'बोलवतो': 9146, 'बोलवतोय': 9147, 'बोलवलं': 9148, 'बोलवली': 9149, 'बोलवलीत': 9150, 'बोलवलीस': 9151, 'बोलवले': 9152, 'बोलवशील': 9153, 'बोलवा': 9154, 'बोलवायचं': 9155, 'बोलवायला': 9156, 'बोलवाल': 9157, 'बोलवू': 9158, 'बोलवेन': 9159, 'बोलवेपर्यंत': 9160, 'बोलवेल': 9161, 'बोला': 9162, 'बोलायचं': 9163, 'बोलायचंय': 9164, 'बोलायचा': 9165, 'बोलायची': 9166, 'बोलायचे': 9167, 'बोलायचो': 9168, 'बोलायला': 9169, 'बोलावं': 9170, 'बोलावंसं': 9171, 'बोलावणार': 9172, 'बोलावणारच': 9173, 'बोलावण्यानंतर': 9174, 'बोलावतंय': 9175, 'बोलावते': 9176, 'बोलावतो': 9177, 'बोलावलं': 9178, 'बोलावलंत': 9179, 'बोलावलंस': 9180, 'बोलावली': 9181, 'बोलावले': 9182, 'बोलावीशी': 9183, 'बोलीभाषा': 9184, 'बोलुया': 9185, 'बोलू': 9186, 'बोलून': 9187, 'बोलूया': 9188, 'बोलेन': 9189, 'बोलेल': 9190, 'बोलोन्या': 9191, 'बोळणं': 9192, 'बोळणारी': 9193, 'बोस्टनमध्ये': 9194, 'बोेलला': 9195, 'बौद्ध': 9196, 'बौद्धधर्म': 9197, 'बौद्धधर्माची': 9198, 'ब्याण्णव': 9199, 'ब्रँडची': 9200, 'ब्रँडी': 9201, 'ब्रंच': 9202, 'ब्रटिश': 9203, 'ब्रम्हांडाची': 9204, 'ब्रश': 9205, 'ब्रशने': 9206, 'ब्रह्मांडात': 9207, 'ब्रह्मानंद': 9208, 'ब्रा': 9209, 'ब्राउजर': 9210, 'ब्राउझर': 9211, 'ब्राउझरचा': 9212, 'ब्राउनने': 9213, 'ब्राउनी': 9214, 'ब्राजिलची': 9215, 'ब्राजिलपासून': 9216, 'ब्राजिलला': 9217, 'ब्राजिलहून': 9218, 'ब्राजिलियन': 9219, 'ब्राजील': 9220, 'ब्राझिल': 9221, 'ब्राझिलला': 9222, 'ब्राझील': 9223, 'ब्राझीलची': 9224, 'ब्राझीलपासून': 9225, 'ब्राझीलमधील': 9226, 'ब्रामध्ये': 9227, 'ब्रासिलिया': 9228, 'ब्रिज': 9229, 'ब्रिटन': 9230, 'ब्रिटनकडे': 9231, 'ब्रिटनचा': 9232, 'ब्रिटनची': 9233, 'ब्रिटनने': 9234, 'ब्रिटनपासून': 9235, 'ब्रिटनबरोबर': 9236, 'ब्रिटनमध्ये': 9237, 'ब्रिटनला': 9238, 'ब्रिटिश': 9239, 'ब्रिटिशांना': 9240, 'ब्रिटिशांनी': 9241, 'ब्रिटिशांपेक्षा': 9242, 'ब्रीड्ज': 9243, 'ब्रीफकेस': 9244, 'ब्रुसेल्स': 9245, 'ब्रॅड': 9246, 'ब्रेड': 9247, 'ब्रेडचा': 9248, 'ब्रेडपेक्षा': 9249, 'ब्रेस्ट': 9250, 'ब्रॉकोली': 9251, 'ब्लाँडी': 9252, 'ब्लाउज': 9253, 'ब्लाऊज': 9254, 'ब्लास्को': 9255, 'ब्लीचसारखा': 9256, 'ब्लूग्रास': 9257, 'ब्लॅंकेट': 9258, 'ब्लॅक': 9259, 'ब्लॅकअँडव्हाईटमध्ये': 9260, 'ब्लॅकबेरी': 9261, 'ब्लॅकमेल': 9262, 'ब्लॅकलिस्ट': 9263, 'ब्लॉग': 9264, 'ब्लॉगर': 9265, 'ब्लॉगवर': 9266, 'ब्लोटॉर्च': 9267, 'भंकस': 9268, 'भंडवलाची': 9269, 'भटकत': 9270, 'भटक्या': 9271, 'भडक': 9272, 'भडकवू': 9273, 'भयंकर': 9274, 'भयानक': 9275, 'भर': 9276, 'भरणार': 9277, 'भरण्यात': 9278, 'भरत': 9279, 'भरती': 9280, 'भरते': 9281, 'भरतो': 9282, 'भरपूर': 9283, 'भरलं': 9284, 'भरलंय': 9285, 'भरला': 9286, 'भरली': 9287, 'भरले': 9288, 'भरलेलं': 9289, 'भरलेला': 9290, 'भरलेली': 9291, 'भरल्या': 9292, 'भरल्यावर': 9293, 'भरवत': 9294, 'भरवतं': 9295, 'भरवते': 9296, 'भरवतेय': 9297, 'भरवतेस': 9298, 'भरवतो': 9299, 'भरवतोय': 9300, 'भरवतोस': 9301, 'भरवलं': 9302, 'भरवलंस': 9303, 'भरवला': 9304, 'भरवसा': 9305, 'भरवायला': 9306, 'भरवू': 9307, 'भरा': 9308, 'भरायचे': 9309, 'भरायला': 9310, 'भरायलाच': 9311, 'भराल': 9312, 'भरावा': 9313, 'भरावे': 9314, 'भरू': 9315, 'भरून': 9316, 'भरेन': 9317, 'भरेल': 9318, 'भऱली': 9319, 'भलं': 9320, 'भलतच': 9321, 'भलताच': 9322, 'भल्यासाठीच': 9323, 'भवितव्य': 9324, 'भविष्य': 9325, 'भविष्यवाणी': 9326, 'भविष्याचं': 9327, 'भविष्याचा': 9328, 'भविष्यात': 9329, 'भविष्याबद्दल': 9330, 'भविष्याविषयी': 9331, 'भव्य': 9332, 'भांगडीसाठी': 9333, 'भांडण': 9334, 'भांडणं': 9335, 'भांडण्यात': 9336, 'भांडत': 9337, 'भांडतात': 9338, 'भांडताहेत': 9339, 'भांडते': 9340, 'भांडतो': 9341, 'भांडतोय': 9342, 'भांडले': 9343, 'भांडलो': 9344, 'भांडल्या': 9345, 'भांडवलाची': 9346, 'भांडायचं': 9347, 'भांडायला': 9348, 'भांडी': 9349, 'भांडू': 9350, 'भाऊ': 9351, 'भाऊच': 9352, 'भाऊबहिण': 9353, 'भाऊबहीण': 9354, 'भाकरी': 9355, 'भाग': 9356, 'भागांत': 9357, 'भागांमध्ये': 9358, 'भागाची': 9359, 'भागात': 9360, 'भागेत': 9361, 'भाग्यवान': 9362, 'भाचा': 9363, 'भाची': 9364, 'भाचे': 9365, 'भाच्याचं': 9366, 'भाजला': 9367, 'भाजलेलं': 9368, 'भाजलेल्या': 9369, 'भाजी': 9370, 'भाजून': 9371, 'भाज्या': 9372, 'भाज्यांचा': 9373, 'भाज्यांपेक्षा': 9374, 'भाडं': 9375, 'भाडे': 9376, 'भाड्याने': 9377, 'भाड्यावर': 9378, 'भात': 9379, 'भाताची': 9380, 'भारत': 9381, 'भारताची': 9382, 'भारताच्या': 9383, 'भारतात': 9384, 'भारतातलं': 9385, 'भारतातील': 9386, 'भारताने': 9387, 'भारतापासून': 9388, 'भारतापेक्षा': 9389, 'भारताबद्दल': 9390, 'भारताबद्दलच्या': 9391, 'भारताला': 9392, 'भारतावर': 9393, 'भारतीय': 9394, 'भारतीयांबरोबर': 9395, 'भाले': 9396, 'भाल्याने': 9397, 'भाव': 9398, 'भावना': 9399, 'भावनांविषयी': 9400, 'भावांना': 9401, 'भावाइतका': 9402, 'भावाचं': 9403, 'भावाचा': 9404, 'भावाची': 9405, 'भावाने': 9406, 'भावापेक्षा': 9407, 'भावाला': 9408, 'भावासारखा': 9409, 'भावासारखी': 9410, 'भावासारखे': 9411, 'भाषण': 9412, 'भाषणाच्या': 9413, 'भाषणातील': 9414, 'भाषणाने': 9415, 'भाषणे': 9416, 'भाषा': 9417, 'भाषांचा': 9418, 'भाषांच्या': 9419, 'भाषांतर': 9420, 'भाषांतरकार': 9421, 'भाषांतरित': 9422, 'भाषांमधील': 9423, 'भाषांमध्ये': 9424, 'भाषांविषयी': 9425, 'भाषिकांची': 9426, 'भाषेंचा': 9427, 'भाषेचा': 9428, 'भाषेची': 9429, 'भाषेत': 9430, 'भाषेपासून': 9431, 'भाषेला': 9432, 'भाषेविषयी': 9433, 'भाष्य': 9434, 'भिंत': 9435, 'भिंतींतून': 9436, 'भिंतींना': 9437, 'भिंतीखाली': 9438, 'भिंतीच्या': 9439, 'भिंतीत': 9440, 'भिंतीमागे': 9441, 'भिंतीला': 9442, 'भिंतीवर': 9443, 'भिंतीवरील': 9444, 'भिकारी': 9445, 'भिकार्\\u200dयांना': 9446, 'भिकार्\\u200dयाला': 9447, 'भिजली': 9448, 'भिजले': 9449, 'भिजलेला': 9450, 'भिजवला': 9451, 'भिजशील': 9452, 'भिजाल': 9453, 'भिजू': 9454, 'भिजून': 9455, 'भितरा': 9456, 'भिती': 9457, 'भितो': 9458, 'भित्रा': 9459, 'भित्री': 9460, 'भित्रे': 9461, 'भित्र्या': 9462, 'भी': 9463, 'भीक': 9464, 'भीत': 9465, 'भीती': 9466, 'भीतीने': 9467, 'भुंकणं': 9468, 'भुंकणारे': 9469, 'भुंकत': 9470, 'भुंकतात': 9471, 'भुंकतो': 9472, 'भुंकतोय': 9473, 'भुंकला': 9474, 'भुंकले': 9475, 'भुंकायला': 9476, 'भुंकू': 9477, 'भुकंप': 9478, 'भुकंपात': 9479, 'भुकंपामुळे': 9480, 'भुकलेले': 9481, 'भुकलेलो': 9482, 'भुकेने': 9483, 'भुकेमुळे': 9484, 'भुकेले': 9485, 'भुकेलेलं': 9486, 'भुकेल्या': 9487, 'भुतं': 9488, 'भुतांची': 9489, 'भुतांच्या': 9490, 'भुतांवर': 9491, 'भुयारातून': 9492, 'भुयारी': 9493, 'भूक': 9494, 'भूकंप': 9495, 'भूगोल': 9496, 'भूगोलापेक्षा': 9497, 'भूचर': 9498, 'भूत': 9499, 'भूतकाळात': 9500, 'भूतांचं': 9501, 'भूतांबद्दल': 9502, 'भूतांमध्ये': 9503, 'भूदल': 9504, 'भूप्रदेश': 9505, 'भूमध्य': 9506, 'भूमिका': 9507, 'भेंडीची': 9508, 'भेंड्या': 9509, 'भेट': 9510, 'भेटत': 9511, 'भेटता': 9512, 'भेटतात': 9513, 'भेटते': 9514, 'भेटतो': 9515, 'भेटतोय': 9516, 'भेटला': 9517, 'भेटलात': 9518, 'भेटलास': 9519, 'भेटली': 9520, 'भेटलीस': 9521, 'भेटले': 9522, 'भेटलेलं': 9523, 'भेटलेला': 9524, 'भेटलेले': 9525, 'भेटलेलो': 9526, 'भेटलो': 9527, 'भेटलोय': 9528, 'भेटल्या': 9529, 'भेटवस्तू': 9530, 'भेटा': 9531, 'भेटायचं': 9532, 'भेटायचंय': 9533, 'भेटायला': 9534, 'भेटावं': 9535, 'भेटुया': 9536, 'भेटू': 9537, 'भेटून': 9538, 'भेटूया': 9539, 'भेटेन': 9540, 'भेटेल': 9541, 'भेदभाव': 9542, 'भैकेर': 9543, 'भोक': 9544, 'भोकं': 9545, 'भोवती': 9546, 'भोवतीच्या': 9547, 'भोसकलं': 9548, 'भोसकले': 9549, 'भौतिकवादी': 9550, 'भौतिकशास्त्र': 9551, 'भौतिकशास्त्रज्ञ': 9552, 'भौतिकशास्त्रवेत्ता': 9553, 'भौतिकशास्त्रात': 9554, 'भौतिकीविज्ञ': 9555, 'भ्रमिष्ट': 9556, 'भ्रष्टाचार': 9557, 'भ्रष्टाचारापासून': 9558, 'मँडोलिन': 9559, 'मँडोलिनदेखील': 9560, 'मंकी': 9561, 'मंगळवार': 9562, 'मंगळवारी': 9563, 'मंगळाला': 9564, 'मंगळावर': 9565, 'मंगोलियाची': 9566, 'मंजुरी': 9567, 'मंडळाचा': 9568, 'मंडळाची': 9569, 'मंडळाचे': 9570, 'मंत्रिमंडळाचा': 9571, 'मंत्रिमंडळाचे': 9572, 'मंत्रिमंडळाने': 9573, 'मंत्री': 9574, 'मंत्र्याला': 9575, 'मंदिरं': 9576, 'मंदिरांमधून': 9577, 'मंदिराजवळ': 9578, 'मंदिरात': 9579, 'मंदिराला': 9580, 'मंदीर': 9581, 'मऊ': 9582, 'मकिन्लेला': 9583, 'मक्का': 9584, 'मक्किनलेने': 9585, 'मक्केला': 9586, 'मग': 9587, 'मगरी': 9588, 'मगरीने': 9589, 'मजकूर': 9590, 'मजबूत': 9591, 'मजला': 9592, 'मजली': 9593, 'मजले': 9594, 'मजल्यावर': 9595, 'मजा': 9596, 'मजेशीर': 9597, 'मटण': 9598, 'मटणही': 9599, 'मटर': 9600, 'मठ्ठ': 9601, 'मत': 9602, 'मतं': 9603, 'मतदान': 9604, 'मतदारांना': 9605, 'मते': 9606, 'मत्रिणी': 9607, 'मत्सर': 9608, 'मत्सरी': 9609, 'मद': 9610, 'मदत': 9611, 'मदतही': 9612, 'मदतीची': 9613, 'मदतीशिवाय': 9614, 'मदतीस': 9615, 'मदर': 9616, 'मदर्स': 9617, 'मदिना': 9618, 'मध': 9619, 'मधमाश्या': 9620, 'मधली': 9621, 'मधील': 9622, 'मधून': 9623, 'मधोमध': 9624, 'मध्य': 9625, 'मध्यकालीन': 9626, 'मध्यपूर्व': 9627, 'मध्यपूर्वेत': 9628, 'मध्यपूर्वेतील': 9629, 'मध्यमवर्गीय': 9630, 'मध्ययुगात': 9631, 'मध्यरात्र': 9632, 'मध्यरात्री': 9633, 'मध्यरात्रीपर्यंत': 9634, 'मध्ये': 9635, 'मन': 9636, 'मनरो': 9637, 'मनाचा': 9638, 'मनाची': 9639, 'मनाचे': 9640, 'मनात': 9641, 'मनाने': 9642, 'मनापासून': 9643, 'मनाबाहेर': 9644, 'मनुष्य': 9645, 'मनुष्यांचा': 9646, 'मनोरंजक': 9647, 'मनोरंजन': 9648, 'मनोरंजनाचं': 9649, 'मनोरा': 9650, 'मनोवेधक': 9651, 'मफिन': 9652, 'मम्मा': 9653, 'मम्मी': 9654, 'मर': 9655, 'मरणं': 9656, 'मरणार': 9657, 'मरणारच': 9658, 'मरण्यापेक्षा': 9659, 'मरत': 9660, 'मरतंय': 9661, 'मरतात': 9662, 'मरताना': 9663, 'मरताहेत': 9664, 'मरतील': 9665, 'मरतेय': 9666, 'मरतो': 9667, 'मरतोय': 9668, 'मरशील': 9669, 'मरा': 9670, 'मरायचं': 9671, 'मरायला': 9672, 'मराल': 9673, 'मरीन': 9674, 'मरीला': 9675, 'मरू': 9676, 'मरूच': 9677, 'मरून': 9678, 'मरूनच': 9679, 'मरेन': 9680, 'मरेपर्यंत': 9681, 'मरेल': 9682, 'मर्चंट': 9683, 'मर्जीप्रमाणे': 9684, 'मर्यादा': 9685, 'मर्यादित': 9686, 'मला': 9687, 'मलाच': 9688, 'मलातरी': 9689, 'मलादेखील': 9690, 'मलापण': 9691, 'मलासुद्धा': 9692, 'मलाही': 9693, 'मलेशियापासून': 9694, 'मलेशियामधील': 9695, 'मशरूमचा': 9696, 'मशिदी': 9697, 'मशिदीत': 9698, 'मशिदीवर': 9699, 'मशीन': 9700, 'मशीनचा': 9701, 'मशीनमध्ये': 9702, 'मशीनी': 9703, 'मशीनीत': 9704, 'मसकापाव': 9705, 'मसल': 9706, 'मस्त': 9707, 'मस्तच': 9708, 'मस्तपैकी': 9709, 'मस्तीखोर': 9710, 'महटलेलं': 9711, 'महणून': 9712, 'महत्त्वपूर्ण': 9713, 'महत्त्वाचं': 9714, 'महत्त्वाचा': 9715, 'महत्त्वाची': 9716, 'महत्त्वाचे': 9717, 'महत्त्वाच्या': 9718, 'महाग': 9719, 'महागडं': 9720, 'महागडा': 9721, 'महागडाही': 9722, 'महागडी': 9723, 'महागडे': 9724, 'महागड्या': 9725, 'महान': 9726, 'महापौर': 9727, 'महामार्ग': 9728, 'महामार्गावर': 9729, 'महाराणीचा': 9730, 'महाराष्ट्र': 9731, 'महाल': 9732, 'महालात': 9733, 'महाविद्यालयांच्या': 9734, 'महाविद्यालयात': 9735, 'महाविद्यालयाने': 9736, 'महाशक्ती': 9737, 'महासागर': 9738, 'महासागराच्या': 9739, 'महासागराजवळ': 9740, 'महासागरात': 9741, 'महासागरापाशी': 9742, 'महिना': 9743, 'महिने': 9744, 'महिन्यांचं': 9745, 'महिन्यांचा': 9746, 'महिन्यांची': 9747, 'महिन्यांत': 9748, 'महिन्यांनंतर': 9749, 'महिन्यांनी': 9750, 'महिन्यांपूर्वी': 9751, 'महिन्याचं': 9752, 'महिन्याच्या': 9753, 'महिन्यात': 9754, 'महिन्यातून': 9755, 'महिन्यापासून': 9756, 'महिन्यापूर्वी': 9757, 'महिन्यापूर्वीची': 9758, 'महिन्यापेक्षा': 9759, 'महिन्याला': 9760, 'महिला': 9761, 'महिलेसारखा': 9762, 'महीन्याच्या': 9763, 'मांगूंगी।': 9764, 'मांजर': 9765, 'मांजरांना': 9766, 'मांजरांपेक्षा': 9767, 'मांजरांशी': 9768, 'मांजराच्या': 9769, 'मांजराने': 9770, 'मांजराला': 9771, 'मांजराशी': 9772, 'मांजरी': 9773, 'मांजरींना': 9774, 'मांजरींपेक्षा': 9775, 'मांजरीचं': 9776, 'मांजरीचा': 9777, 'मांजरीची': 9778, 'मांजरीच्या': 9779, 'मांजरीला': 9780, 'मांजरीवर': 9781, 'मांडी': 9782, 'मांडीवर': 9783, 'मांडू': 9784, 'मांस': 9785, 'मांसाचा': 9786, 'मांसाहारी': 9787, 'माइक': 9788, 'माउस': 9789, 'माऊ': 9790, 'माऊस': 9791, 'माओरी': 9792, 'माकड': 9793, 'माकडं': 9794, 'माकडंसुद्धा': 9795, 'माकडांना': 9796, 'माकडांसाठी': 9797, 'माकडाचं': 9798, 'माकडाला': 9799, 'माकडासारखा': 9800, 'माखलेली': 9801, 'माखलेले': 9802, 'माग': 9803, 'मागच्या': 9804, 'मागणार': 9805, 'मागणी': 9806, 'मागण्या': 9807, 'मागत': 9808, 'मागतात': 9809, 'मागतो': 9810, 'मागवतात': 9811, 'मागवतेय': 9812, 'मागवतो': 9813, 'मागवतोय': 9814, 'मागवलं': 9815, 'मागवलंय': 9816, 'मागवला': 9817, 'मागवली': 9818, 'मागवले': 9819, 'मागवलेत': 9820, 'मागवलेस': 9821, 'मागवशील': 9822, 'मागवाल': 9823, 'मागवू': 9824, 'मागवूया': 9825, 'मागवेन': 9826, 'मागवेल': 9827, 'मागायची': 9828, 'मागायला': 9829, 'मागितलं': 9830, 'मागितली': 9831, 'मागितलीत': 9832, 'मागितलीस': 9833, 'मागितले': 9834, 'मागू': 9835, 'मागून': 9836, 'मागे': 9837, 'मागेच': 9838, 'मागेन': 9839, 'मागेमागे': 9840, 'मागोमाग': 9841, 'माघार': 9842, 'माघे': 9843, 'माचिस': 9844, 'माचीस': 9845, 'माझं': 9846, 'माझंही': 9847, 'माझा': 9848, 'माझाच': 9849, 'माझी': 9850, 'माझीच': 9851, 'माझे': 9852, 'माझेच': 9853, 'माझ्या': 9854, 'माझ्याइतका': 9855, 'माझ्याइतकाच': 9856, 'माझ्याइतकी': 9857, 'माझ्याइतके': 9858, 'माझ्याइतक्या': 9859, 'माझ्याएवढाच': 9860, 'माझ्याकडून': 9861, 'माझ्याकडे': 9862, 'माझ्याकडेसुद्धा': 9863, 'माझ्याकडेही': 9864, 'माझ्याच': 9865, 'माझ्याजवळ': 9866, 'माझ्यात': 9867, 'माझ्यानंतर': 9868, 'माझ्यापासून': 9869, 'माझ्यापासूनसुद्धा': 9870, 'माझ्यापुरतं': 9871, 'माझ्यापेक्षा': 9872, 'माझ्यापेक्षाही': 9873, 'माझ्याबद्दल': 9874, 'माझ्याबरोबर': 9875, 'माझ्याबरोबरच': 9876, 'माझ्याबरोबरही': 9877, 'माझ्यामुळे': 9878, 'माझ्यामुळेच': 9879, 'माझ्यावर': 9880, 'माझ्याविरुद्ध': 9881, 'माझ्याशिवाय': 9882, 'माझ्याशी': 9883, 'माझ्यासमोर': 9884, 'माझ्यासाठी': 9885, 'माझ्यासाठीच': 9886, 'माझ्यासारखा': 9887, 'माझ्यासारखाच': 9888, 'माझ्यासारख्या': 9889, 'माझ्यासोबत': 9890, 'माठात': 9891, 'माणसं': 9892, 'माणसांची': 9893, 'माणसांना': 9894, 'माणसांनी': 9895, 'माणसांबरोबर': 9896, 'माणसांमधील': 9897, 'माणसाकडे': 9898, 'माणसाचं': 9899, 'माणसाचा': 9900, 'माणसाची': 9901, 'माणसाचे': 9902, 'माणसाच्या': 9903, 'माणसाने': 9904, 'माणसापेक्षा': 9905, 'माणसाला': 9906, 'माणसावर': 9907, 'माणसाशिवाय': 9908, 'माणसाशी': 9909, 'माणसासाठी': 9910, 'माणसासारखा': 9911, 'माणसे': 9912, 'माणुस': 9913, 'माणूस': 9914, 'माती': 9915, 'मातीचा': 9916, 'मातीत': 9917, 'मातृभाषा': 9918, 'मातृभाषेचा': 9919, 'मात्र': 9920, 'मात्सुएमध्ये': 9921, 'मात्सुयामाला': 9922, 'माध्यमाने': 9923, 'माध्यमिक': 9924, 'मान': 9925, 'मानत': 9926, 'मानता': 9927, 'मानतात': 9928, 'मानते': 9929, 'मानतेस': 9930, 'मानतो': 9931, 'मानतोस': 9932, 'मानली': 9933, 'मानले': 9934, 'मानव': 9935, 'मानवच': 9936, 'मानवतेच्या': 9937, 'मानवाची': 9938, 'मानवी': 9939, 'मानसशास्त्राची': 9940, 'मानसिक': 9941, 'मानसोपचारज्ञ': 9942, 'मानायची': 9943, 'मानायचे': 9944, 'मानिला': 9945, 'मानू': 9946, 'मान्य': 9947, 'मान्यता': 9948, 'माप': 9949, 'माफ': 9950, 'माफ़ी': 9951, 'माफी': 9952, 'मामा': 9953, 'मामांची': 9954, 'मामाचं': 9955, 'मामाची': 9956, 'मामाच्या': 9957, 'मामाने': 9958, 'मामाबरोबर': 9959, 'मामाला': 9960, 'मामासोबत': 9961, 'मामी': 9962, 'मामीने': 9963, 'मामीबरोबर': 9964, 'मामीला': 9965, 'मामीसारखी': 9966, 'मामेबहीण': 9967, 'मामेभाऊ': 9968, 'माय': 9969, 'मायक्रोचिप': 9970, 'मायक्रोफोन': 9971, 'मायक्रोफोनच्या': 9972, 'मायक्रोबायोलॉजिस्ट': 9973, 'मायक्रोव्हेव': 9974, 'मार': 9975, 'मारणं': 9976, 'मारणार': 9977, 'मारण्याइतपत': 9978, 'मारण्याची': 9979, 'मारण्यात': 9980, 'मारत': 9981, 'मारतं': 9982, 'मारतंय': 9983, 'मारता': 9984, 'मारतात': 9985, 'मारताना': 9986, 'मारताहेत': 9987, 'मारतील': 9988, 'मारते': 9989, 'मारतेस': 9990, 'मारतो': 9991, 'मारतोय': 9992, 'मारतोस': 9993, 'मारलं': 9994, 'मारलंत': 9995, 'मारलंस': 9996, 'मारला': 9997, 'मारलास': 9998, 'मारली': 9999, 'मारलीत': 10000, 'मारलीस': 10001, 'मारले': 10002, 'मारलेला': 10003, 'मारल्या': 10004, 'मारा': 10005, 'मारामारी': 10006, 'मारायचं': 10007, 'मारायचा': 10008, 'मारायचो': 10009, 'मारायला': 10010, 'मारू': 10011, 'मारून': 10012, 'मारूया': 10013, 'मारेकरी': 10014, 'मारेन': 10015, 'मारेल': 10016, 'मार्क': 10017, 'मार्कोनीने': 10018, 'मार्ग': 10019, 'मार्गदर्शक': 10020, 'मार्गारिनमधला': 10021, 'मार्गावर': 10022, 'मार्गे': 10023, 'मार्च': 10024, 'मार्मलेडमध्ये': 10025, 'मार्शमॅलो': 10026, 'मालक': 10027, 'मालकाची': 10028, 'मालकाशी': 10029, 'मालकीचं': 10030, 'मालकीचा': 10031, 'मालकीची': 10032, 'मालकीचे': 10033, 'मालकीण': 10034, 'मालाचं': 10035, 'मालिका': 10036, 'माळ': 10037, 'मावळत': 10038, 'मावळतो': 10039, 'मावळला': 10040, 'मावशी': 10041, 'मावशीने': 10042, 'मावशीबरोबर': 10043, 'मावशीला': 10044, 'मावशीसारखी': 10045, 'माशांना': 10046, 'माशी': 10047, 'माश्या': 10048, 'माश्यांना': 10049, 'माश्यांसाठी': 10050, 'माश्याला': 10051, 'मासा': 10052, 'मासिक': 10053, 'मासिकं': 10054, 'मासिकाचा': 10055, 'मासिके': 10056, 'मासे': 10057, 'मासेमारी': 10058, 'मास्क': 10059, 'माहजाँग': 10060, 'माहिती': 10061, 'माहितीची': 10062, 'माहितीमधून': 10063, 'माहितीये': 10064, 'माहितीसाठी': 10065, 'माहीत': 10066, 'माहीतच': 10067, 'माहीतही': 10068, 'माहूत': 10069, 'माहेरी': 10070, 'मिट': 10071, 'मिटतो': 10072, 'मिटले': 10073, 'मिठाची': 10074, 'मिठी': 10075, 'मित्र': 10076, 'मित्रं': 10077, 'मित्रदेश': 10078, 'मित्रमैत्रिणी': 10079, 'मित्रमैत्रिणींकडे': 10080, 'मित्रमैत्रिणींना': 10081, 'मित्रमैत्रिणींबरोबर': 10082, 'मित्रमैत्रिणींशी': 10083, 'मित्रमैत्रीणींबरोबर': 10084, 'मित्रराष्ट्र': 10085, 'मित्रराष्ट्रांना': 10086, 'मित्रराष्ट्रांमध्ये': 10087, 'मित्रराष्ट्रे': 10088, 'मित्रा': 10089, 'मित्रांकडून': 10090, 'मित्रांकडे': 10091, 'मित्रांचा': 10092, 'मित्रांची': 10093, 'मित्रांना': 10094, 'मित्रांनी': 10095, 'मित्रांपेक्षा': 10096, 'मित्रांबरोबर': 10097, 'मित्रांमधला': 10098, 'मित्रांवर': 10099, 'मित्रांशी': 10100, 'मित्रांसोबत': 10101, 'मित्राकडून': 10102, 'मित्राकडे': 10103, 'मित्राचं': 10104, 'मित्राचा': 10105, 'मित्राची': 10106, 'मित्राच्या': 10107, 'मित्राने': 10108, 'मित्राबरोबर': 10109, 'मित्राला': 10110, 'मित्रासाठी': 10111, 'मिनाचान': 10112, 'मिनिट': 10113, 'मिनिटं': 10114, 'मिनिटंच': 10115, 'मिनिटांची': 10116, 'मिनिटांच्या': 10117, 'मिनिटांत': 10118, 'मिनिटांनंतर': 10119, 'मिनिटांपूर्वी': 10120, 'मिनिटांपेक्षा': 10121, 'मिनिटांमध्ये': 10122, 'मिनिटांवर': 10123, 'मिनिटांवरच': 10124, 'मिनिटांसाठी': 10125, 'मिनिटात': 10126, 'मिनिटासाठी': 10127, 'मिनिटे': 10128, 'मिनिफ्रिज': 10129, 'मिनिमाइझ': 10130, 'मिनिस्कर्ट': 10131, 'मिनीट': 10132, 'मिनीटं': 10133, 'मिनेसॉटाचा': 10134, 'मिन्सपाय': 10135, 'मिरी': 10136, 'मिलर': 10137, 'मिलरने': 10138, 'मिळणार': 10139, 'मिळत': 10140, 'मिळतं': 10141, 'मिळतात': 10142, 'मिळतील': 10143, 'मिळते': 10144, 'मिळवणं': 10145, 'मिळवत': 10146, 'मिळवलं': 10147, 'मिळवलंय': 10148, 'मिळवले': 10149, 'मिळवायला': 10150, 'मिळवून': 10151, 'मिळायचे': 10152, 'मिळालं': 10153, 'मिळालंच': 10154, 'मिळाला': 10155, 'मिळाली': 10156, 'मिळाले': 10157, 'मिळालेलं': 10158, 'मिळालेला': 10159, 'मिळालेल्या': 10160, 'मिळाल्या': 10161, 'मिळाल्याबरोबरच': 10162, 'मिळाल्यावर': 10163, 'मिळाल्यास': 10164, 'मिळू': 10165, 'मिळेल': 10166, 'मिशिगनमध्ये': 10167, 'मिशी': 10168, 'मिसळ': 10169, 'मिसळत': 10170, 'मिसळतोय': 10171, 'मिसळा': 10172, 'मिसळून': 10173, 'मिसिसिपीला': 10174, 'मिसो': 10175, 'मी': 10176, 'मीच': 10177, 'मीटर': 10178, 'मीटिंग': 10179, 'मीटिंगला': 10180, 'मीटिंगसाठी': 10181, 'मीठ': 10182, 'मीडिया': 10183, 'मीदेखील': 10184, 'मीसुद्धा': 10185, 'मीही': 10186, 'मुंग्या': 10187, 'मुंबई': 10188, 'मुकुट': 10189, 'मुकूट': 10190, 'मुक्काम': 10191, 'मुक्त': 10192, 'मुखवटा': 10193, 'मुखवटे': 10194, 'मुख्य': 10195, 'मुख्यालय': 10196, 'मुझे': 10197, 'मुठभर': 10198, 'मुदत': 10199, 'मुद्दा': 10200, 'मुद्दामून': 10201, 'मुद्द्यांमधून': 10202, 'मुद्द्याकडे': 10203, 'मुद्द्यावर': 10204, 'मुद्रण': 10205, 'मुरगळला': 10206, 'मुलं': 10207, 'मुलंसुद्धा': 10208, 'मुलगा': 10209, 'मुलगामुलगी': 10210, 'मुलगी': 10211, 'मुलांचं': 10212, 'मुलांची': 10213, 'मुलांचे': 10214, 'मुलांच्या': 10215, 'मुलांना': 10216, 'मुलांनादेखील': 10217, 'मुलांनासुद्धा': 10218, 'मुलांनी': 10219, 'मुलांनो': 10220, 'मुलांपेक्षा': 10221, 'मुलांबरोबर': 10222, 'मुलांमधला': 10223, 'मुलांमध्ये': 10224, 'मुलांवर': 10225, 'मुलांशी': 10226, 'मुलांसमोर': 10227, 'मुलांसाठी': 10228, 'मुलाकडे': 10229, 'मुलाखत': 10230, 'मुलाचं': 10231, 'मुलाचा': 10232, 'मुलाची': 10233, 'मुलाचे': 10234, 'मुलाच्या': 10235, 'मुलाने': 10236, 'मुलाबरोबर': 10237, 'मुलाला': 10238, 'मुलावर': 10239, 'मुलाशी': 10240, 'मुलासाठी': 10241, 'मुलासारखं': 10242, 'मुलासारखा': 10243, 'मुलासारखी': 10244, 'मुलासारखे': 10245, 'मुलासोबत': 10246, 'मुली': 10247, 'मुलींकडे': 10248, 'मुलींची': 10249, 'मुलींना': 10250, 'मुलींनो': 10251, 'मुलींपैकी': 10252, 'मुलींबरोबर': 10253, 'मुलींसाठी': 10254, 'मुलींसारखी': 10255, 'मुलीचं': 10256, 'मुलीचा': 10257, 'मुलीची': 10258, 'मुलीचे': 10259, 'मुलीच्या': 10260, 'मुलीने': 10261, 'मुलीपासनं': 10262, 'मुलीपासून': 10263, 'मुलीपेक्षा': 10264, 'मुलीबद्दल': 10265, 'मुलीबरोबर': 10266, 'मुलीला': 10267, 'मुलीवर': 10268, 'मुलीशी': 10269, 'मुलीसाठी': 10270, 'मुलीसारखं': 10271, 'मुलीसारखा': 10272, 'मुलीसारखी': 10273, 'मुलीसारखे': 10274, 'मुलीसारख्या': 10275, 'मुले': 10276, 'मुलेबाळे': 10277, 'मुळीच': 10278, 'मुळे': 10279, 'मुसलमान': 10280, 'मुसलमानांचं': 10281, 'मुसळधार': 10282, 'मुस्लिम': 10283, 'मुहम्मद': 10284, 'मूड': 10285, 'मूडमध्ये': 10286, 'मूर्ख': 10287, 'मूर्खच': 10288, 'मूर्खपणा': 10289, 'मूर्खपणासाठी': 10290, 'मूर्खा': 10291, 'मूर्खासारखं': 10292, 'मूर्खासारखा': 10293, 'मूर्खासारखी': 10294, 'मूर्खासारखे': 10295, 'मूर्खासारख्या': 10296, 'मूर्ती': 10297, 'मूर्त्या': 10298, 'मूल': 10299, 'मूलतः': 10300, 'मूलसुद्धा': 10301, 'मूलाला': 10302, 'मूली': 10303, 'मूल्ट्री': 10304, 'मूल्ट्रीमध्ये': 10305, 'मूळतः': 10306, 'मृत': 10307, 'मृत्युदंड': 10308, 'मृत्यू': 10309, 'मृत्यूची': 10310, 'मृत्यूनंतर': 10311, 'मृत्यूबाबत': 10312, 'मृत्यूला': 10313, 'मृत्यूशी': 10314, 'मृत्यूसाठी': 10315, 'मृदहीन': 10316, 'मॅकरोनीअँडचीझ': 10317, 'मॅग्नेटिक': 10318, 'मॅच': 10319, 'मॅनिक्युरिस्ट': 10320, 'मॅनेजमेंट': 10321, 'मॅनेजर': 10322, 'मॅनेजरशी': 10323, 'मॅन्युअल': 10324, 'मॅरथॉन': 10325, 'मॅरिलिन': 10326, 'मॅरी': 10327, 'मॅरीकडे': 10328, 'मॅरीच्या': 10329, 'मॅरीला': 10330, 'मॅरेज': 10331, 'मॅश्ड': 10332, 'मॅसेच्युसेट्समध्ये': 10333, 'मे': 10334, 'मेंढी': 10335, 'मेंढ्या': 10336, 'मेंढ्यांनी': 10337, 'मेइजिचं': 10338, 'मेकअप': 10339, 'मेकॅनिक': 10340, 'मेकॅनिककडून': 10341, 'मेकॅनिकल': 10342, 'मेक्सिकन': 10343, 'मेक्सिको': 10344, 'मेक्सिकोचा': 10345, 'मेक्सिकोची': 10346, 'मेक्सिकोत': 10347, 'मेक्सिकोमध्ये': 10348, 'मेक्सिकोला': 10349, 'मेक्सिकोविरुद्ध': 10350, 'मेगानेबाशी': 10351, 'मेगुरोमध्ये': 10352, 'मेटल': 10353, 'मेड्रिड': 10354, 'मेणबत्ती': 10355, 'मेणबत्तीचा': 10356, 'मेणबत्तीला': 10357, 'मेणबत्त्या': 10358, 'मेन्यू': 10359, 'मेपासून': 10360, 'मेमध्ये': 10361, 'मेमो': 10362, 'मेयर': 10363, 'मेरी': 10364, 'मेरींच्या': 10365, 'मेरींना': 10366, 'मेरीकडून': 10367, 'मेरीकडे': 10368, 'मेरीच': 10369, 'मेरीचं': 10370, 'मेरीचंही': 10371, 'मेरीचा': 10372, 'मेरीची': 10373, 'मेरीचे': 10374, 'मेरीच्या': 10375, 'मेरीजवळ': 10376, 'मेरीजितका': 10377, 'मेरीत': 10378, 'मेरीनंतर': 10379, 'मेरीने': 10380, 'मेरीपासून': 10381, 'मेरीपेक्षा': 10382, 'मेरीबद्दल': 10383, 'मेरीबरोबर': 10384, 'मेरीमध्ये': 10385, 'मेरीला': 10386, 'मेरीवर': 10387, 'मेरीविषयी': 10388, 'मेरीशिवाय': 10389, 'मेरीशी': 10390, 'मेरीशीच': 10391, 'मेरीसमोर': 10392, 'मेरीसहित': 10393, 'मेरीसाठी': 10394, 'मेरीसोबत': 10395, 'मेरीही': 10396, 'मेलं': 10397, 'मेला': 10398, 'मेलाच': 10399, 'मेलाय': 10400, 'मेली': 10401, 'मेले': 10402, 'मेलेलं': 10403, 'मेलेला': 10404, 'मेलेली': 10405, 'मेलेले': 10406, 'मेलो': 10407, 'मेलोय': 10408, 'मेल्या': 10409, 'मेसेज': 10410, 'मेसोपोटेमियामध्ये': 10411, 'मेहनत': 10412, 'मेहनती': 10413, 'मेहनतीची': 10414, 'मेहनतीने': 10415, 'मेहनतीला': 10416, 'मेहेरबानी': 10417, 'मैं': 10418, 'मैत्रिण': 10419, 'मैत्रिणी': 10420, 'मैत्रिणींकडे': 10421, 'मैत्रिणींची': 10422, 'मैत्रिणींना': 10423, 'मैत्रिणींबरोबर': 10424, 'मैत्रिणींवर': 10425, 'मैत्रिणींशी': 10426, 'मैत्रिणीकडून': 10427, 'मैत्रिणीचं': 10428, 'मैत्रिणीचा': 10429, 'मैत्रिणीने': 10430, 'मैत्रिणीला': 10431, 'मैत्री': 10432, 'मैत्रीची': 10433, 'मैत्रीण': 10434, 'मैत्रीणी': 10435, 'मैत्रीपेक्षा': 10436, 'मैदानांच्या': 10437, 'मैदानात': 10438, 'मैदानावर': 10439, 'मैदानी': 10440, 'मैल': 10441, 'मैलमध्ये': 10442, 'मैलात': 10443, 'मॉडेल': 10444, 'मॉडेलला': 10445, 'मॉनरोच्या': 10446, 'मॉनरोला': 10447, 'मॉरमॉन': 10448, 'मॉरोकोची': 10449, 'मॉरोक्कोत': 10450, 'मॉरोक्कोमध्ये': 10451, 'मॉर्फिन': 10452, 'मॉर्मनांनी': 10453, 'मॉलला': 10454, 'मोकळा': 10455, 'मोकळी': 10456, 'मोकळे': 10457, 'मोकळ्या': 10458, 'मोकळ्याने': 10459, 'मोज': 10460, 'मोजणार': 10461, 'मोजणी': 10462, 'मोजत': 10463, 'मोजता': 10464, 'मोजतोय': 10465, 'मोजले': 10466, 'मोजा': 10467, 'मोजायचं': 10468, 'मोजू': 10469, 'मोजे': 10470, 'मोज्यात': 10471, 'मोटर': 10472, 'मोटरमध्ये': 10473, 'मोटरसायकल': 10474, 'मोटारसायकल': 10475, 'मोटारसायकलवर': 10476, 'मोटारसायकलीवर': 10477, 'मोठं': 10478, 'मोठमोठे': 10479, 'मोठा': 10480, 'मोठाही': 10481, 'मोठी': 10482, 'मोठे': 10483, 'मोठ्ठा': 10484, 'मोठ्या': 10485, 'मोठ्यांशी': 10486, 'मोठ्याने': 10487, 'मोडत': 10488, 'मोडलं': 10489, 'मोडला': 10490, 'मोडली': 10491, 'मोडले': 10492, 'मोडलेत': 10493, 'मोडलेस': 10494, 'मोडवर': 10495, 'मोती': 10496, 'मोत्यांचा': 10497, 'मोना': 10498, 'मोनिका': 10499, 'मोनॉपोली': 10500, 'मोन्टकामने': 10501, 'मोन्ते': 10502, 'मोफत': 10503, 'मोबाइल': 10504, 'मोबाइलवरून': 10505, 'मोबाईल': 10506, 'मोबाईलवर': 10507, 'मोहक': 10508, 'मोहम्मद': 10509, 'मोहिमेत': 10510, 'मौल्यवान': 10511, 'म्युझियमला': 10512, 'म्हटलं': 10513, 'म्हटलंत': 10514, 'म्हटलंस': 10515, 'म्हटली': 10516, 'म्हटले': 10517, 'म्हटलेलं': 10518, 'म्हटलेलंच': 10519, 'म्हण': 10520, 'म्हणजे': 10521, 'म्हणजेच': 10522, 'म्हणणं': 10523, 'म्हणणार': 10524, 'म्हणणारच': 10525, 'म्हणत': 10526, 'म्हणतं': 10527, 'म्हणता': 10528, 'म्हणतात': 10529, 'म्हणतायत': 10530, 'म्हणताहेत': 10531, 'म्हणते': 10532, 'म्हणतेय': 10533, 'म्हणतेस': 10534, 'म्हणतो': 10535, 'म्हणतोय': 10536, 'म्हणतोयस': 10537, 'म्हणतोयेस': 10538, 'म्हणतोस': 10539, 'म्हणशील': 10540, 'म्हणा': 10541, 'म्हणायचं': 10542, 'म्हणायचा': 10543, 'म्हणायचे': 10544, 'म्हणायचो': 10545, 'म्हणायला': 10546, 'म्हणाल': 10547, 'म्हणालं': 10548, 'म्हणाला': 10549, 'म्हणालात': 10550, 'म्हणालास': 10551, 'म्हणाली': 10552, 'म्हणालीस': 10553, 'म्हणाले': 10554, 'म्हणालो': 10555, 'म्हणाल्या': 10556, 'म्हणावं': 10557, 'म्हणी': 10558, 'म्हणू': 10559, 'म्हणून': 10560, 'म्हणूनच': 10561, 'म्हणेन': 10562, 'म्हणेल': 10563, 'म्हातारा': 10564, 'म्हातारी': 10565, 'म्हातारे': 10566, 'म्हातार्\\u200dया': 10567, 'म्हातार्\\u200dयाशी': 10568, 'यंत्र': 10569, 'यंत्रमानवांनी': 10570, 'यंत्रांना': 10571, 'यंत्राचा': 10572, 'यद्धात': 10573, 'यश': 10574, 'यशस्वी': 10575, 'यशाची': 10576, 'यशाचे': 10577, 'यशाने': 10578, 'यहुदी': 10579, 'या': 10580, 'यांचं': 10581, 'यांचा': 10582, 'यांची': 10583, 'यांचे': 10584, 'यांच्या': 10585, 'यांत्रिक': 10586, 'यांना': 10587, 'यांनी': 10588, 'यांमध्ये': 10589, 'याआधी': 10590, 'याइतकं': 10591, 'याएसु': 10592, 'याकितोरि': 10593, 'याक्षणी': 10594, 'याच': 10595, 'याचं': 10596, 'याचा': 10597, 'याची': 10598, 'याचीच': 10599, 'याचे': 10600, 'याच्यात': 10601, 'याच्यातून': 10602, 'याच्यावर': 10603, 'याच्याशी': 10604, 'यात': 10605, 'यातलं': 10606, 'यातली': 10607, 'यातले': 10608, 'यातल्या': 10609, 'यात्रा': 10610, 'यादवी': 10611, 'यादी': 10612, 'यादीकडे': 10613, 'यादीच्या': 10614, 'यादीत': 10615, 'यादीतले': 10616, 'यादीतील': 10617, 'यादीतून': 10618, 'यादीबद्दल': 10619, 'यादीबाबत': 10620, 'यादीवर': 10621, 'यादीवरचं': 10622, 'यादीवरून': 10623, 'यानंतर': 10624, 'याने': 10625, 'यापुढे': 10626, 'यापुर्वीच': 10627, 'यापेक्षा': 10628, 'याप्रकारे': 10629, 'याबद्दल': 10630, 'याबाबत': 10631, 'याबाबतीत': 10632, 'यायचं': 10633, 'यायचंय': 10634, 'यायच़ं': 10635, 'यायचा': 10636, 'यायची': 10637, 'यायचे': 10638, 'यायचो': 10639, 'यायच्या': 10640, 'यायला': 10641, 'यायलाच': 10642, 'यार': 10643, 'याल': 10644, 'याला': 10645, 'यावं': 10646, 'यावंसं': 10647, 'यावर': 10648, 'यावरून': 10649, 'याविषयी': 10650, 'यावी': 10651, 'यावेळी': 10652, 'याशिवाय': 10653, 'यासाठी': 10654, 'यीस्टचा': 10655, 'युआन': 10656, 'युएफओ': 10657, 'युएसएची': 10658, 'युक्रेनची': 10659, 'युक्रेनमधील': 10660, 'युटामध्ये': 10661, 'युद्ध': 10662, 'युद्धं': 10663, 'युद्धभूमीवर': 10664, 'युद्धविराम': 10665, 'युद्धाचं': 10666, 'युद्धाचा': 10667, 'युद्धाची': 10668, 'युद्धाच्या': 10669, 'युद्धात': 10670, 'युद्धातून': 10671, 'युद्धानंतर': 10672, 'युद्धाने': 10673, 'युद्धापेक्षा': 10674, 'युद्धाबद्दल': 10675, 'युद्धाविरुद्ध': 10676, 'युनाइटेड': 10677, 'युनायटेड': 10678, 'युनिफॉर्म': 10679, 'युनियन': 10680, 'युरो': 10681, 'युरोप': 10682, 'युरोपचा': 10683, 'युरोपची': 10684, 'युरोपच्या': 10685, 'युरोपमधलं': 10686, 'युरोपमधील': 10687, 'युरोपमध्ये': 10688, 'युरोपला': 10689, 'युरोपात': 10690, 'युरोपियन': 10691, 'युलसीझ': 10692, 'यू': 10693, 'यूआरएल': 10694, 'यूएफओ': 10695, 'यूएसएच्या': 10696, 'यूएसच्या': 10697, 'यूएसबी': 10698, 'यूटर्न': 10699, 'यूट्यूबवर': 10700, 'यूट्यूबवरील': 10701, 'यूरोपमध्ये': 10702, 'ये': 10703, 'येइल': 10704, 'येईन': 10705, 'येईना': 10706, 'येईपर्यंत': 10707, 'येईल': 10708, 'येईलच': 10709, 'येऊ': 10710, 'येऊन': 10711, 'येऊया': 10712, 'येणं': 10713, 'येणार': 10714, 'येणारा': 10715, 'येणारी': 10716, 'येणार्\\u200dया': 10717, 'येण्याआधी': 10718, 'येण्याचं': 10719, 'येण्याची': 10720, 'येण्याचे': 10721, 'येण्यासाठी': 10722, 'येण्यासारखं': 10723, 'येण्यासारखा': 10724, 'येण्यासारखी': 10725, 'येत': 10726, 'येतं': 10727, 'येतंय': 10728, 'येतच': 10729, 'येता': 10730, 'येतात': 10731, 'येतातच': 10732, 'येताना': 10733, 'येतायत': 10734, 'येताहेत': 10735, 'येतिल': 10736, 'येतील': 10737, 'येते': 10738, 'येतेय': 10739, 'येतेस': 10740, 'येतो': 10741, 'येतोय': 10742, 'येतोस': 10743, 'येत्या': 10744, 'येथील': 10745, 'येथे': 10746, 'येथेच': 10747, 'येन': 10748, 'येनची': 10749, 'येनला': 10750, 'येनांने': 10751, 'येमेन': 10752, 'येरेवान': 10753, 'येलोस्टोन': 10754, 'येशील': 10755, 'येशू': 10756, 'येशूचा': 10757, 'येशूच्या': 10758, 'येशूला': 10759, 'यॉर्क': 10760, 'योगदान': 10761, 'योगायोग': 10762, 'योगायोगांवर': 10763, 'योगायोगाने': 10764, 'योगासन': 10765, 'योग्य': 10766, 'योजना': 10767, 'योजनांबद्दल': 10768, 'योजनेचा': 10769, 'योजनेत': 10770, 'योजनेला': 10771, 'योजनेविरुद्ध': 10772, 'रंग': 10773, 'रंगवणार': 10774, 'रंगवते': 10775, 'रंगवतो': 10776, 'रंगवतोय': 10777, 'रंगवलं': 10778, 'रंगवली': 10779, 'रंगवलेलं': 10780, 'रंगवायला': 10781, 'रंगवू': 10782, 'रंगवून': 10783, 'रंगांधळा': 10784, 'रंगाचं': 10785, 'रंगाचा': 10786, 'रंगाची': 10787, 'रंगाचे': 10788, 'रंगाच्या': 10789, 'रंगाने': 10790, 'रंगीत': 10791, 'रक्कम': 10792, 'रक्त': 10793, 'रक्तगट': 10794, 'रक्तच': 10795, 'रक्तदान': 10796, 'रक्तपात': 10797, 'रक्ताचा': 10798, 'रक्ताची': 10799, 'रक्षक': 10800, 'रक्षण': 10801, 'रक्षा': 10802, 'रग': 10803, 'रगबी': 10804, 'रग्बी': 10805, 'रचना': 10806, 'रचनाकार': 10807, 'रजिस्टरमध्ये': 10808, 'रड': 10809, 'रडणं': 10810, 'रडणार': 10811, 'रडण्यापेक्षा': 10812, 'रडण्यामुळे': 10813, 'रडण्याशिवाय': 10814, 'रडण्यासारखं': 10815, 'रडत': 10816, 'रडतंय': 10817, 'रडतच': 10818, 'रडतरडत': 10819, 'रडतात': 10820, 'रडताना': 10821, 'रडताय': 10822, 'रडताहेत': 10823, 'रडते': 10824, 'रडतेय': 10825, 'रडतेयस': 10826, 'रडतो': 10827, 'रडतोय': 10828, 'रडतोयस': 10829, 'रडलं': 10830, 'रडला': 10831, 'रडलाही': 10832, 'रडली': 10833, 'रडले': 10834, 'रडलो': 10835, 'रडल्या': 10836, 'रडल्याशिवाय': 10837, 'रडवत': 10838, 'रडवलं': 10839, 'रडवेन': 10840, 'रडायचं': 10841, 'रडायला': 10842, 'रडार': 10843, 'रडावसं': 10844, 'रडू': 10845, 'रडून': 10846, 'रडूनरडून': 10847, 'रडेल': 10848, 'रड्या': 10849, 'रणगाडा': 10850, 'रत्ने': 10851, 'रथ': 10852, 'रद्द': 10853, 'रन': 10854, 'रबर': 10855, 'रबात': 10856, 'रब्बी': 10857, 'रमजान': 10858, 'रविवार': 10859, 'रविवारचा': 10860, 'रविवारी': 10861, 'रशियन': 10862, 'रशियनसुद्धा': 10863, 'रशियनांनी': 10864, 'रशिया': 10865, 'रशियाचा': 10866, 'रशियात': 10867, 'रशियातलं': 10868, 'रशियातील': 10869, 'रशियाने': 10870, 'रशियाला': 10871, 'रस': 10872, 'रसत्यात': 10873, 'रस्ता': 10874, 'रस्ते': 10875, 'रस्त्यांमध्ये': 10876, 'रस्त्याच्या': 10877, 'रस्त्यात': 10878, 'रस्त्यावर': 10879, 'रस्त्यावरचं': 10880, 'रस्त्यावरच्या': 10881, 'रस्सा': 10882, 'रहस्य': 10883, 'रहस्यकथा': 10884, 'रहा': 10885, 'रहाण्यात': 10886, 'रहायचं': 10887, 'रहायचंय': 10888, 'रहायचा': 10889, 'रहायची': 10890, 'रहायचे': 10891, 'रहायचो': 10892, 'रहायला': 10893, 'रहाल': 10894, 'रहावं': 10895, 'रहावे': 10896, 'रहिवासी': 10897, 'राँग': 10898, 'रांगता': 10899, 'रांगा': 10900, 'रांगायला': 10901, 'रांगेच्या': 10902, 'रांगेत': 10903, 'राइट': 10904, 'राइस': 10905, 'राईस': 10906, 'राक्षस': 10907, 'राग': 10908, 'रागवण्यासाठी': 10909, 'रागवत': 10910, 'रागवतील': 10911, 'रागवला': 10912, 'रागवलेला': 10913, 'रागवलेलास': 10914, 'रागवलेली': 10915, 'रागवलेलीस': 10916, 'रागवलेले': 10917, 'रागवलेलो': 10918, 'रागवायचं': 10919, 'रागवायचा': 10920, 'रागवायला': 10921, 'रागवू': 10922, 'रागवून': 10923, 'रागवेन': 10924, 'रागवेल': 10925, 'रागाने': 10926, 'रागारागात': 10927, 'रागारागाने': 10928, 'रागावलं': 10929, 'रागावला': 10930, 'रागावलात': 10931, 'रागावलास': 10932, 'रागावली': 10933, 'रागावलीस': 10934, 'रागावले': 10935, 'रागावलेलं': 10936, 'रागावलेला': 10937, 'रागावलेली': 10938, 'रागावलेले': 10939, 'रागावलेलो': 10940, 'रागावलेल्या': 10941, 'रागावलो': 10942, 'रागावल्या': 10943, 'रागावल्यावर': 10944, 'रागावू': 10945, 'राज': 10946, 'राजकन्या': 10947, 'राजकन्येला': 10948, 'राजकारण': 10949, 'राजकारणात': 10950, 'राजकारणाबद्दल': 10951, 'राजकारणाबाबत': 10952, 'राजकारणी': 10953, 'राजकारणींवर': 10954, 'राजकीय': 10955, 'राजदूताला': 10956, 'राजधानी': 10957, 'राजधानीचा': 10958, 'राजनैतिक': 10959, 'राजपुत्र': 10960, 'राजवंश': 10961, 'राजा': 10962, 'राजांसारखे': 10963, 'राजाकडून': 10964, 'राजाध्यक्षाने': 10965, 'राजाने': 10966, 'राजाराणी': 10967, 'राजाला': 10968, 'राजी': 10969, 'राजीनामा': 10970, 'राजे': 10971, 'राजेशाही': 10972, 'राज्य': 10973, 'राज्यकर्ते': 10974, 'राज्यपाल': 10975, 'राज्याचा': 10976, 'राज्याची': 10977, 'राज्यात': 10978, 'राज्याध्यक्ष': 10979, 'राज्यासाठी': 10980, 'राज्ये': 10981, 'राणी': 10982, 'राण्या': 10983, 'रातकिडा': 10984, 'रातकिड्याइकताच': 10985, 'रात्र': 10986, 'रात्रंदिवस': 10987, 'रात्रभर': 10988, 'रात्रभरात': 10989, 'रात्री': 10990, 'रात्रीचं': 10991, 'रात्रीची': 10992, 'रात्रीचे': 10993, 'रात्रीच्या': 10994, 'रात्रीपर्यंत': 10995, 'रात्रीसाठी': 10996, 'रामेन': 10997, 'रायफल': 10998, 'रायफलने': 10999, 'राशीचा': 11000, 'राष्ट्र': 11001, 'राष्ट्रगीत': 11002, 'राष्ट्रध्वज': 11003, 'राष्ट्रपतींनी': 11004, 'राष्ट्रभाषा': 11005, 'राष्ट्राच्या': 11006, 'राष्ट्रात': 11007, 'राष्ट्राध्यक्ष': 11008, 'राष्ट्राध्यक्षांची': 11009, 'राष्ट्राध्यक्षाने': 11010, 'राष्ट्रीय': 11011, 'रासायनिक': 11012, 'राहणं': 11013, 'राहणार': 11014, 'राहणारा': 11015, 'राहणारी': 11016, 'राहणारे': 11017, 'राहणार्\\u200dया': 11018, 'राहणार्\\u200dयांनी': 11019, 'राहणी': 11020, 'राहण्याची': 11021, 'राहण्यात': 11022, 'राहत': 11023, 'राहतं': 11024, 'राहता': 11025, 'राहतात': 11026, 'राहतायत': 11027, 'राहताहेत': 11028, 'राहते': 11029, 'राहतेय': 11030, 'राहतेस': 11031, 'राहतो': 11032, 'राहतोय': 11033, 'राहतोस': 11034, 'राहशील': 11035, 'राहा': 11036, 'राहायचं': 11037, 'राहायचंय': 11038, 'राहायचय': 11039, 'राहायचा': 11040, 'राहायचास': 11041, 'राहायची': 11042, 'राहायचीस': 11043, 'राहायचे': 11044, 'राहायचो': 11045, 'राहायला': 11046, 'राहाल': 11047, 'राहावे': 11048, 'राहिलं': 11049, 'राहिला': 11050, 'राहिलात': 11051, 'राहिलास': 11052, 'राहिली': 11053, 'राहिलीस': 11054, 'राहिले': 11055, 'राहिलेलं': 11056, 'राहिलेली': 11057, 'राहिलो': 11058, 'राहिल्या': 11059, 'राहील': 11060, 'राहू': 11061, 'राहून': 11062, 'राहूया': 11063, 'राहेन': 11064, 'राहेल': 11065, 'रिओ': 11066, 'रिकामं': 11067, 'रिकामंच': 11068, 'रिकामा': 11069, 'रिकामी': 11070, 'रिकामीच': 11071, 'रिकाम्या': 11072, 'रिचार्जेबल': 11073, 'रिजला': 11074, 'रिझवलं': 11075, 'रिपबलिकन': 11076, 'रिपब्लिकन': 11077, 'रिपब्लिकनांनी': 11078, 'रिपोर्ट': 11079, 'रिमोट': 11080, 'रिव्हर': 11081, 'रिव्हॉल्व्हरने': 11082, 'रिसाय्कल': 11083, 'रिसीट': 11084, 'रिसोट्टो': 11085, 'रीइन्स्टॉल': 11086, 'रीट्वीट': 11087, 'रीलोड': 11088, 'रुंद': 11089, 'रुग्ण': 11090, 'रुग्णवाहिका': 11091, 'रुग्णांना': 11092, 'रुग्णाने': 11093, 'रुग्णालय': 11094, 'रुग्णालयात': 11095, 'रुग्णालयाला': 11096, 'रुपये': 11097, 'रुबिकॉन': 11098, 'रुबी': 11099, 'रुमाल': 11100, 'रुमालाची': 11101, 'रुमालाने': 11102, 'रुमालावर': 11103, 'रूजवेल्टचं': 11104, 'रूजवेल्टनी': 11105, 'रूझव्हेल्ट': 11106, 'रूट': 11107, 'रूप': 11108, 'रूपाने': 11109, 'रूममध्ये': 11110, 'रूममेट': 11111, 'रॅकून': 11112, 'रॅकेट': 11113, 'रॅप': 11114, 'रॅपर': 11115, 'रॅम': 11116, 'रे': 11117, 'रेअर': 11118, 'रेकॉर्ड': 11119, 'रेकॉर्डर': 11120, 'रेगे': 11121, 'रेझर': 11122, 'रेझोनन्स': 11123, 'रेड': 11124, 'रेडनेक': 11125, 'रेडिओ': 11126, 'रेडिओचा': 11127, 'रेडिओच्या': 11128, 'रेडिओवर': 11129, 'रेडियमचा': 11130, 'रेडियो': 11131, 'रेडियोचा': 11132, 'रेडियोवर': 11133, 'रेडीओचा': 11134, 'रेणुचा': 11135, 'रेणूची': 11136, 'रेनकोट': 11137, 'रेनकोटमधली': 11138, 'रेमिंग्टनने': 11139, 'रेल्वेला': 11140, 'रेशमी': 11141, 'रेषेच्या': 11142, 'रेसिपी': 11143, 'रेस्टॉरंट': 11144, 'रेस्टॉरंटचं': 11145, 'रेस्टॉरंटमधलं': 11146, 'रेस्टॉरंटमध्ये': 11147, 'रेस्टॉरंटला': 11148, 'रेस्टॉरन्ट': 11149, 'रॉक': 11150, 'रॉकेट': 11151, 'रॉकेफेलर': 11152, 'रॉजर': 11153, 'रॉयल': 11154, 'रोग': 11155, 'रोज': 11156, 'रोजच': 11157, 'रोजचं': 11158, 'रोजचंच': 11159, 'रोजच्या': 11160, 'रोपवाटिकेत': 11161, 'रोबोट': 11162, 'रोम': 11163, 'रोमन': 11164, 'रोमनांने': 11165, 'रोममध्ये': 11166, 'रोमानिया': 11167, 'रोमानियाची': 11168, 'रोल': 11169, 'रोलर': 11170, 'रोलरस्केट': 11171, 'रोल्सरॉय्स': 11172, 'र्\\u200dहाइनवेस्टफालिया': 11173, 'लँडलाईन': 11174, 'लंगडत': 11175, 'लंडन': 11176, 'लंडनची': 11177, 'लंडनच्या': 11178, 'लंडनमधील': 11179, 'लंडनमधून': 11180, 'लंडनमध्ये': 11181, 'लंडनला': 11182, 'लक्झेंबर्ग': 11183, 'लक्ष': 11184, 'लक्षणे': 11185, 'लक्षही': 11186, 'लक्षात': 11187, 'लक्ष्य': 11188, 'लक्ष्यात': 11189, 'लक्ष्यातही': 11190, 'लगेच': 11191, 'लगेचच': 11192, 'लग्न': 11193, 'लग्नाचा': 11194, 'लग्नाची': 11195, 'लग्नात': 11196, 'लग्नाला': 11197, 'लग्नासाठी': 11198, 'लघुकथा': 11199, 'लटकवलं': 11200, 'लटकवले': 11201, 'लढ': 11202, 'लढणार': 11203, 'लढण्याशिवाय': 11204, 'लढत': 11205, 'लढतायेत': 11206, 'लढतालढता': 11207, 'लढतोय': 11208, 'लढला': 11209, 'लढली': 11210, 'लढले': 11211, 'लढलेले': 11212, 'लढलो': 11213, 'लढल्या': 11214, 'लढा': 11215, 'लढाई': 11216, 'लढाईत': 11217, 'लढाईवर': 11218, 'लढाईसाठी': 11219, 'लढायचं': 11220, 'लढायचंय': 11221, 'लढायची': 11222, 'लढायला': 11223, 'लढाया': 11224, 'लढू': 11225, 'लढेन': 11226, 'लढेल': 11227, 'लपंडाव': 11228, 'लपत': 11229, 'लपतो': 11230, 'लपतोय': 11231, 'लपला': 11232, 'लपलाय': 11233, 'लपली': 11234, 'लपले': 11235, 'लपलेलं': 11236, 'लपलेला': 11237, 'लपलेले': 11238, 'लपलेल्या': 11239, 'लपलो': 11240, 'लपल्या': 11241, 'लपव': 11242, 'लपवत': 11243, 'लपवता': 11244, 'लपवताना': 11245, 'लपवतायत': 11246, 'लपवते': 11247, 'लपवतेय': 11248, 'लपवतेस': 11249, 'लपवतो': 11250, 'लपवतोय': 11251, 'लपवतोस': 11252, 'लपवलं': 11253, 'लपवला': 11254, 'लपवली': 11255, 'लपवले': 11256, 'लपवा': 11257, 'लपवायचा': 11258, 'लपवू': 11259, 'लपवून': 11260, 'लपाछपी': 11261, 'लपायची': 11262, 'लपू': 11263, 'लपून': 11264, 'लवकर': 11265, 'लवकरच': 11266, 'लवकरात': 11267, 'लवचिक': 11268, 'लव्ह': 11269, 'लष्करात': 11270, 'लष्करी': 11271, 'लसूण': 11272, 'लहान': 11273, 'लहानपण': 11274, 'ला': 11275, 'लांडगा': 11276, 'लांडगे': 11277, 'लांडग्यांची': 11278, 'लांडग्यात': 11279, 'लांब': 11280, 'लांबलचक': 11281, 'लांबी': 11282, 'लांबीचा': 11283, 'लाइट': 11284, 'लाइटर': 11285, 'लाइनीत': 11286, 'लाइफजॅकेट': 11287, 'लाईट': 11288, 'लाईन': 11289, 'लाईनीत': 11290, 'लाईफबोट': 11291, 'लाकडाचं': 11292, 'लाकडाची': 11293, 'लाकडाने': 11294, 'लाकडी': 11295, 'लाकुड': 11296, 'लाकूड': 11297, 'लाक्रोस': 11298, 'लाख': 11299, 'लाग': 11300, 'लागणार': 11301, 'लागणे': 11302, 'लागत': 11303, 'लागतं': 11304, 'लागतात': 11305, 'लागताहेत': 11306, 'लागतील': 11307, 'लागते': 11308, 'लागतो': 11309, 'लागलं': 11310, 'लागलंय': 11311, 'लागला': 11312, 'लागलात': 11313, 'लागलाय': 11314, 'लागलास': 11315, 'लागली': 11316, 'लागलीय': 11317, 'लागलीये': 11318, 'लागलीस': 11319, 'लागले': 11320, 'लागलेली': 11321, 'लागलो': 11322, 'लागल्या': 11323, 'लागल्यावर': 11324, 'लागा': 11325, 'लागायला': 11326, 'लागू': 11327, 'लागून': 11328, 'लागूया': 11329, 'लागेपर्यंत': 11330, 'लागेल': 11331, 'लाच': 11332, 'लाज': 11333, 'लाजाळू': 11334, 'लाटा': 11335, 'लाटी': 11336, 'लात': 11337, 'लाथ': 11338, 'लामा': 11339, 'लायक': 11340, 'लायकीची': 11341, 'लायन्ससुद्धा': 11342, 'लायब्ररीत': 11343, 'लायसन्स': 11344, 'लायसेन्स': 11345, 'लाल': 11346, 'लाललाल': 11347, 'लाव': 11348, 'लावणं': 11349, 'लावणार': 11350, 'लावणे': 11351, 'लावण्यासाठी': 11352, 'लावत': 11353, 'लावतेय': 11354, 'लावतोय': 11355, 'लावलं': 11356, 'लावला': 11357, 'लावलास': 11358, 'लावली': 11359, 'लावले': 11360, 'लावलेला': 11361, 'लावलेली': 11362, 'लावलेल्या': 11363, 'लावल्या': 11364, 'लावा': 11365, 'लावायची': 11366, 'लावायच्या': 11367, 'लावायला': 11368, 'लावू': 11369, 'लावून': 11370, 'लावेन': 11371, 'लिंक': 11372, 'लिंकन': 11373, 'लिंकनचा': 11374, 'लिंकनने': 11375, 'लिंकवर': 11376, 'लिंबं': 11377, 'लिंबाचं': 11378, 'लिंबू': 11379, 'लिटर': 11380, 'लिनक्स': 11381, 'लिनक्सदेखील': 11382, 'लिनक्सबद्दल': 11383, 'लिपस्टिक': 11384, 'लिफ्ट': 11385, 'लिफ्टचं': 11386, 'लिफ्टची': 11387, 'लिफ्टने': 11388, 'लिफ्टमध्ये': 11389, 'लिबर्टी': 11390, 'लिबियाची': 11391, 'लिमोझीन': 11392, 'लिया।': 11393, 'लिलिउओकालानी': 11394, 'लिलिएन्थाल': 11395, 'लिसा': 11396, 'लिहत': 11397, 'लिहा': 11398, 'लिहायचं': 11399, 'लिहायचा': 11400, 'लिहायची': 11401, 'लिहायचे': 11402, 'लिहायचो': 11403, 'लिहायला': 11404, 'लिहायलावाचायला': 11405, 'लिहिणार': 11406, 'लिहिणे': 11407, 'लिहिण्याचा': 11408, 'लिहिण्याची': 11409, 'लिहिण्यात': 11410, 'लिहिण्यापेक्षा': 11411, 'लिहिता': 11412, 'लिहितात': 11413, 'लिहिताना': 11414, 'लिहितावाचता': 11415, 'लिहिताहेत': 11416, 'लिहिते': 11417, 'लिहितेय': 11418, 'लिहितेयस': 11419, 'लिहितेस': 11420, 'लिहितो': 11421, 'लिहितोय': 11422, 'लिहितोयस': 11423, 'लिहितोस': 11424, 'लिहिलं': 11425, 'लिहिलंत': 11426, 'लिहिलंस': 11427, 'लिहिलस': 11428, 'लिहिला': 11429, 'लिहिली': 11430, 'लिहिले': 11431, 'लिहिलेलं': 11432, 'लिहिलेला': 11433, 'लिहिलेली': 11434, 'लिहिलेल्या': 11435, 'लिहिल्या': 11436, 'लिही': 11437, 'लिहू': 11438, 'लिहून': 11439, 'लिहूया': 11440, 'लिहेन': 11441, 'ली': 11442, 'लीटरच्या': 11443, 'लुइस': 11444, 'लुकडा': 11445, 'लुटलं': 11446, 'लॅटिन': 11447, 'लॅटिनपासून': 11448, 'लॅटीन': 11449, 'लॅटीनचा': 11450, 'लॅपटॉप': 11451, 'लॅब': 11452, 'लेऑन': 11453, 'लेक': 11454, 'लेकाला': 11455, 'लेकीचं': 11456, 'लेकीपासून': 11457, 'लेकीसाठी': 11458, 'लेख': 11459, 'लेखक': 11460, 'लेखकांमधील': 11461, 'लेखकांविषयी': 11462, 'लेखकाचं': 11463, 'लेखकाने': 11464, 'लेखकाला': 11465, 'लेखता': 11466, 'लेखतेस': 11467, 'लेखतोस': 11468, 'लेखन': 11469, 'लेखलं': 11470, 'लेखांचा': 11471, 'लेखात': 11472, 'लेखिका': 11473, 'लेखू': 11474, 'लेट्युस': 11475, 'लेफ्टनंट': 11476, 'लैंगिक': 11477, 'लॉक': 11478, 'लॉकर': 11479, 'लॉगइन': 11480, 'लॉटरी': 11481, 'लॉटरीत': 11482, 'लॉबी': 11483, 'लॉबीत': 11484, 'लॉबीमध्ये': 11485, 'लॉलीपॉप': 11486, 'लॉस': 11487, 'लोक': 11488, 'लोकं': 11489, 'लोकंसुद्धा': 11490, 'लोकगीत': 11491, 'लोकतांत्रिक': 11492, 'लोकप्रिय': 11493, 'लोकप्रियता': 11494, 'लोकशाही': 11495, 'लोकशाहीचा': 11496, 'लोकसंख्या': 11497, 'लोकसंख्येपेक्षा': 11498, 'लोकसंगीत': 11499, 'लोकसुद्धा': 11500, 'लोकांकडे': 11501, 'लोकांचं': 11502, 'लोकांचा': 11503, 'लोकांची': 11504, 'लोकांचे': 11505, 'लोकांच्या': 11506, 'लोकांना': 11507, 'लोकांनाच': 11508, 'लोकांनी': 11509, 'लोकांपेक्षा': 11510, 'लोकांबरोबर': 11511, 'लोकांमध्ये': 11512, 'लोकांवर': 11513, 'लोकांशिवाय': 11514, 'लोकांशी': 11515, 'लोकांसाठी': 11516, 'लोखंड': 11517, 'लोखंडाचा': 11518, 'लोखंडापेक्षा': 11519, 'लोणी': 11520, 'व': 11521, 'वकिलाची': 11522, 'वकिलाला': 11523, 'वकिलाशी': 11524, 'वकील': 11525, 'वगळण्यात': 11526, 'वगैरे': 11527, 'वचन': 11528, 'वजन': 11529, 'वजनदार': 11530, 'वजनाने': 11531, 'वटत': 11532, 'वडिलांइतका': 11533, 'वडिलांकडून': 11534, 'वडिलांकडे': 11535, 'वडिलांचं': 11536, 'वडिलांचा': 11537, 'वडिलांची': 11538, 'वडिलांचे': 11539, 'वडिलांच्या': 11540, 'वडिलांना': 11541, 'वडिलांनी': 11542, 'वडिलांपेक्षा': 11543, 'वडिलांवर': 11544, 'वडिलांशी': 11545, 'वडिलांसाठी': 11546, 'वडिलांसारखं': 11547, 'वडिलांसारखा': 11548, 'वडिलांसारखाच': 11549, 'वडिलांसारखी': 11550, 'वडिलांसारखे': 11551, 'वडील': 11552, 'वडीलांना': 11553, 'वडीलांविषयी': 11554, 'वनस्पतिशास्त्र': 11555, 'वनस्पतिशास्त्रज्ञ': 11556, 'वनस्पती': 11557, 'वनस्पतींचा': 11558, 'वनात': 11559, 'वन्य': 11560, 'वय': 11561, 'वयस्कर': 11562, 'वयाचा': 11563, 'वयाची': 11564, 'वयाचे': 11565, 'वयाच्या': 11566, 'वयात': 11567, 'वयातच': 11568, 'वयातही': 11569, 'वयाने': 11570, 'वयापेक्षा': 11571, 'वयासार्खं': 11572, 'वर': 11573, 'वरच्या': 11574, 'वरती': 11575, 'वरपासून': 11576, 'वरून': 11577, 'वर्ग': 11578, 'वर्गमित्र': 11579, 'वर्गमैत्रीण': 11580, 'वर्गांत': 11581, 'वर्गाकडे': 11582, 'वर्गाचा': 11583, 'वर्गात': 11584, 'वर्गातला': 11585, 'वर्गातली': 11586, 'वर्गातल्या': 11587, 'वर्गातील': 11588, 'वर्गातून': 11589, 'वर्जन': 11590, 'वर्झावा': 11591, 'वर्ण': 11592, 'वर्णन': 11593, 'वर्णमाला': 11594, 'वर्णमालेत': 11595, 'वर्णमालेतलं': 11596, 'वर्णांचा': 11597, 'वर्तमान': 11598, 'वर्तमानपत्र': 11599, 'वर्तमानपत्रात': 11600, 'वर्तमानपत्रानुसार': 11601, 'वर्तमानात': 11602, 'वर्तमानातल्या': 11603, 'वर्थ': 11604, 'वर्ल्ड': 11605, 'वर्ष': 11606, 'वर्षं': 11607, 'वर्षभर': 11608, 'वर्षांचा': 11609, 'वर्षांची': 11610, 'वर्षांचे': 11611, 'वर्षांच्या': 11612, 'वर्षांत': 11613, 'वर्षांनंतर': 11614, 'वर्षांनी': 11615, 'वर्षांनुवर्ष': 11616, 'वर्षांने': 11617, 'वर्षांपासून': 11618, 'वर्षांपूर्वी': 11619, 'वर्षांपूर्वीची': 11620, 'वर्षांमध्ये': 11621, 'वर्षांसाठी': 11622, 'वर्षाचा': 11623, 'वर्षाची': 11624, 'वर्षाचे': 11625, 'वर्षाच्या': 11626, 'वर्षात': 11627, 'वर्षातला': 11628, 'वर्षातून': 11629, 'वर्षानंतर': 11630, 'वर्षापूर्वी': 11631, 'वर्षापेक्षा': 11632, 'वर्षी': 11633, 'वर्षीच': 11634, 'वर्षीची': 11635, 'वर्षीच्या': 11636, 'वर्षे': 11637, 'वळ': 11638, 'वळता': 11639, 'वळलं': 11640, 'वळला': 11641, 'वळलात': 11642, 'वळली': 11643, 'वळले': 11644, 'वळलो': 11645, 'वळवलं': 11646, 'वळा': 11647, 'वळू': 11648, 'वळून': 11649, 'वळूया': 11650, 'वसंत': 11651, 'वसंतऋतूच्या': 11652, 'वसतिगृह': 11653, 'वसाहत': 11654, 'वसाहतकार': 11655, 'वसाहतकार्\\u200dयांनी': 11656, 'वसाहती': 11657, 'वसाहतीसारखा': 11658, 'वस्तु': 11659, 'वस्तुसंग्रहालय': 11660, 'वस्तुसंग्रहालयांमध्ये': 11661, 'वस्तुसंग्रहालयात': 11662, 'वस्तुसंग्रहालयाला': 11663, 'वस्तू': 11664, 'वस्तूंचा': 11665, 'वस्तूंची': 11666, 'वस्तूला': 11667, 'वहन': 11668, 'वहिनी': 11669, 'वहिनीला': 11670, 'वही': 11671, 'वहीत': 11672, 'वह्या': 11673, 'वह्यांवर': 11674, 'वा': 11675, 'वाइन': 11676, 'वाईट': 11677, 'वाईन': 11678, 'वाईनची': 11679, 'वाईनच्या': 11680, 'वाईनपेक्षा': 11681, 'वाकणं': 11682, 'वाकत': 11683, 'वाकते': 11684, 'वाकलं': 11685, 'वाकली': 11686, 'वाकलेलं': 11687, 'वाकल्या': 11688, 'वाकव': 11689, 'वाकवता': 11690, 'वाकवा': 11691, 'वाकवू': 11692, 'वाका': 11693, 'वाक्य': 11694, 'वाक्यं': 11695, 'वाक्यांचा': 11696, 'वाक्यांचे': 11697, 'वाक्याचा': 11698, 'वाक्याच्या': 11699, 'वाक्यात': 11700, 'वाक्ये': 11701, 'वागणं': 11702, 'वागणुकीने': 11703, 'वागणूक': 11704, 'वागण्याचा': 11705, 'वागत': 11706, 'वागते': 11707, 'वागतो': 11708, 'वागतोय': 11709, 'वागला': 11710, 'वागवताहेत': 11711, 'वागवलं': 11712, 'वागायचं': 11713, 'वागू': 11714, 'वागून': 11715, 'वागेन': 11716, 'वाघ': 11717, 'वाघांना': 11718, 'वाघाने': 11719, 'वाघाला': 11720, 'वाच': 11721, 'वाचणं': 11722, 'वाचणार': 11723, 'वाचणे': 11724, 'वाचण्याकरिता': 11725, 'वाचण्याच्या': 11726, 'वाचण्यापुरता': 11727, 'वाचण्यालायक': 11728, 'वाचण्यासाठी': 11729, 'वाचण्यासारखं': 11730, 'वाचत': 11731, 'वाचतच': 11732, 'वाचतवाचत': 11733, 'वाचता': 11734, 'वाचतात': 11735, 'वाचताना': 11736, 'वाचताय': 11737, 'वाचतावाचता': 11738, 'वाचताहेत': 11739, 'वाचते': 11740, 'वाचतेय': 11741, 'वाचतेस': 11742, 'वाचतो': 11743, 'वाचतोय': 11744, 'वाचतोस': 11745, 'वाचन': 11746, 'वाचनाची': 11747, 'वाचनालय': 11748, 'वाचनालयात': 11749, 'वाचलं': 11750, 'वाचलंत': 11751, 'वाचलंय': 11752, 'वाचलंयस': 11753, 'वाचलंस': 11754, 'वाचला': 11755, 'वाचलात': 11756, 'वाचलास': 11757, 'वाचली': 11758, 'वाचलीत': 11759, 'वाचलीस': 11760, 'वाचले': 11761, 'वाचलेलं': 11762, 'वाचलो': 11763, 'वाचल्या': 11764, 'वाचल्यानंतर': 11765, 'वाचल्यास': 11766, 'वाचव': 11767, 'वाचवण्यासाठी': 11768, 'वाचवता': 11769, 'वाचवतेय': 11770, 'वाचवतो': 11771, 'वाचवतोय': 11772, 'वाचवलं': 11773, 'वाचवले': 11774, 'वाचवा': 11775, 'वाचवायचं': 11776, 'वाचवायचा': 11777, 'वाचवायची': 11778, 'वाचवायला': 11779, 'वाचवू': 11780, 'वाचवेन': 11781, 'वाचवेल': 11782, 'वाचवेलच': 11783, 'वाचा': 11784, 'वाचायचं': 11785, 'वाचायचा': 11786, 'वाचायची': 11787, 'वाचायचे': 11788, 'वाचायचो': 11789, 'वाचायला': 11790, 'वाचायलालिहायला': 11791, 'वाचायलाही': 11792, 'वाचावं': 11793, 'वाचू': 11794, 'वाचून': 11795, 'वाचूस': 11796, 'वाचेन': 11797, 'वाचेल': 11798, 'वाजत': 11799, 'वाजता': 11800, 'वाजताचा': 11801, 'वाजताची': 11802, 'वाजताच्या': 11803, 'वाजते': 11804, 'वाजतो': 11805, 'वाजतोय': 11806, 'वाजला': 11807, 'वाजली': 11808, 'वाजले': 11809, 'वाजलेयत': 11810, 'वाजलेले': 11811, 'वाजल्यानंतर': 11812, 'वाजल्यापासून': 11813, 'वाजव': 11814, 'वाजवणं': 11815, 'वाजवणार': 11816, 'वाजवणारच': 11817, 'वाजवणारा': 11818, 'वाजवणार्\\u200dयांमधील': 11819, 'वाजवण्यात': 11820, 'वाजवत': 11821, 'वाजवतंय': 11822, 'वाजवता': 11823, 'वाजवतात': 11824, 'वाजवताहेत': 11825, 'वाजवते': 11826, 'वाजवतेय': 11827, 'वाजवतेस': 11828, 'वाजवतो': 11829, 'वाजवतोय': 11830, 'वाजवतोस': 11831, 'वाजवला': 11832, 'वाजवलात': 11833, 'वाजवलास': 11834, 'वाजवली': 11835, 'वाजवलीत': 11836, 'वाजवलीस': 11837, 'वाजवल्या': 11838, 'वाजवा': 11839, 'वाजवायचं': 11840, 'वाजवायचा': 11841, 'वाजवायची': 11842, 'वाजवायचे': 11843, 'वाजवायचो': 11844, 'वाजवायला': 11845, 'वाजवू': 11846, 'वाजवून': 11847, 'वाजवेन': 11848, 'वाजवेल': 11849, 'वाजायचा': 11850, 'वाजायच्या': 11851, 'वाजायला': 11852, 'वाजू': 11853, 'वाजून': 11854, 'वाजूनसुद्धा': 11855, 'वाजे': 11856, 'वाजेपर्यंत': 11857, 'वाजेपर्यन्त': 11858, 'वाट': 11859, 'वाटण्यात': 11860, 'वाटत': 11861, 'वाटतं': 11862, 'वाटतंय': 11863, 'वाटतच': 11864, 'वाटता': 11865, 'वाटतात': 11866, 'वाटतायत': 11867, 'वाटताहेत': 11868, 'वाटते': 11869, 'वाटतेय': 11870, 'वाटतेयस': 11871, 'वाटतेस': 11872, 'वाटतो': 11873, 'वाटतोय': 11874, 'वाटतोयस': 11875, 'वाटतोस': 11876, 'वाटलं': 11877, 'वाटलंच': 11878, 'वाटला': 11879, 'वाटली': 11880, 'वाटले': 11881, 'वाटलेलं': 11882, 'वाटा': 11883, 'वाटाघाटी': 11884, 'वाटाणे': 11885, 'वाटायचं': 11886, 'वाटू': 11887, 'वाटून': 11888, 'वाटेत': 11889, 'वाटेने': 11890, 'वाटेल': 11891, 'वाटेवरच': 11892, 'वाडताहेत': 11893, 'वाढ': 11894, 'वाढणार': 11895, 'वाढत': 11896, 'वाढतं': 11897, 'वाढतायत': 11898, 'वाढते': 11899, 'वाढतेय': 11900, 'वाढतोय': 11901, 'वाढदिवशी': 11902, 'वाढदिवस': 11903, 'वाढदिवसाचा': 11904, 'वाढदिवसाची': 11905, 'वाढदिवसाच्या': 11906, 'वाढदिवसाला': 11907, 'वाढलं': 11908, 'वाढलंय': 11909, 'वाढला': 11910, 'वाढली': 11911, 'वाढले': 11912, 'वाढलो': 11913, 'वाढव': 11914, 'वाढवण्यात': 11915, 'वाढवत': 11916, 'वाढवतो': 11917, 'वाढवतोय': 11918, 'वाढवलं': 11919, 'वाढवलंय': 11920, 'वाढवला': 11921, 'वाढवली': 11922, 'वाढवले': 11923, 'वाढवा': 11924, 'वाढवायचा': 11925, 'वाढू': 11926, 'वाढेल': 11927, 'वातपरिरक्षी': 11928, 'वातानुकूलित': 11929, 'वातावरण': 11930, 'वादक': 11931, 'वादळ': 11932, 'वादळामुळे': 11933, 'वादविवाद': 11934, 'वापर': 11935, 'वापरणं': 11936, 'वापरणार': 11937, 'वापरत': 11938, 'वापरता': 11939, 'वापरतात': 11940, 'वापरते': 11941, 'वापरतेस': 11942, 'वापरतो': 11943, 'वापरतोस': 11944, 'वापरलं': 11945, 'वापरला': 11946, 'वापरलात': 11947, 'वापरलास': 11948, 'वापरली': 11949, 'वापरलीत': 11950, 'वापरलीस': 11951, 'वापरलेले': 11952, 'वापरल्या': 11953, 'वापरशील': 11954, 'वापरा': 11955, 'वापरायचा': 11956, 'वापरायला': 11957, 'वापराल': 11958, 'वापरासाठी': 11959, 'वापरू': 11960, 'वापरून': 11961, 'वापरूया': 11962, 'वापरेन': 11963, 'वापरेल': 11964, 'वायएमसीएला': 11965, 'वायर': 11966, 'वायरला': 11967, 'वाया': 11968, 'वायु': 11969, 'वायोमिंगमध्ये': 11970, 'वार': 11971, 'वारंवार': 11972, 'वारत': 11973, 'वारलं': 11974, 'वारला': 11975, 'वारली': 11976, 'वारले': 11977, 'वारल्या': 11978, 'वारल्यानंतर': 11979, 'वारल्यावर': 11980, 'वारा': 11981, 'वार्\\u200dयाने': 11982, 'वाळले': 11983, 'वाळवंट': 11984, 'वाळवंटाची': 11985, 'वाळवंटात': 11986, 'वाळवंटाला': 11987, 'वाळवी': 11988, 'वाळी': 11989, 'वाळू': 11990, 'वाळूचा': 11991, 'वाळूत': 11992, 'वाळूपासून': 11993, 'वास': 11994, 'वासाने': 11995, 'वास्तवात': 11996, 'वास्तुकला': 11997, 'वास्तुसंग्रहालय': 11998, 'वाह': 11999, 'वाहणारी': 12000, 'वाहणार्\\u200dया': 12001, 'वाहत': 12002, 'वाहतं': 12003, 'वाहतंय': 12004, 'वाहते': 12005, 'वाहन': 12006, 'वाहू': 12007, 'विंग्ज': 12008, 'विंचर': 12009, 'विंचरा': 12010, 'विंचरायला': 12011, 'विंचू': 12012, 'विंडसर्फिंग': 12013, 'विंडो': 12014, 'विंडोज': 12015, 'विंडोजचा': 12016, 'विंडोजची': 12017, 'विक': 12018, 'विकणार': 12019, 'विकण्याकरिता': 12020, 'विकण्यासाठी': 12021, 'विकत': 12022, 'विकतं': 12023, 'विकता': 12024, 'विकतात': 12025, 'विकताहेत': 12026, 'विकते': 12027, 'विकतो': 12028, 'विकतोय': 12029, 'विकलं': 12030, 'विकला': 12031, 'विकली': 12032, 'विकले': 12033, 'विकल्प': 12034, 'विकल्या': 12035, 'विकशील': 12036, 'विकसित': 12037, 'विकायचं': 12038, 'विकायचा': 12039, 'विकायची': 12040, 'विकायला': 12041, 'विकाल': 12042, 'विकावा': 12043, 'विकास': 12044, 'विकासशील': 12045, 'विकिपीडियावर': 12046, 'विकू': 12047, 'विकून': 12048, 'विक्राळ': 12049, 'विक्रीसाठी': 12050, 'विक्सबर्गवर': 12051, 'विग': 12052, 'विचार': 12053, 'विचारच': 12054, 'विचारणं': 12055, 'विचारणार': 12056, 'विचारण्याचा': 12057, 'विचारण्यात': 12058, 'विचारण्यास': 12059, 'विचारण्यासाठी': 12060, 'विचारत': 12061, 'विचारता': 12062, 'विचारतात': 12063, 'विचारताहेत': 12064, 'विचारते': 12065, 'विचारतेय': 12066, 'विचारतो': 12067, 'विचारतोय': 12068, 'विचारलं': 12069, 'विचारलंत': 12070, 'विचारलंस': 12071, 'विचारला': 12072, 'विचारलात': 12073, 'विचारलास': 12074, 'विचारली': 12075, 'विचारले': 12076, 'विचारलेतुम्ही': 12077, 'विचारलेतू': 12078, 'विचारल्यावरच': 12079, 'विचारसुद्धा': 12080, 'विचारही': 12081, 'विचारा': 12082, 'विचारात': 12083, 'विचारायचं': 12084, 'विचारायचा': 12085, 'विचारायची': 12086, 'विचारायचे': 12087, 'विचारायला': 12088, 'विचारायलाच': 12089, 'विचारू': 12090, 'विचारूया': 12091, 'विचारेन': 12092, 'विचित्र': 12093, 'विचित्रच': 12094, 'विजय': 12095, 'विजयाचे': 12096, 'विजयी': 12097, 'विजा': 12098, 'विजेचं': 12099, 'विजेता': 12100, 'विजेने': 12101, 'विजेशिवाय': 12102, 'विज्ञान': 12103, 'विज्ञानकथा': 12104, 'विज्ञानाचा': 12105, 'विज्ञानाची': 12106, 'विज्ञानात': 12107, 'विज्ञानाने': 12108, 'विझव': 12109, 'विझवली': 12110, 'विझवले': 12111, 'विझवायला': 12112, 'विझून': 12113, 'विटांचं': 12114, 'विणतो': 12115, 'वितळतो': 12116, 'वितळतोय': 12117, 'वितळला': 12118, 'वितळलाय': 12119, 'वितळल्यावर': 12120, 'वितळून': 12121, 'वित्त': 12122, 'विदुषक': 12123, 'विदेशात': 12124, 'विदेशी': 12125, 'विद्यापीठ': 12126, 'विद्यापीठांमधील': 12127, 'विद्यापीठात': 12128, 'विद्यापीठेतून': 12129, 'विद्यार्थिनी': 12130, 'विद्यार्थिनींची': 12131, 'विद्यार्थिनींना': 12132, 'विद्यार्थिनींनी': 12133, 'विद्यार्थिनीची': 12134, 'विद्यार्थिनीच्या': 12135, 'विद्यार्थिनीने': 12136, 'विद्यार्थिनीला': 12137, 'विद्यार्थी': 12138, 'विद्यार्थींना': 12139, 'विद्यार्थीनी': 12140, 'विद्यार्थीने': 12141, 'विद्यार्थ्यांचा': 12142, 'विद्यार्थ्यांची': 12143, 'विद्यार्थ्यांना': 12144, 'विद्यार्थ्यांनी': 12145, 'विद्यार्थ्यांने': 12146, 'विद्यार्थ्यांपासून': 12147, 'विद्यार्थ्यांमधील': 12148, 'विद्यार्थ्यांमधून': 12149, 'विद्यार्थ्यांमध्ये': 12150, 'विद्यार्थ्यांसाठी': 12151, 'विद्यार्थ्याची': 12152, 'विद्यार्थ्याचे': 12153, 'विद्यार्थ्याच्या': 12154, 'विद्यार्थ्याने': 12155, 'विद्यार्थ्याला': 12156, 'विद्याव्यासंगी': 12157, 'विद्युत': 12158, 'विद्युतप्रवाह': 12159, 'विद्रोही': 12160, 'विद्वान': 12161, 'विनोद': 12162, 'विनोदवीर': 12163, 'विन्फ्रींचा': 12164, 'विन्फ्रीचा': 12165, 'विन्स्टन': 12166, 'विभन्न': 12167, 'विमान': 12168, 'विमानं': 12169, 'विमानतळ': 12170, 'विमानतळाचं': 12171, 'विमानतळाचा': 12172, 'विमानतळाच्या': 12173, 'विमानतळाला': 12174, 'विमानतळावर': 12175, 'विमानाचं': 12176, 'विमानाची': 12177, 'विमानात': 12178, 'विमानातून': 12179, 'विमानाने': 12180, 'विमानावर': 12181, 'विरघळतं': 12182, 'विरघळते': 12183, 'विरघळून': 12184, 'विरोध': 12185, 'विरोधकाचं': 12186, 'विरोधात': 12187, 'विलिअम': 12188, 'विलियम': 12189, 'विलियमने': 12190, 'विलीन': 12191, 'विल्सन': 12192, 'विवाहित': 12193, 'विविक्त': 12194, 'विविध': 12195, 'विशाल': 12196, 'विशेष': 12197, 'विश्रांती': 12198, 'विश्राम': 12199, 'विश्लेषक': 12200, 'विश्व': 12201, 'विश्वयुद्ध': 12202, 'विश्वयुद्धात': 12203, 'विश्वयुद्धानंतर': 12204, 'विश्वाचा': 12205, 'विश्वास': 12206, 'विश्वासघात': 12207, 'विश्वासच': 12208, 'विश्वासाचा': 12209, 'विष': 12210, 'विषम': 12211, 'विषय': 12212, 'विषयांमध्ये': 12213, 'विषयांवर': 12214, 'विषयावर': 12215, 'विषयासंबंधी': 12216, 'विषारी': 12217, 'विसर': 12218, 'विसरणं': 12219, 'विसरणार': 12220, 'विसरत': 12221, 'विसरता': 12222, 'विसरते': 12223, 'विसरतेय': 12224, 'विसरतेस': 12225, 'विसरतो': 12226, 'विसरतोय': 12227, 'विसरतोस': 12228, 'विसरला': 12229, 'विसरलात': 12230, 'विसरलास': 12231, 'विसरली': 12232, 'विसरलीस': 12233, 'विसरले': 12234, 'विसरलेय': 12235, 'विसरलो': 12236, 'विसरलोय': 12237, 'विसरल्या': 12238, 'विसरा': 12239, 'विसरायचं': 12240, 'विसरायचा': 12241, 'विसराळू': 12242, 'विसरुन': 12243, 'विसरू': 12244, 'विसरून': 12245, 'विसरूया': 12246, 'विस्फोट': 12247, 'विहिरीत': 12248, 'वीज': 12249, 'वीजतंत्री': 12250, 'वीस': 12251, 'वीसपट': 12252, 'वूडची': 12253, 'वृत्तपत्र': 12254, 'वृत्तपत्रांनी': 12255, 'वृत्तपत्रात': 12256, 'वृत्तपत्रे': 12257, 'वृद्ध': 12258, 'वृद्धाश्रमात': 12259, 'वॅक्सिंग': 12260, 'वेगळं': 12261, 'वेगळंच': 12262, 'वेगळंय': 12263, 'वेगळा': 12264, 'वेगळी': 12265, 'वेगळे': 12266, 'वेगळ्या': 12267, 'वेगळ्याच': 12268, 'वेगवान': 12269, 'वेगवेगळी': 12270, 'वेगवेगळे': 12271, 'वेगवेगळ्या': 12272, 'वेगात': 12273, 'वेगाने': 12274, 'वेगानेच': 12275, 'वेटर': 12276, 'वेटरची': 12277, 'वेटरम्हणून': 12278, 'वेटलिफ्टर': 12279, 'वेट्रेस': 12280, 'वेट्रेसकडून': 12281, 'वेड': 12282, 'वेडं': 12283, 'वेडा': 12284, 'वेडाच': 12285, 'वेडी': 12286, 'वेडीबिडी': 12287, 'वेडे': 12288, 'वेडेपणा': 12289, 'वेड्या': 12290, 'वेड्यासारखं': 12291, 'वेड्यासारखा': 12292, 'वेड्यासारखी': 12293, 'वेढा': 12294, 'वेणी': 12295, 'वेदना': 12296, 'वेदनेने': 12297, 'वेब': 12298, 'वेबकॅम': 12299, 'वेबसाइट': 12300, 'वेबसाईट': 12301, 'वेलिंग्टन': 12302, 'वेल्सचे': 12303, 'वेळ': 12304, 'वेळच': 12305, 'वेळा': 12306, 'वेळात': 12307, 'वेळानंतर': 12308, 'वेळापत्रक': 12309, 'वेळापुर्वीच': 12310, 'वेळापूर्वीच': 12311, 'वेळासाठी': 12312, 'वेळी': 12313, 'वेळीस': 12314, 'वेळेची': 12315, 'वेळेत': 12316, 'वेळेपेक्षा': 12317, 'वेळेवर': 12318, 'वेळोवेळी': 12319, 'वेश': 12320, 'वैज्ञानिक': 12321, 'वैज्ञानिकांना': 12322, 'वैतागला': 12323, 'वैतागले': 12324, 'वैद्य': 12325, 'वैद्याची': 12326, 'वैध': 12327, 'वैश्विक': 12328, 'वॉकीटॉकी': 12329, 'वॉटर': 12330, 'वॉनटॉन': 12331, 'वॉन्ट': 12332, 'वॉरक्राफ्ट': 12333, 'वॉरहॉल': 12334, 'वॉलीबॉल': 12335, 'वॉल्ट': 12336, 'वॉशरूमला': 12337, 'वॉशिंग': 12338, 'वॉशिंगमशीन': 12339, 'वॉशिंगमशीनमध्ये': 12340, 'वॉशिंग्टन': 12341, 'वॉशिंग्टनचीही': 12342, 'वॉशिंग्टनच्या': 12343, 'वोटलेलंच': 12344, 'व्यंगचित्रकार': 12345, 'व्यंगचित्रे': 12346, 'व्यक्त': 12347, 'व्यक्तिगत': 12348, 'व्यक्ती': 12349, 'व्यक्तीने': 12350, 'व्यक्तीबद्दल': 12351, 'व्यक्तीला': 12352, 'व्यक्तीशी': 12353, 'व्यक्तीसाठी': 12354, 'व्यवसायी': 12355, 'व्यवस्थांमध्ये': 12356, 'व्यवस्थापक': 12357, 'व्यवस्थित': 12358, 'व्यसन': 12359, 'व्यसनी': 12360, 'व्यस्त': 12361, 'व्या': 12362, 'व्याकरणाचा': 12363, 'व्याकरणाचे': 12364, 'व्याकरणाविषयी': 12365, 'व्याक्रणाचं': 12366, 'व्याज': 12367, 'व्यापक': 12368, 'व्यापार': 12369, 'व्यापारात': 12370, 'व्यायला': 12371, 'व्यायाम': 12372, 'व्यायामशाळेची': 12373, 'व्यायामशाळेत': 12374, 'व्यायामाचा': 12375, 'व्यावसायिक': 12376, 'व्हर्जिनिया': 12377, 'व्हा': 12378, 'व्हाइट': 12379, 'व्हाईट': 12380, 'व्हायचं': 12381, 'व्हायचंय': 12382, 'व्हायची': 12383, 'व्हायब्रेट': 12384, 'व्हायरस': 12385, 'व्हायला': 12386, 'व्हायोला': 12387, 'व्हायोलिन': 12388, 'व्हाल': 12389, 'व्हावी': 12390, 'व्हिएतनाममध्ये': 12391, 'व्हिएतनामी': 12392, 'व्हिटमन': 12393, 'व्हिटॅमिन': 12394, 'व्हिडिओ': 12395, 'व्हिडियो': 12396, 'व्हिडीयो': 12397, 'व्हिप्ड': 12398, 'व्हियेनावर': 12399, 'व्हिला': 12400, 'व्हिसा': 12401, 'व्हिसाची': 12402, 'व्हिस्की': 12403, 'व्हिस्कीचा': 12404, 'व्हिस्कीची': 12405, 'व्हीसीआर': 12406, 'व्हॅन': 12407, 'व्हॅनची': 12408, 'व्हॅनमधून': 12409, 'व्हॅनमध्ये': 12410, 'व्हॅनला': 12411, 'व्हॅनिला': 12412, 'व्हॅम्पायर': 12413, 'व्हॅम्पायर्सना': 12414, 'व्हॅली': 12415, 'व्हॅलेन्टाईन्स': 12416, 'व्हेगन': 12417, 'व्हेनिस': 12418, 'व्हेनिसमध्ये': 12419, 'व्हेर्दूच्या': 12420, 'व्हेल': 12421, 'व्हॉलीबॉल': 12422, 'व्हॉल्यूम': 12423, 'व्होडका': 12424, 'व्होड्का': 12425, 'व्ह्लादिव्होस्तोक': 12426, 'शँघाई': 12427, 'शंका': 12428, 'शंकाच': 12429, 'शंकास्पद': 12430, 'शंकेखोर': 12431, 'शंभर': 12432, 'शंभरचे': 12433, 'शंभरपर्यंत': 12434, 'शंभरपेक्षा': 12435, 'शकणारी': 12436, 'शकत': 12437, 'शकतं': 12438, 'शकता': 12439, 'शकतात': 12440, 'शकतील': 12441, 'शकते': 12442, 'शकतेस': 12443, 'शकतो': 12444, 'शकतोस': 12445, 'शकलं': 12446, 'शकला': 12447, 'शकली': 12448, 'शकले': 12449, 'शकलो': 12450, 'शकशील': 12451, 'शकाल': 12452, 'शकू': 12453, 'शकेन': 12454, 'शकेल': 12455, 'शक्ती': 12456, 'शक्तीची': 12457, 'शक्तीत': 12458, 'शक्तीने': 12459, 'शक्य': 12460, 'शक्यच': 12461, 'शक्यता': 12462, 'शक्यतो': 12463, 'शक्यमुनीने': 12464, 'शक्या': 12465, 'शतक': 12466, 'शतकात': 12467, 'शत्रुच्या': 12468, 'शत्रुला': 12469, 'शत्रू': 12470, 'शत्रूंची': 12471, 'शत्रूंना': 12472, 'शत्रूची': 12473, 'शत्रूच्या': 12474, 'शत्रूने': 12475, 'शत्रूवर': 12476, 'शत्रूविरुद्ध': 12477, 'शनिवार': 12478, 'शनिवारची': 12479, 'शनिवारपर्यंत': 12480, 'शनिवारी': 12481, 'शनी': 12482, 'शनीवार': 12483, 'शपथ': 12484, 'शब्द': 12485, 'शब्दकोश': 12486, 'शब्दकोशाची': 12487, 'शब्दखेळ': 12488, 'शब्दच': 12489, 'शब्दशः': 12490, 'शब्दही': 12491, 'शब्दांचा': 12492, 'शब्दांची': 12493, 'शब्दांनी': 12494, 'शब्दांपेक्षा': 12495, 'शब्दाचा': 12496, 'शब्दात': 12497, 'शरद': 12498, 'शरीर': 12499, 'शरीरातल्या': 12500, 'शरीरावर': 12501, 'शर्ट': 12502, 'शर्टची': 12503, 'शर्टांची': 12504, 'शर्टांना': 12505, 'शर्टाला': 12506, 'शर्टावर': 12507, 'शर्यत': 12508, 'शर्यती': 12509, 'शर्यतीच्या': 12510, 'शर्यतीत': 12511, 'शल्यचिकित्सक': 12512, 'शस्त्र': 12513, 'शस्त्रं': 12514, 'शहर': 12515, 'शहरं': 12516, 'शहरांना': 12517, 'शहरांमधील': 12518, 'शहरांमध्ये': 12519, 'शहराचं': 12520, 'शहराचा': 12521, 'शहराची': 12522, 'शहराचे': 12523, 'शहराच्या': 12524, 'शहरात': 12525, 'शहरातलं': 12526, 'शहरातली': 12527, 'शहरातल्या': 12528, 'शहरातील': 12529, 'शहरापेक्षा': 12530, 'शहराबाहेर': 12531, 'शहराला': 12532, 'शहरावर': 12533, 'शहरी': 12534, 'शहाणा': 12535, 'शहामृग': 12536, 'शांत': 12537, 'शांतता': 12538, 'शांततापूर्ण': 12539, 'शांततेत': 12540, 'शांततेने': 12541, 'शांतपणे': 12542, 'शांती': 12543, 'शांतीने': 12544, 'शाई': 12545, 'शाकाहारी': 12546, 'शाखा': 12547, 'शाप': 12548, 'शाब्बास': 12549, 'शामक': 12550, 'शार्क': 12551, 'शार्कने': 12552, 'शार्लमानला': 12553, 'शालेय': 12554, 'शाळतेच': 12555, 'शाळा': 12556, 'शाळांमध्ये': 12557, 'शाळेचा': 12558, 'शाळेची': 12559, 'शाळेच्या': 12560, 'शाळेजवळ': 12561, 'शाळेजवळच': 12562, 'शाळेत': 12563, 'शाळेतच': 12564, 'शाळेतला': 12565, 'शाळेतली': 12566, 'शाळेतले': 12567, 'शाळेतल्या': 12568, 'शाळेतील': 12569, 'शाळेतून': 12570, 'शाळेनंतर': 12571, 'शाळेने': 12572, 'शाळेबद्दल': 12573, 'शाळेला': 12574, 'शाळेसाठी': 12575, 'शासकीय': 12576, 'शासन': 12577, 'शासनाने': 12578, 'शासनाला': 12579, 'शासनावर': 12580, 'शासनाविरुद्ध': 12581, 'शास्त्र': 12582, 'शास्त्रज्ञ': 12583, 'शास्त्रीय': 12584, 'शाही': 12585, 'शिंकतेय': 12586, 'शिंकतोय': 12587, 'शिंकला': 12588, 'शिंकायचं': 12589, 'शिंपी': 12590, 'शिइताके': 12591, 'शिक': 12592, 'शिकणं': 12593, 'शिकणार': 12594, 'शिकणे': 12595, 'शिकण्याचा': 12596, 'शिकण्याची': 12597, 'शिकण्याच्या': 12598, 'शिकण्यात': 12599, 'शिकण्याशिवाय': 12600, 'शिकण्यासाठी': 12601, 'शिकत': 12602, 'शिकतंय': 12603, 'शिकता': 12604, 'शिकतात': 12605, 'शिकताय': 12606, 'शिकतील': 12607, 'शिकते': 12608, 'शिकतेय': 12609, 'शिकतेयस': 12610, 'शिकतो': 12611, 'शिकतोय': 12612, 'शिकतोयस': 12613, 'शिकला': 12614, 'शिकलात': 12615, 'शिकलास': 12616, 'शिकली': 12617, 'शिकलीस': 12618, 'शिकले': 12619, 'शिकलेच': 12620, 'शिकलेलं': 12621, 'शिकलो': 12622, 'शिकलोच': 12623, 'शिकल्याशिवाय': 12624, 'शिकव': 12625, 'शिकवणं': 12626, 'शिकवणार': 12627, 'शिकवण्याचा': 12628, 'शिकवण्यात': 12629, 'शिकवण्याशिवाय': 12630, 'शिकवत': 12631, 'शिकवतं': 12632, 'शिकवता': 12633, 'शिकवतात': 12634, 'शिकवते': 12635, 'शिकवतेय': 12636, 'शिकवतेस': 12637, 'शिकवतो': 12638, 'शिकवतोय': 12639, 'शिकवतोस': 12640, 'शिकवलं': 12641, 'शिकवला': 12642, 'शिकवली': 12643, 'शिकवल्या': 12644, 'शिकवशील': 12645, 'शिकवा': 12646, 'शिकवायचा': 12647, 'शिकवायची': 12648, 'शिकवायचे': 12649, 'शिकवायचो': 12650, 'शिकवायला': 12651, 'शिकवाल': 12652, 'शिकवू': 12653, 'शिकवून': 12654, 'शिकवूनच': 12655, 'शिकवेन': 12656, 'शिकवेनच': 12657, 'शिका': 12658, 'शिकागो': 12659, 'शिकागोपासून': 12660, 'शिकागोपेक्षा': 12661, 'शिकागोमध्ये': 12662, 'शिकागोला': 12663, 'शिकायचं': 12664, 'शिकायचा': 12665, 'शिकायची': 12666, 'शिकायचे': 12667, 'शिकायच्या': 12668, 'शिकायला': 12669, 'शिकायलाच': 12670, 'शिकार': 12671, 'शिकारी': 12672, 'शिकारीवर': 12673, 'शिकार्\\u200dयांनी': 12674, 'शिकार्\\u200dयाने': 12675, 'शिकावं': 12676, 'शिकावी': 12677, 'शिकू': 12678, 'शिकेन': 12679, 'शिकेल': 12680, 'शिकोकु': 12681, 'शिक्षक': 12682, 'शिक्षकच': 12683, 'शिक्षकसुद्धा': 12684, 'शिक्षकांची': 12685, 'शिक्षकांना': 12686, 'शिक्षकांबरोबर': 12687, 'शिक्षकांशी': 12688, 'शिक्षकाचं': 12689, 'शिक्षकाने': 12690, 'शिक्षकाला': 12691, 'शिक्षण': 12692, 'शिक्षणाचा': 12693, 'शिक्षणाला': 12694, 'शिक्षणाविषयी': 12695, 'शिक्षणाशिवाय': 12696, 'शिक्षा': 12697, 'शिक्षिका': 12698, 'शिक्षिकेचं': 12699, 'शिक्षिकेच्या': 12700, 'शिक्षिकेने': 12701, 'शिक्षिकेला': 12702, 'शिखर': 12703, 'शिचिगोसान': 12704, 'शिजतात': 12705, 'शिजलं': 12706, 'शिजलंय': 12707, 'शिजलाय': 12708, 'शिजली': 12709, 'शिजव': 12710, 'शिजवणार': 12711, 'शिजवण्याची': 12712, 'शिजवत': 12713, 'शिजवता': 12714, 'शिजवतात': 12715, 'शिजवते': 12716, 'शिजवतो': 12717, 'शिजवलं': 12718, 'शिजवली': 12719, 'शिजवले': 12720, 'शिजवल्या': 12721, 'शिजवा': 12722, 'शिजविण्यासाठी': 12723, 'शिजून': 12724, 'शिटी': 12725, 'शिडी': 12726, 'शिडीची': 12727, 'शिडीवरून': 12728, 'शिनानोपेक्षा': 12729, 'शिन्कान्सेनने': 12730, 'शिन्जुकुला': 12731, 'शिफ्ट': 12732, 'शिबुया': 12733, 'शिरत': 12734, 'शिरतो': 12735, 'शिरला': 12736, 'शिरली': 12737, 'शिरेतून': 12738, 'शिर्षक': 12739, 'शिल्लक': 12740, 'शिवणकाम': 12741, 'शिवणयंत्र': 12742, 'शिवतेय': 12743, 'शिवी': 12744, 'शिव्या': 12745, 'शिष्याचं': 12746, 'शिसे': 12747, 'शीतयुद्ध': 12748, 'शीर्षक': 12749, 'शुक्रवार': 12750, 'शुक्रवारी': 12751, 'शुद्ध': 12752, 'शुद्धीत': 12753, 'शुभेच्छा': 12754, 'शूज': 12755, 'शूट': 12756, 'शूटिंग': 12757, 'शूटींग': 12758, 'शूर': 12759, 'शॅग': 12760, 'शॅडो': 12761, 'शॅम्पू': 12762, 'शॅम्पेन': 12763, 'शॅम्पेनसुद्धा': 12764, 'शेंगदाणे': 12765, 'शेंडी': 12766, 'शेंबुड': 12767, 'शेंबूड': 12768, 'शेअर': 12769, 'शेकडो': 12770, 'शेक्सपिअर': 12771, 'शेक्सपिअरचं': 12772, 'शेक्सपिअरचे': 12773, 'शेक्सपिअरने': 12774, 'शेक्सपिअरबद्दल': 12775, 'शेक्सपीअर': 12776, 'शेजारचीला': 12777, 'शेजारच्यांना': 12778, 'शेजारच्याचं': 12779, 'शेजारच्याचा': 12780, 'शेजारच्याला': 12781, 'शेजारी': 12782, 'शेजार्\\u200dयांना': 12783, 'शेजार्\\u200dयाने': 12784, 'शेत': 12785, 'शेतकरी': 12786, 'शेतकर्\\u200dयांशी': 12787, 'शेतांमध्ये': 12788, 'शेतात': 12789, 'शेती': 12790, 'शेपटी': 12791, 'शेपर्ड': 12792, 'शेपूट': 12793, 'शेरिफ': 12794, 'शेल्फवर': 12795, 'शेवंतीचा': 12796, 'शेवट': 12797, 'शेवटचं': 12798, 'शेवटचा': 12799, 'शेवटची': 12800, 'शेवटचे': 12801, 'शेवटच्या': 12802, 'शेवटपर्यंत': 12803, 'शेवटागोदर': 12804, 'शेवटी': 12805, 'शेव्ह': 12806, 'शेव्हर': 12807, 'शॉक': 12808, 'शॉपिंग': 12809, 'शॉर्टकट': 12810, 'शॉवर': 12811, 'शॉवरने': 12812, 'शॉवरमधून': 12813, 'शोध': 12814, 'शोधक': 12815, 'शोधण्यात': 12816, 'शोधण्यासारखं': 12817, 'शोधत': 12818, 'शोधतंय': 12819, 'शोधतायत': 12820, 'शोधताहेत': 12821, 'शोधतील': 12822, 'शोधते': 12823, 'शोधतेय': 12824, 'शोधतो': 12825, 'शोधतोय': 12826, 'शोधलं': 12827, 'शोधलंय': 12828, 'शोधाची': 12829, 'शोधात': 12830, 'शोधायचं': 12831, 'शोधायची': 12832, 'शोधायला': 12833, 'शोधायलाच': 12834, 'शोधावा': 12835, 'शोधू': 12836, 'शोधून': 12837, 'शोधूया': 12838, 'शोधेन': 12839, 'शोपाँचं': 12840, 'शोफर': 12841, 'शोषत': 12842, 'शौकीनांवर': 12843, 'शौचालयात': 12844, 'श्नॅप्स': 12845, 'श्रीमंत': 12846, 'श्रीलंका': 12847, 'श्रीलंकेबद्दल': 12848, 'श्लोकाचा': 12849, 'श्वास': 12850, 'सँग्रिया': 12851, 'सँडविच': 12852, 'सँडविचला': 12853, 'सँडविचवर': 12854, 'संकटकालीन': 12855, 'संकटात': 12856, 'संकल्पना': 12857, 'संकल्पनाचा': 12858, 'संकेतस्थळ': 12859, 'संकेतस्थळाची': 12860, 'संकेतस्थळाद्वारे': 12861, 'संकेतस्थळाला': 12862, 'संकेतस्थळावर': 12863, 'संकेतस्थळावरून': 12864, 'संक्षिप्त': 12865, 'संख्या': 12866, 'संख्येत': 12867, 'संगणक': 12868, 'संगणकांचा': 12869, 'संगणकांची': 12870, 'संगणकांवरील': 12871, 'संगणकांसंबंधित': 12872, 'संगणकाचा': 12873, 'संगणकाची': 12874, 'संगणकात': 12875, 'संगणकाला': 12876, 'संगणकावर': 12877, 'संगणकीय': 12878, 'संगीत': 12879, 'संगीतकार': 12880, 'संगीतकाराशी': 12881, 'संगीताचा': 12882, 'संगीताची': 12883, 'संग्रह': 12884, 'संघ': 12885, 'संघनायक': 12886, 'संघर्ष': 12887, 'संघात': 12888, 'संचार': 12889, 'संडास': 12890, 'संत': 12891, 'संतांबरोबर': 12892, 'संतुलन': 12893, 'संतुष्ट': 12894, 'संत्र': 12895, 'संत्री': 12896, 'संत्र्याचं': 12897, 'संत्र्याचा': 12898, 'संत्र्यासारखा': 12899, 'संदर्भ': 12900, 'संदेश': 12901, 'संदेशवाहकाने': 12902, 'संधिपाद': 12903, 'संधी': 12904, 'संधीचा': 12905, 'संधीची': 12906, 'संधीसाठी': 12907, 'संध्या': 12908, 'संध्याकाळ': 12909, 'संध्याकाळचं': 12910, 'संध्याकाळच्या': 12911, 'संध्याकाळी': 12912, 'संपणार': 12913, 'संपत': 12914, 'संपतच': 12915, 'संपतात': 12916, 'संपते': 12917, 'संपत्ती': 12918, 'संपन्न': 12919, 'संपर्क': 12920, 'संपर्कात': 12921, 'संपलं': 12922, 'संपलंच': 12923, 'संपला': 12924, 'संपलाच': 12925, 'संपली': 12926, 'संपले': 12927, 'संपलेलं': 12928, 'संपलेली': 12929, 'संपल्या': 12930, 'संपल्यावर': 12931, 'संपव': 12932, 'संपवणं': 12933, 'संपवण्याची': 12934, 'संपवत': 12935, 'संपवताच': 12936, 'संपवलं': 12937, 'संपवला': 12938, 'संपवली': 12939, 'संपवल्याबरोबरच': 12940, 'संपवा': 12941, 'संपवायचं': 12942, 'संपवायला': 12943, 'संपवून': 12944, 'संपवेन': 12945, 'संपादक': 12946, 'संपादन': 12947, 'संपादित': 12948, 'संपायच्या': 12949, 'संपुष्टात': 12950, 'संपूर्ण': 12951, 'संपेल': 12952, 'संप्रेरक': 12953, 'संबंध': 12954, 'संभावनीय': 12955, 'संभाषण': 12956, 'संमती': 12957, 'संमेलनासाठी': 12958, 'संयुक्त': 12959, 'संरक्षण': 12960, 'संरक्षणासाठी': 12961, 'संरचना': 12962, 'संवाद': 12963, 'संविधान': 12964, 'संविधानावर': 12965, 'संशय': 12966, 'संशयास्पद': 12967, 'संशोधन': 12968, 'संसदेने': 12969, 'संस्कृती': 12970, 'संस्कृतीच्या': 12971, 'संस्कृतीविषयी': 12972, 'संस्थानांचे': 12973, 'संस्थानांपासून': 12974, 'संस्थानांमध्ये': 12975, 'संस्थाने': 12976, 'सऊल': 12977, 'सकारात्मक': 12978, 'सकाळ': 12979, 'सकाळचा': 12980, 'सकाळचे': 12981, 'सकाळच्या': 12982, 'सकाळपर्यंतचा': 12983, 'सकाळपासून': 12984, 'सकाळभर': 12985, 'सकाळसकाळी': 12986, 'सकाळी': 12987, 'सकाळीच': 12988, 'सक्त': 12989, 'सगळं': 12990, 'सगळंकाही': 12991, 'सगळंच': 12992, 'सगळच': 12993, 'सगळा': 12994, 'सगळी': 12995, 'सगळीकडे': 12996, 'सगळीच': 12997, 'सगळीजणं': 12998, 'सगळे': 12999, 'सगळेच': 13000, 'सगळेच्या': 13001, 'सगळेजण': 13002, 'सगळ्या': 13003, 'सगळ्यांकडे': 13004, 'सगळ्यांचं': 13005, 'सगळ्यांचाच': 13006, 'सगळ्यांची': 13007, 'सगळ्यांचीच': 13008, 'सगळ्यांचे': 13009, 'सगळ्यांच्या': 13010, 'सगळ्यांच्याच': 13011, 'सगळ्यांना': 13012, 'सगळ्यांनाच': 13013, 'सगळ्यांनी': 13014, 'सगळ्यांनीच': 13015, 'सगळ्यांबरोबर': 13016, 'सगळ्यांशी': 13017, 'सगळ्यांसाठी': 13018, 'सगळ्याच': 13019, 'सगळ्याचा': 13020, 'सगळ्याची': 13021, 'सगळ्यात': 13022, 'सगळ्यासाठी': 13023, 'सजवण्याचं': 13024, 'सजवत': 13025, 'सजवलं': 13026, 'सजवला': 13027, 'सजवली': 13028, 'सजवायला': 13029, 'सज्ज': 13030, 'सज्जन': 13031, 'सडत': 13032, 'सडताहेत': 13033, 'सडलं': 13034, 'सडलेलं': 13035, 'सडलेली': 13036, 'सडल्यासारखा': 13037, 'सण': 13038, 'सणात': 13039, 'सतत': 13040, 'सतरा': 13041, 'सतवणं': 13042, 'सतवत': 13043, 'सतावतोय': 13044, 'सत्तरपेक्षा': 13045, 'सत्ता': 13046, 'सत्ताधीश': 13047, 'सत्तावीस': 13048, 'सत्य': 13049, 'सत्याचा': 13050, 'सत्यानाश': 13051, 'सदस्य': 13052, 'सदस्यता': 13053, 'सदैव': 13054, 'सध्या': 13055, 'सध्याचा': 13056, 'सध्याच्या': 13057, 'सध्यातरी': 13058, 'सनस्क्रीन': 13059, 'सन्स्क्रीन': 13060, 'सपाट': 13061, 'सप्टेंबर': 13062, 'सप्टेंबरपर्यंत': 13063, 'सप्टेंबरमध्ये': 13064, 'सफरचंद': 13065, 'सफरचंदं': 13066, 'सफरचंदच': 13067, 'सफरचंदसुद्धा': 13068, 'सफरचंदांपेक्षा': 13069, 'सफरचंदाचं': 13070, 'सफरचंदाचा': 13071, 'सफरचंदाची': 13072, 'सफरचंदाला': 13073, 'सफरचंदासारखं': 13074, 'सफरचंदासारखीच': 13075, 'सफरचंदे': 13076, 'सफेद': 13077, 'सभ्यतांचा': 13078, 'सभ्यतेचं': 13079, 'सभ्यतेचा': 13080, 'समज': 13081, 'समजणं': 13082, 'समजणार': 13083, 'समजत': 13084, 'समजतं': 13085, 'समजतच': 13086, 'समजता': 13087, 'समजतात': 13088, 'समजतील': 13089, 'समजते': 13090, 'समजतेस': 13091, 'समजतो': 13092, 'समजतोस': 13093, 'समजलं': 13094, 'समजला': 13095, 'समजली': 13096, 'समजले': 13097, 'समजल्या': 13098, 'समजवशील': 13099, 'समजवायचा': 13100, 'समजवायला': 13101, 'समजवाल': 13102, 'समजशील': 13103, 'समजा': 13104, 'समजायचं': 13105, 'समजायचा': 13106, 'समजायचो': 13107, 'समजायला': 13108, 'समजाल': 13109, 'समजाव': 13110, 'समजावणं': 13111, 'समजावत': 13112, 'समजावते': 13113, 'समजावतो': 13114, 'समजावलं': 13115, 'समजावले': 13116, 'समजावा': 13117, 'समजावायचा': 13118, 'समजावू': 13119, 'समजावून': 13120, 'समजावेन': 13121, 'समजावेल': 13122, 'समजू': 13123, 'समजून': 13124, 'समजेन': 13125, 'समजेनासं': 13126, 'समजेल': 13127, 'समर': 13128, 'समर्थक': 13129, 'समर्थकांना': 13130, 'समर्थन': 13131, 'समलिंगी': 13132, 'समस्या': 13133, 'समस्यांना': 13134, 'समस्यांबद्दल': 13135, 'समस्यांविषयी': 13136, 'समस्येचा': 13137, 'समस्येबद्दल': 13138, 'समस्येवर': 13139, 'समस्येसाठी': 13140, 'समाज': 13141, 'समाजवादी': 13142, 'समाजशास्त्रज्ञ': 13143, 'समाजाचा': 13144, 'समाजात': 13145, 'समाधानकारक': 13146, 'समान': 13147, 'समानार्थी': 13148, 'समाप्त': 13149, 'समारंभ': 13150, 'समारंभात': 13151, 'समाविष्ट': 13152, 'समुदाय': 13153, 'समुद्र': 13154, 'समुद्रकिनारा': 13155, 'समुद्रकिनार्\\u200dयाचं': 13156, 'समुद्रकिनार्\\u200dयावर': 13157, 'समुद्राखाली': 13158, 'समुद्राच्या': 13159, 'समुद्राजवळ': 13160, 'समुद्रात': 13161, 'समुद्रातला': 13162, 'समुद्रातील': 13163, 'समुद्रापाशी': 13164, 'समुद्रापासून': 13165, 'समुद्राबद्दल': 13166, 'समुद्राला': 13167, 'समुद्री': 13168, 'समूह': 13169, 'समूहात': 13170, 'समूहावर': 13171, 'समोर': 13172, 'समोरच': 13173, 'समोरचं': 13174, 'समोरचा': 13175, 'समोरची': 13176, 'समोरच्या': 13177, 'समोरासमोर': 13178, 'समोसा': 13179, 'सम्टर': 13180, 'सम्टरची': 13181, 'सम्टरला': 13182, 'सम्राट': 13183, 'सरकार': 13184, 'सरकारवर': 13185, 'सरकारी': 13186, 'सरळ': 13187, 'सरळसरळ': 13188, 'सरोवर': 13189, 'सरोवराच्या': 13190, 'सरोवरात': 13191, 'सर्कसमध्ये': 13192, 'सर्जन': 13193, 'सर्जनशील': 13194, 'सर्जरी': 13195, 'सर्दी': 13196, 'सर्दीच': 13197, 'सर्दीसाठी': 13198, 'सर्फ': 13199, 'सर्फिंग': 13200, 'सर्बियाचा': 13201, 'सर्बियाची': 13202, 'सर्व': 13203, 'सर्वं': 13204, 'सर्वकाही': 13205, 'सर्वच': 13206, 'सर्वच्या': 13207, 'सर्वजण': 13208, 'सर्वनाश': 13209, 'सर्वप्रथम': 13210, 'सर्वर': 13211, 'सर्वविजेता': 13212, 'सर्वसामान्य': 13213, 'सर्वांचं': 13214, 'सर्वांचंच': 13215, 'सर्वांचा': 13216, 'सर्वांचाच': 13217, 'सर्वांची': 13218, 'सर्वांचे': 13219, 'सर्वांना': 13220, 'सर्वांनाच': 13221, 'सर्वांनी': 13222, 'सर्वांनीच': 13223, 'सर्वांनो': 13224, 'सर्वांपुरतं': 13225, 'सर्वांपेक्षा': 13226, 'सर्वांवर': 13227, 'सर्वांशी': 13228, 'सर्वांसाठी': 13229, 'सर्वात': 13230, 'सर्वोच्च': 13231, 'सर्वोत्तम': 13232, 'सलॉनला': 13233, 'सल्ला': 13234, 'सल्लागार': 13235, 'सल्लागारांना': 13236, 'सल्लेला': 13237, 'सवय': 13238, 'सव्वा': 13239, 'सव्वातीनला': 13240, 'सशामागे': 13241, 'ससा': 13242, 'ससे': 13243, 'सस्तन': 13244, 'सस्यांच्या': 13245, 'सहकार': 13246, 'सहज': 13247, 'सहजपणे': 13248, 'सहन': 13249, 'सहनच': 13250, 'सहनशील': 13251, 'सहभागी': 13252, 'सहभागींना': 13253, 'सहमत': 13254, 'सहलीची': 13255, 'सहा': 13256, 'सहाच्या': 13257, 'सहापट': 13258, 'सहाय्यक': 13259, 'सहारा': 13260, 'सहाला': 13261, 'सहाव्या': 13262, 'सही': 13263, 'सहीची': 13264, 'सहीच्या': 13265, 'सांग': 13266, 'सांगणं': 13267, 'सांगणार': 13268, 'सांगण्याची': 13269, 'सांगण्यात': 13270, 'सांगण्यासारखं': 13271, 'सांगत': 13272, 'सांगतच': 13273, 'सांगता': 13274, 'सांगतात': 13275, 'सांगतिलं': 13276, 'सांगतील': 13277, 'सांगते': 13278, 'सांगतेय': 13279, 'सांगतो': 13280, 'सांगतोय': 13281, 'सांगशील': 13282, 'सांगा': 13283, 'सांगायचं': 13284, 'सांगायचंय': 13285, 'सांगायचा': 13286, 'सांगायची': 13287, 'सांगायला': 13288, 'सांगायलाच': 13289, 'सांगाल': 13290, 'सांगावं': 13291, 'सांगितलं': 13292, 'सांगितलंत': 13293, 'सांगितलंय': 13294, 'सांगितलंस': 13295, 'सांगितला': 13296, 'सांगितली': 13297, 'सांगितले': 13298, 'सांगितलेलं': 13299, 'सांगितलेला': 13300, 'सांगिलं': 13301, 'सांगू': 13302, 'सांगूच': 13303, 'सांगून': 13304, 'सांगेन': 13305, 'सांगेल': 13306, 'सांघितलं': 13307, 'सांडतं': 13308, 'सांडला': 13309, 'सांडवलं': 13310, 'सांडवल्याचं': 13311, 'सांभाळ': 13312, 'सांभाळता': 13313, 'सांभाळतात': 13314, 'सांभाळते': 13315, 'सांभाळतो': 13316, 'सांभाळलं': 13317, 'सांभाळा': 13318, 'सांभाळायला': 13319, 'सांभाळू': 13320, 'सांभाळून': 13321, 'सांभाळेन': 13322, 'सांस्कृतिक': 13323, 'साइतामा': 13324, 'साईट': 13325, 'साउअरक्राउट': 13326, 'साके': 13327, 'साक्षी': 13328, 'साखर': 13329, 'साखरेची': 13330, 'साखरेचे': 13331, 'साखरेच्या': 13332, 'साखरेबरोबर': 13333, 'साखरेशिवाय': 13334, 'साखरेसारखी': 13335, 'सागर': 13336, 'सागराला': 13337, 'सागरी': 13338, 'सागा’': 13339, 'साचा': 13340, 'साजरा': 13341, 'साठ': 13342, 'साडेचारशे': 13343, 'साडेतीन': 13344, 'साडेदहा': 13345, 'साडेपाचच्या': 13346, 'साडेपाचपर्यंत': 13347, 'साडेपाचला': 13348, 'साडेसहापर्यंत': 13349, 'साडेसात': 13350, 'सात': 13351, 'सातच्या': 13352, 'सातपर्यंत': 13353, 'सातवा': 13354, 'सातवी': 13355, 'सातवे': 13356, 'सातव्या': 13357, 'साथ': 13358, 'साथीदारांना': 13359, 'सादर': 13360, 'साधनं': 13361, 'साधला': 13362, 'साधा': 13363, 'साधायचा': 13364, 'साधारण': 13365, 'साधारणतः': 13366, 'साधारणपणे': 13367, 'साधी': 13368, 'साधू': 13369, 'साधे': 13370, 'साध्या': 13371, 'साप': 13372, 'सापं': 13373, 'सापडणं': 13374, 'सापडणार': 13375, 'सापडण्यात': 13376, 'सापडत': 13377, 'सापडतच': 13378, 'सापडता': 13379, 'सापडतात': 13380, 'सापडलं': 13381, 'सापडलंय': 13382, 'सापडला': 13383, 'सापडलात': 13384, 'सापडलास': 13385, 'सापडली': 13386, 'सापडलीस': 13387, 'सापडले': 13388, 'सापडलेला': 13389, 'सापडलो': 13390, 'सापडल्या': 13391, 'सापडल्याबरोबरच': 13392, 'सापडशील': 13393, 'सापडायला': 13394, 'सापडाल': 13395, 'सापडू': 13396, 'सापडून': 13397, 'सापडेल': 13398, 'सापांना': 13399, 'सापांमुळे': 13400, 'सापाने': 13401, 'सापेक्षतावादाच्या': 13402, 'साफ': 13403, 'साबण': 13404, 'साबणाने': 13405, 'साबणामुळे': 13406, 'सामना': 13407, 'सामाजिक': 13408, 'सामान': 13409, 'सामानाबरोबर': 13410, 'सामुराइ': 13411, 'साम्य': 13412, 'साम्यवाद': 13413, 'साम्यवादी': 13414, 'साम्यवाद्यांनी': 13415, 'साम्राज्य': 13416, 'साम्राज्याचं': 13417, 'साम्राज्याचा': 13418, 'साम्राज्याचे': 13419, 'सायकल': 13420, 'सायकलचा': 13421, 'सायकली': 13422, 'सायकलीची': 13423, 'सायकलीच्या': 13424, 'सायकलीने': 13425, 'सायकलीला': 13426, 'सायकलीवरून': 13427, 'सायकलीसारखी': 13428, 'सायकॉलॉजीची': 13429, 'सायन्सचा': 13430, 'सायबरकॅफे': 13431, 'सायबॉर्ग': 13432, 'सायलेंट': 13433, 'सारखा': 13434, 'सारखाच': 13435, 'सारखी': 13436, 'सारखीच': 13437, 'सारखे': 13438, 'सारख्या': 13439, 'सारेच': 13440, 'सालच्या': 13441, 'सालात': 13442, 'सालापासून': 13443, 'साली': 13444, 'सालीपासनं': 13445, 'सालीवर': 13446, 'साळिंदर': 13447, 'सावकाश': 13448, 'सावध': 13449, 'सावधगिरीने': 13450, 'सावधान': 13451, 'सावलीत': 13452, 'सावलीशिवाय': 13453, 'सावल्या': 13454, 'सासू': 13455, 'साहसाचं': 13456, 'साहित्य': 13457, 'साहित्याचा': 13458, 'साहेब': 13459, 'सिंगापूरमध्ये': 13460, 'सिंगापूरला': 13461, 'सिंड्रेलाची': 13462, 'सिंह': 13463, 'सिंहांना': 13464, 'सिंहाची': 13465, 'सिक्युरिटीला': 13466, 'सिगरेट': 13467, 'सिगरेटच्या': 13468, 'सिगार': 13469, 'सिगारेट': 13470, 'सिग्रेट': 13471, 'सिटी': 13472, 'सिडनी': 13473, 'सितार': 13474, 'सिद्ध': 13475, 'सिद्धांताची': 13476, 'सिद्धांताशी': 13477, 'सिनाट्रा': 13478, 'सिनेमा': 13479, 'सिनेमाला': 13480, 'सिमेंट': 13481, 'सिमेंटच्या': 13482, 'सिरप': 13483, 'सिरियाची': 13484, 'सिर्हान': 13485, 'सिलिंग': 13486, 'सिस्टर': 13487, 'सी': 13488, 'सीआयएची': 13489, 'सीआयएमध्ये': 13490, 'सीईओ': 13491, 'सीएनएन': 13492, 'सीजर': 13493, 'सीजरच्या': 13494, 'सीझन': 13495, 'सीझर': 13496, 'सीझरने': 13497, 'सीट': 13498, 'सीटी': 13499, 'सीडी': 13500, 'सीडीची': 13501, 'सीड्या': 13502, 'सीमध्ये': 13503, 'सीमेचं': 13504, 'सीमेच्या': 13505, 'सीरियामध्ये': 13506, 'सीलिंग': 13507, 'सुंदर': 13508, 'सुंदरच': 13509, 'सुंदरता': 13510, 'सुंदरतेची': 13511, 'सुंदरतेसाठी': 13512, 'सुई': 13513, 'सुकडा': 13514, 'सुकडी': 13515, 'सुकरमांस': 13516, 'सुकरमांसापेक्षा': 13517, 'सुकलेला': 13518, 'सुकियाकि': 13519, 'सुख': 13520, 'सुखी': 13521, 'सुगंध': 13522, 'सुचत': 13523, 'सुचलं': 13524, 'सुचली': 13525, 'सुचवत': 13526, 'सुचवता': 13527, 'सुचवला': 13528, 'सुजला': 13529, 'सुजले': 13530, 'सुजलेला': 13531, 'सुजलेले': 13532, 'सुटकेस': 13533, 'सुटकेसचं': 13534, 'सुटकेसपेक्षा': 13535, 'सुटकेसमधून': 13536, 'सुटणार': 13537, 'सुटण्याचा': 13538, 'सुटत': 13539, 'सुटते': 13540, 'सुटतो': 13541, 'सुटला': 13542, 'सुटले': 13543, 'सुटलो': 13544, 'सुटायचा': 13545, 'सुटायच्या': 13546, 'सुटी': 13547, 'सुटू': 13548, 'सुटून': 13549, 'सुटेल': 13550, 'सुट्टी': 13551, 'सुट्टीचा': 13552, 'सुट्टीच्या': 13553, 'सुट्टीत': 13554, 'सुट्टीवर': 13555, 'सुट्टे': 13556, 'सुट्ट्या': 13557, 'सुदैवाने': 13558, 'सुद्धा': 13559, 'सुधारणा': 13560, 'सुधारत': 13561, 'सुधारते': 13562, 'सुधारली': 13563, 'सुधारायचं': 13564, 'सुधारायचा': 13565, 'सुधारायची': 13566, 'सुधारायला': 13567, 'सुधारेल': 13568, 'सुधृढ': 13569, 'सुनावण्यात': 13570, 'सुपरपावर': 13571, 'सुपरमार्केट': 13572, 'सुपरमार्केटमध्ये': 13573, 'सुपरमार्केटला': 13574, 'सुपरमॅन': 13575, 'सुपरवायझर': 13576, 'सुपरहिरो': 13577, 'सुप्रभात': 13578, 'सुप्रसिद्ध': 13579, 'सुमात्रा': 13580, 'सुमारास': 13581, 'सुमारे': 13582, 'सुमो': 13583, 'सुरक्षा': 13584, 'सुरक्षाव्यवस्था': 13585, 'सुरक्षित': 13586, 'सुरक्षेचा': 13587, 'सुरळीत': 13588, 'सुरी': 13589, 'सुरीने': 13590, 'सुरीवर': 13591, 'सुरु': 13592, 'सुरुवात': 13593, 'सुरुवातही': 13594, 'सुरुवातीपासून': 13595, 'सुरुवातीपासूनच': 13596, 'सुरुवातीला': 13597, 'सुरू': 13598, 'सुरूवात': 13599, 'सुरूवातीला': 13600, 'सुर्\\u200dया': 13601, 'सुर्\\u200dयांबरोबर': 13602, 'सुलभ': 13603, 'सुवर्ण': 13604, 'सुशी': 13605, 'सुसंस्कृत': 13606, 'सुस्थापित': 13607, 'सुस्वभावी': 13608, 'सुस्वागतम': 13609, 'सूइंग': 13610, 'सूक्ष्मजीवशास्त्रज्ञ': 13611, 'सूक्ष्मदर्शीय': 13612, 'सूचनेकडे': 13613, 'सूज': 13614, 'सूट': 13615, 'सूटकेस': 13616, 'सूत्र': 13617, 'सूप': 13618, 'सूपबरोबर': 13619, 'सूपमध्ये': 13620, 'सूपरमॉडेल': 13621, 'सूर्य': 13622, 'सूर्यफूल': 13623, 'सूर्यमालेतील': 13624, 'सूर्याच्या': 13625, 'सूर्यापासून': 13626, 'सूर्यापेक्षा': 13627, 'सॅँडविच': 13628, 'सॅक्रामेंटो': 13629, 'सॅक्सोफोनिस्ट': 13630, 'सॅन': 13631, 'सॅलड': 13632, 'सॅलडच्या': 13633, 'सॅलडवर': 13634, 'सॅलडही': 13635, 'सॅलमनचे': 13636, 'सॅल्मनसारखी': 13637, 'सॅल्व्हेशन': 13638, 'से': 13639, 'सेंट': 13640, 'सेंटर': 13641, 'सेंटरमध्ये': 13642, 'सेंटरवर': 13643, 'सेंटिमीटर': 13644, 'सेकंडहॅण्ड': 13645, 'सेकंद': 13646, 'सेकंदात': 13647, 'सेक्युरिटीला': 13648, 'सेक्रेटरी': 13649, 'सेक्रेटरीबरोबर': 13650, 'सेक्सी': 13651, 'सेन': 13652, 'सेनवरील': 13653, 'सेनापती': 13654, 'सेनेटमध्ये': 13655, 'सेनेने': 13656, 'सेन्सेई': 13657, 'सेमिनार': 13658, 'सेल': 13659, 'सेलफोन': 13660, 'सेलफोनची': 13661, 'सेलफोनवरून': 13662, 'सेल्समन': 13663, 'सेल्समनदेखील': 13664, 'सेवा': 13665, 'सेव्ह': 13666, 'सैनिक': 13667, 'सैनिकांकडे': 13668, 'सैनिकांचा': 13669, 'सैनिकांच्या': 13670, 'सैनिकांना': 13671, 'सैनिकांनी': 13672, 'सैनिकांवर': 13673, 'सैनिकाने': 13674, 'सैन्य': 13675, 'सैन्याकडे': 13676, 'सैन्याची': 13677, 'सैन्याच्या': 13678, 'सैन्याने': 13679, 'सैल': 13680, 'सॉकर': 13681, 'सॉक्स': 13682, 'सॉक्सचा': 13683, 'सॉनामध्ये': 13684, 'सॉनेट': 13685, 'सॉफ्टवेअर': 13686, 'सॉफ्टवेअरचं': 13687, 'सॉलिटेअर': 13688, 'सॉलिटेयर': 13689, 'सॉस': 13690, 'सॉसबरोबर': 13691, 'सोंडी': 13692, 'सोंब्रेरो': 13693, 'सोड': 13694, 'सोडणार': 13695, 'सोडण्यात': 13696, 'सोडत': 13697, 'सोडता': 13698, 'सोडतेय': 13699, 'सोडतो': 13700, 'सोडतोय': 13701, 'सोडलं': 13702, 'सोडलंत': 13703, 'सोडलंय': 13704, 'सोडलंस': 13705, 'सोडलत': 13706, 'सोडला': 13707, 'सोडली': 13708, 'सोडलीस': 13709, 'सोडलून': 13710, 'सोडले': 13711, 'सोडलेला': 13712, 'सोडलेली': 13713, 'सोडल्या': 13714, 'सोडल्यानंतर': 13715, 'सोडल्याबरोबर': 13716, 'सोडल्यास': 13717, 'सोडवत': 13718, 'सोडवता': 13719, 'सोडवली': 13720, 'सोडवल्या': 13721, 'सोडा': 13722, 'सोडाच': 13723, 'सोडायचं': 13724, 'सोडायचा': 13725, 'सोडायची': 13726, 'सोडायला': 13727, 'सोडावं': 13728, 'सोडू': 13729, 'सोडूच': 13730, 'सोडून': 13731, 'सोडूया': 13732, 'सोडेन': 13733, 'सोडेल': 13734, 'सोनं': 13735, 'सोनाटा': 13736, 'सोने': 13737, 'सोनेरी': 13738, 'सोन्याचं': 13739, 'सोन्याचा': 13740, 'सोन्याची': 13741, 'सोन्याच्या': 13742, 'सोन्यापेक्षा': 13743, 'सोन्साबरोबर': 13744, 'सोपं': 13745, 'सोपवलं': 13746, 'सोपवली': 13747, 'सोपवून': 13748, 'सोपा': 13749, 'सोपी': 13750, 'सोपे': 13751, 'सोप्या': 13752, 'सोप्रानो': 13753, 'सोफा': 13754, 'सोफ्याखाली': 13755, 'सोफ्यावर': 13756, 'सोबत': 13757, 'सोमनारच': 13758, 'सोमनारी': 13759, 'सोमवार': 13760, 'सोमवारच्या': 13761, 'सोमवारपर्यंत': 13762, 'सोमवारी': 13763, 'सोमवारीही': 13764, 'सोल': 13765, 'सोलत': 13766, 'सोलता': 13767, 'सोलतेय': 13768, 'सोलतोय': 13769, 'सोललं': 13770, 'सोलला': 13771, 'सोलली': 13772, 'सोलले': 13773, 'सोला': 13774, 'सोलून': 13775, 'सोळा': 13776, 'सोव्हिएत': 13777, 'सोशल': 13778, 'सोहळा': 13779, 'सौदा': 13780, 'सौदी': 13781, 'सौम्य': 13782, 'स्कर्ट': 13783, 'स्किझोफ्रेनिक': 13784, 'स्की': 13785, 'स्कूटर': 13786, 'स्कूलचं': 13787, 'स्कूलला': 13788, 'स्कॅन': 13789, 'स्केट': 13790, 'स्केट्सना': 13791, 'स्कॉटलंडची': 13792, 'स्कॉटलंडमध्ये': 13793, 'स्कॉटिश': 13794, 'स्कोअर': 13795, 'स्कोन': 13796, 'स्कोर': 13797, 'स्क्रीनकडे': 13798, 'स्क्रीनसेव्हर': 13799, 'स्क्रू': 13800, 'स्क्रूड्रायव्हर': 13801, 'स्क्विडचे': 13802, 'स्क्वॅश': 13803, 'स्टार्टपमध्ये': 13804, 'स्टार्स': 13805, 'स्टालिनला': 13806, 'स्टिक्स': 13807, 'स्टूलवर': 13808, 'स्टॅच्यू': 13809, 'स्टॅम्प': 13810, 'स्टेक': 13811, 'स्टेट': 13812, 'स्टेट्स': 13813, 'स्टेट्सकडे': 13814, 'स्टेट्सची': 13815, 'स्टेट्सचे': 13816, 'स्टेट्सच्या': 13817, 'स्टेट्सने': 13818, 'स्टेट्सपासून': 13819, 'स्टेट्समधील': 13820, 'स्टेट्समध्ये': 13821, 'स्टेडियमला': 13822, 'स्टेनोग्राफीचा': 13823, 'स्टेपलर': 13824, 'स्टेरॉइड': 13825, 'स्टेशन': 13826, 'स्टेशनच्या': 13827, 'स्टेशनजवळ': 13828, 'स्टेशनजवळच': 13829, 'स्टेशनपर्यंत': 13830, 'स्टेशनपासून': 13831, 'स्टेशनमध्ये': 13832, 'स्टेशनला': 13833, 'स्टेशनवरून': 13834, 'स्टेशनसमोर': 13835, 'स्टॉकहोल्म': 13836, 'स्टॉप': 13837, 'स्टोव्ह': 13838, 'स्टोव्हवर': 13839, 'स्ट्राइप्स': 13840, 'स्ट्रिक्ट': 13841, 'स्ट्रीट': 13842, 'स्ट्रीटला': 13843, 'स्ट्रीटवर': 13844, 'स्ट्रॉबेरी': 13845, 'स्तनाचा': 13846, 'स्तुती': 13847, 'स्त्रिया': 13848, 'स्त्रियांचा': 13849, 'स्त्रियांच्या': 13850, 'स्त्रियांना': 13851, 'स्त्रियांपेक्षा': 13852, 'स्त्रियांवर': 13853, 'स्त्री': 13854, 'स्त्रीचा': 13855, 'स्त्रीया': 13856, 'स्त्रीला': 13857, 'स्थाईक': 13858, 'स्थानक': 13859, 'स्थानकाकडे': 13860, 'स्थानकाचं': 13861, 'स्थानकाच्या': 13862, 'स्थानकाजवळ': 13863, 'स्थानकात': 13864, 'स्थानकापर्यंत': 13865, 'स्थानकापासून': 13866, 'स्थानकाला': 13867, 'स्थानकावर': 13868, 'स्थानकासमोर': 13869, 'स्थानबद्ध': 13870, 'स्थानिक': 13871, 'स्थापन': 13872, 'स्थापना': 13873, 'स्थापित': 13874, 'स्थित': 13875, 'स्थिती': 13876, 'स्थिर': 13877, 'स्नानगृह': 13878, 'स्नानगृहात': 13879, 'स्नायू': 13880, 'स्नोबोर्डिंग': 13881, 'स्पर्धकांमधील': 13882, 'स्पर्धा': 13883, 'स्पर्धेत': 13884, 'स्पर्श': 13885, 'स्पष्ट': 13886, 'स्पष्टपणे': 13887, 'स्पुटनिक': 13888, 'स्पॅगेटी': 13889, 'स्पॅनिश': 13890, 'स्पॅनिशमध्ये': 13891, 'स्पेन': 13892, 'स्पेनचा': 13893, 'स्पेनची': 13894, 'स्पेनच्या': 13895, 'स्पेनमधील': 13896, 'स्पेनमध्ये': 13897, 'स्पेनला': 13898, 'स्पेनवर': 13899, 'स्पेनविषयी': 13900, 'स्पेनशी': 13901, 'स्पेलिंग': 13902, 'स्फटिकी': 13903, 'स्फिंक्स': 13904, 'स्फोट': 13905, 'स्फोटात': 13906, 'स्फोटामुळे': 13907, 'स्मरणशक्ती': 13908, 'स्मार्टफोन': 13909, 'स्मिथ': 13910, 'स्मृती': 13911, 'स्रोत': 13912, 'स्लाइस': 13913, 'स्लिपर': 13914, 'स्वच्छ': 13915, 'स्वच्छतागृह': 13916, 'स्वतंत्र': 13917, 'स्वतः': 13918, 'स्वतःकडे': 13919, 'स्वतःच': 13920, 'स्वतःचं': 13921, 'स्वतःचंच': 13922, 'स्वतःचा': 13923, 'स्वतःचाच': 13924, 'स्वतःची': 13925, 'स्वतःचीच': 13926, 'स्वतःचे': 13927, 'स्वतःचेच': 13928, 'स्वतःच्या': 13929, 'स्वतःच्याच': 13930, 'स्वतःपुरतं': 13931, 'स्वतःपुर्ती': 13932, 'स्वतःबद्दल': 13933, 'स्वतःबरोबर': 13934, 'स्वतःला': 13935, 'स्वतःलाही': 13936, 'स्वतःवर': 13937, 'स्वतःवरच': 13938, 'स्वतःशिवाय': 13939, 'स्वतःशी': 13940, 'स्वतःशीच': 13941, 'स्वतःसाठी': 13942, 'स्वतःहून': 13943, 'स्वतःहूनच': 13944, 'स्वतःहूनसुद्धा': 13945, 'स्वताची': 13946, 'स्वताचे': 13947, 'स्वताच्या': 13948, 'स्वताहून': 13949, 'स्वप्न': 13950, 'स्वप्नं': 13951, 'स्वप्नच': 13952, 'स्वप्नही': 13953, 'स्वप्नांशिवाय': 13954, 'स्वप्नात': 13955, 'स्वप्नातही': 13956, 'स्वप्नासारखं': 13957, 'स्वप्ने': 13958, 'स्वभावाचा': 13959, 'स्वभावाला': 13960, 'स्वयंपाक': 13961, 'स्वयंपाकघर': 13962, 'स्वयंपाकघराचा': 13963, 'स्वयंपाकघरात': 13964, 'स्वयंपाकघरातच': 13965, 'स्वयंपाकघरातला': 13966, 'स्वयंपाकघरातल्या': 13967, 'स्वयंपाकघरातून': 13968, 'स्वयंपाकी': 13969, 'स्वर्गात': 13970, 'स्वस्त': 13971, 'स्वस्तात': 13972, 'स्वस्तातला': 13973, 'स्वस्तातल्या': 13974, 'स्वागत': 13975, 'स्वातंत्र्य': 13976, 'स्वातंत्र्यदिन': 13977, 'स्वातंत्र्याचा': 13978, 'स्वातंत्र्याची': 13979, 'स्वातंत्र्याच्या': 13980, 'स्वातंत्र्यासाठी': 13981, 'स्वादिष्ट': 13982, 'स्वारी': 13983, 'स्वार्थी': 13984, 'स्वावलंबी': 13985, 'स्वित्झर्लंड': 13986, 'स्वित्झर्लंडची': 13987, 'स्वित्झर्लंडच्या': 13988, 'स्वित्झर्लंडमधील': 13989, 'स्वित्झर्लंडमध्ये': 13990, 'स्विमिंग': 13991, 'स्विमिंगपूलमध्ये': 13992, 'स्विम्सूट': 13993, 'स्विस': 13994, 'स्वीकार': 13995, 'स्वीकारत': 13996, 'स्वीकारते': 13997, 'स्वीकारतो': 13998, 'स्वीकारलं': 13999, 'स्वीकारला': 14000, 'स्वीकारली': 14001, 'स्वीकारू': 14002, 'स्वीकारेन': 14003, 'स्वीडनची': 14004, 'स्वीडनमधील': 14005, 'स्वीडिश': 14006, 'स्वीडिशसुद्धा': 14007, 'स्वेटर': 14008, 'हँगरवर': 14009, 'हँडसम': 14010, 'हँबर्गर': 14011, 'हं': 14012, 'हंगेरियन': 14013, 'हंगेरीची': 14014, 'हक्क': 14015, 'हजर': 14016, 'हजार': 14017, 'हजारापेक्षा': 14018, 'हजारो': 14019, 'हट': 14020, 'हड्डींमुळे': 14021, 'हत्ती': 14022, 'हत्तींचे': 14023, 'हत्तींच्या': 14024, 'हत्तींना': 14025, 'हत्तींपेक्षा': 14026, 'हत्तीकडे': 14027, 'हत्तीपेक्षा': 14028, 'हत्तीला': 14029, 'हत्तीवर': 14030, 'हत्या': 14031, 'हत्यार': 14032, 'हमिंगबर्ड': 14033, 'हरकत': 14034, 'हरण': 14035, 'हरणं': 14036, 'हरणार': 14037, 'हरणाला': 14038, 'हरण्याचा': 14039, 'हरत': 14040, 'हरतो': 14041, 'हरला': 14042, 'हरली': 14043, 'हरले': 14044, 'हरलो': 14045, 'हरल्या': 14046, 'हरवणं': 14047, 'हरवणार': 14048, 'हरवण्याचा': 14049, 'हरवण्यात': 14050, 'हरवत': 14051, 'हरवताहेत': 14052, 'हरवतील': 14053, 'हरवतेय': 14054, 'हरवलं': 14055, 'हरवलंय': 14056, 'हरवला': 14057, 'हरवलाय': 14058, 'हरवली': 14059, 'हरवले': 14060, 'हरवलेय': 14061, 'हरवलेलं': 14062, 'हरवलेला': 14063, 'हरवलेली': 14064, 'हरवलो': 14065, 'हरवलोय': 14066, 'हरवल्या': 14067, 'हरवशील': 14068, 'हरवाल': 14069, 'हरवू': 14070, 'हरवून': 14071, 'हरवेल': 14072, 'हरशील': 14073, 'हरायचं': 14074, 'हरायला': 14075, 'हराल': 14076, 'हरू': 14077, 'हरेन': 14078, 'हर्बर्ट': 14079, 'हर्बल': 14080, 'हलकं': 14081, 'हलका': 14082, 'हलकी': 14083, 'हलत': 14084, 'हलता': 14085, 'हलला': 14086, 'हलवता': 14087, 'हलवला': 14088, 'हलवली': 14089, 'हलवले': 14090, 'हलवायला': 14091, 'हलवू': 14092, 'हलवूया': 14093, 'हलू': 14094, 'हल्ला': 14095, 'हल्लीच': 14096, 'हल्लेखोर': 14097, 'हल्ल्याची': 14098, 'हळुवारपणे': 14099, 'हळू': 14100, 'हळूच': 14101, 'हळूवारपणे': 14102, 'हळूहळू': 14103, 'हवं': 14104, 'हवंय': 14105, 'हवंस': 14106, 'हवा': 14107, 'हवाईची': 14108, 'हवाईयन': 14109, 'हवाईला': 14110, 'हवामान': 14111, 'हवामानाची': 14112, 'हवामानाबद्दल': 14113, 'हवाय': 14114, 'हवास': 14115, 'हवी': 14116, 'हवीत': 14117, 'हवीस': 14118, 'हवे': 14119, 'हवेत': 14120, 'हवेय': 14121, 'हवेयत': 14122, 'हव्या': 14123, 'हव्हानामध्ये': 14124, 'हसणं': 14125, 'हसणार': 14126, 'हसण्याची': 14127, 'हसण्यासारखं': 14128, 'हसत': 14129, 'हसतंय': 14130, 'हसतच': 14131, 'हसता': 14132, 'हसतात': 14133, 'हसताना': 14134, 'हसताहेत': 14135, 'हसतील': 14136, 'हसते': 14137, 'हसतेय': 14138, 'हसतो': 14139, 'हसतोय': 14140, 'हसतोयस': 14141, 'हसलं': 14142, 'हसला': 14143, 'हसली': 14144, 'हसले': 14145, 'हसलो': 14146, 'हसल्या': 14147, 'हसवण्यात': 14148, 'हसवता': 14149, 'हसवतेस': 14150, 'हसवतो': 14151, 'हसवतोस': 14152, 'हसवलं': 14153, 'हसवलंत': 14154, 'हसवलंस': 14155, 'हसवायचा': 14156, 'हसवू': 14157, 'हसशील': 14158, 'हसायचं': 14159, 'हसायला': 14160, 'हसाल': 14161, 'हसू': 14162, 'हसेन': 14163, 'हसेल': 14164, 'हस्ताक्षर': 14165, 'हा': 14166, 'हाँगकाँगद्वारे': 14167, 'हाँगकाँगमध्ये': 14168, 'हाँगकाँगला': 14169, 'हाउसला': 14170, 'हाऊस': 14171, 'हाऊसला': 14172, 'हाक': 14173, 'हाकोदातेला': 14174, 'हाच': 14175, 'हाडांनी': 14176, 'हात': 14177, 'हातपाय': 14178, 'हातसुद्धा': 14179, 'हातही': 14180, 'हातांत': 14181, 'हातांनी': 14182, 'हातांवर': 14183, 'हातात': 14184, 'हाताने': 14185, 'हाताला': 14186, 'हातावर': 14187, 'हाती': 14188, 'हातून': 14189, 'हातोडा': 14190, 'हादरून': 14191, 'हाय': 14192, 'हायब्रिड': 14193, 'हायवेवर': 14194, 'हार': 14195, 'हार्ड': 14196, 'हार्डवेअरच्या': 14197, 'हार्दिक': 14198, 'हार्प': 14199, 'हार्पर्स': 14200, 'हार्पसिकॉर्डदेखील': 14201, 'हार्बर': 14202, 'हार्वर्ड': 14203, 'हार्वर्डला': 14204, 'हार्वी': 14205, 'हालचाल': 14206, 'हावरट': 14207, 'हास्य': 14208, 'हास्यास्पद': 14209, 'हिंदूंसाठी': 14210, 'हिंमत': 14211, 'हिंसक': 14212, 'हिंसा': 14213, 'हिंसेत': 14214, 'हिट': 14215, 'हिटलर': 14216, 'हिट्लरने': 14217, 'हिदेयो': 14218, 'हिप्पी': 14219, 'हिप्स्टर': 14220, 'हिब्रूमध्ये': 14221, 'हिमालय': 14222, 'हिमालयमधले': 14223, 'हिमोग्लोबिन': 14224, 'हिरवं': 14225, 'हिरवा': 14226, 'हिरवी': 14227, 'हिरवे': 14228, 'हिरव्या': 14229, 'हिरा': 14230, 'हिरावून': 14231, 'हिरे': 14232, 'हिरॉइन': 14233, 'हिरोशिमा': 14234, 'हिरोशिमावर': 14235, 'हिर्\\u200dयाची': 14236, 'हिल': 14237, 'हिलबिली': 14238, 'हिल्टन': 14239, 'हिवाळा': 14240, 'हिवाळ्यात': 14241, 'हिवाळ्यातही': 14242, 'हिशोबानं': 14243, 'हिशोबाने': 14244, 'ही': 14245, 'हीच': 14246, 'हील्स': 14247, 'हुकुमशहाचं': 14248, 'हुकुमशाही': 14249, 'हुकूम': 14250, 'हुला': 14251, 'हुशार': 14252, 'हूप': 14253, 'हूव्हर': 14254, 'हृदय': 14255, 'हृदयात': 14256, 'हृदयाने': 14257, 'हॅक': 14258, 'हॅकसॉ': 14259, 'हॅगिस': 14260, 'हॅपी': 14261, 'हॅम': 14262, 'हॅमबर्गर': 14263, 'हॅमलेट': 14264, 'हॅमिल्टनने': 14265, 'हॅम्बर्गर': 14266, 'हॅम्लेट': 14267, 'हॅलो': 14268, 'हॅलोवीन': 14269, 'हॅलोवीनच्या': 14270, 'हे': 14271, 'हेअरस्टाइल': 14272, 'हेअरस्टाईल': 14273, 'हेइझ': 14274, 'हेच': 14275, 'हेडफोन': 14276, 'हेडफोन्स': 14277, 'हेडलाईट': 14278, 'हेडलाईट्स': 14279, 'हेडसेट': 14280, 'हेड्फोन': 14281, 'हेतु': 14282, 'हेतू': 14283, 'हेतूने': 14284, 'हेन्री': 14285, 'हेर': 14286, 'हेराने': 14287, 'हेरोइन': 14288, 'हेलिकॉप्टर': 14289, 'हेलिकॉप्टरच्या': 14290, 'हेलिकॉप्टरमध्ये': 14291, 'हेलिकॉप्टरवर': 14292, 'हेल्मेट': 14293, 'हेल्मेटची': 14294, 'हेल्सिंकी': 14295, 'हेव्ही': 14296, 'हेसुद्धा': 14297, 'हेही': 14298, 'है': 14299, 'हॉकी': 14300, 'हॉकीचे': 14301, 'हॉट': 14302, 'हॉटडॉग': 14303, 'हॉटेल': 14304, 'हॉटेलं': 14305, 'हॉटेलचं': 14306, 'हॉटेलचा': 14307, 'हॉटेलचे': 14308, 'हॉटेलच्या': 14309, 'हॉटेलपेक्षा': 14310, 'हॉटेलमधलं': 14311, 'हॉटेलमध्ये': 14312, 'हॉटेलला': 14313, 'हॉटेलात': 14314, 'हॉर्न': 14315, 'हॉर्नला': 14316, 'हॉर्सरॅडिश': 14317, 'हॉल': 14318, 'हॉलंडपासून': 14319, 'हॉलच्या': 14320, 'हॉलमध्ये': 14321, 'हॉस्पिटल': 14322, 'हॉस्पिटलच्या': 14323, 'हॉस्पिटलमध्ये': 14324, 'हॉस्पिटलला': 14325, 'हो': 14326, 'होईन': 14327, 'होईपर्यंत': 14328, 'होईल': 14329, 'होईलच': 14330, 'होऊ': 14331, 'होऊन': 14332, 'होऊया': 14333, 'होकायंत्र': 14334, 'होक्काइदो': 14335, 'होक्काइदोचा': 14336, 'होक्काइदोचे': 14337, 'होक्काइदोला': 14338, 'होच': 14339, 'होझ': 14340, 'होडफोन्स': 14341, 'होडीने': 14342, 'होणार': 14343, 'होण्याअगोदर': 14344, 'होण्यात': 14345, 'होत': 14346, 'होतं': 14347, 'होतंच': 14348, 'होतंत': 14349, 'होतंय': 14350, 'होतंस': 14351, 'होतच': 14352, 'होता': 14353, 'होताच': 14354, 'होतात': 14355, 'होतातच': 14356, 'होतायत': 14357, 'होतास': 14358, 'होती': 14359, 'होतीच': 14360, 'होतील': 14361, 'होतीस': 14362, 'होते': 14363, 'होतेय': 14364, 'होतो': 14365, 'होतोय': 14366, 'होत्या': 14367, 'होन्शू': 14368, 'होम': 14369, 'होमवर्क': 14370, 'होमस्टेड': 14371, 'होय': 14372, 'होवून': 14373, 'होशील': 14374, 'ह्या': 14375, 'ह्यांना': 14376, 'ह्यांनी': 14377, 'ह्यांमधून': 14378, 'ह्याच': 14379, 'ह्याचं': 14380, 'ह्याचा': 14381, 'ह्याची': 14382, 'ह्यातलं': 14383, 'ह्यातून': 14384, 'ह्याने': 14385, 'ह्याबद्दल': 14386, 'ह्यामध्ये': 14387, 'ह्यामुळे': 14388, 'ह्याला': 14389, 'ह्यावर': 14390, 'ह्रदयात': 14391, '€': 14392}\n"
          ]
        }
      ],
      "source": [
        "input_token_index = dict([(word, i+1) for i, word in enumerate(input_words)])\n",
        "target_token_index = dict([(word, i+1) for i, word in enumerate(target_words)])\n",
        "print(input_token_index)\n",
        "print(target_token_index)"
      ]
    },
    {
      "cell_type": "code",
      "execution_count": null,
      "metadata": {
        "colab": {
          "base_uri": "https://localhost:8080/"
        },
        "id": "lK4tjqm7_f63",
        "outputId": "6033a7e0-aa31-4c52-ca09-20cecc1a523f"
      },
      "outputs": [
        {
          "name": "stdout",
          "output_type": "stream",
          "text": [
            "{1: '10', 2: '100', 3: '300', 4: 'START_', 5: '_END', 6: 'a', 7: 'b', 8: 'h₂o', 9: 'ntt', 10: 'uk', 11: 'अ', 12: 'अँकरेजमार्गे', 13: 'अँजिलीस', 14: 'अँटीव्हायरस', 15: 'अँड', 16: 'अँडी', 17: 'अँडीजमधल्या', 18: 'अँब्युलन्स', 19: 'अंक', 20: 'अंकांनी', 21: 'अंकारा', 22: 'अंकारात', 23: 'अंग', 24: 'अंगठ्या', 25: 'अंगरक्षकांची', 26: 'अंगाला', 27: 'अंगोला', 28: 'अंघोळ', 29: 'अंठ्यांपेक्षा', 30: 'अंड', 31: 'अंडरवेअर', 32: 'अंडी', 33: 'अंडींचा', 34: 'अंडीसुद्धा', 35: 'अंड्यांवर', 36: 'अंड्यांसहित', 37: 'अंत', 38: 'अंतर', 39: 'अंतराळयात्री', 40: 'अंतराळयान', 41: 'अंतराळयानाचं', 42: 'अंतराळयानातून', 43: 'अंतराळवीर', 44: 'अंतराळात', 45: 'अंतरित', 46: 'अंतिम', 47: 'अंदाज', 48: 'अंदाजे', 49: 'अंधार', 50: 'अंधाराची', 51: 'अंधारात', 52: 'अंमलात', 53: 'अंशांकित', 54: 'अकरा', 55: 'अकरावीत', 56: 'अकल्पनीय', 57: 'अकाउंट', 58: 'अकाउंटमध्ये', 59: 'अकॉर्डियन', 60: 'अक्कलदाढ', 61: 'अक्वॅरियममध्ये', 62: 'अक्षर', 63: 'अक्षरं', 64: 'अक्षरांनी', 65: 'अक्षरांमध्ये', 66: 'अक्षरे', 67: 'अखाद्य', 68: 'अखिलेउस', 69: 'अख्खं', 70: 'अख्खा', 71: 'अख्खी', 72: 'अख्ख्या', 73: 'अगं', 74: 'अगदी', 75: 'अगोदर', 76: 'अगोदरच', 77: 'अचानक', 78: 'अचानकच', 79: 'अचूक', 80: 'अच्छा', 81: 'अजिबात', 82: 'अजिबातच', 83: 'अजीबात', 84: 'अजुनपर्यंत', 85: 'अजुनही', 86: 'अजून', 87: 'अजूनच', 88: 'अजूनपर्यंत', 89: 'अजूनही', 90: 'अज्ञात', 91: 'अट', 92: 'अटक', 93: 'अटलांटिक', 94: 'अटॅच', 95: 'अट्लँटिस', 96: 'अठरा', 97: 'अठराच्या', 98: 'अठरावा', 99: 'अठ्ठेचाळीस', 100: 'अडकलं', 101: 'अडकला', 102: 'अडकलाय', 103: 'अडकली', 104: 'अडकले', 105: 'अडकलेयत', 106: 'अडकलेला', 107: 'अडकलेले', 108: 'अडकलेलो', 109: 'अडकलो', 110: 'अडकलोय', 111: 'अडकल्या', 112: 'अडकून', 113: 'अडचण', 114: 'अडचणी', 115: 'अडथळा', 116: 'अडवणार', 117: 'अडीच', 118: 'अडीचला', 119: 'अणु', 120: 'अणुऊर्जेचा', 121: 'अणू', 122: 'अणूऊर्जेचा', 123: 'अण्वस्त्र', 124: 'अता', 125: 'अतिरेकी', 126: 'अतिरेक्यांना', 127: 'अतिरेक्यांनी', 128: 'अतिशय', 129: 'अतिशयोक्ती', 130: 'अती', 131: 'अत्ता', 132: 'अत्ताच', 133: 'अत्ताच्या', 134: 'अत्यंत', 135: 'अत्यावश्यक', 136: 'अथेन्समध्ये', 137: 'अदीप्त', 138: 'अदृश्य', 139: 'अदृष्य', 140: 'अद्ययावत', 141: 'अद्वितीय', 142: 'अधिक', 143: 'अधिकच', 144: 'अधिकाधिक', 145: 'अधिकार', 146: 'अधिकाराला', 147: 'अधिकारी', 148: 'अधिनियमाला', 149: 'अधिवर्षात', 150: 'अधून', 151: 'अधूनमधून', 152: 'अधोरेखित', 153: 'अध्यक्ष', 154: 'अध्यक्षाने', 155: 'अननस', 156: 'अननससारखी', 157: 'अनन्य', 158: 'अनपेक्षित', 159: 'अनाथ', 160: 'अनुज्ञप्तीपत्र', 161: 'अनुपस्थित', 162: 'अनुभव', 163: 'अनुभवत', 164: 'अनुभवता', 165: 'अनुभवदेखील', 166: 'अनुभवसुद्धा', 167: 'अनुभवाने', 168: 'अनुभवाबद्दल', 169: 'अनुभवी', 170: 'अनुवाद', 171: 'अनुवादक', 172: 'अनुवादकाराची', 173: 'अनुसार', 174: 'अनेक', 175: 'अनेकदा', 176: 'अनेकांकडे', 177: 'अनैसर्गिक', 178: 'अनोळखी', 179: 'अन्न', 180: 'अन्नाशिवाय', 181: 'अन्वेषण', 182: 'अपघात', 183: 'अपघाताचा', 184: 'अपघातात', 185: 'अपघातानंतर', 186: 'अपघाताबद्दल', 187: 'अपघातामुळे', 188: 'अपघातासाठी', 189: 'अपडेट', 190: 'अपमान', 191: 'अपयशाचा', 192: 'अपयशी', 193: 'अपराजित', 194: 'अपलोड', 195: 'अपहरण', 196: 'अपूर्ण', 197: 'अपेक्षा', 198: 'अपेक्षित', 199: 'अपेक्षेपेक्षा', 200: 'अपॉइंटमेंट', 201: 'अपॉइन्टमेन्ट', 202: 'अप्रामाणिक', 203: 'अफगाणिस्तानची', 204: 'अफगाणिस्तानातून', 205: 'अफवा', 206: 'अफवेवर', 207: 'अफेअर', 208: 'अब्ज', 209: 'अभिनंदन', 210: 'अभिनय', 211: 'अभिनेता', 212: 'अभिनेते', 213: 'अभिनेत्या', 214: 'अभिनेत्री', 215: 'अभिमान', 216: 'अभिवचन', 217: 'अभिषिक्त', 218: 'अभ्यास', 219: 'अभ्रष्ट', 220: 'अमर', 221: 'अमूल्य', 222: 'अमेरिकन', 223: 'अमेरिकनांकडे', 224: 'अमेरिकनांना', 225: 'अमेरिकनांसाठी', 226: 'अमेरिकनांसारखेच', 227: 'अमेरिका', 228: 'अमेरिकेचं', 229: 'अमेरिकेचा', 230: 'अमेरिकेची', 231: 'अमेरिकेचे', 232: 'अमेरिकेच्या', 233: 'अमेरिकेत', 234: 'अमेरिकेतील', 235: 'अमेरिकेतून', 236: 'अमेरिकेने', 237: 'अमेरिकेपासून', 238: 'अमेरिकेपेक्षा', 239: 'अमेरिकेला', 240: 'अमेरिकेहून', 241: 'अमेरीकी', 242: 'अयशस्वी', 243: 'अरब', 244: 'अरबपती', 245: 'अरबी', 246: 'अरुंद', 247: 'अरे', 248: 'अरेंज्ड', 249: 'अरेबियामध्ये', 250: 'अर्जंट', 251: 'अर्जाच्या', 252: 'अर्थ', 253: 'अर्थव्यवस्था', 254: 'अर्थव्यवस्थेचे', 255: 'अर्थव्यवस्थेत', 256: 'अर्थव्यवस्थेबाबत', 257: 'अर्थशास्त्रज्ञ', 258: 'अर्थशास्त्राचा', 259: 'अर्थहीन', 260: 'अर्थी', 261: 'अर्ध', 262: 'अर्धं', 263: 'अर्धवट', 264: 'अर्धा', 265: 'अर्धी', 266: 'अर्धे', 267: 'अर्ध्या', 268: 'अर्ध्यापेक्षा', 269: 'अर्ल', 270: 'अलार्म', 271: 'अलिकडच्या', 272: 'अलिकडेच', 273: 'अली', 274: 'अलीकडेच', 275: 'अल्कोहोलचा', 276: 'अल्कोहोलने', 277: 'अल्कोहोलसुद्धा', 278: 'अल्जीरिया', 279: 'अल्जीरियाला', 280: 'अल्जेरियन', 281: 'अल्प', 282: 'अल्पवयीन', 283: 'अल्बम', 284: 'अल्बममध्ये', 285: 'अवकाश', 286: 'अवकाशयात्री', 287: 'अवकाशाकडे', 288: 'अवकाशात', 289: 'अवकाशातून', 290: 'अवघडला', 291: 'अवलंबून', 292: 'अवस्था', 293: 'अवस्थेत', 294: 'अविभाज्य', 295: 'अविवाहित', 296: 'अशक्य', 297: 'अशक्यच', 298: 'अशा', 299: 'अशी', 300: 'अशीच', 301: 'अश्या', 302: 'अश्रू', 303: 'अश्लील', 304: 'असं', 305: 'असंख्य', 306: 'असंच', 307: 'असंबंधित', 308: 'असंभवनीय', 309: 'असंभाव्य', 310: 'असच', 311: 'असणं', 312: 'असणार', 313: 'असणार्\\u200dया', 314: 'असणे', 315: 'असण्याचा', 316: 'असण्यात', 317: 'असण्याने', 318: 'असण्यापेक्षा', 319: 'असत', 320: 'असतं', 321: 'असतंस', 322: 'असता', 323: 'असतात', 324: 'असतातच', 325: 'असताना', 326: 'असतानाही', 327: 'असतास', 328: 'असती', 329: 'असतील', 330: 'असतीस', 331: 'असते', 332: 'असतेस', 333: 'असतो', 334: 'असतोस', 335: 'असत्या', 336: 'असफल', 337: 'असलं', 338: 'असला', 339: 'असलात', 340: 'असली', 341: 'असले', 342: 'असलेलं', 343: 'असलेला', 344: 'असलेली', 345: 'असलेले', 346: 'असलेल्या', 347: 'असल्या', 348: 'असल्याचं', 349: 'असल्याचा', 350: 'असल्याची', 351: 'असल्यापासून', 352: 'असल्याप्रमाणे', 353: 'असल्याबरोबर', 354: 'असल्याबरोबरच', 355: 'असल्यामुळे', 356: 'असल्याशिवाय', 357: 'असल्यास', 358: 'असल्यासारखं', 359: 'असल्यासारखा', 360: 'असल्यासार्खं', 361: 'असशील', 362: 'असहनीय', 363: 'असहमत', 364: 'असा', 365: 'असाच', 366: 'असायचं', 367: 'असायचा', 368: 'असायची', 369: 'असायचे', 370: 'असायचो', 371: 'असायला', 372: 'असायलाच', 373: 'असाल', 374: 'असावं', 375: 'असावा', 376: 'असावास', 377: 'असावी', 378: 'असावेत', 379: 'असाव्यात', 380: 'असिस्टंट', 381: 'असू', 382: 'असूच', 383: 'असून', 384: 'असूनसुद्धा', 385: 'असूनही', 386: 'असे', 387: 'असेच', 388: 'असेन', 389: 'असेपर्यंत', 390: 'असेल', 391: 'असेलच', 392: 'अस्तित्व', 393: 'अस्तित्वात', 394: 'अस्तित्वातच', 395: 'अस्थायी', 396: 'अस्वच्छ', 397: 'अस्वल', 398: 'अस्वलं', 399: 'अस्वलांची', 400: 'अस्वलांशी', 401: 'अस्वलाला', 402: 'अस्वस्थ', 403: 'अहवाल', 404: 'अ\\u200dँडोरा', 405: 'अ\\u200dॅंडरसन', 406: 'अ\\u200dॅक्ट', 407: 'अ\\u200dॅक्टींग', 408: 'अ\\u200dॅक्शन', 409: 'अ\\u200dॅक्सेंटची', 410: 'अ\\u200dॅटिट्यूड', 411: 'अ\\u200dॅट्लांटिस', 412: 'अ\\u200dॅड', 413: 'अ\\u200dॅडऑन', 414: 'अ\\u200dॅडमिशन', 415: 'अ\\u200dॅड्रेस', 416: 'अ\\u200dॅण्ड', 417: 'अ\\u200dॅनाकाँडाने', 418: 'अ\\u200dॅन्ड्रॉइड', 419: 'अ\\u200dॅप', 420: 'अ\\u200dॅपल', 421: 'अ\\u200dॅप्पलसॉस', 422: 'अ\\u200dॅमस्टरडॅममधील', 423: 'अ\\u200dॅमेझॉन', 424: 'अ\\u200dॅम्स्टरडॅम', 425: 'अ\\u200dॅरिझोनाची', 426: 'अ\\u200dॅलफ्रेड', 427: 'अ\\u200dॅलर्जी', 428: 'अ\\u200dॅलाइड', 429: 'अ\\u200dॅलिस', 430: 'अ\\u200dॅलिसने', 431: 'अ\\u200dॅलिसशी', 432: 'अ\\u200dॅलिससोबत', 433: 'अ\\u200dॅलेक्झँडर', 434: 'अ\\u200dॅल्प्स', 435: 'अ\\u200dॅल्प्सपेक्षा', 436: 'अ\\u200dॅशट्रे', 437: 'अ\\u200dॅसीटोन', 438: 'आंगठी', 439: 'आंघोळ', 440: 'आंतरराष्ट्रीय', 441: 'आंतर्राष्ट्रीय', 442: 'आंधळं', 443: 'आंधळा', 444: 'आंधळी', 445: 'आंधळे', 446: 'आंधळ्या', 447: 'आंबट', 448: 'आंबा', 449: 'आंबे', 450: 'आइनस्टाइन', 451: 'आइसलँड', 452: 'आइसलँडमध्ये', 453: 'आइसेनहोवर', 454: 'आई', 455: 'आईंचं', 456: 'आईंच्या', 457: 'आईंना', 458: 'आईइतकी', 459: 'आईकडून', 460: 'आईचं', 461: 'आईचा', 462: 'आईची', 463: 'आईच्या', 464: 'आईने', 465: 'आईपेक्षा', 466: 'आईबरोबर', 467: 'आईबाबा', 468: 'आईबाबांना', 469: 'आईबाबांनी', 470: 'आईबाबांबरोबर', 471: 'आईबाबांशी', 472: 'आईला', 473: 'आईवडिलांची', 474: 'आईवडिलांच्या', 475: 'आईवडिलांना', 476: 'आईवडिलांबरोबर', 477: 'आईवडिलांवर', 478: 'आईवडिलांशी', 479: 'आईवडिलांसोबत', 480: 'आईवडील', 481: 'आईवडीलसुद्धा', 482: 'आईवर', 483: 'आईशप्पथ', 484: 'आईशी', 485: 'आईसक्रिम', 486: 'आईसाठी', 487: 'आईसारखं', 488: 'आईसारखा', 489: 'आईसारखी', 490: 'आईसारखीच', 491: 'आईसारखे', 492: 'आईसारखेच', 493: 'आईसोबत', 494: 'आईस्क्रिम', 495: 'आईस्क्रीम', 496: 'आउट', 497: 'आकर्षक', 498: 'आकार', 499: 'आकाराचं', 500: 'आकाराचा', 501: 'आकाराचे', 502: 'आकाराच्या', 503: 'आकाश', 504: 'आकाशगंगा', 505: 'आकाशाकडे', 506: 'आकाशात', 507: 'आकाशातून', 508: 'आक्रमक', 509: 'आक्रमण', 510: 'आक्रमणात', 511: 'आक्रमणाला', 512: 'आक्षेप', 513: 'आखात', 514: 'आखाती', 515: 'आग', 516: 'आगदीत', 517: 'आगीचं', 518: 'आगीचा', 519: 'आगीजवळ', 520: 'आगीत', 521: 'आगीने', 522: 'आगीपाशी', 523: 'आगीपासून', 524: 'आगीबद्दल', 525: 'आगीबरोबर', 526: 'आगीभोवती', 527: 'आगीला', 528: 'आगीशिवाय', 529: 'आग्रह', 530: 'आज', 531: 'आजकाल', 532: 'आजकालचे', 533: 'आजच', 534: 'आजचं', 535: 'आजचा', 536: 'आजची', 537: 'आजचे', 538: 'आजच्या', 539: 'आजपर्यंत', 540: 'आजपेक्षा', 541: 'आजबाबत', 542: 'आजसाठी', 543: 'आजार', 544: 'आजाराचा', 545: 'आजारामुळे', 546: 'आजारी', 547: 'आजी', 548: 'आजीआजोबा', 549: 'आजीआजोबांशी', 550: 'आजीच्या', 551: 'आजीने', 552: 'आजीबद्दल', 553: 'आजीबरोबर', 554: 'आजीला', 555: 'आजुबाजुला', 556: 'आजून', 557: 'आजूबाजूला', 558: 'आजोबा', 559: 'आजोबांचं', 560: 'आजोबांची', 561: 'आजोबांच्या', 562: 'आजोबांना', 563: 'आजोबांनी', 564: 'आजोबांसोबत', 565: 'आज्जीची', 566: 'आज्ञा', 567: 'आटपेल', 568: 'आठ', 569: 'आठला', 570: 'आठवडा', 571: 'आठवडाभर', 572: 'आठवडे', 573: 'आठवड्यांचे', 574: 'आठवड्यांपासून', 575: 'आठवड्यांपूर्वी', 576: 'आठवड्यांमध्ये', 577: 'आठवड्याचा', 578: 'आठवड्याच्या', 579: 'आठवड्यात', 580: 'आठवड्यातच', 581: 'आठवड्यातला', 582: 'आठवड्यातून', 583: 'आठवड्यानंतर', 584: 'आठवड्यापूर्वी', 585: 'आठवड्याला', 586: 'आठवण', 587: 'आठवणार', 588: 'आठवणी', 589: 'आठवणीने', 590: 'आठवत', 591: 'आठवतं', 592: 'आठवतंय', 593: 'आठवतही', 594: 'आठवता', 595: 'आठवतात', 596: 'आठवते', 597: 'आठवतेस', 598: 'आठवतो', 599: 'आठवतोस', 600: 'आठवलं', 601: 'आठवला', 602: 'आठवली', 603: 'आठवले', 604: 'आठवल्यासारखं', 605: 'आठवायचं', 606: 'आठवायचा', 607: 'आठवायला', 608: 'आठवीत', 609: 'आठवून', 610: 'आठवेल', 611: 'आठव्या', 612: 'आडनाव', 613: 'आडवे', 614: 'आढळली', 615: 'आढळून', 616: 'आण', 617: 'आणखी', 618: 'आणखीन', 619: 'आणखीनच', 620: 'आणण्याचं', 621: 'आणण्याचा', 622: 'आणण्यात', 623: 'आणण्यासाठी', 624: 'आणत', 625: 'आणतात', 626: 'आणते', 627: 'आणतो', 628: 'आणलं', 629: 'आणलंत', 630: 'आणलंस', 631: 'आणला', 632: 'आणलात', 633: 'आणलास', 634: 'आणली', 635: 'आणलीत', 636: 'आणलीस', 637: 'आणले', 638: 'आणलेला', 639: 'आणल्या', 640: 'आणा', 641: 'आणायची', 642: 'आणायला', 643: 'आणि', 644: 'आणीन', 645: 'आणीबाणी', 646: 'आणू', 647: 'आणून', 648: 'आणेन', 649: 'आणेल', 650: 'आत', 651: 'आतच', 652: 'आतमधून', 653: 'आतमध्ये', 654: 'आता', 655: 'आताच', 656: 'आताच्या', 657: 'आतातरी', 658: 'आतापर्यंत', 659: 'आतापासून', 660: 'आता।', 661: 'आतून', 662: 'आतेबहीण', 663: 'आतेभाऊ', 664: 'आत्ता', 665: 'आत्ताच', 666: 'आत्ताच्या', 667: 'आत्तापर्यंत', 668: 'आत्तापासून', 669: 'आत्तासाठी', 670: 'आत्मचरित्र', 671: 'आत्महत्या', 672: 'आत्मा', 673: 'आत्म्यांशी', 674: 'आत्या', 675: 'आत्याने', 676: 'आत्याबरोबर', 677: 'आत्याला', 678: 'आत्यासारखी', 679: 'आदर', 680: 'आदल्या', 681: 'आदेश', 682: 'आद्याक्षरांचा', 683: 'आधाराने', 684: 'आधिच', 685: 'आधी', 686: 'आधीच', 687: 'आधीपासूनच', 688: 'आधीही', 689: 'आधुनिक', 690: 'आनंद', 691: 'आनंदी', 692: 'आपटलं', 693: 'आपटला', 694: 'आपटली', 695: 'आपटून', 696: 'आपण', 697: 'आपणच', 698: 'आपणसुद्धा', 699: 'आपणही', 700: 'आपलं', 701: 'आपलंच', 702: 'आपला', 703: 'आपली', 704: 'आपलीच', 705: 'आपले', 706: 'आपल्या', 707: 'आपल्याकडे', 708: 'आपल्यात', 709: 'आपल्यातला', 710: 'आपल्यातलाच', 711: 'आपल्यातल्या', 712: 'आपल्यापासून', 713: 'आपल्यापेक्षा', 714: 'आपल्याबद्दल', 715: 'आपल्याबरोबर', 716: 'आपल्यामागे', 717: 'आपल्याला', 718: 'आपल्यावर', 719: 'आपल्याशी', 720: 'आपल्यासाठी', 721: 'आपल्यासारखा', 722: 'आपल्यासोबत', 723: 'आपापलं', 724: 'आपापला', 725: 'आपापली', 726: 'आपापल्या', 727: 'आपोआप', 728: 'आफ्रिकन', 729: 'आफ्रिकनअमेरिकन', 730: 'आफ्रिका', 731: 'आफ्रिकेचा', 732: 'आफ्रिकेची', 733: 'आफ्रिकेत', 734: 'आफ्रिकेतली', 735: 'आफ्रिकेतील', 736: 'आफ्रिकेला', 737: 'आफ्रिकेसाठी', 738: 'आभार', 739: 'आभिमान', 740: 'आमंत्रण', 741: 'आमंत्रित', 742: 'आमचं', 743: 'आमचा', 744: 'आमची', 745: 'आमचीच', 746: 'आमचे', 747: 'आमच्या', 748: 'आमच्याकडे', 749: 'आमच्यात', 750: 'आमच्यातला', 751: 'आमच्यातल्या', 752: 'आमच्यापासून', 753: 'आमच्यापेक्षा', 754: 'आमच्याबद्दल', 755: 'आमच्याबरोबर', 756: 'आमच्यामागे', 757: 'आमच्यावर', 758: 'आमच्याशी', 759: 'आमच्यासह', 760: 'आमच्यासाठी', 761: 'आमच्यासारखा', 762: 'आमच्यासोबत', 763: 'आमलेट', 764: 'आमलेटदेखील', 765: 'आमलेटही', 766: 'आमियां', 767: 'आम्हा', 768: 'आम्हाला', 769: 'आम्ही', 770: 'आम्हीच', 771: 'आम्हीसुद्धा', 772: 'आम्हीही', 773: 'आय', 774: 'आयआरएससाठी', 775: 'आयकनला', 776: 'आयकनवर', 777: 'आयकर', 778: 'आयझॅक', 779: 'आयझेनहॉवर', 780: 'आयझेनहॉवरने', 781: 'आयडिया', 782: 'आयडी', 783: 'आयपॅड', 784: 'आयपॅडवर', 785: 'आयपॉडपासून', 786: 'आयफेल', 787: 'आयफोन', 788: 'आयफोनने', 789: 'आयरिश', 790: 'आयर्लंडची', 791: 'आयलंड्जवर', 792: 'आयसोप्रोपाइल', 793: 'आयात', 794: 'आयुर्विमा', 795: 'आयुष्य', 796: 'आयुष्यभर', 797: 'आयुष्याचा', 798: 'आयुष्याचाच', 799: 'आयुष्याची', 800: 'आयुष्याच्या', 801: 'आयुष्यात', 802: 'आयुष्यातला', 803: 'आयुष्यातली', 804: 'आयुष्यातून', 805: 'आयुष्याने', 806: 'आयोजित', 807: 'आयोवाची', 808: 'आयोवामधील', 809: 'आय्डॅहो', 810: 'आय्पॅड', 811: 'आरंभ', 812: 'आरक्षण', 813: 'आरक्षित', 814: 'आरडाओरड', 815: 'आरशात', 816: 'आरशाशी', 817: 'आरश्यात', 818: 'आरश्यासमोर', 819: 'आरसा', 820: 'आराम', 821: 'आरामाची', 822: 'आरामात', 823: 'आरोग्य', 824: 'आरोग्याची', 825: 'आरोग्यापेक्षा', 826: 'आरोग्यासाठी', 827: 'आरोप', 828: 'आरोपांना', 829: 'आर्क्टिक', 830: 'आर्थिक', 831: 'आर्थिकदृष्ट्या', 832: 'आर्मस्ट्राँग', 833: 'आर्मीला', 834: 'आर्मेनियन', 835: 'आर्मेनिया', 836: 'आर्मेनियाची', 837: 'आलं', 838: 'आलंय', 839: 'आला', 840: 'आलाच', 841: 'आलात', 842: 'आलाय', 843: 'आलायस', 844: 'आलास', 845: 'आली', 846: 'आलीच', 847: 'आलीयस', 848: 'आलीस', 849: 'आले', 850: 'आलेच', 851: 'आलेय', 852: 'आलेलं', 853: 'आलेला', 854: 'आलेली', 855: 'आलेले', 856: 'आलेलो', 857: 'आलेल्या', 858: 'आलो', 859: 'आलोय', 860: 'आल्बममधलं', 861: 'आल्मवर्षेबद्दल', 862: 'आल्या', 863: 'आल्याबरोबर', 864: 'आल्यावर', 865: 'आल्यासारखी', 866: 'आळखता', 867: 'आळशी', 868: 'आळस', 869: 'आवड', 870: 'आवडंत', 871: 'आवडणार', 872: 'आवडत', 873: 'आवडतं', 874: 'आवडतसुद्धा', 875: 'आवडतही', 876: 'आवडता', 877: 'आवडतात', 878: 'आवडती', 879: 'आवडतील', 880: 'आवडते', 881: 'आवडतेस', 882: 'आवडतो', 883: 'आवडतोस', 884: 'आवडत्या', 885: 'आवडलं', 886: 'आवडला', 887: 'आवडली', 888: 'आवडले', 889: 'आवडल्या', 890: 'आवडायचं', 891: 'आवडायचा', 892: 'आवडायचास', 893: 'आवडायची', 894: 'आवडायचीस', 895: 'आवडायचे', 896: 'आवडायचो', 897: 'आवडीचं', 898: 'आवडीचा', 899: 'आवडीची', 900: 'आवडीचे', 901: 'आवडीच्या', 902: 'आवडेल', 903: 'आवर', 904: 'आवश्यकता', 905: 'आवाज', 906: 'आवाजात', 907: 'आवाजाने', 908: 'आविष्कार', 909: 'आविष्कारांमधील', 910: 'आवृत्ती', 911: 'आवेदन', 912: 'आव्हान', 913: 'आशय', 914: 'आशा', 915: 'आशावादी', 916: 'आशिया', 917: 'आशियाई', 918: 'आशियाईअमेरिकन', 919: 'आशियाच्या', 920: 'आशियात', 921: 'आशियातील', 922: 'आशियामध्ये', 923: 'आशिलचा', 924: 'आशीर्वाद', 925: 'आश्चर्य', 926: 'आश्चर्यकारक', 927: 'आश्चर्यच', 928: 'आश्चर्यचकित', 929: 'आश्चर्यजनक', 930: 'आश्चर्याची', 931: 'आश्रू', 932: 'आश्वासन', 933: 'आसन', 934: 'आसने', 935: 'आसाही', 936: 'आह', 937: 'आहात', 938: 'आहायोमध्ये', 939: 'आहार', 940: 'आहे', 941: 'आहेच', 942: 'आहेत', 943: 'आहेस', 944: 'आहोत', 945: 'आहोतच', 946: 'आापल्या', 947: 'इंका', 948: 'इंग्रज', 949: 'इंग्रजांना', 950: 'इंग्रजांनी', 951: 'इंग्रजी', 952: 'इंग्रजीचं', 953: 'इंग्रजीचा', 954: 'इंग्रजीच्या', 955: 'इंग्रजीत', 956: 'इंग्रजीनंतर', 957: 'इंग्रजीपेक्षा', 958: 'इंग्रजीमध्ये', 959: 'इंग्रजीला', 960: 'इंग्रजीसुद्धा', 961: 'इंग्रजीही', 962: 'इंग्लंड', 963: 'इंग्लंडचा', 964: 'इंग्लंडची', 965: 'इंग्लंडच्या', 966: 'इंग्लंडने', 967: 'इंग्लंडपेक्षा', 968: 'इंग्लंडमधील', 969: 'इंग्लंडमध्ये', 970: 'इंग्लंडमध्येच', 971: 'इंग्लंडला', 972: 'इंग्लंडवर', 973: 'इंग्लिश', 974: 'इंच', 975: 'इंचांनी', 976: 'इंजिन', 977: 'इंजिनियर', 978: 'इंजिनीअर', 979: 'इंजिनीअरिंग', 980: 'इंजीनमध्ये', 981: 'इंजीनला', 982: 'इंटरनेट', 983: 'इंटरनेटचा', 984: 'इंटरनेटवर', 985: 'इंटरव्हलच्या', 986: 'इंटरव्ह्यू', 987: 'इंडियन्स', 988: 'इंडोनेशियन', 989: 'इंडोनेशियाबद्दल', 990: 'इंडोयुरोपीय', 991: 'इंधन', 992: 'इंधने', 993: 'इआइदो', 994: 'इकडे', 995: 'इकडेतिकडे', 996: 'इकेर', 997: 'इग्लिश', 998: 'इच्छा', 999: 'इच्छित', 1000: 'इच्छिता', 1001: 'इच्छितात', 1002: 'इच्छिते', 1003: 'इच्छितो', 1004: 'इच्छीते', 1005: 'इच्छीतो', 1006: 'इजिप्त', 1007: 'इजिप्तचा', 1008: 'इजिप्तवर', 1009: 'इटली', 1010: 'इटलीचा', 1011: 'इटलीची', 1012: 'इटलीत', 1013: 'इटलीपासून', 1014: 'इटलीमधील', 1015: 'इटलीमध्ये', 1016: 'इटलीला', 1017: 'इटालियन', 1018: 'इटालियनअमेरिकनांना', 1019: 'इटालियनमध्ये', 1020: 'इतकं', 1021: 'इतकंच', 1022: 'इतकच', 1023: 'इतका', 1024: 'इतकी', 1025: 'इतके', 1026: 'इतकेच', 1027: 'इतक्या', 1028: 'इतक्यात', 1029: 'इतपत', 1030: 'इतर', 1031: 'इतरांची', 1032: 'इतरांना', 1033: 'इतरांप्रमाणेच', 1034: 'इतिहास', 1035: 'इतिहासकार', 1036: 'इतिहाससुद्धा', 1037: 'इतिहासाचं', 1038: 'इतिहासाचा', 1039: 'इतिहासाची', 1040: 'इतिहासाच्या', 1041: 'इतिहासात', 1042: 'इतिहासातला', 1043: 'इतिहासाने', 1044: 'इतिहासापेक्षा', 1045: 'इतिहासाबद्दल', 1046: 'इते', 1047: 'इथं', 1048: 'इथपर्यंत', 1049: 'इथलं', 1050: 'इथली', 1051: 'इथल्या', 1052: 'इथियोपियन', 1053: 'इथून', 1054: 'इथे', 1055: 'इथेच', 1056: 'इथेही', 1057: 'इन', 1058: 'इनान्येज', 1059: 'इन्का', 1060: 'इन्टर्न', 1061: 'इन्स्टंट', 1062: 'इन्स्टॉल', 1063: 'इन्स्पेक्टरला', 1064: 'इमरजन्सी', 1065: 'इमानदार', 1066: 'इमारत', 1067: 'इमारती', 1068: 'इमारतींना', 1069: 'इमारतीत', 1070: 'इमारतीवर', 1071: 'इमारतीसमोर', 1072: 'इमेजिंग', 1073: 'इम्पोर्ट', 1074: 'इम्पोर्टेड', 1075: 'इम्प्रेस', 1076: 'इराक', 1077: 'इराकची', 1078: 'इराण', 1079: 'इराणचा', 1080: 'इराणमधला', 1081: 'इराणी', 1082: 'इलिनॉइ', 1083: 'इलेक्ट्रिक', 1084: 'इलेक्ट्रिकल', 1085: 'इलेक्ट्रिशियन', 1086: 'इलेक्ट्रॉनिक', 1087: 'इलेक्ट्रॉनिक्सच्या', 1088: 'इशारा', 1089: 'इसवी', 1090: 'इसाबेलाकडून', 1091: 'इस्ट्रोजेन', 1092: 'इस्तंबूलमध्ये', 1093: 'इस्त्री', 1094: 'इस्त्र्या', 1095: 'इस्पिकचा', 1096: 'इस्रायल', 1097: 'इस्रायलने', 1098: 'इस्लाम', 1099: 'इस्लामाबाद', 1100: 'इस्लामी', 1101: 'ईगो', 1102: 'ईटी', 1103: 'ईमेल', 1104: 'ईमेलने', 1105: 'ईश्वर', 1106: 'ईश्वराचा', 1107: 'ईश्वराची', 1108: 'ईश्वराने', 1109: 'ईश्वरानेच', 1110: 'ईश्वराला', 1111: 'ईस्टरच्या', 1112: 'उंच', 1113: 'उंचावर', 1114: 'उंची', 1115: 'उंट', 1116: 'उंदरं', 1117: 'उंदरांना', 1118: 'उंदरांनी', 1119: 'उंदराचं', 1120: 'उंदराला', 1121: 'उंदीर', 1122: 'उइघुर', 1123: 'उकडलेली', 1124: 'उकळणारं', 1125: 'उकळतंय', 1126: 'उकळली', 1127: 'उकळले', 1128: 'उकळायला', 1129: 'उकळून', 1130: 'उगत', 1131: 'उगतात', 1132: 'उगम', 1133: 'उगवत', 1134: 'उगवतात', 1135: 'उगवते', 1136: 'उगवतो', 1137: 'उगवला', 1138: 'उगवली', 1139: 'उगवले', 1140: 'उगेल', 1141: 'उघड', 1142: 'उघडं', 1143: 'उघडंच', 1144: 'उघडणार', 1145: 'उघडण्याची', 1146: 'उघडण्यात', 1147: 'उघडत', 1148: 'उघडतं', 1149: 'उघडता', 1150: 'उघडतात', 1151: 'उघडताहेत', 1152: 'उघडते', 1153: 'उघडतेय', 1154: 'उघडतो', 1155: 'उघडतोय', 1156: 'उघडलं', 1157: 'उघडला', 1158: 'उघडली', 1159: 'उघडले', 1160: 'उघडल्या', 1161: 'उघडशील', 1162: 'उघडा', 1163: 'उघडायचं', 1164: 'उघडायचा', 1165: 'उघडायला', 1166: 'उघडाल', 1167: 'उघडाव्या', 1168: 'उघडी', 1169: 'उघडीच', 1170: 'उघडू', 1171: 'उघडून', 1172: 'उघडे', 1173: 'उघड्या', 1174: 'उघड्याच', 1175: 'उचल', 1176: 'उचलत', 1177: 'उचलता', 1178: 'उचलताना', 1179: 'उचलला', 1180: 'उचलली', 1181: 'उचलल्या', 1182: 'उचला', 1183: 'उचलायला', 1184: 'उचलू', 1185: 'उचलून', 1186: 'उच्चार', 1187: 'उच्चारताही', 1188: 'उच्चारही', 1189: 'उच्चारात', 1190: 'उच्चारायला', 1191: 'उजळ', 1192: 'उजवा', 1193: 'उजवीकडून', 1194: 'उजवीकडे', 1195: 'उजव्या', 1196: 'उज्ज्वल', 1197: 'उठणार', 1198: 'उठत', 1199: 'उठता', 1200: 'उठतात', 1201: 'उठते', 1202: 'उठतेस', 1203: 'उठतो', 1204: 'उठतोस', 1205: 'उठला', 1206: 'उठलात', 1207: 'उठलास', 1208: 'उठली', 1209: 'उठलीस', 1210: 'उठले', 1211: 'उठलेलास', 1212: 'उठलो', 1213: 'उठल्या', 1214: 'उठव', 1215: 'उठवलं', 1216: 'उठवले', 1217: 'उठवशील', 1218: 'उठवा', 1219: 'उठवाल', 1220: 'उठवू', 1221: 'उठायचा', 1222: 'उठायची', 1223: 'उठायच्या', 1224: 'उठाव', 1225: 'उठावल्या', 1226: 'उठून', 1227: 'उठेन', 1228: 'उठेल', 1229: 'उडत', 1230: 'उडता', 1231: 'उडतात', 1232: 'उडताना', 1233: 'उडतो', 1234: 'उडतोय', 1235: 'उडवणं', 1236: 'उडवत', 1237: 'उडवतात', 1238: 'उडवते', 1239: 'उडवतो', 1240: 'उडवलं', 1241: 'उडवली', 1242: 'उडवले', 1243: 'उडवायची', 1244: 'उडवू', 1245: 'उडायला', 1246: 'उडालं', 1247: 'उडाली', 1248: 'उडी', 1249: 'उडू', 1250: 'उडून', 1251: 'उतर', 1252: 'उतरणारा', 1253: 'उतरते', 1254: 'उतरतो', 1255: 'उतरलं', 1256: 'उतरला', 1257: 'उतरली', 1258: 'उतरले', 1259: 'उतरल्या', 1260: 'उतरवलं', 1261: 'उतरायचं', 1262: 'उतरून', 1263: 'उतरेन', 1264: 'उतारा', 1265: 'उत्कृष्ट', 1266: 'उत्तम', 1267: 'उत्तर', 1268: 'उत्तरं', 1269: 'उत्तरगर्भ', 1270: 'उत्तरभागात', 1271: 'उत्तरला', 1272: 'उत्तराची', 1273: 'उत्तरे', 1274: 'उत्तरेकडे', 1275: 'उत्तरेच्या', 1276: 'उत्तरेपासून', 1277: 'उत्तरेला', 1278: 'उत्तेजित', 1279: 'उत्पन्न', 1280: 'उत्पादन', 1281: 'उत्पादनात', 1282: 'उत्सव', 1283: 'उत्सवात', 1284: 'उत्साहित', 1285: 'उत्सुक', 1286: 'उत्सुकतेने', 1287: 'उथळ', 1288: 'उदास', 1289: 'उदाहरण', 1290: 'उदाहरणार्थ', 1291: 'उद्देश', 1292: 'उद्धट', 1293: 'उद्धटपणे', 1294: 'उद्या', 1295: 'उद्याचं', 1296: 'उद्याचा', 1297: 'उद्याची', 1298: 'उद्याचे', 1299: 'उद्याच्या', 1300: 'उद्यान', 1301: 'उद्यानदेखील', 1302: 'उद्यानही', 1303: 'उद्यानांमध्ये', 1304: 'उद्यानात', 1305: 'उद्यानाला', 1306: 'उद्याने', 1307: 'उद्यापर्यंत', 1308: 'उद्यापासून', 1309: 'उद्याला', 1310: 'उद्योग', 1311: 'उद्योगात', 1312: 'उद्योजक', 1313: 'उधारीवर', 1314: 'उध्वस्त', 1315: 'उनके', 1316: 'उन्हात', 1317: 'उन्हाळा', 1318: 'उन्हाळ्याचा', 1319: 'उन्हाळ्याची', 1320: 'उन्हाळ्याच्या', 1321: 'उन्हाळ्यात', 1322: 'उन्हाळ्यातला', 1323: 'उन्हें', 1324: 'उन्होंने', 1325: 'उपग्रह', 1326: 'उपग्रहांना', 1327: 'उपचाराची', 1328: 'उपयोग', 1329: 'उपयोगी', 1330: 'उपलब्ध', 1331: 'उपलब्धता', 1332: 'उपस्थित', 1333: 'उपाय', 1334: 'उपाशी', 1335: 'उपास', 1336: 'उबुंटु', 1337: 'उभं', 1338: 'उभा', 1339: 'उभाच', 1340: 'उभी', 1341: 'उभीच', 1342: 'उभे', 1343: 'उभ्या', 1344: 'उमेदवार', 1345: 'उरतील', 1346: 'उरलं', 1347: 'उरलंच', 1348: 'उरलंय', 1349: 'उरला', 1350: 'उरली', 1351: 'उरले', 1352: 'उरलेलं', 1353: 'उरलेला', 1354: 'उरलेली', 1355: 'उरल्या', 1356: 'उर्जेचा', 1357: 'उलट', 1358: 'उलटं', 1359: 'उलटच', 1360: 'उलटी', 1361: 'उलानबातर', 1362: 'उल्टं', 1363: 'उल्लेख', 1364: 'उल्लेखनीय', 1365: 'उशिर', 1366: 'उशिरा', 1367: 'उशिरापर्यंत', 1368: 'उशी', 1369: 'उशीत', 1370: 'उशीर', 1371: 'उशीरा', 1372: 'उशीरापर्यंत', 1373: 'उश्या', 1374: 'उष्णता', 1375: 'ऊठ', 1376: 'ऊठला', 1377: 'ऊठलो', 1378: 'ऊठा', 1379: 'ऊन', 1380: 'ऊभी', 1381: 'ऊभे', 1382: 'ऊलाँग', 1383: 'ऊस', 1384: 'ऋतू', 1385: 'ऋतूत', 1386: 'ऋतूला', 1387: 'ए', 1388: 'एंगेज्ड', 1389: 'एअर', 1390: 'एअरकंडिशनर', 1391: 'एअरपोर्टला', 1392: 'एअरबॅग', 1393: 'एक', 1394: 'एकएक', 1395: 'एकच', 1396: 'एकटं', 1397: 'एकटक', 1398: 'एकटा', 1399: 'एकटाच', 1400: 'एकटी', 1401: 'एकटीच', 1402: 'एकटीने', 1403: 'एकटे', 1404: 'एकटेच', 1405: 'एकटेपणा', 1406: 'एकट्या', 1407: 'एकट्याच', 1408: 'एकट्याने', 1409: 'एकट्यानेच', 1410: 'एकतर', 1411: 'एकता', 1412: 'एकत्र', 1413: 'एकत्रित', 1414: 'एकदम', 1415: 'एकदमच', 1416: 'एकदा', 1417: 'एकदाच', 1418: 'एकदातरी', 1419: 'एकदाही', 1420: 'एकदुसर्\\u200dयाच्या', 1421: 'एकदुसर्\\u200dयाला', 1422: 'एकदुसर्\\u200dयाशी', 1423: 'एकदोन', 1424: 'एकदोनदा', 1425: 'एकपासून', 1426: 'एकमत', 1427: 'एकमात्र', 1428: 'एकमेकांकडे', 1429: 'एकमेकांचं', 1430: 'एकमेकांची', 1431: 'एकमेकांचे', 1432: 'एकमेकांच्या', 1433: 'एकमेकांना', 1434: 'एकमेकांबद्दल', 1435: 'एकमेकांबरोबर', 1436: 'एकमेकांवर', 1437: 'एकमेकांशी', 1438: 'एकमेकांसोबत', 1439: 'एकमेकींना', 1440: 'एकमेात्र', 1441: 'एकर', 1442: 'एकसमान', 1443: 'एकसारखाच', 1444: 'एकसारखी', 1445: 'एकसारखे', 1446: 'एकसारखेच', 1447: 'एकसारख्याच', 1448: 'एकसुद्धा', 1449: 'एकही', 1450: 'एका', 1451: 'एकाच', 1452: 'एकाचं', 1453: 'एकाचा', 1454: 'एकाची', 1455: 'एकानंतर', 1456: 'एकानेच', 1457: 'एकापेक्षा', 1458: 'एकाला', 1459: 'एकासारखेच', 1460: 'एकाही', 1461: 'एकुलती', 1462: 'एकूण', 1463: 'एके', 1464: 'एकेकाळी', 1465: 'एकेश्वरवादी', 1466: 'एक्का', 1467: 'एक्के', 1468: 'एक्सगर्लफ्रेंड', 1469: 'एक्सप्रेस', 1470: 'एक्सफाइल्सचा', 1471: 'एक्स्टर्नल', 1472: 'एक्स्टेन्शन', 1473: 'एक्स्पायर', 1474: 'एखादं', 1475: 'एखादा', 1476: 'एखादी', 1477: 'एखादे', 1478: 'एखाद्या', 1479: 'एजन्सीमध्ये', 1480: 'एटीएम', 1481: 'एडिटर', 1482: 'एडिटिंग', 1483: 'एथन्स', 1484: 'एनव्हलप', 1485: 'एन्क्रिप्टेड', 1486: 'एपिसोड', 1487: 'एप्रनने', 1488: 'एप्रिल', 1489: 'एप्रिलच्या', 1490: 'एप्रिलमध्ये', 1491: 'एप्रिलला', 1492: 'एफएक्यू', 1493: 'एमआरआय', 1494: 'एमपीथ्री', 1495: 'एमबीए', 1496: 'एम्पायर', 1497: 'एम्पीथ्री', 1498: 'एलिझाबेथ', 1499: 'एल्क', 1500: 'एल्फ', 1501: 'एवढं', 1502: 'एवढंच', 1503: 'एवढच', 1504: 'एवढा', 1505: 'एवढी', 1506: 'एवढीच', 1507: 'एवढे', 1508: 'एवढ्या', 1509: 'एवढ्याचीच', 1510: 'एशियनअमेरिकन', 1511: 'एसएमएस', 1512: 'एस्पेरांतोचा', 1513: 'एस्पेरांतोचे', 1514: 'एस्पेरांतोमध्ये', 1515: 'एस्प्रेसो', 1516: 'ऐंशी', 1517: 'ऐक', 1518: 'ऐकणार', 1519: 'ऐकण्यात', 1520: 'ऐकण्यालायक', 1521: 'ऐकण्यास', 1522: 'ऐकत', 1523: 'ऐकतंय', 1524: 'ऐकतच', 1525: 'ऐकतसुद्धा', 1526: 'ऐकता', 1527: 'ऐकतात', 1528: 'ऐकताना', 1529: 'ऐकताय', 1530: 'ऐकतायत', 1531: 'ऐकताहेत', 1532: 'ऐकते', 1533: 'ऐकतेय', 1534: 'ऐकतेयस', 1535: 'ऐकतेस', 1536: 'ऐकतो', 1537: 'ऐकतोय', 1538: 'ऐकतोयस', 1539: 'ऐकतोस', 1540: 'ऐकलं', 1541: 'ऐकलंत', 1542: 'ऐकलंय', 1543: 'ऐकलंस', 1544: 'ऐकलंही', 1545: 'ऐकला', 1546: 'ऐकली', 1547: 'ऐकलीत', 1548: 'ऐकलीस', 1549: 'ऐकले', 1550: 'ऐकल्याने', 1551: 'ऐकल्यावर', 1552: 'ऐकशील', 1553: 'ऐका', 1554: 'ऐकायचं', 1555: 'ऐकायचा', 1556: 'ऐकायची', 1557: 'ऐकायला', 1558: 'ऐकाल', 1559: 'ऐकुया', 1560: 'ऐकू', 1561: 'ऐकून', 1562: 'ऐकूया', 1563: 'ऐकेन', 1564: 'ऐतिहासिकदृष्ट्या', 1565: 'ऐवजी', 1566: 'ऑइल', 1567: 'ऑइलची', 1568: 'ऑकलँड', 1569: 'ऑक्टोपस', 1570: 'ऑक्टोबर', 1571: 'ऑक्टोबरच्या', 1572: 'ऑक्टोबरपर्यंत', 1573: 'ऑक्टोबरमध्ये', 1574: 'ऑक्टोबरला', 1575: 'ऑक्सफोर्ड', 1576: 'ऑगस्ट', 1577: 'ऑगस्टपर्यंत', 1578: 'ऑगस्टमध्ये', 1579: 'ऑगस्टला', 1580: 'ऑटिस्टिक', 1581: 'ऑट्टो', 1582: 'ऑडिओ', 1583: 'ऑडियो', 1584: 'ऑडियोबुक', 1585: 'ऑडिशन', 1586: 'ऑन', 1587: 'ऑनड्यूटी', 1588: 'ऑनलाइन', 1589: 'ऑनलाईन', 1590: 'ऑपरेशन', 1591: 'ऑपरेशनबद्दल', 1592: 'ऑपेरा', 1593: 'ऑपेराचा', 1594: 'ऑफ', 1595: 'ऑफलाइन', 1596: 'ऑफिस', 1597: 'ऑफिसची', 1598: 'ऑफिसच्या', 1599: 'ऑफिसपेक्षा', 1600: 'ऑफिसमधला', 1601: 'ऑफिसमधून', 1602: 'ऑफिसमध्ये', 1603: 'ऑफिसमध्येच', 1604: 'ऑफिसर', 1605: 'ऑफिसरच्या', 1606: 'ऑफिसला', 1607: 'ऑफिसात', 1608: 'ऑम्लेट', 1609: 'ऑयस्टर', 1610: 'ऑरगॅनिक', 1611: 'ऑर्गन', 1612: 'ऑर्गनिस्ट', 1613: 'ऑर्लीन्सची', 1614: 'ऑलिंपिक', 1615: 'ऑलिम्पिक', 1616: 'ऑल्बनीपासून', 1617: 'ऑसवल्ड', 1618: 'ऑस्कर्स', 1619: 'ऑस्ट्रियाचेसुद्धा', 1620: 'ऑस्ट्रेलियन', 1621: 'ऑस्ट्रेलिया', 1622: 'ऑस्ट्रेलियाचं', 1623: 'ऑस्ट्रेलियाचा', 1624: 'ऑस्ट्रेलियाची', 1625: 'ऑस्ट्रेलियाचे', 1626: 'ऑस्ट्रेलियाच्या', 1627: 'ऑस्ट्रेलियात', 1628: 'ऑस्ट्रेलियातच', 1629: 'ऑस्ट्रेलियातला', 1630: 'ऑस्ट्रेलियातसुद्धा', 1631: 'ऑस्ट्रेलियातील', 1632: 'ऑस्ट्रेलियापासून', 1633: 'ऑस्ट्रेलियापेक्षा', 1634: 'ऑस्ट्रेलियाबद्दल', 1635: 'ऑस्ट्रेलियाबद्दलचं', 1636: 'ऑस्ट्रेलियामधील', 1637: 'ऑस्ट्रेलियामध्ये', 1638: 'ऑस्ट्रेलियाला', 1639: 'ऑस्ट्रेलियाविषयी', 1640: 'ऑस्ट्रेलियाहून', 1641: 'ऑस्लो', 1642: 'ओ', 1643: 'ओंडक्यांचे', 1644: 'ओकिनावामध्ये', 1645: 'ओके', 1646: 'ओझाकीइतका', 1647: 'ओटमील', 1648: 'ओटावा', 1649: 'ओठ', 1650: 'ओढता', 1651: 'ओढतात', 1652: 'ओढते', 1653: 'ओढतेस', 1654: 'ओढतो', 1655: 'ओढतोस', 1656: 'ओढायचा', 1657: 'ओत', 1658: 'ओतलं', 1659: 'ओतला', 1660: 'ओतली', 1661: 'ओतलेली', 1662: 'ओता', 1663: 'ओतून', 1664: 'ओनिगिरि', 1665: 'ओप्राह', 1666: 'ओबो', 1667: 'ओरडणं', 1668: 'ओरडण्याचा', 1669: 'ओरडत', 1670: 'ओरडताहेत', 1671: 'ओरडतो', 1672: 'ओरडतोय', 1673: 'ओरडलं', 1674: 'ओरडला', 1675: 'ओरडलाही', 1676: 'ओरडले', 1677: 'ओरडलो', 1678: 'ओरडल्या', 1679: 'ओरडायची', 1680: 'ओरडायचे', 1681: 'ओरडायला', 1682: 'ओरडू', 1683: 'ओरडून', 1684: 'ओलं', 1685: 'ओलसर', 1686: 'ओला', 1687: 'ओलांडताना', 1688: 'ओलांडला', 1689: 'ओलांडली', 1690: 'ओलांडू', 1691: 'ओली', 1692: 'ओले', 1693: 'ओल्डीज', 1694: 'ओळ', 1695: 'ओळख', 1696: 'ओळखत', 1697: 'ओळखतही', 1698: 'ओळखता', 1699: 'ओळखतात', 1700: 'ओळखते', 1701: 'ओळखतेस', 1702: 'ओळखतो', 1703: 'ओळखतोच', 1704: 'ओळखतोस', 1705: 'ओळखलं', 1706: 'ओळखलंच', 1707: 'ओळखलंत', 1708: 'ओळखलंस', 1709: 'ओळखला', 1710: 'ओळखायचे', 1711: 'ओळखायचो', 1712: 'ओळखीचा', 1713: 'ओळखीची', 1714: 'ओळखीचे', 1715: 'ओळखीच्या', 1716: 'ओळखीतला', 1717: 'ओळखीतल्या', 1718: 'ओळखू', 1719: 'ओळखून', 1720: 'ओळी', 1721: 'ओव्हन', 1722: 'ओव्हनचा', 1723: 'ओव्हनमधून', 1724: 'ओव्हनमध्ये', 1725: 'ओव्हर्डोझ', 1726: 'ओसाका', 1727: 'ओसाकाजवळ', 1728: 'ओसाकामध्ये', 1729: 'ओसाकाला', 1730: 'ओस्मानी', 1731: 'ओहायेमध्ये', 1732: 'ओहायोमध्ये', 1733: 'औंस', 1734: 'औद्यागिक', 1735: 'औद्योगिक', 1736: 'औद्योगिकरण', 1737: 'औपचारिक', 1738: 'औषद', 1739: 'औषध', 1740: 'औषधं', 1741: 'औषधविक्रेत्याकडे', 1742: 'औषधविक्रेत्याच्या', 1743: 'औषधांची', 1744: 'औषधांपासून', 1745: 'औषधांमध्ये', 1746: 'औषधांविरुद्ध', 1747: 'औषधाची', 1748: 'औषधाने', 1749: 'औषधालयात', 1750: 'कँडी', 1751: 'कँपरला', 1752: 'कँपसवर', 1753: 'कँपिंग', 1754: 'कँसरमुळे', 1755: 'कंगव्याने', 1756: 'कंटाळला', 1757: 'कंटाळलेला', 1758: 'कंटाळलेले', 1759: 'कंटाळवाणं', 1760: 'कंटाळवाणा', 1761: 'कंटाळा', 1762: 'कंट्री', 1763: 'कंट्रोल', 1764: 'कंडिशनर', 1765: 'कंदील', 1766: 'कंपनी', 1767: 'कंपनीचा', 1768: 'कंपनीची', 1769: 'कंपनीच्या', 1770: 'कंपनीत', 1771: 'कंपनीने', 1772: 'कंपनीला', 1773: 'कंपनीसाठी', 1774: 'कंपन्या', 1775: 'कंप्युटर', 1776: 'कंप्युटरची', 1777: 'कंप्यूटर', 1778: 'कंप्यूटरच', 1779: 'कचरा', 1780: 'कचरापेटीच्या', 1781: 'कचर्\\u200dयात', 1782: 'कचेरीत', 1783: 'कच्चं', 1784: 'कच्चा', 1785: 'कच्चे', 1786: 'कच्च्या', 1787: 'कठीण', 1788: 'कठोर', 1789: 'कडक', 1790: 'कडवट', 1791: 'कडू', 1792: 'कडेला', 1793: 'कण्हला', 1794: 'कथा', 1795: 'कथीड्रल', 1796: 'कदाचित', 1797: 'कधी', 1798: 'कधीकधी', 1799: 'कधीच', 1800: 'कधीतरी', 1801: 'कधीनाकधी', 1802: 'कधीपर्यंत', 1803: 'कधीपासून', 1804: 'कधीही', 1805: 'कनेरी', 1806: 'कन्ट्री', 1807: 'कन्सल्टंट', 1808: 'कप', 1809: 'कपं', 1810: 'कपकेक', 1811: 'कपकेकवर', 1812: 'कपडा', 1813: 'कपडे', 1814: 'कपडेच', 1815: 'कपड्यांचं', 1816: 'कपड्यांची', 1817: 'कपड्यांच्या', 1818: 'कपड्यांमध्ये', 1819: 'कपड्यांवर', 1820: 'कपड्याने', 1821: 'कपमधून', 1822: 'कपमध्ये', 1823: 'कपांपेक्षा', 1824: 'कपांमध्ये', 1825: 'कपाटातून', 1826: 'कपात', 1827: 'कपाळावरचा', 1828: 'कबर', 1829: 'कबरेवर', 1830: 'कबुतर', 1831: 'कबुतरांचा', 1832: 'कबुतरांची', 1833: 'कबुली', 1834: 'कबुलीवर', 1835: 'कबूल', 1836: 'कमवण्यासाठी', 1837: 'कमवत', 1838: 'कमवतात', 1839: 'कमवते', 1840: 'कमवतेय', 1841: 'कमवतो', 1842: 'कमवतोय', 1843: 'कमवला', 1844: 'कमवले', 1845: 'कमवायचे', 1846: 'कमांडर', 1847: 'कमाई', 1848: 'कमाल', 1849: 'कमावणं', 1850: 'कमावते', 1851: 'कमावतो', 1852: 'कमावले', 1853: 'कमी', 1854: 'कमीच', 1855: 'कमीतकमी', 1856: 'कमेंट', 1857: 'कम्प्युटर', 1858: 'कम्प्युटरची', 1859: 'कम्प्युटरमध्ये', 1860: 'कम्प्युटरला', 1861: 'कम्प्यूटर', 1862: 'कम्प्यूटरमधून', 1863: 'कम्प्यूटरमध्ये', 1864: 'कम्प्यूटरवर', 1865: 'कम्प्यूटरशिवाय', 1866: 'कम्प्यूटरसमोर', 1867: 'कम्प्यूटिंग', 1868: 'कम्प्यूटेड', 1869: 'कर', 1870: 'करणं', 1871: 'करणंही', 1872: 'करणार', 1873: 'करणारच', 1874: 'करणारा', 1875: 'करणारी', 1876: 'करणार्\\u200dया', 1877: 'करणे', 1878: 'करण्याअगोदर', 1879: 'करण्याआधी', 1880: 'करण्याइतपत', 1881: 'करण्याऐवजी', 1882: 'करण्याकरिता', 1883: 'करण्याचं', 1884: 'करण्याचा', 1885: 'करण्याची', 1886: 'करण्याचे', 1887: 'करण्याच्या', 1888: 'करण्यात', 1889: 'करण्यापुरते', 1890: 'करण्यापेक्षा', 1891: 'करण्याशिवाय', 1892: 'करण्यास', 1893: 'करण्यासाठी', 1894: 'करण्यासारखं', 1895: 'करण्यासारखी', 1896: 'करत', 1897: 'करतं', 1898: 'करतंय', 1899: 'करतच', 1900: 'करता', 1901: 'करतात', 1902: 'करताना', 1903: 'करताय', 1904: 'करताहात', 1905: 'करताहेत', 1906: 'करतील', 1907: 'करते', 1908: 'करतेय', 1909: 'करतेयस', 1910: 'करतेस', 1911: 'करतो', 1912: 'करतोय', 1913: 'करतोयस', 1914: 'करतोस', 1915: 'करप्ट', 1916: 'करमणूक', 1917: 'करवादला', 1918: 'करवून', 1919: 'करशील', 1920: 'करा', 1921: 'कराटे', 1922: 'कराटेच्या', 1923: 'कराटेमध्ये', 1924: 'करायचं', 1925: 'करायचंच', 1926: 'करायचंय', 1927: 'करायचस', 1928: 'करायचा', 1929: 'करायचाय', 1930: 'करायची', 1931: 'करायचे', 1932: 'करायचो', 1933: 'करायच्या', 1934: 'करायला', 1935: 'करायलाच', 1936: 'करायलासुद्धा', 1937: 'करायलाही', 1938: 'करार', 1939: 'कराराने', 1940: 'कराराला', 1941: 'करारावर', 1942: 'कराल', 1943: 'करावं', 1944: 'करावंसं', 1945: 'करावा', 1946: 'करावासा', 1947: 'करावी', 1948: 'करावीच', 1949: 'करावीशी', 1950: 'करावे', 1951: 'कराव्या', 1952: 'करी', 1953: 'करुया', 1954: 'करू', 1955: 'करूच', 1956: 'करूतं', 1957: 'करून', 1958: 'करूनकरून', 1959: 'करूनही', 1960: 'करूया', 1961: 'करूस', 1962: 'करे', 1963: 'करेन', 1964: 'करेपर्यंत', 1965: 'करेल', 1966: 'करो', 1967: 'करोड', 1968: 'कर्क', 1969: 'कर्कगोग', 1970: 'कर्करोग', 1971: 'कर्करोगाबद्दल', 1972: 'कर्करोगामुळे', 1973: 'कर्करोगाला', 1974: 'कर्ज', 1975: 'कर्जाची', 1976: 'कर्जावर', 1977: 'कर्जे', 1978: 'कर्णधार', 1979: 'कर्तव्य', 1980: 'कर्फ्यू', 1981: 'कर्मचारी', 1982: 'कर्मचार्\\u200dयांकडे', 1983: 'कर्मचार्\\u200dयांची', 1984: 'कर्व्ह', 1985: 'कर्सर', 1986: 'कलकत्ता', 1987: 'कलकत्त्याला', 1988: 'कला', 1989: 'कलाकार', 1990: 'कलाकारांना', 1991: 'कलाकारांमधील', 1992: 'कलात्मक', 1993: 'कलासंग्रहालयाला', 1994: 'कलिंगड', 1995: 'कलेचा', 1996: 'कलेच्या', 1997: 'कल्पना', 1998: 'कल्पनाशक्ती', 1999: 'कल्पनाही', 2000: 'कल्पनेचा', 2001: 'कळणार', 2002: 'कळणारदेखील', 2003: 'कळणारसुद्धा', 2004: 'कळत', 2005: 'कळतं', 2006: 'कळतंय', 2007: 'कळतच', 2008: 'कळता', 2009: 'कळते', 2010: 'कळतो', 2011: 'कळलं', 2012: 'कळला', 2013: 'कळली', 2014: 'कळव', 2015: 'कळवण्यात', 2016: 'कळवलं', 2017: 'कळवा', 2018: 'कळवायचं', 2019: 'कळवू', 2020: 'कळवेन', 2021: 'कळवेल', 2022: 'कळू', 2023: 'कळून', 2024: 'कळेपर्यंत', 2025: 'कळेल', 2026: 'कवटी', 2027: 'कवयित्री', 2028: 'कविता', 2029: 'कवितेचं', 2030: 'कवितेचा', 2031: 'कवितेची', 2032: 'कवी', 2033: 'कवींमधला', 2034: 'कवींवर', 2035: 'कवीने', 2036: 'कव्हरवर', 2037: 'कशा', 2038: 'कशाकरता', 2039: 'कशाकरिता', 2040: 'कशाचं', 2041: 'कशाचा', 2042: 'कशाचाही', 2043: 'कशाची', 2044: 'कशाचीच', 2045: 'कशाचीतरी', 2046: 'कशाचीही', 2047: 'कशाने', 2048: 'कशाबद्दल', 2049: 'कशाबद्दलही', 2050: 'कशामुळे', 2051: 'कशाला', 2052: 'कशालाही', 2053: 'कशावर', 2054: 'कशावरही', 2055: 'कशावरून', 2056: 'कशाविषयी', 2057: 'कशासाठी', 2058: 'कशी', 2059: 'कशे', 2060: 'कश्या', 2061: 'कश्याचा', 2062: 'कश्याचीच', 2063: 'कश्याचीही', 2064: 'कश्याने', 2065: 'कश्यावर', 2066: 'कष्टाळू', 2067: 'कसं', 2068: 'कसंतरी', 2069: 'कसंतरीच', 2070: 'कसतरीच', 2071: 'कसलं', 2072: 'कसला', 2073: 'कसलातरी', 2074: 'कसलाही', 2075: 'कसली', 2076: 'कसलीही', 2077: 'कसल्या', 2078: 'कसल्यातरी', 2079: 'कसल्याही', 2080: 'कसा', 2081: 'कसे', 2082: 'का', 2083: 'काँगापेक्षा', 2084: 'काँगोच्या', 2085: 'काँग्रेसने', 2086: 'काँट्रॅक्ट', 2087: 'काँट्रॅक्टवर', 2088: 'काँप्रेस', 2089: 'कांगारू', 2090: 'कांदे', 2091: 'कांद्यांचा', 2092: 'कांद्यांची', 2093: 'कांद्यांशिवाय', 2094: 'कांद्याचं', 2095: 'काउबॉय', 2096: 'काकडी', 2097: 'काकड्या', 2098: 'काका', 2099: 'काकांचं', 2100: 'काकांची', 2101: 'काकांच्या', 2102: 'काकांना', 2103: 'काकांनी', 2104: 'काकांने', 2105: 'काकांसोबत', 2106: 'काकाने', 2107: 'काकी', 2108: 'काकीने', 2109: 'काकीबरोबर', 2110: 'काकीला', 2111: 'काकीसारखी', 2112: 'कागद', 2113: 'कागदाचं', 2114: 'कागदाचा', 2115: 'कागदाची', 2116: 'कागदाच्या', 2117: 'कागदाला', 2118: 'कागदावर', 2119: 'कागदी', 2120: 'कागोशिमाला', 2121: 'काच', 2122: 'काचेच्या', 2123: 'काचेत', 2124: 'काचेवर', 2125: 'काटा', 2126: 'काटे', 2127: 'काट्यांचा', 2128: 'काठी', 2129: 'काठीच्या', 2130: 'काठीने', 2131: 'काठीशिवाय', 2132: 'काढ', 2133: 'काढणं', 2134: 'काढणार', 2135: 'काढण्याचा', 2136: 'काढत', 2137: 'काढता', 2138: 'काढतात', 2139: 'काढतील', 2140: 'काढते', 2141: 'काढतेयस', 2142: 'काढतेस', 2143: 'काढतो', 2144: 'काढतोय', 2145: 'काढतोयस', 2146: 'काढतोस', 2147: 'काढलं', 2148: 'काढलंत', 2149: 'काढलंस', 2150: 'काढला', 2151: 'काढली', 2152: 'काढलीत', 2153: 'काढलीस', 2154: 'काढले', 2155: 'काढलेत', 2156: 'काढलेला', 2157: 'काढलेस', 2158: 'काढल्या', 2159: 'काढल्यानंतर', 2160: 'काढा', 2161: 'काढायचं', 2162: 'काढायचा', 2163: 'काढायचाय', 2164: 'काढायची', 2165: 'काढायला', 2166: 'काढावा', 2167: 'काढू', 2168: 'काढून', 2169: 'काढूया', 2170: 'काढेन', 2171: 'काढेल', 2172: 'कात', 2173: 'कातर', 2174: 'कातो', 2175: 'कादंबरी', 2176: 'कादंबरीकार', 2177: 'कादंबरीकारसुद्धा', 2178: 'कादंबरीचं', 2179: 'कादंबरीचा', 2180: 'कादंबरीच्या', 2181: 'कादंबरीने', 2182: 'कादंबर्\\u200dया', 2183: 'कादंबर्\\u200dयादेखील', 2184: 'कादंबर्\\u200dयासुद्धा', 2185: 'कान', 2186: 'कानातले', 2187: 'कानातून', 2188: 'कान्जी', 2189: 'कान्जींचा', 2190: 'कान्जीचा', 2191: 'कान्जीसुद्धा', 2192: 'काप', 2193: 'कापड', 2194: 'कापत', 2195: 'कापतं', 2196: 'कापताहेत', 2197: 'कापते', 2198: 'कापतो', 2199: 'कापतोय', 2200: 'कापरी', 2201: 'कापलं', 2202: 'कापला', 2203: 'कापली', 2204: 'कापले', 2205: 'कापलेल्या', 2206: 'कापसाचा', 2207: 'कापा', 2208: 'कापायचं', 2209: 'कापायला', 2210: 'कापू', 2211: 'कापून', 2212: 'काबुकी', 2213: 'काबूल', 2214: 'काम', 2215: 'कामं', 2216: 'कामगार', 2217: 'कामगारांची', 2218: 'कामगारांना', 2219: 'कामा', 2220: 'कामाचं', 2221: 'कामाचा', 2222: 'कामाची', 2223: 'कामाचे', 2224: 'कामाच्या', 2225: 'कामात', 2226: 'कामानंतर', 2227: 'कामाने', 2228: 'कामाबद्दल', 2229: 'कामाला', 2230: 'कामावर', 2231: 'कामाविषयी', 2232: 'काय', 2233: 'कायकाय', 2234: 'कायदा', 2235: 'कायदे', 2236: 'कायदेशीर', 2237: 'कायद्याचा', 2238: 'कायद्याची', 2239: 'कायद्याच्या', 2240: 'कायद्याबाबत', 2241: 'कायद्याला', 2242: 'कायद्याविषयी', 2243: 'कायम', 2244: 'कायमचा', 2245: 'कायमची', 2246: 'कार', 2247: 'कारखाना', 2248: 'कारखाने', 2249: 'कारखान्यात', 2250: 'कारखान्याला', 2251: 'कारण', 2252: 'कारणांसाठी', 2253: 'काराओकेचा', 2254: 'कारागृहात', 2255: 'कार्टून', 2256: 'कार्ड', 2257: 'कार्डबरोबर', 2258: 'कार्डाने', 2259: 'कार्डिफमध्ये', 2260: 'कार्डियोलॉजिस्ट', 2261: 'कार्पेट', 2262: 'कार्यकर्ता', 2263: 'कार्यक्रम', 2264: 'कार्यक्रमांचा', 2265: 'कार्यालय', 2266: 'काल', 2267: 'कालच', 2268: 'कालचं', 2269: 'कालचा', 2270: 'कालचे', 2271: 'कालच्या', 2272: 'कालच्यापेक्षा', 2273: 'कालबाह्य', 2274: 'कालवं', 2275: 'काल्पनिक', 2276: 'काळ', 2277: 'काळं', 2278: 'काळजी', 2279: 'काळा', 2280: 'काळात', 2281: 'काळापासून', 2282: 'काळी', 2283: 'काळीमीरी', 2284: 'काळे', 2285: 'काळोख', 2286: 'काळोखात', 2287: 'काळ्या', 2288: 'कावळा', 2289: 'कावळे', 2290: 'कावळ्याने', 2291: 'काव्य', 2292: 'काव्याचे', 2293: 'काव्येचा', 2294: 'कासव', 2295: 'कासवांना', 2296: 'कासिल्लास', 2297: 'कास्त्रोचं', 2298: 'कास्सिनोला', 2299: 'काही', 2300: 'काहींनी', 2301: 'काहींसाठी', 2302: 'काहीच', 2303: 'काहीतरी', 2304: 'काहीना', 2305: 'काहीनाकाही', 2306: 'काहीही', 2307: 'किंग्डमचा', 2308: 'किंचाळ', 2309: 'किंचाळणं', 2310: 'किंचाळणार', 2311: 'किंचाळण्याचा', 2312: 'किंचाळण्यास', 2313: 'किंचाळत', 2314: 'किंचाळतंय', 2315: 'किंचाळता', 2316: 'किंचाळताना', 2317: 'किंचाळताहेत', 2318: 'किंचाळतेय', 2319: 'किंचाळतोय', 2320: 'किंचाळला', 2321: 'किंचाळली', 2322: 'किंचाळले', 2323: 'किंचाळलो', 2324: 'किंचाळल्या', 2325: 'किंचाळू', 2326: 'किंचाळेन', 2327: 'किंचाळेल', 2328: 'किंमत', 2329: 'किंमती', 2330: 'किंमतीत', 2331: 'किंवा', 2332: 'किचन', 2333: 'किचनमधला', 2334: 'किचनमध्ये', 2335: 'किटलीतलं', 2336: 'किडनी', 2337: 'किडा', 2338: 'किडे', 2339: 'किड्नॅप', 2340: 'किड्यांच्या', 2341: 'कितवा', 2342: 'कितवीत', 2343: 'किती', 2344: 'कितीचं', 2345: 'कितीला', 2346: 'कितीही', 2347: 'कित्येक', 2348: 'किनार्\\u200dयाजवळ', 2349: 'किन्शासा', 2350: 'किमती', 2351: 'किमतीचा', 2352: 'किमतीत', 2353: 'किमान', 2354: 'किमोनो', 2355: 'किमोनोत', 2356: 'किलवरचा', 2357: 'किलो', 2358: 'किलोग्राम', 2359: 'किलोग्रामपेक्षा', 2360: 'किलोच्या', 2361: 'किलोपेक्षा', 2362: 'किलोमीटर', 2363: 'किलोमीटरमध्ये', 2364: 'किल्ट', 2365: 'किल्ला', 2366: 'किल्ली', 2367: 'किल्ले', 2368: 'किल्ल्या', 2369: 'किल्ल्यांची', 2370: 'किल्ल्यात', 2371: 'किल्ल्यासाठी', 2372: 'किळस', 2373: 'किस', 2374: 'किसलेलं', 2375: 'किसही', 2376: 'किसिंजर', 2377: 'किसून', 2378: 'की', 2379: 'कीटक', 2380: 'कीडे', 2381: 'कीबोर्ड', 2382: 'कीबोर्डची', 2383: 'कुंपणावरून', 2384: 'कुंपणेवरून', 2385: 'कुकर', 2386: 'कुकी', 2387: 'कुकीला', 2388: 'कुजबुजत', 2389: 'कुजबुजताना', 2390: 'कुटुंब', 2391: 'कुटुंबच', 2392: 'कुटुंबांचे', 2393: 'कुटुंबाचं', 2394: 'कुटुंबाचा', 2395: 'कुटुंबाची', 2396: 'कुटुंबात', 2397: 'कुटुंबातला', 2398: 'कुटुंबातली', 2399: 'कुटुंबातले', 2400: 'कुटुंबाबद्दल', 2401: 'कुटुंबाबरोबर', 2402: 'कुटुंबामधील', 2403: 'कुटुंबाला', 2404: 'कुटुंबासह', 2405: 'कुटुंबासहित', 2406: 'कुटुंबासाठी', 2407: 'कुटुंबासोबत', 2408: 'कुटुंबीय', 2409: 'कुठचा', 2410: 'कुठची', 2411: 'कुठचे', 2412: 'कुठून', 2413: 'कुठे', 2414: 'कुठेकुठे', 2415: 'कुठेच', 2416: 'कुठेतरी', 2417: 'कुठेय', 2418: 'कुठेयत', 2419: 'कुठेही', 2420: 'कुणीतरी', 2421: 'कुत्रा', 2422: 'कुत्री', 2423: 'कुत्रीचं', 2424: 'कुत्रीची', 2425: 'कुत्रीला', 2426: 'कुत्रे', 2427: 'कुत्र्यांची', 2428: 'कुत्र्यांना', 2429: 'कुत्र्यांपेक्षा', 2430: 'कुत्र्याचं', 2431: 'कुत्र्याची', 2432: 'कुत्र्याच्या', 2433: 'कुत्र्यात', 2434: 'कुत्र्याने', 2435: 'कुत्र्याबरोबर', 2436: 'कुत्र्याला', 2437: 'कुत्र्यावर', 2438: 'कुत्र्याशिवाय', 2439: 'कुत्र्याशी', 2440: 'कुत्र्यासाठी', 2441: 'कुबलाई', 2442: 'कुरकुरला', 2443: 'कुरकुरीतपणा', 2444: 'कुराण', 2445: 'कुरूप', 2446: 'कुर्\\u200dहाड', 2447: 'कुलूप', 2448: 'कुस्ती', 2449: 'कुस्तीगीर', 2450: 'कूकी', 2451: 'कूपन', 2452: 'कूल', 2453: 'कूलिज', 2454: 'कृत्रिम', 2455: 'कृपया', 2456: 'कृपा', 2457: 'कृषिशास्त्राचा', 2458: 'कृषीच्या', 2459: 'कृष्णवर्णीय', 2460: 'कॅटलोनियाची', 2461: 'कॅडिलॅक', 2462: 'कॅथलिक', 2463: 'कॅन', 2464: 'कॅनडा', 2465: 'कॅनडाइतका', 2466: 'कॅनडाचं', 2467: 'कॅनडाची', 2468: 'कॅनडात', 2469: 'कॅनडापासून', 2470: 'कॅनडापेक्षा', 2471: 'कॅनडामध्ये', 2472: 'कॅनडाला', 2473: 'कॅनडासुद्धा', 2474: 'कॅनला', 2475: 'कॅनेडियन', 2476: 'कॅनेडियनच', 2477: 'कॅनेडियनशी', 2478: 'कॅनो', 2479: 'कॅन्टीन', 2480: 'कॅन्टीनमध्ये', 2481: 'कॅन्डी', 2482: 'कॅन्सर', 2483: 'कॅन्सरला', 2484: 'कॅन्सल', 2485: 'कॅपिटल', 2486: 'कॅप्टन', 2487: 'कॅप्टनची', 2488: 'कॅफीनचं', 2489: 'कॅफीनची', 2490: 'कॅबटने', 2491: 'कॅबिनेटचा', 2492: 'कॅमेरा', 2493: 'कॅमेराचा', 2494: 'कॅमेरामन', 2495: 'कॅमेराला', 2496: 'कॅमेरे', 2497: 'कॅमेर्\\u200dयाकडे', 2498: 'कॅमेर्\\u200dयात', 2499: 'कॅमोमाईल', 2500: 'कॅम्पस', 2501: 'कॅम्पसच्या', 2502: 'कॅम्पसबाहेर', 2503: 'कॅम्पसमध्येच', 2504: 'कॅरिबियन', 2505: 'कॅलक्युलेटर', 2506: 'कॅलक्युलेटरची', 2507: 'कॅलरी', 2508: 'कॅलिफॉर्नियाची', 2509: 'कॅलिफॉर्नियापासून', 2510: 'कॅलिफोर्नियामध्ये', 2511: 'कॅले', 2512: 'कॅलेंडर', 2513: 'कॅलोरी', 2514: 'कॅल्क्युलेटर', 2515: 'कॅल्क्युलेटरमध्ये', 2516: 'कॅल्मिअस', 2517: 'कॅल्व्हिन', 2518: 'कॅव्हिआर', 2519: 'कॅश', 2520: 'कॅसेट', 2521: 'केंदोमधील', 2522: 'केंद्र', 2523: 'केंद्रात', 2524: 'केंद्रित', 2525: 'केंब्रिज', 2526: 'केक', 2527: 'केकचे', 2528: 'केकवर', 2529: 'केकसुद्धा', 2530: 'केचप', 2531: 'केनिया', 2532: 'केबलची', 2533: 'केबिन', 2534: 'केबिनमध्ये', 2535: 'केमिस्टकडे', 2536: 'केमिस्टच्या', 2537: 'केरोसिन', 2538: 'केलं', 2539: 'केलंच', 2540: 'केलंत', 2541: 'केलंय', 2542: 'केलंस', 2543: 'केलत', 2544: 'केला', 2545: 'केलाच', 2546: 'केलात', 2547: 'केलान्तान', 2548: 'केलाय', 2549: 'केलास', 2550: 'केली', 2551: 'केलीच', 2552: 'केलीत', 2553: 'केलीस', 2554: 'केले', 2555: 'केलेलं', 2556: 'केलेला', 2557: 'केलेली', 2558: 'केलेले', 2559: 'केलेल्या', 2560: 'केल्टिक', 2561: 'केल्या', 2562: 'केल्यानंतर', 2563: 'केल्याने', 2564: 'केल्याबरोबर', 2565: 'केल्याशिवाय', 2566: 'केळं', 2567: 'केळी', 2568: 'केळींचा', 2569: 'केळ्याच्या', 2570: 'केवळ', 2571: 'केव्हा', 2572: 'केव्हाच', 2573: 'केस', 2574: 'केसं', 2575: 'केसांचे', 2576: 'केसांच्या', 2577: 'केसांना', 2578: 'केसांमध्ये', 2579: 'कैदी', 2580: 'कैदीला', 2581: 'कैद्यांना', 2582: 'कैद्याने', 2583: 'कैद्याला', 2584: 'कॉंग्रेसकडे', 2585: 'कॉकटेल', 2586: 'कॉक्टेलांबद्दल', 2587: 'कॉनसर्टला', 2588: 'कॉन्ट्रॅक्ट', 2589: 'कॉन्फरन्स', 2590: 'कॉन्सर्ट', 2591: 'कॉन्सर्टबद्दल', 2592: 'कॉन्स्टँटिनोपल', 2593: 'कॉपी', 2594: 'कॉफी', 2595: 'कॉफीच', 2596: 'कॉफीचा', 2597: 'कॉफीची', 2598: 'कॉफीचे', 2599: 'कॉफीत', 2600: 'कॉफीपेक्षा', 2601: 'कॉफीमध्ये', 2602: 'कॉफीला', 2603: 'कॉफीसारखा', 2604: 'कॉम', 2605: 'कॉमिक', 2606: 'कॉमिक्स', 2607: 'कॉमेंट', 2608: 'कॉम्प्युटरवर', 2609: 'कॉम्प्यूटर', 2610: 'कॉम्प्यूटरसंबंधित', 2611: 'कॉरमध्ये', 2612: 'कॉर्सिकामध्ये', 2613: 'कॉल', 2614: 'कॉलेज', 2615: 'कॉलेजने', 2616: 'कॉलेजमध्ये', 2617: 'कॉलेजला', 2618: 'कॉलेजात', 2619: 'कोंबडी', 2620: 'कोंबडीचं', 2621: 'कोंबडीचा', 2622: 'कोंबडीचे', 2623: 'कोंबडीने', 2624: 'कोंबडीपेक्षा', 2625: 'कोंबडीला', 2626: 'कोंबडीसारखी', 2627: 'कोंबडे', 2628: 'कोंबड्या', 2629: 'कोंबड्यांना', 2630: 'कोआला', 2631: 'कोक', 2632: 'कोकेन', 2633: 'कोकेनचं', 2634: 'कोको', 2635: 'कोच', 2636: 'कोट', 2637: 'कोटची', 2638: 'कोटवरचं', 2639: 'कोटी', 2640: 'कोड', 2641: 'कोडं', 2642: 'कोडी', 2643: 'कोण', 2644: 'कोणकोण', 2645: 'कोणकोणत्या', 2646: 'कोणतं', 2647: 'कोणतंय', 2648: 'कोणतंही', 2649: 'कोणता', 2650: 'कोणताच', 2651: 'कोणतातरी', 2652: 'कोणताही', 2653: 'कोणती', 2654: 'कोणतीही', 2655: 'कोणते', 2656: 'कोणतेही', 2657: 'कोणत्या', 2658: 'कोणत्याच', 2659: 'कोणत्यातरी', 2660: 'कोणत्याही', 2661: 'कोणाकडून', 2662: 'कोणाकडूनही', 2663: 'कोणाकडे', 2664: 'कोणाचं', 2665: 'कोणाचंच', 2666: 'कोणाचंही', 2667: 'कोणाचा', 2668: 'कोणाचाच', 2669: 'कोणाचाही', 2670: 'कोणाची', 2671: 'कोणाचीच', 2672: 'कोणाचीही', 2673: 'कोणाचे', 2674: 'कोणाच्या', 2675: 'कोणाच्याही', 2676: 'कोणाबद्दल', 2677: 'कोणाबरोबर', 2678: 'कोणाला', 2679: 'कोणालाच', 2680: 'कोणालातरी', 2681: 'कोणालाही', 2682: 'कोणावर', 2683: 'कोणावरच', 2684: 'कोणावरही', 2685: 'कोणाशी', 2686: 'कोणाशीच', 2687: 'कोणाशीही', 2688: 'कोणास', 2689: 'कोणासाठी', 2690: 'कोणासाठीही', 2691: 'कोणासारखा', 2692: 'कोणासारखे', 2693: 'कोणासोबत', 2694: 'कोणी', 2695: 'कोणीच', 2696: 'कोणीतरी', 2697: 'कोणीही', 2698: 'कोतो', 2699: 'कोन', 2700: 'कोपर', 2701: 'कोपर्\\u200dयात', 2702: 'कोपर्\\u200dयावर', 2703: 'कोपेनहागेन', 2704: 'कोबी', 2705: 'कोमट', 2706: 'कोमात', 2707: 'कोरड्या', 2708: 'कोरा', 2709: 'कोरियन', 2710: 'कोरिया', 2711: 'कोरियाची', 2712: 'कोरियात', 2713: 'कोरियाने', 2714: 'कोरियामध्ये', 2715: 'कोरियावर', 2716: 'कोर्स', 2717: 'कोर्सचा', 2718: 'कोलंबसचं', 2719: 'कोलंबसने', 2720: 'कोलंबसला', 2721: 'कोलंबियन', 2722: 'कोलोरॅडोमध्ये', 2723: 'कोल्ड्रिंक', 2724: 'कोल्हे', 2725: 'कोल्ह्याने', 2726: 'कोल्ह्यामागे', 2727: 'कोल्ह्याला', 2728: 'कोळंबी', 2729: 'कोळश्यात', 2730: 'कोळश्यासारखा', 2731: 'कोळसा', 2732: 'कोवळं', 2733: 'कोशर', 2734: 'कोशिंबीर', 2735: 'कोशिंबीरसुद्धा', 2736: 'कोसळली', 2737: 'कोस्टर', 2738: 'कौतुक', 2739: 'क्यिव', 2740: 'क्यीव', 2741: 'क्युबामध्ये', 2742: 'क्युबावर', 2743: 'क्युशुमध्ये', 2744: 'क्यूआर', 2745: 'क्यूशू', 2746: 'क्योतो', 2747: 'क्योतोमध्ये', 2748: 'क्योवा', 2749: 'क्र', 2750: 'क्रमांक', 2751: 'क्रमांकाची', 2752: 'क्रमांकावर', 2753: 'क्रांती', 2754: 'क्रांतीच्या', 2755: 'क्रांतीत', 2756: 'क्रांतीनंतर', 2757: 'क्रिकेट', 2758: 'क्रियाविशेषण', 2759: 'क्रिश्चन', 2760: 'क्रिसमस', 2761: 'क्रिस्तोफोरी', 2762: 'क्रीम', 2763: 'क्रूझ', 2764: 'क्रूर', 2765: 'क्रॅकरचा', 2766: 'क्रॅश', 2767: 'क्रॅशच', 2768: 'क्रेडिट', 2769: 'क्लब', 2770: 'क्लबचा', 2771: 'क्लबमधली', 2772: 'क्लाउड', 2773: 'क्लारिनेट', 2774: 'क्लासमध्ये', 2775: 'क्लासला', 2776: 'क्लासिकल', 2777: 'क्लिओपात्राचं', 2778: 'क्लिक', 2779: 'क्लिनीक', 2780: 'क्लियर', 2781: 'क्लॅट्सॉप', 2782: 'क्लॅन', 2783: 'क्लॅरिनेट', 2784: 'क्लॅरिनेटिस्ट', 2785: 'क्लॉस्ट्रोफोबिक', 2786: 'क्वचितच', 2787: 'क्वाडकोर', 2788: 'क्षण', 2789: 'क्षणभर', 2790: 'क्षणही', 2791: 'क्षणासाठी', 2792: 'क्षणासाठीही', 2793: 'क्षणी', 2794: 'क्षमता', 2795: 'क्षेत्र', 2796: 'क्षेत्रांमध्ये', 2797: 'क्षेत्रात', 2798: 'खंड', 2799: 'खंबीर', 2800: 'खगोलशास्त्र', 2801: 'खजिना', 2802: 'खजिन्याचा', 2803: 'खजिन्याच्या', 2804: 'खजूर', 2805: 'खटला', 2806: 'खड्डा', 2807: 'खड्डे', 2808: 'खड्ड्यात', 2809: 'खरं', 2810: 'खरंखरं', 2811: 'खरंच', 2812: 'खरंतर', 2813: 'खरंय', 2814: 'खरंही', 2815: 'खरखरीत', 2816: 'खरच', 2817: 'खरा', 2818: 'खराब', 2819: 'खरी', 2820: 'खरीखुरी', 2821: 'खरीदायचं', 2822: 'खरीदू', 2823: 'खरीदून', 2824: 'खरीही', 2825: 'खरे', 2826: 'खरेदी', 2827: 'खरेदीविक्री', 2828: 'खरोखर', 2829: 'खरोखरच', 2830: 'खरोखरचं', 2831: 'खर्च', 2832: 'खर्\\u200dया', 2833: 'खलीफा', 2834: 'खळखळाट', 2835: 'खळतेस', 2836: 'खळतोस', 2837: 'खा', 2838: 'खांदे', 2839: 'खांद्यापर्यंत', 2840: 'खांद्याला', 2841: 'खांद्यावर', 2842: 'खाईन', 2843: 'खाईल', 2844: 'खाऊ', 2845: 'खाऊन', 2846: 'खाऊया', 2847: 'खाज', 2848: 'खाजगी', 2849: 'खाजवलीत', 2850: 'खाजवलीस', 2851: 'खाजवेन', 2852: 'खाण', 2853: 'खाणं', 2854: 'खाणाखुणा', 2855: 'खाणार', 2856: 'खाणारे', 2857: 'खाण्याअगोदर', 2858: 'खाण्याचं', 2859: 'खाण्यातून', 2860: 'खाण्यायोग्य', 2861: 'खाण्यासाठी', 2862: 'खात', 2863: 'खातंय', 2864: 'खातखात', 2865: 'खातखातच', 2866: 'खातच', 2867: 'खातरी', 2868: 'खाता', 2869: 'खाताखाता', 2870: 'खातात', 2871: 'खातातच', 2872: 'खाताना', 2873: 'खाताहेत', 2874: 'खातील', 2875: 'खाते', 2876: 'खातेय', 2877: 'खातेस', 2878: 'खातो', 2879: 'खातोय', 2880: 'खातोस', 2881: 'खात्यात', 2882: 'खात्री', 2883: 'खाद्य', 2884: 'खाद्यपदार्थ', 2885: 'खानने', 2886: 'खायचं', 2887: 'खायचा', 2888: 'खायची', 2889: 'खायचे', 2890: 'खायचो', 2891: 'खायच्या', 2892: 'खायला', 2893: 'खारट', 2894: 'खालच्या', 2895: 'खालपर्यंत', 2896: 'खालली', 2897: 'खाला', 2898: 'खाली', 2899: 'खालील', 2900: 'खाल्लं', 2901: 'खाल्लंत', 2902: 'खाल्लंस', 2903: 'खाल्ला', 2904: 'खाल्लात', 2905: 'खाल्लास', 2906: 'खाल्ली', 2907: 'खाल्ले', 2908: 'खाल्लेत', 2909: 'खाल्लेलं', 2910: 'खाल्लेला', 2911: 'खाल्लेस', 2912: 'खाल्ल्यानंतर', 2913: 'खावंसं', 2914: 'खाशील', 2915: 'खास', 2916: 'खासकरून', 2917: 'खिडकी', 2918: 'खिडकीत', 2919: 'खिडकीतून', 2920: 'खिडकीपाशी', 2921: 'खिडकीबाहेर', 2922: 'खिडकीवर', 2923: 'खिडक्या', 2924: 'खिल्ली', 2925: 'खिळा', 2926: 'खिळ्यासारखं', 2927: 'खिश्यांमध्ये', 2928: 'खिश्यात', 2929: 'खिश्यातून', 2930: 'खिसे', 2931: 'खिसेकापूंशी', 2932: 'खुनी', 2933: 'खुनीच्या', 2934: 'खुनेबद्दल', 2935: 'खुर्ची', 2936: 'खुर्चीखाली', 2937: 'खुर्चीची', 2938: 'खुर्चीच्या', 2939: 'खुर्चीत', 2940: 'खुर्चीवर', 2941: 'खुर्चीवरून', 2942: 'खुर्च्या', 2943: 'खुश', 2944: 'खूण', 2945: 'खून', 2946: 'खूनीचा', 2947: 'खूप', 2948: 'खूपच', 2949: 'खूपदा', 2950: 'खूश', 2951: 'खूष', 2952: 'खेकडा', 2953: 'खेकड्याला', 2954: 'खेचला', 2955: 'खेचले', 2956: 'खेचू', 2957: 'खेचून', 2958: 'खेडेगाव', 2959: 'खेलणं', 2960: 'खेळ', 2961: 'खेळणं', 2962: 'खेळणार', 2963: 'खेळणी', 2964: 'खेळणींने', 2965: 'खेळणे', 2966: 'खेळण्यांची', 2967: 'खेळण्यांनी', 2968: 'खेळण्यांबरोबर', 2969: 'खेळण्यात', 2970: 'खेळण्यातला', 2971: 'खेळण्यातली', 2972: 'खेळण्याशिवाय', 2973: 'खेळण्यास', 2974: 'खेळण्यासाठी', 2975: 'खेळत', 2976: 'खेळतं', 2977: 'खेळता', 2978: 'खेळतात', 2979: 'खेळताना', 2980: 'खेळतायत', 2981: 'खेळताहेत', 2982: 'खेळते', 2983: 'खेळतेय', 2984: 'खेळतेस', 2985: 'खेळतो', 2986: 'खेळतोय', 2987: 'खेळतोस', 2988: 'खेळला', 2989: 'खेळलात', 2990: 'खेळलास', 2991: 'खेळलीस', 2992: 'खेळले', 2993: 'खेळलो', 2994: 'खेळा', 2995: 'खेळांमध्ये', 2996: 'खेळाचे', 2997: 'खेळाडू', 2998: 'खेळाडूला', 2999: 'खेळात', 3000: 'खेळायचं', 3001: 'खेळायचंय', 3002: 'खेळायचा', 3003: 'खेळायची', 3004: 'खेळायचे', 3005: 'खेळायचो', 3006: 'खेळायच्या', 3007: 'खेळायला', 3008: 'खेळावसं', 3009: 'खेळासारखं', 3010: 'खेळी', 3011: 'खेळुया', 3012: 'खेळू', 3013: 'खेळून', 3014: 'खेळूया', 3015: 'खेळेन', 3016: 'खेळेल', 3017: 'खोकताना', 3018: 'खोकला', 3019: 'खोका', 3020: 'खोकू', 3021: 'खोक्यात', 3022: 'खोखो', 3023: 'खोगिरे', 3024: 'खोगीर', 3025: 'खोटं', 3026: 'खोटा', 3027: 'खोटारडा', 3028: 'खोटारडी', 3029: 'खोटारडे', 3030: 'खोटेपणाचा', 3031: 'खोट्या', 3032: 'खोडली', 3033: 'खोडून', 3034: 'खोदत', 3035: 'खोदतायत', 3036: 'खोदला', 3037: 'खोदली', 3038: 'खोल', 3039: 'खोलवर', 3040: 'खोली', 3041: 'खोलींचं', 3042: 'खोलींचा', 3043: 'खोलीचा', 3044: 'खोलीची', 3045: 'खोलीचे', 3046: 'खोलीच्या', 3047: 'खोलीत', 3048: 'खोलीतला', 3049: 'खोलीतील', 3050: 'खोलीतून', 3051: 'खोलीपर्यंत', 3052: 'खोलीमधल्या', 3053: 'खोलीमध्ये', 3054: 'खोलीला', 3055: 'खोल्या', 3056: 'खोल्यांचं', 3057: 'ख्रिश्चन', 3058: 'ख्रिस्त', 3059: 'ख्रिस्ताचा', 3060: 'ख्रिस्ती', 3061: 'ख्रिस्तीधर्म', 3062: 'गंजलेली', 3063: 'गंजीत', 3064: 'गंभीर', 3065: 'गंभीरपणे', 3066: 'गगनचुंबी', 3067: 'गजबजलेलं', 3068: 'गजर', 3069: 'गट', 3070: 'गटात', 3071: 'गटातील', 3072: 'गड', 3073: 'गडची', 3074: 'गडबड', 3075: 'गडबडीची', 3076: 'गडबडीत', 3077: 'गडांवर', 3078: 'गडामध्ये', 3079: 'गणवेशात', 3080: 'गणित', 3081: 'गणिताचा', 3082: 'गणिताची', 3083: 'गणितात', 3084: 'गणितापेक्षा', 3085: 'गणिताबरोबरच', 3086: 'गती', 3087: 'गतीने', 3088: 'गतीपेक्षा', 3089: 'गद्दार', 3090: 'गद्दारी', 3091: 'गप्प', 3092: 'गप्पा', 3093: 'गमतीचं', 3094: 'गमतीदार', 3095: 'गमवायची', 3096: 'गमवायला', 3097: 'गमवू', 3098: 'गमवून', 3099: 'गमावलं', 3100: 'गमावली', 3101: 'गमावले', 3102: 'गमावल्यानंतर', 3103: 'गमावून', 3104: 'गमी', 3105: 'गरज', 3106: 'गरजच', 3107: 'गरजेचं', 3108: 'गरजेपेक्षा', 3109: 'गरम', 3110: 'गरमी', 3111: 'गरमीत', 3112: 'गराडा', 3113: 'गरिबांची', 3114: 'गरिबांमध्ये', 3115: 'गरिबांवर', 3116: 'गरिबांविषयी', 3117: 'गरीब', 3118: 'गरुड', 3119: 'गरोदर', 3120: 'गर्दी', 3121: 'गर्दीत', 3122: 'गर्दीतसुद्धा', 3123: 'गर्दीला', 3124: 'गर्भगृह', 3125: 'गर्लफ्रेंड', 3126: 'गर्लफ्रेंडचं', 3127: 'गर्लफ्रेंडची', 3128: 'गर्लफ्रेंडना', 3129: 'गर्लफ्रेंडने', 3130: 'गर्लफ्रेंडपासून', 3131: 'गर्लफ्रेंडबद्दल', 3132: 'गर्लफ्रेंडबरोबर', 3133: 'गर्लफ्रेंडला', 3134: 'गर्लफ्रेंडसाठी', 3135: 'गल्ल्या', 3136: 'गळपट्ट्यांची', 3137: 'गळे', 3138: 'गवत', 3139: 'गवताच्या', 3140: 'गवतावर', 3141: 'गव्हापासून', 3142: 'गहाण', 3143: 'गहू', 3144: 'गाई', 3145: 'गाईंची', 3146: 'गाईंना', 3147: 'गाईन', 3148: 'गाईल', 3149: 'गाईला', 3150: 'गाऊ', 3151: 'गाऊन', 3152: 'गाऊया', 3153: 'गाजर', 3154: 'गाजरं', 3155: 'गाजरांपेक्षा', 3156: 'गाजरांमध्ये', 3157: 'गाजराची', 3158: 'गाडला', 3159: 'गाडायला', 3160: 'गाडी', 3161: 'गाडीचं', 3162: 'गाडीचा', 3163: 'गाडीची', 3164: 'गाडीचे', 3165: 'गाडीच्या', 3166: 'गाडीत', 3167: 'गाडीतला', 3168: 'गाडीतून', 3169: 'गाडीने', 3170: 'गाडीपेक्षा', 3171: 'गाडीमध्ये', 3172: 'गाडीमागे', 3173: 'गाडीला', 3174: 'गाडीसाठी', 3175: 'गाड्या', 3176: 'गाड्यांची', 3177: 'गाड्यांना', 3178: 'गाड्यांनी', 3179: 'गाड्यांशी', 3180: 'गाढ', 3181: 'गाणं', 3182: 'गाणार', 3183: 'गाणी', 3184: 'गाणीही', 3185: 'गाण्याचं', 3186: 'गाण्यात', 3187: 'गाण्यावर', 3188: 'गात', 3189: 'गातं', 3190: 'गाता', 3191: 'गातात', 3192: 'गाताना', 3193: 'गाताहेत', 3194: 'गातेस', 3195: 'गातो', 3196: 'गातोस', 3197: 'गादीखाली', 3198: 'गाना', 3199: 'गाय', 3200: 'गायक', 3201: 'गायकांमधील', 3202: 'गायकांमध्ये', 3203: 'गायकाचा', 3204: 'गायचं', 3205: 'गायचंय', 3206: 'गायचा', 3207: 'गायची', 3208: 'गायब', 3209: 'गायलं', 3210: 'गायला', 3211: 'गायली', 3212: 'गायले', 3213: 'गायलेलं', 3214: 'गायलो', 3215: 'गायल्या', 3216: 'गायिका', 3217: 'गायिकेचा', 3218: 'गायिकेसारखी', 3219: 'गायी', 3220: 'गार', 3221: 'गार्डनमध्ये', 3222: 'गाल', 3223: 'गालगुंडाने', 3224: 'गालात', 3225: 'गालातल्या', 3226: 'गालावर', 3227: 'गाळणीत', 3228: 'गाव', 3229: 'गावकरांना', 3230: 'गावकरी', 3231: 'गावभर', 3232: 'गावांमध्ये', 3233: 'गावाचा', 3234: 'गावाची', 3235: 'गावाच्या', 3236: 'गावात', 3237: 'गावातली', 3238: 'गावातल्या', 3239: 'गावातील', 3240: 'गावातून', 3241: 'गावाला', 3242: 'गावी', 3243: 'गाशील', 3244: 'गिटार', 3245: 'गिटारला', 3246: 'गिटारवादक', 3247: 'गिटारसुद्धा', 3248: 'गिटारिस्ट', 3249: 'गिनी', 3250: 'गिर्\\u200dहाईक', 3251: 'गिर्\\u200dहाईकच', 3252: 'गिळ', 3253: 'गिळण्याअगोदर', 3254: 'गिळलं', 3255: 'गिळला', 3256: 'गिळा', 3257: 'गीत', 3258: 'गुंडाळून', 3259: 'गुंतागुंतीची', 3260: 'गुटेनबर्गने', 3261: 'गुडघा', 3262: 'गुडघे', 3263: 'गुढग्यांवर', 3264: 'गुढघ्यांपर्यंत', 3265: 'गुण', 3266: 'गुणगुणा', 3267: 'गुणिले', 3268: 'गुदगुली', 3269: 'गुन्हा', 3270: 'गुन्हे', 3271: 'गुन्हेगार', 3272: 'गुन्हेगारांना', 3273: 'गुन्हेगारासारखं', 3274: 'गुन्हेगारी', 3275: 'गुन्हेगारीचा', 3276: 'गुन्हेगारीच्या', 3277: 'गुपित', 3278: 'गुप्तहेर', 3279: 'गुरुकडे', 3280: 'गुरुत्वच', 3281: 'गुरुवार', 3282: 'गुरूवार', 3283: 'गुलाब', 3284: 'गुलाबांचा', 3285: 'गुलाबांपेक्षा', 3286: 'गुलाबाचं', 3287: 'गुलाबाला', 3288: 'गुलाबी', 3289: 'गुलाम', 3290: 'गुलामगिरी', 3291: 'गुलामगिरीची', 3292: 'गुलामगिरीवर', 3293: 'गुलामांना', 3294: 'गुलामांसारखं', 3295: 'गुलामासारखं', 3296: 'गुहेत', 3297: 'गूगल', 3298: 'गूगलचा', 3299: 'गृहपाठ', 3300: 'गृहीत', 3301: 'गॅट्स्बी', 3302: 'गॅरेज', 3303: 'गॅरेजची', 3304: 'गॅरेजमधलं', 3305: 'गॅरेजमध्ये', 3306: 'गॅलन', 3307: 'गॅस', 3308: 'गॅसचा', 3309: 'गॅसची', 3310: 'गेट', 3311: 'गेब्रिएल', 3312: 'गेम', 3313: 'गेम्स', 3314: 'गेलं', 3315: 'गेलंय', 3316: 'गेलय', 3317: 'गेला', 3318: 'गेलात', 3319: 'गेलाय', 3320: 'गेलास', 3321: 'गेली', 3322: 'गेलीस', 3323: 'गेले', 3324: 'गेलेय', 3325: 'गेलेयत', 3326: 'गेलेलं', 3327: 'गेलेला', 3328: 'गेलेलाच', 3329: 'गेलेलास', 3330: 'गेलेली', 3331: 'गेलेलीस', 3332: 'गेलेले', 3333: 'गेलेलो', 3334: 'गेलेल्या', 3335: 'गेलो', 3336: 'गेलोय', 3337: 'गेल्डरिश', 3338: 'गेल्या', 3339: 'गेल्यापर्यंत', 3340: 'गेल्याबरोबरच', 3341: 'गेल्यावर', 3342: 'गेस्टरूमला', 3343: 'गेेले', 3344: 'गैरकायदेशीर', 3345: 'गैरजबाबदार', 3346: 'गैरफायदा', 3347: 'गैरहजर', 3348: 'गॉगल', 3349: 'गॉल', 3350: 'गॉलपासून', 3351: 'गोंधळ', 3352: 'गोंधळला', 3353: 'गोंधळले', 3354: 'गोंधळलेला', 3355: 'गोंधळलेली', 3356: 'गोंधळलेले', 3357: 'गोंधळलेलो', 3358: 'गोंधळलो', 3359: 'गोंधळात', 3360: 'गोंधळासाठी', 3361: 'गोजिरवाणं', 3362: 'गोड', 3363: 'गोड्या', 3364: 'गोन्डोलाचालक', 3365: 'गोपनीय', 3366: 'गोमांस', 3367: 'गोमांसाच्या', 3368: 'गोरिला', 3369: 'गोल', 3370: 'गोलंदाज', 3371: 'गोलकीपर', 3372: 'गोलाकार', 3373: 'गोलार्धात', 3374: 'गोल्डन', 3375: 'गोल्डफिश', 3376: 'गोल्डफिशला', 3377: 'गोल्फ', 3378: 'गोल्फचा', 3379: 'गोल्फपटू', 3380: 'गोल्फमध्ये', 3381: 'गोल्फर', 3382: 'गोल्फरांमधील', 3383: 'गोळा', 3384: 'गोळी', 3385: 'गोळीबार', 3386: 'गोळे', 3387: 'गोळ्या', 3388: 'गोष्ट', 3389: 'गोष्टी', 3390: 'गोष्टींचं', 3391: 'गोष्टींचा', 3392: 'गोष्टींची', 3393: 'गोष्टींबद्दल', 3394: 'गोष्टींबाबत', 3395: 'गोष्टींवर', 3396: 'गोष्टीचा', 3397: 'गोष्टीची', 3398: 'गोष्टीला', 3399: 'गोष्टीवर', 3400: 'गोष्टीशी', 3401: 'गोष्टीसाठी', 3402: 'ग्रँट', 3403: 'ग्रँटने', 3404: 'ग्रंथालय', 3405: 'ग्रंथालयाची', 3406: 'ग्रंथालयात', 3407: 'ग्रह', 3408: 'ग्रहापासून', 3409: 'ग्रहाला', 3410: 'ग्रहावर', 3411: 'ग्रांडे', 3412: 'ग्राफिक', 3413: 'ग्राम', 3414: 'ग्रामीण', 3415: 'ग्रामोफोन', 3416: 'ग्राहक', 3417: 'ग्राहकांची', 3418: 'ग्राहकांनी', 3419: 'ग्राहकांमधला', 3420: 'ग्राहकांशी', 3421: 'ग्राहकाशी', 3422: 'ग्राहम', 3423: 'ग्रीक', 3424: 'ग्रीकपासून', 3425: 'ग्रीन', 3426: 'ग्रीनलँड', 3427: 'ग्रीनहाउसमध्ये', 3428: 'ग्रीस', 3429: 'ग्रीसपेक्षा', 3430: 'ग्रीसमधील', 3431: 'ग्रीसमध्ये', 3432: 'ग्रीसला', 3433: 'ग्रॅज्युएशन', 3434: 'ग्रॅज्यूएट', 3435: 'ग्रे', 3436: 'ग्रेट', 3437: 'ग्रेड', 3438: 'ग्रेनेड', 3439: 'ग्लास', 3440: 'ग्लासं', 3441: 'ग्लासमध्ये', 3442: 'ग्लासात', 3443: 'ग्वाकामोले', 3444: 'ग्विलोटीनचा', 3445: 'घंटा', 3446: 'घंटी', 3447: 'घटक', 3448: 'घटना', 3449: 'घटनाबाह्य', 3450: 'घटनेने', 3451: 'घटनेला', 3452: 'घटस्फोट', 3453: 'घटस्फोटाच्या', 3454: 'घटस्फोटित', 3455: 'घट्ट', 3456: 'घडणार', 3457: 'घडण्याची', 3458: 'घडण्यात', 3459: 'घडत', 3460: 'घडतं', 3461: 'घडतंय', 3462: 'घडतच', 3463: 'घडतात', 3464: 'घडताना', 3465: 'घडलं', 3466: 'घडला', 3467: 'घडली', 3468: 'घडलेली', 3469: 'घडल्या', 3470: 'घडव', 3471: 'घडवत', 3472: 'घडवा', 3473: 'घडवू', 3474: 'घडायचं', 3475: 'घडायला', 3476: 'घडी', 3477: 'घडू', 3478: 'घडूच', 3479: 'घडेल', 3480: 'घडेलच', 3481: 'घड्याळ', 3482: 'घड्याळं', 3483: 'घड्याळाकडे', 3484: 'घड्याळाची', 3485: 'घड्याळापेक्षा', 3486: 'घड्याळाप्रमाणे', 3487: 'घड्याळाला', 3488: 'घन', 3489: 'घर', 3490: 'घरं', 3491: 'घरघर', 3492: 'घरच', 3493: 'घरचा', 3494: 'घरटी', 3495: 'घरभर', 3496: 'घरमालक', 3497: 'घरांची', 3498: 'घरांना', 3499: 'घराचं', 3500: 'घराचा', 3501: 'घराची', 3502: 'घराच्या', 3503: 'घराजवळ', 3504: 'घराजवळच्या', 3505: 'घरात', 3506: 'घरातच', 3507: 'घरातला', 3508: 'घरातल्या', 3509: 'घरातून', 3510: 'घरापर्यंत', 3511: 'घरापर्यंतचं', 3512: 'घरापासून', 3513: 'घराबाहेर', 3514: 'घराबाहेरची', 3515: 'घराभोवती', 3516: 'घरामागे', 3517: 'घराला', 3518: 'घरावर', 3519: 'घरासमोर', 3520: 'घरासमोरची', 3521: 'घरासमोरच्या', 3522: 'घरी', 3523: 'घरीच', 3524: 'घरे', 3525: 'घसरला', 3526: 'घसरले', 3527: 'घसरलो', 3528: 'घसरून', 3529: 'घसा', 3530: 'घाई', 3531: 'घाईघाईत', 3532: 'घाईत', 3533: 'घाईतच', 3534: 'घाईने', 3535: 'घाणेरडा', 3536: 'घाणेरडी', 3537: 'घाणेरडे', 3538: 'घाणेरड्या', 3539: 'घातलं', 3540: 'घातलंत', 3541: 'घातलंस', 3542: 'घातला', 3543: 'घातलाय', 3544: 'घातली', 3545: 'घातलीत', 3546: 'घातलीये', 3547: 'घातलीस', 3548: 'घातले', 3549: 'घातलेलं', 3550: 'घातलेला', 3551: 'घातलेली', 3552: 'घातलेले', 3553: 'घातलेल्या', 3554: 'घातलेस', 3555: 'घातल्या', 3556: 'घाबरणार', 3557: 'घाबरत', 3558: 'घाबरता', 3559: 'घाबरतात', 3560: 'घाबरते', 3561: 'घाबरतेस', 3562: 'घाबरतो', 3563: 'घाबरतोस', 3564: 'घाबरलं', 3565: 'घाबरला', 3566: 'घाबरलाय', 3567: 'घाबरली', 3568: 'घाबरले', 3569: 'घाबरलेय', 3570: 'घाबरलेला', 3571: 'घाबरलेली', 3572: 'घाबरलेले', 3573: 'घाबरलेलो', 3574: 'घाबरलेल्या', 3575: 'घाबरलो', 3576: 'घाबरलोय', 3577: 'घाबरवत', 3578: 'घाबरवलं', 3579: 'घाबरवलंत', 3580: 'घाबरवलंस', 3581: 'घाबरवायचं', 3582: 'घाबरवायचा', 3583: 'घाबरवू', 3584: 'घाबरायचं', 3585: 'घाबरायचा', 3586: 'घाबरू', 3587: 'घाम', 3588: 'घामाघूम', 3589: 'घामाने', 3590: 'घाल', 3591: 'घालणार', 3592: 'घालणारे', 3593: 'घालणार्\\u200dया', 3594: 'घालत', 3595: 'घालता', 3596: 'घालतात', 3597: 'घालते', 3598: 'घालतेय', 3599: 'घालतेस', 3600: 'घालतो', 3601: 'घालतोय', 3602: 'घालतोस', 3603: 'घालव', 3604: 'घालवत', 3605: 'घालवता', 3606: 'घालवतील', 3607: 'घालवतेस', 3608: 'घालवतो', 3609: 'घालवतोयस', 3610: 'घालवतोस', 3611: 'घालवलं', 3612: 'घालवला', 3613: 'घालवली', 3614: 'घालवले', 3615: 'घालवा', 3616: 'घालवायचं', 3617: 'घालवायचा', 3618: 'घालवायला', 3619: 'घालवाल', 3620: 'घालवू', 3621: 'घालवूया', 3622: 'घालवेल', 3623: 'घालशील', 3624: 'घाला', 3625: 'घालायचं', 3626: 'घालायची', 3627: 'घालायला', 3628: 'घालाल', 3629: 'घाली', 3630: 'घालू', 3631: 'घालून', 3632: 'घालेन', 3633: 'घालेल', 3634: 'घास', 3635: 'घासतात', 3636: 'घासते', 3637: 'घासतेय', 3638: 'घासतो', 3639: 'घासतोय', 3640: 'घासले', 3641: 'घासा', 3642: 'घासायचे', 3643: 'घासायला', 3644: 'घासावे', 3645: 'घुबडांकडे', 3646: 'घुबडांचे', 3647: 'घुसला', 3648: 'घुसलो', 3649: 'घे', 3650: 'घेईन', 3651: 'घेईनच', 3652: 'घेईल', 3653: 'घेऊ', 3654: 'घेऊन', 3655: 'घेऊया', 3656: 'घेणं', 3657: 'घेणंदेणं', 3658: 'घेणार', 3659: 'घेणे', 3660: 'घेण्याअगोदर', 3661: 'घेण्याइतपत', 3662: 'घेण्याचा', 3663: 'घेण्याची', 3664: 'घेण्यात', 3665: 'घेण्यापूर्वी', 3666: 'घेण्यास', 3667: 'घेण्यासाठी', 3668: 'घेण्यासारखं', 3669: 'घेत', 3670: 'घेतलं', 3671: 'घेतलंत', 3672: 'घेतलंय', 3673: 'घेतलंस', 3674: 'घेतलयस', 3675: 'घेतला', 3676: 'घेतलात', 3677: 'घेतलास', 3678: 'घेतली', 3679: 'घेतलीत', 3680: 'घेतलीस', 3681: 'घेतले', 3682: 'घेतलेत', 3683: 'घेतलेलं', 3684: 'घेतलेला', 3685: 'घेतलेल्या', 3686: 'घेतलेस', 3687: 'घेतल्या', 3688: 'घेतल्यावर', 3689: 'घेतल्यास', 3690: 'घेता', 3691: 'घेतात', 3692: 'घेताना', 3693: 'घेताहेत', 3694: 'घेतिल', 3695: 'घेतील', 3696: 'घेते', 3697: 'घेतेय', 3698: 'घेतेस', 3699: 'घेतो', 3700: 'घेतोच', 3701: 'घेतोय', 3702: 'घेतोस', 3703: 'घेरलेलं', 3704: 'घेशील', 3705: 'घोटा', 3706: 'घोडदळ', 3707: 'घोडा', 3708: 'घोडे', 3709: 'घोड्यांची', 3710: 'घोड्याकडे', 3711: 'घोड्याचं', 3712: 'घोड्याचे', 3713: 'घोड्याने', 3714: 'घोड्याला', 3715: 'घोड्यावर', 3716: 'घोड्यासारखा', 3717: 'घोरत', 3718: 'घोरतो', 3719: 'घोरायला', 3720: 'घोषणा', 3721: 'घोषित', 3722: 'घ्या', 3723: 'घ्यायचं', 3724: 'घ्यायचंय', 3725: 'घ्यायचा', 3726: 'घ्यायची', 3727: 'घ्यायचे', 3728: 'घ्यायच्या', 3729: 'घ्यायला', 3730: 'घ्यायलाच', 3731: 'घ्याल', 3732: 'घ्यावसं', 3733: 'घ्यावी', 3734: 'घ्यावीशी', 3735: 'चंद्र', 3736: 'चंद्रग्रहण', 3737: 'चंद्राकडे', 3738: 'चंद्राचा', 3739: 'चंद्राची', 3740: 'चंद्रापासून', 3741: 'चंद्रापेक्षा', 3742: 'चंद्राला', 3743: 'चंद्रावर', 3744: 'चकाकते', 3745: 'चकाचक', 3746: 'चकित', 3747: 'चकीत', 3748: 'चक्क', 3749: 'चक्कर', 3750: 'चक्स', 3751: 'चटकन', 3752: 'चटणी', 3753: 'चडू', 3754: 'चडेल', 3755: 'चढ', 3756: 'चढणं', 3757: 'चढणार', 3758: 'चढत', 3759: 'चढतात', 3760: 'चढताना', 3761: 'चढला', 3762: 'चढली', 3763: 'चढले', 3764: 'चढलो', 3765: 'चढवता', 3766: 'चढवला', 3767: 'चढवू', 3768: 'चढा', 3769: 'चढायचा', 3770: 'चढायला', 3771: 'चढू', 3772: 'चमकत', 3773: 'चमकतोय', 3774: 'चमकदार', 3775: 'चमचा', 3776: 'चमचाभर', 3777: 'चमचे', 3778: 'चमच्यांची', 3779: 'चमच्याची', 3780: 'चमच्याने', 3781: 'चमत्कार', 3782: 'चमत्कारच', 3783: 'चमत्कारांवर', 3784: 'चमत्काराची', 3785: 'चरत', 3786: 'चर्च', 3787: 'चर्चचा', 3788: 'चर्चमध्ये', 3789: 'चर्चला', 3790: 'चर्चा', 3791: 'चर्चांचे', 3792: 'चर्चिल', 3793: 'चर्चिलने', 3794: 'चर्चेत', 3795: 'चल', 3796: 'चलनवाढ', 3797: 'चला', 3798: 'चव', 3799: 'चवसुद्धा', 3800: 'चवही', 3801: 'चविष्ट', 3802: 'चवीप्रमाणे', 3803: 'चवीला', 3804: 'चश्मा', 3805: 'चश्म्याशिवाय', 3806: 'चष्मा', 3807: 'चष्मे', 3808: 'चष्म्याचा', 3809: 'चष्म्यावर', 3810: 'चष्म्यासारखा', 3811: 'चहा', 3812: 'चहाकॉफी', 3813: 'चहाचा', 3814: 'चहाची', 3815: 'चहात', 3816: 'चहापेक्षा', 3817: 'चहाबरोबर', 3818: 'चहाला', 3819: 'चहासाठी', 3820: 'चहासारखी', 3821: 'च़ालत', 3822: 'चा', 3823: 'चांगलं', 3824: 'चांगलंच', 3825: 'चांगलंय', 3826: 'चांगला', 3827: 'चांगली', 3828: 'चांगलीच', 3829: 'चांगले', 3830: 'चांगल्या', 3831: 'चांगल्यातलं', 3832: 'चांगल्यापणे', 3833: 'चांदी', 3834: 'चांदीच्या', 3835: 'चांदीपेक्षा', 3836: 'चांसेलर्सविलची', 3837: 'चाकं', 3838: 'चाकांना', 3839: 'चाकांमध्ये', 3840: 'चाकू', 3841: 'चाकूने', 3842: 'चाटत', 3843: 'चाटला', 3844: 'चादर', 3845: 'चादरी', 3846: 'चादरीखाली', 3847: 'चादरीत', 3848: 'चान्स', 3849: 'चामडीचं', 3850: 'चायनीज', 3851: 'चार', 3852: 'चारचार', 3853: 'चारपर्यंत', 3854: 'चारपाच', 3855: 'चारशे', 3856: 'चार्ज', 3857: 'चार्जर', 3858: 'चार्ल्स', 3859: 'चाल', 3860: 'चालक', 3861: 'चालणार', 3862: 'चालणारा', 3863: 'चालणे', 3864: 'चालत', 3865: 'चालतं', 3866: 'चालतंय', 3867: 'चालतचालत', 3868: 'चालता', 3869: 'चालताचालता', 3870: 'चालतात', 3871: 'चालताना', 3872: 'चालतील', 3873: 'चालते', 3874: 'चालतेय', 3875: 'चालतो', 3876: 'चालतोय', 3877: 'चालत्या', 3878: 'चाललं', 3879: 'चाललंय', 3880: 'चालला', 3881: 'चाललाय', 3882: 'चाललायस', 3883: 'चालली', 3884: 'चाललीये', 3885: 'चालले', 3886: 'चाललेय', 3887: 'चाललेलं', 3888: 'चाललो', 3889: 'चाललोय', 3890: 'चालल्या', 3891: 'चालव', 3892: 'चालवणार', 3893: 'चालवणे', 3894: 'चालवण्याआधी', 3895: 'चालवण्याची', 3896: 'चालवत', 3897: 'चालवता', 3898: 'चालवतात', 3899: 'चालवताना', 3900: 'चालवते', 3901: 'चालवतो', 3902: 'चालवतोय', 3903: 'चालवला', 3904: 'चालवली', 3905: 'चालवल्या', 3906: 'चालवा', 3907: 'चालवायचा', 3908: 'चालवायची', 3909: 'चालवायला', 3910: 'चालवू', 3911: 'चालवून', 3912: 'चालवेन', 3913: 'चाला', 3914: 'चालायचं', 3915: 'चालायचा', 3916: 'चालायला', 3917: 'चालायलाच', 3918: 'चालू', 3919: 'चालूच', 3920: 'चालून', 3921: 'चालेन', 3922: 'चालेल', 3923: 'चाल्लं', 3924: 'चाल्लंय', 3925: 'चाळणार', 3926: 'चाळण्यासारखं', 3927: 'चाळी', 3928: 'चाळीस', 3929: 'चावणार', 3930: 'चावत', 3931: 'चावतात', 3932: 'चावतो', 3933: 'चावतोय', 3934: 'चावलं', 3935: 'चावला', 3936: 'चावली', 3937: 'चावी', 3938: 'चावीने', 3939: 'चावू', 3940: 'चाव्या', 3941: 'चिंता', 3942: 'चिंतित', 3943: 'चिंपांझी', 3944: 'चिकट', 3945: 'चिकटतात', 3946: 'चिकन', 3947: 'चिकनचे', 3948: 'चिखलात', 3949: 'चिडला', 3950: 'चिडली', 3951: 'चिडले', 3952: 'चिडल्या', 3953: 'चिडवणं', 3954: 'चिडवलं', 3955: 'चित्र', 3956: 'चित्रं', 3957: 'चित्रकथा', 3958: 'चित्रकार', 3959: 'चित्रपट', 3960: 'चित्रपटगृहात', 3961: 'चित्रपटगृहाबाहेर', 3962: 'चित्रपटांमध्ये', 3963: 'चित्रपटाचं', 3964: 'चित्रपटाची', 3965: 'चित्रपटातला', 3966: 'चित्रपटातली', 3967: 'चित्रपटाला', 3968: 'चित्ररमणीय', 3969: 'चित्राकडे', 3970: 'चित्राची', 3971: 'चित्रात', 3972: 'चित्राने', 3973: 'चित्राविषयी', 3974: 'चिनी', 3975: 'चिनीचाही', 3976: 'चिमुकलं', 3977: 'चिमुकला', 3978: 'चिमुकल्या', 3979: 'चिवावा', 3980: 'ची', 3981: 'चीज', 3982: 'चीजकेक', 3983: 'चीजपेक्षा', 3984: 'चीजबर्गर', 3985: 'चीझ', 3986: 'चीझकेक', 3987: 'चीझबर्गरसुद्धा', 3988: 'चीन', 3989: 'चीनचा', 3990: 'चीनची', 3991: 'चीनच्या', 3992: 'चीनपासून', 3993: 'चीनबद्दल', 3994: 'चीनमधली', 3995: 'चीनमध्ये', 3996: 'चीनमध्येसुद्धा', 3997: 'चीनला', 3998: 'चीनवर', 3999: 'चीनविषयी', 4000: 'चीनशी', 4001: 'चीनी', 4002: 'चीर', 4003: 'चुंबकत्व', 4004: 'चुकलं', 4005: 'चुकलंय', 4006: 'चुकला', 4007: 'चुकलात', 4008: 'चुकलास', 4009: 'चुकलीस', 4010: 'चुकले', 4011: 'चुकलेला', 4012: 'चुकलेले', 4013: 'चुकलेलो', 4014: 'चुकलो', 4015: 'चुका', 4016: 'चुकीचं', 4017: 'चुकीचा', 4018: 'चुकीची', 4019: 'चुकीचे', 4020: 'चुकीच्या', 4021: 'चुकीला', 4022: 'चुकून', 4023: 'चुप', 4024: 'चुपचाप', 4025: 'चुलत', 4026: 'चुलीवर', 4027: 'चूक', 4028: 'चूकच', 4029: 'चूकले', 4030: 'चूकलो', 4031: 'चूल', 4032: 'चॅनल', 4033: 'चॅम्पियन', 4034: 'चे', 4035: 'चेंगरून', 4036: 'चेंडू', 4037: 'चेंडूला', 4038: 'चेंडूसारखी', 4039: 'चेक', 4040: 'चेटकीण', 4041: 'चेतावणी', 4042: 'चेन', 4043: 'चेनला', 4044: 'चेरी', 4045: 'चेरीचं', 4046: 'चेलो', 4047: 'चेहरा', 4048: 'चेहरे', 4049: 'चेहर्\\u200dयाकडे', 4050: 'चेहर्\\u200dयाला', 4051: 'चेहर्\\u200dयावर', 4052: 'चेहर्\\u200dयावरचं', 4053: 'चेहऱ्यासारखा', 4054: 'चॉकलेट', 4055: 'चॉकलेटपेक्षा', 4056: 'चॉकलेटही', 4057: 'चॉपर', 4058: 'चॉपस्टिक्सने', 4059: 'चॉप्स', 4060: 'चॉप्स्टिक्सबरोबर', 4061: 'चॉवगॉश', 4062: 'चॉसर', 4063: 'चोकलेटं', 4064: 'चोची', 4065: 'चोचीत', 4066: 'चोर', 4067: 'चोरणं', 4068: 'चोरत', 4069: 'चोरतात', 4070: 'चोरताना', 4071: 'चोरलं', 4072: 'चोरलंत', 4073: 'चोरलंस', 4074: 'चोरला', 4075: 'चोरली', 4076: 'चोरले', 4077: 'चोरलेले', 4078: 'चोराचा', 4079: 'चोराच्या', 4080: 'चोराने', 4081: 'चोरायची', 4082: 'चोरायला', 4083: 'चोराला', 4084: 'चोरी', 4085: 'चोरीला', 4086: 'चोळतात', 4087: 'चोळले', 4088: 'चोळू', 4089: 'चोवीस', 4090: 'चौक', 4091: 'चौकशी', 4092: 'चौकात', 4093: 'चौकाला', 4094: 'चौकोन', 4095: 'चौकोनाला', 4096: 'चौतीस', 4097: 'चौथा', 4098: 'चौथ्या', 4099: 'चौदाव्या', 4100: 'चौपाटीला', 4101: 'चौरस', 4102: 'चौर्\\u200dयाण्णव', 4103: 'चौसष्ट', 4104: 'च्या', 4105: 'छत', 4106: 'छताकडे', 4107: 'छताखाली', 4108: 'छताला', 4109: 'छतावर', 4110: 'छतावरील', 4111: 'छतावरून', 4112: 'छत्री', 4113: 'छत्र्या', 4114: 'छळ', 4115: 'छाटा', 4116: 'छाटो', 4117: 'छातीत', 4118: 'छातीवर', 4119: 'छान', 4120: 'छानशा', 4121: 'छापण्यात', 4122: 'छापलं', 4123: 'छापली', 4124: 'छापायची', 4125: 'छापू', 4126: 'छायाचित्रकार', 4127: 'छायाचित्राची', 4128: 'छायाचित्रे', 4129: 'छेटे', 4130: 'छोटं', 4131: 'छोटा', 4132: 'छोटासा', 4133: 'छोटी', 4134: 'छोटीशी', 4135: 'छोटे', 4136: 'छोट्या', 4137: 'छोट्यांना', 4138: 'छोट्याछोट्या', 4139: 'छोट्याशा', 4140: 'छोट्याश्या', 4141: 'जंगलाचा', 4142: 'जंगलात', 4143: 'जंबो', 4144: 'जखम', 4145: 'जखमा', 4146: 'जखमांना', 4147: 'जखमी', 4148: 'जखमेतून', 4149: 'जग', 4150: 'जगणं', 4151: 'जगणे', 4152: 'जगण्याचा', 4153: 'जगण्याची', 4154: 'जगण्यात', 4155: 'जगण्यापेक्षा', 4156: 'जगण्यालायक', 4157: 'जगण्यासाठी', 4158: 'जगत', 4159: 'जगतात', 4160: 'जगतो', 4161: 'जगप्रसिद्ध', 4162: 'जगभर', 4163: 'जगभरात', 4164: 'जगभरातल्या', 4165: 'जगभरातून', 4166: 'जगाचं', 4167: 'जगाचा', 4168: 'जगाची', 4169: 'जगाच्या', 4170: 'जगात', 4171: 'जगातलं', 4172: 'जगातला', 4173: 'जगातली', 4174: 'जगातले', 4175: 'जगातल्या', 4176: 'जगातील', 4177: 'जगायचं', 4178: 'जगायला', 4179: 'जगाला', 4180: 'जगावर', 4181: 'जगू', 4182: 'जगूच', 4183: 'जगेल', 4184: 'जड', 4185: 'जण', 4186: 'जणं', 4187: 'जणांना', 4188: 'जणांनी', 4189: 'जणांसाठी', 4190: 'जनगणना', 4191: 'जनतेकडून', 4192: 'जनतेला', 4193: 'जननी', 4194: 'जनावर', 4195: 'जनावरं', 4196: 'जनावरांवर', 4197: 'जन्म', 4198: 'जन्मजात', 4199: 'जन्मठेपेची', 4200: 'जन्मतारीख', 4201: 'जन्मदिनांक', 4202: 'जन्मभाषकासारखं', 4203: 'जन्मला', 4204: 'जन्मली', 4205: 'जन्मले', 4206: 'जन्मलेला', 4207: 'जन्मलेली', 4208: 'जन्मलेले', 4209: 'जन्मलेलो', 4210: 'जन्मलो', 4211: 'जन्मस्थान', 4212: 'जन्माची', 4213: 'जन्मापासूनच', 4214: 'जन्माला', 4215: 'जपान', 4216: 'जपानचं', 4217: 'जपानचा', 4218: 'जपानची', 4219: 'जपानचे', 4220: 'जपानच्या', 4221: 'जपानने', 4222: 'जपानपेक्षा', 4223: 'जपानबद्दल', 4224: 'जपानबाबत', 4225: 'जपानमधली', 4226: 'जपानमधील', 4227: 'जपानमध्ये', 4228: 'जपानमध्येही', 4229: 'जपानमार्गे', 4230: 'जपानला', 4231: 'जपानी', 4232: 'जपानीअमेरिकन', 4233: 'जपानीइंग्रजी', 4234: 'जपानीचा', 4235: 'जपानीत', 4236: 'जपानीतून', 4237: 'जपानीपासून', 4238: 'जपानीपेक्षा', 4239: 'जपानीमध्ये', 4240: 'जपान्यांनी', 4241: 'जपून', 4242: 'जप्त', 4243: 'जबरदस्ती', 4244: 'जबरदस्तीने', 4245: 'जबाबदार', 4246: 'जबाबदारी', 4247: 'जमणार', 4248: 'जमत', 4249: 'जमतं', 4250: 'जमलं', 4251: 'जमला', 4252: 'जमली', 4253: 'जमले', 4254: 'जमलेली', 4255: 'जमलेल्या', 4256: 'जमवलं', 4257: 'जमवायला', 4258: 'जमवीन', 4259: 'जमवू', 4260: 'जमा', 4261: 'जमातींकडे', 4262: 'जमिनीची', 4263: 'जमिनीत', 4264: 'जमिनीवर', 4265: 'जमिनीवरून', 4266: 'जमीन', 4267: 'जमीनीवर', 4268: 'जमू', 4269: 'जमून', 4270: 'जमेल', 4271: 'जर', 4272: 'जरा', 4273: 'जराशी', 4274: 'जराश्या', 4275: 'जरासं', 4276: 'जरासा', 4277: 'जरासाच', 4278: 'जरासे', 4279: 'जर्मन', 4280: 'जर्मनचा', 4281: 'जर्मनपेक्षा', 4282: 'जर्मनमध्ये', 4283: 'जर्मनांची', 4284: 'जर्मनी', 4285: 'जर्मनीचा', 4286: 'जर्मनीची', 4287: 'जर्मनीच्या', 4288: 'जर्मनीत', 4289: 'जर्मनीतच', 4290: 'जर्मनीने', 4291: 'जर्मनीपासून', 4292: 'जर्मनीमधील', 4293: 'जर्मनीमध्ये', 4294: 'जर्मनीला', 4295: 'जर्मेनिक', 4296: 'जलतरणिकेत', 4297: 'जलदगतीने', 4298: 'जलयात्रेशी', 4299: 'जळण्याचा', 4300: 'जळत', 4301: 'जळतं', 4302: 'जळतंय', 4303: 'जळताहेत', 4304: 'जळते', 4305: 'जळतो', 4306: 'जळलं', 4307: 'जळला', 4308: 'जळली', 4309: 'जळून', 4310: 'जळेल', 4311: 'जवळ', 4312: 'जवळच', 4313: 'जवळचं', 4314: 'जवळचा', 4315: 'जवळची', 4316: 'जवळचे', 4317: 'जवळच्या', 4318: 'जवळजवळ', 4319: 'जवळपास', 4320: 'जवळपासच', 4321: 'जवळपासच्या', 4322: 'जवळून', 4323: 'जशी', 4324: 'जश्या', 4325: 'जसं', 4326: 'जसा', 4327: 'जसे', 4328: 'जहाज', 4329: 'जहाजं', 4330: 'जहाजंच', 4331: 'जहाजांमधून', 4332: 'जहाजाचा', 4333: 'जहाजात', 4334: 'जहाजाला', 4335: 'जहाजावर', 4336: 'ज़ायला', 4337: 'जा', 4338: 'जांभळं', 4339: 'जांभळा', 4340: 'जाईन', 4341: 'जाईल', 4342: 'जाईलच', 4343: 'जाईल।', 4344: 'जाउया', 4345: 'जाऊ', 4346: 'जाऊन', 4347: 'जाऊया', 4348: 'जाग', 4349: 'जागं', 4350: 'जागतिक', 4351: 'जागलो', 4352: 'जागवलं', 4353: 'जागा', 4354: 'जागी', 4355: 'जागून', 4356: 'जागृत', 4357: 'जागे', 4358: 'जागेचं', 4359: 'जागेची', 4360: 'जागेत', 4361: 'जागेपासून', 4362: 'जागेवर', 4363: 'जाग्या', 4364: 'जाडं', 4365: 'जाडा', 4366: 'जाडाच', 4367: 'जाडी', 4368: 'जाडे', 4369: 'जाड्या', 4370: 'जाणणे', 4371: 'जाणते', 4372: 'जाणवत', 4373: 'जाणवतेय', 4374: 'जाणवतोय', 4375: 'जाणवलं', 4376: 'जाणवला', 4377: 'जाणवायचा', 4378: 'जाणार', 4379: 'जाणारच', 4380: 'जाणारा', 4381: 'जाणारी', 4382: 'जाणारे', 4383: 'जाणार्\\u200dया', 4384: 'जाणीव', 4385: 'जाणीवच', 4386: 'जाणून', 4387: 'जाणे', 4388: 'जाण्याअगोदर', 4389: 'जाण्याआधी', 4390: 'जाण्याइतपत', 4391: 'जाण्याचं', 4392: 'जाण्याचा', 4393: 'जाण्याची', 4394: 'जाण्यापूर्वी', 4395: 'जाण्यापेक्षा', 4396: 'जाण्याशिवाय', 4397: 'जाण्यासारखं', 4398: 'जात', 4399: 'जातं', 4400: 'जातंय', 4401: 'जातय', 4402: 'जाता', 4403: 'जातात', 4404: 'जाताना', 4405: 'जाताय', 4406: 'जाताहेत', 4407: 'जातीकडे', 4408: 'जातील', 4409: 'जाते', 4410: 'जातेच', 4411: 'जातेय', 4412: 'जातेयस', 4413: 'जातेस', 4414: 'जातो', 4415: 'जातोच', 4416: 'जातोय', 4417: 'जातोयस', 4418: 'जातोस', 4419: 'जादू', 4420: 'जादूगार', 4421: 'जादूत', 4422: 'जादूवर', 4423: 'जानेवारी', 4424: 'जानेवारीपासून', 4425: 'जानेवारीला', 4426: 'जापा', 4427: 'जापान', 4428: 'जापानचे', 4429: 'जापानी', 4430: 'जामेनहोफ', 4431: 'जायंट्स', 4432: 'जायंट्सचे', 4433: 'जायचं', 4434: 'जायचंच', 4435: 'जायचंय', 4436: 'जायचंही', 4437: 'जायचा', 4438: 'जायचाच', 4439: 'जायची', 4440: 'जायचे', 4441: 'जायचो', 4442: 'जायच्या', 4443: 'जायन्ट्स', 4444: 'जायला', 4445: 'जायलाच', 4446: 'जारकर्म', 4447: 'जाल', 4448: 'जाळ', 4449: 'जाळता', 4450: 'जाळतात', 4451: 'जाळतील', 4452: 'जाळते', 4453: 'जाळलं', 4454: 'जाळला', 4455: 'जाळले', 4456: 'जाळून', 4457: 'जावं', 4458: 'जावसं', 4459: 'जाव्हास्क्रिप्ट', 4460: 'जाव्हास्क्रिप्टमध्ये', 4461: 'जाशील', 4462: 'जास्त', 4463: 'जास्तच', 4464: 'जास्तीतजास्त', 4465: 'जाहिरात', 4466: 'जाहीर', 4467: 'जाहीरपणे', 4468: 'जिंकणं', 4469: 'जिंकणार', 4470: 'जिंकणे', 4471: 'जिंकण्याची', 4472: 'जिंकण्यात', 4473: 'जिंकण्यासाठी', 4474: 'जिंकत', 4475: 'जिंकतं', 4476: 'जिंकतंय', 4477: 'जिंकतच', 4478: 'जिंकतात', 4479: 'जिंकताना', 4480: 'जिंकतील', 4481: 'जिंकते', 4482: 'जिंकतो', 4483: 'जिंकतोय', 4484: 'जिंकलं', 4485: 'जिंकला', 4486: 'जिंकलात', 4487: 'जिंकलास', 4488: 'जिंकली', 4489: 'जिंकलीस', 4490: 'जिंकले', 4491: 'जिंकलेय', 4492: 'जिंकलेली', 4493: 'जिंकलो', 4494: 'जिंकलोय', 4495: 'जिंकल्या', 4496: 'जिंकवून', 4497: 'जिंकशील', 4498: 'जिंकायचं', 4499: 'जिंकायचंच', 4500: 'जिंकायचंय', 4501: 'जिंकायचा', 4502: 'जिंकायची', 4503: 'जिंकायचे', 4504: 'जिंकायला', 4505: 'जिंकायलाच', 4506: 'जिंकाल', 4507: 'जिंकू', 4508: 'जिंकून', 4509: 'जिंकेल', 4510: 'जिंबाब्वे', 4511: 'जिचा', 4512: 'जिचे', 4513: 'जिज्ञासू', 4514: 'जितकं', 4515: 'जितका', 4516: 'जितकी', 4517: 'जितके', 4518: 'जितक्या', 4519: 'जिथे', 4520: 'जिथेजिथे', 4521: 'जिथेही', 4522: 'जिनी', 4523: 'जिने', 4524: 'जिप', 4525: 'जिब्राल्टर', 4526: 'जिममध्ये', 4527: 'जिमला', 4528: 'जिम्मेदार', 4529: 'जिराफ', 4530: 'जिला', 4531: 'जिल्ह्यांमध्ये', 4532: 'जिवंत', 4533: 'जिवाची', 4534: 'जी', 4535: 'जीआयएफ', 4536: 'जीआयशी', 4537: 'जीएमटीपर्यंत', 4538: 'जीनियस', 4539: 'जीन्स', 4540: 'जीभ', 4541: 'जीव', 4542: 'जीवन', 4543: 'जीवनकथा', 4544: 'जीवनच', 4545: 'जीवनाची', 4546: 'जीवनाबद्दल', 4547: 'जीवनासाठी', 4548: 'जीवशास्त्राचे', 4549: 'जीवाणू', 4550: 'जीवाणूंमुळे', 4551: 'जुगार', 4552: 'जुगारगृहांमध्ये', 4553: 'जुगाराची', 4554: 'जुगारी', 4555: 'जुनं', 4556: 'जुना', 4557: 'जुनी', 4558: 'जुने', 4559: 'जुन्या', 4560: 'जुपिटरकडे', 4561: 'जुलियन', 4562: 'जुलै', 4563: 'जुलैपर्यंत', 4564: 'जुलैला', 4565: 'जुळत', 4566: 'जुळा', 4567: 'जुळी', 4568: 'जुळे', 4569: 'जुळ्या', 4570: 'जून', 4571: 'जूनच्या', 4572: 'जूनमध्ये', 4573: 'जूम', 4574: 'जॅक', 4575: 'जॅकसन', 4576: 'जॅकेट', 4577: 'जॅकेटच्या', 4578: 'जॅक्सन', 4579: 'जॅक्सनचं', 4580: 'जॅक्सनचा', 4581: 'जॅक्सनची', 4582: 'जॅक्सनच्या', 4583: 'जॅक्सनने', 4584: 'जॅक्सनला', 4585: 'जॅक्सनांकडे', 4586: 'जॅक्सनांना', 4587: 'जॅज', 4588: 'जॅझ', 4589: 'जॅझचं', 4590: 'जॅम', 4591: 'जॅममध्ये', 4592: 'जे', 4593: 'जेंटलमेन', 4594: 'जेऊ', 4595: 'जेथे', 4596: 'जेनीव्हा', 4597: 'जेफर्सनने', 4598: 'जेम्स', 4599: 'जेलमध्ये', 4600: 'जेलला', 4601: 'जेली', 4602: 'जेव', 4603: 'जेवढं', 4604: 'जेवढा', 4605: 'जेवढ्या', 4606: 'जेवण', 4607: 'जेवणाअगोदर', 4608: 'जेवणाआधी', 4609: 'जेवणाचे', 4610: 'जेवणात', 4611: 'जेवणानंतर', 4612: 'जेवणाबरोबर', 4613: 'जेवणार', 4614: 'जेवणासाठी', 4615: 'जेवत', 4616: 'जेवतात', 4617: 'जेवताना', 4618: 'जेवते', 4619: 'जेवतेय', 4620: 'जेवतो', 4621: 'जेवतोय', 4622: 'जेवला', 4623: 'जेवलात', 4624: 'जेवलास', 4625: 'जेवलीस', 4626: 'जेवले', 4627: 'जेवलो', 4628: 'जेवल्या', 4629: 'जेवल्यानंतर', 4630: 'जेवल्याबरोबरच', 4631: 'जेवशील', 4632: 'जेवा', 4633: 'जेवायचं', 4634: 'जेवायची', 4635: 'जेवायचे', 4636: 'जेवायचो', 4637: 'जेवायला', 4638: 'जेवाल', 4639: 'जेवावंसं', 4640: 'जेवू', 4641: 'जेवून', 4642: 'जेवूया', 4643: 'जेवेल', 4644: 'जेव्हा', 4645: 'जेव्हाजेव्हा', 4646: 'जेव्हाही', 4647: 'जेशूच्या', 4648: 'जॉगिंग', 4649: 'जॉन', 4650: 'जॉनचं', 4651: 'जॉनचा', 4652: 'जॉनच्या', 4653: 'जॉनने', 4654: 'जॉनपेक्षा', 4655: 'जॉनबद्दल', 4656: 'जॉनबरोबर', 4657: 'जॉनबाबत', 4658: 'जॉनला', 4659: 'जॉनवर', 4660: 'जॉनशी', 4661: 'जॉनसारखा', 4662: 'जॉनी', 4663: 'जॉर्ज', 4664: 'जॉर्जला', 4665: 'जॉर्जेस', 4666: 'जो', 4667: 'जोक', 4668: 'जोकने', 4669: 'जोकर', 4670: 'जोकवर', 4671: 'जोखीम', 4672: 'जोडतो', 4673: 'जोडपं', 4674: 'जोडलं', 4675: 'जोडली', 4676: 'जोडे', 4677: 'जोतेयस', 4678: 'जोतोयस', 4679: 'जोरजोरात', 4680: 'जोरजोराने', 4681: 'जोरदार', 4682: 'जोरात', 4683: 'ज्ञान', 4684: 'ज्ञानाबरोबरच', 4685: 'ज्ञानासोबतच', 4686: 'ज्या', 4687: 'ज्यांची', 4688: 'ज्यांना', 4689: 'ज्यांनाही', 4690: 'ज्यांनी', 4691: 'ज्याचं', 4692: 'ज्याची', 4693: 'ज्याचे', 4694: 'ज्याच्या', 4695: 'ज्याच्याकडे', 4696: 'ज्यात', 4697: 'ज्यातून', 4698: 'ज्याने', 4699: 'ज्यामुळे', 4700: 'ज्याला', 4701: 'ज्यासाठी', 4702: 'ज्योतिषशास्त्रात', 4703: 'ज्वालामुखी', 4704: 'झकास', 4705: 'झगडायला', 4706: 'झटकन', 4707: 'झटपट', 4708: 'झ़ालं', 4709: 'झ़ाला', 4710: 'झाकण', 4711: 'झाकले', 4712: 'झाड', 4713: 'झाडं', 4714: 'झाडली', 4715: 'झाडांची', 4716: 'झाडांमध्ये', 4717: 'झाडांवर', 4718: 'झाडांवरची', 4719: 'झाडांवरून', 4720: 'झाडाखाली', 4721: 'झाडात', 4722: 'झाडापाठी', 4723: 'झाडापासून', 4724: 'झाडामागे', 4725: 'झाडाला', 4726: 'झाडावर', 4727: 'झाडावरच्या', 4728: 'झाडावरती', 4729: 'झाडावरून', 4730: 'झाडू', 4731: 'झालं', 4732: 'झालंच', 4733: 'झालंय', 4734: 'झालय', 4735: 'झाला', 4736: 'झालाच', 4737: 'झालात', 4738: 'झालाय', 4739: 'झालायत', 4740: 'झालायस', 4741: 'झालास', 4742: 'झाली', 4743: 'झालीच', 4744: 'झालीय', 4745: 'झालीये', 4746: 'झालीस', 4747: 'झाले', 4748: 'झालेत', 4749: 'झालेलं', 4750: 'झालेला', 4751: 'झालेली', 4752: 'झालेले', 4753: 'झालेल्या', 4754: 'झालो', 4755: 'झालोच', 4756: 'झाल्या', 4757: 'झाल्यानंतर', 4758: 'झाल्याबरोबरच', 4759: 'झाल्यावर', 4760: 'झिंक', 4761: 'झुगस्पित्झ', 4762: 'झुरळ', 4763: 'झुरळं', 4764: 'झुरळांच्या', 4765: 'झुलू', 4766: 'झेंडा', 4767: 'झेंड्याचे', 4768: 'झेंड्यात', 4769: 'झेंड्याला', 4770: 'झेंड्यावर', 4771: 'झेरॉक्स', 4772: 'झोप', 4773: 'झोपडी', 4774: 'झोपणार', 4775: 'झोपणारच', 4776: 'झोपण्याची', 4777: 'झोपण्यापूर्वी', 4778: 'झोपत', 4779: 'झोपता', 4780: 'झोपतात', 4781: 'झोपताना', 4782: 'झोपतील', 4783: 'झोपते', 4784: 'झोपतेय', 4785: 'झोपतो', 4786: 'झोपतोय', 4787: 'झोपलं', 4788: 'झोपलंय', 4789: 'झोपला', 4790: 'झोपलात', 4791: 'झोपलाय', 4792: 'झोपलास', 4793: 'झोपली', 4794: 'झोपलीस', 4795: 'झोपले', 4796: 'झोपलेलं', 4797: 'झोपलेला', 4798: 'झोपलेलात', 4799: 'झोपलेलास', 4800: 'झोपलेली', 4801: 'झोपलेलीस', 4802: 'झोपलेले', 4803: 'झोपलेलो', 4804: 'झोपलेल्या', 4805: 'झोपलो', 4806: 'झोपल्या', 4807: 'झोपव', 4808: 'झोपवण्यात', 4809: 'झोपवा', 4810: 'झोपशील', 4811: 'झोपा', 4812: 'झोपायचं', 4813: 'झोपायचंय', 4814: 'झोपायचा', 4815: 'झोपायची', 4816: 'झोपायचो', 4817: 'झोपायच्या', 4818: 'झोपायला', 4819: 'झोपावं', 4820: 'झोपू', 4821: 'झोपून', 4822: 'झोपूया', 4823: 'झोपेची', 4824: 'झोपेत', 4825: 'झोपेतच', 4826: 'झोपेन', 4827: 'झोपेवर', 4828: 'झोपेशी', 4829: 'टँक', 4830: 'टँगो', 4831: 'टक', 4832: 'टकलू', 4833: 'टक्कल', 4834: 'टक्के', 4835: 'टक्क्यांनी', 4836: 'टक्सीडो', 4837: 'टक्सीडोवर', 4838: 'टगालोग', 4839: 'टचडाउनने', 4840: 'टणटणीत', 4841: 'टर्किक', 4842: 'टर्की', 4843: 'टर्कीची', 4844: 'टाइप', 4845: 'टाइम', 4846: 'टाइमपास', 4847: 'टाइमर', 4848: 'टाइम्स', 4849: 'टाईप', 4850: 'टाईपरायटर', 4851: 'टाईम्स', 4852: 'टाक', 4853: 'टाकणार', 4854: 'टाकणार्\\u200dया', 4855: 'टाकण्याऐवजी', 4856: 'टाकण्याचा', 4857: 'टाकण्याची', 4858: 'टाकण्यात', 4859: 'टाकण्यासाठी', 4860: 'टाकत', 4861: 'टाकतील', 4862: 'टाकतेय', 4863: 'टाकतो', 4864: 'टाकतोय', 4865: 'टाकलं', 4866: 'टाकलंस', 4867: 'टाकला', 4868: 'टाकलात', 4869: 'टाकलास', 4870: 'टाकली', 4871: 'टाकले', 4872: 'टाकलेलं', 4873: 'टाकल्या', 4874: 'टाकशील', 4875: 'टाका', 4876: 'टाकायचं', 4877: 'टाकायचा', 4878: 'टाकायला', 4879: 'टाकी', 4880: 'टाकीत', 4881: 'टाकीतल्या', 4882: 'टाकू', 4883: 'टाकून', 4884: 'टाकूया', 4885: 'टाकेन', 4886: 'टाकेल', 4887: 'टाको', 4888: 'टाचणी', 4889: 'टाय', 4890: 'टायची', 4891: 'टायर', 4892: 'टायरमध्ये', 4893: 'टायर्सची', 4894: 'टायसन', 4895: 'टाळ', 4896: 'टाळणं', 4897: 'टाळत', 4898: 'टाळता', 4899: 'टाळतात', 4900: 'टाळते', 4901: 'टाळतेय', 4902: 'टाळतो', 4903: 'टाळतोय', 4904: 'टाळलं', 4905: 'टाळला', 4906: 'टाळली', 4907: 'टाळल्या', 4908: 'टाळा', 4909: 'टाळायचं', 4910: 'टाळायचा', 4911: 'टाळायची', 4912: 'टाळायच्या', 4913: 'टाळायला', 4914: 'टाळी', 4915: 'टाळू', 4916: 'टाळेन', 4917: 'टाळ्या', 4918: 'टिकटिकीचा', 4919: 'टिकतं', 4920: 'टिकला', 4921: 'टिकली', 4922: 'टिकीट', 4923: 'टिकून', 4924: 'टिप', 4925: 'टिप्पणी', 4926: 'टी', 4927: 'टीका', 4928: 'टीम', 4929: 'टीमचा', 4930: 'टीममध्ये', 4931: 'टीव्ही', 4932: 'टीव्हीचा', 4933: 'टीव्हीची', 4934: 'टीव्हीवर', 4935: 'टीव्हीवरील', 4936: 'टीव्हीशिवाय', 4937: 'टीशर्ट', 4938: 'टुथब्रश', 4939: 'टुना', 4940: 'टुलिप', 4941: 'टूथपेस्ट', 4942: 'टूरच्या', 4943: 'टॅक्सी', 4944: 'टॅक्सीचालकावर', 4945: 'टॅक्सीची', 4946: 'टॅक्सीचे', 4947: 'टॅक्सीत', 4948: 'टॅक्सीतून', 4949: 'टॅक्सीने', 4950: 'टॅक्सीमधून', 4951: 'टॅक्स्या', 4952: 'टॅटू', 4953: 'टेकडीच्या', 4954: 'टेकडीवर', 4955: 'टेकडीवरची', 4956: 'टेकडीवरून', 4957: 'टेकले', 4958: 'टेक्निशियन', 4959: 'टेक्सन्स', 4960: 'टेक्ससचा', 4961: 'टेक्ससच्या', 4962: 'टेक्ससमधील', 4963: 'टेक्ससला', 4964: 'टेक्स्ट', 4965: 'टेट्रिस', 4966: 'टेनसी', 4967: 'टेनसीची', 4968: 'टेनिस', 4969: 'टेनिसची', 4970: 'टेनिसपेक्षा', 4971: 'टेनीस', 4972: 'टेनीसचा', 4973: 'टेप', 4974: 'टेपची', 4975: 'टेबल', 4976: 'टेबलच्या', 4977: 'टेबलवर', 4978: 'टेबलाखाली', 4979: 'टेबलाच्या', 4980: 'टेबलापाशी', 4981: 'टेबलाभोवती', 4982: 'टेबलावर', 4983: 'टेबलावरचं', 4984: 'टेबलावरचा', 4985: 'टेबलावरची', 4986: 'टेबलावरच्या', 4987: 'टेबलावरती', 4988: 'टेबलावरील', 4989: 'टेबलावरून', 4990: 'टेम्स', 4991: 'टेय्लर', 4992: 'टेरीसा', 4993: 'टेरेसवर', 4994: 'टेरेसवरून', 4995: 'टेरेसाला', 4996: 'टेलने', 4997: 'टेलिग्राम', 4998: 'टेलिफोन', 4999: 'टेलिफोनचा', 5000: 'टेस्ट', 5001: 'टेस्टमध्ये', 5002: 'टॉचं', 5003: 'टॉन', 5004: 'टॉन्सिलायटिस', 5005: 'टॉम', 5006: 'टॉमइतका', 5007: 'टॉमइतकी', 5008: 'टॉमएवढा', 5009: 'टॉमएवढी', 5010: 'टॉमकडून', 5011: 'टॉमकडे', 5012: 'टॉमच', 5013: 'टॉमचं', 5014: 'टॉमचंही', 5015: 'टॉमचा', 5016: 'टॉमची', 5017: 'टॉमचे', 5018: 'टॉमच्या', 5019: 'टॉमडे', 5020: 'टॉमदेखील', 5021: 'टॉमना', 5022: 'टॉमनी', 5023: 'टॉमने', 5024: 'टॉमनेच', 5025: 'टॉमनेदेखील', 5026: 'टॉमनेसुद्धा', 5027: 'टॉमपासून', 5028: 'टॉमपेक्षा', 5029: 'टॉमबद्दल', 5030: 'टॉमबरोबर', 5031: 'टॉममुळे', 5032: 'टॉमला', 5033: 'टॉमलाच', 5034: 'टॉमलासुद्धा', 5035: 'टॉमलाही', 5036: 'टॉमवर', 5037: 'टॉमवरती', 5038: 'टॉमशिवाय', 5039: 'टॉमशिवायच्या', 5040: 'टॉमशी', 5041: 'टॉमस', 5042: 'टॉमसहित', 5043: 'टॉमसा', 5044: 'टॉमसाठी', 5045: 'टॉमसारखं', 5046: 'टॉमसारखा', 5047: 'टॉमसारखी', 5048: 'टॉमसारखे', 5049: 'टॉमसारख्या', 5050: 'टॉमसुद्धा', 5051: 'टॉमसोडून', 5052: 'टॉमसोबत', 5053: 'टॉमही', 5054: 'टॉमी', 5055: 'टॉमीच', 5056: 'टॉमीला', 5057: 'टॉमेने', 5058: 'टॉयलेट', 5059: 'टॉयलेटमध्ये', 5060: 'टॉरोंटोला', 5061: 'टॉर्च', 5062: 'टॉला', 5063: 'टॉवर', 5064: 'टॉवेल', 5065: 'टॉवेलची', 5066: 'टॉवेलने', 5067: 'टोकाकडे', 5068: 'टोकाला', 5069: 'टोकावर', 5070: 'टोकियो', 5071: 'टोकियोइतकं', 5072: 'टोकियोत', 5073: 'टोकियोला', 5074: 'टोक्यो', 5075: 'टोक्योची', 5076: 'टोक्योत', 5077: 'टोक्योपासून', 5078: 'टोक्योपेक्षा', 5079: 'टोक्योमध्ये', 5080: 'टोचली', 5081: 'टोचून', 5082: 'टोपली', 5083: 'टोपलीत', 5084: 'टोपलीतली', 5085: 'टोपी', 5086: 'टोपीची', 5087: 'टोपीशिवाय', 5088: 'टोप्या', 5089: 'टोफू', 5090: 'टोमॅटो', 5091: 'टोमॅटोची', 5092: 'टोमोग्राफी', 5093: 'टोरी', 5094: 'टोरीज', 5095: 'टोर्टेल्लिनी', 5096: 'टोळीची', 5097: 'टोळ्यांकडे', 5098: 'टोस्ट', 5099: 'टोस्टर', 5100: 'टोस्टरमध्ये', 5101: 'टोस्टवर', 5102: 'ट्यून', 5103: 'ट्यूब', 5104: 'ट्रंपेट', 5105: 'ट्रक', 5106: 'ट्रकमध्ये', 5107: 'ट्रकला', 5108: 'ट्रकांमुळे', 5109: 'ट्रकात', 5110: 'ट्रम्पेट', 5111: 'ट्राँबोन', 5112: 'ट्राउट', 5113: 'ट्रायअॅथलॉन', 5114: 'ट्रायसिकल', 5115: 'ट्रिप', 5116: 'ट्रुमन', 5117: 'ट्रॅकिंग', 5118: 'ट्रॅक्टर', 5119: 'ट्रॅफिक', 5120: 'ट्रॅफिकमध्ये', 5121: 'ट्रॅव्हल', 5122: 'ट्रे', 5123: 'ट्रेंटन', 5124: 'ट्रेड', 5125: 'ट्रेन', 5126: 'ट्रेनने', 5127: 'ट्रेनमध्ये', 5128: 'ट्रेनला', 5129: 'ट्रेनवर', 5130: 'ट्रेलर', 5131: 'ट्रॉम्बोन', 5132: 'ट्वाय्न', 5133: 'ट्विटर', 5134: 'ट्विटरवर', 5135: 'ठरतं', 5136: 'ठरलं', 5137: 'ठरला', 5138: 'ठरली', 5139: 'ठरले', 5140: 'ठरव', 5141: 'ठरवण्यात', 5142: 'ठरवता', 5143: 'ठरवतील', 5144: 'ठरवलं', 5145: 'ठरवलंत', 5146: 'ठरवलंय', 5147: 'ठरवलंस', 5148: 'ठरवला', 5149: 'ठरवलेलं', 5150: 'ठरवा', 5151: 'ठरवायचं', 5152: 'ठरवायची', 5153: 'ठरवायला', 5154: 'ठरवावं', 5155: 'ठरवेन', 5156: 'ठरवेल', 5157: 'ठराल', 5158: 'ठरेल', 5159: 'ठसा', 5160: 'ठसे', 5161: 'ठाऊक', 5162: 'ठाणे', 5163: 'ठाण्यात', 5164: 'ठार', 5165: 'ठिकाण', 5166: 'ठिकाणी', 5167: 'ठीक', 5168: 'ठीकठाक', 5169: 'ठीकपणे', 5170: 'ठेव', 5171: 'ठेवणं', 5172: 'ठेवणार', 5173: 'ठेवण्यात', 5174: 'ठेवत', 5175: 'ठेवतं', 5176: 'ठेवतंय', 5177: 'ठेवता', 5178: 'ठेवतात', 5179: 'ठेवताना', 5180: 'ठेवतील', 5181: 'ठेवते', 5182: 'ठेवतेस', 5183: 'ठेवतो', 5184: 'ठेवतोय', 5185: 'ठेवतोस', 5186: 'ठेवलं', 5187: 'ठेवलंत', 5188: 'ठेवलंय', 5189: 'ठेवलंस', 5190: 'ठेवला', 5191: 'ठेवलात', 5192: 'ठेवलास', 5193: 'ठेवली', 5194: 'ठेवलीत', 5195: 'ठेवलीस', 5196: 'ठेवले', 5197: 'ठेवल्या', 5198: 'ठेवा', 5199: 'ठेवायचं', 5200: 'ठेवायचा', 5201: 'ठेवायला', 5202: 'ठेवावे', 5203: 'ठेवू', 5204: 'ठेवून', 5205: 'ठेवूनच', 5206: 'ठेवूया', 5207: 'ठेवेन', 5208: 'ठेवेल', 5209: 'ठोकला', 5210: 'ठोकली', 5211: 'ठोकले', 5212: 'ठोकलो', 5213: 'ठोकू', 5214: 'ठोकूया', 5215: 'ठोठावण्याचा', 5216: 'डंपलिंग्ज', 5217: 'डंबो', 5218: 'डक', 5219: 'डच', 5220: 'डचची', 5221: 'डझन', 5222: 'डझनच्या', 5223: 'डझनभर', 5224: 'डझनाच्या', 5225: 'डबलक्लिक', 5226: 'डब्लिन', 5227: 'डाउनलोड', 5228: 'डाऊन', 5229: 'डाकघर', 5230: 'डाग', 5231: 'डान्स', 5232: 'डान्सर', 5233: 'डायट', 5234: 'डायटवर', 5235: 'डायनर', 5236: 'डायनामाइटचा', 5237: 'डायनोसॉर', 5238: 'डायपर', 5239: 'डायरी', 5240: 'डायरीच्या', 5241: 'डायरीत', 5242: 'डायलअप', 5243: 'डार्क', 5244: 'डार्ट', 5245: 'डार्ट्स', 5246: 'डार्विनने', 5247: 'डाळिंबाचा', 5248: 'डावा', 5249: 'डावीकडचा', 5250: 'डावीकडची', 5251: 'डावीकडे', 5252: 'डाव्या', 5253: 'डास', 5254: 'डासांना', 5255: 'डिकीत', 5256: 'डिकॅफिनेटेड', 5257: 'डिक्सीलँड', 5258: 'डिग्री', 5259: 'डिजाइनचा', 5260: 'डिजाईनचा', 5261: 'डिजिटालिस', 5262: 'डिज्नीलँडला', 5263: 'डिज्नीलॅंडची', 5264: 'डिझनीलँड', 5265: 'डिझाइन', 5266: 'डिझाइनर', 5267: 'डिझाईन', 5268: 'डिझाईनचा', 5269: 'डिझ्नीलँडला', 5270: 'डिटेक्टिव्ह', 5271: 'डिप्लोमा', 5272: 'डिरेक्टरी', 5273: 'डिलिव्हर', 5274: 'डिलीट', 5275: 'डिश', 5276: 'डिशमध्ये', 5277: 'डिशवॉशर', 5278: 'डिसेंबर', 5279: 'डिसेंबरमध्ये', 5280: 'डिस्क', 5281: 'डिस्काउंट', 5282: 'डिस्को', 5283: 'डिस्टर्ब', 5284: 'डिस्ट्रिब्यूशन', 5285: 'डीजे', 5286: 'डीफ्रॅगमेंट', 5287: 'डुकरं', 5288: 'डुकराचे', 5289: 'डुकरासारखा', 5290: 'डुकाराचं', 5291: 'डुकाराचे', 5292: 'डुक्कर', 5293: 'डुपकी', 5294: 'डूकेनची', 5295: 'डॅनझिग', 5296: 'डॅनिएल', 5297: 'डॅनिएल्स', 5298: 'डॅन्यूबमध्ये', 5299: 'डॅफोडिल', 5300: 'डॅल्टनने', 5301: 'डे', 5302: 'डेंटिस्ट', 5303: 'डेंटिस्टकडे', 5304: 'डेट', 5305: 'डेटा', 5306: 'डेटिंग', 5307: 'डेनमार्कच्या', 5308: 'डेनांनी', 5309: 'डेन्मार्क', 5310: 'डेन्मार्कची', 5311: 'डेपचा', 5312: 'डेबिट', 5313: 'डेमोक्रॅट', 5314: 'डेमोक्रॅटिक', 5315: 'डेला', 5316: 'डेव्हनशरमध्ये', 5317: 'डेव्हलपर', 5318: 'डेस्क', 5319: 'डेस्कच्या', 5320: 'डेस्कटॉपपेक्षा', 5321: 'डेस्कमध्ये', 5322: 'डेस्कवर', 5323: 'डेस्कवरील', 5324: 'डेस्खमध्ये', 5325: 'डॉ', 5326: 'डॉक्टर', 5327: 'डॉक्टरकडे', 5328: 'डॉक्टरच', 5329: 'डॉक्टरने', 5330: 'डॉक्टरला', 5331: 'डॉक्टरशी', 5332: 'डॉक्टरांना', 5333: 'डॉक्टरांनी', 5334: 'डॉक्टराकडे', 5335: 'डॉक्युमेंट', 5336: 'डॉक्युमेन्टरी', 5337: 'डॉट', 5338: 'डॉमिनोज', 5339: 'डॉलर', 5340: 'डॉलरचा', 5341: 'डॉलरची', 5342: 'डॉलरचे', 5343: 'डॉलरपेक्षा', 5344: 'डॉलरमध्ये', 5345: 'डॉलरला', 5346: 'डॉलर्सची', 5347: 'डॉल्फिन', 5348: 'डॉल्फिनला', 5349: 'डॉसर', 5350: 'डोंगर', 5351: 'डोंगरा', 5352: 'डोंगरांनी', 5353: 'डोंगरांपेक्षा', 5354: 'डोंगरांमध्ये', 5355: 'डोंगराची', 5356: 'डोंगराच्या', 5357: 'डोंगराला', 5358: 'डोंगराळ', 5359: 'डोंगरावर', 5360: 'डोंगरी', 5361: 'डोंग्रांमध्ये', 5362: 'डोंबकावळा', 5363: 'डोकं', 5364: 'डोकंबिकं', 5365: 'डोकावून', 5366: 'डोकेदुखीसाठी', 5367: 'डोकोदुखी', 5368: 'डोक्याच्या', 5369: 'डोक्याला', 5370: 'डोक्यावर', 5371: 'डोक्यावरच्या', 5372: 'डोनट', 5373: 'डोनेट्स्क', 5374: 'डोन्ट', 5375: 'डोळा', 5376: 'डोळे', 5377: 'डोळ्यांत', 5378: 'डोळ्यांतील', 5379: 'डोळ्यांतून', 5380: 'डोळ्यांनी', 5381: 'डोळ्यांमध्ये', 5382: 'डोळ्यांवर', 5383: 'डोळ्यांसाठी', 5384: 'डोळ्याच्या', 5385: 'डोळ्यात', 5386: 'डोळ्यातून', 5387: 'डोळ्याला', 5388: 'ड्युवी', 5389: 'ड्यूटी', 5390: 'ड्यूटीवर', 5391: 'ड्यूवी', 5392: 'ड्रमर', 5393: 'ड्रम्सही', 5394: 'ड्राइव्ह', 5395: 'ड्राइव्हवर', 5396: 'ड्राईव्हिंग', 5397: 'ड्रायव्हर', 5398: 'ड्रायव्हरची', 5399: 'ड्रायव्हरशी', 5400: 'ड्रिंक', 5401: 'ड्रॅगन', 5402: 'ड्रॅगनचा', 5403: 'ड्रॅगनफ्रूट', 5404: 'ड्रॅगनला', 5405: 'ड्रॅगन्स', 5406: 'ड्रेस', 5407: 'ड्रेसचा', 5408: 'ड्रेसपेक्षा', 5409: 'ड्रेसमध्ये', 5410: 'ड्रेसिंग', 5411: 'ड्रॉवर', 5412: 'ड्रॉवरमध्ये', 5413: 'ड्रोन', 5414: 'ड्वाइट', 5415: 'ढकलत', 5416: 'ढकललं', 5417: 'ढकलायचा', 5418: 'ढकलून', 5419: 'ढग', 5420: 'ढगांमागे', 5421: 'ढगाला', 5422: 'ढवळलं', 5423: 'ढवळला', 5424: 'ढवळली', 5425: 'ढेकर', 5426: 'ढोंग', 5427: 'तंत्रज्ञ', 5428: 'तंत्रज्ञान', 5429: 'तंत्रज्ञानाच्या', 5430: 'तंत्रज्ञानात', 5431: 'तंत्रज्ञानाने', 5432: 'तंदुरी', 5433: 'तंबू', 5434: 'तक्रार', 5435: 'तक्रारच', 5436: 'तज्ञ', 5437: 'तत्त्वज्ञान', 5438: 'तपकिरी', 5439: 'तपास', 5440: 'तपासणी', 5441: 'तपासत', 5442: 'तपासलं', 5443: 'तपासले', 5444: 'तपासा', 5445: 'तपासायला', 5446: 'तपासून', 5447: 'तब्येत', 5448: 'तब्येतीची', 5449: 'तब्येतीबद्दल', 5450: 'तमची', 5451: 'तयार', 5452: 'तयारी', 5453: 'तर', 5454: 'तरंगत', 5455: 'तरंगतं', 5456: 'तरंगेल', 5457: 'तरच', 5458: 'तरणतलाव', 5459: 'तरणतलावात', 5460: 'तरी', 5461: 'तरीच', 5462: 'तरीसुद्धा', 5463: 'तरीही', 5464: 'तरुण', 5465: 'तरुणपणी', 5466: 'तरुणपणेतच', 5467: 'तरुणांकडे', 5468: 'तरुणांची', 5469: 'तरुणांना', 5470: 'तरुणांनी', 5471: 'तरुणांसाठीची', 5472: 'तरूण', 5473: 'तरून', 5474: 'तर्कशास्त्र', 5475: 'तर्कांनी', 5476: 'तर्फे', 5477: 'तलवार', 5478: 'तलवारीचा', 5479: 'तलवारीने', 5480: 'तलवारीनेच', 5481: 'तलवारीवरचं', 5482: 'तलाव', 5483: 'तलावाकडे', 5484: 'तलावाच्या', 5485: 'तलावाजवळ', 5486: 'तलावात', 5487: 'तलावातलं', 5488: 'तलावापाशी', 5489: 'तलावापेक्षा', 5490: 'तलावाभोवती', 5491: 'तलावावर', 5492: 'तलाशी', 5493: 'तळघरात', 5494: 'तळमजल्यावर', 5495: 'तळले', 5496: 'तळलेलं', 5497: 'तळलेली', 5498: 'तळलेले', 5499: 'तळहात', 5500: 'तळून', 5501: 'तवा', 5502: 'तशी', 5503: 'तशीच', 5504: 'तश्या', 5505: 'तश्याच', 5506: 'तसं', 5507: 'तसंच', 5508: 'तसंच्या', 5509: 'तसंही', 5510: 'तसलं', 5511: 'तसलंच', 5512: 'तसला', 5513: 'तसली', 5514: 'तसले', 5515: 'तसल्या', 5516: 'तसा', 5517: 'तसाच', 5518: 'तसाचे', 5519: 'तसाही', 5520: 'तसे', 5521: 'तसेच', 5522: 'तहान', 5523: 'तहोनलेली', 5524: 'तहोनलेलो', 5525: 'तांदळाचा', 5526: 'तांदळापासून', 5527: 'तांदुळाचा', 5528: 'तांदूळ', 5529: 'तांबवू', 5530: 'तांबे', 5531: 'ताई', 5532: 'ताईकडे', 5533: 'ताईचं', 5534: 'ताईचा', 5535: 'ताईची', 5536: 'ताईने', 5537: 'ताईबरोबर', 5538: 'ताईला', 5539: 'ताईशी', 5540: 'ताईसोबत', 5541: 'ताकद', 5542: 'ताकदवान', 5543: 'ताज', 5544: 'ताजा', 5545: 'ताजी', 5546: 'ताजे', 5547: 'ताज्या', 5548: 'ताट', 5549: 'ताटाकडे', 5550: 'ताटात', 5551: 'ताटातली', 5552: 'ताटावरचं', 5553: 'तातडीने', 5554: 'तातामी', 5555: 'तातामीवर', 5556: 'तातोएबाचा', 5557: 'तात्पुरतं', 5558: 'ताप', 5559: 'तापला', 5560: 'ताबडतोब', 5561: 'ताबा', 5562: 'ताब्यात', 5563: 'तार', 5564: 'तारखेला', 5565: 'तारा', 5566: 'तारामंडळी', 5567: 'तारीख', 5568: 'तारुण्याचा', 5569: 'तारुण्यातच', 5570: 'तारे', 5571: 'तास', 5572: 'तासंतास', 5573: 'तासभर', 5574: 'तासांच्या', 5575: 'तासांत', 5576: 'तासांनंतर', 5577: 'तासांपासून', 5578: 'तासांपूर्वी', 5579: 'तासांपूर्वीच', 5580: 'तासांपेक्षा', 5581: 'तासांमध्ये', 5582: 'तासांसाठी', 5583: 'तासाचे', 5584: 'तासाच्या', 5585: 'तासात', 5586: 'तासानंतर', 5587: 'तासापूर्वी', 5588: 'तासापूर्वीच', 5589: 'तासापेक्षा', 5590: 'तासाभरात', 5591: 'तासासाठी', 5592: 'तिएन', 5593: 'तिकडच्या', 5594: 'तिकडे', 5595: 'तिकिटं', 5596: 'तिकिटांचे', 5597: 'तिकिटाचे', 5598: 'तिकीट', 5599: 'तिकीटं', 5600: 'तिकीटाची', 5601: 'तिकीटाचे', 5602: 'तिखट', 5603: 'तिघांना', 5604: 'तिघांनीही', 5605: 'तिघेही', 5606: 'तिचं', 5607: 'तिचंही', 5608: 'तिचा', 5609: 'तिची', 5610: 'तिचे', 5611: 'तिच्या', 5612: 'तिच्याकडून', 5613: 'तिच्याकडे', 5614: 'तिच्यापासून', 5615: 'तिच्यापेक्षा', 5616: 'तिच्याबद्दल', 5617: 'तिच्याबरोबर', 5618: 'तिच्यावर', 5619: 'तिच्याशी', 5620: 'तिच्यासाठी', 5621: 'तिच्यासारखं', 5622: 'तिच्यासोबत', 5623: 'तितकं', 5624: 'तितकंच', 5625: 'तितका', 5626: 'तितकी', 5627: 'तितकीच', 5628: 'तितके', 5629: 'तितकेच', 5630: 'तितक्या', 5631: 'तितक्याच', 5632: 'तिथपर्यंत', 5633: 'तिथल्या', 5634: 'तिथून', 5635: 'तिथे', 5636: 'तिथेच', 5637: 'तिथेतिथे', 5638: 'तिनं', 5639: 'तिने', 5640: 'तिनेच', 5641: 'तिनेही', 5642: 'तिन्ही', 5643: 'तिप्पटपेक्षा', 5644: 'तिरंदाजाने', 5645: 'तिरस्कार', 5646: 'तिला', 5647: 'तिसरं', 5648: 'तिसरा', 5649: 'तिसरीपासून', 5650: 'तिसरे', 5651: 'तिसर्\\u200dया', 5652: 'तिसर्\\u200dयांदा', 5653: 'ती', 5654: 'तीच', 5655: 'तीन', 5656: 'तीनच', 5657: 'तीनचा', 5658: 'तीनचार', 5659: 'तीनतीन', 5660: 'तीनदा', 5661: 'तीनपट', 5662: 'तीनपर्यंत', 5663: 'तीनशे', 5664: 'तीनसे', 5665: 'तीस', 5666: 'तीसपर्यंत', 5667: 'तीसपेक्षा', 5668: 'तीसुद्धा', 5669: 'तीही', 5670: 'तुकडा', 5671: 'तुकडे', 5672: 'तुकड्यावर', 5673: 'तुझं', 5674: 'तुझंच', 5675: 'तुझंय', 5676: 'तुझा', 5677: 'तुझाच', 5678: 'तुझावर', 5679: 'तुझी', 5680: 'तुझीच', 5681: 'तुझे', 5682: 'तुझ्यएवढा', 5683: 'तुझ्यवर', 5684: 'तुझ्या', 5685: 'तुझ्याइतकं', 5686: 'तुझ्याइतका', 5687: 'तुझ्याइतकी', 5688: 'तुझ्याइतक्या', 5689: 'तुझ्याएवढ्याच', 5690: 'तुझ्याकडून', 5691: 'तुझ्याकडे', 5692: 'तुझ्याकूडून', 5693: 'तुझ्याच', 5694: 'तुझ्याजवळ', 5695: 'तुझ्यात', 5696: 'तुझ्यापासून', 5697: 'तुझ्यापेक्षा', 5698: 'तुझ्यापेक्षाही', 5699: 'तुझ्याबद्दल', 5700: 'तुझ्याबरोबर', 5701: 'तुझ्याबरोबरच', 5702: 'तुझ्याभोवती', 5703: 'तुझ्यामागे', 5704: 'तुझ्यामुळे', 5705: 'तुझ्यामुळेच', 5706: 'तुझ्यावर', 5707: 'तुझ्याशिवाय', 5708: 'तुझ्याशी', 5709: 'तुझ्यासठी', 5710: 'तुझ्यासमोर', 5711: 'तुझ्यासाठी', 5712: 'तुझ्यासारखं', 5713: 'तुझ्यासारखा', 5714: 'तुझ्यासारखाच', 5715: 'तुझ्यासारखी', 5716: 'तुझ्यासारखे', 5717: 'तुझ्यासारख्या', 5718: 'तुझ्यासोबत', 5719: 'तुटण्यापेक्षा', 5720: 'तुटलं', 5721: 'तुटला', 5722: 'तुटली', 5723: 'तुटलेलं', 5724: 'तुटलेला', 5725: 'तुटलेली', 5726: 'तुटलेल्या', 5727: 'तुटल्यावर', 5728: 'तुटून', 5729: 'तुटेल', 5730: 'तुफान', 5731: 'तुमचं', 5732: 'तुमचंच', 5733: 'तुमचा', 5734: 'तुमचाच', 5735: 'तुमची', 5736: 'तुमचीच', 5737: 'तुमचे', 5738: 'तुमच्या', 5739: 'तुमच्याइतकं', 5740: 'तुमच्याइतका', 5741: 'तुमच्याइतकाच', 5742: 'तुमच्याइतकी', 5743: 'तुमच्याइतक्या', 5744: 'तुमच्याकडून', 5745: 'तुमच्याकडे', 5746: 'तुमच्याच', 5747: 'तुमच्याजवळ', 5748: 'तुमच्यात', 5749: 'तुमच्यापासून', 5750: 'तुमच्यापेक्षा', 5751: 'तुमच्यापेक्षाही', 5752: 'तुमच्याबद्दल', 5753: 'तुमच्याबरोबर', 5754: 'तुमच्याबरोबरच', 5755: 'तुमच्यामुळे', 5756: 'तुमच्यावर', 5757: 'तुमच्याशिवाय', 5758: 'तुमच्याशी', 5759: 'तुमच्यासमोर', 5760: 'तुमच्यासाठी', 5761: 'तुमच्यासारखं', 5762: 'तुमच्यासारखा', 5763: 'तुमच्यासारखाच', 5764: 'तुमच्यासारखी', 5765: 'तुमच्यासारख्या', 5766: 'तुमच्यासोबत', 5767: 'तुमला', 5768: 'तुम्हा', 5769: 'तुम्हाला', 5770: 'तुम्हालादेखील', 5771: 'तुम्हालासुद्धा', 5772: 'तुम्ही', 5773: 'तुम्हीच', 5774: 'तुम्हीसुद्धा', 5775: 'तुम्हीही', 5776: 'तुरुंग', 5777: 'तुरुंगवासाची', 5778: 'तुरुंगात', 5779: 'तुरुंगातून', 5780: 'तुरूंगाच्या', 5781: 'तुर्कस्तान', 5782: 'तुर्कस्तानची', 5783: 'तुर्कस्तानमध्ये', 5784: 'तुर्कांनी', 5785: 'तुलना', 5786: 'तुलनेत', 5787: 'तुला', 5788: 'तुलादेखील', 5789: 'तुलासुद्धा', 5790: 'तु्', 5791: 'तु्म्ही', 5792: 'तू', 5793: 'तूच', 5794: 'तूदेखील', 5795: 'तूपण', 5796: 'तूम्ही', 5797: 'तूसुद्धा', 5798: 'तूही', 5799: 'ते', 5800: 'तेच', 5801: 'तेम्पुरा', 5802: 'तेरा', 5803: 'तेराव्या', 5804: 'तेल', 5805: 'तेलवाहू', 5806: 'तेलाचं', 5807: 'तेलाचा', 5808: 'तेलाची', 5809: 'तेलात', 5810: 'तेलापेक्षा', 5811: 'तेलासाठी', 5812: 'तेवढं', 5813: 'तेवढंच', 5814: 'तेवढच', 5815: 'तेवढा', 5816: 'तेवढाच', 5817: 'तेवढी', 5818: 'तेवढ्या', 5819: 'तेवढ्याचीच', 5820: 'तेव्हा', 5821: 'तेव्हाच', 5822: 'तेव्हातेव्हा', 5823: 'तेव्हापासून', 5824: 'तेही', 5825: 'तो', 5826: 'तोंड', 5827: 'तोंडात', 5828: 'तोंडातून', 5829: 'तोउदाइजि', 5830: 'तोक्यो', 5831: 'तोच', 5832: 'तोडण्यासाठीच', 5833: 'तोडता', 5834: 'तोडलं', 5835: 'तोडलंत', 5836: 'तोडलंस', 5837: 'तोडला', 5838: 'तोडली', 5839: 'तोडले', 5840: 'तोडल्या', 5841: 'तोडल्याशिवाय', 5842: 'तोडायलाच', 5843: 'तोडू', 5844: 'तोडून', 5845: 'तोत्तोरीकडे', 5846: 'तोत्तोरीला', 5847: 'तोपर्यंत', 5848: 'तोफखाना', 5849: 'तोवर', 5850: 'तोवादा', 5851: 'त्या', 5852: 'त्यांचं', 5853: 'त्यांचा', 5854: 'त्यांची', 5855: 'त्यांचे', 5856: 'त्यांच्या', 5857: 'त्यांच्याकडून', 5858: 'त्यांच्याकडे', 5859: 'त्यांच्यात', 5860: 'त्यांच्यातलं', 5861: 'त्यांच्यातला', 5862: 'त्यांच्यातली', 5863: 'त्यांच्यातले', 5864: 'त्यांच्यातल्या', 5865: 'त्यांच्यातून', 5866: 'त्यांच्यापेक्षा', 5867: 'त्यांच्याबद्दल', 5868: 'त्यांच्याबरोबर', 5869: 'त्यांच्याभोवतीच्या', 5870: 'त्यांच्यामधून', 5871: 'त्यांच्यावर', 5872: 'त्यांच्याशी', 5873: 'त्यांच्यासाठी', 5874: 'त्यांच्यासारखं', 5875: 'त्यांच्यासारखा', 5876: 'त्यांच्यासोबत', 5877: 'त्यांतली', 5878: 'त्यांतून', 5879: 'त्यांनंतर', 5880: 'त्यांना', 5881: 'त्यांनाच', 5882: 'त्यांनी', 5883: 'त्यांनीच', 5884: 'त्यांने', 5885: 'त्याआधी', 5886: 'त्याकाळी', 5887: 'त्याच', 5888: 'त्याचं', 5889: 'त्याच़े', 5890: 'त्याचा', 5891: 'त्याचाच', 5892: 'त्याची', 5893: 'त्याचीच', 5894: 'त्याचे', 5895: 'त्याच्या', 5896: 'त्याच्याइतका', 5897: 'त्याच्याइतकी', 5898: 'त्याच्याकडून', 5899: 'त्याच्याकडे', 5900: 'त्याच्याजवळ', 5901: 'त्याच्यात', 5902: 'त्याच्यापेक्षा', 5903: 'त्याच्याबद्दल', 5904: 'त्याच्याबरोबर', 5905: 'त्याच्याभोवती', 5906: 'त्याच्याभोवतीच्या', 5907: 'त्याच्यामागे', 5908: 'त्याच्यावर', 5909: 'त्याच्याशिवाय', 5910: 'त्याच्याशी', 5911: 'त्याच्यासाठी', 5912: 'त्याच्यासारखा', 5913: 'त्याच्यासारखी', 5914: 'त्याच्यासारखे', 5915: 'त्याच्यासोबत', 5916: 'त्यात', 5917: 'त्यातलं', 5918: 'त्यातला', 5919: 'त्यातले', 5920: 'त्यातून', 5921: 'त्यानं', 5922: 'त्यानंतर', 5923: 'त्यानी', 5924: 'त्याने', 5925: 'त्यापुढे', 5926: 'त्यापेक्षा', 5927: 'त्याबद्दल', 5928: 'त्याबाबत', 5929: 'त्याबाबतीत', 5930: 'त्यामुळे', 5931: 'त्याला', 5932: 'त्यालाच', 5933: 'त्यावर', 5934: 'त्याविरुद्ध', 5935: 'त्याविषयी', 5936: 'त्यावेळी', 5937: 'त्यासाठी', 5938: 'त्याही', 5939: 'त्रस्त', 5940: 'त्रास', 5941: 'त्रिकोण', 5942: 'त्रिकोणाचा', 5943: 'त्रिपोली', 5944: 'त्रुटी', 5945: 'त्वचा', 5946: 'त्वचेची', 5947: 'त्वरित', 5948: 'थँक्सगिव्हिंग', 5949: 'थँक्सगिव्हिंगला', 5950: 'थंड', 5951: 'थंडगार', 5952: 'थंडी', 5953: 'थंपर', 5954: 'थकला', 5955: 'थकलाय', 5956: 'थकलायत', 5957: 'थकलायस', 5958: 'थकली', 5959: 'थकलीयस', 5960: 'थकले', 5961: 'थकलेय', 5962: 'थकलेयत', 5963: 'थकलेला', 5964: 'थकलेली', 5965: 'थकलेले', 5966: 'थकलेलो', 5967: 'थकलो', 5968: 'थकलोय', 5969: 'थकल्यावर', 5970: 'थकल्यासारखं', 5971: 'थकून', 5972: 'थरथरत', 5973: 'थरथरतोय', 5974: 'थरथरली', 5975: 'थांब', 5976: 'थांबणार', 5977: 'थांबण्यात', 5978: 'थांबत', 5979: 'थांबता', 5980: 'थांबते', 5981: 'थांबतो', 5982: 'थांबलं', 5983: 'थांबलंय', 5984: 'थांबला', 5985: 'थांबली', 5986: 'थांबले', 5987: 'थांबलेला', 5988: 'थांबलेली', 5989: 'थांबलेले', 5990: 'थांबलो', 5991: 'थांबलोय', 5992: 'थांबल्या', 5993: 'थांबल्यावर', 5994: 'थांबव', 5995: 'थांबवणार', 5996: 'थांबवतच', 5997: 'थांबवलं', 5998: 'थांबवलंत', 5999: 'थांबवलंस', 6000: 'थांबवला', 6001: 'थांबवली', 6002: 'थांबवा', 6003: 'थांबवायचा', 6004: 'थांबवायला', 6005: 'थांबवू', 6006: 'थांबवून', 6007: 'थांबवेन', 6008: 'थांबशील', 6009: 'थांबा', 6010: 'थांबायचं', 6011: 'थांबायला', 6012: 'थांबाल', 6013: 'थांबावं', 6014: 'थांबू', 6015: 'थांबून', 6016: 'थांबूया', 6017: 'थांबेन', 6018: 'थांबेल', 6019: 'थांबेलयत', 6020: 'थाई', 6021: 'थायलंड', 6022: 'थायलंडची', 6023: 'थायलंडमध्ये', 6024: 'था।', 6025: 'थिएटरमध्ये', 6026: 'थिएटरला', 6027: 'थुकते', 6028: 'थुकतो', 6029: 'थेंब', 6030: 'थोडं', 6031: 'थोडंसं', 6032: 'थोडक्यात', 6033: 'थोडा', 6034: 'थोडासा', 6035: 'थोडाही', 6036: 'थोडी', 6037: 'थोडीच', 6038: 'थोडीथोडी', 6039: 'थोडीशी', 6040: 'थोडीशीच', 6041: 'थोडे', 6042: 'थोडेच', 6043: 'थोडेसे', 6044: 'थोड्या', 6045: 'थोड्याच', 6046: 'थोबाड', 6047: 'द', 6048: 'दंड', 6049: 'दंतचिकित्सकाकडे', 6050: 'दंतवैद्य', 6051: 'दंतवैद्याकडे', 6052: 'दक्षिण', 6053: 'दक्षिणी', 6054: 'दक्षिणेकडची', 6055: 'दक्षिणेकडे', 6056: 'दक्षिणेचा', 6057: 'दक्षिणेने', 6058: 'दक्षिणेपासून', 6059: 'दखणार', 6060: 'दगड', 6061: 'दगडं', 6062: 'दगडफेक', 6063: 'दगडाच्या', 6064: 'दत्तक', 6065: 'दमदार', 6066: 'दमले', 6067: 'दमलेले', 6068: 'दमलेलो', 6069: 'दमास्कस', 6070: 'दमून', 6071: 'दया', 6072: 'दयाळू', 6073: 'दर', 6074: 'दररोज', 6075: 'दररोजच', 6076: 'दरवाजा', 6077: 'दरवाजे', 6078: 'दरवाज्याचा', 6079: 'दरवाज्याची', 6080: 'दरवाज्यापाशी', 6081: 'दरवाज्यापासून', 6082: 'दरवाज्याबाहेर', 6083: 'दरवेळी', 6084: 'दरात', 6085: 'दरोडा', 6086: 'दर्गा', 6087: 'दर्शन', 6088: 'दशकाची', 6089: 'दशकात', 6090: 'दशकापर्यंत', 6091: 'दशलक्ष', 6092: 'दस्तऐवज', 6093: 'दस्ताऐवज', 6094: 'दस्ताऐवजांवर', 6095: 'दस्ताऐवजाचा', 6096: 'दस्ताऐवजावर', 6097: 'दहशत', 6098: 'दहशतवाद', 6099: 'दहशतवादी', 6100: 'दहशतवाद्यांना', 6101: 'दहशतवाद्यांनी', 6102: 'दहशतवाद्यांबरोबर', 6103: 'दहा', 6104: 'दहातून', 6105: 'दहापट', 6106: 'दहापर्यंत', 6107: 'दहाला', 6108: 'दहावीत', 6109: 'दहाव्या', 6110: 'दहीची', 6111: 'दांडी', 6112: 'दाइकोन', 6113: 'दाखव', 6114: 'दाखवणार', 6115: 'दाखवत', 6116: 'दाखवते', 6117: 'दाखवतो', 6118: 'दाखवलं', 6119: 'दाखवलंत', 6120: 'दाखवलंस', 6121: 'दाखवला', 6122: 'दाखवली', 6123: 'दाखवले', 6124: 'दाखवशील', 6125: 'दाखवा', 6126: 'दाखवायचं', 6127: 'दाखवाल', 6128: 'दाखवू', 6129: 'दाखवून', 6130: 'दाखवेन', 6131: 'दागिने', 6132: 'दागिन्यांचं', 6133: 'दाढी', 6134: 'दाढीमिशी', 6135: 'दाढीला', 6136: 'दाढीवाला', 6137: 'दात', 6138: 'दातांचा', 6139: 'दाताच्या', 6140: 'दादा', 6141: 'दादाची', 6142: 'दादाने', 6143: 'दादाला', 6144: 'दादासारखा', 6145: 'दाब', 6146: 'दाबलं', 6147: 'दाबला', 6148: 'दाबल्याने', 6149: 'दाबल्यावर', 6150: 'दाबा', 6151: 'दाबू', 6152: 'दाबून', 6153: 'दाम', 6154: 'दार', 6155: 'दारं', 6156: 'दारही', 6157: 'दारांवरचे', 6158: 'दाराकडे', 6159: 'दाराच्या', 6160: 'दाराजवळ', 6161: 'दाराजवळची', 6162: 'दारातल्या', 6163: 'दारापाशी', 6164: 'दाराबाहेर', 6165: 'दारामागे', 6166: 'दाराला', 6167: 'दारिद्र्य', 6168: 'दारिद्र्याने', 6169: 'दारू', 6170: 'दारूसुद्धा', 6171: 'दारे', 6172: 'दालचिनी', 6173: 'दावा', 6174: 'दिग्दर्शक', 6175: 'दिनांक', 6176: 'दिलं', 6177: 'दिलंच', 6178: 'दिलंत', 6179: 'दिलंस', 6180: 'दिला', 6181: 'दिली', 6182: 'दिलीत', 6183: 'दिलीस', 6184: 'दिले', 6185: 'दिलेत', 6186: 'दिलेलं', 6187: 'दिलेली', 6188: 'दिलेले', 6189: 'दिलेल्या', 6190: 'दिलेस', 6191: 'दिल्या', 6192: 'दिल्यानंतर', 6193: 'दिल्ली', 6194: 'दिल्लीत', 6195: 'दिवशी', 6196: 'दिवस', 6197: 'दिवसभर', 6198: 'दिवसभरात', 6199: 'दिवसरात्र', 6200: 'दिवसही', 6201: 'दिवसा', 6202: 'दिवसांची', 6203: 'दिवसांत', 6204: 'दिवसांनंतर', 6205: 'दिवसांनी', 6206: 'दिवसांपासून', 6207: 'दिवसांपूर्वी', 6208: 'दिवसांपूर्वीच', 6209: 'दिवसांमध्ये', 6210: 'दिवसांसाठी', 6211: 'दिवसाचे', 6212: 'दिवसात', 6213: 'दिवसातून', 6214: 'दिवसानुदिवस', 6215: 'दिवसाने', 6216: 'दिवसाला', 6217: 'दिवसेंदिवस', 6218: 'दिवा', 6219: 'दिवासांची', 6220: 'दिवे', 6221: 'दिशा', 6222: 'दिशेने', 6223: 'दिसणार', 6224: 'दिसणारा', 6225: 'दिसणार्\\u200dया', 6226: 'दिसत', 6227: 'दिसतं', 6228: 'दिसतंय', 6229: 'दिसतच', 6230: 'दिसता', 6231: 'दिसतात', 6232: 'दिसताहेत', 6233: 'दिसते', 6234: 'दिसतेच', 6235: 'दिसतेय', 6236: 'दिसतेयस', 6237: 'दिसतेस', 6238: 'दिसतो', 6239: 'दिसतोच', 6240: 'दिसतोय', 6241: 'दिसतोयस', 6242: 'दिसतोस', 6243: 'दिसलं', 6244: 'दिसला', 6245: 'दिसली', 6246: 'दिसले', 6247: 'दिसल्या', 6248: 'दिसशील', 6249: 'दिसायचं', 6250: 'दिसायचंय', 6251: 'दिसायचा', 6252: 'दिसायच्या', 6253: 'दिसायला', 6254: 'दिसाल', 6255: 'दिसू', 6256: 'दिसून', 6257: 'दिसेनासा', 6258: 'दिसेल', 6259: 'दीड', 6260: 'दीडशे', 6261: 'दीर्घ', 6262: 'दुःखद', 6263: 'दुःखदायी', 6264: 'दुःखी', 6265: 'दुकान', 6266: 'दुकानं', 6267: 'दुकानाचं', 6268: 'दुकानाच्या', 6269: 'दुकानात', 6270: 'दुकानातला', 6271: 'दुकानातून', 6272: 'दुखणं', 6273: 'दुखण्याने', 6274: 'दुखत', 6275: 'दुखतं', 6276: 'दुखतंय', 6277: 'दुखतायत', 6278: 'दुखतायेत', 6279: 'दुखताहेत', 6280: 'दुखते', 6281: 'दुखतेय', 6282: 'दुखतोय', 6283: 'दुखलं', 6284: 'दुखवायच्या', 6285: 'दुखायला', 6286: 'दुखावल्या', 6287: 'दुखू', 6288: 'दुखेल', 6289: 'दुधाचं', 6290: 'दुधाची', 6291: 'दुधाचे', 6292: 'दुधाच्या', 6293: 'दुधापासून', 6294: 'दुधाला', 6295: 'दुपार', 6296: 'दुपारचे', 6297: 'दुपारच्या', 6298: 'दुपारपर्यंत', 6299: 'दुपारभर', 6300: 'दुपारी', 6301: 'दुप्पट', 6302: 'दुबळी', 6303: 'दुभती', 6304: 'दुरुस्त', 6305: 'दुरुस्तीने', 6306: 'दुरून', 6307: 'दुर्गुण', 6308: 'दुर्घटना', 6309: 'दुर्दैवाने', 6310: 'दुर्बळ', 6311: 'दुर्बीण', 6312: 'दुर्मिळ', 6313: 'दुर्लक्ष', 6314: 'दुष्ट', 6315: 'दुष्टता', 6316: 'दुसरं', 6317: 'दुसरा', 6318: 'दुसरी', 6319: 'दुसरीकडे', 6320: 'दुसरीकडेच', 6321: 'दुसरे', 6322: 'दुसर्\\u200dया', 6323: 'दुसर्\\u200dयांची', 6324: 'दुसर्\\u200dयांदा', 6325: 'दुसर्\\u200dयांना', 6326: 'दुसर्\\u200dयांमध्ये', 6327: 'दुसर्\\u200dयाच', 6328: 'दुसर्\\u200dयाचा', 6329: 'दुसऱ्यांसाठी', 6330: 'दूत', 6331: 'दूतच', 6332: 'दूतावास', 6333: 'दूध', 6334: 'दूधवाला', 6335: 'दूर', 6336: 'दूरदर्शन', 6337: 'दूरध्वनी', 6338: 'दूरध्वनीचा', 6339: 'दूरवर', 6340: 'दूसरे', 6341: 'दृश्य', 6342: 'दृष्टीबाहेर', 6343: 'दे', 6344: 'देईन', 6345: 'देईल', 6346: 'देऊ', 6347: 'देऊन', 6348: 'देऊया', 6349: 'देऊळ', 6350: 'देखणा', 6351: 'देखणी', 6352: 'देखणे', 6353: 'देखण्या', 6354: 'देखरेखीकरिता', 6355: 'देखील', 6356: 'देणं', 6357: 'देणार', 6358: 'देणे', 6359: 'देण्याअगोदर', 6360: 'देण्याची', 6361: 'देण्यात', 6362: 'देण्याशी', 6363: 'देण्यासाठी', 6364: 'देत', 6365: 'देतं', 6366: 'देतंय', 6367: 'देतच', 6368: 'देता', 6369: 'देतात', 6370: 'देतील', 6371: 'देते', 6372: 'देतेय', 6373: 'देतेस', 6374: 'देतो', 6375: 'देतोय', 6376: 'देतोस', 6377: 'देव', 6378: 'देवदूत', 6379: 'देवमासा', 6380: 'देवमासे', 6381: 'देवळं', 6382: 'देवळात', 6383: 'देवळातसुद्धा', 6384: 'देवा', 6385: 'देवांची', 6386: 'देवांना', 6387: 'देवाकडून', 6388: 'देवाचा', 6389: 'देवाचे', 6390: 'देवाच्या', 6391: 'देवात', 6392: 'देवाने', 6393: 'देवाला', 6394: 'देवालाच', 6395: 'देवावर', 6396: 'देवाशप्पथ', 6397: 'देवासमोर', 6398: 'देवासाठी', 6399: 'देश', 6400: 'देशद्रोही', 6401: 'देशप्रेम', 6402: 'देशभक्त', 6403: 'देशभर', 6404: 'देशभरात', 6405: 'देशभरातल्या', 6406: 'देशांच्या', 6407: 'देशांत', 6408: 'देशांना', 6409: 'देशांनी', 6410: 'देशांबरोबर', 6411: 'देशांमधील', 6412: 'देशांमध्ये', 6413: 'देशांवर', 6414: 'देशाकडे', 6415: 'देशाचं', 6416: 'देशाचा', 6417: 'देशाची', 6418: 'देशाचे', 6419: 'देशात', 6420: 'देशातले', 6421: 'देशातल्या', 6422: 'देशाला', 6423: 'देशावर', 6424: 'देशाशी', 6425: 'देशासाठी', 6426: 'देशील', 6427: 'दैनंदिन', 6428: 'दैनिक', 6429: 'दैन्यावस्थेत', 6430: 'दोघं', 6431: 'दोघंही', 6432: 'दोघही', 6433: 'दोघांकडे', 6434: 'दोघांचं', 6435: 'दोघांचा', 6436: 'दोघांचाही', 6437: 'दोघांची', 6438: 'दोघांचे', 6439: 'दोघांना', 6440: 'दोघांनाही', 6441: 'दोघांनी', 6442: 'दोघांमधला', 6443: 'दोघांमधून', 6444: 'दोघांमध्ये', 6445: 'दोघी', 6446: 'दोघींची', 6447: 'दोघींना', 6448: 'दोघींनी', 6449: 'दोघीही', 6450: 'दोघे', 6451: 'दोघेही', 6452: 'दोन', 6453: 'दोनच', 6454: 'दोनतीन', 6455: 'दोनदा', 6456: 'दोनदाच', 6457: 'दोनदोन', 6458: 'दोनमजली', 6459: 'दोनशे', 6460: 'दोन्ही', 6461: 'दोन्हीही', 6462: 'दोरा', 6463: 'दोष', 6464: 'दोषी', 6465: 'द्या', 6466: 'द्यायचं', 6467: 'द्यायचा', 6468: 'द्यायची', 6469: 'द्यायचे', 6470: 'द्यायच्या', 6471: 'द्यायला', 6472: 'द्याल', 6473: 'द्यावं', 6474: 'द्यावा', 6475: 'द्यावे', 6476: 'द्राक्ष', 6477: 'द्वार', 6478: 'द्वाराजवळ', 6479: 'द्विभाषिक', 6480: 'द्वीप', 6481: 'द्वीपकल्प', 6482: 'द्वीपाची', 6483: 'धंदा', 6484: 'धकललं', 6485: 'धक्का', 6486: 'धडा', 6487: 'धड्याची', 6488: 'धड्यापासून', 6489: 'धनदौलतीपेक्षा', 6490: 'धनवान', 6491: 'धनसंपत्ती', 6492: 'धनी', 6493: 'धन्यवाद', 6494: 'धबधबा', 6495: 'धबधब्याजवळ', 6496: 'धमकावलं', 6497: 'धमकावू', 6498: 'धमकी', 6499: 'धमाल', 6500: 'धर', 6501: 'धरण', 6502: 'धरणारी', 6503: 'धरता', 6504: 'धरलं', 6505: 'धरला', 6506: 'धरली', 6507: 'धरले', 6508: 'धरलेली', 6509: 'धरल्या', 6510: 'धरा', 6511: 'धरून', 6512: 'धरूनच', 6513: 'धर्म', 6514: 'धर्मांच्या', 6515: 'धर्मात', 6516: 'धर्माबद्दल', 6517: 'धर्मावर', 6518: 'धर्माविरुद्ध', 6519: 'धागा', 6520: 'धाडस', 6521: 'धाडसी', 6522: 'धातु', 6523: 'धातू', 6524: 'धान्य', 6525: 'धारदार', 6526: 'धारधार', 6527: 'धार्मिक', 6528: 'धाव', 6529: 'धावणं', 6530: 'धावणार्\\u200dयाला', 6531: 'धावत', 6532: 'धावतधावत', 6533: 'धावतपळत', 6534: 'धावता', 6535: 'धावतात', 6536: 'धावताना', 6537: 'धावते', 6538: 'धावतो', 6539: 'धावलं', 6540: 'धावला', 6541: 'धावली', 6542: 'धावले', 6543: 'धावलो', 6544: 'धावल्या', 6545: 'धावा', 6546: 'धावायचं', 6547: 'धावायला', 6548: 'धावू', 6549: 'धीराचा', 6550: 'धुऊन', 6551: 'धुडकावला', 6552: 'धुणार', 6553: 'धुतलं', 6554: 'धुतला', 6555: 'धुतली', 6556: 'धुतले', 6557: 'धुतलेली', 6558: 'धुतलेस', 6559: 'धुताहेत', 6560: 'धुते', 6561: 'धुतेय', 6562: 'धुतो', 6563: 'धुतोय', 6564: 'धुम्रपान', 6565: 'धुम्रपानाच्या', 6566: 'धुराचा', 6567: 'धुराडे', 6568: 'धुळीची', 6569: 'धुवत', 6570: 'धुवा', 6571: 'धुवायचे', 6572: 'धुवाल', 6573: 'धुवू', 6574: 'धुवून', 6575: 'धुवेन', 6576: 'धुशील', 6577: 'धू', 6578: 'धूमकेतू', 6579: 'धूम्रपान', 6580: 'धूर', 6581: 'धूळ', 6582: 'धैर्य', 6583: 'धैर्याची', 6584: 'धोका', 6585: 'धोकादायक', 6586: 'धोकादायकच', 6587: 'धोक्याची', 6588: 'धोक्याच्या', 6589: 'धोक्यात', 6590: 'धोधो', 6591: 'धोरणाचे', 6592: 'धोरणाविषयी', 6593: 'ध्रुवावर', 6594: 'न', 6595: 'नं', 6596: 'नंतर', 6597: 'नंतरच्या', 6598: 'नंबर', 6599: 'नंबरची', 6600: 'नंबरवर', 6601: 'नऊ', 6602: 'नऊपासून', 6603: 'नऊला', 6604: 'नका', 6605: 'नकार', 6606: 'नकाशा', 6607: 'नकाशाची', 6608: 'नको', 6609: 'नकोय', 6610: 'नकोस', 6611: 'नक्कल', 6612: 'नक्की', 6613: 'नक्कीच', 6614: 'नख', 6615: 'नखं', 6616: 'नगर', 6617: 'नगरांमध्ये', 6618: 'नगराच्या', 6619: 'नगरात', 6620: 'नगरातला', 6621: 'नगेट्स', 6622: 'नग्न', 6623: 'नजर', 6624: 'नटी', 6625: 'नताळ', 6626: 'नथानाएलने', 6627: 'नदी', 6628: 'नदीकडे', 6629: 'नदीचं', 6630: 'नदीची', 6631: 'नदीच्या', 6632: 'नदीजवळ', 6633: 'नदीत', 6634: 'नदीतील', 6635: 'नदीपाशी', 6636: 'नदीला', 6637: 'नदीवर', 6638: 'नदीवरून', 6639: 'नद्या', 6640: 'नन', 6641: 'नमुनेदार', 6642: 'नम्रतेने', 6643: 'नये', 6644: 'नरकात', 6645: 'नरम', 6646: 'नर्व्हस', 6647: 'नर्स', 6648: 'नर्सची', 6649: 'नर्सरी', 6650: 'नर्सला', 6651: 'नर्सशी', 6652: 'नळ', 6653: 'नवरा', 6654: 'नवरी', 6655: 'नवहता', 6656: 'नवी', 6657: 'नवीन', 6658: 'नवीनच', 6659: 'नव्यासारखी', 6660: 'नव्हतं', 6661: 'नव्हता', 6662: 'नव्हतास', 6663: 'नव्हती', 6664: 'नव्हतीस', 6665: 'नव्हते', 6666: 'नव्हतो', 6667: 'नव्हत्या', 6668: 'नव्हे', 6669: 'नशीब', 6670: 'नशीबवान', 6671: 'नशीबाचा', 6672: 'नशीबात', 6673: 'नशीबावर', 6674: 'नष्ट', 6675: 'नसणार', 6676: 'नसणारं', 6677: 'नसणारा', 6678: 'नसणार्\\u200dया', 6679: 'नसण्यापेक्षा', 6680: 'नसत', 6681: 'नसतं', 6682: 'नसता', 6683: 'नसतात', 6684: 'नसती', 6685: 'नसते', 6686: 'नसतेस', 6687: 'नसतो', 6688: 'नसतोस', 6689: 'नसलं', 6690: 'नसला', 6691: 'नसलेला', 6692: 'नसलेली', 6693: 'नसल्या', 6694: 'नसल्यामुळे', 6695: 'नसशील', 6696: 'नसायचा', 6697: 'नसायला', 6698: 'नसाल', 6699: 'नसू', 6700: 'नसून', 6701: 'नसेन', 6702: 'नसेल', 6703: 'नहाी', 6704: 'नहाीये', 6705: 'नहीं', 6706: 'ना', 6707: 'नाइटक्लब', 6708: 'नाइटक्लबमधून', 6709: 'नाईटलाईट', 6710: 'नाईल', 6711: 'नाईलतकी', 6712: 'नाईलशी', 6713: 'नाक', 6714: 'नाकांनी', 6715: 'नाकाच्या', 6716: 'नाकातून', 6717: 'नाकामेगुरोच्या', 6718: 'नाकारण्यात', 6719: 'नाकारलं', 6720: 'नाकारला', 6721: 'नाकारले', 6722: 'नाकारल्या', 6723: 'नाकारू', 6724: 'नाखूष', 6725: 'नागडं', 6726: 'नागडा', 6727: 'नागडी', 6728: 'नागडे', 6729: 'नागड्या', 6730: 'नागरिक', 6731: 'नागासाकीमध्ये', 6732: 'नागोया', 6733: 'नागोयापासून', 6734: 'नाच', 6735: 'नाचणार', 6736: 'नाचण्यास', 6737: 'नाचत', 6738: 'नाचता', 6739: 'नाचताना', 6740: 'नाचताहेत', 6741: 'नाचतेय', 6742: 'नाचतो', 6743: 'नाचतोय', 6744: 'नाचला', 6745: 'नाचली', 6746: 'नाचले', 6747: 'नाचलो', 6748: 'नाचल्या', 6749: 'नाचा', 6750: 'नाचायचं', 6751: 'नाचायला', 6752: 'नाचायलागायला', 6753: 'नाचावंसं', 6754: 'नाचावेसे', 6755: 'नाचू', 6756: 'नाचूया', 6757: 'नाचेल', 6758: 'नाजूक', 6759: 'नाटक', 6760: 'नाटकात', 6761: 'नाटकाला', 6762: 'नाट्यगृहात', 6763: 'नाट्याचा', 6764: 'नाड्या', 6765: 'नाणं', 6766: 'नाणी', 6767: 'नातवंडांना', 6768: 'नाताळ', 6769: 'नाताळचा', 6770: 'नाताळच्या', 6771: 'नाताळाची', 6772: 'नाताळाला', 6773: 'नातींना', 6774: 'नातेवाईक', 6775: 'नातेवाईकांबरोबर', 6776: 'नातेसंबंधी', 6777: 'नात्तो', 6778: 'नात्यातला', 6779: 'नात्यातली', 6780: 'नात्यातले', 6781: 'नापास', 6782: 'नापोली', 6783: 'नायक', 6784: 'नायकाची', 6785: 'नायजेरिया', 6786: 'नायिका', 6787: 'नायिकेने', 6788: 'नाय्ट्रोग्लिसरीन', 6789: 'नारळ', 6790: 'नारामध्ये', 6791: 'नाराला', 6792: 'नाव', 6793: 'नावं', 6794: 'नावडण्यासाठी', 6795: 'नावदेखील', 6796: 'नावसुद्धा', 6797: 'नावही', 6798: 'नावांची', 6799: 'नावाचं', 6800: 'नावाचा', 6801: 'नावाची', 6802: 'नावाचे', 6803: 'नावाच्या', 6804: 'नावात', 6805: 'नावाने', 6806: 'नाविक', 6807: 'नाश', 6808: 'नाश्ता', 6809: 'नाश्त्याआगोदर', 6810: 'नाश्त्याआधी', 6811: 'नाश्त्याची', 6812: 'नाश्त्यानंतर', 6813: 'नाश्त्याला', 6814: 'नाश्त्यासाठी', 6815: 'नाष्टा', 6816: 'नासासाठी', 6817: 'नास्तिक', 6818: 'नाहिये', 6819: 'नाहियेत', 6820: 'नाही', 6821: 'नाहीए', 6822: 'नाहीत', 6823: 'नाहीतर', 6824: 'नाहीये', 6825: 'नाहीयेत', 6826: 'नाहीयेस', 6827: 'नाहीस', 6828: 'नाहीसा', 6829: 'निंदा', 6830: 'निःशंकपणे', 6831: 'निःशस्त्र', 6832: 'निकाराग्वामध्ये', 6833: 'निकाल', 6834: 'निगमासाठी', 6835: 'निगेटिव्ह', 6836: 'निग्रो', 6837: 'निघ', 6838: 'निघणार', 6839: 'निघणारच', 6840: 'निघण्याचं', 6841: 'निघण्याची', 6842: 'निघत', 6843: 'निघतच', 6844: 'निघतात', 6845: 'निघताना', 6846: 'निघताहेत', 6847: 'निघते', 6848: 'निघतेय', 6849: 'निघतेयस', 6850: 'निघतो', 6851: 'निघतोय', 6852: 'निघतोयस', 6853: 'निघशील', 6854: 'निघा', 6855: 'निघायचं', 6856: 'निघायचा', 6857: 'निघायची', 6858: 'निघायला', 6859: 'निघाल', 6860: 'निघालं', 6861: 'निघाला', 6862: 'निघालाय', 6863: 'निघाली', 6864: 'निघाले', 6865: 'निघालेयत', 6866: 'निघालेला', 6867: 'निघालो', 6868: 'निघाल्या', 6869: 'निघाल्यानंतर', 6870: 'निघू', 6871: 'निघून', 6872: 'निघूया', 6873: 'निघेन', 6874: 'निघेल', 6875: 'निधन', 6876: 'निन्जा', 6877: 'निबंध', 6878: 'निमित्ताने', 6879: 'नियंत्रण', 6880: 'नियंत्रित', 6881: 'नियम', 6882: 'नियमांची', 6883: 'नियमांप्रमाणे', 6884: 'नियुक्त', 6885: 'नियोजित', 6886: 'निरक्षर', 6887: 'निराश', 6888: 'निरीश्वरवादी', 6889: 'निरोगी', 6890: 'निरोप', 6891: 'निर्णय', 6892: 'निर्णायक', 6893: 'निर्देशिका', 6894: 'निर्दोष', 6895: 'निर्माण', 6896: 'निर्माते', 6897: 'निर्मित', 6898: 'निर्मिती', 6899: 'निर्यात', 6900: 'निर्लज्ज', 6901: 'निर्वासितांना', 6902: 'निर्व्यसनी', 6903: 'निळं', 6904: 'निळा', 6905: 'निळी', 6906: 'निळे', 6907: 'निळ्या', 6908: 'निवड', 6909: 'निवडणुकीचं', 6910: 'निवडणुकीचा', 6911: 'निवडणुकीत', 6912: 'निवडणूक', 6913: 'निवडण्यात', 6914: 'निवडताना', 6915: 'निवडतील', 6916: 'निवडलं', 6917: 'निवडलंत', 6918: 'निवडलंस', 6919: 'निवडलीत', 6920: 'निवडलीस', 6921: 'निवडले', 6922: 'निवडलेल्यांमधील', 6923: 'निवडा', 6924: 'निवडून', 6925: 'निवडेन', 6926: 'निवडेल', 6927: 'निवृत्त', 6928: 'निश्चलपणे', 6929: 'निश्चित', 6930: 'निश्चितच', 6931: 'निषेध', 6932: 'निष्पाप', 6933: 'निष्फळ', 6934: 'नी', 6935: 'नीघ', 6936: 'नीट', 6937: 'नीटसा', 6938: 'नीतिमत्ता', 6939: 'नीती', 6940: 'नील', 6941: 'नीही', 6942: 'नुकतेच', 6943: 'नुकत्याच', 6944: 'नुक्ताच', 6945: 'नुक्तीच', 6946: 'नुसता', 6947: 'नूडल्स', 6948: 'ने', 6949: 'नेईन', 6950: 'नेऊ', 6951: 'नेऊया', 6952: 'नेणार', 6953: 'नेण्यात', 6954: 'नेत', 6955: 'नेता', 6956: 'नेतेय', 6957: 'नेतोय', 6958: 'नेत्यांनी', 6959: 'नेत्याकडे', 6960: 'नेत्रतज्ञ', 6961: 'नेदरलँड्सची', 6962: 'नेपोलियन', 6963: 'नेपोलियनचा', 6964: 'नेम', 6965: 'नेमकं', 6966: 'नेमका', 6967: 'नेमकी', 6968: 'नेरुदा', 6969: 'नेल', 6970: 'नेलं', 6971: 'नेली', 6972: 'नेव्हाडामध्ये', 6973: 'नेशील', 6974: 'नेसलेला', 6975: 'नेसलेले', 6976: 'नेहमी', 6977: 'नेहमीच', 6978: 'नेहमीचंच', 6979: 'नेहमीच्या', 6980: 'नेहमीच्याच', 6981: 'नेहमीप्रमाणे', 6982: 'नेहमीसारखाच', 6983: 'नैसर्गिक', 6984: 'नैसर्गिकच', 6985: 'नॉनवेज', 6986: 'नॉर्वे', 6987: 'नॉर्वेची', 6988: 'नॉर्वेमधील', 6989: 'नो', 6990: 'नोंदणी', 6991: 'नोंदवहीत', 6992: 'नोकर', 6993: 'नोकरी', 6994: 'नोकरीची', 6995: 'नोकरीच्या', 6996: 'नोकरीण', 6997: 'नोकरीतून', 6998: 'नोकरीबद्दल', 6999: 'नोकरीला', 7000: 'नोकरीवरून', 7001: 'नोकरीसाठी', 7002: 'नोकरीही', 7003: 'नोकरीहून', 7004: 'नोकर्\\u200dया', 7005: 'नोगुची', 7006: 'नोचतेय', 7007: 'नोट', 7008: 'नोटांचा', 7009: 'नोत्र', 7010: 'नोबेल', 7011: 'नोव्हेंबर', 7012: 'नोव्हेंबरच्या', 7013: 'नोव्हेंबरला', 7014: 'नौका', 7015: 'नौदलात', 7016: 'नौसेना', 7017: 'न्या', 7018: 'न्याय', 7019: 'न्यायचं', 7020: 'न्यायची', 7021: 'न्यायचो', 7022: 'न्यायला', 7023: 'न्यायाधीश', 7024: 'न्यायालय', 7025: 'न्यायालयाचे', 7026: 'न्याल', 7027: 'न्यू', 7028: 'न्यूझीलंडची', 7029: 'न्यूझीलंडमधील', 7030: 'न्यूझीलंडमध्ये', 7031: 'न्यूटन', 7032: 'न्यूयॉर्क', 7033: 'न्यूयॉर्कचे', 7034: 'न्यूयॉर्कमध्ये', 7035: 'न्यूयॉर्कला', 7036: 'पँट', 7037: 'पंक', 7038: 'पंक्चर', 7039: 'पंख', 7040: 'पंखा', 7041: 'पंचावन', 7042: 'पंचेचाळीस', 7043: 'पंच्याण्णव', 7044: 'पंतप्रधान', 7045: 'पंतप्रधानांनी', 7046: 'पंतप्रधानाने', 7047: 'पंधरा', 7048: 'पंधरावा', 7049: 'पंप', 7050: 'पकड', 7051: 'पकडणार', 7052: 'पकडण्याच्या', 7053: 'पकडण्यात', 7054: 'पकडता', 7055: 'पकडतात', 7056: 'पकडते', 7057: 'पकडतो', 7058: 'पकडलं', 7059: 'पकडला', 7060: 'पकडलास', 7061: 'पकडली', 7062: 'पकडलीत', 7063: 'पकडलीस', 7064: 'पकडले', 7065: 'पकड़', 7066: 'पकडा', 7067: 'पकडापकडीसारखे', 7068: 'पकडायचा', 7069: 'पकडायची', 7070: 'पकडायचे', 7071: 'पकडायला', 7072: 'पकडायलाच', 7073: 'पकडू', 7074: 'पकडून', 7075: 'पकडूया', 7076: 'पकडेन', 7077: 'पकडेल', 7078: 'पक्ष', 7079: 'पक्षांना', 7080: 'पक्षाचा', 7081: 'पक्षाची', 7082: 'पक्षाच्या', 7083: 'पक्षाला', 7084: 'पक्षी', 7085: 'पक्षीच', 7086: 'पक्ष्यांना', 7087: 'पक्ष्यांसाठी', 7088: 'पक्ष्याचं', 7089: 'पगडीत', 7090: 'पगार', 7091: 'पट', 7092: 'पटकथा', 7093: 'पटत', 7094: 'पटलं', 7095: 'पटीने', 7096: 'पटेल', 7097: 'पट्टी', 7098: 'पट्ट्या', 7099: 'पड', 7100: 'पडणार', 7101: 'पडण्याचा', 7102: 'पडण्यापेक्षा', 7103: 'पडत', 7104: 'पडतंय', 7105: 'पडतात', 7106: 'पडताना', 7107: 'पडताहेत', 7108: 'पडतील', 7109: 'पडते', 7110: 'पडतेय', 7111: 'पडतो', 7112: 'पडतोय', 7113: 'पडद्याकडे', 7114: 'पडद्यातून', 7115: 'पडलं', 7116: 'पडलंय', 7117: 'पडला', 7118: 'पडली', 7119: 'पडले', 7120: 'पडलेलं', 7121: 'पडलेला', 7122: 'पडलेली', 7123: 'पडलेले', 7124: 'पडलो', 7125: 'पडल्या', 7126: 'पडल्यावर', 7127: 'पडशील', 7128: 'पडा', 7129: 'पडायचं', 7130: 'पडायचा', 7131: 'पडायला', 7132: 'पडाल', 7133: 'पडावंसं', 7134: 'पडू', 7135: 'पडून', 7136: 'पडेल', 7137: 'पण', 7138: 'पतंग', 7139: 'पतंगांचा', 7140: 'पती', 7141: 'पतींना', 7142: 'पतीसमोर', 7143: 'पत्ता', 7144: 'पत्ताच', 7145: 'पत्ते', 7146: 'पत्त्यांकडे', 7147: 'पत्नी', 7148: 'पत्नींना', 7149: 'पत्नीने', 7150: 'पत्नीला', 7151: 'पत्नीसाठी', 7152: 'पत्र', 7153: 'पत्रं', 7154: 'पत्रकार', 7155: 'पत्रही', 7156: 'पत्राचं', 7157: 'पत्राचा', 7158: 'पत्राची', 7159: 'पत्रे', 7160: 'पद', 7161: 'पदवीधर', 7162: 'पदार्थ', 7163: 'पदावर', 7164: 'पदोन्नती', 7165: 'पद्धत', 7166: 'पद्धती', 7167: 'पद्धतीचा', 7168: 'पद्धतीने', 7169: 'पनीर', 7170: 'पनीरची', 7171: 'पन्नास', 7172: 'पन्नासच्या', 7173: 'पन्नासपेक्षा', 7174: 'पफ', 7175: 'पब', 7176: 'पबला', 7177: 'परंपरा', 7178: 'परंपरेने', 7179: 'परका', 7180: 'परकाच', 7181: 'परकी', 7182: 'परकीच', 7183: 'परके', 7184: 'परक्यांशी', 7185: 'परग्रहवासी', 7186: 'परग्रहवासींसारखे', 7187: 'परत', 7188: 'परतणार', 7189: 'परततील', 7190: 'परततोय', 7191: 'परतपरत', 7192: 'परतला', 7193: 'परतलात', 7194: 'परतलास', 7195: 'परतली', 7196: 'परतलीस', 7197: 'परतले', 7198: 'परतलो', 7199: 'परतल्या', 7200: 'परतल्यावर', 7201: 'परतशील', 7202: 'परतायचं', 7203: 'परतायची', 7204: 'परतायला', 7205: 'परताल', 7206: 'परतून', 7207: 'परतेन', 7208: 'परतेल', 7209: 'परदेशात', 7210: 'परदेशी', 7211: 'परदेशीयांवर', 7212: 'परभाषा', 7213: 'परमेश्वर', 7214: 'परमेश्वराचे', 7215: 'परमेश्वरावर', 7216: 'परराष्ट्रमंत्र्यांशी', 7217: 'परराष्ट्रीय', 7218: 'परवडणार', 7219: 'परवडणारं', 7220: 'परवडत', 7221: 'परवडतं', 7222: 'परवडते', 7223: 'परवडेल', 7224: 'परवा', 7225: 'परवाचा', 7226: 'परवानगी', 7227: 'परवानगीची', 7228: 'परवाना', 7229: 'परवापर्यंत', 7230: 'पराग्वे', 7231: 'पराजय', 7232: 'परिचारिका', 7233: 'परिणामकारक', 7234: 'परिपूर्ण', 7235: 'परिवहन', 7236: 'परिषद', 7237: 'परिषदेसाठी', 7238: 'परिस्थिती', 7239: 'परिस्थितीत', 7240: 'परिस्थितीला', 7241: 'परीक्षा', 7242: 'परीक्षेची', 7243: 'परीक्षेत', 7244: 'परीक्षेसाठी', 7245: 'पर्थमध्ये', 7246: 'पर्यंत', 7247: 'पर्यटक', 7248: 'पर्यन्त', 7249: 'पर्यवेक्षक', 7250: 'पर्याय', 7251: 'पर्यावरण', 7252: 'पर्यावरणाचा', 7253: 'पर्यावरणाला', 7254: 'पर्ल', 7255: 'पर्लमध्ये', 7256: 'पर्वत', 7257: 'पर्वतापेक्षा', 7258: 'पर्वतावर', 7259: 'पर्स', 7260: 'पर्समधून', 7261: 'पर्समध्ये', 7262: 'पलीकडचे', 7263: 'पलीकडच्या', 7264: 'पलीकडून', 7265: 'पलीकडे', 7266: 'पळ', 7267: 'पळण्यात', 7268: 'पळत', 7269: 'पळता', 7270: 'पळतात', 7271: 'पळताना', 7272: 'पळते', 7273: 'पळतो', 7274: 'पळवून', 7275: 'पळा', 7276: 'पळायचं', 7277: 'पळायचा', 7278: 'पळायला', 7279: 'पळालं', 7280: 'पळाला', 7281: 'पळालात', 7282: 'पळालास', 7283: 'पळाली', 7284: 'पळालीस', 7285: 'पळाले', 7286: 'पळाल्या', 7287: 'पळू', 7288: 'पळून', 7289: 'पवित्र', 7290: 'पश्चात्ताप', 7291: 'पश्चिम', 7292: 'पश्चिमात्य', 7293: 'पश्चिमेकडे', 7294: 'पश्चिमेत', 7295: 'पश्चिमेतल्या', 7296: 'पश्चिमेला', 7297: 'पसंद', 7298: 'पसरतो', 7299: 'पसरली', 7300: 'पसरले', 7301: 'पसरवणं', 7302: 'पसरवल्या', 7303: 'पसारा', 7304: 'पसार्\\u200dयासाठी', 7305: 'पहा', 7306: 'पहाटे', 7307: 'पहायचा', 7308: 'पहायला', 7309: 'पहालंय', 7310: 'पहावा', 7311: 'पहिलं', 7312: 'पहिला', 7313: 'पहिलाच', 7314: 'पहिली', 7315: 'पहिलीच', 7316: 'पहिले', 7317: 'पहिल्या', 7318: 'पहिल्यांदा', 7319: 'पहिल्यांदाच', 7320: 'पहिल्यापासून', 7321: 'पांघरुणाच्या', 7322: 'पांडा', 7323: 'पांढरं', 7324: 'पांढरा', 7325: 'पांढरी', 7326: 'पांढरे', 7327: 'पांढर्\\u200dया', 7328: 'पाइन्टच्या', 7329: 'पाइन्टप्रमाणे', 7330: 'पाउंड', 7331: 'पाउंडच्या', 7332: 'पाउंडपेक्षा', 7333: 'पाउंडाच्या', 7334: 'पाऊल', 7335: 'पाऊस', 7336: 'पाककृती', 7337: 'पाककृतींमध्ये', 7338: 'पाकिटमारांनी', 7339: 'पाकिटात', 7340: 'पाकिस्तान', 7341: 'पाकिस्तानची', 7342: 'पाकीट', 7343: 'पाच', 7344: 'पाचपर्यंत', 7345: 'पाचपाऊंडची', 7346: 'पाचपेक्षा', 7347: 'पाचला', 7348: 'पाचव्या', 7349: 'पाचशे', 7350: 'पाचही', 7351: 'पाठ', 7352: 'पाठचा', 7353: 'पाठलाग', 7354: 'पाठव', 7355: 'पाठवण्यात', 7356: 'पाठवत', 7357: 'पाठवताहेत', 7358: 'पाठवते', 7359: 'पाठवतो', 7360: 'पाठवलं', 7361: 'पाठवलंस', 7362: 'पाठवला', 7363: 'पाठवलात', 7364: 'पाठवलास', 7365: 'पाठवली', 7366: 'पाठवले', 7367: 'पाठवलेत', 7368: 'पाठवलेला', 7369: 'पाठवलेली', 7370: 'पाठवलेस', 7371: 'पाठवल्या', 7372: 'पाठवा', 7373: 'पाठवायची', 7374: 'पाठवायला', 7375: 'पाठवू', 7376: 'पाठवेन', 7377: 'पाठिंबा', 7378: 'पाठी', 7379: 'पाठीत', 7380: 'पाठीमागे', 7381: 'पाठीशी', 7382: 'पाठोपाठ', 7383: 'पाठ्यपुस्तक', 7384: 'पाठ्यपुस्तकात', 7385: 'पाठ्यपुस्तके', 7386: 'पाडला', 7387: 'पाडवण्यात', 7388: 'पाडवलं', 7389: 'पाडवली', 7390: 'पाडवायचं', 7391: 'पाडवू', 7392: 'पाणकोळी', 7393: 'पाणकोळ्यांकडे', 7394: 'पाणी', 7395: 'पाण्याचं', 7396: 'पाण्याचा', 7397: 'पाण्याची', 7398: 'पाण्यात', 7399: 'पाण्यातला', 7400: 'पाण्याने', 7401: 'पाण्यापेक्षाही', 7402: 'पाण्याबरोबर', 7403: 'पाण्याला', 7404: 'पाण्यावर', 7405: 'पाण्याशिवाय', 7406: 'पातळ', 7407: 'पात्र', 7408: 'पादलं', 7409: 'पाद्री', 7410: 'पान', 7411: 'पानं', 7412: 'पानांचा', 7413: 'पानांचे', 7414: 'पानामाला', 7415: 'पानावर', 7416: 'पानासारखा', 7417: 'पाने', 7418: 'पाप', 7419: 'पापी', 7420: 'पापींबरोबर', 7421: 'पाप्रिका', 7422: 'पाबलो', 7423: 'पाय', 7424: 'पायचे', 7425: 'पायजमा', 7426: 'पायथॉन', 7427: 'पायदळाचा', 7428: 'पायदळात', 7429: 'पायमोज्यात', 7430: 'पायरेट', 7431: 'पायर्\\u200dया', 7432: 'पायर्\\u200dयांवर', 7433: 'पायलट', 7434: 'पायांची', 7435: 'पायांचे', 7436: 'पायांना', 7437: 'पायांपेक्षा', 7438: 'पायांवर', 7439: 'पायाचा', 7440: 'पायात', 7441: 'पायातसुद्धा', 7442: 'पायातही', 7443: 'पायातून', 7444: 'पायाला', 7445: 'पायावर', 7446: 'पार', 7447: 'पारंपारिक', 7448: 'पारपत्र', 7449: 'पारा', 7450: 'पारित', 7451: 'पारितोषिक', 7452: 'पार्क', 7453: 'पार्टी', 7454: 'पार्टीची', 7455: 'पार्टीत', 7456: 'पार्टीला', 7457: 'पार्टीसाठी', 7458: 'पार्सलवरचा', 7459: 'पालक', 7460: 'पालकांनी', 7461: 'पालकांशी', 7462: 'पालकाची', 7463: 'पाळ', 7464: 'पाळणं', 7465: 'पाळणा', 7466: 'पाळणार्\\u200dया', 7467: 'पाळण्यात', 7468: 'पाळण्याशिवाय', 7469: 'पाळत', 7470: 'पाळतात', 7471: 'पाळते', 7472: 'पाळतो', 7473: 'पाळला', 7474: 'पाळली', 7475: 'पाळले', 7476: 'पाळलेले', 7477: 'पाळल्या', 7478: 'पाळा', 7479: 'पाळायचा', 7480: 'पाळायची', 7481: 'पाळी', 7482: 'पाळीव', 7483: 'पाळू', 7484: 'पाव', 7485: 'पावणे', 7486: 'पावणेतीन', 7487: 'पावती', 7488: 'पावसाचा', 7489: 'पावसाची', 7490: 'पावसाचे', 7491: 'पावसात', 7492: 'पावसाळा', 7493: 'पावसासारखं', 7494: 'पावाचा', 7495: 'पावापेक्षा', 7496: 'पाश्चात्य', 7497: 'पास', 7498: 'पासपोर्ट', 7499: 'पासपोर्टचं', 7500: 'पासपोर्टशिवाय', 7501: 'पासवर्ड', 7502: 'पासून', 7503: 'पास्ता', 7504: 'पास्तावर', 7505: 'पाहणार', 7506: 'पाहण्यासाठी', 7507: 'पाहत', 7508: 'पाहता', 7509: 'पाहताच', 7510: 'पाहतात', 7511: 'पाहते', 7512: 'पाहतेय', 7513: 'पाहतो', 7514: 'पाहतोय', 7515: 'पाहलो', 7516: 'पाहा', 7517: 'पाहायचं', 7518: 'पाहायचा', 7519: 'पाहायला', 7520: 'पाहिजे', 7521: 'पाहिजेत', 7522: 'पाहिजेस', 7523: 'पाहिलं', 7524: 'पाहिलंत', 7525: 'पाहिलंय', 7526: 'पाहिलंस', 7527: 'पाहिलंही', 7528: 'पाहिला', 7529: 'पाहिलात', 7530: 'पाहिलाय', 7531: 'पाहिलास', 7532: 'पाहिली', 7533: 'पाहिले', 7534: 'पाहिलेत', 7535: 'पाहिलेलं', 7536: 'पाहिलेला', 7537: 'पाहिलेली', 7538: 'पाहिलेस', 7539: 'पाहिल्या', 7540: 'पाहिल्यावर', 7541: 'पाहिेजे', 7542: 'पाहीजेत', 7543: 'पाहुणा', 7544: 'पाहुणे', 7545: 'पाहुण्या', 7546: 'पाहुण्यांच्या', 7547: 'पाहुण्यांना', 7548: 'पाहू', 7549: 'पाहून', 7550: 'पाहूया', 7551: 'पिंजरा', 7552: 'पिंजरे', 7553: 'पिंजर्\\u200dयात', 7554: 'पिंजर्\\u200dयातला', 7555: 'पिआनो', 7556: 'पिऊ', 7557: 'पिऊन', 7558: 'पिऊनपिऊन', 7559: 'पिऊया', 7560: 'पिकअप', 7561: 'पिकतील', 7562: 'पिकनिक', 7563: 'पिकनिकला', 7564: 'पिकलं', 7565: 'पिकली', 7566: 'पिकलेली', 7567: 'पिकासो', 7568: 'पिकासोने', 7569: 'पिकासोसारखं', 7570: 'पिकासोसारखे', 7571: 'पिकोलो', 7572: 'पिक्चर', 7573: 'पिक्चरचं', 7574: 'पिक्चरमधला', 7575: 'पिक्चरमधली', 7576: 'पिक्चरला', 7577: 'पिग्जची', 7578: 'पिचर', 7579: 'पिजा', 7580: 'पिजासुद्धा', 7581: 'पिज्जा', 7582: 'पिझा', 7583: 'पिझावर', 7584: 'पिझ्झा', 7585: 'पिझ्झाचा', 7586: 'पिझ्झाची', 7587: 'पिझ्झाचे', 7588: 'पिट', 7589: 'पिठाचा', 7590: 'पिठाची', 7591: 'पिठाने', 7592: 'पिणं', 7593: 'पिणार', 7594: 'पिणारा', 7595: 'पित', 7596: 'पितं', 7597: 'पिता', 7598: 'पितात', 7599: 'पिते', 7600: 'पितेय', 7601: 'पितेस', 7602: 'पितो', 7603: 'पितोय', 7604: 'पितोस', 7605: 'पियानिस्ट', 7606: 'पियानो', 7607: 'पियानोचा', 7608: 'पिरॅमिडच्या', 7609: 'पिल्लं', 7610: 'पिल्लाला', 7611: 'पिल्लू', 7612: 'पिल्ल्याचं', 7613: 'पिळला', 7614: 'पिवळं', 7615: 'पिवळा', 7616: 'पिवळी', 7617: 'पिवळे', 7618: 'पिवळ्या', 7619: 'पिशवी', 7620: 'पिशवीत', 7621: 'पिशवीतली', 7622: 'पिशवीतून', 7623: 'पिशव्या', 7624: 'पिसं', 7625: 'पिसले', 7626: 'पिसाचे', 7627: 'पिसे', 7628: 'पिस्ता', 7629: 'पिस्तुलीत', 7630: 'पिस्तूल', 7631: 'पी', 7632: 'पीअर्स', 7633: 'पीठ', 7634: 'पीत', 7635: 'पीतपीत', 7636: 'पीतो', 7637: 'पीनट', 7638: 'पीबीएस', 7639: 'पीस', 7640: 'पुट', 7641: 'पुडिंग', 7642: 'पुढचं', 7643: 'पुढचा', 7644: 'पुढची', 7645: 'पुढच्या', 7646: 'पुढे', 7647: 'पुढेमागे', 7648: 'पुतणी', 7649: 'पुतळा', 7650: 'पुतळे', 7651: 'पुतळ्याचं', 7652: 'पुत्र', 7653: 'पुनरुच्चार', 7654: 'पुनर्विचार', 7655: 'पुनर्विवाह', 7656: 'पुन्हा', 7657: 'पुन्हापुन्हा', 7658: 'पुरत', 7659: 'पुरतील', 7660: 'पुरले', 7661: 'पुरवतात', 7662: 'पुरवतो', 7663: 'पुरवलं', 7664: 'पुरवेल', 7665: 'पुरस्कार', 7666: 'पुराण', 7667: 'पुराणमतवादी', 7668: 'पुरामुळे', 7669: 'पुरावा', 7670: 'पुरावे', 7671: 'पुरुष', 7672: 'पुरुषांना', 7673: 'पुरुषांनी', 7674: 'पुरुषांपेक्षा', 7675: 'पुरे', 7676: 'पुरेल', 7677: 'पुरेशी', 7678: 'पुरेश्या', 7679: 'पुरेसं', 7680: 'पुरेसा', 7681: 'पुरेसे', 7682: 'पुरोहित', 7683: 'पुलं', 7684: 'पुलाखाली', 7685: 'पुलाचं', 7686: 'पुलाच्या', 7687: 'पुलामुळे', 7688: 'पुलावरून', 7689: 'पुशअप', 7690: 'पुष्कळ', 7691: 'पुष्कळदा', 7692: 'पुष्टी', 7693: 'पुस', 7694: 'पुसतो', 7695: 'पुसतोय', 7696: 'पुसलं', 7697: 'पुसला', 7698: 'पुसले', 7699: 'पुसा', 7700: 'पुसून', 7701: 'पुस्तक', 7702: 'पुस्तकं', 7703: 'पुस्तकसुद्धा', 7704: 'पुस्तकांचं', 7705: 'पुस्तकांचा', 7706: 'पुस्तकांची', 7707: 'पुस्तकांच्या', 7708: 'पुस्तकांनी', 7709: 'पुस्तकांवर', 7710: 'पुस्तकांशिवाय', 7711: 'पुस्तकाएवढं', 7712: 'पुस्तकाचं', 7713: 'पुस्तकाचा', 7714: 'पुस्तकाची', 7715: 'पुस्तकाचे', 7716: 'पुस्तकाच्या', 7717: 'पुस्तकात', 7718: 'पुस्तकातील', 7719: 'पुस्तकाने', 7720: 'पुस्तकापेक्षा', 7721: 'पुस्तकाबद्दल', 7722: 'पुस्तकाबरोबर', 7723: 'पुस्तकाला', 7724: 'पुस्तकाविषयी', 7725: 'पुस्तिका', 7726: 'पूजा', 7727: 'पूरण', 7728: 'पूर्ण', 7729: 'पूर्णपणे', 7730: 'पूर्व', 7731: 'पूर्वग्रहरहित', 7732: 'पूर्वज', 7733: 'पूर्वी', 7734: 'पूर्वीपासूनचा', 7735: 'पूर्वेकडून', 7736: 'पूर्वेकडे', 7737: 'पूर्वेला', 7738: 'पूल', 7739: 'पूलमध्ये', 7740: 'पृथ्वी', 7741: 'पृथ्वीभोवती', 7742: 'पृथ्वीवर', 7743: 'पृथ्वीवरील', 7744: 'पॅक', 7745: 'पॅकिंग', 7746: 'पॅकिंगला', 7747: 'पॅडची', 7748: 'पॅनकेक', 7749: 'पॅनकेकवर', 7750: 'पॅनकेक्सची', 7751: 'पॅरामेडिक', 7752: 'पॅराशूट', 7753: 'पॅरिस', 7754: 'पॅरिसमधून', 7755: 'पॅरिसमध्ये', 7756: 'पॅरिसला', 7757: 'पॅलेसमध्ये', 7758: 'पेंग्विन', 7759: 'पेक्षा', 7760: 'पेटवला', 7761: 'पेटवली', 7762: 'पेटवल्या', 7763: 'पेटवू', 7764: 'पेटी', 7765: 'पेट्या', 7766: 'पेट्रोल', 7767: 'पेट्रोलचा', 7768: 'पेट्रोलची', 7769: 'पेट्रोलच्या', 7770: 'पेट्रोलियम', 7771: 'पेन', 7772: 'पेनं', 7773: 'पेनने', 7774: 'पेनाने', 7775: 'पेन्सिल', 7776: 'पेन्सिली', 7777: 'पेन्सिलीची', 7778: 'पेन्सिलीने', 7779: 'पेपर', 7780: 'पेपरमध्ये', 7781: 'पेपरात', 7782: 'पेपरोनी', 7783: 'पेप्सी', 7784: 'पेय', 7785: 'पेरावे', 7786: 'पेरूमध्ये', 7787: 'पेल्यात', 7788: 'पेसो', 7789: 'पैगंबर', 7790: 'पैज', 7791: 'पैशांपेक्षा', 7792: 'पैशाचं', 7793: 'पैशाने', 7794: 'पैशे', 7795: 'पैश्यांची', 7796: 'पैश्यांसाठी', 7797: 'पैश्याची', 7798: 'पैश्याच्या', 7799: 'पैश्यासाठी', 7800: 'पैसा', 7801: 'पैसाच', 7802: 'पैसे', 7803: 'पैसेदेखील', 7804: 'पॉझ', 7805: 'पॉटमध्ये', 7806: 'पॉडकास्ट', 7807: 'पॉप', 7808: 'पॉपकॉर्न', 7809: 'पॉपकॉर्नचा', 7810: 'पॉप्युलर', 7811: 'पॉल', 7812: 'पॉलिश', 7813: 'पोकर', 7814: 'पोचले', 7815: 'पोचलो', 7816: 'पोचल्याबरोबर', 7817: 'पोट', 7818: 'पोटात', 7819: 'पोटावर', 7820: 'पोटेटोझ', 7821: 'पोनी', 7822: 'पोप', 7823: 'पोपट', 7824: 'पोपटांना', 7825: 'पोपने', 7826: 'पोयांग', 7827: 'पोर', 7828: 'पोरं', 7829: 'पोरगा', 7830: 'पोरगी', 7831: 'पोरांना', 7832: 'पोराने', 7833: 'पोरे', 7834: 'पोर्क', 7835: 'पोर्तुगलची', 7836: 'पोर्तुगाल', 7837: 'पोर्तुगालची', 7838: 'पोर्तुगीज', 7839: 'पोल', 7840: 'पोलंडची', 7841: 'पोलंडमध्ये', 7842: 'पोलंडवर', 7843: 'पोलाद', 7844: 'पोलिश', 7845: 'पोलिशमध्ये', 7846: 'पोलिसांची', 7847: 'पोलिसांना', 7848: 'पोलिसांनी', 7849: 'पोलिसांपासून', 7850: 'पोलिसांवर', 7851: 'पोलिसांशी', 7852: 'पोलीस', 7853: 'पोलीसचा', 7854: 'पोलीसांना', 7855: 'पोल्क', 7856: 'पोस्ट', 7857: 'पोस्टकार्ड', 7858: 'पोस्टर', 7859: 'पोस्टाने', 7860: 'पोस्टिंग', 7861: 'पोहचेन', 7862: 'पोहणं', 7863: 'पोहणारा', 7864: 'पोहणे', 7865: 'पोहण्याने', 7866: 'पोहत', 7867: 'पोहता', 7868: 'पोहतात', 7869: 'पोहताना', 7870: 'पोहतायत', 7871: 'पोहते', 7872: 'पोहतेस', 7873: 'पोहतो', 7874: 'पोहतोय', 7875: 'पोहतोस', 7876: 'पोहले', 7877: 'पोहलो', 7878: 'पोहशील', 7879: 'पोहायचा', 7880: 'पोहायचे', 7881: 'पोहायचो', 7882: 'पोहायला', 7883: 'पोहायलादेखील', 7884: 'पोहाल', 7885: 'पोहू', 7886: 'पोहूया', 7887: 'पोहेल', 7888: 'पोहोच', 7889: 'पोहोचणार', 7890: 'पोहोचण्याची', 7891: 'पोहोचत', 7892: 'पोहोचतं', 7893: 'पोहोचता', 7894: 'पोहोचताच', 7895: 'पोहोचतील', 7896: 'पोहोचते', 7897: 'पोहोचतेस', 7898: 'पोहोचतो', 7899: 'पोहोचलं', 7900: 'पोहोचला', 7901: 'पोहोचलाच', 7902: 'पोहोचलात', 7903: 'पोहोचलाय', 7904: 'पोहोचलास', 7905: 'पोहोचली', 7906: 'पोहोचलीच', 7907: 'पोहोचलीस', 7908: 'पोहोचले', 7909: 'पोहोचलो', 7910: 'पोहोचल्या', 7911: 'पोहोचल्याबरोबर', 7912: 'पोहोचल्याबरोबरच', 7913: 'पोहोचल्यावर', 7914: 'पोहोचवणं', 7915: 'पोहोचवणार', 7916: 'पोहोचशील', 7917: 'पोहोचा', 7918: 'पोहोचायचं', 7919: 'पोहोचायचा', 7920: 'पोहोचायला', 7921: 'पोहोचाल', 7922: 'पोहोचू', 7923: 'पोहोचेन', 7924: 'पोहोचेपर्यंत', 7925: 'पोहोचेल', 7926: 'पौरुषी', 7927: 'पौर्वात्य', 7928: 'प्या', 7929: 'प्यायचं', 7930: 'प्यायचंय', 7931: 'प्यायचा', 7932: 'प्यायची', 7933: 'प्यायला', 7934: 'प्यायलात', 7935: 'प्यायलास', 7936: 'प्यायली', 7937: 'प्यायलीस', 7938: 'प्यायले', 7939: 'प्यायलेली', 7940: 'प्यायलेलो', 7941: 'प्यायलो', 7942: 'प्यायल्याशिवाय', 7943: 'प्यावं', 7944: 'प्यावंसं', 7945: 'प्येय', 7946: 'प्रकल्प', 7947: 'प्रकल्पात', 7948: 'प्रकार', 7949: 'प्रकारचं', 7950: 'प्रकारचा', 7951: 'प्रकारची', 7952: 'प्रकारचे', 7953: 'प्रकारच्या', 7954: 'प्रकाराचे', 7955: 'प्रकाराने', 7956: 'प्रकारे', 7957: 'प्रकारेही', 7958: 'प्रकाश', 7959: 'प्रकाशचित्रण', 7960: 'प्रकाशन', 7961: 'प्रकाशहीन', 7962: 'प्रकाशित', 7963: 'प्रक्रिया', 7964: 'प्रगती', 7965: 'प्रचंड', 7966: 'प्रजासत्ताक', 7967: 'प्रजासत्ताकमध्ये', 7968: 'प्रजासत्ताकाची', 7969: 'प्रत', 7970: 'प्रतिकार', 7971: 'प्रतिद्वंद्वी', 7972: 'प्रतिनिधी', 7973: 'प्रतिबंधित', 7974: 'प्रतिभा', 7975: 'प्रतिवादी', 7976: 'प्रतिष्ठापित', 7977: 'प्रतिस्पर्धा', 7978: 'प्रतिस्पर्धी', 7979: 'प्रतीक्षा', 7980: 'प्रत्यक्ष', 7981: 'प्रत्यक्षात', 7982: 'प्रत्युत्तर', 7983: 'प्रत्येक', 7984: 'प्रत्येकाचं', 7985: 'प्रत्येकाला', 7986: 'प्रथम', 7987: 'प्रथा', 7988: 'प्रदर्शने', 7989: 'प्रदान', 7990: 'प्रदूषण', 7991: 'प्रदूषित', 7992: 'प्रदेश', 7993: 'प्रपोज', 7994: 'प्रबल', 7995: 'प्रभाव', 7996: 'प्रभावी', 7997: 'प्रमाणात', 7998: 'प्रमाणावर', 7999: 'प्रमुख', 8000: 'प्रमोशन', 8001: 'प्रयत्न', 8002: 'प्रयत्नसुद्धा', 8003: 'प्रयत्नही', 8004: 'प्रयत्नात', 8005: 'प्रयास', 8006: 'प्रयोग', 8007: 'प्रयोगशाळेत', 8008: 'प्रयोगात', 8009: 'प्रयोगाने', 8010: 'प्रवाश्यांना', 8011: 'प्रवास', 8012: 'प्रवासाची', 8013: 'प्रविष्ट', 8014: 'प्रवृति', 8015: 'प्रवृती', 8016: 'प्रवेश', 8017: 'प्रशांत', 8018: 'प्रशासकीय', 8019: 'प्रशियन', 8020: 'प्रश्न', 8021: 'प्रश्नच', 8022: 'प्रश्नांचं', 8023: 'प्रश्नांची', 8024: 'प्रश्नांपासून', 8025: 'प्रश्नाचं', 8026: 'प्रश्नाने', 8027: 'प्रश्नाला', 8028: 'प्रश्नावर', 8029: 'प्रसंग', 8030: 'प्रसिद्ध', 8031: 'प्रस्ताव', 8032: 'प्रस्तुत', 8033: 'प्रांत', 8034: 'प्राग', 8035: 'प्राचीन', 8036: 'प्राणवायूशिवाय', 8037: 'प्राणी', 8038: 'प्राणीसंग्रहालयात', 8039: 'प्राण्यांना', 8040: 'प्राण्यांमधून', 8041: 'प्राण्यांविषयी', 8042: 'प्राण्याला', 8043: 'प्राथमिक', 8044: 'प्राथमिकतः', 8045: 'प्राध्यापक', 8046: 'प्राप्त', 8047: 'प्रामाणिक', 8048: 'प्रामाणिकतेवर', 8049: 'प्रायश्चित्त', 8050: 'प्रार्थना', 8051: 'प्रिंटर', 8052: 'प्रिंटरमध्ये', 8053: 'प्रिफेक्चर', 8054: 'प्रेकारचा', 8055: 'प्रेक्षक', 8056: 'प्रेक्षकांची', 8057: 'प्रेक्षकांमध्ये', 8058: 'प्रेम', 8059: 'प्रेमपत्र', 8060: 'प्रेमप्रकरण', 8061: 'प्रेमळ', 8062: 'प्रेमही', 8063: 'प्रेमाइतकं', 8064: 'प्रेमाचंच', 8065: 'प्रेमाचा', 8066: 'प्रेमाची', 8067: 'प्रेमाच्या', 8068: 'प्रेमात', 8069: 'प्रेमाशिवाय', 8070: 'प्रेरणा', 8071: 'प्रॉब्लेम', 8072: 'प्रो', 8073: 'प्रोग्राम', 8074: 'प्रोग्रामर', 8075: 'प्रोग्रामिंग', 8076: 'प्रोच्छ', 8077: 'प्रोत्साहित', 8078: 'प्रोफाइल', 8079: 'प्रोफेसर', 8080: 'प्रोसेसर', 8081: 'प्लंबर', 8082: 'प्लासीबो', 8083: 'प्लास्टिकची', 8084: 'प्लास्टिकच्या', 8085: 'प्लीज', 8086: 'प्लॅट्फॉर्मवरून', 8087: 'प्लॅन', 8088: 'प्लेटकडे', 8089: 'प्लेटमधून', 8090: 'प्लेन्सच्या', 8091: 'प्लेयर', 8092: 'प्लेयरमध्ये', 8093: 'प्लेस्टेशन', 8094: 'फँटसी', 8095: 'फंडरेजर', 8096: 'फक्त', 8097: 'फटका', 8098: 'फडताळात', 8099: 'फणी', 8100: 'फणीने', 8101: 'फरक', 8102: 'फर्निचर', 8103: 'फळ', 8104: 'फळं', 8105: 'फळंभाज्या', 8106: 'फळांच्या', 8107: 'फळांमध्ये', 8108: 'फळांशिवाय', 8109: 'फळाचा', 8110: 'फळ्यावर', 8111: 'फसलाय', 8112: 'फसलायस', 8113: 'फसलेय', 8114: 'फसलेयत', 8115: 'फसलो', 8116: 'फसलोय', 8117: 'फसवलं', 8118: 'फसवलंत', 8119: 'फसवलंस', 8120: 'फसवायचा', 8121: 'फसवू', 8122: 'फांद्या', 8123: 'फाइल', 8124: 'फाईल', 8125: 'फाऊन्टन', 8126: 'फाटक', 8127: 'फाटकाबाहेर', 8128: 'फाटलेला', 8129: 'फाडणे', 8130: 'फाडताना', 8131: 'फाडलं', 8132: 'फाडली', 8133: 'फाडून', 8134: 'फातिमाचे', 8135: 'फातिमाच्या', 8136: 'फायटर', 8137: 'फायदा', 8138: 'फायनल', 8139: 'फायर', 8140: 'फायरफॉक्स', 8141: 'फायरवॉल', 8142: 'फायली', 8143: 'फायलींची', 8144: 'फायलीत', 8145: 'फार', 8146: 'फारच', 8147: 'फारशी', 8148: 'फारश्या', 8149: 'फारसं', 8150: 'फारसा', 8151: 'फारसीचा', 8152: 'फारसे', 8153: 'फार्मसीचं', 8154: 'फार्मसीत', 8155: 'फाशी', 8156: 'फासावर', 8157: 'फास्टफूड', 8158: 'फास्टबॉल', 8159: 'फिकीर', 8160: 'फिजिक्समध्ये', 8161: 'फिजिसिस्ट', 8162: 'फिदेल', 8163: 'फिनलँडची', 8164: 'फिनलंडवर', 8165: 'फिनिश', 8166: 'फिरत', 8167: 'फिरतंय', 8168: 'फिरतो', 8169: 'फिरलंय', 8170: 'फिरली', 8171: 'फिरव', 8172: 'फिरवतं', 8173: 'फिरवलं', 8174: 'फिरवली', 8175: 'फिरवा', 8176: 'फिरायला', 8177: 'फिरू', 8178: 'फिलिप', 8179: 'फिलिपीन', 8180: 'फिल्म', 8181: 'फिश', 8182: 'फिशअँडचिप्स', 8183: 'फिस्टबंप', 8184: 'फीनिक्स', 8185: 'फुंकून', 8186: 'फुकटमध्ये', 8187: 'फुकटात', 8188: 'फुगवटा', 8189: 'फुगा', 8190: 'फुजी', 8191: 'फुटकं', 8192: 'फुटपाथवर', 8193: 'फुटबॉल', 8194: 'फुटबॉलचं', 8195: 'फुटबॉलबद्दल', 8196: 'फुटबॉलमध्ये', 8197: 'फुटला', 8198: 'फुटेल', 8199: 'फुलं', 8200: 'फुलतात', 8201: 'फुलपाखरू', 8202: 'फुलपाखरूपेक्षा', 8203: 'फुलांचा', 8204: 'फुलांची', 8205: 'फुलांना', 8206: 'फुलांनी', 8207: 'फुलाचा', 8208: 'फुलातून', 8209: 'फुलाला', 8210: 'फुलू', 8211: 'फुले', 8212: 'फूट', 8213: 'फूल', 8214: 'फॅक्टरी', 8215: 'फॅक्टरीत', 8216: 'फॅक्टरीमध्ये', 8217: 'फॅक्टर्\\u200dया', 8218: 'फॅक्स', 8219: 'फॅन', 8220: 'फॅनकथा', 8221: 'फॅनफिक्शन', 8222: 'फॅनसमोर', 8223: 'फॅरेनहाइट', 8224: 'फॅशन', 8225: 'फॅशनेबल', 8226: 'फॅशिस्ट', 8227: 'फेक', 8228: 'फेकत', 8229: 'फेकता', 8230: 'फेकलं', 8231: 'फेकला', 8232: 'फेकली', 8233: 'फेकले', 8234: 'फेका', 8235: 'फेकू', 8236: 'फेकून', 8237: 'फेकूनच', 8238: 'फेट्यात', 8239: 'फेब्रुवारी', 8240: 'फेब्रुवारीमध्ये', 8241: 'फेरीच्या', 8242: 'फेल', 8243: 'फेसबुक', 8244: 'फेसबुकवर', 8245: 'फेसबूकवर', 8246: 'फॉग', 8247: 'फॉन्ट', 8248: 'फॉर्म', 8249: 'फॉर्मवर', 8250: 'फॉर्वर्ड', 8251: 'फॉर्वर्डने', 8252: 'फॉल', 8253: 'फॉलो', 8254: 'फॉस्टरने', 8255: 'फोटेजेनिक', 8256: 'फोटो', 8257: 'फोटोग्राफर', 8258: 'फोटोची', 8259: 'फोटोजेनिक', 8260: 'फोटोत', 8261: 'फोटोमधल्या', 8262: 'फोडली', 8263: 'फोन', 8264: 'फोनच', 8265: 'फोनचा', 8266: 'फोनची', 8267: 'फोनने', 8268: 'फोनमध्ये', 8269: 'फोनवर', 8270: 'फोनवरती', 8271: 'फोरट्रॅन', 8272: 'फोर्कलिफ्ट', 8273: 'फोर्ट', 8274: 'फोर्ड', 8275: 'फोल्डर', 8276: 'फोल्डरमध्ये', 8277: 'फौजदार', 8278: 'फ्रँक', 8279: 'फ्रँक्लिनने', 8280: 'फ्रांकोच्या', 8281: 'फ्रांस', 8282: 'फ्रांसच्या', 8283: 'फ्रांसपासून', 8284: 'फ्रांसमधील', 8285: 'फ्रांसिसको', 8286: 'फ्राईज', 8287: 'फ्राईजसुद्धा', 8288: 'फ्राईझ', 8289: 'फ्राईड', 8290: 'फ्रान्स', 8291: 'फ्रान्सइतका', 8292: 'फ्रान्सचा', 8293: 'फ्रान्सची', 8294: 'फ्रान्सपासून', 8295: 'फ्रान्समध्ये', 8296: 'फ्रान्समध्येच', 8297: 'फ्रान्सला', 8298: 'फ्रान्सवर', 8299: 'फ्रान्सिस्कोमध्ये', 8300: 'फ्रिज', 8301: 'फ्रिजकडे', 8302: 'फ्रिजमध्ये', 8303: 'फ्रिझमध्ये', 8304: 'फ्रेंच', 8305: 'फ्रेंचइतकी', 8306: 'फ्रेंचच', 8307: 'फ्रेंचचा', 8308: 'फ्रेंचची', 8309: 'फ्रेंचच्या', 8310: 'फ्रेंचदेखील', 8311: 'फ्रेंचपासून', 8312: 'फ्रेंचबरोबरच', 8313: 'फ्रेंचमधील', 8314: 'फ्रेंचमधून', 8315: 'फ्रेंचमध्ये', 8316: 'फ्रेंचसुद्धा', 8317: 'फ्रेंचांच्या', 8318: 'फ्रेंचांना', 8319: 'फ्लर्ट', 8320: 'फ्लाइट', 8321: 'फ्लाइटवर', 8322: 'फ्लाईट', 8323: 'फ्लू', 8324: 'फ्लॅट', 8325: 'फ्लॅटची', 8326: 'फ्लॅटमधून', 8327: 'फ्लॅटमध्ये', 8328: 'फ्लॅश', 8329: 'फ्लेव्हर', 8330: 'फ्लोरिडावर', 8331: 'फ्लोरेंस', 8332: 'बँँडमध्ये', 8333: 'बँक', 8334: 'बँका', 8335: 'बँकांनी', 8336: 'बँकांपेक्षा', 8337: 'बँकेत', 8338: 'बँकेतून', 8339: 'बँकेने', 8340: 'बँकेला', 8341: 'बँकेवर', 8342: 'बँगकॉक', 8343: 'बँड', 8344: 'बँडचा', 8345: 'बँडची', 8346: 'बँडमध्ये', 8347: 'बँडविड्थ', 8348: 'बँडसोबत', 8349: 'बँडेज', 8350: 'बंडखोरांनी', 8351: 'बंद', 8352: 'बंदच', 8353: 'बंदी', 8354: 'बंदुका', 8355: 'बंदुकीचा', 8356: 'बंदुकीची', 8357: 'बंदुकीच्या', 8358: 'बंदुकीने', 8359: 'बंदुकीला', 8360: 'बंदुकीशी', 8361: 'बंदूक', 8362: 'बंदूकधारी', 8363: 'बंदोबस्त', 8364: 'बंधू', 8365: 'बकरा', 8366: 'बकरे', 8367: 'बकर्\\u200dया', 8368: 'बकिंगहॅम', 8369: 'बक्षीस', 8370: 'बक्षीसेला', 8371: 'बग', 8372: 'बगदाद', 8373: 'बगळा', 8374: 'बघ', 8375: 'बघणं', 8376: 'बघणार', 8377: 'बघण्याऐवजी', 8378: 'बघण्यात', 8379: 'बघण्यापेक्षा', 8380: 'बघण्यालायक', 8381: 'बघण्यासारखं', 8382: 'बघण्यासारखा', 8383: 'बघत', 8384: 'बघतंय', 8385: 'बघतय', 8386: 'बघतलं', 8387: 'बघता', 8388: 'बघताच', 8389: 'बघतात', 8390: 'बघताय', 8391: 'बघताहेत', 8392: 'बघते', 8393: 'बघतेय', 8394: 'बघतेयस', 8395: 'बघतेस', 8396: 'बघतो', 8397: 'बघतोय', 8398: 'बघतोयस', 8399: 'बघतोस', 8400: 'बघशील', 8401: 'बघा', 8402: 'बघायचं', 8403: 'बघायचंय', 8404: 'बघायचा', 8405: 'बघायचाय', 8406: 'बघायची', 8407: 'बघायचीय', 8408: 'बघायचे', 8409: 'बघायचो', 8410: 'बघायला', 8411: 'बघाल', 8412: 'बघावं', 8413: 'बघाविशी', 8414: 'बघावी', 8415: 'बघितलं', 8416: 'बघितलंत', 8417: 'बघितलंय', 8418: 'बघितलंस', 8419: 'बघितलंसुद्धा', 8420: 'बघितला', 8421: 'बघितलात', 8422: 'बघितलास', 8423: 'बघितली', 8424: 'बघितले', 8425: 'बघितलेत', 8426: 'बघितलेलं', 8427: 'बघितलेस', 8428: 'बघितल्या', 8429: 'बघितल्याबरोबरच', 8430: 'बघुया', 8431: 'बघू', 8432: 'बघून', 8433: 'बघूया', 8434: 'बघेन', 8435: 'बघेल', 8436: 'बझर', 8437: 'बटण', 8438: 'बटणं', 8439: 'बटणवर', 8440: 'बटर', 8441: 'बटरमध्ये', 8442: 'बटवा', 8443: 'बटाटा', 8444: 'बटाटे', 8445: 'बटाट्यांपेक्षा', 8446: 'बटाट्यांसाठी', 8447: 'बटाट्याचं', 8448: 'बडबड', 8449: 'बडबडत', 8450: 'बडबडतो', 8451: 'बडबड्या', 8452: 'बदक', 8453: 'बदकांना', 8454: 'बदकाला', 8455: 'बदकासारखं', 8456: 'बदके', 8457: 'बदल', 8458: 'बदलणं', 8459: 'बदलणार', 8460: 'बदलण्यात', 8461: 'बदलत', 8462: 'बदलतं', 8463: 'बदलतंय', 8464: 'बदलतात', 8465: 'बदलते', 8466: 'बदलतो', 8467: 'बदललं', 8468: 'बदलला', 8469: 'बदललात', 8470: 'बदललास', 8471: 'बदलली', 8472: 'बदलले', 8473: 'बदलल्या', 8474: 'बदला', 8475: 'बदलायचं', 8476: 'बदलायचा', 8477: 'बदलायची', 8478: 'बदलायला', 8479: 'बदली', 8480: 'बदलू', 8481: 'बदलून', 8482: 'बदलूया', 8483: 'बदलेन', 8484: 'बदलेल', 8485: 'बदल्यात', 8486: 'बदाम', 8487: 'बदामचा', 8488: 'बधितलं', 8489: 'बनणार', 8490: 'बनण्याचा', 8491: 'बनण्याची', 8492: 'बनत', 8493: 'बनतं', 8494: 'बनते', 8495: 'बनतो', 8496: 'बनतोय', 8497: 'बनलं', 8498: 'बनला', 8499: 'बनली', 8500: 'बनले', 8501: 'बनलेलं', 8502: 'बनलेला', 8503: 'बनलेली', 8504: 'बनलेल्या', 8505: 'बनलो', 8506: 'बनल्या', 8507: 'बनव', 8508: 'बनवणं', 8509: 'बनवण्याअगोदर', 8510: 'बनवण्यात', 8511: 'बनवत', 8512: 'बनवता', 8513: 'बनवतात', 8514: 'बनवते', 8515: 'बनवतेय', 8516: 'बनवतेस', 8517: 'बनवतो', 8518: 'बनवतोय', 8519: 'बनवतोस', 8520: 'बनवलं', 8521: 'बनवलंत', 8522: 'बनवलंय', 8523: 'बनवलंस', 8524: 'बनवलत', 8525: 'बनवला', 8526: 'बनवली', 8527: 'बनवलीत', 8528: 'बनवलीस', 8529: 'बनवले', 8530: 'बनवलेलं', 8531: 'बनवलेला', 8532: 'बनवलेली', 8533: 'बनवलेल्या', 8534: 'बनवल्या', 8535: 'बनवशील', 8536: 'बनवा', 8537: 'बनवायचं', 8538: 'बनवायचा', 8539: 'बनवायचे', 8540: 'बनवायला', 8541: 'बनवाल', 8542: 'बनवून', 8543: 'बनवूया', 8544: 'बनवेन', 8545: 'बनवेल', 8546: 'बनशील', 8547: 'बनायचं', 8548: 'बनायचंय', 8549: 'बनायचा', 8550: 'बनायची', 8551: 'बनायला', 8552: 'बनावटीची', 8553: 'बनू', 8554: 'बनेल', 8555: 'बरं', 8556: 'बरंय', 8557: 'बरज', 8558: 'बरा', 8559: 'बरी', 8560: 'बरे', 8561: 'बरेचदा', 8562: 'बरेसे', 8563: 'बरोबर', 8564: 'बरोबरच', 8565: 'बरोबरची', 8566: 'बरोब्बर', 8567: 'बर्गर', 8568: 'बर्गरवर्गर', 8569: 'बर्थडे', 8570: 'बर्न', 8571: 'बर्फ', 8572: 'बर्फाइतकं', 8573: 'बर्फाइतकी', 8574: 'बर्फाचा', 8575: 'बर्फाचे', 8576: 'बर्फात', 8577: 'बर्फाने', 8578: 'बर्फापेक्षा', 8579: 'बर्फाबरोबर', 8580: 'बर्फामुळे', 8581: 'बर्फावर', 8582: 'बर्फासारखं', 8583: 'बर्फासारखा', 8584: 'बर्फासारखी', 8585: 'बर्फासारखे', 8586: 'बर्रची', 8587: 'बर्रने', 8588: 'बर्लिन', 8589: 'बर्लिनची', 8590: 'बर्\\u200dया', 8591: 'बर्\\u200dयापैकी', 8592: 'बर्\\u200dयापैकीच', 8593: 'बलवान', 8594: 'बल्ब', 8595: 'बल्बचा', 8596: 'बळकावला', 8597: 'बळी', 8598: 'बशीत', 8599: 'बश्या', 8600: 'बस', 8601: 'बसचं', 8602: 'बसचालकाने', 8603: 'बसची', 8604: 'बसचे', 8605: 'बसच्या', 8606: 'बसणार', 8607: 'बसण्यात', 8608: 'बसण्यापेक्षा', 8609: 'बसत', 8610: 'बसतात', 8611: 'बसताना', 8612: 'बसते', 8613: 'बसतो', 8614: 'बसने', 8615: 'बसमधून', 8616: 'बसमध्ये', 8617: 'बसलं', 8618: 'बसला', 8619: 'बसलाय', 8620: 'बसली', 8621: 'बसले', 8622: 'बसलेय', 8623: 'बसलेला', 8624: 'बसलेली', 8625: 'बसलेले', 8626: 'बसलो', 8627: 'बसलोय', 8628: 'बसल्या', 8629: 'बसवण्यात', 8630: 'बसवर', 8631: 'बसवली', 8632: 'बसवल्या', 8633: 'बसवायची', 8634: 'बसवू', 8635: 'बसवून', 8636: 'बसशील', 8637: 'बससाठी', 8638: 'बसस्टॉपच्या', 8639: 'बसा', 8640: 'बसायचं', 8641: 'बसायला', 8642: 'बसावंसं', 8643: 'बसू', 8644: 'बसून', 8645: 'बसूनच', 8646: 'बसूया', 8647: 'बसेन', 8648: 'बसेल', 8649: 'बहिणी', 8650: 'बहिणींना', 8651: 'बहिणीइतका', 8652: 'बहिणीइतकी', 8653: 'बहिणीइतके', 8654: 'बहिणीकडे', 8655: 'बहिणीचं', 8656: 'बहिणीचा', 8657: 'बहिणीची', 8658: 'बहिणीने', 8659: 'बहिणीनेच', 8660: 'बहिणीपेक्षा', 8661: 'बहिणीबरोबर', 8662: 'बहिणीला', 8663: 'बहिणीलासुद्धा', 8664: 'बहिणीशी', 8665: 'बहिणीसाठी', 8666: 'बहिणीसारखा', 8667: 'बहिणीसारखी', 8668: 'बहिणीसारखे', 8669: 'बहिणीसारख्या', 8670: 'बहिरा', 8671: 'बहिरी', 8672: 'बहीण', 8673: 'बहीणभाऊ', 8674: 'बहीणीएवढ्या', 8675: 'बहीणीकडे', 8676: 'बहुतंतु', 8677: 'बहुतांश', 8678: 'बहुतेक', 8679: 'बहुधा', 8680: 'बहुसंख्य', 8681: 'बाँगो', 8682: 'बाँब', 8683: 'बाँबबद्दल', 8684: 'बांग्लादेश', 8685: 'बांधकाम', 8686: 'बांधण्यात', 8687: 'बांधताहेत', 8688: 'बांधतील', 8689: 'बांधतोय', 8690: 'बांधलं', 8691: 'बांधला', 8692: 'बांधली', 8693: 'बांधले', 8694: 'बांधलेलं', 8695: 'बांधलेला', 8696: 'बांधलेले', 8697: 'बांधल्या', 8698: 'बांधायचं', 8699: 'बांधायला', 8700: 'बांधून', 8701: 'बांधूया', 8702: 'बाइक', 8703: 'बाइकवरून', 8704: 'बाइकाल', 8705: 'बाई', 8706: 'बाईक', 8707: 'बाईकचा', 8708: 'बाईकडे', 8709: 'बाईकला', 8710: 'बाईकवर', 8711: 'बाईचा', 8712: 'बाईबरोबर', 8713: 'बाईला', 8714: 'बाईशी', 8715: 'बाउन्स', 8716: 'बाउल', 8717: 'बाउलमधून', 8718: 'बाकावर', 8719: 'बाकी', 8720: 'बाकीचं', 8721: 'बाकीची', 8722: 'बाकीचे', 8723: 'बाकीच्या', 8724: 'बाकीच्यांच्या', 8725: 'बाकीच्यांना', 8726: 'बाकीच्यांनी', 8727: 'बाकीच्यांपेक्षा', 8728: 'बाकीच्यांशी', 8729: 'बाग', 8730: 'बागेकडे', 8731: 'बागेचा', 8732: 'बागेच्या', 8733: 'बागेत', 8734: 'बागेतलं', 8735: 'बागेतले', 8736: 'बागेतल्या', 8737: 'बागेतील', 8738: 'बाजार', 8739: 'बाजारात', 8740: 'बाजारातून', 8741: 'बाजू', 8742: 'बाजूंमध्ये', 8743: 'बाजूचं', 8744: 'बाजूचा', 8745: 'बाजूची', 8746: 'बाजूच्या', 8747: 'बाजूने', 8748: 'बाजूबाजूला', 8749: 'बाजूला', 8750: 'बाजूलाच', 8751: 'बाजूवा', 8752: 'बाटली', 8753: 'बाटलीत', 8754: 'बाटलीने', 8755: 'बाटल्या', 8756: 'बाण', 8757: 'बातमी', 8758: 'बातमीनुसार', 8759: 'बातमीने', 8760: 'बातम्या', 8761: 'बातम्यांची', 8762: 'बातम्यांनी', 8763: 'बातम्यांमध्ये', 8764: 'बाथरुम', 8765: 'बाथरूम', 8766: 'बाथरूमच्या', 8767: 'बाथरूममधले', 8768: 'बाथरूममध्ये', 8769: 'बाथरूमला', 8770: 'बाथरोब', 8771: 'बादली', 8772: 'बादलीत', 8773: 'बाप', 8774: 'बापाला', 8775: 'बापासारखाच', 8776: 'बाब', 8777: 'बाबतीत', 8778: 'बाबा', 8779: 'बाबांकडे', 8780: 'बाबांचं', 8781: 'बाबांचा', 8782: 'बाबांची', 8783: 'बाबांचे', 8784: 'बाबांच्या', 8785: 'बाबांना', 8786: 'बाबांनी', 8787: 'बाबांपेक्षा', 8788: 'बाबांबरोबर', 8789: 'बाबांसारखं', 8790: 'बाबांसारखा', 8791: 'बाबांसारखाच', 8792: 'बाबांसारखी', 8793: 'बाबांसोबत', 8794: 'बायका', 8795: 'बायकांची', 8796: 'बायकांना', 8797: 'बायको', 8798: 'बायकोच', 8799: 'बायकोचं', 8800: 'बायकोचा', 8801: 'बायकोची', 8802: 'बायकोचे', 8803: 'बायकोने', 8804: 'बायकोबरोबर', 8805: 'बायकोमुलं', 8806: 'बायकोला', 8807: 'बायकोवर', 8808: 'बायकोशी', 8809: 'बायकोसाठी', 8810: 'बायकोसुद्धा', 8811: 'बायबल', 8812: 'बायबलचा', 8813: 'बायबलमध्ये', 8814: 'बायोकेमिस्ट', 8815: 'बार', 8816: 'बारकाईने', 8817: 'बारचं', 8818: 'बारमध्ये', 8819: 'बारा', 8820: 'बारीक', 8821: 'बारीकच', 8822: 'बार्टेंडर', 8823: 'बार्टेंडरकडून', 8824: 'बार्टेन्डर', 8825: 'बार्तोलोमेओ', 8826: 'बार्बेक्यू', 8827: 'बार्स', 8828: 'बार्सेलोना', 8829: 'बालकाच्या', 8830: 'बालरोगतज्ञ', 8831: 'बाल्कन', 8832: 'बाळ', 8833: 'बाळं', 8834: 'बाळाचं', 8835: 'बाळाची', 8836: 'बाळाचे', 8837: 'बाळाने', 8838: 'बाळाप्रमाणे', 8839: 'बाळाबरोबर', 8840: 'बाळाला', 8841: 'बाळासारखा', 8842: 'बावली', 8843: 'बावलीचे', 8844: 'बावळट', 8845: 'बावळत', 8846: 'बावीस', 8847: 'बाशो', 8848: 'बास्क', 8849: 'बास्केटबॉल', 8850: 'बाहुली', 8851: 'बाहुलीची', 8852: 'बाहुलीबरोबर', 8853: 'बाहुलीला', 8854: 'बाहुल्या', 8855: 'बाहुल्यांबरोबर', 8856: 'बाहेर', 8857: 'बाहेरगावी', 8858: 'बाहेरच', 8859: 'बाहेरचं', 8860: 'बाहेरून', 8861: 'बिअर', 8862: 'बिग', 8863: 'बिघडत', 8864: 'बिघडलं', 8865: 'बिघडला', 8866: 'बिघडली', 8867: 'बिघडलेलं', 8868: 'बिघडलेला', 8869: 'बिघडलेल्या', 8870: 'बिघडवलं', 8871: 'बिघडवला', 8872: 'बिघडवली', 8873: 'बिघडवून', 8874: 'बिघडून', 8875: 'बिचारी', 8876: 'बिझी', 8877: 'बिनसाखरेचा', 8878: 'बिनसाखरेची', 8879: 'बिबट्यात', 8880: 'बियर', 8881: 'बियरच्या', 8882: 'बियरपासून', 8883: 'बियरसाठी', 8884: 'बिया', 8885: 'बिल', 8886: 'बिलं', 8887: 'बिलचं', 8888: 'बिलिअर्ड्ज', 8889: 'बिल्डिंग', 8890: 'बिल्डिंगची', 8891: 'बिल्डिंगच्या', 8892: 'बिल्डिंगमध्ये', 8893: 'बिल्डिंगसमोर', 8894: 'बिल्डिंमध्येच', 8895: 'बिवा', 8896: 'बिशारा', 8897: 'बिस्कीट', 8898: 'बी', 8899: 'बीअर', 8900: 'बीअरची', 8901: 'बीअरच्या', 8902: 'बीअरला', 8903: 'बीएलटी', 8904: 'बीच', 8905: 'बीजिंग', 8906: 'बीजिंगमध्ये', 8907: 'बीट्निक', 8908: 'बीफ', 8909: 'बीमध्ये', 8910: 'बीयर', 8911: 'बुक', 8912: 'बुकमार्क', 8913: 'बुखारेस्ट', 8914: 'बुटं', 8915: 'बुटका', 8916: 'बुटकी', 8917: 'बुटांची', 8918: 'बुटांच्या', 8919: 'बुटात', 8920: 'बुडणार', 8921: 'बुडत', 8922: 'बुडतं', 8923: 'बुडला', 8924: 'बुडले', 8925: 'बुडलेच', 8926: 'बुडलोच', 8927: 'बुडल्या', 8928: 'बुडवलं', 8929: 'बुडवली', 8930: 'बुडवलेलच', 8931: 'बुडू', 8932: 'बुडून', 8933: 'बुडॉपेश्ट', 8934: 'बुद्धिबळ', 8935: 'बुद्धिबळही', 8936: 'बुद्धिबळाच्या', 8937: 'बुद्धिबळात', 8938: 'बुद्धिमान', 8939: 'बुद्धी', 8940: 'बुद्धीची', 8941: 'बुद्धीबळ', 8942: 'बुध', 8943: 'बुधवार', 8944: 'बुधवारपर्यंत', 8945: 'बुधवारी', 8946: 'बुर्ज', 8947: 'बुलफाइटरपेक्षा', 8948: 'बुलफाइटिंग', 8949: 'बुलेटप्रूफ', 8950: 'बूट', 8951: 'बूटांचं', 8952: 'बूट्स', 8953: 'बॅंकेत', 8954: 'बॅंकेसाठी', 8955: 'बॅकअप', 8956: 'बॅकलिट', 8957: 'बॅक्टेरियामुळे', 8958: 'बॅग', 8959: 'बॅगा', 8960: 'बॅगेची', 8961: 'बॅगेत', 8962: 'बॅगेतली', 8963: 'बॅगेतून', 8964: 'बॅचलर', 8965: 'बॅटमॅनसारखे', 8966: 'बॅटर', 8967: 'बॅटरी', 8968: 'बॅटरीवर', 8969: 'बॅटर्\\u200dयांची', 8970: 'बॅन्ड', 8971: 'बॅर्गन', 8972: 'बॅले', 8973: 'बॅलेरिना', 8974: 'बॅल्टिक', 8975: 'बॅल्टिमोरमध्ये', 8976: 'बेअर', 8977: 'बेईमान', 8978: 'बेक', 8979: 'बेकन', 8980: 'बेकनचा', 8981: 'बेकरी', 8982: 'बेकरीत', 8983: 'बेकरीला', 8984: 'बेकायदेशीर', 8985: 'बेकार', 8986: 'बेकिंग', 8987: 'बेगल', 8988: 'बेघर', 8989: 'बेजबाबदार', 8990: 'बेट', 8991: 'बेटं', 8992: 'बेटहोफन', 8993: 'बेटांचे', 8994: 'बेटांमधून', 8995: 'बेटावर', 8996: 'बेड', 8997: 'बेडकं', 8998: 'बेडकाला', 8999: 'बेडकावर', 9000: 'बेडखाली', 9001: 'बेडच्या', 9002: 'बेडमध्ये', 9003: 'बेडरूम', 9004: 'बेडरूमचं', 9005: 'बेडरूमचा', 9006: 'बेडरूमच्या', 9007: 'बेडरूममध्ये', 9008: 'बेडवर', 9009: 'बेडूक', 9010: 'बेथलेहेममध्ये', 9011: 'बेन्जमिन', 9012: 'बेरीज', 9013: 'बेरोजगार', 9014: 'बेरोजगारीचा', 9015: 'बेल', 9016: 'बेलग्रेड', 9017: 'बेलने', 9018: 'बेलो', 9019: 'बेल्जियम', 9020: 'बेल्जियमची', 9021: 'बेल्जियमपासून', 9022: 'बेल्जियममध्ये', 9023: 'बेल्ट', 9024: 'बेवडा', 9025: 'बेशुद्ध', 9026: 'बेशुद्धंय', 9027: 'बेस', 9028: 'बेसबॉल', 9029: 'बेसबॉलची', 9030: 'बेसबॉलपेक्षा', 9031: 'बेसबॉलबद्दल', 9032: 'बेसबॉलमध्या', 9033: 'बेसबॉलमध्ये', 9034: 'बेसबॉस', 9035: 'बेसमेंटमध्ये', 9036: 'बेसिनमध्ये', 9037: 'बैल', 9038: 'बॉक्स', 9039: 'बॉक्समध्ये', 9040: 'बॉक्सर', 9041: 'बॉटल', 9042: 'बॉडिगार्डांची', 9043: 'बॉडीगार्ड', 9044: 'बॉडीगार्डची', 9045: 'बॉनेटवर', 9046: 'बॉन्ड', 9047: 'बॉयफ्रेंड', 9048: 'बॉयफ्रेंडचं', 9049: 'बॉयफ्रेंडची', 9050: 'बॉयफ्रेंडबरोबर', 9051: 'बॉयफ्रेंडसाठी', 9052: 'बॉयफ्रेंडही', 9053: 'बॉल', 9054: 'बॉलपेनने', 9055: 'बॉलला', 9056: 'बॉस', 9057: 'बॉस्टन', 9058: 'बॉस्टनचा', 9059: 'बॉस्टनची', 9060: 'बॉस्टनचे', 9061: 'बॉस्टनच्या', 9062: 'बॉस्टनजवळ', 9063: 'बॉस्टनपासून', 9064: 'बॉस्टनबद्दल', 9065: 'बॉस्टनबाबत', 9066: 'बॉस्टनमधलं', 9067: 'बॉस्टनमधल्या', 9068: 'बॉस्टनमधील', 9069: 'बॉस्टनमधून', 9070: 'बॉस्टनमध्ये', 9071: 'बॉस्टनमध्येच', 9072: 'बॉस्टनला', 9073: 'बॉस्टनवरून', 9074: 'बॉस्टनविषयी', 9075: 'बॉस्टनसारख्या', 9076: 'बॉस्टनहून', 9077: 'बो', 9078: 'बोके', 9079: 'बोक्याचं', 9080: 'बोगद्यातून', 9081: 'बोगेतल्या', 9082: 'बोजूलाच', 9083: 'बोट', 9084: 'बोटं', 9085: 'बोटची', 9086: 'बोटांनी', 9087: 'बोटांनीच', 9088: 'बोटाला', 9089: 'बोटी', 9090: 'बोटीचं', 9091: 'बोटीने', 9092: 'बोनापार्ट', 9093: 'बोनापार्टचा', 9094: 'बोर्डिंग', 9095: 'बोल', 9096: 'बोलणं', 9097: 'बोलणार', 9098: 'बोलणारा', 9099: 'बोलणारी', 9100: 'बोलणारे', 9101: 'बोलणार्\\u200dया', 9102: 'बोलणी', 9103: 'बोलणे', 9104: 'बोलण्याअगोदर', 9105: 'बोलण्याआधी', 9106: 'बोलण्याचं', 9107: 'बोलण्याची', 9108: 'बोलण्यात', 9109: 'बोलण्यापेक्षा', 9110: 'बोलण्यार्\\u200dयांपैकी', 9111: 'बोलत', 9112: 'बोलतं', 9113: 'बोलतंय', 9114: 'बोलतच', 9115: 'बोलतही', 9116: 'बोलता', 9117: 'बोलताच', 9118: 'बोलतात', 9119: 'बोलताना', 9120: 'बोलताहेत', 9121: 'बोलते', 9122: 'बोलतेय', 9123: 'बोलतेयस', 9124: 'बोलतेस', 9125: 'बोलतो', 9126: 'बोलतोय', 9127: 'बोलतोयस', 9128: 'बोलतोस', 9129: 'बोललं', 9130: 'बोलला', 9131: 'बोललात', 9132: 'बोललास', 9133: 'बोलली', 9134: 'बोललीस', 9135: 'बोलले', 9136: 'बोललेलं', 9137: 'बोललेल्याचं', 9138: 'बोललो', 9139: 'बोललोच', 9140: 'बोलल्या', 9141: 'बोलव', 9142: 'बोलवत', 9143: 'बोलवतंय', 9144: 'बोलवते', 9145: 'बोलवतेय', 9146: 'बोलवतो', 9147: 'बोलवतोय', 9148: 'बोलवलं', 9149: 'बोलवली', 9150: 'बोलवलीत', 9151: 'बोलवलीस', 9152: 'बोलवले', 9153: 'बोलवशील', 9154: 'बोलवा', 9155: 'बोलवायचं', 9156: 'बोलवायला', 9157: 'बोलवाल', 9158: 'बोलवू', 9159: 'बोलवेन', 9160: 'बोलवेपर्यंत', 9161: 'बोलवेल', 9162: 'बोला', 9163: 'बोलायचं', 9164: 'बोलायचंय', 9165: 'बोलायचा', 9166: 'बोलायची', 9167: 'बोलायचे', 9168: 'बोलायचो', 9169: 'बोलायला', 9170: 'बोलावं', 9171: 'बोलावंसं', 9172: 'बोलावणार', 9173: 'बोलावणारच', 9174: 'बोलावण्यानंतर', 9175: 'बोलावतंय', 9176: 'बोलावते', 9177: 'बोलावतो', 9178: 'बोलावलं', 9179: 'बोलावलंत', 9180: 'बोलावलंस', 9181: 'बोलावली', 9182: 'बोलावले', 9183: 'बोलावीशी', 9184: 'बोलीभाषा', 9185: 'बोलुया', 9186: 'बोलू', 9187: 'बोलून', 9188: 'बोलूया', 9189: 'बोलेन', 9190: 'बोलेल', 9191: 'बोलोन्या', 9192: 'बोळणं', 9193: 'बोळणारी', 9194: 'बोस्टनमध्ये', 9195: 'बोेलला', 9196: 'बौद्ध', 9197: 'बौद्धधर्म', 9198: 'बौद्धधर्माची', 9199: 'ब्याण्णव', 9200: 'ब्रँडची', 9201: 'ब्रँडी', 9202: 'ब्रंच', 9203: 'ब्रटिश', 9204: 'ब्रम्हांडाची', 9205: 'ब्रश', 9206: 'ब्रशने', 9207: 'ब्रह्मांडात', 9208: 'ब्रह्मानंद', 9209: 'ब्रा', 9210: 'ब्राउजर', 9211: 'ब्राउझर', 9212: 'ब्राउझरचा', 9213: 'ब्राउनने', 9214: 'ब्राउनी', 9215: 'ब्राजिलची', 9216: 'ब्राजिलपासून', 9217: 'ब्राजिलला', 9218: 'ब्राजिलहून', 9219: 'ब्राजिलियन', 9220: 'ब्राजील', 9221: 'ब्राझिल', 9222: 'ब्राझिलला', 9223: 'ब्राझील', 9224: 'ब्राझीलची', 9225: 'ब्राझीलपासून', 9226: 'ब्राझीलमधील', 9227: 'ब्रामध्ये', 9228: 'ब्रासिलिया', 9229: 'ब्रिज', 9230: 'ब्रिटन', 9231: 'ब्रिटनकडे', 9232: 'ब्रिटनचा', 9233: 'ब्रिटनची', 9234: 'ब्रिटनने', 9235: 'ब्रिटनपासून', 9236: 'ब्रिटनबरोबर', 9237: 'ब्रिटनमध्ये', 9238: 'ब्रिटनला', 9239: 'ब्रिटिश', 9240: 'ब्रिटिशांना', 9241: 'ब्रिटिशांनी', 9242: 'ब्रिटिशांपेक्षा', 9243: 'ब्रीड्ज', 9244: 'ब्रीफकेस', 9245: 'ब्रुसेल्स', 9246: 'ब्रॅड', 9247: 'ब्रेड', 9248: 'ब्रेडचा', 9249: 'ब्रेडपेक्षा', 9250: 'ब्रेस्ट', 9251: 'ब्रॉकोली', 9252: 'ब्लाँडी', 9253: 'ब्लाउज', 9254: 'ब्लाऊज', 9255: 'ब्लास्को', 9256: 'ब्लीचसारखा', 9257: 'ब्लूग्रास', 9258: 'ब्लॅंकेट', 9259: 'ब्लॅक', 9260: 'ब्लॅकअँडव्हाईटमध्ये', 9261: 'ब्लॅकबेरी', 9262: 'ब्लॅकमेल', 9263: 'ब्लॅकलिस्ट', 9264: 'ब्लॉग', 9265: 'ब्लॉगर', 9266: 'ब्लॉगवर', 9267: 'ब्लोटॉर्च', 9268: 'भंकस', 9269: 'भंडवलाची', 9270: 'भटकत', 9271: 'भटक्या', 9272: 'भडक', 9273: 'भडकवू', 9274: 'भयंकर', 9275: 'भयानक', 9276: 'भर', 9277: 'भरणार', 9278: 'भरण्यात', 9279: 'भरत', 9280: 'भरती', 9281: 'भरते', 9282: 'भरतो', 9283: 'भरपूर', 9284: 'भरलं', 9285: 'भरलंय', 9286: 'भरला', 9287: 'भरली', 9288: 'भरले', 9289: 'भरलेलं', 9290: 'भरलेला', 9291: 'भरलेली', 9292: 'भरल्या', 9293: 'भरल्यावर', 9294: 'भरवत', 9295: 'भरवतं', 9296: 'भरवते', 9297: 'भरवतेय', 9298: 'भरवतेस', 9299: 'भरवतो', 9300: 'भरवतोय', 9301: 'भरवतोस', 9302: 'भरवलं', 9303: 'भरवलंस', 9304: 'भरवला', 9305: 'भरवसा', 9306: 'भरवायला', 9307: 'भरवू', 9308: 'भरा', 9309: 'भरायचे', 9310: 'भरायला', 9311: 'भरायलाच', 9312: 'भराल', 9313: 'भरावा', 9314: 'भरावे', 9315: 'भरू', 9316: 'भरून', 9317: 'भरेन', 9318: 'भरेल', 9319: 'भऱली', 9320: 'भलं', 9321: 'भलतच', 9322: 'भलताच', 9323: 'भल्यासाठीच', 9324: 'भवितव्य', 9325: 'भविष्य', 9326: 'भविष्यवाणी', 9327: 'भविष्याचं', 9328: 'भविष्याचा', 9329: 'भविष्यात', 9330: 'भविष्याबद्दल', 9331: 'भविष्याविषयी', 9332: 'भव्य', 9333: 'भांगडीसाठी', 9334: 'भांडण', 9335: 'भांडणं', 9336: 'भांडण्यात', 9337: 'भांडत', 9338: 'भांडतात', 9339: 'भांडताहेत', 9340: 'भांडते', 9341: 'भांडतो', 9342: 'भांडतोय', 9343: 'भांडले', 9344: 'भांडलो', 9345: 'भांडल्या', 9346: 'भांडवलाची', 9347: 'भांडायचं', 9348: 'भांडायला', 9349: 'भांडी', 9350: 'भांडू', 9351: 'भाऊ', 9352: 'भाऊच', 9353: 'भाऊबहिण', 9354: 'भाऊबहीण', 9355: 'भाकरी', 9356: 'भाग', 9357: 'भागांत', 9358: 'भागांमध्ये', 9359: 'भागाची', 9360: 'भागात', 9361: 'भागेत', 9362: 'भाग्यवान', 9363: 'भाचा', 9364: 'भाची', 9365: 'भाचे', 9366: 'भाच्याचं', 9367: 'भाजला', 9368: 'भाजलेलं', 9369: 'भाजलेल्या', 9370: 'भाजी', 9371: 'भाजून', 9372: 'भाज्या', 9373: 'भाज्यांचा', 9374: 'भाज्यांपेक्षा', 9375: 'भाडं', 9376: 'भाडे', 9377: 'भाड्याने', 9378: 'भाड्यावर', 9379: 'भात', 9380: 'भाताची', 9381: 'भारत', 9382: 'भारताची', 9383: 'भारताच्या', 9384: 'भारतात', 9385: 'भारतातलं', 9386: 'भारतातील', 9387: 'भारताने', 9388: 'भारतापासून', 9389: 'भारतापेक्षा', 9390: 'भारताबद्दल', 9391: 'भारताबद्दलच्या', 9392: 'भारताला', 9393: 'भारतावर', 9394: 'भारतीय', 9395: 'भारतीयांबरोबर', 9396: 'भाले', 9397: 'भाल्याने', 9398: 'भाव', 9399: 'भावना', 9400: 'भावनांविषयी', 9401: 'भावांना', 9402: 'भावाइतका', 9403: 'भावाचं', 9404: 'भावाचा', 9405: 'भावाची', 9406: 'भावाने', 9407: 'भावापेक्षा', 9408: 'भावाला', 9409: 'भावासारखा', 9410: 'भावासारखी', 9411: 'भावासारखे', 9412: 'भाषण', 9413: 'भाषणाच्या', 9414: 'भाषणातील', 9415: 'भाषणाने', 9416: 'भाषणे', 9417: 'भाषा', 9418: 'भाषांचा', 9419: 'भाषांच्या', 9420: 'भाषांतर', 9421: 'भाषांतरकार', 9422: 'भाषांतरित', 9423: 'भाषांमधील', 9424: 'भाषांमध्ये', 9425: 'भाषांविषयी', 9426: 'भाषिकांची', 9427: 'भाषेंचा', 9428: 'भाषेचा', 9429: 'भाषेची', 9430: 'भाषेत', 9431: 'भाषेपासून', 9432: 'भाषेला', 9433: 'भाषेविषयी', 9434: 'भाष्य', 9435: 'भिंत', 9436: 'भिंतींतून', 9437: 'भिंतींना', 9438: 'भिंतीखाली', 9439: 'भिंतीच्या', 9440: 'भिंतीत', 9441: 'भिंतीमागे', 9442: 'भिंतीला', 9443: 'भिंतीवर', 9444: 'भिंतीवरील', 9445: 'भिकारी', 9446: 'भिकार्\\u200dयांना', 9447: 'भिकार्\\u200dयाला', 9448: 'भिजली', 9449: 'भिजले', 9450: 'भिजलेला', 9451: 'भिजवला', 9452: 'भिजशील', 9453: 'भिजाल', 9454: 'भिजू', 9455: 'भिजून', 9456: 'भितरा', 9457: 'भिती', 9458: 'भितो', 9459: 'भित्रा', 9460: 'भित्री', 9461: 'भित्रे', 9462: 'भित्र्या', 9463: 'भी', 9464: 'भीक', 9465: 'भीत', 9466: 'भीती', 9467: 'भीतीने', 9468: 'भुंकणं', 9469: 'भुंकणारे', 9470: 'भुंकत', 9471: 'भुंकतात', 9472: 'भुंकतो', 9473: 'भुंकतोय', 9474: 'भुंकला', 9475: 'भुंकले', 9476: 'भुंकायला', 9477: 'भुंकू', 9478: 'भुकंप', 9479: 'भुकंपात', 9480: 'भुकंपामुळे', 9481: 'भुकलेले', 9482: 'भुकलेलो', 9483: 'भुकेने', 9484: 'भुकेमुळे', 9485: 'भुकेले', 9486: 'भुकेलेलं', 9487: 'भुकेल्या', 9488: 'भुतं', 9489: 'भुतांची', 9490: 'भुतांच्या', 9491: 'भुतांवर', 9492: 'भुयारातून', 9493: 'भुयारी', 9494: 'भूक', 9495: 'भूकंप', 9496: 'भूगोल', 9497: 'भूगोलापेक्षा', 9498: 'भूचर', 9499: 'भूत', 9500: 'भूतकाळात', 9501: 'भूतांचं', 9502: 'भूतांबद्दल', 9503: 'भूतांमध्ये', 9504: 'भूदल', 9505: 'भूप्रदेश', 9506: 'भूमध्य', 9507: 'भूमिका', 9508: 'भेंडीची', 9509: 'भेंड्या', 9510: 'भेट', 9511: 'भेटत', 9512: 'भेटता', 9513: 'भेटतात', 9514: 'भेटते', 9515: 'भेटतो', 9516: 'भेटतोय', 9517: 'भेटला', 9518: 'भेटलात', 9519: 'भेटलास', 9520: 'भेटली', 9521: 'भेटलीस', 9522: 'भेटले', 9523: 'भेटलेलं', 9524: 'भेटलेला', 9525: 'भेटलेले', 9526: 'भेटलेलो', 9527: 'भेटलो', 9528: 'भेटलोय', 9529: 'भेटल्या', 9530: 'भेटवस्तू', 9531: 'भेटा', 9532: 'भेटायचं', 9533: 'भेटायचंय', 9534: 'भेटायला', 9535: 'भेटावं', 9536: 'भेटुया', 9537: 'भेटू', 9538: 'भेटून', 9539: 'भेटूया', 9540: 'भेटेन', 9541: 'भेटेल', 9542: 'भेदभाव', 9543: 'भैकेर', 9544: 'भोक', 9545: 'भोकं', 9546: 'भोवती', 9547: 'भोवतीच्या', 9548: 'भोसकलं', 9549: 'भोसकले', 9550: 'भौतिकवादी', 9551: 'भौतिकशास्त्र', 9552: 'भौतिकशास्त्रज्ञ', 9553: 'भौतिकशास्त्रवेत्ता', 9554: 'भौतिकशास्त्रात', 9555: 'भौतिकीविज्ञ', 9556: 'भ्रमिष्ट', 9557: 'भ्रष्टाचार', 9558: 'भ्रष्टाचारापासून', 9559: 'मँडोलिन', 9560: 'मँडोलिनदेखील', 9561: 'मंकी', 9562: 'मंगळवार', 9563: 'मंगळवारी', 9564: 'मंगळाला', 9565: 'मंगळावर', 9566: 'मंगोलियाची', 9567: 'मंजुरी', 9568: 'मंडळाचा', 9569: 'मंडळाची', 9570: 'मंडळाचे', 9571: 'मंत्रिमंडळाचा', 9572: 'मंत्रिमंडळाचे', 9573: 'मंत्रिमंडळाने', 9574: 'मंत्री', 9575: 'मंत्र्याला', 9576: 'मंदिरं', 9577: 'मंदिरांमधून', 9578: 'मंदिराजवळ', 9579: 'मंदिरात', 9580: 'मंदिराला', 9581: 'मंदीर', 9582: 'मऊ', 9583: 'मकिन्लेला', 9584: 'मक्का', 9585: 'मक्किनलेने', 9586: 'मक्केला', 9587: 'मग', 9588: 'मगरी', 9589: 'मगरीने', 9590: 'मजकूर', 9591: 'मजबूत', 9592: 'मजला', 9593: 'मजली', 9594: 'मजले', 9595: 'मजल्यावर', 9596: 'मजा', 9597: 'मजेशीर', 9598: 'मटण', 9599: 'मटणही', 9600: 'मटर', 9601: 'मठ्ठ', 9602: 'मत', 9603: 'मतं', 9604: 'मतदान', 9605: 'मतदारांना', 9606: 'मते', 9607: 'मत्रिणी', 9608: 'मत्सर', 9609: 'मत्सरी', 9610: 'मद', 9611: 'मदत', 9612: 'मदतही', 9613: 'मदतीची', 9614: 'मदतीशिवाय', 9615: 'मदतीस', 9616: 'मदर', 9617: 'मदर्स', 9618: 'मदिना', 9619: 'मध', 9620: 'मधमाश्या', 9621: 'मधली', 9622: 'मधील', 9623: 'मधून', 9624: 'मधोमध', 9625: 'मध्य', 9626: 'मध्यकालीन', 9627: 'मध्यपूर्व', 9628: 'मध्यपूर्वेत', 9629: 'मध्यपूर्वेतील', 9630: 'मध्यमवर्गीय', 9631: 'मध्ययुगात', 9632: 'मध्यरात्र', 9633: 'मध्यरात्री', 9634: 'मध्यरात्रीपर्यंत', 9635: 'मध्ये', 9636: 'मन', 9637: 'मनरो', 9638: 'मनाचा', 9639: 'मनाची', 9640: 'मनाचे', 9641: 'मनात', 9642: 'मनाने', 9643: 'मनापासून', 9644: 'मनाबाहेर', 9645: 'मनुष्य', 9646: 'मनुष्यांचा', 9647: 'मनोरंजक', 9648: 'मनोरंजन', 9649: 'मनोरंजनाचं', 9650: 'मनोरा', 9651: 'मनोवेधक', 9652: 'मफिन', 9653: 'मम्मा', 9654: 'मम्मी', 9655: 'मर', 9656: 'मरणं', 9657: 'मरणार', 9658: 'मरणारच', 9659: 'मरण्यापेक्षा', 9660: 'मरत', 9661: 'मरतंय', 9662: 'मरतात', 9663: 'मरताना', 9664: 'मरताहेत', 9665: 'मरतील', 9666: 'मरतेय', 9667: 'मरतो', 9668: 'मरतोय', 9669: 'मरशील', 9670: 'मरा', 9671: 'मरायचं', 9672: 'मरायला', 9673: 'मराल', 9674: 'मरीन', 9675: 'मरीला', 9676: 'मरू', 9677: 'मरूच', 9678: 'मरून', 9679: 'मरूनच', 9680: 'मरेन', 9681: 'मरेपर्यंत', 9682: 'मरेल', 9683: 'मर्चंट', 9684: 'मर्जीप्रमाणे', 9685: 'मर्यादा', 9686: 'मर्यादित', 9687: 'मला', 9688: 'मलाच', 9689: 'मलातरी', 9690: 'मलादेखील', 9691: 'मलापण', 9692: 'मलासुद्धा', 9693: 'मलाही', 9694: 'मलेशियापासून', 9695: 'मलेशियामधील', 9696: 'मशरूमचा', 9697: 'मशिदी', 9698: 'मशिदीत', 9699: 'मशिदीवर', 9700: 'मशीन', 9701: 'मशीनचा', 9702: 'मशीनमध्ये', 9703: 'मशीनी', 9704: 'मशीनीत', 9705: 'मसकापाव', 9706: 'मसल', 9707: 'मस्त', 9708: 'मस्तच', 9709: 'मस्तपैकी', 9710: 'मस्तीखोर', 9711: 'महटलेलं', 9712: 'महणून', 9713: 'महत्त्वपूर्ण', 9714: 'महत्त्वाचं', 9715: 'महत्त्वाचा', 9716: 'महत्त्वाची', 9717: 'महत्त्वाचे', 9718: 'महत्त्वाच्या', 9719: 'महाग', 9720: 'महागडं', 9721: 'महागडा', 9722: 'महागडाही', 9723: 'महागडी', 9724: 'महागडे', 9725: 'महागड्या', 9726: 'महान', 9727: 'महापौर', 9728: 'महामार्ग', 9729: 'महामार्गावर', 9730: 'महाराणीचा', 9731: 'महाराष्ट्र', 9732: 'महाल', 9733: 'महालात', 9734: 'महाविद्यालयांच्या', 9735: 'महाविद्यालयात', 9736: 'महाविद्यालयाने', 9737: 'महाशक्ती', 9738: 'महासागर', 9739: 'महासागराच्या', 9740: 'महासागराजवळ', 9741: 'महासागरात', 9742: 'महासागरापाशी', 9743: 'महिना', 9744: 'महिने', 9745: 'महिन्यांचं', 9746: 'महिन्यांचा', 9747: 'महिन्यांची', 9748: 'महिन्यांत', 9749: 'महिन्यांनंतर', 9750: 'महिन्यांनी', 9751: 'महिन्यांपूर्वी', 9752: 'महिन्याचं', 9753: 'महिन्याच्या', 9754: 'महिन्यात', 9755: 'महिन्यातून', 9756: 'महिन्यापासून', 9757: 'महिन्यापूर्वी', 9758: 'महिन्यापूर्वीची', 9759: 'महिन्यापेक्षा', 9760: 'महिन्याला', 9761: 'महिला', 9762: 'महिलेसारखा', 9763: 'महीन्याच्या', 9764: 'मांगूंगी।', 9765: 'मांजर', 9766: 'मांजरांना', 9767: 'मांजरांपेक्षा', 9768: 'मांजरांशी', 9769: 'मांजराच्या', 9770: 'मांजराने', 9771: 'मांजराला', 9772: 'मांजराशी', 9773: 'मांजरी', 9774: 'मांजरींना', 9775: 'मांजरींपेक्षा', 9776: 'मांजरीचं', 9777: 'मांजरीचा', 9778: 'मांजरीची', 9779: 'मांजरीच्या', 9780: 'मांजरीला', 9781: 'मांजरीवर', 9782: 'मांडी', 9783: 'मांडीवर', 9784: 'मांडू', 9785: 'मांस', 9786: 'मांसाचा', 9787: 'मांसाहारी', 9788: 'माइक', 9789: 'माउस', 9790: 'माऊ', 9791: 'माऊस', 9792: 'माओरी', 9793: 'माकड', 9794: 'माकडं', 9795: 'माकडंसुद्धा', 9796: 'माकडांना', 9797: 'माकडांसाठी', 9798: 'माकडाचं', 9799: 'माकडाला', 9800: 'माकडासारखा', 9801: 'माखलेली', 9802: 'माखलेले', 9803: 'माग', 9804: 'मागच्या', 9805: 'मागणार', 9806: 'मागणी', 9807: 'मागण्या', 9808: 'मागत', 9809: 'मागतात', 9810: 'मागतो', 9811: 'मागवतात', 9812: 'मागवतेय', 9813: 'मागवतो', 9814: 'मागवतोय', 9815: 'मागवलं', 9816: 'मागवलंय', 9817: 'मागवला', 9818: 'मागवली', 9819: 'मागवले', 9820: 'मागवलेत', 9821: 'मागवलेस', 9822: 'मागवशील', 9823: 'मागवाल', 9824: 'मागवू', 9825: 'मागवूया', 9826: 'मागवेन', 9827: 'मागवेल', 9828: 'मागायची', 9829: 'मागायला', 9830: 'मागितलं', 9831: 'मागितली', 9832: 'मागितलीत', 9833: 'मागितलीस', 9834: 'मागितले', 9835: 'मागू', 9836: 'मागून', 9837: 'मागे', 9838: 'मागेच', 9839: 'मागेन', 9840: 'मागेमागे', 9841: 'मागोमाग', 9842: 'माघार', 9843: 'माघे', 9844: 'माचिस', 9845: 'माचीस', 9846: 'माझं', 9847: 'माझंही', 9848: 'माझा', 9849: 'माझाच', 9850: 'माझी', 9851: 'माझीच', 9852: 'माझे', 9853: 'माझेच', 9854: 'माझ्या', 9855: 'माझ्याइतका', 9856: 'माझ्याइतकाच', 9857: 'माझ्याइतकी', 9858: 'माझ्याइतके', 9859: 'माझ्याइतक्या', 9860: 'माझ्याएवढाच', 9861: 'माझ्याकडून', 9862: 'माझ्याकडे', 9863: 'माझ्याकडेसुद्धा', 9864: 'माझ्याकडेही', 9865: 'माझ्याच', 9866: 'माझ्याजवळ', 9867: 'माझ्यात', 9868: 'माझ्यानंतर', 9869: 'माझ्यापासून', 9870: 'माझ्यापासूनसुद्धा', 9871: 'माझ्यापुरतं', 9872: 'माझ्यापेक्षा', 9873: 'माझ्यापेक्षाही', 9874: 'माझ्याबद्दल', 9875: 'माझ्याबरोबर', 9876: 'माझ्याबरोबरच', 9877: 'माझ्याबरोबरही', 9878: 'माझ्यामुळे', 9879: 'माझ्यामुळेच', 9880: 'माझ्यावर', 9881: 'माझ्याविरुद्ध', 9882: 'माझ्याशिवाय', 9883: 'माझ्याशी', 9884: 'माझ्यासमोर', 9885: 'माझ्यासाठी', 9886: 'माझ्यासाठीच', 9887: 'माझ्यासारखा', 9888: 'माझ्यासारखाच', 9889: 'माझ्यासारख्या', 9890: 'माझ्यासोबत', 9891: 'माठात', 9892: 'माणसं', 9893: 'माणसांची', 9894: 'माणसांना', 9895: 'माणसांनी', 9896: 'माणसांबरोबर', 9897: 'माणसांमधील', 9898: 'माणसाकडे', 9899: 'माणसाचं', 9900: 'माणसाचा', 9901: 'माणसाची', 9902: 'माणसाचे', 9903: 'माणसाच्या', 9904: 'माणसाने', 9905: 'माणसापेक्षा', 9906: 'माणसाला', 9907: 'माणसावर', 9908: 'माणसाशिवाय', 9909: 'माणसाशी', 9910: 'माणसासाठी', 9911: 'माणसासारखा', 9912: 'माणसे', 9913: 'माणुस', 9914: 'माणूस', 9915: 'माती', 9916: 'मातीचा', 9917: 'मातीत', 9918: 'मातृभाषा', 9919: 'मातृभाषेचा', 9920: 'मात्र', 9921: 'मात्सुएमध्ये', 9922: 'मात्सुयामाला', 9923: 'माध्यमाने', 9924: 'माध्यमिक', 9925: 'मान', 9926: 'मानत', 9927: 'मानता', 9928: 'मानतात', 9929: 'मानते', 9930: 'मानतेस', 9931: 'मानतो', 9932: 'मानतोस', 9933: 'मानली', 9934: 'मानले', 9935: 'मानव', 9936: 'मानवच', 9937: 'मानवतेच्या', 9938: 'मानवाची', 9939: 'मानवी', 9940: 'मानसशास्त्राची', 9941: 'मानसिक', 9942: 'मानसोपचारज्ञ', 9943: 'मानायची', 9944: 'मानायचे', 9945: 'मानिला', 9946: 'मानू', 9947: 'मान्य', 9948: 'मान्यता', 9949: 'माप', 9950: 'माफ', 9951: 'माफ़ी', 9952: 'माफी', 9953: 'मामा', 9954: 'मामांची', 9955: 'मामाचं', 9956: 'मामाची', 9957: 'मामाच्या', 9958: 'मामाने', 9959: 'मामाबरोबर', 9960: 'मामाला', 9961: 'मामासोबत', 9962: 'मामी', 9963: 'मामीने', 9964: 'मामीबरोबर', 9965: 'मामीला', 9966: 'मामीसारखी', 9967: 'मामेबहीण', 9968: 'मामेभाऊ', 9969: 'माय', 9970: 'मायक्रोचिप', 9971: 'मायक्रोफोन', 9972: 'मायक्रोफोनच्या', 9973: 'मायक्रोबायोलॉजिस्ट', 9974: 'मायक्रोव्हेव', 9975: 'मार', 9976: 'मारणं', 9977: 'मारणार', 9978: 'मारण्याइतपत', 9979: 'मारण्याची', 9980: 'मारण्यात', 9981: 'मारत', 9982: 'मारतं', 9983: 'मारतंय', 9984: 'मारता', 9985: 'मारतात', 9986: 'मारताना', 9987: 'मारताहेत', 9988: 'मारतील', 9989: 'मारते', 9990: 'मारतेस', 9991: 'मारतो', 9992: 'मारतोय', 9993: 'मारतोस', 9994: 'मारलं', 9995: 'मारलंत', 9996: 'मारलंस', 9997: 'मारला', 9998: 'मारलास', 9999: 'मारली', 10000: 'मारलीत', 10001: 'मारलीस', 10002: 'मारले', 10003: 'मारलेला', 10004: 'मारल्या', 10005: 'मारा', 10006: 'मारामारी', 10007: 'मारायचं', 10008: 'मारायचा', 10009: 'मारायचो', 10010: 'मारायला', 10011: 'मारू', 10012: 'मारून', 10013: 'मारूया', 10014: 'मारेकरी', 10015: 'मारेन', 10016: 'मारेल', 10017: 'मार्क', 10018: 'मार्कोनीने', 10019: 'मार्ग', 10020: 'मार्गदर्शक', 10021: 'मार्गारिनमधला', 10022: 'मार्गावर', 10023: 'मार्गे', 10024: 'मार्च', 10025: 'मार्मलेडमध्ये', 10026: 'मार्शमॅलो', 10027: 'मालक', 10028: 'मालकाची', 10029: 'मालकाशी', 10030: 'मालकीचं', 10031: 'मालकीचा', 10032: 'मालकीची', 10033: 'मालकीचे', 10034: 'मालकीण', 10035: 'मालाचं', 10036: 'मालिका', 10037: 'माळ', 10038: 'मावळत', 10039: 'मावळतो', 10040: 'मावळला', 10041: 'मावशी', 10042: 'मावशीने', 10043: 'मावशीबरोबर', 10044: 'मावशीला', 10045: 'मावशीसारखी', 10046: 'माशांना', 10047: 'माशी', 10048: 'माश्या', 10049: 'माश्यांना', 10050: 'माश्यांसाठी', 10051: 'माश्याला', 10052: 'मासा', 10053: 'मासिक', 10054: 'मासिकं', 10055: 'मासिकाचा', 10056: 'मासिके', 10057: 'मासे', 10058: 'मासेमारी', 10059: 'मास्क', 10060: 'माहजाँग', 10061: 'माहिती', 10062: 'माहितीची', 10063: 'माहितीमधून', 10064: 'माहितीये', 10065: 'माहितीसाठी', 10066: 'माहीत', 10067: 'माहीतच', 10068: 'माहीतही', 10069: 'माहूत', 10070: 'माहेरी', 10071: 'मिट', 10072: 'मिटतो', 10073: 'मिटले', 10074: 'मिठाची', 10075: 'मिठी', 10076: 'मित्र', 10077: 'मित्रं', 10078: 'मित्रदेश', 10079: 'मित्रमैत्रिणी', 10080: 'मित्रमैत्रिणींकडे', 10081: 'मित्रमैत्रिणींना', 10082: 'मित्रमैत्रिणींबरोबर', 10083: 'मित्रमैत्रिणींशी', 10084: 'मित्रमैत्रीणींबरोबर', 10085: 'मित्रराष्ट्र', 10086: 'मित्रराष्ट्रांना', 10087: 'मित्रराष्ट्रांमध्ये', 10088: 'मित्रराष्ट्रे', 10089: 'मित्रा', 10090: 'मित्रांकडून', 10091: 'मित्रांकडे', 10092: 'मित्रांचा', 10093: 'मित्रांची', 10094: 'मित्रांना', 10095: 'मित्रांनी', 10096: 'मित्रांपेक्षा', 10097: 'मित्रांबरोबर', 10098: 'मित्रांमधला', 10099: 'मित्रांवर', 10100: 'मित्रांशी', 10101: 'मित्रांसोबत', 10102: 'मित्राकडून', 10103: 'मित्राकडे', 10104: 'मित्राचं', 10105: 'मित्राचा', 10106: 'मित्राची', 10107: 'मित्राच्या', 10108: 'मित्राने', 10109: 'मित्राबरोबर', 10110: 'मित्राला', 10111: 'मित्रासाठी', 10112: 'मिनाचान', 10113: 'मिनिट', 10114: 'मिनिटं', 10115: 'मिनिटंच', 10116: 'मिनिटांची', 10117: 'मिनिटांच्या', 10118: 'मिनिटांत', 10119: 'मिनिटांनंतर', 10120: 'मिनिटांपूर्वी', 10121: 'मिनिटांपेक्षा', 10122: 'मिनिटांमध्ये', 10123: 'मिनिटांवर', 10124: 'मिनिटांवरच', 10125: 'मिनिटांसाठी', 10126: 'मिनिटात', 10127: 'मिनिटासाठी', 10128: 'मिनिटे', 10129: 'मिनिफ्रिज', 10130: 'मिनिमाइझ', 10131: 'मिनिस्कर्ट', 10132: 'मिनीट', 10133: 'मिनीटं', 10134: 'मिनेसॉटाचा', 10135: 'मिन्सपाय', 10136: 'मिरी', 10137: 'मिलर', 10138: 'मिलरने', 10139: 'मिळणार', 10140: 'मिळत', 10141: 'मिळतं', 10142: 'मिळतात', 10143: 'मिळतील', 10144: 'मिळते', 10145: 'मिळवणं', 10146: 'मिळवत', 10147: 'मिळवलं', 10148: 'मिळवलंय', 10149: 'मिळवले', 10150: 'मिळवायला', 10151: 'मिळवून', 10152: 'मिळायचे', 10153: 'मिळालं', 10154: 'मिळालंच', 10155: 'मिळाला', 10156: 'मिळाली', 10157: 'मिळाले', 10158: 'मिळालेलं', 10159: 'मिळालेला', 10160: 'मिळालेल्या', 10161: 'मिळाल्या', 10162: 'मिळाल्याबरोबरच', 10163: 'मिळाल्यावर', 10164: 'मिळाल्यास', 10165: 'मिळू', 10166: 'मिळेल', 10167: 'मिशिगनमध्ये', 10168: 'मिशी', 10169: 'मिसळ', 10170: 'मिसळत', 10171: 'मिसळतोय', 10172: 'मिसळा', 10173: 'मिसळून', 10174: 'मिसिसिपीला', 10175: 'मिसो', 10176: 'मी', 10177: 'मीच', 10178: 'मीटर', 10179: 'मीटिंग', 10180: 'मीटिंगला', 10181: 'मीटिंगसाठी', 10182: 'मीठ', 10183: 'मीडिया', 10184: 'मीदेखील', 10185: 'मीसुद्धा', 10186: 'मीही', 10187: 'मुंग्या', 10188: 'मुंबई', 10189: 'मुकुट', 10190: 'मुकूट', 10191: 'मुक्काम', 10192: 'मुक्त', 10193: 'मुखवटा', 10194: 'मुखवटे', 10195: 'मुख्य', 10196: 'मुख्यालय', 10197: 'मुझे', 10198: 'मुठभर', 10199: 'मुदत', 10200: 'मुद्दा', 10201: 'मुद्दामून', 10202: 'मुद्द्यांमधून', 10203: 'मुद्द्याकडे', 10204: 'मुद्द्यावर', 10205: 'मुद्रण', 10206: 'मुरगळला', 10207: 'मुलं', 10208: 'मुलंसुद्धा', 10209: 'मुलगा', 10210: 'मुलगामुलगी', 10211: 'मुलगी', 10212: 'मुलांचं', 10213: 'मुलांची', 10214: 'मुलांचे', 10215: 'मुलांच्या', 10216: 'मुलांना', 10217: 'मुलांनादेखील', 10218: 'मुलांनासुद्धा', 10219: 'मुलांनी', 10220: 'मुलांनो', 10221: 'मुलांपेक्षा', 10222: 'मुलांबरोबर', 10223: 'मुलांमधला', 10224: 'मुलांमध्ये', 10225: 'मुलांवर', 10226: 'मुलांशी', 10227: 'मुलांसमोर', 10228: 'मुलांसाठी', 10229: 'मुलाकडे', 10230: 'मुलाखत', 10231: 'मुलाचं', 10232: 'मुलाचा', 10233: 'मुलाची', 10234: 'मुलाचे', 10235: 'मुलाच्या', 10236: 'मुलाने', 10237: 'मुलाबरोबर', 10238: 'मुलाला', 10239: 'मुलावर', 10240: 'मुलाशी', 10241: 'मुलासाठी', 10242: 'मुलासारखं', 10243: 'मुलासारखा', 10244: 'मुलासारखी', 10245: 'मुलासारखे', 10246: 'मुलासोबत', 10247: 'मुली', 10248: 'मुलींकडे', 10249: 'मुलींची', 10250: 'मुलींना', 10251: 'मुलींनो', 10252: 'मुलींपैकी', 10253: 'मुलींबरोबर', 10254: 'मुलींसाठी', 10255: 'मुलींसारखी', 10256: 'मुलीचं', 10257: 'मुलीचा', 10258: 'मुलीची', 10259: 'मुलीचे', 10260: 'मुलीच्या', 10261: 'मुलीने', 10262: 'मुलीपासनं', 10263: 'मुलीपासून', 10264: 'मुलीपेक्षा', 10265: 'मुलीबद्दल', 10266: 'मुलीबरोबर', 10267: 'मुलीला', 10268: 'मुलीवर', 10269: 'मुलीशी', 10270: 'मुलीसाठी', 10271: 'मुलीसारखं', 10272: 'मुलीसारखा', 10273: 'मुलीसारखी', 10274: 'मुलीसारखे', 10275: 'मुलीसारख्या', 10276: 'मुले', 10277: 'मुलेबाळे', 10278: 'मुळीच', 10279: 'मुळे', 10280: 'मुसलमान', 10281: 'मुसलमानांचं', 10282: 'मुसळधार', 10283: 'मुस्लिम', 10284: 'मुहम्मद', 10285: 'मूड', 10286: 'मूडमध्ये', 10287: 'मूर्ख', 10288: 'मूर्खच', 10289: 'मूर्खपणा', 10290: 'मूर्खपणासाठी', 10291: 'मूर्खा', 10292: 'मूर्खासारखं', 10293: 'मूर्खासारखा', 10294: 'मूर्खासारखी', 10295: 'मूर्खासारखे', 10296: 'मूर्खासारख्या', 10297: 'मूर्ती', 10298: 'मूर्त्या', 10299: 'मूल', 10300: 'मूलतः', 10301: 'मूलसुद्धा', 10302: 'मूलाला', 10303: 'मूली', 10304: 'मूल्ट्री', 10305: 'मूल्ट्रीमध्ये', 10306: 'मूळतः', 10307: 'मृत', 10308: 'मृत्युदंड', 10309: 'मृत्यू', 10310: 'मृत्यूची', 10311: 'मृत्यूनंतर', 10312: 'मृत्यूबाबत', 10313: 'मृत्यूला', 10314: 'मृत्यूशी', 10315: 'मृत्यूसाठी', 10316: 'मृदहीन', 10317: 'मॅकरोनीअँडचीझ', 10318: 'मॅग्नेटिक', 10319: 'मॅच', 10320: 'मॅनिक्युरिस्ट', 10321: 'मॅनेजमेंट', 10322: 'मॅनेजर', 10323: 'मॅनेजरशी', 10324: 'मॅन्युअल', 10325: 'मॅरथॉन', 10326: 'मॅरिलिन', 10327: 'मॅरी', 10328: 'मॅरीकडे', 10329: 'मॅरीच्या', 10330: 'मॅरीला', 10331: 'मॅरेज', 10332: 'मॅश्ड', 10333: 'मॅसेच्युसेट्समध्ये', 10334: 'मे', 10335: 'मेंढी', 10336: 'मेंढ्या', 10337: 'मेंढ्यांनी', 10338: 'मेइजिचं', 10339: 'मेकअप', 10340: 'मेकॅनिक', 10341: 'मेकॅनिककडून', 10342: 'मेकॅनिकल', 10343: 'मेक्सिकन', 10344: 'मेक्सिको', 10345: 'मेक्सिकोचा', 10346: 'मेक्सिकोची', 10347: 'मेक्सिकोत', 10348: 'मेक्सिकोमध्ये', 10349: 'मेक्सिकोला', 10350: 'मेक्सिकोविरुद्ध', 10351: 'मेगानेबाशी', 10352: 'मेगुरोमध्ये', 10353: 'मेटल', 10354: 'मेड्रिड', 10355: 'मेणबत्ती', 10356: 'मेणबत्तीचा', 10357: 'मेणबत्तीला', 10358: 'मेणबत्त्या', 10359: 'मेन्यू', 10360: 'मेपासून', 10361: 'मेमध्ये', 10362: 'मेमो', 10363: 'मेयर', 10364: 'मेरी', 10365: 'मेरींच्या', 10366: 'मेरींना', 10367: 'मेरीकडून', 10368: 'मेरीकडे', 10369: 'मेरीच', 10370: 'मेरीचं', 10371: 'मेरीचंही', 10372: 'मेरीचा', 10373: 'मेरीची', 10374: 'मेरीचे', 10375: 'मेरीच्या', 10376: 'मेरीजवळ', 10377: 'मेरीजितका', 10378: 'मेरीत', 10379: 'मेरीनंतर', 10380: 'मेरीने', 10381: 'मेरीपासून', 10382: 'मेरीपेक्षा', 10383: 'मेरीबद्दल', 10384: 'मेरीबरोबर', 10385: 'मेरीमध्ये', 10386: 'मेरीला', 10387: 'मेरीवर', 10388: 'मेरीविषयी', 10389: 'मेरीशिवाय', 10390: 'मेरीशी', 10391: 'मेरीशीच', 10392: 'मेरीसमोर', 10393: 'मेरीसहित', 10394: 'मेरीसाठी', 10395: 'मेरीसोबत', 10396: 'मेरीही', 10397: 'मेलं', 10398: 'मेला', 10399: 'मेलाच', 10400: 'मेलाय', 10401: 'मेली', 10402: 'मेले', 10403: 'मेलेलं', 10404: 'मेलेला', 10405: 'मेलेली', 10406: 'मेलेले', 10407: 'मेलो', 10408: 'मेलोय', 10409: 'मेल्या', 10410: 'मेसेज', 10411: 'मेसोपोटेमियामध्ये', 10412: 'मेहनत', 10413: 'मेहनती', 10414: 'मेहनतीची', 10415: 'मेहनतीने', 10416: 'मेहनतीला', 10417: 'मेहेरबानी', 10418: 'मैं', 10419: 'मैत्रिण', 10420: 'मैत्रिणी', 10421: 'मैत्रिणींकडे', 10422: 'मैत्रिणींची', 10423: 'मैत्रिणींना', 10424: 'मैत्रिणींबरोबर', 10425: 'मैत्रिणींवर', 10426: 'मैत्रिणींशी', 10427: 'मैत्रिणीकडून', 10428: 'मैत्रिणीचं', 10429: 'मैत्रिणीचा', 10430: 'मैत्रिणीने', 10431: 'मैत्रिणीला', 10432: 'मैत्री', 10433: 'मैत्रीची', 10434: 'मैत्रीण', 10435: 'मैत्रीणी', 10436: 'मैत्रीपेक्षा', 10437: 'मैदानांच्या', 10438: 'मैदानात', 10439: 'मैदानावर', 10440: 'मैदानी', 10441: 'मैल', 10442: 'मैलमध्ये', 10443: 'मैलात', 10444: 'मॉडेल', 10445: 'मॉडेलला', 10446: 'मॉनरोच्या', 10447: 'मॉनरोला', 10448: 'मॉरमॉन', 10449: 'मॉरोकोची', 10450: 'मॉरोक्कोत', 10451: 'मॉरोक्कोमध्ये', 10452: 'मॉर्फिन', 10453: 'मॉर्मनांनी', 10454: 'मॉलला', 10455: 'मोकळा', 10456: 'मोकळी', 10457: 'मोकळे', 10458: 'मोकळ्या', 10459: 'मोकळ्याने', 10460: 'मोज', 10461: 'मोजणार', 10462: 'मोजणी', 10463: 'मोजत', 10464: 'मोजता', 10465: 'मोजतोय', 10466: 'मोजले', 10467: 'मोजा', 10468: 'मोजायचं', 10469: 'मोजू', 10470: 'मोजे', 10471: 'मोज्यात', 10472: 'मोटर', 10473: 'मोटरमध्ये', 10474: 'मोटरसायकल', 10475: 'मोटारसायकल', 10476: 'मोटारसायकलवर', 10477: 'मोटारसायकलीवर', 10478: 'मोठं', 10479: 'मोठमोठे', 10480: 'मोठा', 10481: 'मोठाही', 10482: 'मोठी', 10483: 'मोठे', 10484: 'मोठ्ठा', 10485: 'मोठ्या', 10486: 'मोठ्यांशी', 10487: 'मोठ्याने', 10488: 'मोडत', 10489: 'मोडलं', 10490: 'मोडला', 10491: 'मोडली', 10492: 'मोडले', 10493: 'मोडलेत', 10494: 'मोडलेस', 10495: 'मोडवर', 10496: 'मोती', 10497: 'मोत्यांचा', 10498: 'मोना', 10499: 'मोनिका', 10500: 'मोनॉपोली', 10501: 'मोन्टकामने', 10502: 'मोन्ते', 10503: 'मोफत', 10504: 'मोबाइल', 10505: 'मोबाइलवरून', 10506: 'मोबाईल', 10507: 'मोबाईलवर', 10508: 'मोहक', 10509: 'मोहम्मद', 10510: 'मोहिमेत', 10511: 'मौल्यवान', 10512: 'म्युझियमला', 10513: 'म्हटलं', 10514: 'म्हटलंत', 10515: 'म्हटलंस', 10516: 'म्हटली', 10517: 'म्हटले', 10518: 'म्हटलेलं', 10519: 'म्हटलेलंच', 10520: 'म्हण', 10521: 'म्हणजे', 10522: 'म्हणजेच', 10523: 'म्हणणं', 10524: 'म्हणणार', 10525: 'म्हणणारच', 10526: 'म्हणत', 10527: 'म्हणतं', 10528: 'म्हणता', 10529: 'म्हणतात', 10530: 'म्हणतायत', 10531: 'म्हणताहेत', 10532: 'म्हणते', 10533: 'म्हणतेय', 10534: 'म्हणतेस', 10535: 'म्हणतो', 10536: 'म्हणतोय', 10537: 'म्हणतोयस', 10538: 'म्हणतोयेस', 10539: 'म्हणतोस', 10540: 'म्हणशील', 10541: 'म्हणा', 10542: 'म्हणायचं', 10543: 'म्हणायचा', 10544: 'म्हणायचे', 10545: 'म्हणायचो', 10546: 'म्हणायला', 10547: 'म्हणाल', 10548: 'म्हणालं', 10549: 'म्हणाला', 10550: 'म्हणालात', 10551: 'म्हणालास', 10552: 'म्हणाली', 10553: 'म्हणालीस', 10554: 'म्हणाले', 10555: 'म्हणालो', 10556: 'म्हणाल्या', 10557: 'म्हणावं', 10558: 'म्हणी', 10559: 'म्हणू', 10560: 'म्हणून', 10561: 'म्हणूनच', 10562: 'म्हणेन', 10563: 'म्हणेल', 10564: 'म्हातारा', 10565: 'म्हातारी', 10566: 'म्हातारे', 10567: 'म्हातार्\\u200dया', 10568: 'म्हातार्\\u200dयाशी', 10569: 'यंत्र', 10570: 'यंत्रमानवांनी', 10571: 'यंत्रांना', 10572: 'यंत्राचा', 10573: 'यद्धात', 10574: 'यश', 10575: 'यशस्वी', 10576: 'यशाची', 10577: 'यशाचे', 10578: 'यशाने', 10579: 'यहुदी', 10580: 'या', 10581: 'यांचं', 10582: 'यांचा', 10583: 'यांची', 10584: 'यांचे', 10585: 'यांच्या', 10586: 'यांत्रिक', 10587: 'यांना', 10588: 'यांनी', 10589: 'यांमध्ये', 10590: 'याआधी', 10591: 'याइतकं', 10592: 'याएसु', 10593: 'याकितोरि', 10594: 'याक्षणी', 10595: 'याच', 10596: 'याचं', 10597: 'याचा', 10598: 'याची', 10599: 'याचीच', 10600: 'याचे', 10601: 'याच्यात', 10602: 'याच्यातून', 10603: 'याच्यावर', 10604: 'याच्याशी', 10605: 'यात', 10606: 'यातलं', 10607: 'यातली', 10608: 'यातले', 10609: 'यातल्या', 10610: 'यात्रा', 10611: 'यादवी', 10612: 'यादी', 10613: 'यादीकडे', 10614: 'यादीच्या', 10615: 'यादीत', 10616: 'यादीतले', 10617: 'यादीतील', 10618: 'यादीतून', 10619: 'यादीबद्दल', 10620: 'यादीबाबत', 10621: 'यादीवर', 10622: 'यादीवरचं', 10623: 'यादीवरून', 10624: 'यानंतर', 10625: 'याने', 10626: 'यापुढे', 10627: 'यापुर्वीच', 10628: 'यापेक्षा', 10629: 'याप्रकारे', 10630: 'याबद्दल', 10631: 'याबाबत', 10632: 'याबाबतीत', 10633: 'यायचं', 10634: 'यायचंय', 10635: 'यायच़ं', 10636: 'यायचा', 10637: 'यायची', 10638: 'यायचे', 10639: 'यायचो', 10640: 'यायच्या', 10641: 'यायला', 10642: 'यायलाच', 10643: 'यार', 10644: 'याल', 10645: 'याला', 10646: 'यावं', 10647: 'यावंसं', 10648: 'यावर', 10649: 'यावरून', 10650: 'याविषयी', 10651: 'यावी', 10652: 'यावेळी', 10653: 'याशिवाय', 10654: 'यासाठी', 10655: 'यीस्टचा', 10656: 'युआन', 10657: 'युएफओ', 10658: 'युएसएची', 10659: 'युक्रेनची', 10660: 'युक्रेनमधील', 10661: 'युटामध्ये', 10662: 'युद्ध', 10663: 'युद्धं', 10664: 'युद्धभूमीवर', 10665: 'युद्धविराम', 10666: 'युद्धाचं', 10667: 'युद्धाचा', 10668: 'युद्धाची', 10669: 'युद्धाच्या', 10670: 'युद्धात', 10671: 'युद्धातून', 10672: 'युद्धानंतर', 10673: 'युद्धाने', 10674: 'युद्धापेक्षा', 10675: 'युद्धाबद्दल', 10676: 'युद्धाविरुद्ध', 10677: 'युनाइटेड', 10678: 'युनायटेड', 10679: 'युनिफॉर्म', 10680: 'युनियन', 10681: 'युरो', 10682: 'युरोप', 10683: 'युरोपचा', 10684: 'युरोपची', 10685: 'युरोपच्या', 10686: 'युरोपमधलं', 10687: 'युरोपमधील', 10688: 'युरोपमध्ये', 10689: 'युरोपला', 10690: 'युरोपात', 10691: 'युरोपियन', 10692: 'युलसीझ', 10693: 'यू', 10694: 'यूआरएल', 10695: 'यूएफओ', 10696: 'यूएसएच्या', 10697: 'यूएसच्या', 10698: 'यूएसबी', 10699: 'यूटर्न', 10700: 'यूट्यूबवर', 10701: 'यूट्यूबवरील', 10702: 'यूरोपमध्ये', 10703: 'ये', 10704: 'येइल', 10705: 'येईन', 10706: 'येईना', 10707: 'येईपर्यंत', 10708: 'येईल', 10709: 'येईलच', 10710: 'येऊ', 10711: 'येऊन', 10712: 'येऊया', 10713: 'येणं', 10714: 'येणार', 10715: 'येणारा', 10716: 'येणारी', 10717: 'येणार्\\u200dया', 10718: 'येण्याआधी', 10719: 'येण्याचं', 10720: 'येण्याची', 10721: 'येण्याचे', 10722: 'येण्यासाठी', 10723: 'येण्यासारखं', 10724: 'येण्यासारखा', 10725: 'येण्यासारखी', 10726: 'येत', 10727: 'येतं', 10728: 'येतंय', 10729: 'येतच', 10730: 'येता', 10731: 'येतात', 10732: 'येतातच', 10733: 'येताना', 10734: 'येतायत', 10735: 'येताहेत', 10736: 'येतिल', 10737: 'येतील', 10738: 'येते', 10739: 'येतेय', 10740: 'येतेस', 10741: 'येतो', 10742: 'येतोय', 10743: 'येतोस', 10744: 'येत्या', 10745: 'येथील', 10746: 'येथे', 10747: 'येथेच', 10748: 'येन', 10749: 'येनची', 10750: 'येनला', 10751: 'येनांने', 10752: 'येमेन', 10753: 'येरेवान', 10754: 'येलोस्टोन', 10755: 'येशील', 10756: 'येशू', 10757: 'येशूचा', 10758: 'येशूच्या', 10759: 'येशूला', 10760: 'यॉर्क', 10761: 'योगदान', 10762: 'योगायोग', 10763: 'योगायोगांवर', 10764: 'योगायोगाने', 10765: 'योगासन', 10766: 'योग्य', 10767: 'योजना', 10768: 'योजनांबद्दल', 10769: 'योजनेचा', 10770: 'योजनेत', 10771: 'योजनेला', 10772: 'योजनेविरुद्ध', 10773: 'रंग', 10774: 'रंगवणार', 10775: 'रंगवते', 10776: 'रंगवतो', 10777: 'रंगवतोय', 10778: 'रंगवलं', 10779: 'रंगवली', 10780: 'रंगवलेलं', 10781: 'रंगवायला', 10782: 'रंगवू', 10783: 'रंगवून', 10784: 'रंगांधळा', 10785: 'रंगाचं', 10786: 'रंगाचा', 10787: 'रंगाची', 10788: 'रंगाचे', 10789: 'रंगाच्या', 10790: 'रंगाने', 10791: 'रंगीत', 10792: 'रक्कम', 10793: 'रक्त', 10794: 'रक्तगट', 10795: 'रक्तच', 10796: 'रक्तदान', 10797: 'रक्तपात', 10798: 'रक्ताचा', 10799: 'रक्ताची', 10800: 'रक्षक', 10801: 'रक्षण', 10802: 'रक्षा', 10803: 'रग', 10804: 'रगबी', 10805: 'रग्बी', 10806: 'रचना', 10807: 'रचनाकार', 10808: 'रजिस्टरमध्ये', 10809: 'रड', 10810: 'रडणं', 10811: 'रडणार', 10812: 'रडण्यापेक्षा', 10813: 'रडण्यामुळे', 10814: 'रडण्याशिवाय', 10815: 'रडण्यासारखं', 10816: 'रडत', 10817: 'रडतंय', 10818: 'रडतच', 10819: 'रडतरडत', 10820: 'रडतात', 10821: 'रडताना', 10822: 'रडताय', 10823: 'रडताहेत', 10824: 'रडते', 10825: 'रडतेय', 10826: 'रडतेयस', 10827: 'रडतो', 10828: 'रडतोय', 10829: 'रडतोयस', 10830: 'रडलं', 10831: 'रडला', 10832: 'रडलाही', 10833: 'रडली', 10834: 'रडले', 10835: 'रडलो', 10836: 'रडल्या', 10837: 'रडल्याशिवाय', 10838: 'रडवत', 10839: 'रडवलं', 10840: 'रडवेन', 10841: 'रडायचं', 10842: 'रडायला', 10843: 'रडार', 10844: 'रडावसं', 10845: 'रडू', 10846: 'रडून', 10847: 'रडूनरडून', 10848: 'रडेल', 10849: 'रड्या', 10850: 'रणगाडा', 10851: 'रत्ने', 10852: 'रथ', 10853: 'रद्द', 10854: 'रन', 10855: 'रबर', 10856: 'रबात', 10857: 'रब्बी', 10858: 'रमजान', 10859: 'रविवार', 10860: 'रविवारचा', 10861: 'रविवारी', 10862: 'रशियन', 10863: 'रशियनसुद्धा', 10864: 'रशियनांनी', 10865: 'रशिया', 10866: 'रशियाचा', 10867: 'रशियात', 10868: 'रशियातलं', 10869: 'रशियातील', 10870: 'रशियाने', 10871: 'रशियाला', 10872: 'रस', 10873: 'रसत्यात', 10874: 'रस्ता', 10875: 'रस्ते', 10876: 'रस्त्यांमध्ये', 10877: 'रस्त्याच्या', 10878: 'रस्त्यात', 10879: 'रस्त्यावर', 10880: 'रस्त्यावरचं', 10881: 'रस्त्यावरच्या', 10882: 'रस्सा', 10883: 'रहस्य', 10884: 'रहस्यकथा', 10885: 'रहा', 10886: 'रहाण्यात', 10887: 'रहायचं', 10888: 'रहायचंय', 10889: 'रहायचा', 10890: 'रहायची', 10891: 'रहायचे', 10892: 'रहायचो', 10893: 'रहायला', 10894: 'रहाल', 10895: 'रहावं', 10896: 'रहावे', 10897: 'रहिवासी', 10898: 'राँग', 10899: 'रांगता', 10900: 'रांगा', 10901: 'रांगायला', 10902: 'रांगेच्या', 10903: 'रांगेत', 10904: 'राइट', 10905: 'राइस', 10906: 'राईस', 10907: 'राक्षस', 10908: 'राग', 10909: 'रागवण्यासाठी', 10910: 'रागवत', 10911: 'रागवतील', 10912: 'रागवला', 10913: 'रागवलेला', 10914: 'रागवलेलास', 10915: 'रागवलेली', 10916: 'रागवलेलीस', 10917: 'रागवलेले', 10918: 'रागवलेलो', 10919: 'रागवायचं', 10920: 'रागवायचा', 10921: 'रागवायला', 10922: 'रागवू', 10923: 'रागवून', 10924: 'रागवेन', 10925: 'रागवेल', 10926: 'रागाने', 10927: 'रागारागात', 10928: 'रागारागाने', 10929: 'रागावलं', 10930: 'रागावला', 10931: 'रागावलात', 10932: 'रागावलास', 10933: 'रागावली', 10934: 'रागावलीस', 10935: 'रागावले', 10936: 'रागावलेलं', 10937: 'रागावलेला', 10938: 'रागावलेली', 10939: 'रागावलेले', 10940: 'रागावलेलो', 10941: 'रागावलेल्या', 10942: 'रागावलो', 10943: 'रागावल्या', 10944: 'रागावल्यावर', 10945: 'रागावू', 10946: 'राज', 10947: 'राजकन्या', 10948: 'राजकन्येला', 10949: 'राजकारण', 10950: 'राजकारणात', 10951: 'राजकारणाबद्दल', 10952: 'राजकारणाबाबत', 10953: 'राजकारणी', 10954: 'राजकारणींवर', 10955: 'राजकीय', 10956: 'राजदूताला', 10957: 'राजधानी', 10958: 'राजधानीचा', 10959: 'राजनैतिक', 10960: 'राजपुत्र', 10961: 'राजवंश', 10962: 'राजा', 10963: 'राजांसारखे', 10964: 'राजाकडून', 10965: 'राजाध्यक्षाने', 10966: 'राजाने', 10967: 'राजाराणी', 10968: 'राजाला', 10969: 'राजी', 10970: 'राजीनामा', 10971: 'राजे', 10972: 'राजेशाही', 10973: 'राज्य', 10974: 'राज्यकर्ते', 10975: 'राज्यपाल', 10976: 'राज्याचा', 10977: 'राज्याची', 10978: 'राज्यात', 10979: 'राज्याध्यक्ष', 10980: 'राज्यासाठी', 10981: 'राज्ये', 10982: 'राणी', 10983: 'राण्या', 10984: 'रातकिडा', 10985: 'रातकिड्याइकताच', 10986: 'रात्र', 10987: 'रात्रंदिवस', 10988: 'रात्रभर', 10989: 'रात्रभरात', 10990: 'रात्री', 10991: 'रात्रीचं', 10992: 'रात्रीची', 10993: 'रात्रीचे', 10994: 'रात्रीच्या', 10995: 'रात्रीपर्यंत', 10996: 'रात्रीसाठी', 10997: 'रामेन', 10998: 'रायफल', 10999: 'रायफलने', 11000: 'राशीचा', 11001: 'राष्ट्र', 11002: 'राष्ट्रगीत', 11003: 'राष्ट्रध्वज', 11004: 'राष्ट्रपतींनी', 11005: 'राष्ट्रभाषा', 11006: 'राष्ट्राच्या', 11007: 'राष्ट्रात', 11008: 'राष्ट्राध्यक्ष', 11009: 'राष्ट्राध्यक्षांची', 11010: 'राष्ट्राध्यक्षाने', 11011: 'राष्ट्रीय', 11012: 'रासायनिक', 11013: 'राहणं', 11014: 'राहणार', 11015: 'राहणारा', 11016: 'राहणारी', 11017: 'राहणारे', 11018: 'राहणार्\\u200dया', 11019: 'राहणार्\\u200dयांनी', 11020: 'राहणी', 11021: 'राहण्याची', 11022: 'राहण्यात', 11023: 'राहत', 11024: 'राहतं', 11025: 'राहता', 11026: 'राहतात', 11027: 'राहतायत', 11028: 'राहताहेत', 11029: 'राहते', 11030: 'राहतेय', 11031: 'राहतेस', 11032: 'राहतो', 11033: 'राहतोय', 11034: 'राहतोस', 11035: 'राहशील', 11036: 'राहा', 11037: 'राहायचं', 11038: 'राहायचंय', 11039: 'राहायचय', 11040: 'राहायचा', 11041: 'राहायचास', 11042: 'राहायची', 11043: 'राहायचीस', 11044: 'राहायचे', 11045: 'राहायचो', 11046: 'राहायला', 11047: 'राहाल', 11048: 'राहावे', 11049: 'राहिलं', 11050: 'राहिला', 11051: 'राहिलात', 11052: 'राहिलास', 11053: 'राहिली', 11054: 'राहिलीस', 11055: 'राहिले', 11056: 'राहिलेलं', 11057: 'राहिलेली', 11058: 'राहिलो', 11059: 'राहिल्या', 11060: 'राहील', 11061: 'राहू', 11062: 'राहून', 11063: 'राहूया', 11064: 'राहेन', 11065: 'राहेल', 11066: 'रिओ', 11067: 'रिकामं', 11068: 'रिकामंच', 11069: 'रिकामा', 11070: 'रिकामी', 11071: 'रिकामीच', 11072: 'रिकाम्या', 11073: 'रिचार्जेबल', 11074: 'रिजला', 11075: 'रिझवलं', 11076: 'रिपबलिकन', 11077: 'रिपब्लिकन', 11078: 'रिपब्लिकनांनी', 11079: 'रिपोर्ट', 11080: 'रिमोट', 11081: 'रिव्हर', 11082: 'रिव्हॉल्व्हरने', 11083: 'रिसाय्कल', 11084: 'रिसीट', 11085: 'रिसोट्टो', 11086: 'रीइन्स्टॉल', 11087: 'रीट्वीट', 11088: 'रीलोड', 11089: 'रुंद', 11090: 'रुग्ण', 11091: 'रुग्णवाहिका', 11092: 'रुग्णांना', 11093: 'रुग्णाने', 11094: 'रुग्णालय', 11095: 'रुग्णालयात', 11096: 'रुग्णालयाला', 11097: 'रुपये', 11098: 'रुबिकॉन', 11099: 'रुबी', 11100: 'रुमाल', 11101: 'रुमालाची', 11102: 'रुमालाने', 11103: 'रुमालावर', 11104: 'रूजवेल्टचं', 11105: 'रूजवेल्टनी', 11106: 'रूझव्हेल्ट', 11107: 'रूट', 11108: 'रूप', 11109: 'रूपाने', 11110: 'रूममध्ये', 11111: 'रूममेट', 11112: 'रॅकून', 11113: 'रॅकेट', 11114: 'रॅप', 11115: 'रॅपर', 11116: 'रॅम', 11117: 'रे', 11118: 'रेअर', 11119: 'रेकॉर्ड', 11120: 'रेकॉर्डर', 11121: 'रेगे', 11122: 'रेझर', 11123: 'रेझोनन्स', 11124: 'रेड', 11125: 'रेडनेक', 11126: 'रेडिओ', 11127: 'रेडिओचा', 11128: 'रेडिओच्या', 11129: 'रेडिओवर', 11130: 'रेडियमचा', 11131: 'रेडियो', 11132: 'रेडियोचा', 11133: 'रेडियोवर', 11134: 'रेडीओचा', 11135: 'रेणुचा', 11136: 'रेणूची', 11137: 'रेनकोट', 11138: 'रेनकोटमधली', 11139: 'रेमिंग्टनने', 11140: 'रेल्वेला', 11141: 'रेशमी', 11142: 'रेषेच्या', 11143: 'रेसिपी', 11144: 'रेस्टॉरंट', 11145: 'रेस्टॉरंटचं', 11146: 'रेस्टॉरंटमधलं', 11147: 'रेस्टॉरंटमध्ये', 11148: 'रेस्टॉरंटला', 11149: 'रेस्टॉरन्ट', 11150: 'रॉक', 11151: 'रॉकेट', 11152: 'रॉकेफेलर', 11153: 'रॉजर', 11154: 'रॉयल', 11155: 'रोग', 11156: 'रोज', 11157: 'रोजच', 11158: 'रोजचं', 11159: 'रोजचंच', 11160: 'रोजच्या', 11161: 'रोपवाटिकेत', 11162: 'रोबोट', 11163: 'रोम', 11164: 'रोमन', 11165: 'रोमनांने', 11166: 'रोममध्ये', 11167: 'रोमानिया', 11168: 'रोमानियाची', 11169: 'रोल', 11170: 'रोलर', 11171: 'रोलरस्केट', 11172: 'रोल्सरॉय्स', 11173: 'र्\\u200dहाइनवेस्टफालिया', 11174: 'लँडलाईन', 11175: 'लंगडत', 11176: 'लंडन', 11177: 'लंडनची', 11178: 'लंडनच्या', 11179: 'लंडनमधील', 11180: 'लंडनमधून', 11181: 'लंडनमध्ये', 11182: 'लंडनला', 11183: 'लक्झेंबर्ग', 11184: 'लक्ष', 11185: 'लक्षणे', 11186: 'लक्षही', 11187: 'लक्षात', 11188: 'लक्ष्य', 11189: 'लक्ष्यात', 11190: 'लक्ष्यातही', 11191: 'लगेच', 11192: 'लगेचच', 11193: 'लग्न', 11194: 'लग्नाचा', 11195: 'लग्नाची', 11196: 'लग्नात', 11197: 'लग्नाला', 11198: 'लग्नासाठी', 11199: 'लघुकथा', 11200: 'लटकवलं', 11201: 'लटकवले', 11202: 'लढ', 11203: 'लढणार', 11204: 'लढण्याशिवाय', 11205: 'लढत', 11206: 'लढतायेत', 11207: 'लढतालढता', 11208: 'लढतोय', 11209: 'लढला', 11210: 'लढली', 11211: 'लढले', 11212: 'लढलेले', 11213: 'लढलो', 11214: 'लढल्या', 11215: 'लढा', 11216: 'लढाई', 11217: 'लढाईत', 11218: 'लढाईवर', 11219: 'लढाईसाठी', 11220: 'लढायचं', 11221: 'लढायचंय', 11222: 'लढायची', 11223: 'लढायला', 11224: 'लढाया', 11225: 'लढू', 11226: 'लढेन', 11227: 'लढेल', 11228: 'लपंडाव', 11229: 'लपत', 11230: 'लपतो', 11231: 'लपतोय', 11232: 'लपला', 11233: 'लपलाय', 11234: 'लपली', 11235: 'लपले', 11236: 'लपलेलं', 11237: 'लपलेला', 11238: 'लपलेले', 11239: 'लपलेल्या', 11240: 'लपलो', 11241: 'लपल्या', 11242: 'लपव', 11243: 'लपवत', 11244: 'लपवता', 11245: 'लपवताना', 11246: 'लपवतायत', 11247: 'लपवते', 11248: 'लपवतेय', 11249: 'लपवतेस', 11250: 'लपवतो', 11251: 'लपवतोय', 11252: 'लपवतोस', 11253: 'लपवलं', 11254: 'लपवला', 11255: 'लपवली', 11256: 'लपवले', 11257: 'लपवा', 11258: 'लपवायचा', 11259: 'लपवू', 11260: 'लपवून', 11261: 'लपाछपी', 11262: 'लपायची', 11263: 'लपू', 11264: 'लपून', 11265: 'लवकर', 11266: 'लवकरच', 11267: 'लवकरात', 11268: 'लवचिक', 11269: 'लव्ह', 11270: 'लष्करात', 11271: 'लष्करी', 11272: 'लसूण', 11273: 'लहान', 11274: 'लहानपण', 11275: 'ला', 11276: 'लांडगा', 11277: 'लांडगे', 11278: 'लांडग्यांची', 11279: 'लांडग्यात', 11280: 'लांब', 11281: 'लांबलचक', 11282: 'लांबी', 11283: 'लांबीचा', 11284: 'लाइट', 11285: 'लाइटर', 11286: 'लाइनीत', 11287: 'लाइफजॅकेट', 11288: 'लाईट', 11289: 'लाईन', 11290: 'लाईनीत', 11291: 'लाईफबोट', 11292: 'लाकडाचं', 11293: 'लाकडाची', 11294: 'लाकडाने', 11295: 'लाकडी', 11296: 'लाकुड', 11297: 'लाकूड', 11298: 'लाक्रोस', 11299: 'लाख', 11300: 'लाग', 11301: 'लागणार', 11302: 'लागणे', 11303: 'लागत', 11304: 'लागतं', 11305: 'लागतात', 11306: 'लागताहेत', 11307: 'लागतील', 11308: 'लागते', 11309: 'लागतो', 11310: 'लागलं', 11311: 'लागलंय', 11312: 'लागला', 11313: 'लागलात', 11314: 'लागलाय', 11315: 'लागलास', 11316: 'लागली', 11317: 'लागलीय', 11318: 'लागलीये', 11319: 'लागलीस', 11320: 'लागले', 11321: 'लागलेली', 11322: 'लागलो', 11323: 'लागल्या', 11324: 'लागल्यावर', 11325: 'लागा', 11326: 'लागायला', 11327: 'लागू', 11328: 'लागून', 11329: 'लागूया', 11330: 'लागेपर्यंत', 11331: 'लागेल', 11332: 'लाच', 11333: 'लाज', 11334: 'लाजाळू', 11335: 'लाटा', 11336: 'लाटी', 11337: 'लात', 11338: 'लाथ', 11339: 'लामा', 11340: 'लायक', 11341: 'लायकीची', 11342: 'लायन्ससुद्धा', 11343: 'लायब्ररीत', 11344: 'लायसन्स', 11345: 'लायसेन्स', 11346: 'लाल', 11347: 'लाललाल', 11348: 'लाव', 11349: 'लावणं', 11350: 'लावणार', 11351: 'लावणे', 11352: 'लावण्यासाठी', 11353: 'लावत', 11354: 'लावतेय', 11355: 'लावतोय', 11356: 'लावलं', 11357: 'लावला', 11358: 'लावलास', 11359: 'लावली', 11360: 'लावले', 11361: 'लावलेला', 11362: 'लावलेली', 11363: 'लावलेल्या', 11364: 'लावल्या', 11365: 'लावा', 11366: 'लावायची', 11367: 'लावायच्या', 11368: 'लावायला', 11369: 'लावू', 11370: 'लावून', 11371: 'लावेन', 11372: 'लिंक', 11373: 'लिंकन', 11374: 'लिंकनचा', 11375: 'लिंकनने', 11376: 'लिंकवर', 11377: 'लिंबं', 11378: 'लिंबाचं', 11379: 'लिंबू', 11380: 'लिटर', 11381: 'लिनक्स', 11382: 'लिनक्सदेखील', 11383: 'लिनक्सबद्दल', 11384: 'लिपस्टिक', 11385: 'लिफ्ट', 11386: 'लिफ्टचं', 11387: 'लिफ्टची', 11388: 'लिफ्टने', 11389: 'लिफ्टमध्ये', 11390: 'लिबर्टी', 11391: 'लिबियाची', 11392: 'लिमोझीन', 11393: 'लिया।', 11394: 'लिलिउओकालानी', 11395: 'लिलिएन्थाल', 11396: 'लिसा', 11397: 'लिहत', 11398: 'लिहा', 11399: 'लिहायचं', 11400: 'लिहायचा', 11401: 'लिहायची', 11402: 'लिहायचे', 11403: 'लिहायचो', 11404: 'लिहायला', 11405: 'लिहायलावाचायला', 11406: 'लिहिणार', 11407: 'लिहिणे', 11408: 'लिहिण्याचा', 11409: 'लिहिण्याची', 11410: 'लिहिण्यात', 11411: 'लिहिण्यापेक्षा', 11412: 'लिहिता', 11413: 'लिहितात', 11414: 'लिहिताना', 11415: 'लिहितावाचता', 11416: 'लिहिताहेत', 11417: 'लिहिते', 11418: 'लिहितेय', 11419: 'लिहितेयस', 11420: 'लिहितेस', 11421: 'लिहितो', 11422: 'लिहितोय', 11423: 'लिहितोयस', 11424: 'लिहितोस', 11425: 'लिहिलं', 11426: 'लिहिलंत', 11427: 'लिहिलंस', 11428: 'लिहिलस', 11429: 'लिहिला', 11430: 'लिहिली', 11431: 'लिहिले', 11432: 'लिहिलेलं', 11433: 'लिहिलेला', 11434: 'लिहिलेली', 11435: 'लिहिलेल्या', 11436: 'लिहिल्या', 11437: 'लिही', 11438: 'लिहू', 11439: 'लिहून', 11440: 'लिहूया', 11441: 'लिहेन', 11442: 'ली', 11443: 'लीटरच्या', 11444: 'लुइस', 11445: 'लुकडा', 11446: 'लुटलं', 11447: 'लॅटिन', 11448: 'लॅटिनपासून', 11449: 'लॅटीन', 11450: 'लॅटीनचा', 11451: 'लॅपटॉप', 11452: 'लॅब', 11453: 'लेऑन', 11454: 'लेक', 11455: 'लेकाला', 11456: 'लेकीचं', 11457: 'लेकीपासून', 11458: 'लेकीसाठी', 11459: 'लेख', 11460: 'लेखक', 11461: 'लेखकांमधील', 11462: 'लेखकांविषयी', 11463: 'लेखकाचं', 11464: 'लेखकाने', 11465: 'लेखकाला', 11466: 'लेखता', 11467: 'लेखतेस', 11468: 'लेखतोस', 11469: 'लेखन', 11470: 'लेखलं', 11471: 'लेखांचा', 11472: 'लेखात', 11473: 'लेखिका', 11474: 'लेखू', 11475: 'लेट्युस', 11476: 'लेफ्टनंट', 11477: 'लैंगिक', 11478: 'लॉक', 11479: 'लॉकर', 11480: 'लॉगइन', 11481: 'लॉटरी', 11482: 'लॉटरीत', 11483: 'लॉबी', 11484: 'लॉबीत', 11485: 'लॉबीमध्ये', 11486: 'लॉलीपॉप', 11487: 'लॉस', 11488: 'लोक', 11489: 'लोकं', 11490: 'लोकंसुद्धा', 11491: 'लोकगीत', 11492: 'लोकतांत्रिक', 11493: 'लोकप्रिय', 11494: 'लोकप्रियता', 11495: 'लोकशाही', 11496: 'लोकशाहीचा', 11497: 'लोकसंख्या', 11498: 'लोकसंख्येपेक्षा', 11499: 'लोकसंगीत', 11500: 'लोकसुद्धा', 11501: 'लोकांकडे', 11502: 'लोकांचं', 11503: 'लोकांचा', 11504: 'लोकांची', 11505: 'लोकांचे', 11506: 'लोकांच्या', 11507: 'लोकांना', 11508: 'लोकांनाच', 11509: 'लोकांनी', 11510: 'लोकांपेक्षा', 11511: 'लोकांबरोबर', 11512: 'लोकांमध्ये', 11513: 'लोकांवर', 11514: 'लोकांशिवाय', 11515: 'लोकांशी', 11516: 'लोकांसाठी', 11517: 'लोखंड', 11518: 'लोखंडाचा', 11519: 'लोखंडापेक्षा', 11520: 'लोणी', 11521: 'व', 11522: 'वकिलाची', 11523: 'वकिलाला', 11524: 'वकिलाशी', 11525: 'वकील', 11526: 'वगळण्यात', 11527: 'वगैरे', 11528: 'वचन', 11529: 'वजन', 11530: 'वजनदार', 11531: 'वजनाने', 11532: 'वटत', 11533: 'वडिलांइतका', 11534: 'वडिलांकडून', 11535: 'वडिलांकडे', 11536: 'वडिलांचं', 11537: 'वडिलांचा', 11538: 'वडिलांची', 11539: 'वडिलांचे', 11540: 'वडिलांच्या', 11541: 'वडिलांना', 11542: 'वडिलांनी', 11543: 'वडिलांपेक्षा', 11544: 'वडिलांवर', 11545: 'वडिलांशी', 11546: 'वडिलांसाठी', 11547: 'वडिलांसारखं', 11548: 'वडिलांसारखा', 11549: 'वडिलांसारखाच', 11550: 'वडिलांसारखी', 11551: 'वडिलांसारखे', 11552: 'वडील', 11553: 'वडीलांना', 11554: 'वडीलांविषयी', 11555: 'वनस्पतिशास्त्र', 11556: 'वनस्पतिशास्त्रज्ञ', 11557: 'वनस्पती', 11558: 'वनस्पतींचा', 11559: 'वनात', 11560: 'वन्य', 11561: 'वय', 11562: 'वयस्कर', 11563: 'वयाचा', 11564: 'वयाची', 11565: 'वयाचे', 11566: 'वयाच्या', 11567: 'वयात', 11568: 'वयातच', 11569: 'वयातही', 11570: 'वयाने', 11571: 'वयापेक्षा', 11572: 'वयासार्खं', 11573: 'वर', 11574: 'वरच्या', 11575: 'वरती', 11576: 'वरपासून', 11577: 'वरून', 11578: 'वर्ग', 11579: 'वर्गमित्र', 11580: 'वर्गमैत्रीण', 11581: 'वर्गांत', 11582: 'वर्गाकडे', 11583: 'वर्गाचा', 11584: 'वर्गात', 11585: 'वर्गातला', 11586: 'वर्गातली', 11587: 'वर्गातल्या', 11588: 'वर्गातील', 11589: 'वर्गातून', 11590: 'वर्जन', 11591: 'वर्झावा', 11592: 'वर्ण', 11593: 'वर्णन', 11594: 'वर्णमाला', 11595: 'वर्णमालेत', 11596: 'वर्णमालेतलं', 11597: 'वर्णांचा', 11598: 'वर्तमान', 11599: 'वर्तमानपत्र', 11600: 'वर्तमानपत्रात', 11601: 'वर्तमानपत्रानुसार', 11602: 'वर्तमानात', 11603: 'वर्तमानातल्या', 11604: 'वर्थ', 11605: 'वर्ल्ड', 11606: 'वर्ष', 11607: 'वर्षं', 11608: 'वर्षभर', 11609: 'वर्षांचा', 11610: 'वर्षांची', 11611: 'वर्षांचे', 11612: 'वर्षांच्या', 11613: 'वर्षांत', 11614: 'वर्षांनंतर', 11615: 'वर्षांनी', 11616: 'वर्षांनुवर्ष', 11617: 'वर्षांने', 11618: 'वर्षांपासून', 11619: 'वर्षांपूर्वी', 11620: 'वर्षांपूर्वीची', 11621: 'वर्षांमध्ये', 11622: 'वर्षांसाठी', 11623: 'वर्षाचा', 11624: 'वर्षाची', 11625: 'वर्षाचे', 11626: 'वर्षाच्या', 11627: 'वर्षात', 11628: 'वर्षातला', 11629: 'वर्षातून', 11630: 'वर्षानंतर', 11631: 'वर्षापूर्वी', 11632: 'वर्षापेक्षा', 11633: 'वर्षी', 11634: 'वर्षीच', 11635: 'वर्षीची', 11636: 'वर्षीच्या', 11637: 'वर्षे', 11638: 'वळ', 11639: 'वळता', 11640: 'वळलं', 11641: 'वळला', 11642: 'वळलात', 11643: 'वळली', 11644: 'वळले', 11645: 'वळलो', 11646: 'वळवलं', 11647: 'वळा', 11648: 'वळू', 11649: 'वळून', 11650: 'वळूया', 11651: 'वसंत', 11652: 'वसंतऋतूच्या', 11653: 'वसतिगृह', 11654: 'वसाहत', 11655: 'वसाहतकार', 11656: 'वसाहतकार्\\u200dयांनी', 11657: 'वसाहती', 11658: 'वसाहतीसारखा', 11659: 'वस्तु', 11660: 'वस्तुसंग्रहालय', 11661: 'वस्तुसंग्रहालयांमध्ये', 11662: 'वस्तुसंग्रहालयात', 11663: 'वस्तुसंग्रहालयाला', 11664: 'वस्तू', 11665: 'वस्तूंचा', 11666: 'वस्तूंची', 11667: 'वस्तूला', 11668: 'वहन', 11669: 'वहिनी', 11670: 'वहिनीला', 11671: 'वही', 11672: 'वहीत', 11673: 'वह्या', 11674: 'वह्यांवर', 11675: 'वा', 11676: 'वाइन', 11677: 'वाईट', 11678: 'वाईन', 11679: 'वाईनची', 11680: 'वाईनच्या', 11681: 'वाईनपेक्षा', 11682: 'वाकणं', 11683: 'वाकत', 11684: 'वाकते', 11685: 'वाकलं', 11686: 'वाकली', 11687: 'वाकलेलं', 11688: 'वाकल्या', 11689: 'वाकव', 11690: 'वाकवता', 11691: 'वाकवा', 11692: 'वाकवू', 11693: 'वाका', 11694: 'वाक्य', 11695: 'वाक्यं', 11696: 'वाक्यांचा', 11697: 'वाक्यांचे', 11698: 'वाक्याचा', 11699: 'वाक्याच्या', 11700: 'वाक्यात', 11701: 'वाक्ये', 11702: 'वागणं', 11703: 'वागणुकीने', 11704: 'वागणूक', 11705: 'वागण्याचा', 11706: 'वागत', 11707: 'वागते', 11708: 'वागतो', 11709: 'वागतोय', 11710: 'वागला', 11711: 'वागवताहेत', 11712: 'वागवलं', 11713: 'वागायचं', 11714: 'वागू', 11715: 'वागून', 11716: 'वागेन', 11717: 'वाघ', 11718: 'वाघांना', 11719: 'वाघाने', 11720: 'वाघाला', 11721: 'वाच', 11722: 'वाचणं', 11723: 'वाचणार', 11724: 'वाचणे', 11725: 'वाचण्याकरिता', 11726: 'वाचण्याच्या', 11727: 'वाचण्यापुरता', 11728: 'वाचण्यालायक', 11729: 'वाचण्यासाठी', 11730: 'वाचण्यासारखं', 11731: 'वाचत', 11732: 'वाचतच', 11733: 'वाचतवाचत', 11734: 'वाचता', 11735: 'वाचतात', 11736: 'वाचताना', 11737: 'वाचताय', 11738: 'वाचतावाचता', 11739: 'वाचताहेत', 11740: 'वाचते', 11741: 'वाचतेय', 11742: 'वाचतेस', 11743: 'वाचतो', 11744: 'वाचतोय', 11745: 'वाचतोस', 11746: 'वाचन', 11747: 'वाचनाची', 11748: 'वाचनालय', 11749: 'वाचनालयात', 11750: 'वाचलं', 11751: 'वाचलंत', 11752: 'वाचलंय', 11753: 'वाचलंयस', 11754: 'वाचलंस', 11755: 'वाचला', 11756: 'वाचलात', 11757: 'वाचलास', 11758: 'वाचली', 11759: 'वाचलीत', 11760: 'वाचलीस', 11761: 'वाचले', 11762: 'वाचलेलं', 11763: 'वाचलो', 11764: 'वाचल्या', 11765: 'वाचल्यानंतर', 11766: 'वाचल्यास', 11767: 'वाचव', 11768: 'वाचवण्यासाठी', 11769: 'वाचवता', 11770: 'वाचवतेय', 11771: 'वाचवतो', 11772: 'वाचवतोय', 11773: 'वाचवलं', 11774: 'वाचवले', 11775: 'वाचवा', 11776: 'वाचवायचं', 11777: 'वाचवायचा', 11778: 'वाचवायची', 11779: 'वाचवायला', 11780: 'वाचवू', 11781: 'वाचवेन', 11782: 'वाचवेल', 11783: 'वाचवेलच', 11784: 'वाचा', 11785: 'वाचायचं', 11786: 'वाचायचा', 11787: 'वाचायची', 11788: 'वाचायचे', 11789: 'वाचायचो', 11790: 'वाचायला', 11791: 'वाचायलालिहायला', 11792: 'वाचायलाही', 11793: 'वाचावं', 11794: 'वाचू', 11795: 'वाचून', 11796: 'वाचूस', 11797: 'वाचेन', 11798: 'वाचेल', 11799: 'वाजत', 11800: 'वाजता', 11801: 'वाजताचा', 11802: 'वाजताची', 11803: 'वाजताच्या', 11804: 'वाजते', 11805: 'वाजतो', 11806: 'वाजतोय', 11807: 'वाजला', 11808: 'वाजली', 11809: 'वाजले', 11810: 'वाजलेयत', 11811: 'वाजलेले', 11812: 'वाजल्यानंतर', 11813: 'वाजल्यापासून', 11814: 'वाजव', 11815: 'वाजवणं', 11816: 'वाजवणार', 11817: 'वाजवणारच', 11818: 'वाजवणारा', 11819: 'वाजवणार्\\u200dयांमधील', 11820: 'वाजवण्यात', 11821: 'वाजवत', 11822: 'वाजवतंय', 11823: 'वाजवता', 11824: 'वाजवतात', 11825: 'वाजवताहेत', 11826: 'वाजवते', 11827: 'वाजवतेय', 11828: 'वाजवतेस', 11829: 'वाजवतो', 11830: 'वाजवतोय', 11831: 'वाजवतोस', 11832: 'वाजवला', 11833: 'वाजवलात', 11834: 'वाजवलास', 11835: 'वाजवली', 11836: 'वाजवलीत', 11837: 'वाजवलीस', 11838: 'वाजवल्या', 11839: 'वाजवा', 11840: 'वाजवायचं', 11841: 'वाजवायचा', 11842: 'वाजवायची', 11843: 'वाजवायचे', 11844: 'वाजवायचो', 11845: 'वाजवायला', 11846: 'वाजवू', 11847: 'वाजवून', 11848: 'वाजवेन', 11849: 'वाजवेल', 11850: 'वाजायचा', 11851: 'वाजायच्या', 11852: 'वाजायला', 11853: 'वाजू', 11854: 'वाजून', 11855: 'वाजूनसुद्धा', 11856: 'वाजे', 11857: 'वाजेपर्यंत', 11858: 'वाजेपर्यन्त', 11859: 'वाट', 11860: 'वाटण्यात', 11861: 'वाटत', 11862: 'वाटतं', 11863: 'वाटतंय', 11864: 'वाटतच', 11865: 'वाटता', 11866: 'वाटतात', 11867: 'वाटतायत', 11868: 'वाटताहेत', 11869: 'वाटते', 11870: 'वाटतेय', 11871: 'वाटतेयस', 11872: 'वाटतेस', 11873: 'वाटतो', 11874: 'वाटतोय', 11875: 'वाटतोयस', 11876: 'वाटतोस', 11877: 'वाटलं', 11878: 'वाटलंच', 11879: 'वाटला', 11880: 'वाटली', 11881: 'वाटले', 11882: 'वाटलेलं', 11883: 'वाटा', 11884: 'वाटाघाटी', 11885: 'वाटाणे', 11886: 'वाटायचं', 11887: 'वाटू', 11888: 'वाटून', 11889: 'वाटेत', 11890: 'वाटेने', 11891: 'वाटेल', 11892: 'वाटेवरच', 11893: 'वाडताहेत', 11894: 'वाढ', 11895: 'वाढणार', 11896: 'वाढत', 11897: 'वाढतं', 11898: 'वाढतायत', 11899: 'वाढते', 11900: 'वाढतेय', 11901: 'वाढतोय', 11902: 'वाढदिवशी', 11903: 'वाढदिवस', 11904: 'वाढदिवसाचा', 11905: 'वाढदिवसाची', 11906: 'वाढदिवसाच्या', 11907: 'वाढदिवसाला', 11908: 'वाढलं', 11909: 'वाढलंय', 11910: 'वाढला', 11911: 'वाढली', 11912: 'वाढले', 11913: 'वाढलो', 11914: 'वाढव', 11915: 'वाढवण्यात', 11916: 'वाढवत', 11917: 'वाढवतो', 11918: 'वाढवतोय', 11919: 'वाढवलं', 11920: 'वाढवलंय', 11921: 'वाढवला', 11922: 'वाढवली', 11923: 'वाढवले', 11924: 'वाढवा', 11925: 'वाढवायचा', 11926: 'वाढू', 11927: 'वाढेल', 11928: 'वातपरिरक्षी', 11929: 'वातानुकूलित', 11930: 'वातावरण', 11931: 'वादक', 11932: 'वादळ', 11933: 'वादळामुळे', 11934: 'वादविवाद', 11935: 'वापर', 11936: 'वापरणं', 11937: 'वापरणार', 11938: 'वापरत', 11939: 'वापरता', 11940: 'वापरतात', 11941: 'वापरते', 11942: 'वापरतेस', 11943: 'वापरतो', 11944: 'वापरतोस', 11945: 'वापरलं', 11946: 'वापरला', 11947: 'वापरलात', 11948: 'वापरलास', 11949: 'वापरली', 11950: 'वापरलीत', 11951: 'वापरलीस', 11952: 'वापरलेले', 11953: 'वापरल्या', 11954: 'वापरशील', 11955: 'वापरा', 11956: 'वापरायचा', 11957: 'वापरायला', 11958: 'वापराल', 11959: 'वापरासाठी', 11960: 'वापरू', 11961: 'वापरून', 11962: 'वापरूया', 11963: 'वापरेन', 11964: 'वापरेल', 11965: 'वायएमसीएला', 11966: 'वायर', 11967: 'वायरला', 11968: 'वाया', 11969: 'वायु', 11970: 'वायोमिंगमध्ये', 11971: 'वार', 11972: 'वारंवार', 11973: 'वारत', 11974: 'वारलं', 11975: 'वारला', 11976: 'वारली', 11977: 'वारले', 11978: 'वारल्या', 11979: 'वारल्यानंतर', 11980: 'वारल्यावर', 11981: 'वारा', 11982: 'वार्\\u200dयाने', 11983: 'वाळले', 11984: 'वाळवंट', 11985: 'वाळवंटाची', 11986: 'वाळवंटात', 11987: 'वाळवंटाला', 11988: 'वाळवी', 11989: 'वाळी', 11990: 'वाळू', 11991: 'वाळूचा', 11992: 'वाळूत', 11993: 'वाळूपासून', 11994: 'वास', 11995: 'वासाने', 11996: 'वास्तवात', 11997: 'वास्तुकला', 11998: 'वास्तुसंग्रहालय', 11999: 'वाह', 12000: 'वाहणारी', 12001: 'वाहणार्\\u200dया', 12002: 'वाहत', 12003: 'वाहतं', 12004: 'वाहतंय', 12005: 'वाहते', 12006: 'वाहन', 12007: 'वाहू', 12008: 'विंग्ज', 12009: 'विंचर', 12010: 'विंचरा', 12011: 'विंचरायला', 12012: 'विंचू', 12013: 'विंडसर्फिंग', 12014: 'विंडो', 12015: 'विंडोज', 12016: 'विंडोजचा', 12017: 'विंडोजची', 12018: 'विक', 12019: 'विकणार', 12020: 'विकण्याकरिता', 12021: 'विकण्यासाठी', 12022: 'विकत', 12023: 'विकतं', 12024: 'विकता', 12025: 'विकतात', 12026: 'विकताहेत', 12027: 'विकते', 12028: 'विकतो', 12029: 'विकतोय', 12030: 'विकलं', 12031: 'विकला', 12032: 'विकली', 12033: 'विकले', 12034: 'विकल्प', 12035: 'विकल्या', 12036: 'विकशील', 12037: 'विकसित', 12038: 'विकायचं', 12039: 'विकायचा', 12040: 'विकायची', 12041: 'विकायला', 12042: 'विकाल', 12043: 'विकावा', 12044: 'विकास', 12045: 'विकासशील', 12046: 'विकिपीडियावर', 12047: 'विकू', 12048: 'विकून', 12049: 'विक्राळ', 12050: 'विक्रीसाठी', 12051: 'विक्सबर्गवर', 12052: 'विग', 12053: 'विचार', 12054: 'विचारच', 12055: 'विचारणं', 12056: 'विचारणार', 12057: 'विचारण्याचा', 12058: 'विचारण्यात', 12059: 'विचारण्यास', 12060: 'विचारण्यासाठी', 12061: 'विचारत', 12062: 'विचारता', 12063: 'विचारतात', 12064: 'विचारताहेत', 12065: 'विचारते', 12066: 'विचारतेय', 12067: 'विचारतो', 12068: 'विचारतोय', 12069: 'विचारलं', 12070: 'विचारलंत', 12071: 'विचारलंस', 12072: 'विचारला', 12073: 'विचारलात', 12074: 'विचारलास', 12075: 'विचारली', 12076: 'विचारले', 12077: 'विचारलेतुम्ही', 12078: 'विचारलेतू', 12079: 'विचारल्यावरच', 12080: 'विचारसुद्धा', 12081: 'विचारही', 12082: 'विचारा', 12083: 'विचारात', 12084: 'विचारायचं', 12085: 'विचारायचा', 12086: 'विचारायची', 12087: 'विचारायचे', 12088: 'विचारायला', 12089: 'विचारायलाच', 12090: 'विचारू', 12091: 'विचारूया', 12092: 'विचारेन', 12093: 'विचित्र', 12094: 'विचित्रच', 12095: 'विजय', 12096: 'विजयाचे', 12097: 'विजयी', 12098: 'विजा', 12099: 'विजेचं', 12100: 'विजेता', 12101: 'विजेने', 12102: 'विजेशिवाय', 12103: 'विज्ञान', 12104: 'विज्ञानकथा', 12105: 'विज्ञानाचा', 12106: 'विज्ञानाची', 12107: 'विज्ञानात', 12108: 'विज्ञानाने', 12109: 'विझव', 12110: 'विझवली', 12111: 'विझवले', 12112: 'विझवायला', 12113: 'विझून', 12114: 'विटांचं', 12115: 'विणतो', 12116: 'वितळतो', 12117: 'वितळतोय', 12118: 'वितळला', 12119: 'वितळलाय', 12120: 'वितळल्यावर', 12121: 'वितळून', 12122: 'वित्त', 12123: 'विदुषक', 12124: 'विदेशात', 12125: 'विदेशी', 12126: 'विद्यापीठ', 12127: 'विद्यापीठांमधील', 12128: 'विद्यापीठात', 12129: 'विद्यापीठेतून', 12130: 'विद्यार्थिनी', 12131: 'विद्यार्थिनींची', 12132: 'विद्यार्थिनींना', 12133: 'विद्यार्थिनींनी', 12134: 'विद्यार्थिनीची', 12135: 'विद्यार्थिनीच्या', 12136: 'विद्यार्थिनीने', 12137: 'विद्यार्थिनीला', 12138: 'विद्यार्थी', 12139: 'विद्यार्थींना', 12140: 'विद्यार्थीनी', 12141: 'विद्यार्थीने', 12142: 'विद्यार्थ्यांचा', 12143: 'विद्यार्थ्यांची', 12144: 'विद्यार्थ्यांना', 12145: 'विद्यार्थ्यांनी', 12146: 'विद्यार्थ्यांने', 12147: 'विद्यार्थ्यांपासून', 12148: 'विद्यार्थ्यांमधील', 12149: 'विद्यार्थ्यांमधून', 12150: 'विद्यार्थ्यांमध्ये', 12151: 'विद्यार्थ्यांसाठी', 12152: 'विद्यार्थ्याची', 12153: 'विद्यार्थ्याचे', 12154: 'विद्यार्थ्याच्या', 12155: 'विद्यार्थ्याने', 12156: 'विद्यार्थ्याला', 12157: 'विद्याव्यासंगी', 12158: 'विद्युत', 12159: 'विद्युतप्रवाह', 12160: 'विद्रोही', 12161: 'विद्वान', 12162: 'विनोद', 12163: 'विनोदवीर', 12164: 'विन्फ्रींचा', 12165: 'विन्फ्रीचा', 12166: 'विन्स्टन', 12167: 'विभन्न', 12168: 'विमान', 12169: 'विमानं', 12170: 'विमानतळ', 12171: 'विमानतळाचं', 12172: 'विमानतळाचा', 12173: 'विमानतळाच्या', 12174: 'विमानतळाला', 12175: 'विमानतळावर', 12176: 'विमानाचं', 12177: 'विमानाची', 12178: 'विमानात', 12179: 'विमानातून', 12180: 'विमानाने', 12181: 'विमानावर', 12182: 'विरघळतं', 12183: 'विरघळते', 12184: 'विरघळून', 12185: 'विरोध', 12186: 'विरोधकाचं', 12187: 'विरोधात', 12188: 'विलिअम', 12189: 'विलियम', 12190: 'विलियमने', 12191: 'विलीन', 12192: 'विल्सन', 12193: 'विवाहित', 12194: 'विविक्त', 12195: 'विविध', 12196: 'विशाल', 12197: 'विशेष', 12198: 'विश्रांती', 12199: 'विश्राम', 12200: 'विश्लेषक', 12201: 'विश्व', 12202: 'विश्वयुद्ध', 12203: 'विश्वयुद्धात', 12204: 'विश्वयुद्धानंतर', 12205: 'विश्वाचा', 12206: 'विश्वास', 12207: 'विश्वासघात', 12208: 'विश्वासच', 12209: 'विश्वासाचा', 12210: 'विष', 12211: 'विषम', 12212: 'विषय', 12213: 'विषयांमध्ये', 12214: 'विषयांवर', 12215: 'विषयावर', 12216: 'विषयासंबंधी', 12217: 'विषारी', 12218: 'विसर', 12219: 'विसरणं', 12220: 'विसरणार', 12221: 'विसरत', 12222: 'विसरता', 12223: 'विसरते', 12224: 'विसरतेय', 12225: 'विसरतेस', 12226: 'विसरतो', 12227: 'विसरतोय', 12228: 'विसरतोस', 12229: 'विसरला', 12230: 'विसरलात', 12231: 'विसरलास', 12232: 'विसरली', 12233: 'विसरलीस', 12234: 'विसरले', 12235: 'विसरलेय', 12236: 'विसरलो', 12237: 'विसरलोय', 12238: 'विसरल्या', 12239: 'विसरा', 12240: 'विसरायचं', 12241: 'विसरायचा', 12242: 'विसराळू', 12243: 'विसरुन', 12244: 'विसरू', 12245: 'विसरून', 12246: 'विसरूया', 12247: 'विस्फोट', 12248: 'विहिरीत', 12249: 'वीज', 12250: 'वीजतंत्री', 12251: 'वीस', 12252: 'वीसपट', 12253: 'वूडची', 12254: 'वृत्तपत्र', 12255: 'वृत्तपत्रांनी', 12256: 'वृत्तपत्रात', 12257: 'वृत्तपत्रे', 12258: 'वृद्ध', 12259: 'वृद्धाश्रमात', 12260: 'वॅक्सिंग', 12261: 'वेगळं', 12262: 'वेगळंच', 12263: 'वेगळंय', 12264: 'वेगळा', 12265: 'वेगळी', 12266: 'वेगळे', 12267: 'वेगळ्या', 12268: 'वेगळ्याच', 12269: 'वेगवान', 12270: 'वेगवेगळी', 12271: 'वेगवेगळे', 12272: 'वेगवेगळ्या', 12273: 'वेगात', 12274: 'वेगाने', 12275: 'वेगानेच', 12276: 'वेटर', 12277: 'वेटरची', 12278: 'वेटरम्हणून', 12279: 'वेटलिफ्टर', 12280: 'वेट्रेस', 12281: 'वेट्रेसकडून', 12282: 'वेड', 12283: 'वेडं', 12284: 'वेडा', 12285: 'वेडाच', 12286: 'वेडी', 12287: 'वेडीबिडी', 12288: 'वेडे', 12289: 'वेडेपणा', 12290: 'वेड्या', 12291: 'वेड्यासारखं', 12292: 'वेड्यासारखा', 12293: 'वेड्यासारखी', 12294: 'वेढा', 12295: 'वेणी', 12296: 'वेदना', 12297: 'वेदनेने', 12298: 'वेब', 12299: 'वेबकॅम', 12300: 'वेबसाइट', 12301: 'वेबसाईट', 12302: 'वेलिंग्टन', 12303: 'वेल्सचे', 12304: 'वेळ', 12305: 'वेळच', 12306: 'वेळा', 12307: 'वेळात', 12308: 'वेळानंतर', 12309: 'वेळापत्रक', 12310: 'वेळापुर्वीच', 12311: 'वेळापूर्वीच', 12312: 'वेळासाठी', 12313: 'वेळी', 12314: 'वेळीस', 12315: 'वेळेची', 12316: 'वेळेत', 12317: 'वेळेपेक्षा', 12318: 'वेळेवर', 12319: 'वेळोवेळी', 12320: 'वेश', 12321: 'वैज्ञानिक', 12322: 'वैज्ञानिकांना', 12323: 'वैतागला', 12324: 'वैतागले', 12325: 'वैद्य', 12326: 'वैद्याची', 12327: 'वैध', 12328: 'वैश्विक', 12329: 'वॉकीटॉकी', 12330: 'वॉटर', 12331: 'वॉनटॉन', 12332: 'वॉन्ट', 12333: 'वॉरक्राफ्ट', 12334: 'वॉरहॉल', 12335: 'वॉलीबॉल', 12336: 'वॉल्ट', 12337: 'वॉशरूमला', 12338: 'वॉशिंग', 12339: 'वॉशिंगमशीन', 12340: 'वॉशिंगमशीनमध्ये', 12341: 'वॉशिंग्टन', 12342: 'वॉशिंग्टनचीही', 12343: 'वॉशिंग्टनच्या', 12344: 'वोटलेलंच', 12345: 'व्यंगचित्रकार', 12346: 'व्यंगचित्रे', 12347: 'व्यक्त', 12348: 'व्यक्तिगत', 12349: 'व्यक्ती', 12350: 'व्यक्तीने', 12351: 'व्यक्तीबद्दल', 12352: 'व्यक्तीला', 12353: 'व्यक्तीशी', 12354: 'व्यक्तीसाठी', 12355: 'व्यवसायी', 12356: 'व्यवस्थांमध्ये', 12357: 'व्यवस्थापक', 12358: 'व्यवस्थित', 12359: 'व्यसन', 12360: 'व्यसनी', 12361: 'व्यस्त', 12362: 'व्या', 12363: 'व्याकरणाचा', 12364: 'व्याकरणाचे', 12365: 'व्याकरणाविषयी', 12366: 'व्याक्रणाचं', 12367: 'व्याज', 12368: 'व्यापक', 12369: 'व्यापार', 12370: 'व्यापारात', 12371: 'व्यायला', 12372: 'व्यायाम', 12373: 'व्यायामशाळेची', 12374: 'व्यायामशाळेत', 12375: 'व्यायामाचा', 12376: 'व्यावसायिक', 12377: 'व्हर्जिनिया', 12378: 'व्हा', 12379: 'व्हाइट', 12380: 'व्हाईट', 12381: 'व्हायचं', 12382: 'व्हायचंय', 12383: 'व्हायची', 12384: 'व्हायब्रेट', 12385: 'व्हायरस', 12386: 'व्हायला', 12387: 'व्हायोला', 12388: 'व्हायोलिन', 12389: 'व्हाल', 12390: 'व्हावी', 12391: 'व्हिएतनाममध्ये', 12392: 'व्हिएतनामी', 12393: 'व्हिटमन', 12394: 'व्हिटॅमिन', 12395: 'व्हिडिओ', 12396: 'व्हिडियो', 12397: 'व्हिडीयो', 12398: 'व्हिप्ड', 12399: 'व्हियेनावर', 12400: 'व्हिला', 12401: 'व्हिसा', 12402: 'व्हिसाची', 12403: 'व्हिस्की', 12404: 'व्हिस्कीचा', 12405: 'व्हिस्कीची', 12406: 'व्हीसीआर', 12407: 'व्हॅन', 12408: 'व्हॅनची', 12409: 'व्हॅनमधून', 12410: 'व्हॅनमध्ये', 12411: 'व्हॅनला', 12412: 'व्हॅनिला', 12413: 'व्हॅम्पायर', 12414: 'व्हॅम्पायर्सना', 12415: 'व्हॅली', 12416: 'व्हॅलेन्टाईन्स', 12417: 'व्हेगन', 12418: 'व्हेनिस', 12419: 'व्हेनिसमध्ये', 12420: 'व्हेर्दूच्या', 12421: 'व्हेल', 12422: 'व्हॉलीबॉल', 12423: 'व्हॉल्यूम', 12424: 'व्होडका', 12425: 'व्होड्का', 12426: 'व्ह्लादिव्होस्तोक', 12427: 'शँघाई', 12428: 'शंका', 12429: 'शंकाच', 12430: 'शंकास्पद', 12431: 'शंकेखोर', 12432: 'शंभर', 12433: 'शंभरचे', 12434: 'शंभरपर्यंत', 12435: 'शंभरपेक्षा', 12436: 'शकणारी', 12437: 'शकत', 12438: 'शकतं', 12439: 'शकता', 12440: 'शकतात', 12441: 'शकतील', 12442: 'शकते', 12443: 'शकतेस', 12444: 'शकतो', 12445: 'शकतोस', 12446: 'शकलं', 12447: 'शकला', 12448: 'शकली', 12449: 'शकले', 12450: 'शकलो', 12451: 'शकशील', 12452: 'शकाल', 12453: 'शकू', 12454: 'शकेन', 12455: 'शकेल', 12456: 'शक्ती', 12457: 'शक्तीची', 12458: 'शक्तीत', 12459: 'शक्तीने', 12460: 'शक्य', 12461: 'शक्यच', 12462: 'शक्यता', 12463: 'शक्यतो', 12464: 'शक्यमुनीने', 12465: 'शक्या', 12466: 'शतक', 12467: 'शतकात', 12468: 'शत्रुच्या', 12469: 'शत्रुला', 12470: 'शत्रू', 12471: 'शत्रूंची', 12472: 'शत्रूंना', 12473: 'शत्रूची', 12474: 'शत्रूच्या', 12475: 'शत्रूने', 12476: 'शत्रूवर', 12477: 'शत्रूविरुद्ध', 12478: 'शनिवार', 12479: 'शनिवारची', 12480: 'शनिवारपर्यंत', 12481: 'शनिवारी', 12482: 'शनी', 12483: 'शनीवार', 12484: 'शपथ', 12485: 'शब्द', 12486: 'शब्दकोश', 12487: 'शब्दकोशाची', 12488: 'शब्दखेळ', 12489: 'शब्दच', 12490: 'शब्दशः', 12491: 'शब्दही', 12492: 'शब्दांचा', 12493: 'शब्दांची', 12494: 'शब्दांनी', 12495: 'शब्दांपेक्षा', 12496: 'शब्दाचा', 12497: 'शब्दात', 12498: 'शरद', 12499: 'शरीर', 12500: 'शरीरातल्या', 12501: 'शरीरावर', 12502: 'शर्ट', 12503: 'शर्टची', 12504: 'शर्टांची', 12505: 'शर्टांना', 12506: 'शर्टाला', 12507: 'शर्टावर', 12508: 'शर्यत', 12509: 'शर्यती', 12510: 'शर्यतीच्या', 12511: 'शर्यतीत', 12512: 'शल्यचिकित्सक', 12513: 'शस्त्र', 12514: 'शस्त्रं', 12515: 'शहर', 12516: 'शहरं', 12517: 'शहरांना', 12518: 'शहरांमधील', 12519: 'शहरांमध्ये', 12520: 'शहराचं', 12521: 'शहराचा', 12522: 'शहराची', 12523: 'शहराचे', 12524: 'शहराच्या', 12525: 'शहरात', 12526: 'शहरातलं', 12527: 'शहरातली', 12528: 'शहरातल्या', 12529: 'शहरातील', 12530: 'शहरापेक्षा', 12531: 'शहराबाहेर', 12532: 'शहराला', 12533: 'शहरावर', 12534: 'शहरी', 12535: 'शहाणा', 12536: 'शहामृग', 12537: 'शांत', 12538: 'शांतता', 12539: 'शांततापूर्ण', 12540: 'शांततेत', 12541: 'शांततेने', 12542: 'शांतपणे', 12543: 'शांती', 12544: 'शांतीने', 12545: 'शाई', 12546: 'शाकाहारी', 12547: 'शाखा', 12548: 'शाप', 12549: 'शाब्बास', 12550: 'शामक', 12551: 'शार्क', 12552: 'शार्कने', 12553: 'शार्लमानला', 12554: 'शालेय', 12555: 'शाळतेच', 12556: 'शाळा', 12557: 'शाळांमध्ये', 12558: 'शाळेचा', 12559: 'शाळेची', 12560: 'शाळेच्या', 12561: 'शाळेजवळ', 12562: 'शाळेजवळच', 12563: 'शाळेत', 12564: 'शाळेतच', 12565: 'शाळेतला', 12566: 'शाळेतली', 12567: 'शाळेतले', 12568: 'शाळेतल्या', 12569: 'शाळेतील', 12570: 'शाळेतून', 12571: 'शाळेनंतर', 12572: 'शाळेने', 12573: 'शाळेबद्दल', 12574: 'शाळेला', 12575: 'शाळेसाठी', 12576: 'शासकीय', 12577: 'शासन', 12578: 'शासनाने', 12579: 'शासनाला', 12580: 'शासनावर', 12581: 'शासनाविरुद्ध', 12582: 'शास्त्र', 12583: 'शास्त्रज्ञ', 12584: 'शास्त्रीय', 12585: 'शाही', 12586: 'शिंकतेय', 12587: 'शिंकतोय', 12588: 'शिंकला', 12589: 'शिंकायचं', 12590: 'शिंपी', 12591: 'शिइताके', 12592: 'शिक', 12593: 'शिकणं', 12594: 'शिकणार', 12595: 'शिकणे', 12596: 'शिकण्याचा', 12597: 'शिकण्याची', 12598: 'शिकण्याच्या', 12599: 'शिकण्यात', 12600: 'शिकण्याशिवाय', 12601: 'शिकण्यासाठी', 12602: 'शिकत', 12603: 'शिकतंय', 12604: 'शिकता', 12605: 'शिकतात', 12606: 'शिकताय', 12607: 'शिकतील', 12608: 'शिकते', 12609: 'शिकतेय', 12610: 'शिकतेयस', 12611: 'शिकतो', 12612: 'शिकतोय', 12613: 'शिकतोयस', 12614: 'शिकला', 12615: 'शिकलात', 12616: 'शिकलास', 12617: 'शिकली', 12618: 'शिकलीस', 12619: 'शिकले', 12620: 'शिकलेच', 12621: 'शिकलेलं', 12622: 'शिकलो', 12623: 'शिकलोच', 12624: 'शिकल्याशिवाय', 12625: 'शिकव', 12626: 'शिकवणं', 12627: 'शिकवणार', 12628: 'शिकवण्याचा', 12629: 'शिकवण्यात', 12630: 'शिकवण्याशिवाय', 12631: 'शिकवत', 12632: 'शिकवतं', 12633: 'शिकवता', 12634: 'शिकवतात', 12635: 'शिकवते', 12636: 'शिकवतेय', 12637: 'शिकवतेस', 12638: 'शिकवतो', 12639: 'शिकवतोय', 12640: 'शिकवतोस', 12641: 'शिकवलं', 12642: 'शिकवला', 12643: 'शिकवली', 12644: 'शिकवल्या', 12645: 'शिकवशील', 12646: 'शिकवा', 12647: 'शिकवायचा', 12648: 'शिकवायची', 12649: 'शिकवायचे', 12650: 'शिकवायचो', 12651: 'शिकवायला', 12652: 'शिकवाल', 12653: 'शिकवू', 12654: 'शिकवून', 12655: 'शिकवूनच', 12656: 'शिकवेन', 12657: 'शिकवेनच', 12658: 'शिका', 12659: 'शिकागो', 12660: 'शिकागोपासून', 12661: 'शिकागोपेक्षा', 12662: 'शिकागोमध्ये', 12663: 'शिकागोला', 12664: 'शिकायचं', 12665: 'शिकायचा', 12666: 'शिकायची', 12667: 'शिकायचे', 12668: 'शिकायच्या', 12669: 'शिकायला', 12670: 'शिकायलाच', 12671: 'शिकार', 12672: 'शिकारी', 12673: 'शिकारीवर', 12674: 'शिकार्\\u200dयांनी', 12675: 'शिकार्\\u200dयाने', 12676: 'शिकावं', 12677: 'शिकावी', 12678: 'शिकू', 12679: 'शिकेन', 12680: 'शिकेल', 12681: 'शिकोकु', 12682: 'शिक्षक', 12683: 'शिक्षकच', 12684: 'शिक्षकसुद्धा', 12685: 'शिक्षकांची', 12686: 'शिक्षकांना', 12687: 'शिक्षकांबरोबर', 12688: 'शिक्षकांशी', 12689: 'शिक्षकाचं', 12690: 'शिक्षकाने', 12691: 'शिक्षकाला', 12692: 'शिक्षण', 12693: 'शिक्षणाचा', 12694: 'शिक्षणाला', 12695: 'शिक्षणाविषयी', 12696: 'शिक्षणाशिवाय', 12697: 'शिक्षा', 12698: 'शिक्षिका', 12699: 'शिक्षिकेचं', 12700: 'शिक्षिकेच्या', 12701: 'शिक्षिकेने', 12702: 'शिक्षिकेला', 12703: 'शिखर', 12704: 'शिचिगोसान', 12705: 'शिजतात', 12706: 'शिजलं', 12707: 'शिजलंय', 12708: 'शिजलाय', 12709: 'शिजली', 12710: 'शिजव', 12711: 'शिजवणार', 12712: 'शिजवण्याची', 12713: 'शिजवत', 12714: 'शिजवता', 12715: 'शिजवतात', 12716: 'शिजवते', 12717: 'शिजवतो', 12718: 'शिजवलं', 12719: 'शिजवली', 12720: 'शिजवले', 12721: 'शिजवल्या', 12722: 'शिजवा', 12723: 'शिजविण्यासाठी', 12724: 'शिजून', 12725: 'शिटी', 12726: 'शिडी', 12727: 'शिडीची', 12728: 'शिडीवरून', 12729: 'शिनानोपेक्षा', 12730: 'शिन्कान्सेनने', 12731: 'शिन्जुकुला', 12732: 'शिफ्ट', 12733: 'शिबुया', 12734: 'शिरत', 12735: 'शिरतो', 12736: 'शिरला', 12737: 'शिरली', 12738: 'शिरेतून', 12739: 'शिर्षक', 12740: 'शिल्लक', 12741: 'शिवणकाम', 12742: 'शिवणयंत्र', 12743: 'शिवतेय', 12744: 'शिवी', 12745: 'शिव्या', 12746: 'शिष्याचं', 12747: 'शिसे', 12748: 'शीतयुद्ध', 12749: 'शीर्षक', 12750: 'शुक्रवार', 12751: 'शुक्रवारी', 12752: 'शुद्ध', 12753: 'शुद्धीत', 12754: 'शुभेच्छा', 12755: 'शूज', 12756: 'शूट', 12757: 'शूटिंग', 12758: 'शूटींग', 12759: 'शूर', 12760: 'शॅग', 12761: 'शॅडो', 12762: 'शॅम्पू', 12763: 'शॅम्पेन', 12764: 'शॅम्पेनसुद्धा', 12765: 'शेंगदाणे', 12766: 'शेंडी', 12767: 'शेंबुड', 12768: 'शेंबूड', 12769: 'शेअर', 12770: 'शेकडो', 12771: 'शेक्सपिअर', 12772: 'शेक्सपिअरचं', 12773: 'शेक्सपिअरचे', 12774: 'शेक्सपिअरने', 12775: 'शेक्सपिअरबद्दल', 12776: 'शेक्सपीअर', 12777: 'शेजारचीला', 12778: 'शेजारच्यांना', 12779: 'शेजारच्याचं', 12780: 'शेजारच्याचा', 12781: 'शेजारच्याला', 12782: 'शेजारी', 12783: 'शेजार्\\u200dयांना', 12784: 'शेजार्\\u200dयाने', 12785: 'शेत', 12786: 'शेतकरी', 12787: 'शेतकर्\\u200dयांशी', 12788: 'शेतांमध्ये', 12789: 'शेतात', 12790: 'शेती', 12791: 'शेपटी', 12792: 'शेपर्ड', 12793: 'शेपूट', 12794: 'शेरिफ', 12795: 'शेल्फवर', 12796: 'शेवंतीचा', 12797: 'शेवट', 12798: 'शेवटचं', 12799: 'शेवटचा', 12800: 'शेवटची', 12801: 'शेवटचे', 12802: 'शेवटच्या', 12803: 'शेवटपर्यंत', 12804: 'शेवटागोदर', 12805: 'शेवटी', 12806: 'शेव्ह', 12807: 'शेव्हर', 12808: 'शॉक', 12809: 'शॉपिंग', 12810: 'शॉर्टकट', 12811: 'शॉवर', 12812: 'शॉवरने', 12813: 'शॉवरमधून', 12814: 'शोध', 12815: 'शोधक', 12816: 'शोधण्यात', 12817: 'शोधण्यासारखं', 12818: 'शोधत', 12819: 'शोधतंय', 12820: 'शोधतायत', 12821: 'शोधताहेत', 12822: 'शोधतील', 12823: 'शोधते', 12824: 'शोधतेय', 12825: 'शोधतो', 12826: 'शोधतोय', 12827: 'शोधलं', 12828: 'शोधलंय', 12829: 'शोधाची', 12830: 'शोधात', 12831: 'शोधायचं', 12832: 'शोधायची', 12833: 'शोधायला', 12834: 'शोधायलाच', 12835: 'शोधावा', 12836: 'शोधू', 12837: 'शोधून', 12838: 'शोधूया', 12839: 'शोधेन', 12840: 'शोपाँचं', 12841: 'शोफर', 12842: 'शोषत', 12843: 'शौकीनांवर', 12844: 'शौचालयात', 12845: 'श्नॅप्स', 12846: 'श्रीमंत', 12847: 'श्रीलंका', 12848: 'श्रीलंकेबद्दल', 12849: 'श्लोकाचा', 12850: 'श्वास', 12851: 'सँग्रिया', 12852: 'सँडविच', 12853: 'सँडविचला', 12854: 'सँडविचवर', 12855: 'संकटकालीन', 12856: 'संकटात', 12857: 'संकल्पना', 12858: 'संकल्पनाचा', 12859: 'संकेतस्थळ', 12860: 'संकेतस्थळाची', 12861: 'संकेतस्थळाद्वारे', 12862: 'संकेतस्थळाला', 12863: 'संकेतस्थळावर', 12864: 'संकेतस्थळावरून', 12865: 'संक्षिप्त', 12866: 'संख्या', 12867: 'संख्येत', 12868: 'संगणक', 12869: 'संगणकांचा', 12870: 'संगणकांची', 12871: 'संगणकांवरील', 12872: 'संगणकांसंबंधित', 12873: 'संगणकाचा', 12874: 'संगणकाची', 12875: 'संगणकात', 12876: 'संगणकाला', 12877: 'संगणकावर', 12878: 'संगणकीय', 12879: 'संगीत', 12880: 'संगीतकार', 12881: 'संगीतकाराशी', 12882: 'संगीताचा', 12883: 'संगीताची', 12884: 'संग्रह', 12885: 'संघ', 12886: 'संघनायक', 12887: 'संघर्ष', 12888: 'संघात', 12889: 'संचार', 12890: 'संडास', 12891: 'संत', 12892: 'संतांबरोबर', 12893: 'संतुलन', 12894: 'संतुष्ट', 12895: 'संत्र', 12896: 'संत्री', 12897: 'संत्र्याचं', 12898: 'संत्र्याचा', 12899: 'संत्र्यासारखा', 12900: 'संदर्भ', 12901: 'संदेश', 12902: 'संदेशवाहकाने', 12903: 'संधिपाद', 12904: 'संधी', 12905: 'संधीचा', 12906: 'संधीची', 12907: 'संधीसाठी', 12908: 'संध्या', 12909: 'संध्याकाळ', 12910: 'संध्याकाळचं', 12911: 'संध्याकाळच्या', 12912: 'संध्याकाळी', 12913: 'संपणार', 12914: 'संपत', 12915: 'संपतच', 12916: 'संपतात', 12917: 'संपते', 12918: 'संपत्ती', 12919: 'संपन्न', 12920: 'संपर्क', 12921: 'संपर्कात', 12922: 'संपलं', 12923: 'संपलंच', 12924: 'संपला', 12925: 'संपलाच', 12926: 'संपली', 12927: 'संपले', 12928: 'संपलेलं', 12929: 'संपलेली', 12930: 'संपल्या', 12931: 'संपल्यावर', 12932: 'संपव', 12933: 'संपवणं', 12934: 'संपवण्याची', 12935: 'संपवत', 12936: 'संपवताच', 12937: 'संपवलं', 12938: 'संपवला', 12939: 'संपवली', 12940: 'संपवल्याबरोबरच', 12941: 'संपवा', 12942: 'संपवायचं', 12943: 'संपवायला', 12944: 'संपवून', 12945: 'संपवेन', 12946: 'संपादक', 12947: 'संपादन', 12948: 'संपादित', 12949: 'संपायच्या', 12950: 'संपुष्टात', 12951: 'संपूर्ण', 12952: 'संपेल', 12953: 'संप्रेरक', 12954: 'संबंध', 12955: 'संभावनीय', 12956: 'संभाषण', 12957: 'संमती', 12958: 'संमेलनासाठी', 12959: 'संयुक्त', 12960: 'संरक्षण', 12961: 'संरक्षणासाठी', 12962: 'संरचना', 12963: 'संवाद', 12964: 'संविधान', 12965: 'संविधानावर', 12966: 'संशय', 12967: 'संशयास्पद', 12968: 'संशोधन', 12969: 'संसदेने', 12970: 'संस्कृती', 12971: 'संस्कृतीच्या', 12972: 'संस्कृतीविषयी', 12973: 'संस्थानांचे', 12974: 'संस्थानांपासून', 12975: 'संस्थानांमध्ये', 12976: 'संस्थाने', 12977: 'सऊल', 12978: 'सकारात्मक', 12979: 'सकाळ', 12980: 'सकाळचा', 12981: 'सकाळचे', 12982: 'सकाळच्या', 12983: 'सकाळपर्यंतचा', 12984: 'सकाळपासून', 12985: 'सकाळभर', 12986: 'सकाळसकाळी', 12987: 'सकाळी', 12988: 'सकाळीच', 12989: 'सक्त', 12990: 'सगळं', 12991: 'सगळंकाही', 12992: 'सगळंच', 12993: 'सगळच', 12994: 'सगळा', 12995: 'सगळी', 12996: 'सगळीकडे', 12997: 'सगळीच', 12998: 'सगळीजणं', 12999: 'सगळे', 13000: 'सगळेच', 13001: 'सगळेच्या', 13002: 'सगळेजण', 13003: 'सगळ्या', 13004: 'सगळ्यांकडे', 13005: 'सगळ्यांचं', 13006: 'सगळ्यांचाच', 13007: 'सगळ्यांची', 13008: 'सगळ्यांचीच', 13009: 'सगळ्यांचे', 13010: 'सगळ्यांच्या', 13011: 'सगळ्यांच्याच', 13012: 'सगळ्यांना', 13013: 'सगळ्यांनाच', 13014: 'सगळ्यांनी', 13015: 'सगळ्यांनीच', 13016: 'सगळ्यांबरोबर', 13017: 'सगळ्यांशी', 13018: 'सगळ्यांसाठी', 13019: 'सगळ्याच', 13020: 'सगळ्याचा', 13021: 'सगळ्याची', 13022: 'सगळ्यात', 13023: 'सगळ्यासाठी', 13024: 'सजवण्याचं', 13025: 'सजवत', 13026: 'सजवलं', 13027: 'सजवला', 13028: 'सजवली', 13029: 'सजवायला', 13030: 'सज्ज', 13031: 'सज्जन', 13032: 'सडत', 13033: 'सडताहेत', 13034: 'सडलं', 13035: 'सडलेलं', 13036: 'सडलेली', 13037: 'सडल्यासारखा', 13038: 'सण', 13039: 'सणात', 13040: 'सतत', 13041: 'सतरा', 13042: 'सतवणं', 13043: 'सतवत', 13044: 'सतावतोय', 13045: 'सत्तरपेक्षा', 13046: 'सत्ता', 13047: 'सत्ताधीश', 13048: 'सत्तावीस', 13049: 'सत्य', 13050: 'सत्याचा', 13051: 'सत्यानाश', 13052: 'सदस्य', 13053: 'सदस्यता', 13054: 'सदैव', 13055: 'सध्या', 13056: 'सध्याचा', 13057: 'सध्याच्या', 13058: 'सध्यातरी', 13059: 'सनस्क्रीन', 13060: 'सन्स्क्रीन', 13061: 'सपाट', 13062: 'सप्टेंबर', 13063: 'सप्टेंबरपर्यंत', 13064: 'सप्टेंबरमध्ये', 13065: 'सफरचंद', 13066: 'सफरचंदं', 13067: 'सफरचंदच', 13068: 'सफरचंदसुद्धा', 13069: 'सफरचंदांपेक्षा', 13070: 'सफरचंदाचं', 13071: 'सफरचंदाचा', 13072: 'सफरचंदाची', 13073: 'सफरचंदाला', 13074: 'सफरचंदासारखं', 13075: 'सफरचंदासारखीच', 13076: 'सफरचंदे', 13077: 'सफेद', 13078: 'सभ्यतांचा', 13079: 'सभ्यतेचं', 13080: 'सभ्यतेचा', 13081: 'समज', 13082: 'समजणं', 13083: 'समजणार', 13084: 'समजत', 13085: 'समजतं', 13086: 'समजतच', 13087: 'समजता', 13088: 'समजतात', 13089: 'समजतील', 13090: 'समजते', 13091: 'समजतेस', 13092: 'समजतो', 13093: 'समजतोस', 13094: 'समजलं', 13095: 'समजला', 13096: 'समजली', 13097: 'समजले', 13098: 'समजल्या', 13099: 'समजवशील', 13100: 'समजवायचा', 13101: 'समजवायला', 13102: 'समजवाल', 13103: 'समजशील', 13104: 'समजा', 13105: 'समजायचं', 13106: 'समजायचा', 13107: 'समजायचो', 13108: 'समजायला', 13109: 'समजाल', 13110: 'समजाव', 13111: 'समजावणं', 13112: 'समजावत', 13113: 'समजावते', 13114: 'समजावतो', 13115: 'समजावलं', 13116: 'समजावले', 13117: 'समजावा', 13118: 'समजावायचा', 13119: 'समजावू', 13120: 'समजावून', 13121: 'समजावेन', 13122: 'समजावेल', 13123: 'समजू', 13124: 'समजून', 13125: 'समजेन', 13126: 'समजेनासं', 13127: 'समजेल', 13128: 'समर', 13129: 'समर्थक', 13130: 'समर्थकांना', 13131: 'समर्थन', 13132: 'समलिंगी', 13133: 'समस्या', 13134: 'समस्यांना', 13135: 'समस्यांबद्दल', 13136: 'समस्यांविषयी', 13137: 'समस्येचा', 13138: 'समस्येबद्दल', 13139: 'समस्येवर', 13140: 'समस्येसाठी', 13141: 'समाज', 13142: 'समाजवादी', 13143: 'समाजशास्त्रज्ञ', 13144: 'समाजाचा', 13145: 'समाजात', 13146: 'समाधानकारक', 13147: 'समान', 13148: 'समानार्थी', 13149: 'समाप्त', 13150: 'समारंभ', 13151: 'समारंभात', 13152: 'समाविष्ट', 13153: 'समुदाय', 13154: 'समुद्र', 13155: 'समुद्रकिनारा', 13156: 'समुद्रकिनार्\\u200dयाचं', 13157: 'समुद्रकिनार्\\u200dयावर', 13158: 'समुद्राखाली', 13159: 'समुद्राच्या', 13160: 'समुद्राजवळ', 13161: 'समुद्रात', 13162: 'समुद्रातला', 13163: 'समुद्रातील', 13164: 'समुद्रापाशी', 13165: 'समुद्रापासून', 13166: 'समुद्राबद्दल', 13167: 'समुद्राला', 13168: 'समुद्री', 13169: 'समूह', 13170: 'समूहात', 13171: 'समूहावर', 13172: 'समोर', 13173: 'समोरच', 13174: 'समोरचं', 13175: 'समोरचा', 13176: 'समोरची', 13177: 'समोरच्या', 13178: 'समोरासमोर', 13179: 'समोसा', 13180: 'सम्टर', 13181: 'सम्टरची', 13182: 'सम्टरला', 13183: 'सम्राट', 13184: 'सरकार', 13185: 'सरकारवर', 13186: 'सरकारी', 13187: 'सरळ', 13188: 'सरळसरळ', 13189: 'सरोवर', 13190: 'सरोवराच्या', 13191: 'सरोवरात', 13192: 'सर्कसमध्ये', 13193: 'सर्जन', 13194: 'सर्जनशील', 13195: 'सर्जरी', 13196: 'सर्दी', 13197: 'सर्दीच', 13198: 'सर्दीसाठी', 13199: 'सर्फ', 13200: 'सर्फिंग', 13201: 'सर्बियाचा', 13202: 'सर्बियाची', 13203: 'सर्व', 13204: 'सर्वं', 13205: 'सर्वकाही', 13206: 'सर्वच', 13207: 'सर्वच्या', 13208: 'सर्वजण', 13209: 'सर्वनाश', 13210: 'सर्वप्रथम', 13211: 'सर्वर', 13212: 'सर्वविजेता', 13213: 'सर्वसामान्य', 13214: 'सर्वांचं', 13215: 'सर्वांचंच', 13216: 'सर्वांचा', 13217: 'सर्वांचाच', 13218: 'सर्वांची', 13219: 'सर्वांचे', 13220: 'सर्वांना', 13221: 'सर्वांनाच', 13222: 'सर्वांनी', 13223: 'सर्वांनीच', 13224: 'सर्वांनो', 13225: 'सर्वांपुरतं', 13226: 'सर्वांपेक्षा', 13227: 'सर्वांवर', 13228: 'सर्वांशी', 13229: 'सर्वांसाठी', 13230: 'सर्वात', 13231: 'सर्वोच्च', 13232: 'सर्वोत्तम', 13233: 'सलॉनला', 13234: 'सल्ला', 13235: 'सल्लागार', 13236: 'सल्लागारांना', 13237: 'सल्लेला', 13238: 'सवय', 13239: 'सव्वा', 13240: 'सव्वातीनला', 13241: 'सशामागे', 13242: 'ससा', 13243: 'ससे', 13244: 'सस्तन', 13245: 'सस्यांच्या', 13246: 'सहकार', 13247: 'सहज', 13248: 'सहजपणे', 13249: 'सहन', 13250: 'सहनच', 13251: 'सहनशील', 13252: 'सहभागी', 13253: 'सहभागींना', 13254: 'सहमत', 13255: 'सहलीची', 13256: 'सहा', 13257: 'सहाच्या', 13258: 'सहापट', 13259: 'सहाय्यक', 13260: 'सहारा', 13261: 'सहाला', 13262: 'सहाव्या', 13263: 'सही', 13264: 'सहीची', 13265: 'सहीच्या', 13266: 'सांग', 13267: 'सांगणं', 13268: 'सांगणार', 13269: 'सांगण्याची', 13270: 'सांगण्यात', 13271: 'सांगण्यासारखं', 13272: 'सांगत', 13273: 'सांगतच', 13274: 'सांगता', 13275: 'सांगतात', 13276: 'सांगतिलं', 13277: 'सांगतील', 13278: 'सांगते', 13279: 'सांगतेय', 13280: 'सांगतो', 13281: 'सांगतोय', 13282: 'सांगशील', 13283: 'सांगा', 13284: 'सांगायचं', 13285: 'सांगायचंय', 13286: 'सांगायचा', 13287: 'सांगायची', 13288: 'सांगायला', 13289: 'सांगायलाच', 13290: 'सांगाल', 13291: 'सांगावं', 13292: 'सांगितलं', 13293: 'सांगितलंत', 13294: 'सांगितलंय', 13295: 'सांगितलंस', 13296: 'सांगितला', 13297: 'सांगितली', 13298: 'सांगितले', 13299: 'सांगितलेलं', 13300: 'सांगितलेला', 13301: 'सांगिलं', 13302: 'सांगू', 13303: 'सांगूच', 13304: 'सांगून', 13305: 'सांगेन', 13306: 'सांगेल', 13307: 'सांघितलं', 13308: 'सांडतं', 13309: 'सांडला', 13310: 'सांडवलं', 13311: 'सांडवल्याचं', 13312: 'सांभाळ', 13313: 'सांभाळता', 13314: 'सांभाळतात', 13315: 'सांभाळते', 13316: 'सांभाळतो', 13317: 'सांभाळलं', 13318: 'सांभाळा', 13319: 'सांभाळायला', 13320: 'सांभाळू', 13321: 'सांभाळून', 13322: 'सांभाळेन', 13323: 'सांस्कृतिक', 13324: 'साइतामा', 13325: 'साईट', 13326: 'साउअरक्राउट', 13327: 'साके', 13328: 'साक्षी', 13329: 'साखर', 13330: 'साखरेची', 13331: 'साखरेचे', 13332: 'साखरेच्या', 13333: 'साखरेबरोबर', 13334: 'साखरेशिवाय', 13335: 'साखरेसारखी', 13336: 'सागर', 13337: 'सागराला', 13338: 'सागरी', 13339: 'सागा’', 13340: 'साचा', 13341: 'साजरा', 13342: 'साठ', 13343: 'साडेचारशे', 13344: 'साडेतीन', 13345: 'साडेदहा', 13346: 'साडेपाचच्या', 13347: 'साडेपाचपर्यंत', 13348: 'साडेपाचला', 13349: 'साडेसहापर्यंत', 13350: 'साडेसात', 13351: 'सात', 13352: 'सातच्या', 13353: 'सातपर्यंत', 13354: 'सातवा', 13355: 'सातवी', 13356: 'सातवे', 13357: 'सातव्या', 13358: 'साथ', 13359: 'साथीदारांना', 13360: 'सादर', 13361: 'साधनं', 13362: 'साधला', 13363: 'साधा', 13364: 'साधायचा', 13365: 'साधारण', 13366: 'साधारणतः', 13367: 'साधारणपणे', 13368: 'साधी', 13369: 'साधू', 13370: 'साधे', 13371: 'साध्या', 13372: 'साप', 13373: 'सापं', 13374: 'सापडणं', 13375: 'सापडणार', 13376: 'सापडण्यात', 13377: 'सापडत', 13378: 'सापडतच', 13379: 'सापडता', 13380: 'सापडतात', 13381: 'सापडलं', 13382: 'सापडलंय', 13383: 'सापडला', 13384: 'सापडलात', 13385: 'सापडलास', 13386: 'सापडली', 13387: 'सापडलीस', 13388: 'सापडले', 13389: 'सापडलेला', 13390: 'सापडलो', 13391: 'सापडल्या', 13392: 'सापडल्याबरोबरच', 13393: 'सापडशील', 13394: 'सापडायला', 13395: 'सापडाल', 13396: 'सापडू', 13397: 'सापडून', 13398: 'सापडेल', 13399: 'सापांना', 13400: 'सापांमुळे', 13401: 'सापाने', 13402: 'सापेक्षतावादाच्या', 13403: 'साफ', 13404: 'साबण', 13405: 'साबणाने', 13406: 'साबणामुळे', 13407: 'सामना', 13408: 'सामाजिक', 13409: 'सामान', 13410: 'सामानाबरोबर', 13411: 'सामुराइ', 13412: 'साम्य', 13413: 'साम्यवाद', 13414: 'साम्यवादी', 13415: 'साम्यवाद्यांनी', 13416: 'साम्राज्य', 13417: 'साम्राज्याचं', 13418: 'साम्राज्याचा', 13419: 'साम्राज्याचे', 13420: 'सायकल', 13421: 'सायकलचा', 13422: 'सायकली', 13423: 'सायकलीची', 13424: 'सायकलीच्या', 13425: 'सायकलीने', 13426: 'सायकलीला', 13427: 'सायकलीवरून', 13428: 'सायकलीसारखी', 13429: 'सायकॉलॉजीची', 13430: 'सायन्सचा', 13431: 'सायबरकॅफे', 13432: 'सायबॉर्ग', 13433: 'सायलेंट', 13434: 'सारखा', 13435: 'सारखाच', 13436: 'सारखी', 13437: 'सारखीच', 13438: 'सारखे', 13439: 'सारख्या', 13440: 'सारेच', 13441: 'सालच्या', 13442: 'सालात', 13443: 'सालापासून', 13444: 'साली', 13445: 'सालीपासनं', 13446: 'सालीवर', 13447: 'साळिंदर', 13448: 'सावकाश', 13449: 'सावध', 13450: 'सावधगिरीने', 13451: 'सावधान', 13452: 'सावलीत', 13453: 'सावलीशिवाय', 13454: 'सावल्या', 13455: 'सासू', 13456: 'साहसाचं', 13457: 'साहित्य', 13458: 'साहित्याचा', 13459: 'साहेब', 13460: 'सिंगापूरमध्ये', 13461: 'सिंगापूरला', 13462: 'सिंड्रेलाची', 13463: 'सिंह', 13464: 'सिंहांना', 13465: 'सिंहाची', 13466: 'सिक्युरिटीला', 13467: 'सिगरेट', 13468: 'सिगरेटच्या', 13469: 'सिगार', 13470: 'सिगारेट', 13471: 'सिग्रेट', 13472: 'सिटी', 13473: 'सिडनी', 13474: 'सितार', 13475: 'सिद्ध', 13476: 'सिद्धांताची', 13477: 'सिद्धांताशी', 13478: 'सिनाट्रा', 13479: 'सिनेमा', 13480: 'सिनेमाला', 13481: 'सिमेंट', 13482: 'सिमेंटच्या', 13483: 'सिरप', 13484: 'सिरियाची', 13485: 'सिर्हान', 13486: 'सिलिंग', 13487: 'सिस्टर', 13488: 'सी', 13489: 'सीआयएची', 13490: 'सीआयएमध्ये', 13491: 'सीईओ', 13492: 'सीएनएन', 13493: 'सीजर', 13494: 'सीजरच्या', 13495: 'सीझन', 13496: 'सीझर', 13497: 'सीझरने', 13498: 'सीट', 13499: 'सीटी', 13500: 'सीडी', 13501: 'सीडीची', 13502: 'सीड्या', 13503: 'सीमध्ये', 13504: 'सीमेचं', 13505: 'सीमेच्या', 13506: 'सीरियामध्ये', 13507: 'सीलिंग', 13508: 'सुंदर', 13509: 'सुंदरच', 13510: 'सुंदरता', 13511: 'सुंदरतेची', 13512: 'सुंदरतेसाठी', 13513: 'सुई', 13514: 'सुकडा', 13515: 'सुकडी', 13516: 'सुकरमांस', 13517: 'सुकरमांसापेक्षा', 13518: 'सुकलेला', 13519: 'सुकियाकि', 13520: 'सुख', 13521: 'सुखी', 13522: 'सुगंध', 13523: 'सुचत', 13524: 'सुचलं', 13525: 'सुचली', 13526: 'सुचवत', 13527: 'सुचवता', 13528: 'सुचवला', 13529: 'सुजला', 13530: 'सुजले', 13531: 'सुजलेला', 13532: 'सुजलेले', 13533: 'सुटकेस', 13534: 'सुटकेसचं', 13535: 'सुटकेसपेक्षा', 13536: 'सुटकेसमधून', 13537: 'सुटणार', 13538: 'सुटण्याचा', 13539: 'सुटत', 13540: 'सुटते', 13541: 'सुटतो', 13542: 'सुटला', 13543: 'सुटले', 13544: 'सुटलो', 13545: 'सुटायचा', 13546: 'सुटायच्या', 13547: 'सुटी', 13548: 'सुटू', 13549: 'सुटून', 13550: 'सुटेल', 13551: 'सुट्टी', 13552: 'सुट्टीचा', 13553: 'सुट्टीच्या', 13554: 'सुट्टीत', 13555: 'सुट्टीवर', 13556: 'सुट्टे', 13557: 'सुट्ट्या', 13558: 'सुदैवाने', 13559: 'सुद्धा', 13560: 'सुधारणा', 13561: 'सुधारत', 13562: 'सुधारते', 13563: 'सुधारली', 13564: 'सुधारायचं', 13565: 'सुधारायचा', 13566: 'सुधारायची', 13567: 'सुधारायला', 13568: 'सुधारेल', 13569: 'सुधृढ', 13570: 'सुनावण्यात', 13571: 'सुपरपावर', 13572: 'सुपरमार्केट', 13573: 'सुपरमार्केटमध्ये', 13574: 'सुपरमार्केटला', 13575: 'सुपरमॅन', 13576: 'सुपरवायझर', 13577: 'सुपरहिरो', 13578: 'सुप्रभात', 13579: 'सुप्रसिद्ध', 13580: 'सुमात्रा', 13581: 'सुमारास', 13582: 'सुमारे', 13583: 'सुमो', 13584: 'सुरक्षा', 13585: 'सुरक्षाव्यवस्था', 13586: 'सुरक्षित', 13587: 'सुरक्षेचा', 13588: 'सुरळीत', 13589: 'सुरी', 13590: 'सुरीने', 13591: 'सुरीवर', 13592: 'सुरु', 13593: 'सुरुवात', 13594: 'सुरुवातही', 13595: 'सुरुवातीपासून', 13596: 'सुरुवातीपासूनच', 13597: 'सुरुवातीला', 13598: 'सुरू', 13599: 'सुरूवात', 13600: 'सुरूवातीला', 13601: 'सुर्\\u200dया', 13602: 'सुर्\\u200dयांबरोबर', 13603: 'सुलभ', 13604: 'सुवर्ण', 13605: 'सुशी', 13606: 'सुसंस्कृत', 13607: 'सुस्थापित', 13608: 'सुस्वभावी', 13609: 'सुस्वागतम', 13610: 'सूइंग', 13611: 'सूक्ष्मजीवशास्त्रज्ञ', 13612: 'सूक्ष्मदर्शीय', 13613: 'सूचनेकडे', 13614: 'सूज', 13615: 'सूट', 13616: 'सूटकेस', 13617: 'सूत्र', 13618: 'सूप', 13619: 'सूपबरोबर', 13620: 'सूपमध्ये', 13621: 'सूपरमॉडेल', 13622: 'सूर्य', 13623: 'सूर्यफूल', 13624: 'सूर्यमालेतील', 13625: 'सूर्याच्या', 13626: 'सूर्यापासून', 13627: 'सूर्यापेक्षा', 13628: 'सॅँडविच', 13629: 'सॅक्रामेंटो', 13630: 'सॅक्सोफोनिस्ट', 13631: 'सॅन', 13632: 'सॅलड', 13633: 'सॅलडच्या', 13634: 'सॅलडवर', 13635: 'सॅलडही', 13636: 'सॅलमनचे', 13637: 'सॅल्मनसारखी', 13638: 'सॅल्व्हेशन', 13639: 'से', 13640: 'सेंट', 13641: 'सेंटर', 13642: 'सेंटरमध्ये', 13643: 'सेंटरवर', 13644: 'सेंटिमीटर', 13645: 'सेकंडहॅण्ड', 13646: 'सेकंद', 13647: 'सेकंदात', 13648: 'सेक्युरिटीला', 13649: 'सेक्रेटरी', 13650: 'सेक्रेटरीबरोबर', 13651: 'सेक्सी', 13652: 'सेन', 13653: 'सेनवरील', 13654: 'सेनापती', 13655: 'सेनेटमध्ये', 13656: 'सेनेने', 13657: 'सेन्सेई', 13658: 'सेमिनार', 13659: 'सेल', 13660: 'सेलफोन', 13661: 'सेलफोनची', 13662: 'सेलफोनवरून', 13663: 'सेल्समन', 13664: 'सेल्समनदेखील', 13665: 'सेवा', 13666: 'सेव्ह', 13667: 'सैनिक', 13668: 'सैनिकांकडे', 13669: 'सैनिकांचा', 13670: 'सैनिकांच्या', 13671: 'सैनिकांना', 13672: 'सैनिकांनी', 13673: 'सैनिकांवर', 13674: 'सैनिकाने', 13675: 'सैन्य', 13676: 'सैन्याकडे', 13677: 'सैन्याची', 13678: 'सैन्याच्या', 13679: 'सैन्याने', 13680: 'सैल', 13681: 'सॉकर', 13682: 'सॉक्स', 13683: 'सॉक्सचा', 13684: 'सॉनामध्ये', 13685: 'सॉनेट', 13686: 'सॉफ्टवेअर', 13687: 'सॉफ्टवेअरचं', 13688: 'सॉलिटेअर', 13689: 'सॉलिटेयर', 13690: 'सॉस', 13691: 'सॉसबरोबर', 13692: 'सोंडी', 13693: 'सोंब्रेरो', 13694: 'सोड', 13695: 'सोडणार', 13696: 'सोडण्यात', 13697: 'सोडत', 13698: 'सोडता', 13699: 'सोडतेय', 13700: 'सोडतो', 13701: 'सोडतोय', 13702: 'सोडलं', 13703: 'सोडलंत', 13704: 'सोडलंय', 13705: 'सोडलंस', 13706: 'सोडलत', 13707: 'सोडला', 13708: 'सोडली', 13709: 'सोडलीस', 13710: 'सोडलून', 13711: 'सोडले', 13712: 'सोडलेला', 13713: 'सोडलेली', 13714: 'सोडल्या', 13715: 'सोडल्यानंतर', 13716: 'सोडल्याबरोबर', 13717: 'सोडल्यास', 13718: 'सोडवत', 13719: 'सोडवता', 13720: 'सोडवली', 13721: 'सोडवल्या', 13722: 'सोडा', 13723: 'सोडाच', 13724: 'सोडायचं', 13725: 'सोडायचा', 13726: 'सोडायची', 13727: 'सोडायला', 13728: 'सोडावं', 13729: 'सोडू', 13730: 'सोडूच', 13731: 'सोडून', 13732: 'सोडूया', 13733: 'सोडेन', 13734: 'सोडेल', 13735: 'सोनं', 13736: 'सोनाटा', 13737: 'सोने', 13738: 'सोनेरी', 13739: 'सोन्याचं', 13740: 'सोन्याचा', 13741: 'सोन्याची', 13742: 'सोन्याच्या', 13743: 'सोन्यापेक्षा', 13744: 'सोन्साबरोबर', 13745: 'सोपं', 13746: 'सोपवलं', 13747: 'सोपवली', 13748: 'सोपवून', 13749: 'सोपा', 13750: 'सोपी', 13751: 'सोपे', 13752: 'सोप्या', 13753: 'सोप्रानो', 13754: 'सोफा', 13755: 'सोफ्याखाली', 13756: 'सोफ्यावर', 13757: 'सोबत', 13758: 'सोमनारच', 13759: 'सोमनारी', 13760: 'सोमवार', 13761: 'सोमवारच्या', 13762: 'सोमवारपर्यंत', 13763: 'सोमवारी', 13764: 'सोमवारीही', 13765: 'सोल', 13766: 'सोलत', 13767: 'सोलता', 13768: 'सोलतेय', 13769: 'सोलतोय', 13770: 'सोललं', 13771: 'सोलला', 13772: 'सोलली', 13773: 'सोलले', 13774: 'सोला', 13775: 'सोलून', 13776: 'सोळा', 13777: 'सोव्हिएत', 13778: 'सोशल', 13779: 'सोहळा', 13780: 'सौदा', 13781: 'सौदी', 13782: 'सौम्य', 13783: 'स्कर्ट', 13784: 'स्किझोफ्रेनिक', 13785: 'स्की', 13786: 'स्कूटर', 13787: 'स्कूलचं', 13788: 'स्कूलला', 13789: 'स्कॅन', 13790: 'स्केट', 13791: 'स्केट्सना', 13792: 'स्कॉटलंडची', 13793: 'स्कॉटलंडमध्ये', 13794: 'स्कॉटिश', 13795: 'स्कोअर', 13796: 'स्कोन', 13797: 'स्कोर', 13798: 'स्क्रीनकडे', 13799: 'स्क्रीनसेव्हर', 13800: 'स्क्रू', 13801: 'स्क्रूड्रायव्हर', 13802: 'स्क्विडचे', 13803: 'स्क्वॅश', 13804: 'स्टार्टपमध्ये', 13805: 'स्टार्स', 13806: 'स्टालिनला', 13807: 'स्टिक्स', 13808: 'स्टूलवर', 13809: 'स्टॅच्यू', 13810: 'स्टॅम्प', 13811: 'स्टेक', 13812: 'स्टेट', 13813: 'स्टेट्स', 13814: 'स्टेट्सकडे', 13815: 'स्टेट्सची', 13816: 'स्टेट्सचे', 13817: 'स्टेट्सच्या', 13818: 'स्टेट्सने', 13819: 'स्टेट्सपासून', 13820: 'स्टेट्समधील', 13821: 'स्टेट्समध्ये', 13822: 'स्टेडियमला', 13823: 'स्टेनोग्राफीचा', 13824: 'स्टेपलर', 13825: 'स्टेरॉइड', 13826: 'स्टेशन', 13827: 'स्टेशनच्या', 13828: 'स्टेशनजवळ', 13829: 'स्टेशनजवळच', 13830: 'स्टेशनपर्यंत', 13831: 'स्टेशनपासून', 13832: 'स्टेशनमध्ये', 13833: 'स्टेशनला', 13834: 'स्टेशनवरून', 13835: 'स्टेशनसमोर', 13836: 'स्टॉकहोल्म', 13837: 'स्टॉप', 13838: 'स्टोव्ह', 13839: 'स्टोव्हवर', 13840: 'स्ट्राइप्स', 13841: 'स्ट्रिक्ट', 13842: 'स्ट्रीट', 13843: 'स्ट्रीटला', 13844: 'स्ट्रीटवर', 13845: 'स्ट्रॉबेरी', 13846: 'स्तनाचा', 13847: 'स्तुती', 13848: 'स्त्रिया', 13849: 'स्त्रियांचा', 13850: 'स्त्रियांच्या', 13851: 'स्त्रियांना', 13852: 'स्त्रियांपेक्षा', 13853: 'स्त्रियांवर', 13854: 'स्त्री', 13855: 'स्त्रीचा', 13856: 'स्त्रीया', 13857: 'स्त्रीला', 13858: 'स्थाईक', 13859: 'स्थानक', 13860: 'स्थानकाकडे', 13861: 'स्थानकाचं', 13862: 'स्थानकाच्या', 13863: 'स्थानकाजवळ', 13864: 'स्थानकात', 13865: 'स्थानकापर्यंत', 13866: 'स्थानकापासून', 13867: 'स्थानकाला', 13868: 'स्थानकावर', 13869: 'स्थानकासमोर', 13870: 'स्थानबद्ध', 13871: 'स्थानिक', 13872: 'स्थापन', 13873: 'स्थापना', 13874: 'स्थापित', 13875: 'स्थित', 13876: 'स्थिती', 13877: 'स्थिर', 13878: 'स्नानगृह', 13879: 'स्नानगृहात', 13880: 'स्नायू', 13881: 'स्नोबोर्डिंग', 13882: 'स्पर्धकांमधील', 13883: 'स्पर्धा', 13884: 'स्पर्धेत', 13885: 'स्पर्श', 13886: 'स्पष्ट', 13887: 'स्पष्टपणे', 13888: 'स्पुटनिक', 13889: 'स्पॅगेटी', 13890: 'स्पॅनिश', 13891: 'स्पॅनिशमध्ये', 13892: 'स्पेन', 13893: 'स्पेनचा', 13894: 'स्पेनची', 13895: 'स्पेनच्या', 13896: 'स्पेनमधील', 13897: 'स्पेनमध्ये', 13898: 'स्पेनला', 13899: 'स्पेनवर', 13900: 'स्पेनविषयी', 13901: 'स्पेनशी', 13902: 'स्पेलिंग', 13903: 'स्फटिकी', 13904: 'स्फिंक्स', 13905: 'स्फोट', 13906: 'स्फोटात', 13907: 'स्फोटामुळे', 13908: 'स्मरणशक्ती', 13909: 'स्मार्टफोन', 13910: 'स्मिथ', 13911: 'स्मृती', 13912: 'स्रोत', 13913: 'स्लाइस', 13914: 'स्लिपर', 13915: 'स्वच्छ', 13916: 'स्वच्छतागृह', 13917: 'स्वतंत्र', 13918: 'स्वतः', 13919: 'स्वतःकडे', 13920: 'स्वतःच', 13921: 'स्वतःचं', 13922: 'स्वतःचंच', 13923: 'स्वतःचा', 13924: 'स्वतःचाच', 13925: 'स्वतःची', 13926: 'स्वतःचीच', 13927: 'स्वतःचे', 13928: 'स्वतःचेच', 13929: 'स्वतःच्या', 13930: 'स्वतःच्याच', 13931: 'स्वतःपुरतं', 13932: 'स्वतःपुर्ती', 13933: 'स्वतःबद्दल', 13934: 'स्वतःबरोबर', 13935: 'स्वतःला', 13936: 'स्वतःलाही', 13937: 'स्वतःवर', 13938: 'स्वतःवरच', 13939: 'स्वतःशिवाय', 13940: 'स्वतःशी', 13941: 'स्वतःशीच', 13942: 'स्वतःसाठी', 13943: 'स्वतःहून', 13944: 'स्वतःहूनच', 13945: 'स्वतःहूनसुद्धा', 13946: 'स्वताची', 13947: 'स्वताचे', 13948: 'स्वताच्या', 13949: 'स्वताहून', 13950: 'स्वप्न', 13951: 'स्वप्नं', 13952: 'स्वप्नच', 13953: 'स्वप्नही', 13954: 'स्वप्नांशिवाय', 13955: 'स्वप्नात', 13956: 'स्वप्नातही', 13957: 'स्वप्नासारखं', 13958: 'स्वप्ने', 13959: 'स्वभावाचा', 13960: 'स्वभावाला', 13961: 'स्वयंपाक', 13962: 'स्वयंपाकघर', 13963: 'स्वयंपाकघराचा', 13964: 'स्वयंपाकघरात', 13965: 'स्वयंपाकघरातच', 13966: 'स्वयंपाकघरातला', 13967: 'स्वयंपाकघरातल्या', 13968: 'स्वयंपाकघरातून', 13969: 'स्वयंपाकी', 13970: 'स्वर्गात', 13971: 'स्वस्त', 13972: 'स्वस्तात', 13973: 'स्वस्तातला', 13974: 'स्वस्तातल्या', 13975: 'स्वागत', 13976: 'स्वातंत्र्य', 13977: 'स्वातंत्र्यदिन', 13978: 'स्वातंत्र्याचा', 13979: 'स्वातंत्र्याची', 13980: 'स्वातंत्र्याच्या', 13981: 'स्वातंत्र्यासाठी', 13982: 'स्वादिष्ट', 13983: 'स्वारी', 13984: 'स्वार्थी', 13985: 'स्वावलंबी', 13986: 'स्वित्झर्लंड', 13987: 'स्वित्झर्लंडची', 13988: 'स्वित्झर्लंडच्या', 13989: 'स्वित्झर्लंडमधील', 13990: 'स्वित्झर्लंडमध्ये', 13991: 'स्विमिंग', 13992: 'स्विमिंगपूलमध्ये', 13993: 'स्विम्सूट', 13994: 'स्विस', 13995: 'स्वीकार', 13996: 'स्वीकारत', 13997: 'स्वीकारते', 13998: 'स्वीकारतो', 13999: 'स्वीकारलं', 14000: 'स्वीकारला', 14001: 'स्वीकारली', 14002: 'स्वीकारू', 14003: 'स्वीकारेन', 14004: 'स्वीडनची', 14005: 'स्वीडनमधील', 14006: 'स्वीडिश', 14007: 'स्वीडिशसुद्धा', 14008: 'स्वेटर', 14009: 'हँगरवर', 14010: 'हँडसम', 14011: 'हँबर्गर', 14012: 'हं', 14013: 'हंगेरियन', 14014: 'हंगेरीची', 14015: 'हक्क', 14016: 'हजर', 14017: 'हजार', 14018: 'हजारापेक्षा', 14019: 'हजारो', 14020: 'हट', 14021: 'हड्डींमुळे', 14022: 'हत्ती', 14023: 'हत्तींचे', 14024: 'हत्तींच्या', 14025: 'हत्तींना', 14026: 'हत्तींपेक्षा', 14027: 'हत्तीकडे', 14028: 'हत्तीपेक्षा', 14029: 'हत्तीला', 14030: 'हत्तीवर', 14031: 'हत्या', 14032: 'हत्यार', 14033: 'हमिंगबर्ड', 14034: 'हरकत', 14035: 'हरण', 14036: 'हरणं', 14037: 'हरणार', 14038: 'हरणाला', 14039: 'हरण्याचा', 14040: 'हरत', 14041: 'हरतो', 14042: 'हरला', 14043: 'हरली', 14044: 'हरले', 14045: 'हरलो', 14046: 'हरल्या', 14047: 'हरवणं', 14048: 'हरवणार', 14049: 'हरवण्याचा', 14050: 'हरवण्यात', 14051: 'हरवत', 14052: 'हरवताहेत', 14053: 'हरवतील', 14054: 'हरवतेय', 14055: 'हरवलं', 14056: 'हरवलंय', 14057: 'हरवला', 14058: 'हरवलाय', 14059: 'हरवली', 14060: 'हरवले', 14061: 'हरवलेय', 14062: 'हरवलेलं', 14063: 'हरवलेला', 14064: 'हरवलेली', 14065: 'हरवलो', 14066: 'हरवलोय', 14067: 'हरवल्या', 14068: 'हरवशील', 14069: 'हरवाल', 14070: 'हरवू', 14071: 'हरवून', 14072: 'हरवेल', 14073: 'हरशील', 14074: 'हरायचं', 14075: 'हरायला', 14076: 'हराल', 14077: 'हरू', 14078: 'हरेन', 14079: 'हर्बर्ट', 14080: 'हर्बल', 14081: 'हलकं', 14082: 'हलका', 14083: 'हलकी', 14084: 'हलत', 14085: 'हलता', 14086: 'हलला', 14087: 'हलवता', 14088: 'हलवला', 14089: 'हलवली', 14090: 'हलवले', 14091: 'हलवायला', 14092: 'हलवू', 14093: 'हलवूया', 14094: 'हलू', 14095: 'हल्ला', 14096: 'हल्लीच', 14097: 'हल्लेखोर', 14098: 'हल्ल्याची', 14099: 'हळुवारपणे', 14100: 'हळू', 14101: 'हळूच', 14102: 'हळूवारपणे', 14103: 'हळूहळू', 14104: 'हवं', 14105: 'हवंय', 14106: 'हवंस', 14107: 'हवा', 14108: 'हवाईची', 14109: 'हवाईयन', 14110: 'हवाईला', 14111: 'हवामान', 14112: 'हवामानाची', 14113: 'हवामानाबद्दल', 14114: 'हवाय', 14115: 'हवास', 14116: 'हवी', 14117: 'हवीत', 14118: 'हवीस', 14119: 'हवे', 14120: 'हवेत', 14121: 'हवेय', 14122: 'हवेयत', 14123: 'हव्या', 14124: 'हव्हानामध्ये', 14125: 'हसणं', 14126: 'हसणार', 14127: 'हसण्याची', 14128: 'हसण्यासारखं', 14129: 'हसत', 14130: 'हसतंय', 14131: 'हसतच', 14132: 'हसता', 14133: 'हसतात', 14134: 'हसताना', 14135: 'हसताहेत', 14136: 'हसतील', 14137: 'हसते', 14138: 'हसतेय', 14139: 'हसतो', 14140: 'हसतोय', 14141: 'हसतोयस', 14142: 'हसलं', 14143: 'हसला', 14144: 'हसली', 14145: 'हसले', 14146: 'हसलो', 14147: 'हसल्या', 14148: 'हसवण्यात', 14149: 'हसवता', 14150: 'हसवतेस', 14151: 'हसवतो', 14152: 'हसवतोस', 14153: 'हसवलं', 14154: 'हसवलंत', 14155: 'हसवलंस', 14156: 'हसवायचा', 14157: 'हसवू', 14158: 'हसशील', 14159: 'हसायचं', 14160: 'हसायला', 14161: 'हसाल', 14162: 'हसू', 14163: 'हसेन', 14164: 'हसेल', 14165: 'हस्ताक्षर', 14166: 'हा', 14167: 'हाँगकाँगद्वारे', 14168: 'हाँगकाँगमध्ये', 14169: 'हाँगकाँगला', 14170: 'हाउसला', 14171: 'हाऊस', 14172: 'हाऊसला', 14173: 'हाक', 14174: 'हाकोदातेला', 14175: 'हाच', 14176: 'हाडांनी', 14177: 'हात', 14178: 'हातपाय', 14179: 'हातसुद्धा', 14180: 'हातही', 14181: 'हातांत', 14182: 'हातांनी', 14183: 'हातांवर', 14184: 'हातात', 14185: 'हाताने', 14186: 'हाताला', 14187: 'हातावर', 14188: 'हाती', 14189: 'हातून', 14190: 'हातोडा', 14191: 'हादरून', 14192: 'हाय', 14193: 'हायब्रिड', 14194: 'हायवेवर', 14195: 'हार', 14196: 'हार्ड', 14197: 'हार्डवेअरच्या', 14198: 'हार्दिक', 14199: 'हार्प', 14200: 'हार्पर्स', 14201: 'हार्पसिकॉर्डदेखील', 14202: 'हार्बर', 14203: 'हार्वर्ड', 14204: 'हार्वर्डला', 14205: 'हार्वी', 14206: 'हालचाल', 14207: 'हावरट', 14208: 'हास्य', 14209: 'हास्यास्पद', 14210: 'हिंदूंसाठी', 14211: 'हिंमत', 14212: 'हिंसक', 14213: 'हिंसा', 14214: 'हिंसेत', 14215: 'हिट', 14216: 'हिटलर', 14217: 'हिट्लरने', 14218: 'हिदेयो', 14219: 'हिप्पी', 14220: 'हिप्स्टर', 14221: 'हिब्रूमध्ये', 14222: 'हिमालय', 14223: 'हिमालयमधले', 14224: 'हिमोग्लोबिन', 14225: 'हिरवं', 14226: 'हिरवा', 14227: 'हिरवी', 14228: 'हिरवे', 14229: 'हिरव्या', 14230: 'हिरा', 14231: 'हिरावून', 14232: 'हिरे', 14233: 'हिरॉइन', 14234: 'हिरोशिमा', 14235: 'हिरोशिमावर', 14236: 'हिर्\\u200dयाची', 14237: 'हिल', 14238: 'हिलबिली', 14239: 'हिल्टन', 14240: 'हिवाळा', 14241: 'हिवाळ्यात', 14242: 'हिवाळ्यातही', 14243: 'हिशोबानं', 14244: 'हिशोबाने', 14245: 'ही', 14246: 'हीच', 14247: 'हील्स', 14248: 'हुकुमशहाचं', 14249: 'हुकुमशाही', 14250: 'हुकूम', 14251: 'हुला', 14252: 'हुशार', 14253: 'हूप', 14254: 'हूव्हर', 14255: 'हृदय', 14256: 'हृदयात', 14257: 'हृदयाने', 14258: 'हॅक', 14259: 'हॅकसॉ', 14260: 'हॅगिस', 14261: 'हॅपी', 14262: 'हॅम', 14263: 'हॅमबर्गर', 14264: 'हॅमलेट', 14265: 'हॅमिल्टनने', 14266: 'हॅम्बर्गर', 14267: 'हॅम्लेट', 14268: 'हॅलो', 14269: 'हॅलोवीन', 14270: 'हॅलोवीनच्या', 14271: 'हे', 14272: 'हेअरस्टाइल', 14273: 'हेअरस्टाईल', 14274: 'हेइझ', 14275: 'हेच', 14276: 'हेडफोन', 14277: 'हेडफोन्स', 14278: 'हेडलाईट', 14279: 'हेडलाईट्स', 14280: 'हेडसेट', 14281: 'हेड्फोन', 14282: 'हेतु', 14283: 'हेतू', 14284: 'हेतूने', 14285: 'हेन्री', 14286: 'हेर', 14287: 'हेराने', 14288: 'हेरोइन', 14289: 'हेलिकॉप्टर', 14290: 'हेलिकॉप्टरच्या', 14291: 'हेलिकॉप्टरमध्ये', 14292: 'हेलिकॉप्टरवर', 14293: 'हेल्मेट', 14294: 'हेल्मेटची', 14295: 'हेल्सिंकी', 14296: 'हेव्ही', 14297: 'हेसुद्धा', 14298: 'हेही', 14299: 'है', 14300: 'हॉकी', 14301: 'हॉकीचे', 14302: 'हॉट', 14303: 'हॉटडॉग', 14304: 'हॉटेल', 14305: 'हॉटेलं', 14306: 'हॉटेलचं', 14307: 'हॉटेलचा', 14308: 'हॉटेलचे', 14309: 'हॉटेलच्या', 14310: 'हॉटेलपेक्षा', 14311: 'हॉटेलमधलं', 14312: 'हॉटेलमध्ये', 14313: 'हॉटेलला', 14314: 'हॉटेलात', 14315: 'हॉर्न', 14316: 'हॉर्नला', 14317: 'हॉर्सरॅडिश', 14318: 'हॉल', 14319: 'हॉलंडपासून', 14320: 'हॉलच्या', 14321: 'हॉलमध्ये', 14322: 'हॉस्पिटल', 14323: 'हॉस्पिटलच्या', 14324: 'हॉस्पिटलमध्ये', 14325: 'हॉस्पिटलला', 14326: 'हो', 14327: 'होईन', 14328: 'होईपर्यंत', 14329: 'होईल', 14330: 'होईलच', 14331: 'होऊ', 14332: 'होऊन', 14333: 'होऊया', 14334: 'होकायंत्र', 14335: 'होक्काइदो', 14336: 'होक्काइदोचा', 14337: 'होक्काइदोचे', 14338: 'होक्काइदोला', 14339: 'होच', 14340: 'होझ', 14341: 'होडफोन्स', 14342: 'होडीने', 14343: 'होणार', 14344: 'होण्याअगोदर', 14345: 'होण्यात', 14346: 'होत', 14347: 'होतं', 14348: 'होतंच', 14349: 'होतंत', 14350: 'होतंय', 14351: 'होतंस', 14352: 'होतच', 14353: 'होता', 14354: 'होताच', 14355: 'होतात', 14356: 'होतातच', 14357: 'होतायत', 14358: 'होतास', 14359: 'होती', 14360: 'होतीच', 14361: 'होतील', 14362: 'होतीस', 14363: 'होते', 14364: 'होतेय', 14365: 'होतो', 14366: 'होतोय', 14367: 'होत्या', 14368: 'होन्शू', 14369: 'होम', 14370: 'होमवर्क', 14371: 'होमस्टेड', 14372: 'होय', 14373: 'होवून', 14374: 'होशील', 14375: 'ह्या', 14376: 'ह्यांना', 14377: 'ह्यांनी', 14378: 'ह्यांमधून', 14379: 'ह्याच', 14380: 'ह्याचं', 14381: 'ह्याचा', 14382: 'ह्याची', 14383: 'ह्यातलं', 14384: 'ह्यातून', 14385: 'ह्याने', 14386: 'ह्याबद्दल', 14387: 'ह्यामध्ये', 14388: 'ह्यामुळे', 14389: 'ह्याला', 14390: 'ह्यावर', 14391: 'ह्रदयात', 14392: '€'}\n"
          ]
        }
      ],
      "source": [
        "reverse_input_char_index = dict((i, word) for word, i in input_token_index.items())\n",
        "reverse_target_char_index = dict((i, word) for word, i in target_token_index.items())\n",
        "print(reverse_target_char_index)"
      ]
    },
    {
      "cell_type": "code",
      "execution_count": null,
      "metadata": {
        "colab": {
          "base_uri": "https://localhost:8080/",
          "height": 363
        },
        "id": "fMvIJlwv_f65",
        "outputId": "db6ecb9b-168e-430a-90e2-bca8d8ba8b89"
      },
      "outputs": [
        {
          "data": {
            "text/html": [
              "\n",
              "  <div id=\"df-68babc56-b310-4082-bcee-ac505df8436d\" class=\"colab-df-container\">\n",
              "    <div>\n",
              "<style scoped>\n",
              "    .dataframe tbody tr th:only-of-type {\n",
              "        vertical-align: middle;\n",
              "    }\n",
              "\n",
              "    .dataframe tbody tr th {\n",
              "        vertical-align: top;\n",
              "    }\n",
              "\n",
              "    .dataframe thead th {\n",
              "        text-align: right;\n",
              "    }\n",
              "</style>\n",
              "<table border=\"1\" class=\"dataframe\">\n",
              "  <thead>\n",
              "    <tr style=\"text-align: right;\">\n",
              "      <th></th>\n",
              "      <th>eng</th>\n",
              "      <th>mar</th>\n",
              "      <th>noise</th>\n",
              "    </tr>\n",
              "  </thead>\n",
              "  <tbody>\n",
              "    <tr>\n",
              "      <th>44043</th>\n",
              "      <td>he is the very man that i have waited for</td>\n",
              "      <td>START_ होच तो पुरुष ज्याची मी वाट पाहत होते _END</td>\n",
              "      <td>CC-BY 2.0 (France) Attribution: tatoeba.org #2...</td>\n",
              "    </tr>\n",
              "    <tr>\n",
              "      <th>19183</th>\n",
              "      <td>what else do you want</td>\n",
              "      <td>START_ तुम्हाला अजून काय हवं आहे _END</td>\n",
              "      <td>CC-BY 2.0 (France) Attribution: tatoeba.org #2...</td>\n",
              "    </tr>\n",
              "    <tr>\n",
              "      <th>29661</th>\n",
              "      <td>we cant blame anyone else</td>\n",
              "      <td>START_ आपण इतर कोणालाही दोष देऊ शकत नाही _END</td>\n",
              "      <td>CC-BY 2.0 (France) Attribution: tatoeba.org #4...</td>\n",
              "    </tr>\n",
              "    <tr>\n",
              "      <th>20092</th>\n",
              "      <td>i dont know everybody</td>\n",
              "      <td>START_ मी सर्वांना ओळखत नाही _END</td>\n",
              "      <td>CC-BY 2.0 (France) Attribution: tatoeba.org #2...</td>\n",
              "    </tr>\n",
              "    <tr>\n",
              "      <th>33921</th>\n",
              "      <td>i just dont know you anymore</td>\n",
              "      <td>START_ मी आता तुम्हाला ओळखत नाही _END</td>\n",
              "      <td>CC-BY 2.0 (France) Attribution: tatoeba.org #8...</td>\n",
              "    </tr>\n",
              "    <tr>\n",
              "      <th>32745</th>\n",
              "      <td>she died yesterday afternoon</td>\n",
              "      <td>START_ त्या काल दुपारी मेल्या _END</td>\n",
              "      <td>CC-BY 2.0 (France) Attribution: tatoeba.org #3...</td>\n",
              "    </tr>\n",
              "    <tr>\n",
              "      <th>6193</th>\n",
              "      <td>dont yell at me</td>\n",
              "      <td>START_ माझ्यावर ओरडू नका _END</td>\n",
              "      <td>CC-BY 2.0 (France) Attribution: tatoeba.org #2...</td>\n",
              "    </tr>\n",
              "    <tr>\n",
              "      <th>18206</th>\n",
              "      <td>it was saturday night</td>\n",
              "      <td>START_ शनिवारची रात्र होती _END</td>\n",
              "      <td>CC-BY 2.0 (France) Attribution: tatoeba.org #2...</td>\n",
              "    </tr>\n",
              "    <tr>\n",
              "      <th>10561</th>\n",
              "      <td>i laughed out loud</td>\n",
              "      <td>START_ मी जोरात हसलो _END</td>\n",
              "      <td>CC-BY 2.0 (France) Attribution: tatoeba.org #1...</td>\n",
              "    </tr>\n",
              "    <tr>\n",
              "      <th>43501</th>\n",
              "      <td>we dont know what tom is going to find</td>\n",
              "      <td>START_ टॉमला काय सापडणार आहे हे आपल्याला माहीत...</td>\n",
              "      <td>CC-BY 2.0 (France) Attribution: tatoeba.org #8...</td>\n",
              "    </tr>\n",
              "  </tbody>\n",
              "</table>\n",
              "</div>\n",
              "    <div class=\"colab-df-buttons\">\n",
              "\n",
              "  <div class=\"colab-df-container\">\n",
              "    <button class=\"colab-df-convert\" onclick=\"convertToInteractive('df-68babc56-b310-4082-bcee-ac505df8436d')\"\n",
              "            title=\"Convert this dataframe to an interactive table.\"\n",
              "            style=\"display:none;\">\n",
              "\n",
              "  <svg xmlns=\"http://www.w3.org/2000/svg\" height=\"24px\" viewBox=\"0 -960 960 960\">\n",
              "    <path d=\"M120-120v-720h720v720H120Zm60-500h600v-160H180v160Zm220 220h160v-160H400v160Zm0 220h160v-160H400v160ZM180-400h160v-160H180v160Zm440 0h160v-160H620v160ZM180-180h160v-160H180v160Zm440 0h160v-160H620v160Z\"/>\n",
              "  </svg>\n",
              "    </button>\n",
              "\n",
              "  <style>\n",
              "    .colab-df-container {\n",
              "      display:flex;\n",
              "      gap: 12px;\n",
              "    }\n",
              "\n",
              "    .colab-df-convert {\n",
              "      background-color: #E8F0FE;\n",
              "      border: none;\n",
              "      border-radius: 50%;\n",
              "      cursor: pointer;\n",
              "      display: none;\n",
              "      fill: #1967D2;\n",
              "      height: 32px;\n",
              "      padding: 0 0 0 0;\n",
              "      width: 32px;\n",
              "    }\n",
              "\n",
              "    .colab-df-convert:hover {\n",
              "      background-color: #E2EBFA;\n",
              "      box-shadow: 0px 1px 2px rgba(60, 64, 67, 0.3), 0px 1px 3px 1px rgba(60, 64, 67, 0.15);\n",
              "      fill: #174EA6;\n",
              "    }\n",
              "\n",
              "    .colab-df-buttons div {\n",
              "      margin-bottom: 4px;\n",
              "    }\n",
              "\n",
              "    [theme=dark] .colab-df-convert {\n",
              "      background-color: #3B4455;\n",
              "      fill: #D2E3FC;\n",
              "    }\n",
              "\n",
              "    [theme=dark] .colab-df-convert:hover {\n",
              "      background-color: #434B5C;\n",
              "      box-shadow: 0px 1px 3px 1px rgba(0, 0, 0, 0.15);\n",
              "      filter: drop-shadow(0px 1px 2px rgba(0, 0, 0, 0.3));\n",
              "      fill: #FFFFFF;\n",
              "    }\n",
              "  </style>\n",
              "\n",
              "    <script>\n",
              "      const buttonEl =\n",
              "        document.querySelector('#df-68babc56-b310-4082-bcee-ac505df8436d button.colab-df-convert');\n",
              "      buttonEl.style.display =\n",
              "        google.colab.kernel.accessAllowed ? 'block' : 'none';\n",
              "\n",
              "      async function convertToInteractive(key) {\n",
              "        const element = document.querySelector('#df-68babc56-b310-4082-bcee-ac505df8436d');\n",
              "        const dataTable =\n",
              "          await google.colab.kernel.invokeFunction('convertToInteractive',\n",
              "                                                    [key], {});\n",
              "        if (!dataTable) return;\n",
              "\n",
              "        const docLinkHtml = 'Like what you see? Visit the ' +\n",
              "          '<a target=\"_blank\" href=https://colab.research.google.com/notebooks/data_table.ipynb>data table notebook</a>'\n",
              "          + ' to learn more about interactive tables.';\n",
              "        element.innerHTML = '';\n",
              "        dataTable['output_type'] = 'display_data';\n",
              "        await google.colab.output.renderOutput(dataTable, element);\n",
              "        const docLink = document.createElement('div');\n",
              "        docLink.innerHTML = docLinkHtml;\n",
              "        element.appendChild(docLink);\n",
              "      }\n",
              "    </script>\n",
              "  </div>\n",
              "\n",
              "\n",
              "<div id=\"df-5902fadc-08ed-4ada-9a4b-ae396168b300\">\n",
              "  <button class=\"colab-df-quickchart\" onclick=\"quickchart('df-5902fadc-08ed-4ada-9a4b-ae396168b300')\"\n",
              "            title=\"Suggest charts.\"\n",
              "            style=\"display:none;\">\n",
              "\n",
              "<svg xmlns=\"http://www.w3.org/2000/svg\" height=\"24px\"viewBox=\"0 0 24 24\"\n",
              "     width=\"24px\">\n",
              "    <g>\n",
              "        <path d=\"M19 3H5c-1.1 0-2 .9-2 2v14c0 1.1.9 2 2 2h14c1.1 0 2-.9 2-2V5c0-1.1-.9-2-2-2zM9 17H7v-7h2v7zm4 0h-2V7h2v10zm4 0h-2v-4h2v4z\"/>\n",
              "    </g>\n",
              "</svg>\n",
              "  </button>\n",
              "\n",
              "<style>\n",
              "  .colab-df-quickchart {\n",
              "      --bg-color: #E8F0FE;\n",
              "      --fill-color: #1967D2;\n",
              "      --hover-bg-color: #E2EBFA;\n",
              "      --hover-fill-color: #174EA6;\n",
              "      --disabled-fill-color: #AAA;\n",
              "      --disabled-bg-color: #DDD;\n",
              "  }\n",
              "\n",
              "  [theme=dark] .colab-df-quickchart {\n",
              "      --bg-color: #3B4455;\n",
              "      --fill-color: #D2E3FC;\n",
              "      --hover-bg-color: #434B5C;\n",
              "      --hover-fill-color: #FFFFFF;\n",
              "      --disabled-bg-color: #3B4455;\n",
              "      --disabled-fill-color: #666;\n",
              "  }\n",
              "\n",
              "  .colab-df-quickchart {\n",
              "    background-color: var(--bg-color);\n",
              "    border: none;\n",
              "    border-radius: 50%;\n",
              "    cursor: pointer;\n",
              "    display: none;\n",
              "    fill: var(--fill-color);\n",
              "    height: 32px;\n",
              "    padding: 0;\n",
              "    width: 32px;\n",
              "  }\n",
              "\n",
              "  .colab-df-quickchart:hover {\n",
              "    background-color: var(--hover-bg-color);\n",
              "    box-shadow: 0 1px 2px rgba(60, 64, 67, 0.3), 0 1px 3px 1px rgba(60, 64, 67, 0.15);\n",
              "    fill: var(--button-hover-fill-color);\n",
              "  }\n",
              "\n",
              "  .colab-df-quickchart-complete:disabled,\n",
              "  .colab-df-quickchart-complete:disabled:hover {\n",
              "    background-color: var(--disabled-bg-color);\n",
              "    fill: var(--disabled-fill-color);\n",
              "    box-shadow: none;\n",
              "  }\n",
              "\n",
              "  .colab-df-spinner {\n",
              "    border: 2px solid var(--fill-color);\n",
              "    border-color: transparent;\n",
              "    border-bottom-color: var(--fill-color);\n",
              "    animation:\n",
              "      spin 1s steps(1) infinite;\n",
              "  }\n",
              "\n",
              "  @keyframes spin {\n",
              "    0% {\n",
              "      border-color: transparent;\n",
              "      border-bottom-color: var(--fill-color);\n",
              "      border-left-color: var(--fill-color);\n",
              "    }\n",
              "    20% {\n",
              "      border-color: transparent;\n",
              "      border-left-color: var(--fill-color);\n",
              "      border-top-color: var(--fill-color);\n",
              "    }\n",
              "    30% {\n",
              "      border-color: transparent;\n",
              "      border-left-color: var(--fill-color);\n",
              "      border-top-color: var(--fill-color);\n",
              "      border-right-color: var(--fill-color);\n",
              "    }\n",
              "    40% {\n",
              "      border-color: transparent;\n",
              "      border-right-color: var(--fill-color);\n",
              "      border-top-color: var(--fill-color);\n",
              "    }\n",
              "    60% {\n",
              "      border-color: transparent;\n",
              "      border-right-color: var(--fill-color);\n",
              "    }\n",
              "    80% {\n",
              "      border-color: transparent;\n",
              "      border-right-color: var(--fill-color);\n",
              "      border-bottom-color: var(--fill-color);\n",
              "    }\n",
              "    90% {\n",
              "      border-color: transparent;\n",
              "      border-bottom-color: var(--fill-color);\n",
              "    }\n",
              "  }\n",
              "</style>\n",
              "\n",
              "  <script>\n",
              "    async function quickchart(key) {\n",
              "      const quickchartButtonEl =\n",
              "        document.querySelector('#' + key + ' button');\n",
              "      quickchartButtonEl.disabled = true;  // To prevent multiple clicks.\n",
              "      quickchartButtonEl.classList.add('colab-df-spinner');\n",
              "      try {\n",
              "        const charts = await google.colab.kernel.invokeFunction(\n",
              "            'suggestCharts', [key], {});\n",
              "      } catch (error) {\n",
              "        console.error('Error during call to suggestCharts:', error);\n",
              "      }\n",
              "      quickchartButtonEl.classList.remove('colab-df-spinner');\n",
              "      quickchartButtonEl.classList.add('colab-df-quickchart-complete');\n",
              "    }\n",
              "    (() => {\n",
              "      let quickchartButtonEl =\n",
              "        document.querySelector('#df-5902fadc-08ed-4ada-9a4b-ae396168b300 button');\n",
              "      quickchartButtonEl.style.display =\n",
              "        google.colab.kernel.accessAllowed ? 'block' : 'none';\n",
              "    })();\n",
              "  </script>\n",
              "</div>\n",
              "    </div>\n",
              "  </div>\n"
            ],
            "text/plain": [
              "                                             eng  \\\n",
              "44043  he is the very man that i have waited for   \n",
              "19183                      what else do you want   \n",
              "29661                  we cant blame anyone else   \n",
              "20092                      i dont know everybody   \n",
              "33921               i just dont know you anymore   \n",
              "32745               she died yesterday afternoon   \n",
              "6193                             dont yell at me   \n",
              "18206                      it was saturday night   \n",
              "10561                         i laughed out loud   \n",
              "43501     we dont know what tom is going to find   \n",
              "\n",
              "                                                     mar  \\\n",
              "44043   START_ होच तो पुरुष ज्याची मी वाट पाहत होते _END   \n",
              "19183              START_ तुम्हाला अजून काय हवं आहे _END   \n",
              "29661      START_ आपण इतर कोणालाही दोष देऊ शकत नाही _END   \n",
              "20092                  START_ मी सर्वांना ओळखत नाही _END   \n",
              "33921              START_ मी आता तुम्हाला ओळखत नाही _END   \n",
              "32745                 START_ त्या काल दुपारी मेल्या _END   \n",
              "6193                       START_ माझ्यावर ओरडू नका _END   \n",
              "18206                    START_ शनिवारची रात्र होती _END   \n",
              "10561                          START_ मी जोरात हसलो _END   \n",
              "43501  START_ टॉमला काय सापडणार आहे हे आपल्याला माहीत...   \n",
              "\n",
              "                                                   noise  \n",
              "44043  CC-BY 2.0 (France) Attribution: tatoeba.org #2...  \n",
              "19183  CC-BY 2.0 (France) Attribution: tatoeba.org #2...  \n",
              "29661  CC-BY 2.0 (France) Attribution: tatoeba.org #4...  \n",
              "20092  CC-BY 2.0 (France) Attribution: tatoeba.org #2...  \n",
              "33921  CC-BY 2.0 (France) Attribution: tatoeba.org #8...  \n",
              "32745  CC-BY 2.0 (France) Attribution: tatoeba.org #3...  \n",
              "6193   CC-BY 2.0 (France) Attribution: tatoeba.org #2...  \n",
              "18206  CC-BY 2.0 (France) Attribution: tatoeba.org #2...  \n",
              "10561  CC-BY 2.0 (France) Attribution: tatoeba.org #1...  \n",
              "43501  CC-BY 2.0 (France) Attribution: tatoeba.org #8...  "
            ]
          },
          "execution_count": 30,
          "metadata": {},
          "output_type": "execute_result"
        }
      ],
      "source": [
        "lines = shuffle(lines)\n",
        "lines.head(10)"
      ]
    },
    {
      "cell_type": "code",
      "execution_count": null,
      "metadata": {
        "colab": {
          "base_uri": "https://localhost:8080/"
        },
        "id": "y5JqA_Ib_f67",
        "outputId": "edcf8911-cc03-44d4-bea1-fdfc9c47842f"
      },
      "outputs": [
        {
          "name": "stdout",
          "output_type": "stream",
          "text": [
            "44043            he is the very man that i have waited for\n",
            "19183                                what else do you want\n",
            "29661                            we cant blame anyone else\n",
            "20092                                i dont know everybody\n",
            "33921                         i just dont know you anymore\n",
            "                               ...                        \n",
            "46790    can you produce any evidence that he was not a...\n",
            "9282                                     tom is testing me\n",
            "17862                                i learned it from him\n",
            "43956              well give an interview in the afternoon\n",
            "26395                             i am fortyfive years old\n",
            "Name: eng, Length: 46995, dtype: object\n",
            "44043     START_ होच तो पुरुष ज्याची मी वाट पाहत होते _END\n",
            "19183                START_ तुम्हाला अजून काय हवं आहे _END\n",
            "29661        START_ आपण इतर कोणालाही दोष देऊ शकत नाही _END\n",
            "20092                    START_ मी सर्वांना ओळखत नाही _END\n",
            "33921                START_ मी आता तुम्हाला ओळखत नाही _END\n",
            "                               ...                        \n",
            "46790    START_ ते त्या रात्री घरी नव्हते याचा तुम्ही क...\n",
            "9282                 START_ टॉम माझी परीक्षा घेतो आहे _END\n",
            "17862                    START_ मी त्याच्याकडून शिकले _END\n",
            "43956                    START_ आपण दुपारी मुलाखत देऊ _END\n",
            "26395                START_ मी पंचेचाळीस वर्षांचा आहे _END\n",
            "Name: mar, Length: 46995, dtype: object\n"
          ]
        }
      ],
      "source": [
        "# Train - Test Split\n",
        "X, y = lines.eng, lines.mar\n",
        "X_train, X_test, y_train, y_test = train_test_split(X, y, test_size = 0.1)\n",
        "X_train.shape, X_test.shape\n",
        "print(X)\n",
        "print(y)"
      ]
    },
    {
      "cell_type": "markdown",
      "metadata": {
        "id": "5B9TYynZ_f6-"
      },
      "source": [
        "#### Save the train and test dataframes for reproducing the results later, as they are shuffled."
      ]
    },
    {
      "cell_type": "code",
      "execution_count": null,
      "metadata": {
        "id": "dn9ayeq-_f6-"
      },
      "outputs": [],
      "source": [
        "X_train.to_pickle('/content/gdrive/MyDrive/Deep Learning All Batches/UNITWISE NOTES/Unit4-5 SEQUENTIAL MODEL/LSTM Lab /X_train.pkl')\n",
        "X_test.to_pickle('/content/gdrive/MyDrive/Deep Learning All Batches/UNITWISE NOTES/Unit4-5 SEQUENTIAL MODEL/LSTM Lab /X_test.pkl')"
      ]
    },
    {
      "cell_type": "markdown",
      "metadata": {
        "id": "k7ClIPnITnYb"
      },
      "source": [
        "numerate ()- https://www.geeksforgeeks.org/enumerate-in-python/.\n",
        "\n",
        "\n",
        "zip() https://www.geeksforgeeks.org/zip-in-python/\n",
        "\n"
      ]
    },
    {
      "cell_type": "markdown",
      "metadata": {
        "id": "yWO_S4XMxVGm"
      },
      "source": [
        "We now create the generator_batch function()"
      ]
    },
    {
      "cell_type": "code",
      "execution_count": null,
      "metadata": {
        "id": "q6q_pJmj_f7B"
      },
      "outputs": [],
      "source": [
        "#Training data in batches:\n",
        "##we will not train on whole data at time instead we will train on batch so as to reduce computation and increase learning and performace of model\n",
        "def generate_batch(X = X_train, y = y_train, batch_size = 128):\n",
        "    ''' Generate a batch of data '''\n",
        "    while True:\n",
        "        for j in range(0, len(X), batch_size):\n",
        "            encoder_input_data = np.zeros((batch_size, max_length_src),dtype='float32')\n",
        "            decoder_input_data = np.zeros((batch_size, max_length_tar),dtype='float32')\n",
        "            decoder_target_data = np.zeros((batch_size, max_length_tar, num_decoder_tokens),dtype='float32')\n",
        "            for i, (input_text, target_text) in enumerate(zip(X[j:j+batch_size], y[j:j+batch_size])):\n",
        "                for t, word in enumerate(input_text.split()):\n",
        "                    encoder_input_data[i, t] = input_token_index[word] # encoder input seq\n",
        "                for t, word in enumerate(target_text.split()):\n",
        "                    if t<len(target_text.split())-1:\n",
        "                        decoder_input_data[i, t] = target_token_index[word] # decoder input seq\n",
        "                    if t>0:\n",
        "                        # decoder target sequence (one hot encoded)\n",
        "                        # does not include the START_ token\n",
        "                        # Offset by one timestep\n",
        "                        decoder_target_data[i, t - 1, target_token_index[word]] = 1.\n",
        "            yield([encoder_input_data, decoder_input_data], decoder_target_data)"
      ]
    },
    {
      "cell_type": "code",
      "execution_count": null,
      "metadata": {
        "colab": {
          "base_uri": "https://localhost:8080/"
        },
        "id": "jcfmXAieSwBS",
        "outputId": "9c48577b-7560-45b1-c6c0-4d2a4f4a6050"
      },
      "outputs": [
        {
          "name": "stdout",
          "output_type": "stream",
          "text": [
            "<generator object generate_batch at 0x7e4039e66570>\n"
          ]
        }
      ],
      "source": [
        "print(generate_batch( X_train, y_train, 128))\n"
      ]
    },
    {
      "cell_type": "code",
      "execution_count": null,
      "metadata": {
        "id": "IzeUjuVm_f7X"
      },
      "outputs": [],
      "source": [
        "model.save_weights('nmt_weights.h5')"
      ]
    },
    {
      "cell_type": "code",
      "execution_count": null,
      "metadata": {
        "colab": {
          "base_uri": "https://localhost:8080/",
          "height": 73
        },
        "id": "AKRaNek62T3R",
        "outputId": "8c578bb5-d125-48d0-8a98-1d94ce42295e"
      },
      "outputs": [
        {
          "data": {
            "text/html": [
              "\n",
              "     <input type=\"file\" id=\"files-5a266513-e626-4bd7-9b5c-ce226eea31ec\" name=\"files[]\" multiple disabled\n",
              "        style=\"border:none\" />\n",
              "     <output id=\"result-5a266513-e626-4bd7-9b5c-ce226eea31ec\">\n",
              "      Upload widget is only available when the cell has been executed in the\n",
              "      current browser session. Please rerun this cell to enable.\n",
              "      </output>\n",
              "      <script>// Copyright 2017 Google LLC\n",
              "//\n",
              "// Licensed under the Apache License, Version 2.0 (the \"License\");\n",
              "// you may not use this file except in compliance with the License.\n",
              "// You may obtain a copy of the License at\n",
              "//\n",
              "//      http://www.apache.org/licenses/LICENSE-2.0\n",
              "//\n",
              "// Unless required by applicable law or agreed to in writing, software\n",
              "// distributed under the License is distributed on an \"AS IS\" BASIS,\n",
              "// WITHOUT WARRANTIES OR CONDITIONS OF ANY KIND, either express or implied.\n",
              "// See the License for the specific language governing permissions and\n",
              "// limitations under the License.\n",
              "\n",
              "/**\n",
              " * @fileoverview Helpers for google.colab Python module.\n",
              " */\n",
              "(function(scope) {\n",
              "function span(text, styleAttributes = {}) {\n",
              "  const element = document.createElement('span');\n",
              "  element.textContent = text;\n",
              "  for (const key of Object.keys(styleAttributes)) {\n",
              "    element.style[key] = styleAttributes[key];\n",
              "  }\n",
              "  return element;\n",
              "}\n",
              "\n",
              "// Max number of bytes which will be uploaded at a time.\n",
              "const MAX_PAYLOAD_SIZE = 100 * 1024;\n",
              "\n",
              "function _uploadFiles(inputId, outputId) {\n",
              "  const steps = uploadFilesStep(inputId, outputId);\n",
              "  const outputElement = document.getElementById(outputId);\n",
              "  // Cache steps on the outputElement to make it available for the next call\n",
              "  // to uploadFilesContinue from Python.\n",
              "  outputElement.steps = steps;\n",
              "\n",
              "  return _uploadFilesContinue(outputId);\n",
              "}\n",
              "\n",
              "// This is roughly an async generator (not supported in the browser yet),\n",
              "// where there are multiple asynchronous steps and the Python side is going\n",
              "// to poll for completion of each step.\n",
              "// This uses a Promise to block the python side on completion of each step,\n",
              "// then passes the result of the previous step as the input to the next step.\n",
              "function _uploadFilesContinue(outputId) {\n",
              "  const outputElement = document.getElementById(outputId);\n",
              "  const steps = outputElement.steps;\n",
              "\n",
              "  const next = steps.next(outputElement.lastPromiseValue);\n",
              "  return Promise.resolve(next.value.promise).then((value) => {\n",
              "    // Cache the last promise value to make it available to the next\n",
              "    // step of the generator.\n",
              "    outputElement.lastPromiseValue = value;\n",
              "    return next.value.response;\n",
              "  });\n",
              "}\n",
              "\n",
              "/**\n",
              " * Generator function which is called between each async step of the upload\n",
              " * process.\n",
              " * @param {string} inputId Element ID of the input file picker element.\n",
              " * @param {string} outputId Element ID of the output display.\n",
              " * @return {!Iterable<!Object>} Iterable of next steps.\n",
              " */\n",
              "function* uploadFilesStep(inputId, outputId) {\n",
              "  const inputElement = document.getElementById(inputId);\n",
              "  inputElement.disabled = false;\n",
              "\n",
              "  const outputElement = document.getElementById(outputId);\n",
              "  outputElement.innerHTML = '';\n",
              "\n",
              "  const pickedPromise = new Promise((resolve) => {\n",
              "    inputElement.addEventListener('change', (e) => {\n",
              "      resolve(e.target.files);\n",
              "    });\n",
              "  });\n",
              "\n",
              "  const cancel = document.createElement('button');\n",
              "  inputElement.parentElement.appendChild(cancel);\n",
              "  cancel.textContent = 'Cancel upload';\n",
              "  const cancelPromise = new Promise((resolve) => {\n",
              "    cancel.onclick = () => {\n",
              "      resolve(null);\n",
              "    };\n",
              "  });\n",
              "\n",
              "  // Wait for the user to pick the files.\n",
              "  const files = yield {\n",
              "    promise: Promise.race([pickedPromise, cancelPromise]),\n",
              "    response: {\n",
              "      action: 'starting',\n",
              "    }\n",
              "  };\n",
              "\n",
              "  cancel.remove();\n",
              "\n",
              "  // Disable the input element since further picks are not allowed.\n",
              "  inputElement.disabled = true;\n",
              "\n",
              "  if (!files) {\n",
              "    return {\n",
              "      response: {\n",
              "        action: 'complete',\n",
              "      }\n",
              "    };\n",
              "  }\n",
              "\n",
              "  for (const file of files) {\n",
              "    const li = document.createElement('li');\n",
              "    li.append(span(file.name, {fontWeight: 'bold'}));\n",
              "    li.append(span(\n",
              "        `(${file.type || 'n/a'}) - ${file.size} bytes, ` +\n",
              "        `last modified: ${\n",
              "            file.lastModifiedDate ? file.lastModifiedDate.toLocaleDateString() :\n",
              "                                    'n/a'} - `));\n",
              "    const percent = span('0% done');\n",
              "    li.appendChild(percent);\n",
              "\n",
              "    outputElement.appendChild(li);\n",
              "\n",
              "    const fileDataPromise = new Promise((resolve) => {\n",
              "      const reader = new FileReader();\n",
              "      reader.onload = (e) => {\n",
              "        resolve(e.target.result);\n",
              "      };\n",
              "      reader.readAsArrayBuffer(file);\n",
              "    });\n",
              "    // Wait for the data to be ready.\n",
              "    let fileData = yield {\n",
              "      promise: fileDataPromise,\n",
              "      response: {\n",
              "        action: 'continue',\n",
              "      }\n",
              "    };\n",
              "\n",
              "    // Use a chunked sending to avoid message size limits. See b/62115660.\n",
              "    let position = 0;\n",
              "    do {\n",
              "      const length = Math.min(fileData.byteLength - position, MAX_PAYLOAD_SIZE);\n",
              "      const chunk = new Uint8Array(fileData, position, length);\n",
              "      position += length;\n",
              "\n",
              "      const base64 = btoa(String.fromCharCode.apply(null, chunk));\n",
              "      yield {\n",
              "        response: {\n",
              "          action: 'append',\n",
              "          file: file.name,\n",
              "          data: base64,\n",
              "        },\n",
              "      };\n",
              "\n",
              "      let percentDone = fileData.byteLength === 0 ?\n",
              "          100 :\n",
              "          Math.round((position / fileData.byteLength) * 100);\n",
              "      percent.textContent = `${percentDone}% done`;\n",
              "\n",
              "    } while (position < fileData.byteLength);\n",
              "  }\n",
              "\n",
              "  // All done.\n",
              "  yield {\n",
              "    response: {\n",
              "      action: 'complete',\n",
              "    }\n",
              "  };\n",
              "}\n",
              "\n",
              "scope.google = scope.google || {};\n",
              "scope.google.colab = scope.google.colab || {};\n",
              "scope.google.colab._files = {\n",
              "  _uploadFiles,\n",
              "  _uploadFilesContinue,\n",
              "};\n",
              "})(self);\n",
              "</script> "
            ],
            "text/plain": [
              "<IPython.core.display.HTML object>"
            ]
          },
          "metadata": {},
          "output_type": "display_data"
        },
        {
          "name": "stdout",
          "output_type": "stream",
          "text": [
            "Saving nmt_weights.h5 to nmt_weights (1).h5\n"
          ]
        }
      ],
      "source": [
        "from google. colab import files\n",
        "uploaded = files. upload()"
      ]
    },
    {
      "cell_type": "code",
      "execution_count": null,
      "metadata": {
        "id": "u-JotqV21VgK"
      },
      "outputs": [],
      "source": [
        "#Weights can be loaded from the saved weights file\n",
        "model.load_weights('nmt_weights.h5')"
      ]
    },
    {
      "cell_type": "markdown",
      "metadata": {
        "id": "xGd4Usgt1asg"
      },
      "source": []
    },
    {
      "cell_type": "code",
      "execution_count": null,
      "metadata": {
        "colab": {
          "base_uri": "https://localhost:8080/",
          "height": 817
        },
        "id": "V7NA9fVY-w5D",
        "outputId": "e762902d-a70c-4202-9c6d-2bffad8504e7"
      },
      "outputs": [
        {
          "ename": "ValueError",
          "evalue": "ignored",
          "output_type": "error",
          "traceback": [
            "\u001b[0;31m---------------------------------------------------------------------------\u001b[0m",
            "\u001b[0;31mValueError\u001b[0m                                Traceback (most recent call last)",
            "\u001b[0;32m<ipython-input-47-413920138cdd>\u001b[0m in \u001b[0;36m<cell line: 4>\u001b[0;34m()\u001b[0m\n\u001b[1;32m      2\u001b[0m \u001b[0mloss_val\u001b[0m \u001b[0;34m=\u001b[0m \u001b[0mhistory\u001b[0m\u001b[0;34m.\u001b[0m\u001b[0mhistory\u001b[0m\u001b[0;34m[\u001b[0m\u001b[0;34m'val_loss'\u001b[0m\u001b[0;34m]\u001b[0m\u001b[0;34m\u001b[0m\u001b[0;34m\u001b[0m\u001b[0m\n\u001b[1;32m      3\u001b[0m \u001b[0mepochs\u001b[0m \u001b[0;34m=\u001b[0m \u001b[0mrange\u001b[0m\u001b[0;34m(\u001b[0m\u001b[0;36m1\u001b[0m\u001b[0;34m,\u001b[0m\u001b[0;36m51\u001b[0m\u001b[0;34m)\u001b[0m\u001b[0;34m\u001b[0m\u001b[0;34m\u001b[0m\u001b[0m\n\u001b[0;32m----> 4\u001b[0;31m \u001b[0mplt\u001b[0m\u001b[0;34m.\u001b[0m\u001b[0mplot\u001b[0m\u001b[0;34m(\u001b[0m\u001b[0mepochs\u001b[0m\u001b[0;34m,\u001b[0m \u001b[0mloss_train\u001b[0m\u001b[0;34m,\u001b[0m \u001b[0;34m'g'\u001b[0m\u001b[0;34m,\u001b[0m \u001b[0mlabel\u001b[0m\u001b[0;34m=\u001b[0m\u001b[0;34m'Training loss'\u001b[0m\u001b[0;34m)\u001b[0m\u001b[0;34m\u001b[0m\u001b[0;34m\u001b[0m\u001b[0m\n\u001b[0m\u001b[1;32m      5\u001b[0m \u001b[0mplt\u001b[0m\u001b[0;34m.\u001b[0m\u001b[0mplot\u001b[0m\u001b[0;34m(\u001b[0m\u001b[0mepochs\u001b[0m\u001b[0;34m,\u001b[0m \u001b[0mloss_val\u001b[0m\u001b[0;34m,\u001b[0m \u001b[0;34m'b'\u001b[0m\u001b[0;34m,\u001b[0m \u001b[0mlabel\u001b[0m\u001b[0;34m=\u001b[0m\u001b[0;34m'validation loss'\u001b[0m\u001b[0;34m)\u001b[0m\u001b[0;34m\u001b[0m\u001b[0;34m\u001b[0m\u001b[0m\n\u001b[1;32m      6\u001b[0m \u001b[0mplt\u001b[0m\u001b[0;34m.\u001b[0m\u001b[0mtitle\u001b[0m\u001b[0;34m(\u001b[0m\u001b[0;34m'Training and Validation loss'\u001b[0m\u001b[0;34m)\u001b[0m\u001b[0;34m\u001b[0m\u001b[0;34m\u001b[0m\u001b[0m\n",
            "\u001b[0;32m/usr/local/lib/python3.10/dist-packages/matplotlib/pyplot.py\u001b[0m in \u001b[0;36mplot\u001b[0;34m(scalex, scaley, data, *args, **kwargs)\u001b[0m\n\u001b[1;32m   2810\u001b[0m \u001b[0;34m@\u001b[0m\u001b[0m_copy_docstring_and_deprecators\u001b[0m\u001b[0;34m(\u001b[0m\u001b[0mAxes\u001b[0m\u001b[0;34m.\u001b[0m\u001b[0mplot\u001b[0m\u001b[0;34m)\u001b[0m\u001b[0;34m\u001b[0m\u001b[0;34m\u001b[0m\u001b[0m\n\u001b[1;32m   2811\u001b[0m \u001b[0;32mdef\u001b[0m \u001b[0mplot\u001b[0m\u001b[0;34m(\u001b[0m\u001b[0;34m*\u001b[0m\u001b[0margs\u001b[0m\u001b[0;34m,\u001b[0m \u001b[0mscalex\u001b[0m\u001b[0;34m=\u001b[0m\u001b[0;32mTrue\u001b[0m\u001b[0;34m,\u001b[0m \u001b[0mscaley\u001b[0m\u001b[0;34m=\u001b[0m\u001b[0;32mTrue\u001b[0m\u001b[0;34m,\u001b[0m \u001b[0mdata\u001b[0m\u001b[0;34m=\u001b[0m\u001b[0;32mNone\u001b[0m\u001b[0;34m,\u001b[0m \u001b[0;34m**\u001b[0m\u001b[0mkwargs\u001b[0m\u001b[0;34m)\u001b[0m\u001b[0;34m:\u001b[0m\u001b[0;34m\u001b[0m\u001b[0;34m\u001b[0m\u001b[0m\n\u001b[0;32m-> 2812\u001b[0;31m     return gca().plot(\n\u001b[0m\u001b[1;32m   2813\u001b[0m         \u001b[0;34m*\u001b[0m\u001b[0margs\u001b[0m\u001b[0;34m,\u001b[0m \u001b[0mscalex\u001b[0m\u001b[0;34m=\u001b[0m\u001b[0mscalex\u001b[0m\u001b[0;34m,\u001b[0m \u001b[0mscaley\u001b[0m\u001b[0;34m=\u001b[0m\u001b[0mscaley\u001b[0m\u001b[0;34m,\u001b[0m\u001b[0;34m\u001b[0m\u001b[0;34m\u001b[0m\u001b[0m\n\u001b[1;32m   2814\u001b[0m         **({\"data\": data} if data is not None else {}), **kwargs)\n",
            "\u001b[0;32m/usr/local/lib/python3.10/dist-packages/matplotlib/axes/_axes.py\u001b[0m in \u001b[0;36mplot\u001b[0;34m(self, scalex, scaley, data, *args, **kwargs)\u001b[0m\n\u001b[1;32m   1686\u001b[0m         \"\"\"\n\u001b[1;32m   1687\u001b[0m         \u001b[0mkwargs\u001b[0m \u001b[0;34m=\u001b[0m \u001b[0mcbook\u001b[0m\u001b[0;34m.\u001b[0m\u001b[0mnormalize_kwargs\u001b[0m\u001b[0;34m(\u001b[0m\u001b[0mkwargs\u001b[0m\u001b[0;34m,\u001b[0m \u001b[0mmlines\u001b[0m\u001b[0;34m.\u001b[0m\u001b[0mLine2D\u001b[0m\u001b[0;34m)\u001b[0m\u001b[0;34m\u001b[0m\u001b[0;34m\u001b[0m\u001b[0m\n\u001b[0;32m-> 1688\u001b[0;31m         \u001b[0mlines\u001b[0m \u001b[0;34m=\u001b[0m \u001b[0;34m[\u001b[0m\u001b[0;34m*\u001b[0m\u001b[0mself\u001b[0m\u001b[0;34m.\u001b[0m\u001b[0m_get_lines\u001b[0m\u001b[0;34m(\u001b[0m\u001b[0;34m*\u001b[0m\u001b[0margs\u001b[0m\u001b[0;34m,\u001b[0m \u001b[0mdata\u001b[0m\u001b[0;34m=\u001b[0m\u001b[0mdata\u001b[0m\u001b[0;34m,\u001b[0m \u001b[0;34m**\u001b[0m\u001b[0mkwargs\u001b[0m\u001b[0;34m)\u001b[0m\u001b[0;34m]\u001b[0m\u001b[0;34m\u001b[0m\u001b[0;34m\u001b[0m\u001b[0m\n\u001b[0m\u001b[1;32m   1689\u001b[0m         \u001b[0;32mfor\u001b[0m \u001b[0mline\u001b[0m \u001b[0;32min\u001b[0m \u001b[0mlines\u001b[0m\u001b[0;34m:\u001b[0m\u001b[0;34m\u001b[0m\u001b[0;34m\u001b[0m\u001b[0m\n\u001b[1;32m   1690\u001b[0m             \u001b[0mself\u001b[0m\u001b[0;34m.\u001b[0m\u001b[0madd_line\u001b[0m\u001b[0;34m(\u001b[0m\u001b[0mline\u001b[0m\u001b[0;34m)\u001b[0m\u001b[0;34m\u001b[0m\u001b[0;34m\u001b[0m\u001b[0m\n",
            "\u001b[0;32m/usr/local/lib/python3.10/dist-packages/matplotlib/axes/_base.py\u001b[0m in \u001b[0;36m__call__\u001b[0;34m(self, data, *args, **kwargs)\u001b[0m\n\u001b[1;32m    309\u001b[0m                 \u001b[0mthis\u001b[0m \u001b[0;34m+=\u001b[0m \u001b[0margs\u001b[0m\u001b[0;34m[\u001b[0m\u001b[0;36m0\u001b[0m\u001b[0;34m]\u001b[0m\u001b[0;34m,\u001b[0m\u001b[0;34m\u001b[0m\u001b[0;34m\u001b[0m\u001b[0m\n\u001b[1;32m    310\u001b[0m                 \u001b[0margs\u001b[0m \u001b[0;34m=\u001b[0m \u001b[0margs\u001b[0m\u001b[0;34m[\u001b[0m\u001b[0;36m1\u001b[0m\u001b[0;34m:\u001b[0m\u001b[0;34m]\u001b[0m\u001b[0;34m\u001b[0m\u001b[0;34m\u001b[0m\u001b[0m\n\u001b[0;32m--> 311\u001b[0;31m             yield from self._plot_args(\n\u001b[0m\u001b[1;32m    312\u001b[0m                 this, kwargs, ambiguous_fmt_datakey=ambiguous_fmt_datakey)\n\u001b[1;32m    313\u001b[0m \u001b[0;34m\u001b[0m\u001b[0m\n",
            "\u001b[0;32m/usr/local/lib/python3.10/dist-packages/matplotlib/axes/_base.py\u001b[0m in \u001b[0;36m_plot_args\u001b[0;34m(self, tup, kwargs, return_kwargs, ambiguous_fmt_datakey)\u001b[0m\n\u001b[1;32m    502\u001b[0m \u001b[0;34m\u001b[0m\u001b[0m\n\u001b[1;32m    503\u001b[0m         \u001b[0;32mif\u001b[0m \u001b[0mx\u001b[0m\u001b[0;34m.\u001b[0m\u001b[0mshape\u001b[0m\u001b[0;34m[\u001b[0m\u001b[0;36m0\u001b[0m\u001b[0;34m]\u001b[0m \u001b[0;34m!=\u001b[0m \u001b[0my\u001b[0m\u001b[0;34m.\u001b[0m\u001b[0mshape\u001b[0m\u001b[0;34m[\u001b[0m\u001b[0;36m0\u001b[0m\u001b[0;34m]\u001b[0m\u001b[0;34m:\u001b[0m\u001b[0;34m\u001b[0m\u001b[0;34m\u001b[0m\u001b[0m\n\u001b[0;32m--> 504\u001b[0;31m             raise ValueError(f\"x and y must have same first dimension, but \"\n\u001b[0m\u001b[1;32m    505\u001b[0m                              f\"have shapes {x.shape} and {y.shape}\")\n\u001b[1;32m    506\u001b[0m         \u001b[0;32mif\u001b[0m \u001b[0mx\u001b[0m\u001b[0;34m.\u001b[0m\u001b[0mndim\u001b[0m \u001b[0;34m>\u001b[0m \u001b[0;36m2\u001b[0m \u001b[0;32mor\u001b[0m \u001b[0my\u001b[0m\u001b[0;34m.\u001b[0m\u001b[0mndim\u001b[0m \u001b[0;34m>\u001b[0m \u001b[0;36m2\u001b[0m\u001b[0;34m:\u001b[0m\u001b[0;34m\u001b[0m\u001b[0;34m\u001b[0m\u001b[0m\n",
            "\u001b[0;31mValueError\u001b[0m: x and y must have same first dimension, but have shapes (50,) and (1,)"
          ]
        },
        {
          "data": {
            "image/png": "[encoded data removed]",
            "text/plain": [
              "<Figure size 640x480 with 1 Axes>"
            ]
          },
          "metadata": {},
          "output_type": "display_data"
        }
      ],
      "source": [
        "loss_train = history.history['loss']\n",
        "loss_val = history.history['val_loss']\n",
        "epochs = range(1,51)\n",
        "plt.plot(epochs, loss_train, 'g', label='Training loss')\n",
        "plt.plot(epochs, loss_val, 'b', label='validation loss')\n",
        "plt.title('Training and Validation loss')\n",
        "plt.xlabel('Epochs')\n",
        "plt.ylabel('Loss')\n",
        "plt.legend()\n",
        "plt.show()"
      ]
    },
    {
      "cell_type": "code",
      "execution_count": null,
      "metadata": {
        "colab": {
          "base_uri": "https://localhost:8080/",
          "height": 295
        },
        "id": "wrr8m-2y-8mw",
        "outputId": "9b94db41-a1e3-42c3-f971-88d1de45a649"
      },
      "outputs": [
        {
          "data": {
            "image/png": "[encoded data removed]",
            "text/plain": [
              "<Figure size 432x288 with 1 Axes>"
            ]
          },
          "metadata": {
            "tags": []
          },
          "output_type": "display_data"
        }
      ],
      "source": [
        "loss_train = history.history['acc']\n",
        "loss_val = history.history['val_acc']\n",
        "epochs = range(1,51)\n",
        "plt.plot(epochs, loss_train, 'g', label='Training accuracy')\n",
        "plt.plot(epochs, loss_val, 'b', label='validation accuracy')\n",
        "plt.title('Training and Validation accuracy')\n",
        "plt.xlabel('Epochs')\n",
        "plt.ylabel('Accuracy')\n",
        "plt.legend()\n",
        "plt.show()"
      ]
    },
    {
      "cell_type": "markdown",
      "metadata": {
        "id": "KuBBTjI2_f7a"
      },
      "source": [
        "### Load the weights, if you close the application"
      ]
    },
    {
      "cell_type": "code",
      "execution_count": null,
      "metadata": {
        "id": "slyxKnJf_f7a"
      },
      "outputs": [],
      "source": [
        "model.load_weights('nmt_weights.h5')"
      ]
    },
    {
      "cell_type": "code",
      "execution_count": null,
      "metadata": {
        "id": "6gemlWAD_f7f"
      },
      "outputs": [],
      "source": [
        "# Encode the input sequence to get the \"thought vectors\"\n",
        "encoder_model = Model(encoder_inputs, encoder_states)\n",
        "\n",
        "# Decoder setup\n",
        "# Below tensors will hold the states of the previous time step\n",
        "decoder_state_input_h = Input(shape=(latent_dim,))\n",
        "decoder_state_input_c = Input(shape=(latent_dim,))\n",
        "decoder_states_inputs = [decoder_state_input_h, decoder_state_input_c]\n",
        "\n",
        "dec_emb2= dec_emb_layer(decoder_inputs) # Get the embeddings of the decoder sequence\n",
        "\n",
        "# To predict the next word in the sequence, set the initial states to the states from the previous time step\n",
        "decoder_outputs2, state_h2, state_c2 = decoder_lstm(dec_emb2, initial_state=decoder_states_inputs)\n",
        "decoder_states2 = [state_h2, state_c2]\n",
        "decoder_outputs2 = decoder_dense(decoder_outputs2) # A dense softmax layer to generate prob dist. over the target vocabulary\n",
        "\n",
        "# Final decoder model\n",
        "decoder_model = Model(\n",
        "    [decoder_inputs] + decoder_states_inputs,\n",
        "    [decoder_outputs2] + decoder_states2)"
      ]
    },
    {
      "cell_type": "code",
      "execution_count": null,
      "metadata": {
        "id": "UHYEjGgs_f7h",
        "outputId": "6f0b1b4b-5c16-4f43-82d2-8595e3253bec"
      },
      "outputs": [
        {
          "data": {
            "image/png": "[encoded data removed]",
            "text/plain": [
              "<IPython.core.display.Image object>"
            ]
          },
          "execution_count": 2,
          "metadata": {
            "image/png": {
              "height": 147,
              "width": 265
            },
            "tags": []
          },
          "output_type": "execute_result"
        }
      ],
      "source": [
        "Image(retina=True, filename='encoder_model.png')"
      ]
    },
    {
      "cell_type": "code",
      "execution_count": null,
      "metadata": {
        "id": "H6HrpaQD_f7l",
        "outputId": "88304784-8535-4cca-88ec-c6c5f3fc1385"
      },
      "outputs": [
        {
          "data": {
            "image/png": "[encoded data removed]",
            "text/plain": [
              "<IPython.core.display.Image object>"
            ]
          },
          "execution_count": 3,
          "metadata": {
            "image/png": {
              "height": 202,
              "width": 623
            },
            "tags": []
          },
          "output_type": "execute_result"
        }
      ],
      "source": [
        "Image(retina=True, filename='decoder_model.png')"
      ]
    },
    {
      "cell_type": "markdown",
      "metadata": {
        "id": "TKJx701r_f7n"
      },
      "source": [
        "### Decode sample sequeces"
      ]
    },
    {
      "cell_type": "code",
      "execution_count": null,
      "metadata": {
        "id": "Mf2rKbBS_f7o"
      },
      "outputs": [],
      "source": [
        "def decode_sequence(input_seq):\n",
        "    # Encode the input as state vectors.\n",
        "    states_value = encoder_model.predict(input_seq)\n",
        "    # Generate empty target sequence of length 1.\n",
        "    target_seq = np.zeros((1,1))\n",
        "    # Populate the first character of target sequence with the start character.\n",
        "    target_seq[0, 0] = target_token_index['START_']\n",
        "\n",
        "    # Sampling loop for a batch of sequences\n",
        "    # (to simplify, here we assume a batch of size 1).\n",
        "    stop_condition = False\n",
        "    decoded_sentence = ''\n",
        "    while not stop_condition:\n",
        "        output_tokens, h, c = decoder_model.predict([target_seq] + states_value)\n",
        "\n",
        "        # Sample a token\n",
        "        sampled_token_index = np.argmax(output_tokens[0, -1, :])\n",
        "        sampled_char = reverse_target_char_index[sampled_token_index]\n",
        "        decoded_sentence += ' '+sampled_char\n",
        "\n",
        "        # Exit condition: either hit max length\n",
        "        # or find stop character.\n",
        "        if (sampled_char == '_END' or\n",
        "           len(decoded_sentence) > 50):\n",
        "            stop_condition = True\n",
        "\n",
        "        # Update the target sequence (of length 1).\n",
        "        target_seq = np.zeros((1,1))\n",
        "        target_seq[0, 0] = sampled_token_index\n",
        "\n",
        "        # Update states\n",
        "        states_value = [h, c]\n",
        "\n",
        "    return decoded_sentence"
      ]
    },
    {
      "cell_type": "markdown",
      "metadata": {
        "id": "Zay3RYWR_f7r"
      },
      "source": [
        "### Evaluation on Train Dataset"
      ]
    },
    {
      "cell_type": "code",
      "execution_count": null,
      "metadata": {
        "id": "s-_JzMgY_f7s"
      },
      "outputs": [],
      "source": [
        "train_gen = generate_batch(X_train, y_train, batch_size = 1)\n",
        "k=-1"
      ]
    },
    {
      "cell_type": "code",
      "execution_count": null,
      "metadata": {
        "colab": {
          "base_uri": "https://localhost:8080/",
          "height": 68
        },
        "id": "NCZAPAmp_f7w",
        "outputId": "5ce69bad-d921-4091-e428-6b188f3f3927"
      },
      "outputs": [
        {
          "name": "stdout",
          "output_type": "stream",
          "text": [
            "Input English sentence: i wanted to show you first\n",
            "Actual Marathi Translation:  पहिलं मला तुम्हाला दाखवायचं होतं \n",
            "Predicted Marathi Translation:  मला तुला टॉमला काही दिसलं नाहीत \n"
          ]
        }
      ],
      "source": [
        "k+=1\n",
        "(input_seq, actual_output), _ = next(train_gen)\n",
        "decoded_sentence = decode_sequence(input_seq)\n",
        "print('Input English sentence:', X_train[k:k+1].values[0])\n",
        "print('Actual Marathi Translation:', y_train[k:k+1].values[0][6:-4])\n",
        "print('Predicted Marathi Translation:', decoded_sentence[:-4])"
      ]
    },
    {
      "cell_type": "code",
      "execution_count": null,
      "metadata": {
        "colab": {
          "base_uri": "https://localhost:8080/",
          "height": 68
        },
        "id": "A9QPPJdF_f70",
        "outputId": "2613ff9e-9f58-4bf1-d41c-52bec7c5bc06"
      },
      "outputs": [
        {
          "name": "stdout",
          "output_type": "stream",
          "text": [
            "Input English sentence: they want to meet you\n",
            "Actual Marathi Translation:  त्यांना तुम्हाला भेटायचं आहे \n",
            "Predicted Marathi Translation:  त्यांना तुला भेटायचं आहे \n"
          ]
        }
      ],
      "source": [
        "k+=1\n",
        "(input_seq, actual_output), _ = next(train_gen)\n",
        "decoded_sentence = decode_sequence(input_seq)\n",
        "print('Input English sentence:', X_train[k:k+1].values[0])\n",
        "print('Actual Marathi Translation:', y_train[k:k+1].values[0][6:-4])\n",
        "print('Predicted Marathi Translation:', decoded_sentence[:-4])"
      ]
    },
    {
      "cell_type": "code",
      "execution_count": null,
      "metadata": {
        "colab": {
          "base_uri": "https://localhost:8080/",
          "height": 68
        },
        "id": "FNTyrLLj_f74",
        "outputId": "85cecf72-d605-42f6-8486-8e6f32ff3dc2"
      },
      "outputs": [
        {
          "name": "stdout",
          "output_type": "stream",
          "text": [
            "Input English sentence: i make my own rules\n",
            "Actual Marathi Translation:  मी स्वतःचेच नियम बनवतो \n",
            "Predicted Marathi Translation:  मी माझा जन्म आलो आहे का \n"
          ]
        }
      ],
      "source": [
        "k+=1\n",
        "(input_seq, actual_output), _ = next(train_gen)\n",
        "decoded_sentence = decode_sequence(input_seq)\n",
        "print('Input English sentence:', X_train[k:k+1].values[0])\n",
        "print('Actual Marathi Translation:', y_train[k:k+1].values[0][6:-4])\n",
        "print('Predicted Marathi Translation:', decoded_sentence[:-4])"
      ]
    },
    {
      "cell_type": "code",
      "execution_count": null,
      "metadata": {
        "colab": {
          "base_uri": "https://localhost:8080/",
          "height": 68
        },
        "id": "NUQTBFBO_f77",
        "outputId": "9db39037-1f7d-4dfc-d056-19c6e757fde5"
      },
      "outputs": [
        {
          "name": "stdout",
          "output_type": "stream",
          "text": [
            "Input English sentence: it was my grandfather that told me that story\n",
            "Actual Marathi Translation:  मला ज्यांनी ती गोष्ट सांगितली ते म्हणजे माझे आजोबा \n",
            "Predicted Marathi Translation:  माझी गोष्ट ते माझी गोष्ट काय करतात \n"
          ]
        }
      ],
      "source": [
        "k+=1\n",
        "(input_seq, actual_output), _ = next(train_gen)\n",
        "decoded_sentence = decode_sequence(input_seq)\n",
        "print('Input English sentence:', X_train[k:k+1].values[0])\n",
        "print('Actual Marathi Translation:', y_train[k:k+1].values[0][6:-4])\n",
        "print('Predicted Marathi Translation:', decoded_sentence[:-4])"
      ]
    },
    {
      "cell_type": "code",
      "execution_count": null,
      "metadata": {
        "colab": {
          "base_uri": "https://localhost:8080/",
          "height": 68
        },
        "id": "fz8AKvXo_f8B",
        "outputId": "0056625d-3e97-4149-9b48-d98a6d01f890"
      },
      "outputs": [
        {
          "name": "stdout",
          "output_type": "stream",
          "text": [
            "Input English sentence: i saw a woman in black\n",
            "Actual Marathi Translation:  मी एका काळे कपडे घातलेल्या एका स्त्रीला पाहिलं \n",
            "Predicted Marathi Translation:  मी एका मुलीला एक बाटली लागली \n"
          ]
        }
      ],
      "source": [
        "k+=1\n",
        "(input_seq, actual_output), _ = next(train_gen)\n",
        "decoded_sentence = decode_sequence(input_seq)\n",
        "print('Input English sentence:', X_train[k:k+1].values[0])\n",
        "print('Actual Marathi Translation:', y_train[k:k+1].values[0][6:-4])\n",
        "print('Predicted Marathi Translation:', decoded_sentence[:-4])"
      ]
    },
    {
      "cell_type": "code",
      "execution_count": null,
      "metadata": {
        "colab": {
          "base_uri": "https://localhost:8080/",
          "height": 68
        },
        "id": "IHK6wxTt_f8H",
        "outputId": "5aa53643-644c-44bc-a8e7-5a476eb2794f"
      },
      "outputs": [
        {
          "name": "stdout",
          "output_type": "stream",
          "text": [
            "Input English sentence: what a big dog that is\n",
            "Actual Marathi Translation:  काय मोठा कुत्रा आहे तो \n",
            "Predicted Marathi Translation:  त्याचा कुत्रा काय आहे की तो प्रसिद्ध आहे \n"
          ]
        }
      ],
      "source": [
        "k+=1\n",
        "(input_seq, actual_output), _ = next(train_gen)\n",
        "decoded_sentence = decode_sequence(input_seq)\n",
        "print('Input English sentence:', X_train[k:k+1].values[0])\n",
        "print('Actual Marathi Translation:', y_train[k:k+1].values[0][6:-4])\n",
        "print('Predicted Marathi Translation:', decoded_sentence[:-4])"
      ]
    },
    {
      "cell_type": "code",
      "execution_count": null,
      "metadata": {
        "colab": {
          "base_uri": "https://localhost:8080/",
          "height": 68
        },
        "id": "cmsm_caH_f8J",
        "outputId": "291a2e74-4017-46ed-aeee-24e25eed891f"
      },
      "outputs": [
        {
          "name": "stdout",
          "output_type": "stream",
          "text": [
            "Input English sentence: i am in rome now\n",
            "Actual Marathi Translation:  मी आता रोममध्ये आहे \n",
            "Predicted Marathi Translation:  मी आता खेळ नाहीये \n"
          ]
        }
      ],
      "source": [
        "k+=1\n",
        "(input_seq, actual_output), _ = next(train_gen)\n",
        "decoded_sentence = decode_sequence(input_seq)\n",
        "print('Input English sentence:', X_train[k:k+1].values[0])\n",
        "print('Actual Marathi Translation:', y_train[k:k+1].values[0][6:-4])\n",
        "print('Predicted Marathi Translation:', decoded_sentence[:-4])"
      ]
    },
    {
      "cell_type": "code",
      "execution_count": null,
      "metadata": {
        "colab": {
          "base_uri": "https://localhost:8080/",
          "height": 68
        },
        "id": "7-mrVBBm_f8O",
        "outputId": "d63d4483-d29b-4a2b-ae06-18be5c41d677"
      },
      "outputs": [
        {
          "name": "stdout",
          "output_type": "stream",
          "text": [
            "Input English sentence: dont get me flowers anymore\n",
            "Actual Marathi Translation:  माझ्यासाठी आतापासून फुलं आणू नकोस \n",
            "Predicted Marathi Translation:  मला अजूनही जागा आवडत नाही \n"
          ]
        }
      ],
      "source": [
        "k+=1\n",
        "(input_seq, actual_output), _ = next(train_gen)\n",
        "decoded_sentence = decode_sequence(input_seq)\n",
        "print('Input English sentence:', X_train[k:k+1].values[0])\n",
        "print('Actual Marathi Translation:', y_train[k:k+1].values[0][6:-4])\n",
        "print('Predicted Marathi Translation:', decoded_sentence[:-4])"
      ]
    },
    {
      "cell_type": "code",
      "execution_count": null,
      "metadata": {
        "colab": {
          "base_uri": "https://localhost:8080/",
          "height": 68
        },
        "id": "GevDnGs0_f8T",
        "outputId": "01cf8e81-8faa-4245-e3b5-6321c673f6d3"
      },
      "outputs": [
        {
          "name": "stdout",
          "output_type": "stream",
          "text": [
            "Input English sentence: do it somewhere else\n",
            "Actual Marathi Translation:  कुठेतरी दुसरीकडे जाऊन कर \n",
            "Predicted Marathi Translation:  कुठेतरी कुठेतरी जायला काढून टाकलं आहे \n"
          ]
        }
      ],
      "source": [
        "k+=1\n",
        "(input_seq, actual_output), _ = next(train_gen)\n",
        "decoded_sentence = decode_sequence(input_seq)\n",
        "print('Input English sentence:', X_train[k:k+1].values[0])\n",
        "print('Actual Marathi Translation:', y_train[k:k+1].values[0][6:-4])\n",
        "print('Predicted Marathi Translation:', decoded_sentence[:-4])"
      ]
    },
    {
      "cell_type": "code",
      "execution_count": null,
      "metadata": {
        "colab": {
          "base_uri": "https://localhost:8080/",
          "height": 68
        },
        "id": "g3bK1gJy_f8X",
        "outputId": "c71ad033-2256-4371-8d44-f2ce1c3025e7"
      },
      "outputs": [
        {
          "name": "stdout",
          "output_type": "stream",
          "text": [
            "Input English sentence: were you really in boston\n",
            "Actual Marathi Translation:  तू खरच बॉस्टनमध्ये होतीस का \n",
            "Predicted Marathi Translation:  तू खरच बॉस्टनमध्ये होतास का \n"
          ]
        }
      ],
      "source": [
        "k+=1\n",
        "(input_seq, actual_output), _ = next(train_gen)\n",
        "decoded_sentence = decode_sequence(input_seq)\n",
        "print('Input English sentence:', X_train[k:k+1].values[0])\n",
        "print('Actual Marathi Translation:', y_train[k:k+1].values[0][6:-4])\n",
        "print('Predicted Marathi Translation:', decoded_sentence[:-4])"
      ]
    },
    {
      "cell_type": "code",
      "execution_count": null,
      "metadata": {
        "colab": {
          "base_uri": "https://localhost:8080/",
          "height": 68
        },
        "id": "77jndiaM_f8c",
        "outputId": "f4aa5440-eb7d-4a6b-eb01-8314dd0463d9"
      },
      "outputs": [
        {
          "name": "stdout",
          "output_type": "stream",
          "text": [
            "Input English sentence: should i tell tom\n",
            "Actual Marathi Translation:  मी टॉमला सांगू का \n",
            "Predicted Marathi Translation:  टॉमला ते कोणाला हवं आहे का \n"
          ]
        }
      ],
      "source": [
        "k+=1\n",
        "(input_seq, actual_output), _ = next(train_gen)\n",
        "decoded_sentence = decode_sequence(input_seq)\n",
        "print('Input English sentence:', X_train[k:k+1].values[0])\n",
        "print('Actual Marathi Translation:', y_train[k:k+1].values[0][6:-4])\n",
        "print('Predicted Marathi Translation:', decoded_sentence[:-4])"
      ]
    },
    {
      "cell_type": "code",
      "execution_count": null,
      "metadata": {
        "colab": {
          "base_uri": "https://localhost:8080/",
          "height": 68
        },
        "id": "zoi8mAsa_f8h",
        "outputId": "59cd203f-a61a-40c0-a041-a338e4789936"
      },
      "outputs": [
        {
          "name": "stdout",
          "output_type": "stream",
          "text": [
            "Input English sentence: in america we usually buy eggs by the dozen\n",
            "Actual Marathi Translation:  अमेरिकेत आपण डझनाच्या हिशोबाने अंडी विकत घेतो \n",
            "Predicted Marathi Translation:  अमेरिकेत आपण डझनाच्या हिशोबाने अंडी विकत घेतली \n"
          ]
        }
      ],
      "source": [
        "k+=1\n",
        "(input_seq, actual_output), _ = next(train_gen)\n",
        "decoded_sentence = decode_sequence(input_seq)\n",
        "print('Input English sentence:', X_train[k:k+1].values[0])\n",
        "print('Actual Marathi Translation:', y_train[k:k+1].values[0][6:-4])\n",
        "print('Predicted Marathi Translation:', decoded_sentence[:-4])"
      ]
    },
    {
      "cell_type": "code",
      "execution_count": null,
      "metadata": {
        "colab": {
          "base_uri": "https://localhost:8080/",
          "height": 68
        },
        "id": "yE6bb0Uw_f8k",
        "outputId": "b5551165-e255-4efd-9f08-07c9493c4d08"
      },
      "outputs": [
        {
          "name": "stdout",
          "output_type": "stream",
          "text": [
            "Input English sentence: i caught the ball with one hand\n",
            "Actual Marathi Translation:  मी एका हाताने चेंडू पकडला \n",
            "Predicted Marathi Translation:  मी बंदूक हरवली \n"
          ]
        }
      ],
      "source": [
        "k+=1\n",
        "(input_seq, actual_output), _ = next(train_gen)\n",
        "decoded_sentence = decode_sequence(input_seq)\n",
        "print('Input English sentence:', X_train[k:k+1].values[0])\n",
        "print('Actual Marathi Translation:', y_train[k:k+1].values[0][6:-4])\n",
        "print('Predicted Marathi Translation:', decoded_sentence[:-4])"
      ]
    },
    {
      "cell_type": "code",
      "execution_count": null,
      "metadata": {
        "colab": {
          "base_uri": "https://localhost:8080/",
          "height": 68
        },
        "id": "lFbGMM2L_f8n",
        "outputId": "b94347b4-0b0b-4828-eeba-907533927355"
      },
      "outputs": [
        {
          "name": "stdout",
          "output_type": "stream",
          "text": [
            "Input English sentence: they should arrive by ten oclock\n",
            "Actual Marathi Translation:  ते दहा वाजेपर्यंत यायला पाहिजेत \n",
            "Predicted Marathi Translation:  ते बसने जातात \n"
          ]
        }
      ],
      "source": [
        "k+=1\n",
        "(input_seq, actual_output), _ = next(train_gen)\n",
        "decoded_sentence = decode_sequence(input_seq)\n",
        "print('Input English sentence:', X_train[k:k+1].values[0])\n",
        "print('Actual Marathi Translation:', y_train[k:k+1].values[0][6:-4])\n",
        "print('Predicted Marathi Translation:', decoded_sentence[:-4])"
      ]
    },
    {
      "cell_type": "code",
      "execution_count": null,
      "metadata": {
        "colab": {
          "base_uri": "https://localhost:8080/",
          "height": 68
        },
        "id": "ZnNoAdd4_f8p",
        "outputId": "85514034-a721-4254-850e-e1bffaeeb148"
      },
      "outputs": [
        {
          "name": "stdout",
          "output_type": "stream",
          "text": [
            "Input English sentence: who needs computers\n",
            "Actual Marathi Translation:  संगणक कोणाला लागतात \n",
            "Predicted Marathi Translation:  कोणाला उत्तरं आहेत \n"
          ]
        }
      ],
      "source": [
        "k+=1\n",
        "(input_seq, actual_output), _ = next(train_gen)\n",
        "decoded_sentence = decode_sequence(input_seq)\n",
        "print('Input English sentence:', X_train[k:k+1].values[0])\n",
        "print('Actual Marathi Translation:', y_train[k:k+1].values[0][6:-4])\n",
        "print('Predicted Marathi Translation:', decoded_sentence[:-4])"
      ]
    },
    {
      "cell_type": "code",
      "execution_count": null,
      "metadata": {
        "colab": {
          "base_uri": "https://localhost:8080/",
          "height": 68
        },
        "id": "HrQuvLmn_f8r",
        "outputId": "6301b07d-ac92-459e-9c31-046fc754cf25"
      },
      "outputs": [
        {
          "name": "stdout",
          "output_type": "stream",
          "text": [
            "Input English sentence: sri lanka is a beautiful island\n",
            "Actual Marathi Translation:  श्रीलंका एक सुंदर बेट आहे \n",
            "Predicted Marathi Translation:  श्रीलंका एक सुंदर एक सुंदर आहे \n"
          ]
        }
      ],
      "source": [
        "k+=1\n",
        "(input_seq, actual_output), _ = next(train_gen)\n",
        "decoded_sentence = decode_sequence(input_seq)\n",
        "print('Input English sentence:', X_train[k:k+1].values[0])\n",
        "print('Actual Marathi Translation:', y_train[k:k+1].values[0][6:-4])\n",
        "print('Predicted Marathi Translation:', decoded_sentence[:-4])"
      ]
    },
    {
      "cell_type": "code",
      "execution_count": null,
      "metadata": {
        "colab": {
          "base_uri": "https://localhost:8080/",
          "height": 68
        },
        "id": "N8fzGPro_f80",
        "outputId": "90ebac8b-fb7d-4811-fc45-0215ca870e70"
      },
      "outputs": [
        {
          "name": "stdout",
          "output_type": "stream",
          "text": [
            "Input English sentence: i learned that from you\n",
            "Actual Marathi Translation:  ते मी तुमच्यापासून शिकले \n",
            "Predicted Marathi Translation:  मी ते जपानी राहतो ना \n"
          ]
        }
      ],
      "source": [
        "k+=1\n",
        "(input_seq, actual_output), _ = next(train_gen)\n",
        "decoded_sentence = decode_sequence(input_seq)\n",
        "print('Input English sentence:', X_train[k:k+1].values[0])\n",
        "print('Actual Marathi Translation:', y_train[k:k+1].values[0][6:-4])\n",
        "print('Predicted Marathi Translation:', decoded_sentence[:-4])"
      ]
    },
    {
      "cell_type": "code",
      "execution_count": null,
      "metadata": {
        "colab": {
          "base_uri": "https://localhost:8080/",
          "height": 68
        },
        "id": "zyCWYSs2_f84",
        "outputId": "fd0e8cf5-31a6-41ff-9d42-0fb2e0995c87"
      },
      "outputs": [
        {
          "name": "stdout",
          "output_type": "stream",
          "text": [
            "Input English sentence: i want to see your mother\n",
            "Actual Marathi Translation:  मला तुमच्या आईंना बघायचं आहे \n",
            "Predicted Marathi Translation:  मला तुझ्या आईला बघायचं आहे \n"
          ]
        }
      ],
      "source": [
        "k+=1\n",
        "(input_seq, actual_output), _ = next(train_gen)\n",
        "decoded_sentence = decode_sequence(input_seq)\n",
        "print('Input English sentence:', X_train[k:k+1].values[0])\n",
        "print('Actual Marathi Translation:', y_train[k:k+1].values[0][6:-4])\n",
        "print('Predicted Marathi Translation:', decoded_sentence[:-4])"
      ]
    },
    {
      "cell_type": "code",
      "execution_count": null,
      "metadata": {
        "colab": {
          "base_uri": "https://localhost:8080/",
          "height": 68
        },
        "id": "TugKefAw_f89",
        "outputId": "a688f78a-a588-4a01-8075-54c7aaa7e51d"
      },
      "outputs": [
        {
          "name": "stdout",
          "output_type": "stream",
          "text": [
            "Input English sentence: he even criticized george washington\n",
            "Actual Marathi Translation:  त्यांनी तर जॉर्ज वॉशिंग्टनचीही टीका केली \n",
            "Predicted Marathi Translation:  त्याने बहुधा स्टेक आयात करतो \n"
          ]
        }
      ],
      "source": [
        "k+=1\n",
        "(input_seq, actual_output), _ = next(train_gen)\n",
        "decoded_sentence = decode_sequence(input_seq)\n",
        "print('Input English sentence:', X_train[k:k+1].values[0])\n",
        "print('Actual Marathi Translation:', y_train[k:k+1].values[0][6:-4])\n",
        "print('Predicted Marathi Translation:', decoded_sentence[:-4])"
      ]
    },
    {
      "cell_type": "code",
      "execution_count": null,
      "metadata": {
        "colab": {
          "base_uri": "https://localhost:8080/",
          "height": 68
        },
        "id": "pg6VJvDI_f9A",
        "outputId": "dadefe9e-b029-4241-a614-4cc6c3eeb06b"
      },
      "outputs": [
        {
          "name": "stdout",
          "output_type": "stream",
          "text": [
            "Input English sentence: thats all we want\n",
            "Actual Marathi Translation:  आम्हाला तितकंच हवं आहे \n",
            "Predicted Marathi Translation:  आम्हाला ते किती तास नाहीये \n"
          ]
        }
      ],
      "source": [
        "k+=1\n",
        "(input_seq, actual_output), _ = next(train_gen)\n",
        "decoded_sentence = decode_sequence(input_seq)\n",
        "print('Input English sentence:', X_train[k:k+1].values[0])\n",
        "print('Actual Marathi Translation:', y_train[k:k+1].values[0][6:-4])\n",
        "print('Predicted Marathi Translation:', decoded_sentence[:-4])"
      ]
    },
    {
      "cell_type": "code",
      "execution_count": null,
      "metadata": {
        "colab": {
          "base_uri": "https://localhost:8080/",
          "height": 68
        },
        "id": "dXI6v1k__f9F",
        "outputId": "4f7327ed-9ad3-4ad2-ad3f-68d30e77462a"
      },
      "outputs": [
        {
          "name": "stdout",
          "output_type": "stream",
          "text": [
            "Input English sentence: leave it to me\n",
            "Actual Marathi Translation:  माझ्यावर सोड \n",
            "Predicted Marathi Translation:  मला सोड \n"
          ]
        }
      ],
      "source": [
        "k+=1\n",
        "(input_seq, actual_output), _ = next(train_gen)\n",
        "decoded_sentence = decode_sequence(input_seq)\n",
        "print('Input English sentence:', X_train[k:k+1].values[0])\n",
        "print('Actual Marathi Translation:', y_train[k:k+1].values[0][6:-4])\n",
        "print('Predicted Marathi Translation:', decoded_sentence[:-4])"
      ]
    },
    {
      "cell_type": "code",
      "execution_count": null,
      "metadata": {
        "colab": {
          "base_uri": "https://localhost:8080/",
          "height": 68
        },
        "id": "psFBkWJL_f9L",
        "outputId": "5d474ddb-8f53-4349-ae6e-ed4f1393ac70"
      },
      "outputs": [
        {
          "name": "stdout",
          "output_type": "stream",
          "text": [
            "Input English sentence: luck had nothing to do with it\n",
            "Actual Marathi Translation:  त्यात नशीबाचा हात नव्हता \n",
            "Predicted Marathi Translation:  त्यात नशीबाचा हात नकोस \n"
          ]
        }
      ],
      "source": [
        "k+=1\n",
        "(input_seq, actual_output), _ = next(train_gen)\n",
        "decoded_sentence = decode_sequence(input_seq)\n",
        "print('Input English sentence:', X_train[k:k+1].values[0])\n",
        "print('Actual Marathi Translation:', y_train[k:k+1].values[0][6:-4])\n",
        "print('Predicted Marathi Translation:', decoded_sentence[:-4])"
      ]
    },
    {
      "cell_type": "code",
      "execution_count": null,
      "metadata": {
        "colab": {
          "base_uri": "https://localhost:8080/",
          "height": 68
        },
        "id": "gF74r2su_f9O",
        "outputId": "ea7683fd-beb3-45a6-a394-62620e5dd991"
      },
      "outputs": [
        {
          "name": "stdout",
          "output_type": "stream",
          "text": [
            "Input English sentence: we do everything together\n",
            "Actual Marathi Translation:  आपण सगळ्या गोष्टी एकत्र करतो \n",
            "Predicted Marathi Translation:  आपण एकत्र सर्वकाही करायला \n"
          ]
        }
      ],
      "source": [
        "k+=1\n",
        "(input_seq, actual_output), _ = next(train_gen)\n",
        "decoded_sentence = decode_sequence(input_seq)\n",
        "print('Input English sentence:', X_train[k:k+1].values[0])\n",
        "print('Actual Marathi Translation:', y_train[k:k+1].values[0][6:-4])\n",
        "print('Predicted Marathi Translation:', decoded_sentence[:-4])"
      ]
    },
    {
      "cell_type": "code",
      "execution_count": null,
      "metadata": {
        "colab": {
          "base_uri": "https://localhost:8080/",
          "height": 68
        },
        "id": "-IA78S9J_f9T",
        "outputId": "a944ac41-1ad5-483a-b307-8a416107775b"
      },
      "outputs": [
        {
          "name": "stdout",
          "output_type": "stream",
          "text": [
            "Input English sentence: there are many cockroaches in the kitchen\n",
            "Actual Marathi Translation:  स्वयंपाकघरात भरपूर झुरळं आहेत \n",
            "Predicted Marathi Translation:  स्वयंपाकघरात भरपूर पाणी होती \n"
          ]
        }
      ],
      "source": [
        "k+=1\n",
        "(input_seq, actual_output), _ = next(train_gen)\n",
        "decoded_sentence = decode_sequence(input_seq)\n",
        "print('Input English sentence:', X_train[k:k+1].values[0])\n",
        "print('Actual Marathi Translation:', y_train[k:k+1].values[0][6:-4])\n",
        "print('Predicted Marathi Translation:', decoded_sentence[:-4])"
      ]
    },
    {
      "cell_type": "code",
      "execution_count": null,
      "metadata": {
        "colab": {
          "base_uri": "https://localhost:8080/",
          "height": 68
        },
        "id": "wDMQ_zah_f9W",
        "outputId": "6112da97-a81b-4744-bb6c-8cdafdb1bf82"
      },
      "outputs": [
        {
          "name": "stdout",
          "output_type": "stream",
          "text": [
            "Input English sentence: its only blood\n",
            "Actual Marathi Translation:  रक्तच तर आहे \n",
            "Predicted Marathi Translation:  रक्तच आहे \n"
          ]
        }
      ],
      "source": [
        "k+=1\n",
        "(input_seq, actual_output), _ = next(train_gen)\n",
        "decoded_sentence = decode_sequence(input_seq)\n",
        "print('Input English sentence:', X_train[k:k+1].values[0])\n",
        "print('Actual Marathi Translation:', y_train[k:k+1].values[0][6:-4])\n",
        "print('Predicted Marathi Translation:', decoded_sentence[:-4])"
      ]
    },
    {
      "cell_type": "code",
      "execution_count": null,
      "metadata": {
        "colab": {
          "base_uri": "https://localhost:8080/",
          "height": 68
        },
        "id": "5cM2EsQS_f9Z",
        "outputId": "07c07099-2773-4c41-a697-abd3da7527c6"
      },
      "outputs": [
        {
          "name": "stdout",
          "output_type": "stream",
          "text": [
            "Input English sentence: we didnt get it\n",
            "Actual Marathi Translation:  आम्हाला कळलं नाही \n",
            "Predicted Marathi Translation:  आपण विसरू नकोस \n"
          ]
        }
      ],
      "source": [
        "k+=1\n",
        "(input_seq, actual_output), _ = next(train_gen)\n",
        "decoded_sentence = decode_sequence(input_seq)\n",
        "print('Input English sentence:', X_train[k:k+1].values[0])\n",
        "print('Actual Marathi Translation:', y_train[k:k+1].values[0][6:-4])\n",
        "print('Predicted Marathi Translation:', decoded_sentence[:-4])"
      ]
    },
    {
      "cell_type": "code",
      "execution_count": null,
      "metadata": {
        "colab": {
          "base_uri": "https://localhost:8080/",
          "height": 68
        },
        "id": "qZWuiiPM_f9b",
        "outputId": "a3115c73-b84c-49d8-e5b1-76b63a6f3b62"
      },
      "outputs": [
        {
          "name": "stdout",
          "output_type": "stream",
          "text": [
            "Input English sentence: im still sick\n",
            "Actual Marathi Translation:  मी अजूनही आजारी आहे \n",
            "Predicted Marathi Translation:  मी अजूनही आजारी आहे \n"
          ]
        }
      ],
      "source": [
        "k+=1\n",
        "(input_seq, actual_output), _ = next(train_gen)\n",
        "decoded_sentence = decode_sequence(input_seq)\n",
        "print('Input English sentence:', X_train[k:k+1].values[0])\n",
        "print('Actual Marathi Translation:', y_train[k:k+1].values[0][6:-4])\n",
        "print('Predicted Marathi Translation:', decoded_sentence[:-4])"
      ]
    },
    {
      "cell_type": "code",
      "execution_count": null,
      "metadata": {
        "colab": {
          "base_uri": "https://localhost:8080/",
          "height": 68
        },
        "id": "PzKMd_1l_f9f",
        "outputId": "705db4d9-c4ea-4948-dab2-1b60aa4296e5"
      },
      "outputs": [
        {
          "name": "stdout",
          "output_type": "stream",
          "text": [
            "Input English sentence: tell the truth to tom\n",
            "Actual Marathi Translation:  टॉमला खरं सांगा \n",
            "Predicted Marathi Translation:  टॉमला खरं सांगितलं \n"
          ]
        }
      ],
      "source": [
        "k+=1\n",
        "(input_seq, actual_output), _ = next(train_gen)\n",
        "decoded_sentence = decode_sequence(input_seq)\n",
        "print('Input English sentence:', X_train[k:k+1].values[0])\n",
        "print('Actual Marathi Translation:', y_train[k:k+1].values[0][6:-4])\n",
        "print('Predicted Marathi Translation:', decoded_sentence[:-4])"
      ]
    },
    {
      "cell_type": "code",
      "execution_count": null,
      "metadata": {
        "colab": {
          "base_uri": "https://localhost:8080/",
          "height": 68
        },
        "id": "e7N_mK8q_f9g",
        "outputId": "ed8036fd-a255-414d-dbaf-095ad7621c09"
      },
      "outputs": [
        {
          "name": "stdout",
          "output_type": "stream",
          "text": [
            "Input English sentence: tom gave mary a dollar\n",
            "Actual Marathi Translation:  टॉमने मेरीला एक डॉलर दिला \n",
            "Predicted Marathi Translation:  टॉमने मेरीला एक ग्लास पाणी घेतलं \n"
          ]
        }
      ],
      "source": [
        "k+=1\n",
        "(input_seq, actual_output), _ = next(train_gen)\n",
        "decoded_sentence = decode_sequence(input_seq)\n",
        "print('Input English sentence:', X_train[k:k+1].values[0])\n",
        "print('Actual Marathi Translation:', y_train[k:k+1].values[0][6:-4])\n",
        "print('Predicted Marathi Translation:', decoded_sentence[:-4])"
      ]
    },
    {
      "cell_type": "code",
      "execution_count": null,
      "metadata": {
        "colab": {
          "base_uri": "https://localhost:8080/",
          "height": 68
        },
        "id": "snpjhUYY_f9j",
        "outputId": "7c0cdd5d-cd79-452b-99c4-a86b521d92d4"
      },
      "outputs": [
        {
          "name": "stdout",
          "output_type": "stream",
          "text": [
            "Input English sentence: this photo was taken on monday\n",
            "Actual Marathi Translation:  हा फोटो सोमवारी काढलेला \n",
            "Predicted Marathi Translation:  हा फोटो सोमवारी काढलेला \n"
          ]
        }
      ],
      "source": [
        "k+=1\n",
        "(input_seq, actual_output), _ = next(train_gen)\n",
        "decoded_sentence = decode_sequence(input_seq)\n",
        "print('Input English sentence:', X_train[k:k+1].values[0])\n",
        "print('Actual Marathi Translation:', y_train[k:k+1].values[0][6:-4])\n",
        "print('Predicted Marathi Translation:', decoded_sentence[:-4])"
      ]
    },
    {
      "cell_type": "code",
      "execution_count": null,
      "metadata": {
        "colab": {
          "base_uri": "https://localhost:8080/",
          "height": 68
        },
        "id": "4B9VxWFC_f9l",
        "outputId": "27954f71-f61a-43b8-a899-21435d020374"
      },
      "outputs": [
        {
          "name": "stdout",
          "output_type": "stream",
          "text": [
            "Input English sentence: it is under the chair\n",
            "Actual Marathi Translation:  खुर्चीखाली आहे \n",
            "Predicted Marathi Translation:  खुर्चीखाली आहे \n"
          ]
        }
      ],
      "source": [
        "k+=1\n",
        "(input_seq, actual_output), _ = next(train_gen)\n",
        "decoded_sentence = decode_sequence(input_seq)\n",
        "print('Input English sentence:', X_train[k:k+1].values[0])\n",
        "print('Actual Marathi Translation:', y_train[k:k+1].values[0][6:-4])\n",
        "print('Predicted Marathi Translation:', decoded_sentence[:-4])"
      ]
    },
    {
      "cell_type": "code",
      "execution_count": null,
      "metadata": {
        "colab": {
          "base_uri": "https://localhost:8080/",
          "height": 68
        },
        "id": "4T6hvKa4_f9m",
        "outputId": "4d0d852c-acb8-490f-9167-c6de9de20a5d"
      },
      "outputs": [
        {
          "name": "stdout",
          "output_type": "stream",
          "text": [
            "Input English sentence: he deals in whiskey\n",
            "Actual Marathi Translation:  ते व्हिस्कीचा व्यापार करतात \n",
            "Predicted Marathi Translation:  तो व्हिस्कीचा व्यापार करतो \n"
          ]
        }
      ],
      "source": [
        "k+=1\n",
        "(input_seq, actual_output), _ = next(train_gen)\n",
        "decoded_sentence = decode_sequence(input_seq)\n",
        "print('Input English sentence:', X_train[k:k+1].values[0])\n",
        "print('Actual Marathi Translation:', y_train[k:k+1].values[0][6:-4])\n",
        "print('Predicted Marathi Translation:', decoded_sentence[:-4])"
      ]
    },
    {
      "cell_type": "code",
      "execution_count": null,
      "metadata": {
        "colab": {
          "base_uri": "https://localhost:8080/",
          "height": 68
        },
        "id": "Cx5GNjE__f9o",
        "outputId": "7f83b203-47b3-43bd-c3ea-9ab1c839af28"
      },
      "outputs": [
        {
          "name": "stdout",
          "output_type": "stream",
          "text": [
            "Input English sentence: glass is made from sand\n",
            "Actual Marathi Translation:  काच वाळूपासून बनवली जाते \n",
            "Predicted Marathi Translation:  काच वाळूपासून बनवली जाते \n"
          ]
        }
      ],
      "source": [
        "k+=1\n",
        "(input_seq, actual_output), _ = next(train_gen)\n",
        "decoded_sentence = decode_sequence(input_seq)\n",
        "print('Input English sentence:', X_train[k:k+1].values[0])\n",
        "print('Actual Marathi Translation:', y_train[k:k+1].values[0][6:-4])\n",
        "print('Predicted Marathi Translation:', decoded_sentence[:-4])"
      ]
    },
    {
      "cell_type": "code",
      "execution_count": null,
      "metadata": {
        "colab": {
          "base_uri": "https://localhost:8080/",
          "height": 68
        },
        "id": "5MZOJNdd_f9p",
        "outputId": "f6d49cda-81c6-4770-e3b8-14d22db54050"
      },
      "outputs": [
        {
          "name": "stdout",
          "output_type": "stream",
          "text": [
            "Input English sentence: i met him\n",
            "Actual Marathi Translation:  मी त्याला भेटलो \n",
            "Predicted Marathi Translation:  मी त्याला भेटले \n"
          ]
        }
      ],
      "source": [
        "k+=1\n",
        "(input_seq, actual_output), _ = next(train_gen)\n",
        "decoded_sentence = decode_sequence(input_seq)\n",
        "print('Input English sentence:', X_train[k:k+1].values[0])\n",
        "print('Actual Marathi Translation:', y_train[k:k+1].values[0][6:-4])\n",
        "print('Predicted Marathi Translation:', decoded_sentence[:-4])"
      ]
    },
    {
      "cell_type": "code",
      "execution_count": null,
      "metadata": {
        "colab": {
          "base_uri": "https://localhost:8080/",
          "height": 68
        },
        "id": "66tUjM-G_f9u",
        "outputId": "bbb14dfb-463e-4e02-a605-92fb9c469325"
      },
      "outputs": [
        {
          "name": "stdout",
          "output_type": "stream",
          "text": [
            "Input English sentence: i want coffee\n",
            "Actual Marathi Translation:  मला कॉफी हवी आहे \n",
            "Predicted Marathi Translation:  मला कॉफी हवी आहे \n"
          ]
        }
      ],
      "source": [
        "k+=1\n",
        "(input_seq, actual_output), _ = next(train_gen)\n",
        "decoded_sentence = decode_sequence(input_seq)\n",
        "print('Input English sentence:', X_train[k:k+1].values[0])\n",
        "print('Actual Marathi Translation:', y_train[k:k+1].values[0][6:-4])\n",
        "print('Predicted Marathi Translation:', decoded_sentence[:-4])"
      ]
    },
    {
      "cell_type": "code",
      "execution_count": null,
      "metadata": {
        "colab": {
          "base_uri": "https://localhost:8080/",
          "height": 68
        },
        "id": "A2rvyAzv_f91",
        "outputId": "f5848df5-f8b2-477d-989d-9639a885ec20"
      },
      "outputs": [
        {
          "name": "stdout",
          "output_type": "stream",
          "text": [
            "Input English sentence: im already so late\n",
            "Actual Marathi Translation:  मला आधीच इतका उशीर झाला आहे \n",
            "Predicted Marathi Translation:  मला फक्त किती वेळ आहे \n"
          ]
        }
      ],
      "source": [
        "k+=1\n",
        "(input_seq, actual_output), _ = next(train_gen)\n",
        "decoded_sentence = decode_sequence(input_seq)\n",
        "print('Input English sentence:', X_train[k:k+1].values[0])\n",
        "print('Actual Marathi Translation:', y_train[k:k+1].values[0][6:-4])\n",
        "print('Predicted Marathi Translation:', decoded_sentence[:-4])"
      ]
    },
    {
      "cell_type": "code",
      "execution_count": null,
      "metadata": {
        "colab": {
          "base_uri": "https://localhost:8080/",
          "height": 68
        },
        "id": "6zzdAkUz_f94",
        "outputId": "6d25f6de-37a8-4536-a419-384c947a3eed"
      },
      "outputs": [
        {
          "name": "stdout",
          "output_type": "stream",
          "text": [
            "Input English sentence: which do you like better the sea or the mountains\n",
            "Actual Marathi Translation:  तुला जास्त काय आवडतं समुद्र की डोंगर \n",
            "Predicted Marathi Translation:  तुला सर्वात सर्वात सर्वात कोणता खेळतात का \n"
          ]
        }
      ],
      "source": [
        "k+=1\n",
        "(input_seq, actual_output), _ = next(train_gen)\n",
        "decoded_sentence = decode_sequence(input_seq)\n",
        "print('Input English sentence:', X_train[k:k+1].values[0])\n",
        "print('Actual Marathi Translation:', y_train[k:k+1].values[0][6:-4])\n",
        "print('Predicted Marathi Translation:', decoded_sentence[:-4])"
      ]
    },
    {
      "cell_type": "code",
      "execution_count": null,
      "metadata": {
        "colab": {
          "base_uri": "https://localhost:8080/",
          "height": 68
        },
        "id": "ss1nCqaI_f96",
        "outputId": "7614a833-d7ba-486e-8d6d-ffe85804b8c4"
      },
      "outputs": [
        {
          "name": "stdout",
          "output_type": "stream",
          "text": [
            "Input English sentence: the british started to attack from across the river\n",
            "Actual Marathi Translation:  ब्रिटिश नदीच्या पलीकडून हल्ला करू लागले \n",
            "Predicted Marathi Translation:  ब्रिटिश राजदूताला रमजान वापरत नाही तसाच \n"
          ]
        }
      ],
      "source": [
        "k+=1\n",
        "(input_seq, actual_output), _ = next(train_gen)\n",
        "decoded_sentence = decode_sequence(input_seq)\n",
        "print('Input English sentence:', X_train[k:k+1].values[0])\n",
        "print('Actual Marathi Translation:', y_train[k:k+1].values[0][6:-4])\n",
        "print('Predicted Marathi Translation:', decoded_sentence[:-4])"
      ]
    },
    {
      "cell_type": "code",
      "execution_count": null,
      "metadata": {
        "colab": {
          "base_uri": "https://localhost:8080/",
          "height": 68
        },
        "id": "4lWAxvtJ_f9-",
        "outputId": "0c3b8fa0-c746-4907-c59f-77434ba84c74"
      },
      "outputs": [
        {
          "name": "stdout",
          "output_type": "stream",
          "text": [
            "Input English sentence: she likes all of us\n",
            "Actual Marathi Translation:  तिला आपण सर्वच आवडतो \n",
            "Predicted Marathi Translation:  तिला आपल्याला बेसबॉल आवडतो \n"
          ]
        }
      ],
      "source": [
        "k+=1\n",
        "(input_seq, actual_output), _ = next(train_gen)\n",
        "decoded_sentence = decode_sequence(input_seq)\n",
        "print('Input English sentence:', X_train[k:k+1].values[0])\n",
        "print('Actual Marathi Translation:', y_train[k:k+1].values[0][6:-4])\n",
        "print('Predicted Marathi Translation:', decoded_sentence[:-4])"
      ]
    },
    {
      "cell_type": "code",
      "execution_count": null,
      "metadata": {
        "colab": {
          "base_uri": "https://localhost:8080/",
          "height": 68
        },
        "id": "6NcrU9o-_f-A",
        "outputId": "5558b663-7623-4648-8506-714fd1ff42dc"
      },
      "outputs": [
        {
          "name": "stdout",
          "output_type": "stream",
          "text": [
            "Input English sentence: lets start with lesson ten\n",
            "Actual Marathi Translation:  दहाव्या धड्यापासून सुरू करुया \n",
            "Predicted Marathi Translation:  वर्ग काळोख आहे \n"
          ]
        }
      ],
      "source": [
        "k+=1\n",
        "(input_seq, actual_output), _ = next(train_gen)\n",
        "decoded_sentence = decode_sequence(input_seq)\n",
        "print('Input English sentence:', X_train[k:k+1].values[0])\n",
        "print('Actual Marathi Translation:', y_train[k:k+1].values[0][6:-4])\n",
        "print('Predicted Marathi Translation:', decoded_sentence[:-4])"
      ]
    },
    {
      "cell_type": "code",
      "execution_count": null,
      "metadata": {
        "colab": {
          "base_uri": "https://localhost:8080/",
          "height": 68
        },
        "id": "MB1K7upY_f-G",
        "outputId": "d6e0c403-6649-4915-af32-ee1d22ecc401"
      },
      "outputs": [
        {
          "name": "stdout",
          "output_type": "stream",
          "text": [
            "Input English sentence: they accepted the new government\n",
            "Actual Marathi Translation:  त्यांनी नवीन शासन स्वीकारलं \n",
            "Predicted Marathi Translation:  त्यांनी तीन महिन्यांनंतर होता \n"
          ]
        }
      ],
      "source": [
        "k+=1\n",
        "(input_seq, actual_output), _ = next(train_gen)\n",
        "decoded_sentence = decode_sequence(input_seq)\n",
        "print('Input English sentence:', X_train[k:k+1].values[0])\n",
        "print('Actual Marathi Translation:', y_train[k:k+1].values[0][6:-4])\n",
        "print('Predicted Marathi Translation:', decoded_sentence[:-4])"
      ]
    },
    {
      "cell_type": "code",
      "execution_count": null,
      "metadata": {
        "colab": {
          "base_uri": "https://localhost:8080/",
          "height": 68
        },
        "id": "YhkxFmMn_f-H",
        "outputId": "de4fcfad-7635-45fb-b4f0-d852e4b323f8"
      },
      "outputs": [
        {
          "name": "stdout",
          "output_type": "stream",
          "text": [
            "Input English sentence: ill order that later\n",
            "Actual Marathi Translation:  ते मी नंतर मागवेन \n",
            "Predicted Marathi Translation:  ते मी ते पत्र दिलं \n"
          ]
        }
      ],
      "source": [
        "k+=1\n",
        "(input_seq, actual_output), _ = next(train_gen)\n",
        "decoded_sentence = decode_sequence(input_seq)\n",
        "print('Input English sentence:', X_train[k:k+1].values[0])\n",
        "print('Actual Marathi Translation:', y_train[k:k+1].values[0][6:-4])\n",
        "print('Predicted Marathi Translation:', decoded_sentence[:-4])"
      ]
    },
    {
      "cell_type": "code",
      "execution_count": null,
      "metadata": {
        "colab": {
          "base_uri": "https://localhost:8080/",
          "height": 68
        },
        "id": "85sLwnLf_f-K",
        "outputId": "fbf3798e-9e43-4efb-9c60-475578e6ccbe"
      },
      "outputs": [
        {
          "name": "stdout",
          "output_type": "stream",
          "text": [
            "Input English sentence: this is toms sister\n",
            "Actual Marathi Translation:  ही टॉमची बहीण आहे \n",
            "Predicted Marathi Translation:  ही टॉमची बहीण आहे \n"
          ]
        }
      ],
      "source": [
        "k+=1\n",
        "(input_seq, actual_output), _ = next(train_gen)\n",
        "decoded_sentence = decode_sequence(input_seq)\n",
        "print('Input English sentence:', X_train[k:k+1].values[0])\n",
        "print('Actual Marathi Translation:', y_train[k:k+1].values[0][6:-4])\n",
        "print('Predicted Marathi Translation:', decoded_sentence[:-4])"
      ]
    },
    {
      "cell_type": "code",
      "execution_count": null,
      "metadata": {
        "colab": {
          "base_uri": "https://localhost:8080/",
          "height": 68
        },
        "id": "vwknjpu4_f-M",
        "outputId": "eb879bd9-b272-42f8-eeec-b0ec7a59cb75"
      },
      "outputs": [
        {
          "name": "stdout",
          "output_type": "stream",
          "text": [
            "Input English sentence: tom finally got what he wanted\n",
            "Actual Marathi Translation:  टॉमला जे हवं होतं ते शेवटी त्याला मिळालं \n",
            "Predicted Marathi Translation:  टॉमला जे काही सांगितलं त्याला माहीत होतं \n"
          ]
        }
      ],
      "source": [
        "k+=1\n",
        "(input_seq, actual_output), _ = next(train_gen)\n",
        "decoded_sentence = decode_sequence(input_seq)\n",
        "print('Input English sentence:', X_train[k:k+1].values[0])\n",
        "print('Actual Marathi Translation:', y_train[k:k+1].values[0][6:-4])\n",
        "print('Predicted Marathi Translation:', decoded_sentence[:-4])"
      ]
    },
    {
      "cell_type": "code",
      "execution_count": null,
      "metadata": {
        "colab": {
          "base_uri": "https://localhost:8080/",
          "height": 68
        },
        "id": "WwGHlNS1_f-N",
        "outputId": "2bc3fe6e-cb1b-43f2-b0c2-e4f865da0e97"
      },
      "outputs": [
        {
          "name": "stdout",
          "output_type": "stream",
          "text": [
            "Input English sentence: they said yes\n",
            "Actual Marathi Translation:  त्या हो म्हणाल्या \n",
            "Predicted Marathi Translation:  ते म्हणतात \n"
          ]
        }
      ],
      "source": [
        "k+=1\n",
        "(input_seq, actual_output), _ = next(train_gen)\n",
        "decoded_sentence = decode_sequence(input_seq)\n",
        "print('Input English sentence:', X_train[k:k+1].values[0])\n",
        "print('Actual Marathi Translation:', y_train[k:k+1].values[0][6:-4])\n",
        "print('Predicted Marathi Translation:', decoded_sentence[:-4])"
      ]
    },
    {
      "cell_type": "code",
      "execution_count": null,
      "metadata": {
        "colab": {
          "base_uri": "https://localhost:8080/",
          "height": 68
        },
        "id": "RkjnsNnC_f-O",
        "outputId": "26bce905-3233-4cbe-a16e-a78928e4bd58"
      },
      "outputs": [
        {
          "name": "stdout",
          "output_type": "stream",
          "text": [
            "Input English sentence: i want something sweet to eat\n",
            "Actual Marathi Translation:  मला काहीतरी गोड खायला हवंय \n",
            "Predicted Marathi Translation:  मला काहीतरी मिळेल हे मला आवडलं नाही \n"
          ]
        }
      ],
      "source": [
        "k+=1\n",
        "(input_seq, actual_output), _ = next(train_gen)\n",
        "decoded_sentence = decode_sequence(input_seq)\n",
        "print('Input English sentence:', X_train[k:k+1].values[0])\n",
        "print('Actual Marathi Translation:', y_train[k:k+1].values[0][6:-4])\n",
        "print('Predicted Marathi Translation:', decoded_sentence[:-4])"
      ]
    },
    {
      "cell_type": "code",
      "execution_count": null,
      "metadata": {
        "colab": {
          "base_uri": "https://localhost:8080/",
          "height": 68
        },
        "id": "oCd2NhHd_f-Q",
        "outputId": "515d45e3-4a5a-480f-a4be-d45418377477"
      },
      "outputs": [
        {
          "name": "stdout",
          "output_type": "stream",
          "text": [
            "Input English sentence: the garden was full of yellow flowers\n",
            "Actual Marathi Translation:  बाग पिवळ्या फुलांनी भरलेलं \n",
            "Predicted Marathi Translation:  बाग पिवळ्या फुलांनी भरलेलं \n"
          ]
        }
      ],
      "source": [
        "k+=1\n",
        "(input_seq, actual_output), _ = next(train_gen)\n",
        "decoded_sentence = decode_sequence(input_seq)\n",
        "print('Input English sentence:', X_train[k:k+1].values[0])\n",
        "print('Actual Marathi Translation:', y_train[k:k+1].values[0][6:-4])\n",
        "print('Predicted Marathi Translation:', decoded_sentence[:-4])"
      ]
    },
    {
      "cell_type": "code",
      "execution_count": null,
      "metadata": {
        "colab": {
          "base_uri": "https://localhost:8080/",
          "height": 68
        },
        "id": "nEqp5g0__f-X",
        "outputId": "74f4f2b0-6ce9-4aaf-a1dc-4e5ba4775b3e"
      },
      "outputs": [
        {
          "name": "stdout",
          "output_type": "stream",
          "text": [
            "Input English sentence: i dont have a smartphone\n",
            "Actual Marathi Translation:  माझ्याकडे स्मार्टफोन नाहीये \n",
            "Predicted Marathi Translation:  माझ्याकडे भूक लागली नाहीये \n"
          ]
        }
      ],
      "source": [
        "k+=1\n",
        "(input_seq, actual_output), _ = next(train_gen)\n",
        "decoded_sentence = decode_sequence(input_seq)\n",
        "print('Input English sentence:', X_train[k:k+1].values[0])\n",
        "print('Actual Marathi Translation:', y_train[k:k+1].values[0][6:-4])\n",
        "print('Predicted Marathi Translation:', decoded_sentence[:-4])"
      ]
    },
    {
      "cell_type": "code",
      "execution_count": null,
      "metadata": {
        "colab": {
          "base_uri": "https://localhost:8080/",
          "height": 68
        },
        "id": "rDzgsAuf_f-Y",
        "outputId": "3be1cc42-b666-4574-bf3f-0b4c51070850"
      },
      "outputs": [
        {
          "name": "stdout",
          "output_type": "stream",
          "text": [
            "Input English sentence: we saw nothing strange\n",
            "Actual Marathi Translation:  आम्हाला काही विचित्र दिसलं नाही \n",
            "Predicted Marathi Translation:  आम्हाला काहीही माहीत आहे \n"
          ]
        }
      ],
      "source": [
        "k+=1\n",
        "(input_seq, actual_output), _ = next(train_gen)\n",
        "decoded_sentence = decode_sequence(input_seq)\n",
        "print('Input English sentence:', X_train[k:k+1].values[0])\n",
        "print('Actual Marathi Translation:', y_train[k:k+1].values[0][6:-4])\n",
        "print('Predicted Marathi Translation:', decoded_sentence[:-4])"
      ]
    },
    {
      "cell_type": "code",
      "execution_count": null,
      "metadata": {
        "colab": {
          "base_uri": "https://localhost:8080/",
          "height": 68
        },
        "id": "UElx2kOF_f-Z",
        "outputId": "23a8c8ad-fb63-4251-ebcc-def8b77c63a2"
      },
      "outputs": [
        {
          "name": "stdout",
          "output_type": "stream",
          "text": [
            "Input English sentence: we like games\n",
            "Actual Marathi Translation:  आम्हाला गेम आवडतात \n",
            "Predicted Marathi Translation:  आम्हाला खेळ आवडतात \n"
          ]
        }
      ],
      "source": [
        "k+=1\n",
        "(input_seq, actual_output), _ = next(train_gen)\n",
        "decoded_sentence = decode_sequence(input_seq)\n",
        "print('Input English sentence:', X_train[k:k+1].values[0])\n",
        "print('Actual Marathi Translation:', y_train[k:k+1].values[0][6:-4])\n",
        "print('Predicted Marathi Translation:', decoded_sentence[:-4])"
      ]
    },
    {
      "cell_type": "code",
      "execution_count": null,
      "metadata": {
        "colab": {
          "base_uri": "https://localhost:8080/",
          "height": 68
        },
        "id": "qXy1Lae3_f-b",
        "outputId": "9f633838-24d4-41d1-c58f-334e0686f2c1"
      },
      "outputs": [
        {
          "name": "stdout",
          "output_type": "stream",
          "text": [
            "Input English sentence: there are a lot of people here today\n",
            "Actual Marathi Translation:  आज भरपूर लोकं आहेत इथे \n",
            "Predicted Marathi Translation:  आज इथे भरपूर लोकं होती \n"
          ]
        }
      ],
      "source": [
        "k+=1\n",
        "(input_seq, actual_output), _ = next(train_gen)\n",
        "decoded_sentence = decode_sequence(input_seq)\n",
        "print('Input English sentence:', X_train[k:k+1].values[0])\n",
        "print('Actual Marathi Translation:', y_train[k:k+1].values[0][6:-4])\n",
        "print('Predicted Marathi Translation:', decoded_sentence[:-4])"
      ]
    },
    {
      "cell_type": "code",
      "execution_count": null,
      "metadata": {
        "colab": {
          "base_uri": "https://localhost:8080/",
          "height": 68
        },
        "id": "9en5cfKF_f-d",
        "outputId": "6dde868f-ed71-4c42-dd6b-fe155edbfb52"
      },
      "outputs": [
        {
          "name": "stdout",
          "output_type": "stream",
          "text": [
            "Input English sentence: pakistan is a muslim country\n",
            "Actual Marathi Translation:  पाकिस्तान हा मुस्लिम देश आहे \n",
            "Predicted Marathi Translation:  वाह हा मुस्लिम असतो \n"
          ]
        }
      ],
      "source": [
        "k+=1\n",
        "(input_seq, actual_output), _ = next(train_gen)\n",
        "decoded_sentence = decode_sequence(input_seq)\n",
        "print('Input English sentence:', X_train[k:k+1].values[0])\n",
        "print('Actual Marathi Translation:', y_train[k:k+1].values[0][6:-4])\n",
        "print('Predicted Marathi Translation:', decoded_sentence[:-4])"
      ]
    },
    {
      "cell_type": "code",
      "execution_count": null,
      "metadata": {
        "id": "gzfYACyq_f-e"
      },
      "outputs": [],
      "source": []
    },
    {
      "cell_type": "markdown",
      "metadata": {
        "id": "CKRLkKNL_f-f"
      },
      "source": [
        "### Evaluation on Validation Dataset"
      ]
    },
    {
      "cell_type": "code",
      "execution_count": null,
      "metadata": {
        "id": "aND0lyCF_f-g"
      },
      "outputs": [],
      "source": [
        "val_gen = generate_batch(X_test, y_test, batch_size = 1)\n",
        "k=-1"
      ]
    },
    {
      "cell_type": "code",
      "execution_count": null,
      "metadata": {
        "colab": {
          "base_uri": "https://localhost:8080/",
          "height": 68
        },
        "id": "b-BmLoVQ_f-h",
        "outputId": "66c44381-cd47-4bb7-9be7-f7de505bad6d"
      },
      "outputs": [
        {
          "name": "stdout",
          "output_type": "stream",
          "text": [
            "Input English sentence: he went instead of his dad\n",
            "Actual Marathi Translation:  त्याच्या बाबांच्या जागी तो गेला \n",
            "Predicted Marathi Translation:  तो मुलगा तिथे काम अनुवाद केला \n"
          ]
        }
      ],
      "source": [
        "k+=1\n",
        "(input_seq, actual_output), _ = next(val_gen)\n",
        "decoded_sentence = decode_sequence(input_seq)\n",
        "print('Input English sentence:', X_test[k:k+1].values[0])\n",
        "print('Actual Marathi Translation:', y_test[k:k+1].values[0][6:-4])\n",
        "print('Predicted Marathi Translation:', decoded_sentence[:-4])"
      ]
    },
    {
      "cell_type": "code",
      "execution_count": null,
      "metadata": {
        "colab": {
          "base_uri": "https://localhost:8080/",
          "height": 68
        },
        "id": "TYce8u3k_f-j",
        "outputId": "ffa6b940-1fa3-4855-b599-d218e62967c1"
      },
      "outputs": [
        {
          "name": "stdout",
          "output_type": "stream",
          "text": [
            "Input English sentence: my favorite team lost yesterday\n",
            "Actual Marathi Translation:  काल माझा आवडता संघ हरला \n",
            "Predicted Marathi Translation:  माझ्या वर्षी तुझा भाऊ बेसबॉल आवडतात \n"
          ]
        }
      ],
      "source": [
        "k+=1\n",
        "(input_seq, actual_output), _ = next(val_gen)\n",
        "decoded_sentence = decode_sequence(input_seq)\n",
        "print('Input English sentence:', X_test[k:k+1].values[0])\n",
        "print('Actual Marathi Translation:', y_test[k:k+1].values[0][6:-4])\n",
        "print('Predicted Marathi Translation:', decoded_sentence[:-4])"
      ]
    },
    {
      "cell_type": "code",
      "execution_count": null,
      "metadata": {
        "colab": {
          "base_uri": "https://localhost:8080/",
          "height": 68
        },
        "id": "tAE_XW2c_f-l",
        "outputId": "a313c4fd-67c6-4fcd-ab31-4243a89752e9"
      },
      "outputs": [
        {
          "name": "stdout",
          "output_type": "stream",
          "text": [
            "Input English sentence: dont let the enemy get close\n",
            "Actual Marathi Translation:  शत्रुला जवळ येऊ देऊ नकोस \n",
            "Predicted Marathi Translation:  खिडक्या उघड्या ठेवून देऊ नकोस \n"
          ]
        }
      ],
      "source": [
        "k+=1\n",
        "(input_seq, actual_output), _ = next(val_gen)\n",
        "decoded_sentence = decode_sequence(input_seq)\n",
        "print('Input English sentence:', X_test[k:k+1].values[0])\n",
        "print('Actual Marathi Translation:', y_test[k:k+1].values[0][6:-4])\n",
        "print('Predicted Marathi Translation:', decoded_sentence[:-4])"
      ]
    },
    {
      "cell_type": "code",
      "execution_count": null,
      "metadata": {
        "colab": {
          "base_uri": "https://localhost:8080/",
          "height": 68
        },
        "id": "tS78OEkC_f-n",
        "outputId": "8e4da15e-c08c-40f0-a70b-5469269325db"
      },
      "outputs": [
        {
          "name": "stdout",
          "output_type": "stream",
          "text": [
            "Input English sentence: why doesnt tom talk\n",
            "Actual Marathi Translation:  टॉम बोलत का नाही \n",
            "Predicted Marathi Translation:  टॉम खोटं बघायला पाहिजे \n"
          ]
        }
      ],
      "source": [
        "k+=1\n",
        "(input_seq, actual_output), _ = next(val_gen)\n",
        "decoded_sentence = decode_sequence(input_seq)\n",
        "print('Input English sentence:', X_test[k:k+1].values[0])\n",
        "print('Actual Marathi Translation:', y_test[k:k+1].values[0][6:-4])\n",
        "print('Predicted Marathi Translation:', decoded_sentence[:-4])"
      ]
    },
    {
      "cell_type": "code",
      "execution_count": null,
      "metadata": {
        "colab": {
          "base_uri": "https://localhost:8080/",
          "height": 68
        },
        "id": "mCNVRqjx_f-o",
        "outputId": "278c0ccf-a5ae-4b01-f42e-74a909733312"
      },
      "outputs": [
        {
          "name": "stdout",
          "output_type": "stream",
          "text": [
            "Input English sentence: what can tom do that mary cant\n",
            "Actual Marathi Translation:  टॉम असं काय करू शकतो जे मेरी करू शकत नाही \n",
            "Predicted Marathi Translation:  टॉम तसं करू नकोस ते खरं नव्हतं \n"
          ]
        }
      ],
      "source": [
        "k+=1\n",
        "(input_seq, actual_output), _ = next(val_gen)\n",
        "decoded_sentence = decode_sequence(input_seq)\n",
        "print('Input English sentence:', X_test[k:k+1].values[0])\n",
        "print('Actual Marathi Translation:', y_test[k:k+1].values[0][6:-4])\n",
        "print('Predicted Marathi Translation:', decoded_sentence[:-4])"
      ]
    },
    {
      "cell_type": "code",
      "execution_count": null,
      "metadata": {
        "colab": {
          "base_uri": "https://localhost:8080/",
          "height": 68
        },
        "id": "dU0n-8eB_f-p",
        "outputId": "fd4ba12e-fd45-4c78-9786-89060edb0713"
      },
      "outputs": [
        {
          "name": "stdout",
          "output_type": "stream",
          "text": [
            "Input English sentence: tom likes french\n",
            "Actual Marathi Translation:  टॉमला फ्रेंच आवडते \n",
            "Predicted Marathi Translation:  टॉमला फ्रेंच आवडते \n"
          ]
        }
      ],
      "source": [
        "k+=1\n",
        "(input_seq, actual_output), _ = next(val_gen)\n",
        "decoded_sentence = decode_sequence(input_seq)\n",
        "print('Input English sentence:', X_test[k:k+1].values[0])\n",
        "print('Actual Marathi Translation:', y_test[k:k+1].values[0][6:-4])\n",
        "print('Predicted Marathi Translation:', decoded_sentence[:-4])"
      ]
    },
    {
      "cell_type": "code",
      "execution_count": null,
      "metadata": {
        "colab": {
          "base_uri": "https://localhost:8080/",
          "height": 68
        },
        "id": "fVfSVuIt_f-t",
        "outputId": "3bb6866a-fe1c-4a69-ddc0-36fff1880627"
      },
      "outputs": [
        {
          "name": "stdout",
          "output_type": "stream",
          "text": [
            "Input English sentence: the population of japan is about million\n",
            "Actual Marathi Translation:  जपानची लोकसंख्या सुमारे दशलक्ष आहे \n",
            "Predicted Marathi Translation:  जपान लोकसंख्या अतिशय खेळ सुरू आहे \n"
          ]
        }
      ],
      "source": [
        "k+=1\n",
        "(input_seq, actual_output), _ = next(val_gen)\n",
        "decoded_sentence = decode_sequence(input_seq)\n",
        "print('Input English sentence:', X_test[k:k+1].values[0])\n",
        "print('Actual Marathi Translation:', y_test[k:k+1].values[0][6:-4])\n",
        "print('Predicted Marathi Translation:', decoded_sentence[:-4])"
      ]
    },
    {
      "cell_type": "code",
      "execution_count": null,
      "metadata": {
        "colab": {
          "base_uri": "https://localhost:8080/",
          "height": 68
        },
        "id": "GYIX8WBa_f-w",
        "outputId": "cd1e04d2-d124-467d-adf6-a36790621212"
      },
      "outputs": [
        {
          "name": "stdout",
          "output_type": "stream",
          "text": [
            "Input English sentence: i cant tell you the truth\n",
            "Actual Marathi Translation:  खरं काय हे मी तुम्हाला सांगू शकत नाही \n",
            "Predicted Marathi Translation:  मी तुला खरं सांगितलं नाही का \n"
          ]
        }
      ],
      "source": [
        "k+=1\n",
        "(input_seq, actual_output), _ = next(val_gen)\n",
        "decoded_sentence = decode_sequence(input_seq)\n",
        "print('Input English sentence:', X_test[k:k+1].values[0])\n",
        "print('Actual Marathi Translation:', y_test[k:k+1].values[0][6:-4])\n",
        "print('Predicted Marathi Translation:', decoded_sentence[:-4])"
      ]
    },
    {
      "cell_type": "code",
      "execution_count": null,
      "metadata": {
        "colab": {
          "base_uri": "https://localhost:8080/",
          "height": 68
        },
        "id": "E8I2IWAX_f-y",
        "outputId": "b19d26f8-8a23-4ca6-b4d4-0edd1a1cf933"
      },
      "outputs": [
        {
          "name": "stdout",
          "output_type": "stream",
          "text": [
            "Input English sentence: im using twitter\n",
            "Actual Marathi Translation:  मी ट्विटर वापरत आहे \n",
            "Predicted Marathi Translation:  मी ट्विटर आवडत नाही \n"
          ]
        }
      ],
      "source": [
        "k+=1\n",
        "(input_seq, actual_output), _ = next(val_gen)\n",
        "decoded_sentence = decode_sequence(input_seq)\n",
        "print('Input English sentence:', X_test[k:k+1].values[0])\n",
        "print('Actual Marathi Translation:', y_test[k:k+1].values[0][6:-4])\n",
        "print('Predicted Marathi Translation:', decoded_sentence[:-4])"
      ]
    },
    {
      "cell_type": "code",
      "execution_count": null,
      "metadata": {
        "colab": {
          "base_uri": "https://localhost:8080/",
          "height": 68
        },
        "id": "6fji8Vcx_f-2",
        "outputId": "2a9bb0ca-9d31-4e54-dc59-eab4d322943c"
      },
      "outputs": [
        {
          "name": "stdout",
          "output_type": "stream",
          "text": [
            "Input English sentence: thats not my name\n",
            "Actual Marathi Translation:  ते माझं नाव नाही आहे \n",
            "Predicted Marathi Translation:  तो माझं नाव नाहीये \n"
          ]
        }
      ],
      "source": [
        "k+=1\n",
        "(input_seq, actual_output), _ = next(val_gen)\n",
        "decoded_sentence = decode_sequence(input_seq)\n",
        "print('Input English sentence:', X_test[k:k+1].values[0])\n",
        "print('Actual Marathi Translation:', y_test[k:k+1].values[0][6:-4])\n",
        "print('Predicted Marathi Translation:', decoded_sentence[:-4])"
      ]
    },
    {
      "cell_type": "code",
      "execution_count": null,
      "metadata": {
        "colab": {
          "base_uri": "https://localhost:8080/",
          "height": 68
        },
        "id": "_8mT1WuM_f-5",
        "outputId": "3f4a8ba4-08a7-4d73-c5b3-90a26005461d"
      },
      "outputs": [
        {
          "name": "stdout",
          "output_type": "stream",
          "text": [
            "Input English sentence: did you play tennis\n",
            "Actual Marathi Translation:  टेनिस खेळलीस का \n",
            "Predicted Marathi Translation:  तू टेनिस खेळता येतो \n"
          ]
        }
      ],
      "source": [
        "k+=1\n",
        "(input_seq, actual_output), _ = next(val_gen)\n",
        "decoded_sentence = decode_sequence(input_seq)\n",
        "print('Input English sentence:', X_test[k:k+1].values[0])\n",
        "print('Actual Marathi Translation:', y_test[k:k+1].values[0][6:-4])\n",
        "print('Predicted Marathi Translation:', decoded_sentence[:-4])"
      ]
    },
    {
      "cell_type": "code",
      "execution_count": null,
      "metadata": {
        "colab": {
          "base_uri": "https://localhost:8080/",
          "height": 68
        },
        "id": "WEw56Qhe_f-6",
        "outputId": "63ba9618-a7a9-40ca-a579-ec71e49b7e88"
      },
      "outputs": [
        {
          "name": "stdout",
          "output_type": "stream",
          "text": [
            "Input English sentence: this meat has gone bad\n",
            "Actual Marathi Translation:  हे मांस खराब झालंय \n",
            "Predicted Marathi Translation:  हे मटण वाजता उघडतं \n"
          ]
        }
      ],
      "source": [
        "k+=1\n",
        "(input_seq, actual_output), _ = next(val_gen)\n",
        "decoded_sentence = decode_sequence(input_seq)\n",
        "print('Input English sentence:', X_test[k:k+1].values[0])\n",
        "print('Actual Marathi Translation:', y_test[k:k+1].values[0][6:-4])\n",
        "print('Predicted Marathi Translation:', decoded_sentence[:-4])"
      ]
    },
    {
      "cell_type": "code",
      "execution_count": null,
      "metadata": {
        "colab": {
          "base_uri": "https://localhost:8080/",
          "height": 68
        },
        "id": "EXIPZGgn_f-8",
        "outputId": "96dff095-8bb3-4701-dbb8-5a3527eab872"
      },
      "outputs": [
        {
          "name": "stdout",
          "output_type": "stream",
          "text": [
            "Input English sentence: i started thinking about tom\n",
            "Actual Marathi Translation:  मी टॉमचा विचार करू लागले \n",
            "Predicted Marathi Translation:  मी टॉम पाऊस पडला \n"
          ]
        }
      ],
      "source": [
        "k+=1\n",
        "(input_seq, actual_output), _ = next(val_gen)\n",
        "decoded_sentence = decode_sequence(input_seq)\n",
        "print('Input English sentence:', X_test[k:k+1].values[0])\n",
        "print('Actual Marathi Translation:', y_test[k:k+1].values[0][6:-4])\n",
        "print('Predicted Marathi Translation:', decoded_sentence[:-4])"
      ]
    },
    {
      "cell_type": "code",
      "execution_count": null,
      "metadata": {
        "colab": {
          "base_uri": "https://localhost:8080/",
          "height": 68
        },
        "id": "hUiesPuh_f--",
        "outputId": "de93f364-cdf9-4e9a-c019-f21ae8b75801"
      },
      "outputs": [
        {
          "name": "stdout",
          "output_type": "stream",
          "text": [
            "Input English sentence: when was this car washed\n",
            "Actual Marathi Translation:  ही गाडी कधी धुतली होती \n",
            "Predicted Marathi Translation:  ही ही चित्र तो कधीही थंड आहे \n"
          ]
        }
      ],
      "source": [
        "k+=1\n",
        "(input_seq, actual_output), _ = next(val_gen)\n",
        "decoded_sentence = decode_sequence(input_seq)\n",
        "print('Input English sentence:', X_test[k:k+1].values[0])\n",
        "print('Actual Marathi Translation:', y_test[k:k+1].values[0][6:-4])\n",
        "print('Predicted Marathi Translation:', decoded_sentence[:-4])"
      ]
    },
    {
      "cell_type": "code",
      "execution_count": null,
      "metadata": {
        "colab": {
          "base_uri": "https://localhost:8080/",
          "height": 68
        },
        "id": "RpKMtQ50_f-_",
        "outputId": "414f53c3-3774-4dd4-9961-54e8bdf30464"
      },
      "outputs": [
        {
          "name": "stdout",
          "output_type": "stream",
          "text": [
            "Input English sentence: you put too much sugar in your tea\n",
            "Actual Marathi Translation:  तू तुझ्या चहात खूपच साखर घालतेस \n",
            "Predicted Marathi Translation:  तू किती ड्रेस या हव्या आहेत \n"
          ]
        }
      ],
      "source": [
        "k+=1\n",
        "(input_seq, actual_output), _ = next(val_gen)\n",
        "decoded_sentence = decode_sequence(input_seq)\n",
        "print('Input English sentence:', X_test[k:k+1].values[0])\n",
        "print('Actual Marathi Translation:', y_test[k:k+1].values[0][6:-4])\n",
        "print('Predicted Marathi Translation:', decoded_sentence[:-4])"
      ]
    },
    {
      "cell_type": "code",
      "execution_count": null,
      "metadata": {
        "colab": {
          "base_uri": "https://localhost:8080/",
          "height": 68
        },
        "id": "5O1ZZ0U0_f_B",
        "outputId": "49728947-55e2-4ddf-d768-1e4069a060c3"
      },
      "outputs": [
        {
          "name": "stdout",
          "output_type": "stream",
          "text": [
            "Input English sentence: i forgot to buy flowers for mary\n",
            "Actual Marathi Translation:  मी मेरीसाठी फुलं आणायला विसरले \n",
            "Predicted Marathi Translation:  मी गिटार आणायला सांगतो \n"
          ]
        }
      ],
      "source": [
        "k+=1\n",
        "(input_seq, actual_output), _ = next(val_gen)\n",
        "decoded_sentence = decode_sequence(input_seq)\n",
        "print('Input English sentence:', X_test[k:k+1].values[0])\n",
        "print('Actual Marathi Translation:', y_test[k:k+1].values[0][6:-4])\n",
        "print('Predicted Marathi Translation:', decoded_sentence[:-4])"
      ]
    },
    {
      "cell_type": "code",
      "execution_count": null,
      "metadata": {
        "colab": {
          "base_uri": "https://localhost:8080/",
          "height": 68
        },
        "id": "8XYM05o__f_C",
        "outputId": "9a219a96-3376-46c2-da87-93bfaca9302f"
      },
      "outputs": [
        {
          "name": "stdout",
          "output_type": "stream",
          "text": [
            "Input English sentence: elephants have long trunks\n",
            "Actual Marathi Translation:  हत्तींच्या लांब सोंडी असतात \n",
            "Predicted Marathi Translation:  मोठे सर्व मासे आवडतात \n"
          ]
        }
      ],
      "source": [
        "k+=1\n",
        "(input_seq, actual_output), _ = next(val_gen)\n",
        "decoded_sentence = decode_sequence(input_seq)\n",
        "print('Input English sentence:', X_test[k:k+1].values[0])\n",
        "print('Actual Marathi Translation:', y_test[k:k+1].values[0][6:-4])\n",
        "print('Predicted Marathi Translation:', decoded_sentence[:-4])"
      ]
    },
    {
      "cell_type": "code",
      "execution_count": null,
      "metadata": {
        "colab": {
          "base_uri": "https://localhost:8080/",
          "height": 68
        },
        "id": "7C2DGGZU_f_D",
        "outputId": "1e97e452-284d-4b12-c013-318987963806"
      },
      "outputs": [
        {
          "name": "stdout",
          "output_type": "stream",
          "text": [
            "Input English sentence: theyre eating sandwiches\n",
            "Actual Marathi Translation:  त्या सँडविच खाताहेत \n",
            "Predicted Marathi Translation:  ते सँडविच खाताहेत \n"
          ]
        }
      ],
      "source": [
        "k+=1\n",
        "(input_seq, actual_output), _ = next(val_gen)\n",
        "decoded_sentence = decode_sequence(input_seq)\n",
        "print('Input English sentence:', X_test[k:k+1].values[0])\n",
        "print('Actual Marathi Translation:', y_test[k:k+1].values[0][6:-4])\n",
        "print('Predicted Marathi Translation:', decoded_sentence[:-4])"
      ]
    },
    {
      "cell_type": "code",
      "execution_count": null,
      "metadata": {
        "colab": {
          "base_uri": "https://localhost:8080/",
          "height": 68
        },
        "id": "7sNXUb3P_f_F",
        "outputId": "c0263581-77c3-4803-b346-a477388a6466"
      },
      "outputs": [
        {
          "name": "stdout",
          "output_type": "stream",
          "text": [
            "Input English sentence: he lived in matsue for seven years\n",
            "Actual Marathi Translation:  तो मात्सुएमध्ये सात वर्ष राहिला \n",
            "Predicted Marathi Translation:  तो सात वाजता उठतो \n"
          ]
        }
      ],
      "source": [
        "k+=1\n",
        "(input_seq, actual_output), _ = next(val_gen)\n",
        "decoded_sentence = decode_sequence(input_seq)\n",
        "print('Input English sentence:', X_test[k:k+1].values[0])\n",
        "print('Actual Marathi Translation:', y_test[k:k+1].values[0][6:-4])\n",
        "print('Predicted Marathi Translation:', decoded_sentence[:-4])"
      ]
    },
    {
      "cell_type": "code",
      "execution_count": null,
      "metadata": {
        "colab": {
          "base_uri": "https://localhost:8080/",
          "height": 68
        },
        "id": "XPwLrCem_f_L",
        "outputId": "9b277bd9-a89b-40ab-d84a-1ea9964899dd"
      },
      "outputs": [
        {
          "name": "stdout",
          "output_type": "stream",
          "text": [
            "Input English sentence: where did you see the woman\n",
            "Actual Marathi Translation:  तू त्या बाईला कुठे बघितलंस \n",
            "Predicted Marathi Translation:  तुम्ही कोणी सही कुठे मिळाली \n"
          ]
        }
      ],
      "source": [
        "k+=1\n",
        "(input_seq, actual_output), _ = next(val_gen)\n",
        "decoded_sentence = decode_sequence(input_seq)\n",
        "print('Input English sentence:', X_test[k:k+1].values[0])\n",
        "print('Actual Marathi Translation:', y_test[k:k+1].values[0][6:-4])\n",
        "print('Predicted Marathi Translation:', decoded_sentence[:-4])"
      ]
    },
    {
      "cell_type": "code",
      "execution_count": null,
      "metadata": {
        "colab": {
          "base_uri": "https://localhost:8080/",
          "height": 68
        },
        "id": "8r3NxTvg_f_M",
        "outputId": "716d87d1-d32b-4d74-e99c-f6eb10819d47"
      },
      "outputs": [
        {
          "name": "stdout",
          "output_type": "stream",
          "text": [
            "Input English sentence: i just need three hundred dollars\n",
            "Actual Marathi Translation:  मला फक्त तीनशे डॉलरची गरज आहे \n",
            "Predicted Marathi Translation:  मला फक्त दररोजच दहा डॉलर हवी आहे \n"
          ]
        }
      ],
      "source": [
        "k+=1\n",
        "(input_seq, actual_output), _ = next(val_gen)\n",
        "decoded_sentence = decode_sequence(input_seq)\n",
        "print('Input English sentence:', X_test[k:k+1].values[0])\n",
        "print('Actual Marathi Translation:', y_test[k:k+1].values[0][6:-4])\n",
        "print('Predicted Marathi Translation:', decoded_sentence[:-4])"
      ]
    },
    {
      "cell_type": "code",
      "execution_count": null,
      "metadata": {
        "colab": {
          "base_uri": "https://localhost:8080/",
          "height": 68
        },
        "id": "JVfBQJHI_f_N",
        "outputId": "0baa53f6-d5d2-49aa-b60d-902c93afc15f"
      },
      "outputs": [
        {
          "name": "stdout",
          "output_type": "stream",
          "text": [
            "Input English sentence: how many flowers do you buy\n",
            "Actual Marathi Translation:  तू किती फुलं विकत घेतोस \n",
            "Predicted Marathi Translation:  किती पुस्तकं विकत घेतलंस \n"
          ]
        }
      ],
      "source": [
        "k+=1\n",
        "(input_seq, actual_output), _ = next(val_gen)\n",
        "decoded_sentence = decode_sequence(input_seq)\n",
        "print('Input English sentence:', X_test[k:k+1].values[0])\n",
        "print('Actual Marathi Translation:', y_test[k:k+1].values[0][6:-4])\n",
        "print('Predicted Marathi Translation:', decoded_sentence[:-4])"
      ]
    },
    {
      "cell_type": "code",
      "execution_count": null,
      "metadata": {
        "colab": {
          "base_uri": "https://localhost:8080/",
          "height": 68
        },
        "id": "ID0OZjUd_f_O",
        "outputId": "9c3cc8dc-3e0e-4bfc-aa1d-b56ce6c39f01"
      },
      "outputs": [
        {
          "name": "stdout",
          "output_type": "stream",
          "text": [
            "Input English sentence: the news cant be true\n",
            "Actual Marathi Translation:  ती बातमी खरी असू शकत नाही \n",
            "Predicted Marathi Translation:  बातमी बातमी नाहीये \n"
          ]
        }
      ],
      "source": [
        "k+=1\n",
        "(input_seq, actual_output), _ = next(val_gen)\n",
        "decoded_sentence = decode_sequence(input_seq)\n",
        "print('Input English sentence:', X_test[k:k+1].values[0])\n",
        "print('Actual Marathi Translation:', y_test[k:k+1].values[0][6:-4])\n",
        "print('Predicted Marathi Translation:', decoded_sentence[:-4])"
      ]
    },
    {
      "cell_type": "code",
      "execution_count": null,
      "metadata": {
        "colab": {
          "base_uri": "https://localhost:8080/",
          "height": 68
        },
        "id": "SnJWWosV_f_V",
        "outputId": "bc4ca932-211d-4b15-daa4-2fd43f1b89ae"
      },
      "outputs": [
        {
          "name": "stdout",
          "output_type": "stream",
          "text": [
            "Input English sentence: president lincoln wrote all five of these documents\n",
            "Actual Marathi Translation:  राष्ट्राध्यक्ष लिंकन यांनी हे पाचही दस्ताऐवज लिहिले \n",
            "Predicted Marathi Translation:  जपानमध्ये लोकं आपल्या वसाहती टाकतो \n"
          ]
        }
      ],
      "source": [
        "k+=1\n",
        "(input_seq, actual_output), _ = next(val_gen)\n",
        "decoded_sentence = decode_sequence(input_seq)\n",
        "print('Input English sentence:', X_test[k:k+1].values[0])\n",
        "print('Actual Marathi Translation:', y_test[k:k+1].values[0][6:-4])\n",
        "print('Predicted Marathi Translation:', decoded_sentence[:-4])"
      ]
    },
    {
      "cell_type": "code",
      "execution_count": null,
      "metadata": {
        "colab": {
          "base_uri": "https://localhost:8080/",
          "height": 68
        },
        "id": "fBKK4Vus_f_W",
        "outputId": "793ea431-bb50-4de0-f788-2470b39ddbd9"
      },
      "outputs": [
        {
          "name": "stdout",
          "output_type": "stream",
          "text": [
            "Input English sentence: this is food\n",
            "Actual Marathi Translation:  हे खाणं आहे \n",
            "Predicted Marathi Translation:  हे टेबल आहे \n"
          ]
        }
      ],
      "source": [
        "k+=1\n",
        "(input_seq, actual_output), _ = next(val_gen)\n",
        "decoded_sentence = decode_sequence(input_seq)\n",
        "print('Input English sentence:', X_test[k:k+1].values[0])\n",
        "print('Actual Marathi Translation:', y_test[k:k+1].values[0][6:-4])\n",
        "print('Predicted Marathi Translation:', decoded_sentence[:-4])"
      ]
    },
    {
      "cell_type": "code",
      "execution_count": null,
      "metadata": {
        "colab": {
          "base_uri": "https://localhost:8080/",
          "height": 68
        },
        "id": "wtd9syHQ_f_Y",
        "outputId": "b5680c50-9514-4754-d14a-7afcf488c322"
      },
      "outputs": [
        {
          "name": "stdout",
          "output_type": "stream",
          "text": [
            "Input English sentence: tom said mary used to live in australia\n",
            "Actual Marathi Translation:  टॉम म्हणाला की मेरी ऑस्ट्रेलियात राहायची \n",
            "Predicted Marathi Translation:  टॉम आणि मेरी दोघेही एकत्र राहतो \n"
          ]
        }
      ],
      "source": [
        "k+=1\n",
        "(input_seq, actual_output), _ = next(val_gen)\n",
        "decoded_sentence = decode_sequence(input_seq)\n",
        "print('Input English sentence:', X_test[k:k+1].values[0])\n",
        "print('Actual Marathi Translation:', y_test[k:k+1].values[0][6:-4])\n",
        "print('Predicted Marathi Translation:', decoded_sentence[:-4])"
      ]
    },
    {
      "cell_type": "code",
      "execution_count": null,
      "metadata": {
        "colab": {
          "base_uri": "https://localhost:8080/",
          "height": 68
        },
        "id": "UfLAfKuG_f_a",
        "outputId": "4993badf-b70f-43ac-fd93-19ef342ee56a"
      },
      "outputs": [
        {
          "name": "stdout",
          "output_type": "stream",
          "text": [
            "Input English sentence: they dont know my name\n",
            "Actual Marathi Translation:  त्यांना माझं नाव माहीत नाहीये \n",
            "Predicted Marathi Translation:  टॉम तुझं नाव माहीत नाही \n"
          ]
        }
      ],
      "source": [
        "k+=1\n",
        "(input_seq, actual_output), _ = next(val_gen)\n",
        "decoded_sentence = decode_sequence(input_seq)\n",
        "print('Input English sentence:', X_test[k:k+1].values[0])\n",
        "print('Actual Marathi Translation:', y_test[k:k+1].values[0][6:-4])\n",
        "print('Predicted Marathi Translation:', decoded_sentence[:-4])"
      ]
    },
    {
      "cell_type": "code",
      "execution_count": null,
      "metadata": {
        "colab": {
          "base_uri": "https://localhost:8080/",
          "height": 68
        },
        "id": "uznd2RUq_f_c",
        "outputId": "29759ed0-3d06-4274-a4fc-b03b52678fab"
      },
      "outputs": [
        {
          "name": "stdout",
          "output_type": "stream",
          "text": [
            "Input English sentence: goats can eat almost anything\n",
            "Actual Marathi Translation:  बकर्‍या जवळजवळ काहीही खाऊ शकतात \n",
            "Predicted Marathi Translation:  बकरे जवळजवळ काहीही खाऊ शकतं \n"
          ]
        }
      ],
      "source": [
        "k+=1\n",
        "(input_seq, actual_output), _ = next(val_gen)\n",
        "decoded_sentence = decode_sequence(input_seq)\n",
        "print('Input English sentence:', X_test[k:k+1].values[0])\n",
        "print('Actual Marathi Translation:', y_test[k:k+1].values[0][6:-4])\n",
        "print('Predicted Marathi Translation:', decoded_sentence[:-4])"
      ]
    },
    {
      "cell_type": "code",
      "execution_count": null,
      "metadata": {
        "colab": {
          "base_uri": "https://localhost:8080/",
          "height": 68
        },
        "id": "xjfvPFt__f_d",
        "outputId": "be250c75-6682-4c97-ca0d-eb9097357861"
      },
      "outputs": [
        {
          "name": "stdout",
          "output_type": "stream",
          "text": [
            "Input English sentence: rice is good with miso soup\n",
            "Actual Marathi Translation:  मिसो सूपबरोबर भात चांगला लागतो \n",
            "Predicted Marathi Translation:  तुमच्या तुलनेत किती आवडतात \n"
          ]
        }
      ],
      "source": [
        "k+=1\n",
        "(input_seq, actual_output), _ = next(val_gen)\n",
        "decoded_sentence = decode_sequence(input_seq)\n",
        "print('Input English sentence:', X_test[k:k+1].values[0])\n",
        "print('Actual Marathi Translation:', y_test[k:k+1].values[0][6:-4])\n",
        "print('Predicted Marathi Translation:', decoded_sentence[:-4])"
      ]
    },
    {
      "cell_type": "code",
      "execution_count": null,
      "metadata": {
        "colab": {
          "base_uri": "https://localhost:8080/",
          "height": 68
        },
        "id": "PoXg37Us_f_f",
        "outputId": "f9fa6f87-98bc-4054-9afb-ad249bdae398"
      },
      "outputs": [
        {
          "name": "stdout",
          "output_type": "stream",
          "text": [
            "Input English sentence: this book is really old\n",
            "Actual Marathi Translation:  हे पुस्तक खरंच जुनं आहे \n",
            "Predicted Marathi Translation:  हे पुस्तक अतिशय कठीण आहे \n"
          ]
        }
      ],
      "source": [
        "k+=1\n",
        "(input_seq, actual_output), _ = next(val_gen)\n",
        "decoded_sentence = decode_sequence(input_seq)\n",
        "print('Input English sentence:', X_test[k:k+1].values[0])\n",
        "print('Actual Marathi Translation:', y_test[k:k+1].values[0][6:-4])\n",
        "print('Predicted Marathi Translation:', decoded_sentence[:-4])"
      ]
    },
    {
      "cell_type": "code",
      "execution_count": null,
      "metadata": {
        "colab": {
          "base_uri": "https://localhost:8080/",
          "height": 68
        },
        "id": "sRFWKkUN_f_g",
        "outputId": "5e71033f-719f-4b1a-e92e-46f0943a7e85"
      },
      "outputs": [
        {
          "name": "stdout",
          "output_type": "stream",
          "text": [
            "Input English sentence: we won\n",
            "Actual Marathi Translation:  आपण जिंकलो \n",
            "Predicted Marathi Translation:  आपण जिंकलो \n"
          ]
        }
      ],
      "source": [
        "k+=1\n",
        "(input_seq, actual_output), _ = next(val_gen)\n",
        "decoded_sentence = decode_sequence(input_seq)\n",
        "print('Input English sentence:', X_test[k:k+1].values[0])\n",
        "print('Actual Marathi Translation:', y_test[k:k+1].values[0][6:-4])\n",
        "print('Predicted Marathi Translation:', decoded_sentence[:-4])"
      ]
    },
    {
      "cell_type": "code",
      "execution_count": null,
      "metadata": {
        "colab": {
          "base_uri": "https://localhost:8080/",
          "height": 68
        },
        "id": "hlqfBIHS_f_h",
        "outputId": "bd67dfac-f3a5-4e36-a5b9-36b4d6f1b0e6"
      },
      "outputs": [
        {
          "name": "stdout",
          "output_type": "stream",
          "text": [
            "Input English sentence: she has small feet\n",
            "Actual Marathi Translation:  तिचे छोटे पाय आहेत \n",
            "Predicted Marathi Translation:  तिच्याकडे छोटे केस आहेत \n"
          ]
        }
      ],
      "source": [
        "k+=1\n",
        "(input_seq, actual_output), _ = next(val_gen)\n",
        "decoded_sentence = decode_sequence(input_seq)\n",
        "print('Input English sentence:', X_test[k:k+1].values[0])\n",
        "print('Actual Marathi Translation:', y_test[k:k+1].values[0][6:-4])\n",
        "print('Predicted Marathi Translation:', decoded_sentence[:-4])"
      ]
    },
    {
      "cell_type": "code",
      "execution_count": null,
      "metadata": {
        "colab": {
          "base_uri": "https://localhost:8080/",
          "height": 68
        },
        "id": "3piECVaV_f_k",
        "outputId": "de0f44e8-aad6-45bb-e212-7eb33f52b97b"
      },
      "outputs": [
        {
          "name": "stdout",
          "output_type": "stream",
          "text": [
            "Input English sentence: i dont want to sign that\n",
            "Actual Marathi Translation:  मला त्यावर सही करायची नाहीये \n",
            "Predicted Marathi Translation:  मला त्या मुलींना जायचं नाहीये \n"
          ]
        }
      ],
      "source": [
        "k+=1\n",
        "(input_seq, actual_output), _ = next(val_gen)\n",
        "decoded_sentence = decode_sequence(input_seq)\n",
        "print('Input English sentence:', X_test[k:k+1].values[0])\n",
        "print('Actual Marathi Translation:', y_test[k:k+1].values[0][6:-4])\n",
        "print('Predicted Marathi Translation:', decoded_sentence[:-4])"
      ]
    },
    {
      "cell_type": "code",
      "execution_count": null,
      "metadata": {
        "colab": {
          "base_uri": "https://localhost:8080/",
          "height": 68
        },
        "id": "Hw8bSjTq_f_l",
        "outputId": "8bc6998d-56f2-42bc-dedf-7416731350c8"
      },
      "outputs": [
        {
          "name": "stdout",
          "output_type": "stream",
          "text": [
            "Input English sentence: tom still doesnt live in boston\n",
            "Actual Marathi Translation:  टॉम अजूनही बॉस्टनमध्ये राहत नाही \n",
            "Predicted Marathi Translation:  टॉम अजूनही बॉस्टनमध्ये नाही होतो \n"
          ]
        }
      ],
      "source": [
        "k+=1\n",
        "(input_seq, actual_output), _ = next(val_gen)\n",
        "decoded_sentence = decode_sequence(input_seq)\n",
        "print('Input English sentence:', X_test[k:k+1].values[0])\n",
        "print('Actual Marathi Translation:', y_test[k:k+1].values[0][6:-4])\n",
        "print('Predicted Marathi Translation:', decoded_sentence[:-4])"
      ]
    },
    {
      "cell_type": "code",
      "execution_count": null,
      "metadata": {
        "colab": {
          "base_uri": "https://localhost:8080/",
          "height": 68
        },
        "id": "JxnFaPwL_f_n",
        "outputId": "e810ec24-3f06-426a-fe06-14e8226dea06"
      },
      "outputs": [
        {
          "name": "stdout",
          "output_type": "stream",
          "text": [
            "Input English sentence: tom was different\n",
            "Actual Marathi Translation:  टॉम वेगळा होता \n",
            "Predicted Marathi Translation:  टॉम जिंकला \n"
          ]
        }
      ],
      "source": [
        "k+=1\n",
        "(input_seq, actual_output), _ = next(val_gen)\n",
        "decoded_sentence = decode_sequence(input_seq)\n",
        "print('Input English sentence:', X_test[k:k+1].values[0])\n",
        "print('Actual Marathi Translation:', y_test[k:k+1].values[0][6:-4])\n",
        "print('Predicted Marathi Translation:', decoded_sentence[:-4])"
      ]
    },
    {
      "cell_type": "code",
      "execution_count": null,
      "metadata": {
        "colab": {
          "base_uri": "https://localhost:8080/",
          "height": 68
        },
        "id": "xG4RQLPb_f_p",
        "outputId": "19d7c930-0a75-4e5f-8521-65f0025bed09"
      },
      "outputs": [
        {
          "name": "stdout",
          "output_type": "stream",
          "text": [
            "Input English sentence: he has a camera\n",
            "Actual Marathi Translation:  त्याच्याकडे कॅमेरा आहे \n",
            "Predicted Marathi Translation:  त्याच्याकडे एक कॅमेरा आहे \n"
          ]
        }
      ],
      "source": [
        "k+=1\n",
        "(input_seq, actual_output), _ = next(val_gen)\n",
        "decoded_sentence = decode_sequence(input_seq)\n",
        "print('Input English sentence:', X_test[k:k+1].values[0])\n",
        "print('Actual Marathi Translation:', y_test[k:k+1].values[0][6:-4])\n",
        "print('Predicted Marathi Translation:', decoded_sentence[:-4])"
      ]
    },
    {
      "cell_type": "code",
      "execution_count": null,
      "metadata": {
        "colab": {
          "base_uri": "https://localhost:8080/",
          "height": 68
        },
        "id": "aAlsBK9w_f_q",
        "outputId": "969374b4-6ae6-4281-e8ab-21d9119adc0c"
      },
      "outputs": [
        {
          "name": "stdout",
          "output_type": "stream",
          "text": [
            "Input English sentence: i dont need to talk to tom\n",
            "Actual Marathi Translation:  मला टॉमशी बोलण्याची गरज नाहीये \n",
            "Predicted Marathi Translation:  मला टॉमशी बोलायचं नाहीये \n"
          ]
        }
      ],
      "source": [
        "k+=1\n",
        "(input_seq, actual_output), _ = next(val_gen)\n",
        "decoded_sentence = decode_sequence(input_seq)\n",
        "print('Input English sentence:', X_test[k:k+1].values[0])\n",
        "print('Actual Marathi Translation:', y_test[k:k+1].values[0][6:-4])\n",
        "print('Predicted Marathi Translation:', decoded_sentence[:-4])"
      ]
    },
    {
      "cell_type": "code",
      "execution_count": null,
      "metadata": {
        "colab": {
          "base_uri": "https://localhost:8080/",
          "height": 68
        },
        "id": "pNA5_6IH_f_s",
        "outputId": "53d58330-d4c2-47ef-e573-e3580a0611ff"
      },
      "outputs": [
        {
          "name": "stdout",
          "output_type": "stream",
          "text": [
            "Input English sentence: i speak french a little bit\n",
            "Actual Marathi Translation:  मला अगदी जराशी फ्रेंच बोलता येते \n",
            "Predicted Marathi Translation:  मी फ्रेंच फ्रेंच बोलता येत नाही \n"
          ]
        }
      ],
      "source": [
        "k+=1\n",
        "(input_seq, actual_output), _ = next(val_gen)\n",
        "decoded_sentence = decode_sequence(input_seq)\n",
        "print('Input English sentence:', X_test[k:k+1].values[0])\n",
        "print('Actual Marathi Translation:', y_test[k:k+1].values[0][6:-4])\n",
        "print('Predicted Marathi Translation:', decoded_sentence[:-4])"
      ]
    },
    {
      "cell_type": "code",
      "execution_count": null,
      "metadata": {
        "colab": {
          "base_uri": "https://localhost:8080/",
          "height": 68
        },
        "id": "xZ-__JXs_f_t",
        "outputId": "2c20a5c4-92d9-4be6-9f80-49837fd24e84"
      },
      "outputs": [
        {
          "name": "stdout",
          "output_type": "stream",
          "text": [
            "Input English sentence: the miners did not want to fight\n",
            "Actual Marathi Translation:  खाण कामगार लढू इच्छित नव्हते \n",
            "Predicted Marathi Translation:  सूर्य तर चमकत होतं नाहीतर सगळीकडे आहे \n"
          ]
        }
      ],
      "source": [
        "k+=1\n",
        "(input_seq, actual_output), _ = next(val_gen)\n",
        "decoded_sentence = decode_sequence(input_seq)\n",
        "print('Input English sentence:', X_test[k:k+1].values[0])\n",
        "print('Actual Marathi Translation:', y_test[k:k+1].values[0][6:-4])\n",
        "print('Predicted Marathi Translation:', decoded_sentence[:-4])"
      ]
    },
    {
      "cell_type": "code",
      "execution_count": null,
      "metadata": {
        "colab": {
          "base_uri": "https://localhost:8080/",
          "height": 68
        },
        "id": "598Y2UxJ_f_w",
        "outputId": "4c402155-2596-4238-aab3-33903ff8cdc7"
      },
      "outputs": [
        {
          "name": "stdout",
          "output_type": "stream",
          "text": [
            "Input English sentence: seven is sometimes considered a lucky number\n",
            "Actual Marathi Translation:  सात हा कधीकधी नशीबवान अंक समजला जातो \n",
            "Predicted Marathi Translation:  लोकं जपानी लोकं तू राहतात का \n"
          ]
        }
      ],
      "source": [
        "k+=1\n",
        "(input_seq, actual_output), _ = next(val_gen)\n",
        "decoded_sentence = decode_sequence(input_seq)\n",
        "print('Input English sentence:', X_test[k:k+1].values[0])\n",
        "print('Actual Marathi Translation:', y_test[k:k+1].values[0][6:-4])\n",
        "print('Predicted Marathi Translation:', decoded_sentence[:-4])"
      ]
    },
    {
      "cell_type": "code",
      "execution_count": null,
      "metadata": {
        "colab": {
          "base_uri": "https://localhost:8080/",
          "height": 68
        },
        "id": "BjNPbh_j_f_y",
        "outputId": "e4e4101e-b691-4d59-be7b-cf22a835545c"
      },
      "outputs": [
        {
          "name": "stdout",
          "output_type": "stream",
          "text": [
            "Input English sentence: tom was here all day\n",
            "Actual Marathi Translation:  टॉम दिवसभर इथे होता \n",
            "Predicted Marathi Translation:  टॉम इथे इथे आलो \n"
          ]
        }
      ],
      "source": [
        "k+=1\n",
        "(input_seq, actual_output), _ = next(val_gen)\n",
        "decoded_sentence = decode_sequence(input_seq)\n",
        "print('Input English sentence:', X_test[k:k+1].values[0])\n",
        "print('Actual Marathi Translation:', y_test[k:k+1].values[0][6:-4])\n",
        "print('Predicted Marathi Translation:', decoded_sentence[:-4])"
      ]
    },
    {
      "cell_type": "code",
      "execution_count": null,
      "metadata": {
        "colab": {
          "base_uri": "https://localhost:8080/",
          "height": 68
        },
        "id": "9yAy1rj0_f_0",
        "outputId": "3510b508-0044-4931-a47d-6aeb76accb0a"
      },
      "outputs": [
        {
          "name": "stdout",
          "output_type": "stream",
          "text": [
            "Input English sentence: lots of italians went to australia\n",
            "Actual Marathi Translation:  पुष्कळ इटालियन ऑस्ट्रेलियाला गेले \n",
            "Predicted Marathi Translation:  हे तीस जण होते की मी तीन आहेत \n"
          ]
        }
      ],
      "source": [
        "k+=1\n",
        "(input_seq, actual_output), _ = next(val_gen)\n",
        "decoded_sentence = decode_sequence(input_seq)\n",
        "print('Input English sentence:', X_test[k:k+1].values[0])\n",
        "print('Actual Marathi Translation:', y_test[k:k+1].values[0][6:-4])\n",
        "print('Predicted Marathi Translation:', decoded_sentence[:-4])"
      ]
    },
    {
      "cell_type": "code",
      "execution_count": null,
      "metadata": {
        "colab": {
          "base_uri": "https://localhost:8080/",
          "height": 68
        },
        "id": "jv9xt5wA_f_4",
        "outputId": "5664f2a6-3b9b-4286-b6a5-10d552c4ec31"
      },
      "outputs": [
        {
          "name": "stdout",
          "output_type": "stream",
          "text": [
            "Input English sentence: do you know toms full name\n",
            "Actual Marathi Translation:  तुला टॉमचं पूर्ण नाव माहीत आहे का \n",
            "Predicted Marathi Translation:  टॉमचं नाव काय माहीत नाही का आहे \n"
          ]
        }
      ],
      "source": [
        "k+=1\n",
        "(input_seq, actual_output), _ = next(val_gen)\n",
        "decoded_sentence = decode_sequence(input_seq)\n",
        "print('Input English sentence:', X_test[k:k+1].values[0])\n",
        "print('Actual Marathi Translation:', y_test[k:k+1].values[0][6:-4])\n",
        "print('Predicted Marathi Translation:', decoded_sentence[:-4])"
      ]
    },
    {
      "cell_type": "code",
      "execution_count": null,
      "metadata": {
        "colab": {
          "base_uri": "https://localhost:8080/",
          "height": 68
        },
        "id": "6cXNnFYH_f_5",
        "outputId": "84106848-dbd6-4687-d070-47ed4b88c4c3"
      },
      "outputs": [
        {
          "name": "stdout",
          "output_type": "stream",
          "text": [
            "Input English sentence: i like your idea\n",
            "Actual Marathi Translation:  मला तुझी आयडिया आवडली \n",
            "Predicted Marathi Translation:  मला तुझी मदत करू दे \n"
          ]
        }
      ],
      "source": [
        "k+=1\n",
        "(input_seq, actual_output), _ = next(val_gen)\n",
        "decoded_sentence = decode_sequence(input_seq)\n",
        "print('Input English sentence:', X_test[k:k+1].values[0])\n",
        "print('Actual Marathi Translation:', y_test[k:k+1].values[0][6:-4])\n",
        "print('Predicted Marathi Translation:', decoded_sentence[:-4])"
      ]
    },
    {
      "cell_type": "code",
      "execution_count": null,
      "metadata": {
        "colab": {
          "base_uri": "https://localhost:8080/",
          "height": 68
        },
        "id": "l7HHq_G8_f_8",
        "outputId": "6d9c73bf-d63b-400b-cac4-8f0e0f411faa"
      },
      "outputs": [
        {
          "name": "stdout",
          "output_type": "stream",
          "text": [
            "Input English sentence: who are you calling\n",
            "Actual Marathi Translation:  कोणाला फोन करत आहेस \n",
            "Predicted Marathi Translation:  तुला कोण कोणाला आहे \n"
          ]
        }
      ],
      "source": [
        "k+=1\n",
        "(input_seq, actual_output), _ = next(val_gen)\n",
        "decoded_sentence = decode_sequence(input_seq)\n",
        "print('Input English sentence:', X_test[k:k+1].values[0])\n",
        "print('Actual Marathi Translation:', y_test[k:k+1].values[0][6:-4])\n",
        "print('Predicted Marathi Translation:', decoded_sentence[:-4])"
      ]
    },
    {
      "cell_type": "code",
      "execution_count": null,
      "metadata": {
        "colab": {
          "base_uri": "https://localhost:8080/",
          "height": 68
        },
        "id": "kMMuHC8A_f_-",
        "outputId": "26b7396c-2b25-48c5-db86-2c9e7a24824f"
      },
      "outputs": [
        {
          "name": "stdout",
          "output_type": "stream",
          "text": [
            "Input English sentence: i know tom very well\n",
            "Actual Marathi Translation:  मी टॉमला अगदी बर्‍यापैकी ओळखते \n",
            "Predicted Marathi Translation:  मला अजूनही फोन करतोय \n"
          ]
        }
      ],
      "source": [
        "k+=1\n",
        "(input_seq, actual_output), _ = next(val_gen)\n",
        "decoded_sentence = decode_sequence(input_seq)\n",
        "print('Input English sentence:', X_test[k:k+1].values[0])\n",
        "print('Actual Marathi Translation:', y_test[k:k+1].values[0][6:-4])\n",
        "print('Predicted Marathi Translation:', decoded_sentence[:-4])"
      ]
    },
    {
      "cell_type": "code",
      "execution_count": null,
      "metadata": {
        "colab": {
          "base_uri": "https://localhost:8080/",
          "height": 68
        },
        "id": "gmp1zJPg_f__",
        "outputId": "4690586c-cc11-4d1d-84d9-73f80dc96dec"
      },
      "outputs": [
        {
          "name": "stdout",
          "output_type": "stream",
          "text": [
            "Input English sentence: many americans did not have jobs\n",
            "Actual Marathi Translation:  पुष्कळ अमेरिकनांकडे नोकर्‍या नव्हत्या \n",
            "Predicted Marathi Translation:  अमेरिकन देशांमध्ये देशांमध्ये लोकप्रिय आहे \n"
          ]
        }
      ],
      "source": [
        "k+=1\n",
        "(input_seq, actual_output), _ = next(val_gen)\n",
        "decoded_sentence = decode_sequence(input_seq)\n",
        "print('Input English sentence:', X_test[k:k+1].values[0])\n",
        "print('Actual Marathi Translation:', y_test[k:k+1].values[0][6:-4])\n",
        "print('Predicted Marathi Translation:', decoded_sentence[:-4])"
      ]
    },
    {
      "cell_type": "code",
      "execution_count": null,
      "metadata": {
        "colab": {
          "base_uri": "https://localhost:8080/",
          "height": 68
        },
        "id": "R0fK1IdI_gAC",
        "outputId": "d4868204-7123-44b6-9e3f-5b178a48728e"
      },
      "outputs": [
        {
          "name": "stdout",
          "output_type": "stream",
          "text": [
            "Input English sentence: let me come with you\n",
            "Actual Marathi Translation:  मला तुझ्याबरोबर येऊ दे \n",
            "Predicted Marathi Translation:  मला आत ये \n"
          ]
        }
      ],
      "source": [
        "k+=1\n",
        "(input_seq, actual_output), _ = next(val_gen)\n",
        "decoded_sentence = decode_sequence(input_seq)\n",
        "print('Input English sentence:', X_test[k:k+1].values[0])\n",
        "print('Actual Marathi Translation:', y_test[k:k+1].values[0][6:-4])\n",
        "print('Predicted Marathi Translation:', decoded_sentence[:-4])"
      ]
    },
    {
      "cell_type": "code",
      "execution_count": null,
      "metadata": {
        "colab": {
          "base_uri": "https://localhost:8080/",
          "height": 153
        },
        "id": "Wu3Yo19a_gAE",
        "outputId": "0ae66194-aaeb-4990-9444-1e2fdc6b723f"
      },
      "outputs": [
        {
          "name": "stdout",
          "output_type": "stream",
          "text": [
            "Input English sentence: tom doesnt listen to anyone\n",
            "Actual Marathi Translation:  टॉम कोणाचंही ऐकत नाही \n",
            "Predicted Marathi Translation:  टॉम कोणीही ऐकत नाही \n",
            "0.6204032394013997\n"
          ]
        },
        {
          "name": "stderr",
          "output_type": "stream",
          "text": [
            "/usr/local/lib/python3.6/dist-packages/nltk/translate/bleu_score.py:490: UserWarning: \n",
            "Corpus/Sentence contains 0 counts of 2-gram overlaps.\n",
            "BLEU scores might be undesirable; use SmoothingFunction().\n",
            "  warnings.warn(_msg)\n"
          ]
        }
      ],
      "source": [
        "k+=1\n",
        "(input_seq, actual_output), _ = next(val_gen)\n",
        "decoded_sentence = decode_sequence(input_seq)\n",
        "print('Input English sentence:', X_test[k:k+1].values[0])\n",
        "print('Actual Marathi Translation:', y_test[k:k+1].values[0][6:-4])\n",
        "print('Predicted Marathi Translation:', decoded_sentence[:-4])\n",
        "BLEUscore = nltk.translate.bleu_score.sentence_bleu([decoded_sentence[:-4]], X_test[k:k+1].values[0])\n",
        "print(BLEUscore)"
      ]
    },
    {
      "cell_type": "code",
      "execution_count": null,
      "metadata": {
        "id": "vAEpCNEt_gAF"
      },
      "outputs": [],
      "source": []
    }
  ],
  "metadata": {
    "accelerator": "TPU",
    "colab": {
      "provenance": []
    },
    "kernelspec": {
      "display_name": "Python 3",
      "language": "python",
      "name": "python3"
    },
    "language_info": {
      "codemirror_mode": {
        "name": "ipython",
        "version": 3
      },
      "file_extension": ".py",
      "mimetype": "text/x-python",
      "name": "python",
      "nbconvert_exporter": "python",
      "pygments_lexer": "ipython3",
      "version": "3.6.5"
    }
  },
  "nbformat": 4,
  "nbformat_minor": 0
}